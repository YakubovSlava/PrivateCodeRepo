{
 "cells": [
  {
   "cell_type": "markdown",
   "source": [
    "### Проект\n",
    "Суть: создать модель, которая определяла бы тональность финансовой новости, чтобы в дальнейшем использовать эту тональность как индекс для торговли на бирже\n",
    "Подход: Был взят англоязычный датасет FinancialPhrases, который был переведен на русский язык. Данный датасет размечен профессиональными финансистами на тональности.\n",
    "Идея: экстраполировать на работу с русскими источниками.\n",
    "Источники собирались собственноручно, однако они используются для написания статьи в университете, поэтому прикреплять сами источники не могу, однако в ноутбуке видны куски данных\n",
    "P.S. Данная модель должна по идее работать на сервере с ограниченной мощностью, поэтому было решено писать кастомные легковесные модели, а не использовать bert.\n",
    "Тут это не отражено, но при сравнении rubert и лучшей моей модели, выйгрышная разница берта была минимальна, однако обучался и работал он значительно дольше"
   ],
   "metadata": {
    "collapsed": false,
    "pycharm": {
     "name": "#%% md\n"
    }
   }
  },
  {
   "cell_type": "markdown",
   "source": [
    "### Импорт необходимых библиотек"
   ],
   "metadata": {
    "collapsed": false,
    "pycharm": {
     "name": "#%% md\n"
    }
   }
  },
  {
   "cell_type": "code",
   "execution_count": 1,
   "outputs": [
    {
     "name": "stderr",
     "output_type": "stream",
     "text": [
      "[nltk_data] Downloading package stopwords to\n",
      "[nltk_data]     C:\\Users\\Admin\\AppData\\Roaming\\nltk_data...\n",
      "[nltk_data]   Package stopwords is already up-to-date!\n"
     ]
    }
   ],
   "source": [
    "import pandas as pd\n",
    "import pandas as pd\n",
    "import numpy as np\n",
    "from tqdm import tqdm\n",
    "import nltk\n",
    "from nltk.corpus import stopwords\n",
    "nltk.download('stopwords')\n",
    "import pymorphy2"
   ],
   "metadata": {
    "collapsed": false,
    "pycharm": {
     "name": "#%%\n"
    }
   }
  },
  {
   "cell_type": "code",
   "execution_count": 2,
   "metadata": {},
   "outputs": [],
   "source": [
    "from tqdm import tqdm"
   ]
  },
  {
   "cell_type": "code",
   "execution_count": 3,
   "metadata": {},
   "outputs": [],
   "source": [
    "from gensim.models import Word2Vec"
   ]
  },
  {
   "cell_type": "markdown",
   "source": [
    "### Чтение данных для обучения модели"
   ],
   "metadata": {
    "collapsed": false,
    "pycharm": {
     "name": "#%% md\n"
    }
   }
  },
  {
   "cell_type": "code",
   "execution_count": 33,
   "metadata": {},
   "outputs": [
    {
     "data": {
      "text/plain": [
       "'Международное предприятие электронной промышленности Elcoteq уволило десятки сотрудников со своего таллиннского предприятия; в отличие от предыдущих увольнений, предприятие заключило договоры с офисными работниками, сообщает ежедневная газета Postimees. '"
      ]
     },
     "execution_count": 33,
     "metadata": {},
     "output_type": "execute_result"
    }
   ],
   "source": [
    "data = pd.read_csv('FinancialPhrase.csv')\n",
    "data[data.sentiment==0].text.iloc[0]"
   ]
  },
  {
   "cell_type": "code",
   "execution_count": 37,
   "metadata": {},
   "outputs": [
    {
     "data": {
      "text/html": [
       "<div>\n",
       "<style scoped>\n",
       "    .dataframe tbody tr th:only-of-type {\n",
       "        vertical-align: middle;\n",
       "    }\n",
       "\n",
       "    .dataframe tbody tr th {\n",
       "        vertical-align: top;\n",
       "    }\n",
       "\n",
       "    .dataframe thead th {\n",
       "        text-align: right;\n",
       "    }\n",
       "</style>\n",
       "<table border=\"1\" class=\"dataframe\">\n",
       "  <thead>\n",
       "    <tr style=\"text-align: right;\">\n",
       "      <th></th>\n",
       "      <th>text</th>\n",
       "      <th>sentiment</th>\n",
       "    </tr>\n",
       "  </thead>\n",
       "  <tbody>\n",
       "    <tr>\n",
       "      <th>0</th>\n",
       "      <td>По словам Грана, компания не планирует перенос...</td>\n",
       "      <td>1</td>\n",
       "    </tr>\n",
       "    <tr>\n",
       "      <th>1</th>\n",
       "      <td>Технополис планирует поэтапно развивать террит...</td>\n",
       "      <td>1</td>\n",
       "    </tr>\n",
       "    <tr>\n",
       "      <th>2</th>\n",
       "      <td>Международное предприятие электронной промышле...</td>\n",
       "      <td>0</td>\n",
       "    </tr>\n",
       "    <tr>\n",
       "      <th>3</th>\n",
       "      <td>С новым производственным комплексом компания у...</td>\n",
       "      <td>2</td>\n",
       "    </tr>\n",
       "    <tr>\n",
       "      <th>4</th>\n",
       "      <td>Согласно обновленной стратегии компании на 200...</td>\n",
       "      <td>2</td>\n",
       "    </tr>\n",
       "    <tr>\n",
       "      <th>...</th>\n",
       "      <td>...</td>\n",
       "      <td>...</td>\n",
       "    </tr>\n",
       "    <tr>\n",
       "      <th>4650</th>\n",
       "      <td>LONDON MarketWatch -- Цены на акции в понедель...</td>\n",
       "      <td>0</td>\n",
       "    </tr>\n",
       "    <tr>\n",
       "      <th>4651</th>\n",
       "      <td>Продажи пива \"Ринкускяй\" снизились на 6,5 проц...</td>\n",
       "      <td>1</td>\n",
       "    </tr>\n",
       "    <tr>\n",
       "      <th>4652</th>\n",
       "      <td>Операционная прибыль снизилась с 68,8 млн. евр...</td>\n",
       "      <td>0</td>\n",
       "    </tr>\n",
       "    <tr>\n",
       "      <th>4653</th>\n",
       "      <td>Чистый оборот бумажного сегмента во втором ква...</td>\n",
       "      <td>0</td>\n",
       "    </tr>\n",
       "    <tr>\n",
       "      <th>4654</th>\n",
       "      <td>Продажи в Финляндии в январе снизились на 10,5...</td>\n",
       "      <td>0</td>\n",
       "    </tr>\n",
       "  </tbody>\n",
       "</table>\n",
       "<p>4655 rows × 2 columns</p>\n",
       "</div>"
      ],
      "text/plain": [
       "                                                   text  sentiment\n",
       "0     По словам Грана, компания не планирует перенос...          1\n",
       "1     Технополис планирует поэтапно развивать террит...          1\n",
       "2     Международное предприятие электронной промышле...          0\n",
       "3     С новым производственным комплексом компания у...          2\n",
       "4     Согласно обновленной стратегии компании на 200...          2\n",
       "...                                                 ...        ...\n",
       "4650  LONDON MarketWatch -- Цены на акции в понедель...          0\n",
       "4651  Продажи пива \"Ринкускяй\" снизились на 6,5 проц...          1\n",
       "4652  Операционная прибыль снизилась с 68,8 млн. евр...          0\n",
       "4653  Чистый оборот бумажного сегмента во втором ква...          0\n",
       "4654  Продажи в Финляндии в январе снизились на 10,5...          0\n",
       "\n",
       "[4655 rows x 2 columns]"
      ]
     },
     "execution_count": 37,
     "metadata": {},
     "output_type": "execute_result"
    }
   ],
   "source": [
    "data"
   ]
  },
  {
   "cell_type": "markdown",
   "source": [
    "Решается задача мультиклассовой классификации"
   ],
   "metadata": {
    "collapsed": false,
    "pycharm": {
     "name": "#%% md\n"
    }
   }
  },
  {
   "cell_type": "code",
   "execution_count": 5,
   "metadata": {},
   "outputs": [
    {
     "data": {
      "text/plain": [
       "'Миниатюрная ссылка выводит пользователей на мошеннический сайт, обещая, что пользователи могут заработать тысячи долларов, став рекламодателем Google ( NASDAQ : GOOG ) наличными . '"
      ]
     },
     "execution_count": 5,
     "metadata": {},
     "output_type": "execute_result"
    }
   ],
   "source": [
    "data.text[data.sentiment==0].iloc[1]"
   ]
  },
  {
   "cell_type": "markdown",
   "source": [
    "### Препроцессинг текста.\n",
    "Данный этап выглядит избыточным, однако тексты действительно большие и парсились с источников, где присутствуют много изменений от авторов статей, от всего этого было необходимо почистить текст\n",
    "P.S. Более эффективно использовать регулярки как во второй дз, однако этот проект делался заранее\n",
    "Из всех текстов удалялись стоп слова"
   ],
   "metadata": {
    "collapsed": false,
    "pycharm": {
     "name": "#%% md\n"
    }
   }
  },
  {
   "cell_type": "code",
   "execution_count": 16,
   "metadata": {},
   "outputs": [],
   "source": [
    "class preprocessor():\n",
    "    def __init__(self, texts):\n",
    "        self.texts = texts\n",
    "        self.new_texts = []\n",
    "    def main(self):\n",
    "        new_texts = []\n",
    "        for sentence in self.texts:\n",
    "            temp_sentence = sentence.lower()\n",
    "            temp_sentence = temp_sentence.replace('\\t', ' ')\n",
    "            temp_sentence = temp_sentence.replace('-', '')\n",
    "            temp_sentence = temp_sentence.replace('—', ' ')\n",
    "            temp_sentence = temp_sentence.replace('\\r\\n', ' ')\n",
    "            temp_sentence = temp_sentence.replace('\\n', ' ')\n",
    "            temp_sentence = temp_sentence.replace('\\r', ' ')\n",
    "            temp_sentence = temp_sentence.replace('\\xa0', ' ')\n",
    "            temp_sentence = temp_sentence.replace('!', '')\n",
    "            temp_sentence = temp_sentence.replace('не ', 'не')\n",
    "            temp_sentence = temp_sentence.replace('.', '')\n",
    "            temp_sentence = temp_sentence.replace('?', '')\n",
    "            temp_sentence = temp_sentence.replace(',', '')\n",
    "            temp_sentence = temp_sentence.replace(';', '')\n",
    "            temp_sentence = temp_sentence.replace(':', '')\n",
    "            temp_sentence = temp_sentence.replace('\"', '')\n",
    "            temp_sentence = temp_sentence.replace(' - ', '')\n",
    "            temp_sentence = temp_sentence.replace('(', '')\n",
    "            temp_sentence = temp_sentence.replace(')', '')\n",
    "            temp_sentence = temp_sentence.replace('#', ' ')\n",
    "            temp_sentence = temp_sentence.replace('@', '')\n",
    "            temp_sentence = temp_sentence.replace('&', '')\n",
    "            temp_sentence = temp_sentence.replace('%', ' процент ')\n",
    "            temp_sentence = temp_sentence.replace('«', '')\n",
    "            temp_sentence = temp_sentence.replace('»', '')\n",
    "            temp_sentence = temp_sentence.replace('   ', '')\n",
    "            temp_sentence = temp_sentence.replace('  ', '')\n",
    "            temp_sentence = temp_sentence.replace('  ', '')\n",
    "            split_sentence = temp_sentence.split(' ')\n",
    "            for num_of_word in range(len(split_sentence)):\n",
    "                if split_sentence[num_of_word] == \"\":\n",
    "                    continue\n",
    "                if split_sentence[num_of_word][0] == \"$\":\n",
    "                    split_sentence[num_of_word] = 'цена_в_долларах'\n",
    "                if split_sentence[num_of_word][-2:] == \"-й\":\n",
    "                    split_sentence[num_of_word] = 'номер_по_счету'\n",
    "                \n",
    "                if split_sentence[num_of_word].isdigit():\n",
    "                    check_year = int(split_sentence[num_of_word])\n",
    "                    if check_year>1900 and check_year<2100:\n",
    "                        split_sentence[num_of_word] = 'номер_года'\n",
    "                    else:\n",
    "                        split_sentence[num_of_word] = 'число'\n",
    "\n",
    "            new_texts.append(split_sentence)\n",
    "        self.new_texts = new_texts\n",
    "        return(new_texts)\n",
    "    def drop_stop_words(self):\n",
    "        morph = pymorphy2.MorphAnalyzer()\n",
    "        sw = stopwords.words(\"russian\")\n",
    "        new_texts = []\n",
    "        for sentence_num in tqdm(range(len(self.new_texts))):\n",
    "            new_sentence = []\n",
    "            for token in self.new_texts[sentence_num]:\n",
    "                if token not in sw:\n",
    "                    new_sentence.append(morph.parse(token)[0].normal_form)\n",
    "            new_texts.append(new_sentence)\n",
    "        self.new_texts = new_texts\n",
    "        return(new_texts)"
   ]
  },
  {
   "cell_type": "code",
   "execution_count": 17,
   "metadata": {},
   "outputs": [
    {
     "name": "stderr",
     "output_type": "stream",
     "text": [
      "100%|█████████████████████████████████████████████████████████████████████████████████████████████████████████████████████████████████████████████████████████████████████████████████████████████████████████████████████████████████████████████████████████████████████████████| 4655/4655 [00:08<00:00, 525.51it/s]\n"
     ]
    }
   ],
   "source": [
    "texts_pr = preprocessor(np.array(data.text))\n",
    "texts_pr.main()\n",
    "preprocessed_texts = texts_pr.drop_stop_words()"
   ]
  },
  {
   "cell_type": "markdown",
   "metadata": {
    "pycharm": {
     "name": "#%% md\n"
    }
   },
   "source": [
    "### Загрузка боевых данных, для обучения W2V.\n",
    "Это необходимо для качественного обучения данной модели. Ибо FinancialPhrases сам по себе является небольшим датасетом, который можно дообогатить боевыми данными"
   ]
  },
  {
   "cell_type": "code",
   "execution_count": 5,
   "metadata": {},
   "outputs": [],
   "source": [
    "all_news = list(np.load('../newspr3.npy', allow_pickle=True))"
   ]
  },
  {
   "cell_type": "code",
   "execution_count": 8,
   "metadata": {},
   "outputs": [
    {
     "name": "stderr",
     "output_type": "stream",
     "text": [
      "<ipython-input-8-96563a6fa0dd>:1: VisibleDeprecationWarning: Creating an ndarray from ragged nested sequences (which is a list-or-tuple of lists-or-tuples-or ndarrays with different lengths or shapes) is deprecated. If you meant to do this, you must specify 'dtype=object' when creating the ndarray\n",
      "  np.array(all_news).shape\n"
     ]
    },
    {
     "data": {
      "text/plain": [
       "(85174,)"
      ]
     },
     "execution_count": 8,
     "metadata": {},
     "output_type": "execute_result"
    }
   ],
   "source": [
    "np.array(all_news).shape"
   ]
  },
  {
   "cell_type": "code",
   "execution_count": 9,
   "metadata": {},
   "outputs": [
    {
     "data": {
      "text/plain": [
       "(42528971, 50072720)"
      ]
     },
     "execution_count": 9,
     "metadata": {},
     "output_type": "execute_result"
    }
   ],
   "source": [
    "w2v_model = Word2Vec(min_count=3, window=5, size=100, sg=1)\n",
    "w2v_model.build_vocab(all_news)\n",
    "w2v_model.train(all_news, total_examples=len(all_news), epochs=w2v_model.epochs)"
   ]
  },
  {
   "cell_type": "code",
   "execution_count": 14,
   "metadata": {},
   "outputs": [],
   "source": [
    "from gensim.test.utils import datapath\n",
    "from gensim.models import KeyedVectors"
   ]
  },
  {
   "cell_type": "code",
   "execution_count": 13,
   "metadata": {},
   "outputs": [],
   "source": [
    "w2v_model.wv.save('w2v.wordvectors')"
   ]
  },
  {
   "cell_type": "code",
   "execution_count": 15,
   "metadata": {},
   "outputs": [],
   "source": [
    "ww = KeyedVectors.load('w2v.wordvectors', mmap='r')"
   ]
  },
  {
   "cell_type": "code",
   "execution_count": 18,
   "metadata": {},
   "outputs": [
    {
     "data": {
      "text/plain": [
       "array([-0.07581645, -0.5128714 ,  0.24566302, -0.7980684 ,  0.3236102 ,\n",
       "        0.6157878 , -0.59635556,  0.00649763, -0.6816085 ,  0.07082226,\n",
       "        0.2273858 , -0.5499194 ,  0.24390061,  0.39678103,  0.11186777,\n",
       "       -1.1177908 ,  0.21396928, -0.30018717,  0.08768582,  1.1681544 ,\n",
       "        1.241613  ,  0.7619373 ,  0.48136365, -0.3935712 , -0.91161305,\n",
       "       -0.6830255 , -0.22575016,  0.13961075,  0.40441942, -1.0528724 ,\n",
       "       -0.13307463, -0.23911558,  0.134042  , -0.5379116 , -0.20124891,\n",
       "       -0.17978483,  0.14343296, -0.01520712, -0.44743267, -0.78636444,\n",
       "        0.9556801 , -0.6792769 , -0.6201619 ,  0.40881643,  1.0600833 ,\n",
       "        0.07707624,  0.44328293, -0.03353289, -0.39486638, -0.59805083,\n",
       "        0.35039696,  0.48223284,  0.4588789 ,  0.2193207 , -0.3918461 ,\n",
       "        0.40655243, -0.83356935,  0.8394476 , -0.00470783,  0.307627  ,\n",
       "       -0.62666   ,  0.74088293, -0.07536972, -0.2224016 ,  0.17686786,\n",
       "        0.5948644 ,  0.01770956,  0.09050272,  0.06980012, -0.16583937,\n",
       "       -0.81970865, -0.7813572 , -0.1760061 ,  0.6719604 ,  0.7670432 ,\n",
       "       -0.4337415 ,  0.07490958, -0.14784952,  0.32671732,  0.08994526,\n",
       "        0.39114153,  0.4061645 ,  0.14661463,  0.1517023 , -0.23726247,\n",
       "       -0.40499866,  0.00990033,  0.19756147, -1.0449702 ,  0.2991659 ,\n",
       "       -0.10916296, -0.30482337,  0.14123689, -0.9307945 ,  0.30000344,\n",
       "       -0.14123382,  0.4315457 , -0.25736067, -0.3041299 ,  0.20551364],\n",
       "      dtype=float32)"
      ]
     },
     "execution_count": 18,
     "metadata": {},
     "output_type": "execute_result"
    }
   ],
   "source": [
    "ww['фондовый']"
   ]
  },
  {
   "cell_type": "markdown",
   "source": [
    "### Суммаризация w2v для самой базовой модели\n",
    "В качестве базовых моделей сравнивались бустинг и дерево в определении тноальности по суммаризации word2vec"
   ],
   "metadata": {
    "collapsed": false,
    "pycharm": {
     "name": "#%% md\n"
    }
   }
  },
  {
   "cell_type": "code",
   "execution_count": 18,
   "metadata": {},
   "outputs": [],
   "source": [
    "emb_size = 100\n",
    "texts = []\n",
    "for text in preprocessed_texts:\n",
    "    q = np.zeros(emb_size)\n",
    "    counter = 0\n",
    "    for word in text:\n",
    "        if word in w2v_model.wv.vocab.keys():\n",
    "            counter += 1\n",
    "            q += w2v_model.wv[word]\n",
    "        if counter:\n",
    "            q/=counter\n",
    "    texts.append(q)"
   ]
  },
  {
   "cell_type": "code",
   "execution_count": 19,
   "metadata": {},
   "outputs": [],
   "source": [
    "X = np.array(texts)\n",
    "y = np.array(data.sentiment)"
   ]
  },
  {
   "cell_type": "code",
   "execution_count": 20,
   "metadata": {},
   "outputs": [],
   "source": [
    "from sklearn.linear_model import LogisticRegression\n",
    "from sklearn.model_selection import train_test_split\n",
    "from sklearn.metrics import classification_report\n",
    "from xgboost import XGBClassifier"
   ]
  },
  {
   "cell_type": "code",
   "execution_count": 21,
   "metadata": {},
   "outputs": [],
   "source": [
    "from sklearn.tree import DecisionTreeClassifier\n",
    "from sklearn.ensemble import AdaBoostClassifier"
   ]
  },
  {
   "cell_type": "code",
   "execution_count": 22,
   "metadata": {},
   "outputs": [],
   "source": [
    "X_train, X_test, y_train, y_test = train_test_split( X, y, test_size=0.25)"
   ]
  },
  {
   "cell_type": "markdown",
   "source": [
    "### Обучение самой базовой модели"
   ],
   "metadata": {
    "collapsed": false,
    "pycharm": {
     "name": "#%% md\n"
    }
   }
  },
  {
   "cell_type": "code",
   "execution_count": null,
   "metadata": {},
   "outputs": [],
   "source": [
    "base_clf = DecisionTreeClassifier(max_depth=3)\n",
    "model = XGBClassifier(n_estimators=300, max_depth=4, learning_rate=0.3)\n",
    "model.fit(X_train, y_train)"
   ]
  },
  {
   "cell_type": "markdown",
   "metadata": {},
   "source": [
    "### Базовый скор"
   ]
  },
  {
   "cell_type": "code",
   "execution_count": 16,
   "metadata": {},
   "outputs": [
    {
     "name": "stdout",
     "output_type": "stream",
     "text": [
      "              precision    recall  f1-score   support\n",
      "\n",
      "           0       0.28      0.12      0.17       152\n",
      "           1       0.68      0.85      0.76       699\n",
      "           2       0.42      0.29      0.34       313\n",
      "\n",
      "    accuracy                           0.61      1164\n",
      "   macro avg       0.46      0.42      0.43      1164\n",
      "weighted avg       0.56      0.61      0.57      1164\n",
      "\n"
     ]
    }
   ],
   "source": [
    "print(classification_report(y_test, model.predict(X_test)))"
   ]
  },
  {
   "cell_type": "markdown",
   "metadata": {},
   "source": [
    "##### Видно, что очень хорошая точность на 1 классе, так как он превалирует"
   ]
  },
  {
   "cell_type": "code",
   "execution_count": 25,
   "metadata": {},
   "outputs": [
    {
     "data": {
      "text/plain": [
       "LogisticRegression(max_iter=1000)"
      ]
     },
     "execution_count": 25,
     "metadata": {},
     "output_type": "execute_result"
    }
   ],
   "source": [
    "base_clf = LogisticRegression(max_iter=1000)\n",
    "model = XGBClassifier(n_estimators=300, max_depth=4, learning_rate=0.3)\n",
    "base_clf.fit(X_train, y_train)"
   ]
  },
  {
   "cell_type": "code",
   "execution_count": 35,
   "metadata": {},
   "outputs": [
    {
     "name": "stdout",
     "output_type": "stream",
     "text": [
      "              precision    recall  f1-score   support\n",
      "\n",
      "           0       1.00      0.00      0.00       151\n",
      "           1       0.58      1.00      0.74       676\n",
      "           2       1.00      0.00      0.01       337\n",
      "\n",
      "    accuracy                           0.58      1164\n",
      "   macro avg       0.86      0.33      0.25      1164\n",
      "weighted avg       0.76      0.58      0.43      1164\n",
      "\n"
     ]
    }
   ],
   "source": [
    "print(classification_report(y_test, base_clf.predict(X_test), zero_division=True))"
   ]
  },
  {
   "cell_type": "markdown",
   "source": [
    "### Результаты также не радуют"
   ],
   "metadata": {
    "collapsed": false,
    "pycharm": {
     "name": "#%% md\n"
    }
   }
  },
  {
   "cell_type": "markdown",
   "metadata": {},
   "source": [
    "### Напишем полносвязную нейронку"
   ]
  },
  {
   "cell_type": "code",
   "execution_count": 27,
   "metadata": {},
   "outputs": [],
   "source": [
    "import numpy as np\n",
    "import matplotlib.pyplot as plt\n",
    "import tqdm\n",
    "import torch\n",
    "import torch.nn as nn\n",
    "from IPython.display import clear_output\n",
    "import matplotlib.pyplot as plt\n",
    "%matplotlib inline "
   ]
  },
  {
   "cell_type": "code",
   "execution_count": 28,
   "metadata": {},
   "outputs": [],
   "source": [
    "from torch.utils.data import Dataset, DataLoader"
   ]
  },
  {
   "cell_type": "code",
   "execution_count": 19,
   "metadata": {},
   "outputs": [],
   "source": [
    "class FCNN(nn.Module):\n",
    "    def __init__(self, input_shape, num_classes):\n",
    "        super(FCNN, self).__init__()\n",
    "        self.fc1 = nn.Linear(input_shape, 512)\n",
    "        self.fc2 = nn.Linear(512, 256)\n",
    "        self.fc3 = nn.Linear(256, num_classes)\n",
    "        self.dropout = nn.Dropout(0.3)\n",
    "        self.relu = nn.ReLU()\n",
    "        self.fun = nn.Softmax()\n",
    "    def forward(self, x):\n",
    "        x = self.dropout(x)\n",
    "        x = self.fc1(x)\n",
    "        x = self.relu(x)\n",
    "        x = self.fc2(x)\n",
    "        x = self.relu(x)\n",
    "        x = self.fc3(x)\n",
    "        return(x)\n",
    "    def get_loss(self, X, y):\n",
    "        weight = torch.tensor([((y!=0).int()).sum()/(((y==0).int()).sum()),\n",
    "                  ((y!=1).int()).sum()/(((y==1).int()).sum()),\n",
    "                  ((y!=2).int()).sum()/(((y==2).int()).sum())])\n",
    "        pred = self.forward(X)\n",
    "        y = y.clone().detach()\n",
    "        loss = nn.CrossEntropyLoss(weight=weight)\n",
    "        return(loss(pred, y))"
   ]
  },
  {
   "cell_type": "code",
   "execution_count": null,
   "metadata": {
    "pycharm": {
     "is_executing": true
    }
   },
   "outputs": [],
   "source": [
    "class dataset(Dataset):\n",
    "    def __init__(self, X, y):\n",
    "        self.X = torch.tensor(X).float()\n",
    "        self.y = y\n",
    "    def __len__(self):\n",
    "        return(self.X.shape[0])\n",
    "    def __getitem__(self, idx):\n",
    "        return(self.X[idx], self.y[idx])"
   ]
  },
  {
   "cell_type": "code",
   "execution_count": 30,
   "metadata": {},
   "outputs": [],
   "source": [
    "X = np.array(texts)\n",
    "y = np.array(data.sentiment)"
   ]
  },
  {
   "cell_type": "code",
   "execution_count": 22,
   "metadata": {},
   "outputs": [],
   "source": [
    "num_epochs = 30\n",
    "batch_size = 100\n",
    "lr = 1e-4\n",
    "train_dataset = dataset(X_train, y_train)\n",
    "train_dataloader = DataLoader(train_dataset, batch_size=batch_size,\n",
    "                        shuffle=True, num_workers=0, drop_last=True)\n",
    "test_dataset = dataset(X_test, y_test)\n",
    "test_dataloader = DataLoader(test_dataset, batch_size=batch_size,\n",
    "                        shuffle=True, num_workers=0, drop_last=True)\n",
    "model = FCNN(X.shape[1], 3)\n",
    "optimizer = torch.optim.Adam(model.parameters(), \n",
    "                       lr=lr)\n"
   ]
  },
  {
   "cell_type": "code",
   "execution_count": 23,
   "metadata": {},
   "outputs": [],
   "source": [
    "train_losses = []\n",
    "val_losses = []"
   ]
  },
  {
   "cell_type": "markdown",
   "metadata": {
    "pycharm": {
     "name": "#%% md\n"
    }
   },
   "source": [
    "##### Тут можно было бы вынести обучение в отдельную функцию, так и будет сделано в следующих доработках"
   ]
  },
  {
   "cell_type": "code",
   "execution_count": 122,
   "metadata": {},
   "outputs": [
    {
     "data": {
      "image/png": "[encoded data removed]",
      "text/plain": [
       "<Figure size 720x432 with 1 Axes>"
      ]
     },
     "metadata": {
      "needs_background": "light"
     },
     "output_type": "display_data"
    }
   ],
   "source": [
    "for i in range(num_epochs):\n",
    "    train_loss=0\n",
    "    val_loss = 0\n",
    "    model.train(True)\n",
    "    for X, y in train_dataloader:\n",
    "        optimizer.zero_grad()\n",
    "        loss = model.get_loss(X, y)\n",
    "        loss.backward()\n",
    "        optimizer.step()\n",
    "        train_loss+=loss/len(train_dataloader)\n",
    "    train_losses.append(train_loss)\n",
    "    \n",
    "    model.train(False)\n",
    "    for X, y in test_dataloader:\n",
    "        loss = model.get_loss(X, y)\n",
    "        val_loss+=loss/len(test_dataloader)\n",
    "    val_losses.append(val_loss)\n",
    "    \n",
    "    clear_output()\n",
    "    plt.figure(figsize = (10, 6))\n",
    "    plt.plot(train_losses, label = 'Train loss', color = 'blue')\n",
    "    plt.plot(val_losses, label = 'Val loss', color = 'orange')\n",
    "    plt.legend()\n",
    "    plt.ylabel('Loss')\n",
    "    plt.show()"
   ]
  },
  {
   "cell_type": "code",
   "execution_count": 123,
   "metadata": {},
   "outputs": [
    {
     "data": {
      "text/plain": [
       "tensor(1)"
      ]
     },
     "execution_count": 123,
     "metadata": {},
     "output_type": "execute_result"
    }
   ],
   "source": [
    "preds = model.forward(torch.tensor(X_test).float())\n",
    "preds.argmax(axis=1).max()"
   ]
  },
  {
   "cell_type": "code",
   "execution_count": 124,
   "metadata": {},
   "outputs": [
    {
     "name": "stdout",
     "output_type": "stream",
     "text": [
      "              precision    recall  f1-score   support\n",
      "\n",
      "           0       0.12      0.91      0.21       140\n",
      "           1       0.74      0.13      0.22       692\n",
      "           2       1.00      0.00      0.00       332\n",
      "\n",
      "    accuracy                           0.19      1164\n",
      "   macro avg       0.62      0.35      0.14      1164\n",
      "weighted avg       0.74      0.19      0.16      1164\n",
      "\n"
     ]
    }
   ],
   "source": [
    "print(classification_report(y_test,preds.argmax(axis=1).detach().numpy(), zero_division=True))"
   ]
  },
  {
   "cell_type": "markdown",
   "metadata": {},
   "source": [
    "### Поиграем со сложными нейронками"
   ]
  },
  {
   "cell_type": "markdown",
   "metadata": {},
   "source": [
    "##### На вход будем подавать масиив массивов, отформатированный для стандарной подачи в нейронные сети attention, self-attenion, one-layer-transformer\n",
    "далее идет однообразный код для выявления лучше модели для решения задачи"
   ]
  },
  {
   "cell_type": "code",
   "execution_count": 31,
   "metadata": {},
   "outputs": [],
   "source": [
    "emb_size = 100\n",
    "full_texts = []\n",
    "for text in preprocessed_texts:\n",
    "    sentence = []\n",
    "    q = np.ones(emb_size)\n",
    "    for word in text:\n",
    "        if word in w2v_model.wv.vocab.keys():\n",
    "            sentence.append(w2v_model.wv[word])\n",
    "        else:\n",
    "            sentence.append(q)\n",
    "    full_texts.append(sentence)"
   ]
  },
  {
   "cell_type": "code",
   "execution_count": 32,
   "metadata": {},
   "outputs": [],
   "source": [
    "max_length = np.array([len(x) for x in full_texts]).max()"
   ]
  },
  {
   "cell_type": "code",
   "execution_count": 33,
   "metadata": {},
   "outputs": [],
   "source": [
    "format_full_text = []\n",
    "for text in full_texts:\n",
    "    temp = np.zeros((45, 100))\n",
    "    temp[-len(text):] = text\n",
    "    format_full_text.append(temp)"
   ]
  },
  {
   "cell_type": "code",
   "execution_count": 34,
   "metadata": {},
   "outputs": [],
   "source": [
    "format_full_text = np.array(format_full_text)"
   ]
  },
  {
   "cell_type": "code",
   "execution_count": 35,
   "metadata": {},
   "outputs": [],
   "source": [
    "batch_size = 100\n",
    "\n",
    "X = np.array(format_full_text)\n",
    "y = np.array(data.sentiment)\n",
    "X_train, X_test, y_train, y_test = train_test_split( X, y, test_size=0.25)\n",
    "\n",
    "train_dataset = dataset(X_train, y_train)\n",
    "train_dataloader = DataLoader(train_dataset, batch_size=batch_size,\n",
    "                        shuffle=True, num_workers=0, drop_last=True)\n",
    "test_dataset = dataset(X_test, y_test)\n",
    "test_dataloader = DataLoader(test_dataset, batch_size=batch_size,\n",
    "                        shuffle=True, num_workers=0, drop_last=True)"
   ]
  },
  {
   "cell_type": "markdown",
   "metadata": {},
   "source": [
    "#### Attention network"
   ]
  },
  {
   "cell_type": "code",
   "execution_count": 36,
   "metadata": {},
   "outputs": [],
   "source": [
    "class attention(nn.Module):\n",
    "    def __init__(self, input_shape, num_classes):\n",
    "        super(attention, self).__init__()\n",
    "        self.find_weight = nn.Linear(input_shape, 1)\n",
    "        self.linear1 = nn.Linear(input_shape, 80)\n",
    "        self.linear2 = nn.Linear(80, 30)\n",
    "        self.linear3 = nn.Linear(30, num_classes)\n",
    "        self.dropout = nn.Dropout(0.2)\n",
    "        self.relu = nn.ReLU()\n",
    "        self.softmax = nn.Softmax(dim=-1)\n",
    "    def forward(self, x):\n",
    "        y = self.dropout(x)\n",
    "        weight = self.find_weight(y).squeeze(-1)\n",
    "        norm_weight = self.softmax(weight).unsqueeze(1)\n",
    "        weighted = torch.matmul(norm_weight, x).squeeze(1)\n",
    "        output = self.dropout(weighted)\n",
    "        output = self.linear1(output)\n",
    "        output = self.relu(output)\n",
    "        output = self.linear2(output)\n",
    "        output = self.relu(output)\n",
    "        output = self.linear3(output)\n",
    "        return(output)\n",
    "    def get_loss(self, X, y):\n",
    "        weight = torch.tensor([((y!=0).int()).sum()/(((y==0).int()).sum()),\n",
    "                  ((y!=1).int()).sum()/(((y==1).int()).sum()),\n",
    "                  ((y!=2).int()).sum()/(((y==2).int()).sum())])\n",
    "        pred = self.forward(X)\n",
    "        y = y.clone().detach()\n",
    "        loss = nn.CrossEntropyLoss(weight=None)\n",
    "        return(loss(pred, y))"
   ]
  },
  {
   "cell_type": "code",
   "execution_count": 37,
   "metadata": {},
   "outputs": [],
   "source": [
    "m = attention(100, 3)"
   ]
  },
  {
   "cell_type": "code",
   "execution_count": 38,
   "metadata": {},
   "outputs": [
    {
     "data": {
      "text/plain": [
       "torch.Size([100, 3])"
      ]
     },
     "execution_count": 38,
     "metadata": {},
     "output_type": "execute_result"
    }
   ],
   "source": [
    "m.forward(next(iter(train_dataloader))[0]).shape"
   ]
  },
  {
   "cell_type": "code",
   "execution_count": 39,
   "metadata": {},
   "outputs": [
    {
     "data": {
      "text/plain": [
       "tensor(1.0725, grad_fn=<NllLossBackward>)"
      ]
     },
     "execution_count": 39,
     "metadata": {},
     "output_type": "execute_result"
    }
   ],
   "source": [
    "x1, y1 = next(iter(train_dataloader))\n",
    "m.get_loss(x1, y1)"
   ]
  },
  {
   "cell_type": "code",
   "execution_count": 46,
   "metadata": {},
   "outputs": [
    {
     "data": {
      "text/plain": [
       "100"
      ]
     },
     "execution_count": 46,
     "metadata": {},
     "output_type": "execute_result"
    }
   ],
   "source": [
    "X.shape[-1]"
   ]
  },
  {
   "cell_type": "code",
   "execution_count": 40,
   "metadata": {
    "scrolled": true
   },
   "outputs": [
    {
     "data": {
      "image/png": "[encoded data removed]",
      "text/plain": [
       "<Figure size 720x432 with 1 Axes>"
      ]
     },
     "metadata": {
      "needs_background": "light"
     },
     "output_type": "display_data"
    },
    {
     "name": "stdout",
     "output_type": "stream",
     "text": [
      "              precision    recall  f1-score   support\n",
      "\n",
      "           0       0.66      0.72      0.69       132\n",
      "           1       0.85      0.86      0.85       715\n",
      "           2       0.69      0.65      0.67       317\n",
      "\n",
      "    accuracy                           0.79      1164\n",
      "   macro avg       0.73      0.74      0.74      1164\n",
      "weighted avg       0.78      0.79      0.78      1164\n",
      "\n"
     ]
    }
   ],
   "source": [
    "num_epochs = 150\n",
    "batch_size = 200\n",
    "lr = 1e-3\n",
    "train_dataset = dataset(X_train, y_train)\n",
    "train_dataloader = DataLoader(train_dataset, batch_size=batch_size,\n",
    "                        shuffle=True, num_workers=0, drop_last=True)\n",
    "test_dataset = dataset(X_test, y_test)\n",
    "test_dataloader = DataLoader(test_dataset, batch_size=batch_size,\n",
    "                        shuffle=True, num_workers=0, drop_last=True)\n",
    "model = attention(X.shape[-1], 3)\n",
    "optimizer = torch.optim.Adam(model.parameters(), \n",
    "                       lr=lr)\n",
    "\n",
    "train_losses = []\n",
    "val_losses = []\n",
    "\n",
    "for i in range(num_epochs):\n",
    "    train_loss=0\n",
    "    val_loss = 0\n",
    "    model.train(True)\n",
    "    for X, y in train_dataloader:\n",
    "        optimizer.zero_grad()\n",
    "        loss = model.get_loss(X, y)\n",
    "        loss.backward()\n",
    "        optimizer.step()\n",
    "        train_loss+=loss/len(train_dataloader)\n",
    "    train_losses.append(train_loss)\n",
    "    \n",
    "    model.train(False)\n",
    "    for X, y in test_dataloader:\n",
    "        loss = model.get_loss(X, y)\n",
    "        val_loss+=loss/len(test_dataloader)\n",
    "    val_losses.append(val_loss)\n",
    "    \n",
    "    clear_output()\n",
    "    plt.figure(figsize = (10, 6))\n",
    "    plt.plot(train_losses, label = 'Train loss', color = 'blue')\n",
    "    plt.plot(val_losses, label = 'Val loss', color = 'orange')\n",
    "    plt.legend()\n",
    "    plt.ylabel('Loss')\n",
    "    plt.show()\n",
    "    preds = model.forward(torch.tensor(X_test).float())\n",
    "    print(classification_report(y_test,preds.argmax(axis=1).detach().numpy(), zero_division=True))"
   ]
  },
  {
   "cell_type": "code",
   "execution_count": 45,
   "metadata": {},
   "outputs": [],
   "source": [
    "torch.save(model.state_dict(), 'attention_network.pth')"
   ]
  },
  {
   "cell_type": "code",
   "execution_count": 41,
   "metadata": {},
   "outputs": [
    {
     "data": {
      "text/plain": [
       "tensor(2)"
      ]
     },
     "execution_count": 41,
     "metadata": {},
     "output_type": "execute_result"
    }
   ],
   "source": [
    "preds = model.forward(torch.tensor(X_test).float())\n",
    "preds.argmax(axis=1).max()"
   ]
  },
  {
   "cell_type": "code",
   "execution_count": 55,
   "metadata": {},
   "outputs": [
    {
     "data": {
      "text/plain": [
       "tensor([[0.0122, 0.6586, 0.3293],\n",
       "        [0.0638, 0.8923, 0.0439],\n",
       "        [0.1958, 0.7027, 0.1015],\n",
       "        ...,\n",
       "        [0.5712, 0.4214, 0.0075],\n",
       "        [0.4808, 0.4733, 0.0459],\n",
       "        [0.0206, 0.1993, 0.7801]], grad_fn=<SoftmaxBackward>)"
      ]
     },
     "execution_count": 55,
     "metadata": {},
     "output_type": "execute_result"
    }
   ],
   "source": [
    "nn.Softmax(dim=-1)(preds)"
   ]
  },
  {
   "cell_type": "code",
   "execution_count": 42,
   "metadata": {},
   "outputs": [
    {
     "name": "stdout",
     "output_type": "stream",
     "text": [
      "              precision    recall  f1-score   support\n",
      "\n",
      "           0       0.66      0.72      0.69       132\n",
      "           1       0.85      0.86      0.85       715\n",
      "           2       0.69      0.65      0.67       317\n",
      "\n",
      "    accuracy                           0.79      1164\n",
      "   macro avg       0.73      0.74      0.74      1164\n",
      "weighted avg       0.78      0.79      0.78      1164\n",
      "\n"
     ]
    }
   ],
   "source": [
    "print(classification_report(y_test,preds.argmax(axis=1).detach().numpy(), zero_division=True))"
   ]
  },
  {
   "cell_type": "markdown",
   "metadata": {},
   "source": [
    "#### self-attention networks"
   ]
  },
  {
   "cell_type": "code",
   "execution_count": 38,
   "metadata": {},
   "outputs": [],
   "source": [
    "class self_attention(nn.Module):\n",
    "    def __init__(self, input_shape, num_classes):\n",
    "        super(self_attention, self).__init__()\n",
    "        self.find_weight = nn.Linear(input_shape, 1)\n",
    "        self.linear1 = nn.Linear(input_shape, 80)\n",
    "        self.linear2 = nn.Linear(80, 30)\n",
    "        self.linear3 = nn.Linear(30, num_classes)\n",
    "        self.dropout = nn.Dropout(0.2)\n",
    "        self.relu = nn.ReLU()\n",
    "        self.softmax = nn.Softmax(dim=-1)\n",
    "        self.weight_softmax = nn.Softmax(dim=1)\n",
    "    def forward(self, x):\n",
    "        logits = torch.matmul(torch.transpose(x, 1,2), x)\n",
    "        scores = self.weight_softmax(logits)\n",
    "        scored_x = torch.matmul(x, scores)\n",
    "        y = self.dropout(scored_x)\n",
    "        weight = self.find_weight(y).squeeze(-1)\n",
    "        norm_weight = self.softmax(weight).unsqueeze(1)\n",
    "        weighted = torch.matmul(norm_weight, scored_x).squeeze(1)\n",
    "        output = self.dropout(weighted)\n",
    "        output = self.linear1(output)\n",
    "        output = self.relu(output)\n",
    "        output = self.linear2(output)\n",
    "        output = self.relu(output)\n",
    "        output = self.linear3(output)\n",
    "        return(output)\n",
    "    def get_loss(self, X, y):\n",
    "        weight = torch.tensor([((y!=0).int()).sum()/(((y==0).int()).sum()),\n",
    "                  ((y!=1).int()).sum()/(((y==1).int()).sum()),\n",
    "                  ((y!=2).int()).sum()/(((y==2).int()).sum())])\n",
    "        pred = self.forward(X)\n",
    "        y = y.clone().detach()\n",
    "        loss = nn.CrossEntropyLoss(weight=None)\n",
    "        return(loss(pred, y))"
   ]
  },
  {
   "cell_type": "code",
   "execution_count": 39,
   "metadata": {},
   "outputs": [],
   "source": [
    "m = self_attention(100, 3)\n",
    "num_epochs = 150\n",
    "batch_size = 100\n",
    "lr = 1e-3\n",
    "train_dataset = dataset(X_train, y_train)\n",
    "train_dataloader = DataLoader(train_dataset, batch_size=batch_size,\n",
    "                        shuffle=True, num_workers=0, drop_last=True)\n",
    "test_dataset = dataset(X_test, y_test)\n",
    "test_dataloader = DataLoader(test_dataset, batch_size=batch_size,\n",
    "                        shuffle=True, num_workers=0, drop_last=True)"
   ]
  },
  {
   "cell_type": "code",
   "execution_count": 40,
   "metadata": {
    "scrolled": true
   },
   "outputs": [
    {
     "data": {
      "image/png": "[encoded data removed]",
      "text/plain": [
       "<Figure size 720x432 with 1 Axes>"
      ]
     },
     "metadata": {
      "needs_background": "light"
     },
     "output_type": "display_data"
    },
    {
     "name": "stdout",
     "output_type": "stream",
     "text": [
      "              precision    recall  f1-score   support\n",
      "\n",
      "           0       0.50      0.65      0.57       139\n",
      "           1       0.80      0.89      0.85       692\n",
      "           2       0.70      0.45      0.55       333\n",
      "\n",
      "    accuracy                           0.74      1164\n",
      "   macro avg       0.67      0.67      0.65      1164\n",
      "weighted avg       0.74      0.74      0.73      1164\n",
      "\n"
     ]
    }
   ],
   "source": [
    "num_epochs = 150\n",
    "batch_size = 200\n",
    "lr = 1e-3\n",
    "train_dataset = dataset(X_train, y_train)\n",
    "train_dataloader = DataLoader(train_dataset, batch_size=batch_size,\n",
    "                        shuffle=True, num_workers=0, drop_last=True)\n",
    "test_dataset = dataset(X_test, y_test)\n",
    "test_dataloader = DataLoader(test_dataset, batch_size=batch_size,\n",
    "                        shuffle=True, num_workers=0, drop_last=True)\n",
    "model = self_attention(X.shape[-1], 3)\n",
    "optimizer = torch.optim.Adam(model.parameters(), \n",
    "                       lr=lr)\n",
    "\n",
    "\n",
    "\n",
    "train_losses = []\n",
    "val_losses = []\n",
    "\n",
    "for i in range(num_epochs):\n",
    "    train_loss=0\n",
    "    val_loss = 0\n",
    "    model.train(True)\n",
    "    for X, y in train_dataloader:\n",
    "        optimizer.zero_grad()\n",
    "        loss = model.get_loss(X, y)\n",
    "        loss.backward()\n",
    "        optimizer.step()\n",
    "        train_loss+=loss/len(train_dataloader)\n",
    "    train_losses.append(train_loss)\n",
    "    \n",
    "    model.train(False)\n",
    "    for X, y in test_dataloader:\n",
    "        loss = model.get_loss(X, y)\n",
    "        val_loss+=loss/len(test_dataloader)\n",
    "    val_losses.append(val_loss)\n",
    "    \n",
    "    clear_output()\n",
    "    plt.figure(figsize = (10, 6))\n",
    "    plt.plot(train_losses, label = 'Train loss', color = 'blue')\n",
    "    plt.plot(val_losses, label = 'Val loss', color = 'orange')\n",
    "    plt.legend()\n",
    "    plt.ylabel('Loss')\n",
    "    plt.show()\n",
    "    preds = model.forward(torch.tensor(X_test).float())\n",
    "    print(classification_report(y_test,preds.argmax(axis=1).detach().numpy(), zero_division=True))"
   ]
  },
  {
   "cell_type": "code",
   "execution_count": 41,
   "metadata": {},
   "outputs": [
    {
     "data": {
      "text/plain": [
       "'Большая часть постоянных сокращений будет приходиться на фанерный и лесопильный секторы деятельности финской компании на нескольких отечественных фабриках, где в начале этого года она временно уволила около 1200 работников для экономии затрат. '"
      ]
     },
     "execution_count": 41,
     "metadata": {},
     "output_type": "execute_result"
    }
   ],
   "source": [
    "data.text[data.sentiment==0].iloc[250]"
   ]
  },
  {
   "cell_type": "code",
   "execution_count": 42,
   "metadata": {},
   "outputs": [
    {
     "data": {
      "text/plain": [
       "tensor(2)"
      ]
     },
     "execution_count": 42,
     "metadata": {},
     "output_type": "execute_result"
    }
   ],
   "source": [
    "preds = model.forward(torch.tensor(X_test).float())\n",
    "preds.argmax(axis=1).max()"
   ]
  },
  {
   "cell_type": "code",
   "execution_count": 43,
   "metadata": {},
   "outputs": [
    {
     "name": "stdout",
     "output_type": "stream",
     "text": [
      "              precision    recall  f1-score   support\n",
      "\n",
      "           0       0.50      0.65      0.57       139\n",
      "           1       0.80      0.89      0.85       692\n",
      "           2       0.70      0.45      0.55       333\n",
      "\n",
      "    accuracy                           0.74      1164\n",
      "   macro avg       0.67      0.67      0.65      1164\n",
      "weighted avg       0.74      0.74      0.73      1164\n",
      "\n"
     ]
    }
   ],
   "source": [
    "print(classification_report(y_test,preds.argmax(axis=1).detach().numpy(), zero_division=True))"
   ]
  },
  {
   "cell_type": "markdown",
   "metadata": {},
   "source": [
    "### Будем использовать attention network+w2v для определения тональности, поскольку он показывает себя лучше всего"
   ]
  },
  {
   "cell_type": "markdown",
   "source": [
    "Ниже приведен пример использования данной нейронной сети для реальных предсказаний. Код ниже помогает для определения повысится ли цена определенной акции после выхода новости."
   ],
   "metadata": {
    "collapsed": false,
    "pycharm": {
     "name": "#%% md\n"
    }
   }
  },
  {
   "cell_type": "code",
   "execution_count": 26,
   "metadata": {},
   "outputs": [],
   "source": [
    "import os"
   ]
  },
  {
   "cell_type": "markdown",
   "source": [
    "Препроцессинг финансовых новостей, и котировок акций соответствующих этим новостям компаний"
   ],
   "metadata": {
    "collapsed": false,
    "pycharm": {
     "name": "#%% md\n"
    }
   }
  },
  {
   "cell_type": "code",
   "execution_count": 27,
   "metadata": {},
   "outputs": [],
   "source": [
    "complete = pd.DataFrame()\n",
    "for file in os.listdir('../merged'):\n",
    "        temp_df = pd.read_csv('../merged/'+file).rename(columns={\n",
    "                '<TICKER>': 'ticker',\n",
    "                '<PER>' : 'per',\n",
    "                '<DATE>': 'date',\n",
    "                '<TIME>': 'time',\n",
    "                '<OPEN>': 'open', \n",
    "                '<HIGH>': 'high',\n",
    "                '<LOW>': 'low',\n",
    "                '<CLOSE>': 'close',\n",
    "                '<VOL>': 'vol'\n",
    "            })\n",
    "        next_high = temp_df['high'][1:].reset_index()['high']\n",
    "        next_low = temp_df['low'][1:].reset_index()['low']\n",
    "        temp_df = temp_df[:-1]\n",
    "        temp_df['next_high'] = next_high\n",
    "        temp_df['next_low'] = next_low\n",
    "        temp_df = temp_df.dropna()\n",
    "        complete = complete.append(temp_df)"
   ]
  },
  {
   "cell_type": "code",
   "execution_count": 28,
   "metadata": {},
   "outputs": [
    {
     "data": {
      "text/plain": [
       "0       Акции \"Абрау-Дюрсо\" допущены к торгам на ММВБ-РТС\n",
       "7       \"Абрау - Дюрсо\" не планирует выплачивать дивид...\n",
       "11      ГОСА \"Абрау-Дюрсо\" состоится 20 июня 2012 года...\n",
       "13      События предстоящих дней: Дмитрий Медведев при...\n",
       "48      События предстоящего дня: ГОСА \"Роснефти\", \"Ба...\n",
       "                              ...                        \n",
       "375     Собянин: Реорганизация промзоны бывшего автоза...\n",
       "702     Имущество \"ЗИЛа\" повторно выставлено на торги ...\n",
       "750     \"Группа ЛСР\" и АФК \"Система\" выиграли конкурс ...\n",
       "595     События предстоящего дня: Путин примет участие...\n",
       "1298    \"НОВАТЭК\" построит 15 танкеров ледового класса...\n",
       "Name: header, Length: 85155, dtype: object"
      ]
     },
     "execution_count": 28,
     "metadata": {},
     "output_type": "execute_result"
    }
   ],
   "source": [
    "complete.header"
   ]
  },
  {
   "cell_type": "code",
   "execution_count": 30,
   "metadata": {},
   "outputs": [],
   "source": [
    "from tqdm import tqdm"
   ]
  },
  {
   "cell_type": "code",
   "execution_count": 31,
   "metadata": {},
   "outputs": [
    {
     "name": "stderr",
     "output_type": "stream",
     "text": [
      "100%|███████████████████████████████████████████████████████████████████████████████████████████████████████████████████████████████████████████████████████████████████████████████████████████████████████████████████████████████████████████████████████████████████████████| 85155/85155 [01:51<00:00, 762.43it/s]\n"
     ]
    }
   ],
   "source": [
    "header_pr = preprocessor(np.array(complete.header))\n",
    "header_pr.main()\n",
    "preprocessed_headers = header_pr.drop_stop_words()"
   ]
  },
  {
   "cell_type": "code",
   "execution_count": 32,
   "metadata": {},
   "outputs": [],
   "source": [
    "emb_size = 100\n",
    "full_texts = []\n",
    "for text in preprocessed_headers:\n",
    "    sentence = []\n",
    "    q = np.ones(emb_size)\n",
    "    for word in text:\n",
    "        if word in w2v_model.wv.vocab.keys():\n",
    "            sentence.append(w2v_model.wv[word])\n",
    "        else:\n",
    "            sentence.append(q)\n",
    "    full_texts.append(sentence)"
   ]
  },
  {
   "cell_type": "code",
   "execution_count": 33,
   "metadata": {},
   "outputs": [],
   "source": [
    "max_length = np.array([len(x) for x in full_texts]).max()"
   ]
  },
  {
   "cell_type": "code",
   "execution_count": 34,
   "metadata": {},
   "outputs": [],
   "source": [
    "format_full_text = []\n",
    "for text in full_texts:\n",
    "    temp = np.zeros((max_length, 100))\n",
    "    temp[-len(text):] = text\n",
    "    format_full_text.append(temp)"
   ]
  },
  {
   "cell_type": "code",
   "execution_count": 35,
   "metadata": {},
   "outputs": [],
   "source": [
    "X_full = np.array(format_full_text)"
   ]
  },
  {
   "cell_type": "code",
   "execution_count": 70,
   "metadata": {},
   "outputs": [],
   "source": [
    "targ = (complete.close>complete.open).astype(int)"
   ]
  },
  {
   "cell_type": "code",
   "execution_count": 71,
   "metadata": {},
   "outputs": [],
   "source": [
    "X_train, X_test, y_train, y_test = train_test_split( X_full, np.array(targ), test_size=0.25)"
   ]
  },
  {
   "cell_type": "code",
   "execution_count": 72,
   "metadata": {},
   "outputs": [
    {
     "data": {
      "text/plain": [
       "(63866, 34, 100)"
      ]
     },
     "execution_count": 72,
     "metadata": {},
     "output_type": "execute_result"
    }
   ],
   "source": [
    "X_train.shape"
   ]
  },
  {
   "cell_type": "markdown",
   "source": [
    "#### трейн никак не использовался, так как он использовался для обучения моделей основанных чисто на данныых ккотировок. Уже не тут"
   ],
   "metadata": {
    "collapsed": false,
    "pycharm": {
     "name": "#%% md\n"
    }
   }
  },
  {
   "cell_type": "code",
   "execution_count": 47,
   "metadata": {},
   "outputs": [],
   "source": [
    "qq = pd.DataFrame({'pred': nn.Softmax(dim=-1)(model.forward(torch.tensor(X_test).float())).detach().numpy()[:, 1], \n",
    "              'real': y_test})"
   ]
  },
  {
   "cell_type": "code",
   "execution_count": 63,
   "metadata": {},
   "outputs": [
    {
     "data": {
      "text/plain": [
       "6793"
      ]
     },
     "execution_count": 63,
     "metadata": {},
     "output_type": "execute_result"
    }
   ],
   "source": [
    "qq.sort_values(\"pred\", ascending=False).iloc[:20000].real.sum()"
   ]
  },
  {
   "cell_type": "markdown",
   "metadata": {
    "pycharm": {
     "name": "#%% md\n"
    }
   },
   "source": [
    "### Во время реального использования, метрика выбранная для данной задачи (precision@k) показала хорошую точность для решения задачи, это порядка 7000 новостей из 20000 самых больших по вероятности, после выхода которых акции сильно пошли вверх. При детальном погружении в задчу оказывается, что это действительно очень хорший результат, поскольку большинство реально выходящих финансовых новостей абсолютно нейтральны"
   ]
  },
  {
   "cell_type": "code",
   "execution_count": null,
   "metadata": {},
   "outputs": [],
   "source": []
  },
  {
   "cell_type": "code",
   "execution_count": null,
   "metadata": {},
   "outputs": [],
   "source": []
  },
  {
   "cell_type": "markdown",
   "metadata": {},
   "source": [
    "#### one_layer_transformer\n",
    "Нужно отметить, что его запустить не получилось, так как он съедал слишком много видеопамяти при обучении"
   ]
  },
  {
   "cell_type": "code",
   "execution_count": 48,
   "metadata": {},
   "outputs": [],
   "source": [
    "class one_layer_transformer(nn.Module):\n",
    "    def __init__(self, input_shape, num_classes):\n",
    "        super(one_layer_transformer, self).__init__()\n",
    "        \n",
    "        self.linear_for_queries = nn.Linear(input_shape, input_shape)\n",
    "        self.linear_for_keys = nn.Linear(input_shape, input_shape)\n",
    "        self.linear_for_values = nn.Linear(input_shape, input_shape)\n",
    "        \n",
    "        self.find_weight = nn.Linear(input_shape, 1)\n",
    "        self.linear1 = nn.Linear(input_shape, 80)\n",
    "        self.linear2 = nn.Linear(80, 30)\n",
    "        self.linear3 = nn.Linear(30, num_classes)\n",
    "        self.dropout = nn.Dropout(0.5)\n",
    "        self.relu = nn.ReLU()\n",
    "        self.softmax = nn.Softmax(dim=-1)\n",
    "        self.weight_softmax = nn.Softmax(dim=1)\n",
    "    def forward(self, x):\n",
    "        \n",
    "        queries = self.linear_for_queries(x)\n",
    "        keys = self.linear_for_keys(x)\n",
    "        values = self.linear_for_values(x)\n",
    "\n",
    "        \n",
    "        logits = torch.matmul(torch.transpose(queries, 1,2), keys)\n",
    "        scores = self.weight_softmax(logits)\n",
    "        scored_x = torch.matmul(values, scores)\n",
    "        \n",
    "        y = self.dropout(scored_x)\n",
    "        weight = self.find_weight(y).squeeze(-1)\n",
    "        norm_weight = self.softmax(weight).unsqueeze(1)\n",
    "        weighted = torch.matmul(norm_weight, scored_x).squeeze(1)\n",
    "        output = self.dropout(weighted)\n",
    "        output = self.linear1(output)\n",
    "        output = self.relu(output)\n",
    "        output = self.linear2(output)\n",
    "        output = self.relu(output)\n",
    "        output = self.linear3(output)\n",
    "        return(output)\n",
    "    def get_loss(self, X, y):\n",
    "        weight = torch.tensor([((y!=0).int()).sum()/(((y==0).int()).sum()),\n",
    "                  ((y!=1).int()).sum()/(((y==1).int()).sum()),\n",
    "                  ((y!=2).int()).sum()/(((y==2).int()).sum())])\n",
    "        pred = self.forward(X)\n",
    "        y = y.clone().detach()\n",
    "        loss = nn.CrossEntropyLoss(weight=None)\n",
    "        return(loss(pred, y))"
   ]
  },
  {
   "cell_type": "code",
   "execution_count": 49,
   "metadata": {},
   "outputs": [],
   "source": [
    "torch.set_default_tensor_type(torch.FloatTensor)"
   ]
  },
  {
   "cell_type": "code",
   "execution_count": 50,
   "metadata": {},
   "outputs": [
    {
     "data": {
      "text/plain": [
       "torch.Size([100, 3])"
      ]
     },
     "execution_count": 50,
     "metadata": {},
     "output_type": "execute_result"
    }
   ],
   "source": [
    "m=one_layer_transformer(100, 3)\n",
    "m.forward(next(iter(train_dataloader))[0]).shape"
   ]
  },
  {
   "cell_type": "code",
   "execution_count": null,
   "metadata": {},
   "outputs": [],
   "source": [
    "num_epochs = 200\n",
    "batch_size = 100\n",
    "lr = 1e-4\n",
    "train_dataset = dataset(X_train, y_train)\n",
    "train_dataloader = DataLoader(train_dataset, batch_size=batch_size,\n",
    "                        shuffle=True, num_workers=0, drop_last=True)\n",
    "test_dataset = dataset(X_test, y_test)\n",
    "test_dataloader = DataLoader(test_dataset, batch_size=batch_size,\n",
    "                        shuffle=True, num_workers=0, drop_last=True)\n",
    "model = one_layer_transformer(X.shape[-1], 3)\n",
    "optimizer = torch.optim.Adam(model.parameters(), \n",
    "                       lr=lr)\n",
    "\n",
    "train_losses = []\n",
    "val_losses = []\n",
    "\n",
    "for i in range(num_epochs):\n",
    "    train_loss=0\n",
    "    val_loss = 0\n",
    "    model.train(True)\n",
    "    for X, y in train_dataloader:\n",
    "        optimizer.zero_grad()\n",
    "        loss = model.get_loss(X, y)\n",
    "        loss.backward()\n",
    "        optimizer.step()\n",
    "        train_loss+=loss/len(train_dataloader)\n",
    "    train_losses.append(train_loss)\n",
    "    \n",
    "    model.train(False)\n",
    "    for X, y in test_dataloader:\n",
    "        loss = model.get_loss(X, y)\n",
    "        val_loss+=loss/len(test_dataloader)\n",
    "    val_losses.append(val_loss)\n",
    "    \n",
    "    clear_output()\n",
    "    plt.figure(figsize = (10, 6))\n",
    "    plt.plot(train_losses, label = 'Train loss', color = 'blue')\n",
    "    plt.plot(val_losses, label = 'Val loss', color = 'orange')\n",
    "    plt.legend()\n",
    "    plt.ylabel('Loss')\n",
    "    plt.show()\n",
    "    preds = model.forward(torch.tensor(X_test).float())\n",
    "    print(classification_report(y_test,preds.argmax(axis=1).detach().numpy(), zero_division=True))"
   ]
  },
  {
   "cell_type": "code",
   "execution_count": null,
   "metadata": {},
   "outputs": [],
   "source": []
  },
  {
   "cell_type": "code",
   "execution_count": null,
   "metadata": {},
   "outputs": [],
   "source": []
  }
 ],
 "metadata": {
  "kernelspec": {
   "display_name": "Python 3 (ipykernel)",
   "language": "python",
   "name": "python3"
  },
  "language_info": {
   "codemirror_mode": {
    "name": "ipython",
    "version": 3
   },
   "file_extension": ".py",
   "mimetype": "text/x-python",
   "name": "python",
   "nbconvert_exporter": "python",
   "pygments_lexer": "ipython3",
   "version": "3.9.7"
  }
 },
 "nbformat": 4,
 "nbformat_minor": 4
}