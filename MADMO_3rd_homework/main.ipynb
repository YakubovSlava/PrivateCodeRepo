{
 "cells": [
  {
   "cell_type": "markdown",
   "source": [
    "### Импорт необходимых библиотек"
   ],
   "metadata": {
    "collapsed": false,
    "pycharm": {
     "name": "#%% md\n"
    }
   }
  },
  {
   "cell_type": "code",
   "execution_count": 1,
   "outputs": [
    {
     "name": "stderr",
     "output_type": "stream",
     "text": [
      "d:\\mlp\\machinelearning\\venv\\lib\\site-packages\\torchvision\\io\\image.py:11: UserWarning: Failed to load image Python extension: Could not find module 'D:\\mlp\\MachineLearning\\venv\\Lib\\site-packages\\torchvision\\image.pyd' (or one of its dependencies). Try using the full path with constructor syntax.\n",
      "  warn(f\"Failed to load image Python extension: {e}\")\n"
     ]
    }
   ],
   "source": [
    "import re # Для обработки текстов\n",
    "from gensim.models import Word2Vec # Готовая word2vec для обучения и использования\n",
    "from tqdm import tqdm # Для отслеживания прогресса различных задач\n",
    "import pandas as pd # Для считывания информации о датасете\n",
    "from torch.optim.lr_scheduler import ReduceLROnPlateau # Для обучения нейронной сети\n",
    "from torch.optim import Adam # Оптимизатор нейронной сети\n",
    "from IPython.display import clear_output # Для отчистки графика во время обучения НС\n",
    "from sklearn.metrics import classification_report # Для вывода финальных метрик\n",
    "import matplotlib.pyplot as plt # Для визуализации\n",
    "import numpy as np # Для математических операций\n",
    "from sklearn.model_selection import train_test_split # для создания тестовой выборки\n",
    "import torchvision.models as models # Для импортирования моедлей pytorch\n",
    "import torch # Для работы с глебоким обучением\n",
    "from torch import nn #\n",
    "from torch.utils.data import Dataset, DataLoader # Для удобного создания датасетов и лоадеров\n",
    "from sklearn.utils import resample # Для сэмплирования"
   ],
   "metadata": {
    "collapsed": false,
    "pycharm": {
     "name": "#%%\n"
    }
   }
  },
  {
   "cell_type": "markdown",
   "source": [
    "### Чтение данных"
   ],
   "metadata": {
    "collapsed": false,
    "pycharm": {
     "name": "#%% md\n"
    }
   }
  },
  {
   "cell_type": "code",
   "execution_count": 2,
   "outputs": [],
   "source": [
    "data = pd.read_csv('Pre_Post_Questions.csv', sep=',', encoding='latin1')"
   ],
   "metadata": {
    "collapsed": false,
    "pycharm": {
     "name": "#%%\n"
    }
   }
  },
  {
   "cell_type": "code",
   "execution_count": 3,
   "outputs": [
    {
     "data": {
      "text/plain": "id             0\nquestion       0\nitem_name    123\nlabel        304\ndtype: int64"
     },
     "execution_count": 3,
     "metadata": {},
     "output_type": "execute_result"
    }
   ],
   "source": [
    "data.isna().sum()"
   ],
   "metadata": {
    "collapsed": false,
    "pycharm": {
     "name": "#%%\n"
    }
   }
  },
  {
   "cell_type": "code",
   "execution_count": 4,
   "outputs": [],
   "source": [
    "data = data[~data.label.isna()]"
   ],
   "metadata": {
    "collapsed": false,
    "pycharm": {
     "name": "#%%\n"
    }
   }
  },
  {
   "cell_type": "code",
   "execution_count": 5,
   "outputs": [],
   "source": [
    "data.iloc[:, 3] = pd.Series((data.label=='Pre').astype(int))"
   ],
   "metadata": {
    "collapsed": false,
    "pycharm": {
     "name": "#%%\n"
    }
   }
  },
  {
   "cell_type": "code",
   "execution_count": 6,
   "outputs": [],
   "source": [
    "data_X, data_y = data.question, data.label"
   ],
   "metadata": {
    "collapsed": false,
    "pycharm": {
     "name": "#%%\n"
    }
   }
  },
  {
   "cell_type": "markdown",
   "source": [
    "### Препроцессинг данных"
   ],
   "metadata": {
    "collapsed": false,
    "pycharm": {
     "name": "#%% md\n"
    }
   }
  },
  {
   "cell_type": "code",
   "execution_count": 7,
   "outputs": [],
   "source": [
    "class Preprocessor:\n",
    "    def __init__(self, texts):\n",
    "        self.texts_v1 = list(texts)\n",
    "        self.texts_v2 = []\n",
    "        self.main()\n",
    "    def main(self):\n",
    "        new_texts = []\n",
    "        for sentence in tqdm(self.texts_v1):\n",
    "            temp = sentence.lower()\n",
    "            temp = re.sub('\\t', ' ', temp)\n",
    "            temp = re.sub('[!]', ' voskznak ', temp)\n",
    "            temp = re.sub('[?]', ' questznack ', temp)\n",
    "            temp = re.sub('[^a-zA-Z ]', ' ', temp)\n",
    "            temp = re.sub(\"[^a-zA-Z0-9\\'\\\"]\", ' ', temp)\n",
    "            temp = re.sub(r'\\s+', ' ', temp)\n",
    "            temp = temp.strip()\n",
    "            new_texts.append(temp)\n",
    "        self.texts_v2 = new_texts"
   ],
   "metadata": {
    "collapsed": false,
    "pycharm": {
     "name": "#%%\n"
    }
   }
  },
  {
   "cell_type": "code",
   "execution_count": 8,
   "outputs": [
    {
     "name": "stderr",
     "output_type": "stream",
     "text": [
      "100%|██████████| 231600/231600 [00:02<00:00, 90950.53it/s]\n"
     ]
    }
   ],
   "source": [
    "pr = Preprocessor(data_X)"
   ],
   "metadata": {
    "collapsed": false,
    "pycharm": {
     "name": "#%%\n"
    }
   }
  },
  {
   "cell_type": "code",
   "execution_count": 9,
   "outputs": [],
   "source": [
    "data_X = pr.texts_v2"
   ],
   "metadata": {
    "collapsed": false,
    "pycharm": {
     "name": "#%%\n"
    }
   }
  },
  {
   "cell_type": "code",
   "execution_count": 10,
   "outputs": [
    {
     "data": {
      "text/plain": "['are boots cold reliable questznack',\n 'is the main body rubber or plastic questznack',\n 'do you know the thread pitch count for the tang questznack',\n 'the item ordered came tarnished and my son needed it by wednesday voskznak voskznak voskznak is there any way you can send a replacement as soon as possible questznack questznack voskznak voskznak',\n 'i purchased these and now they look weird with my stock headlights what headlights would match these questznack',\n 'how long after placing order until us delivery questznack',\n 'wich one would you recommend to go with torque pro obd for a audi a i need to know',\n 'will this fit a stern monopoly machine questznack',\n 'what year were these knives made questznack',\n 'is the power cord detachable questznack',\n 'anyone have their soda stream bottle turn into a fountain after adding the lemonade syrup to it questznack mine acted like a mentos coke experiment',\n 'how can i be a prime members',\n 'will this work for a jeep wrangler',\n 'what ages should dogs start on these chews questznack',\n 'i wear shoes what size should i get questznack or',\n 'does anyone know if you can add an additional dimmer switch to this light to make it less bright questznack',\n 'whats the return policy on this item',\n 'do they actually look and feel like real leather questznack',\n 'can this camera be used via satellite internet and is it support sdxc card questznack',\n 'will this prevent my dogs from getting their paws stuck on ice questznack',\n 'is it possible to have indicator light on when light is off questznack question for martinjerry',\n 'what receiver are you using questznack my w per channel yamaha requires near half volume to get these to a normal listening level',\n 'does this work with the babyroues roll go stroller questznack',\n 'where can i order spare parts for this gun',\n 'why do the batteries in the picture say c if these are c questznack',\n 'how is it different from everyday value coconut water fl oz and which is the original coconut water questznack',\n 'is the whole bag rfid or just one pocket questznack',\n 'can you combine this with traditional prescribed antibiotics questznack',\n 'how to install cables',\n 'does the camera have to be in line of sight to the receiver will these work if i mount the camera under my truck bed questznack',\n 'i have the z system were can i get extra wire it doesn t fit my room',\n 'is it possible to get a wood inlay background instead of carbon fiber questznack',\n 'most of my elderberry syrups are mg to two teaspoons this one is over mg for teaspoon why is the dosing so high questznack',\n 'what comes in the box questznack',\n 'what is the diameter of this wheel',\n 'is the inside dimension between the forks double wheel width gaps filled by spacers at least mm inch inch questznack thank you',\n 'how i canc i contact the seller questznack i made a mistake i thought i ordered for an iphone s plus i need to see his store to see if i can return it for th',\n 'i got the product on my coat how do i remove it questznack',\n 'what is the manufacturer warranty on this questznack questznack',\n 'one of the led lights i purchased is giving me hyperflash what do i need to do to get rid of this questznack',\n 'what is the warranty on this mine has moisture in it causing most to not work questznack please let me know before i post my review thank you',\n 'edison led',\n 'how do i file a warranty claim questznack',\n 'how do you attach the stand to the monitor questznack struggling with it for minutes and no luck voskznak could not find a youtube vid on it either hard voskznak',\n 'i m having trouble stopping my workouts during the pool swim option it takes me forever tapping the screen to get it unlocked to stop session help questznack',\n 'how long can you use one if you are not running etc questznack',\n 'will these fit a blade inductrix pro questznack questznack',\n 'does this case fit the macbook air e',\n 'how do i put the screen protector on questznack',\n 'will this work as a replacement for a bradford white gal model number mitw l cx',\n 'can the inner ceramic pot be used in the oven questznack',\n 'did you guys predrill questznack when i do not some of the nails actually press into the felt creating a high spot others actually bent in the plastic',\n 'how to switch the camara upright questznack',\n 'pre cut dispensing hole is obviously not inches what size questznack',\n 'is this product suppose to make me nauseous or sick to my stomach questznack is it some etching that will abate with time or should i return this product questznack',\n 'is this seat approved for airplane travel questznack',\n 'is the bag itself etall or is that the height including the handles questznack',\n 'does this computer have a wireless adapter or do i need to buy that separately questznack',\n 'where does this ship from questznack',\n 'i bought this for my daughter and just set it up today and i did not recieve the red door is it possible to get the door sent to me questznack',\n 'i bought one it was very good when will this product be available again questznack',\n 'i live at high altitude and puncture the bottom of the throw away k cups as per owners manual what do you do if you are using the refillable cups questznack',\n 'where does it ask if you want mens or women she when ordering questznack',\n 'the charger that comes with it does it have the extra battery charging on the charger or does it have a single battery that comes with the flashlight',\n 'does this fit a ml questznack',\n 'what type of adjustment does it have questznack velcro questznack metal clasp questznack',\n 'why when speaker is plugged in all the time why does my dot not respond after overnight need to hit power on speaker again and dot needs to reboot',\n 'how do i get ahold of the company questznack bought as a christmas gift daughter loved it but the water no longer dances it s only been used since christmas',\n 'are this real silver questznack',\n 'i ordered this a few days ago and just noticed that it says they are round diamonds is there any way to get the square diamonds instead questznack',\n 'do you engrave tags questznack',\n 'could someone place wire tape electrical tape over the area where you control power on the earbuds and see if it still works questznack',\n 'for the will all of the parts be included questznack i ordered same thing with same description and only received one plastic bearing',\n 'mine is in safe mode and google play store won t load how can i get it out of safe mode questznack',\n 'is this safe to use in my child s humidifier questznack',\n 'will the ac adapter that came with my western digital work questznack it reads input v a max hz output v a',\n 'when downloading software from amscope it asks for the series so what series is this model questznack',\n 'q hi i would like to purchase slappy the vintriloquist dummy is it alive does it talk when you say something',\n 'are they white or yellow',\n 'where do i cut the strip questznack there is no instructions anywhere a picture would be helpful',\n 'can i use lifefactory glass bottle with this pump questznack',\n 'do you need to charge before use questznack',\n 'what is the return and warranty policy',\n 'will fox trot be available again questznack',\n 'is there some form of surge protection questznack i believe my pc via dp to hdmi might have fried the port on my tv questznack',\n 'how can i get a custom deadpool one made questznack',\n 'what is the best way to clean this crystal ball questznack',\n 'is the chocolate version with monk fruit extract as an ingredient any good questznack',\n 'how many rods are in the package questznack',\n 'what are the dimensions for the queen size mattress questznack',\n 'mine does not lay flat i just got it couple of days ago any solutions or ideas questznack',\n 'does the painting come with the frame as shown questznack',\n 'what s the purpose of the red wire on the rear cam questznack',\n 'does this radio scan through channels',\n 'what is your return policy questznack',\n 'does it have a cross strap on the shoulder straps',\n 'are these something you can play with or are they just for decoration questznack questznack',\n 'if i purchased the surfox g will i need to purchase neutralizer as well questznack',\n 'we have roaches in living room is it necessary to have two in one room questznack',\n 'can this phone be mounted on kitchen wall phone jack questznack',\n 'i got a few balls back in july just inflated one for a family vacation leak along seam wht is best way to fix a brand new ball please questznack',\n 'what is the hi temperature or',\n 'dimentions for shipping questznack please',\n 'how do you make the lights flash with the music questznack i cannot get they function to work',\n 'i need to give the name to engrave',\n 'is this good for men questznack',\n 'i did not receive both rings in the description missing the band can it be sent to me or do i need to return questznack',\n 'need customization to be laurie willett is this doable questznack it won t allow me to type in enough characters on the form',\n 'are these compatible with galaxy s',\n 'for how long i can take this pills questznack',\n 'is eiko tt k f bulb replaceable by this one questznack',\n 'what color are the grommets on the fresh green curtains questznack are they shiny chrome or a brushed nickel questznack',\n 'will this fit a runner sr premium',\n 'how long does the strap extende to questznack',\n 'how long it takes to charg',\n 'i do not see amps listed here or on the unit what is the current draw questznack',\n 'can i mix it with bleach questznack',\n 'when will they be back in stock',\n 'will this work for a pata hard drive questznack',\n 'whats the life expectancy of these questznack anyone own them for well over a year questznack',\n 'i m e in height and weight around pounds i m choosing between large and x large but can t really decided would the x large be too much on me questznack',\n 'is this product sulfa based questznack',\n 'are these fake questznack they are very flimsy and the printing is not centered',\n 'are these speakers magnetically shielded questznack thanks',\n 'charge interruption recovery is very pool in this unit tested several times seriously considering returning has anyone else seen the same issue questznack',\n 'does this have connectors for batteries included or do you buy connectors separately questznack',\n 'do you have this in reverse with light switch on left questznack',\n 'graco snugride',\n 'does it come with a santa hat questznack',\n 'can i clip carabiniere onto an eye hook from ceiling questznack',\n 'does it fit in a back pocket questznack',\n 'are they flat head or phillips head screws questznack questznack',\n 'so there are photos is it the one with buttons or buttons questznack',\n 'at https www shopnonstopdogwear com product line harness they have a new designed one the older design is',\n 'i see in one of the previous questions that there is a promo code discount available how do i get the promo code questznack',\n 'i m having a hard time pairing the device with my iphone plus is anyone else having trouble or have any advice questznack',\n 'i just got this and it keeps cutting out could it be the antanae questznack',\n 'how do i down load a user manual questznack',\n 'what is size of euroshams questznack',\n 'does this have all over adhesive questznack',\n 'i ordered this item and recieved a completely different item you sent me expo pens instead and when i try to return items it says that i cannot',\n 'is there a fluid questznack it doesn t say anything about fluid it only says it s ultrasonic',\n 'does the marble run blocks work with duplo blocks questznack',\n 'does it make a ticking noise questznack',\n 'i see two size charts which one should i use im an american man size waist but each size chart says different in regards to xl or xxl which wou',\n 'what is the return policy for this item questznack',\n 'how long of a video can it take questznack',\n 'will this fit to a jeep renegade trailhawk questznack',\n 'does this come with one or two questznack',\n 'can it be applied to the vaginal area questznack',\n 'is the plug compatible with the smart life app questznack',\n 'what gauge is this for questznack i don t see the specifications',\n 'does this fit a dremel questznack',\n 'are there have lenses on this pair of glasses questznack i can t be sure through the picture',\n 'does ipx protect the units enough for use in a shower questznack',\n 'hello my infinity cube broke and i was wondering if i can get another one so otherwise the old one away and is it ok if you send me another one please',\n 'i need a case for a model where can i buy one questznack',\n 'it would seem the reviews here for the hp laptop are mixed with mousepad reviews questznack beware of what you are reading and the stars',\n 'is this chisel set good on hardwoods questznack i m worried about the possibility of the blade chipping',\n 'this stopped working after about a week of rare use and i can t find the cord is there a replacement cord i can get questznack',\n 'is this made in china questznack',\n 'what is the return policy of the fender flares if i don t like them when i received them',\n 'what is the proper dosage for this questznack',\n 'will a medium fit my pound bulldog puppy questznack or is a small better questznack not sure which size to buy',\n 'can the ring be engraved questznack questznack do you provide these services questznack',\n 'is this all cotton material questznack',\n 'how many grams of sugar does the half tea half lemonade soda have questznack',\n 'can anyone tell me the mg amount of lipase protease trypsin amylase this supplement contains questznack there is no specific info listed',\n 'i need to return mine where do i send it questznack',\n 'is this usda certified organic questznack',\n 'where are these made questznack',\n 'will this fit on an umarex walther cp pellet pistol questznack',\n 'i am having trouble with collars shocking when the dogs are well in range what could be causing this questznack',\n 'made in usa questznack',\n 'order i recieved an empty mailer envelope and no receipt books and end of mailer envelope was torn off i have sent messages questznack',\n 'will this work with hdcp questznack',\n 'is the light blue fabric like a turquoise color questznack also is it velvet questznack',\n 'what is the equivalency to fruit or seed in each cap if you are supposed to eat a avacodo per day how many caps questznack',\n 'once stuck to tiles will i be able to remove the mirror and reuse it in another bathroom with tiles questznack',\n 'can it be connected to the tm sim hub using ps questznack',\n 'i m a size and ordered will they fit questznack keep in mind i have small feet e',\n 'at what mbps rate does the camera record k in questznack',\n 'can i extend the distance between the speakers using an extension audio cable questznack',\n 'why is there a prop warning for this product questznack it appears above product description and again during checkout when i tried to purchase it',\n 'is this product made in china questznack',\n 'does this fabric itch questznack',\n 'would this require moreover than stamp for mailing questznack',\n 'i got the shirt it doesn t glow in the dark at all questznack',\n 'did these shrink after washing questznack',\n 'would you say the color is more purple than pink',\n 'do i have to buy the pc',\n 'what wattage light bulb should i use for this torch lamp',\n 'will this hold a stradavarious questznack questznack',\n 'how do you set the time on this watch questznack',\n 'is this new',\n 'does anyone put something heavy to hold it down questznack it s kind of wobbly and i m afraid it ll fall over thanks voskznak',\n 'purchased and received them today the blue gun does not vibrate when used the red one seems to be working fine anyone else has this issue questznack',\n 'hello i heard that carbon fiber can leave splinters by touching it and maybe make some go air borne while printing does this brand of carbon fiber k',\n 'does the drill have a light on the front questznack',\n 'what kind of pen holder organizer would you suggest questznack',\n 'i match perfectly with halocouture s it was loaned to me i can t afgord their prices and would love to try you voskznak what color do you recommend questznack',\n 'will it work on boots stored for a few months questznack i ve had mold grow on them when stored off season',\n 'how does it attach to the trophy questznack',\n 'mine did not come with any manual etc just a machine hose how do contact someone about operating this questznack',\n 'i have charged this watch for minutes the screen will not turn on what am i missing questznack questznack',\n 'do these have an expected lifetime questznack if so how long should i expect to be able to rely on them questznack',\n 'i wear size in us what size should i get in uk',\n 'can you use heat on the bang questznack',\n 'has anyone used these on heated seats questznack does the warmth of heated seat still get through questznack',\n 'will a ds fit in here questznack',\n 'i cannot get my new sous vide to connect to my wifi there s no instructions in the little manual or on the internet can anyone help questznack',\n 'can this be personalized',\n 'does this come with the oil for first use or do i need to purchase separate questznack',\n 'is this stem end to end or is the stem portion specifically questznack',\n 'have the color shade numbers changed questznack i used to get natural beige and now is labeled ivory beige questznack',\n 'what is ph level of this cleanser questznack',\n 'i m a pounds do i need to get a larger or extra large',\n 'i remember seeing this for a while ago why the price change questznack',\n 'i m a care giver and need to do continuing education classes online and other training classes i just need something simple and easy to use questznack',\n 'anyone know if you can order parts questznack my left armrest has a tear in it after about a year of use it s not a huge bother but i d like to replace it',\n 'do the pages have ruled lines for ease of writing questznack the pictures look blank',\n 'can i order yards questznack',\n 'where are they made questznack',\n 'how many eggs are in each container questznack in the lb you say in the lb you say',\n 'why when i pulled the handle to extend the rd section did it pull out of the pole a looped end cable came out as well not attached questznack',\n 'how many liters for the medium bag thanks a lot questznack',\n 'will this connect a bluetooth headset to my xbox questznack',\n 'after minute it became very hot and then stop work is this normal e',\n 'this headset is the worst one i have purchased it came with no sound in the speakers i am disabled and can t run to return anyone else questznack',\n 'has anyone tried this with the oculus rift questznack if so does it work well questznack',\n 'does it work on cuh zct u',\n 'how would it do with a set of thomastik vision strings questznack would it lose its deep and rich tone or would it be improved questznack',\n 'is this gluten free questznack questznack',\n 'the ip camera is waterproof',\n 'why haven t i received items questznack',\n 'is this compatible with asus x a ii motherboard questznack',\n 'does pack of mean that there are kits included for this price questznack',\n 'does it cover the charger',\n 'would i be able to see the screen clearly with polarized sunglasses on questznack',\n 'is this part fit kitchenaid qt w max watts questznack',\n 'where can i buy another charging cable questznack',\n 'what subs fit in this box questznack',\n 'in the video it says that filter can be replaced in months i thought you need to replace every month which is correct questznack',\n 'in the text above it is said that it is bioidentical but in the product label this is not written is it bioidentical questznack',\n 'a sock comes in sizes m lg and xl what is the difference questznack',\n 'are they really japanese stainless steel e e hairdressing scissors set hairdressing styling tools stainless steel salon cutting thin and sharp inch hairdressing scissors set incl hairdressing scissors',\n 'how do i custom order this dress questznack',\n 'how do i reach customer support questznack',\n 'will this let me do a clean install of windows system builder questznack',\n 'the last picture gives a dimension of inches but the description says which is correct questznack',\n 'how loud is the machine questznack',\n 'can you make this available for prime like the older versions of this package are questznack',\n 'does it have a light inside questznack',\n 'can you put pump hairspray in here to create more of an aerosol effect questznack',\n 'what wattage and type led bulb do you need to buy questznack thanks',\n 'how many pages are in the x spiral steno book questznack what are the dimensions when book is closed length width depth in inches without the wire questznack',\n 'there is not an option for pre installed hid kit questznack',\n 'can i return the wrong size questznack',\n 'how does the battery recharge questznack',\n 'can it clean injection molded polycarbonate louis ghost chairs by philippe starck and these chairs are transparent questznack will it make the chairs cloudy questznack',\n 'is this product returnable questznack',\n 'will it work with other platform bedframes questznack',\n 'item says it is printed and shipped from usa why does my tracker say its coming from china questznack',\n 'will this fit a honda cbr rr questznack',\n 'is spatula and brush are bpa free questznack and fda approved questznack',\n 'is it can reset the oil change of cayman questznack',\n 'is the white a country white or a bright white questznack',\n 'has anyone found a good case for this awesome but very breakable phone questznack and where questznack',\n 'does it work with minecraft on android questznack',\n 'does this protector case friendly questznack',\n 'are all the colors the same material and softness questznack why pink is more expensive but in pack is cheaper questznack',\n 'is this good dnough to pump out bon vital original massage cream questznack',\n 'are these dimensions of the pages or of the cover questznack this is important as i put it in a custom leather cover',\n 'what is the height of the cpu cooler in mm questznack',\n 'will this work with sterno oz butane can cartridge questznack',\n 'has anyone been able to install this camera on a dual band router and watch on their cellphone questznack',\n 'will this mount allow a good cheek weld with a scope questznack',\n 'can you use a gb evo select microsd card with this questznack the description is varied first is says up to only then tb',\n 'can it work with the mac mojave questznack the brother website states only or which is almost a decade old i need a time machine to use this questznack',\n 'can i shuffle songs within a folder i can create within the sd card questznack',\n 'what is the mesh count for these screens questznack',\n 'this clock will not let me set the date how do i adjust the time and date questznack',\n 'its been more than weeks and still havent recieved my order questznack',\n 'is this easy to clean questznack',\n 'are the locking mechanism made of metal or steel questznack and are the hinges aswell questznack',\n 'my husband got on the scale and weighed himself and it ended up in my account how do i make it so his weight doesn t affect my app questznack',\n 'can i open the capsules and add to my food or drink questznack i have a problem swallowing capsules',\n 'i did not receive the crib cross in my package the baptism is tomorrow can the cross please be sent out asap questznack questznack',\n 'what is the process for replacing filters questznack do i need to cut water and drain the system in order to change any filters questznack',\n 'does the blue wire need to be attached to a power supply questznack',\n 'how tall does this stand questznack i need to know because we built a doll house limited space',\n 'how do i get a replacement and where can i find the company s contact info questznack',\n 'how wide is the main floor tool head questznack',\n 'can i use the flavour pack in the beginning to increase alcohol content questznack',\n 'when will this set be available again questznack',\n 'can shipping be combined',\n 'does this come with a plastic tube for pin point applications questznack',\n 'how many pieces of glass are in the lamp questznack',\n 'is that kele comforter pink coral or red questznack',\n 'is it normal for the screen that covers the flame to begin to rust after one use questznack i ve had it less than one week',\n 'does it fit a macbook charger questznack',\n 'how do i download this game i just purchased',\n 'is this tsa approved questznack will they allow this on my checked bag questznack',\n 'the wire from the car to the batterty was ripped out can i send it back to get fixed questznack what options do i have to replace it questznack',\n 'hi is this fit for my subaru legacy questznack',\n 'how to install questznack',\n 'anyone else have an issue with sound activated sensitivity not picking up sound',\n 'is there a continuos button so you don t have to hold it down all the time',\n 'do the bar stools come assembled',\n 'is this for b or b fit questznack',\n 'does not work out of box questznack',\n 'i can not seem to figure out how to keep the backlight on all the time questznack and the screen without the backlight too dark to read help questznack',\n 'i get a lot bumps all over my body and rash between my tight will it work for me questznack',\n 'does it fit the gopro session cr that came out in fall questznack',\n 'can you attach a shotgun mic questznack',\n 'if one light goes out do they all the rest go out questznack',\n 'why is it connected to amazon fr questznack i m not in france i m not using the french amazon i can change the language but it won t take me to amazon com',\n 'can you connect them to watch the same movie questznack if so how questznack',\n 'what is the liquid chemical used to make the glitter float questznack',\n 'can we start heat without the massager questznack',\n 'never received my package',\n 'i bought this for my american standard toilet it isn t compatible this part is round it needs to be hex shaped inside the seal',\n 'hello i bought the motor but it doesn t have the charger do you sell that questznack',\n 'does the case interfere with the camera flash causing a tint on photos questznack',\n 'wiil this fit a volvo sc t model questznack',\n 'do all these light expose you to lead the box in these pictures doesn t have that warning but the box that i got has a big white label warning',\n 'what type of construction are they questznack blake stitch goodyear welt cement questznack',\n 'in bridge mode it will broadcast the old gateway address causing computers on the network to connect to that unused gateway can this be disabled questznack',\n 'solar lights stay on during the day what are we doing wtong',\n 'does it come with a cookbook questznack',\n 'how much coffee is included in this offer oz questznack oz questznack oz questznack i e how many oz bricks for questznack',\n 'can i get the same color on a non martingale collar questznack for times when she is off leash',\n 'does it fit an iphone xs questznack',\n 'how do i resize amazon apps to fit questznack they are too big on my screen',\n 'does the audio maps app work on the fire questznack',\n 'what is the mc one for questznack wouldn t you just put everything in the m questznack',\n 'free returns questznack it s so hard to find a comfortable cushion online voskznak',\n 'the mode listed for this tire is is that the same as or comparable to model questznack',\n 'how can i tell it will fit my head questznack',\n 'how much resin can be colored with one of these tubes of color questznack',\n 'can i find a holster for it questznack',\n 'has anyone listened to both the sb and the sb questznack i ve had a ported sub before and did not like the puffing is the worth the questznack',\n 'is there any down side to leaving in for several hours and do exercises at desk like lady who drives all day questznack',\n 'its to small for my dog can i return it to kohls ive heard amazon partner with kohl s',\n 'does the width include the wall mounting brackets on either end questznack',\n 'will this keep the mattress from slipping if the head of the bed has been raised inches questznack',\n 'will this amp push two q power s',\n 'why is my net half the width it should be questznack it came folded like the envelope net what am i missing questznack',\n 'does this case fit',\n 'i have a question as to what nova chuck will hold a wood dowel with outside dimension of',\n 'will this fit an ipad pro with the smart keyboard cover questznack',\n 'will that main breaker lugs except wire',\n 'will this bag fit a spectra and a sarah wells cooler in the compartments questznack',\n 'will a porter cable lr router fit into this table questznack',\n 'i m e and lbs is an xl ok',\n 'my girl is bust in waist in and hips in what size should i get for her questznack',\n 'i bought this as a christmas gift back in july so the return window is closed it is not working is there anything i can do questznack',\n 'will this accommodate waterford christmas ornaments questznack',\n 'i have a lens with an external diameter of',\n 'is this the yellow duck or the green one questznack',\n 'where is the size chart questznack',\n 'missing mounting plate questznack questznack questznack',\n 'will this',\n 'on my phone the turquoise elooks to be a soft green is it more blue or more green questznack',\n 'i am question the picture that shows slotted spoons and regular serving spoons the description says for does this come with or questznack',\n 'do you have bumper pool bumpers with id questznack',\n 'are these the mm type questznack',\n 'does this shift smooth when cold questznack',\n 'your package lists calories per serving grams of fat and grams of carbs would be calories not which is correct questznack',\n 'why doesn t the keyboard cover stick on the keys when i tilt my macbook questznack is there a specific way to do it or is it supposed to stick like that questznack',\n 'some ssds have copper plate sticker for the heat release do wd black have the copper plate questznack',\n 'i can t seem to put the parents monitor on mute questznack questznack',\n 'is there a corded version questznack this model eats batteries',\n 'what does anti clip mean questznack',\n 'where can i purchase additional ac dc powers supplies and light strip ir connection adapters questznack',\n 'what diameter size is this questznack',\n 'why is this delivery of this set to to months questznack i d buy this but i don t want to wait that long to receive it',\n 'does the pendulum actually move questznack',\n 'i m getting a funky smell not root rot just funky a few days after using hydrogard and some foaming in dwc is this normal questznack res is clear',\n 'do you have to have a sim card adaptor questznack',\n 'is this made of plastic questznack do the tail lights also light up questznack is it electric or battery operated questznack what songs does it play questznack',\n 'is the white coming back in stock questznack',\n 'is this ph balanced questznack',\n 'i purchased a pack in april of and one of the lights is no longer working what is the warranty on these lights questznack',\n 'can i have this focus solely on at my entryway door and if so how questznack i d like it to focus on one spot questznack questznack questznack questznack',\n 'how many sheet per one pack questznack',\n 'is there world wide warranty included questznack',\n 'how much does it weigh questznack just the bottle and lid not the packaging etc',\n 'rock auto has this for will u mach price will by shipping was and some change thanks voskznak voskznak',\n 'is the chair seat solid wood questznack what type of wood questznack',\n 'can i return',\n 'will this work on a blade ceiling fan questznack',\n 'i have set up app paired my bluetooth lock i have to enter the passcode twice on the keypad to open i reset reinstalled how do i fix questznack',\n 'what does the packaging look like questznack',\n 'how many applications approximately per bottle questznack',\n 'is this a powdered product questznack',\n 'hello i ordered a in frame but am worried it will be too small what frame size do you recommend for some one cm ft in tall questznack',\n 'i was hoping to use a mike plugged into the p to monitor my vocals in one ear and hear the band in the other ear line level required for both r l questznack',\n 'size',\n 'what kind of metal questznack',\n 'it this cable compatible with the samsung galaxy tab a questznack',\n 'queen size topper dimentions questznack',\n 'can someone upload a pic of the instructions questznack we lost our copy',\n 'is there a way to get english instructions for assembly questznack',\n 'why does the price fluctuate so much on this product questznack it s one of my favorites but i know to watch pricing and buy when it s lower',\n 'the ad says organic the bag that arrived does not is it organic questznack',\n 'how long the warranty',\n 'does this item come with the memory stick questznack',\n 'i ordered this jersey with one day shipping to get it in time for the game order was later cancelled as out of stock that s the last time i trust a',\n 'the description says to inch expandability yet the comments say minimum length is inches can someone verify the correct measurements questznack',\n 'what is the thread size for these handles questznack',\n 'will this work on a audi tt questznack',\n 'does each fan have its own box questznack',\n 'what is the diameter of the heating surface questznack',\n 'will this fit a f questznack',\n 'wow i just received this and would hate to see the small size is their large improved size questznack its small lots of money for this size',\n 'i m unable to raise the volume past max when watching a dvd or tv via bluetooth on my stereo receiver even turning up on receiver does not increase questznack',\n 'does this tool able to save as built data in ford modules questznack',\n 'what is the difference between modes questznack',\n 'ok i just bought of these loved them til i cant open one of them i set them all the same easy but then one will not open help questznack',\n 'is there a replacement cord for these handles questznack',\n 'is this listing for the entire unit or just the cabinet where i have to order the countertop portion as well questznack',\n 'do you solder the wire out of vsen to the plus pad from the s lipo questznack thanks',\n 'can i prep a gun barrel for cold bluing with this pad questznack',\n 'is this behind the tires or does it exit straight out the back questznack',\n 'what size diameter rod should be used for these questznack',\n 'fixing screw cross threaded afraid of damaging lamp do i need to return to amazon or ambimall questznack',\n 'is this supposed to be dust free questznack both of mine came with dust in it and looks horrible after installed',\n 'does anyone know what the blue keyboard key in the lower right is for questznack',\n 'how do i find out if it fits my motor questznack',\n 'my car s aux port is broken can i use this to replace it questznack',\n 'i have a room that is feet by feet i need to know how many boxes of this item will i need to do my floor questznack',\n 'are these prongs long enough to penetrate large and whole turkeys hams and prime ribs questznack questznack questznack',\n 'could i hang a small led light inside questznack',\n 'what kind of water ahoukd be used in this machine questznack i have always used distilled water in other machines',\n 'can this be used on itchy scalp questznack',\n 'who pays for returns shipping for a refund request if these do not work in my printer and what is seller contact phone number and email address questznack',\n 'is this item bpa free questznack',\n 'what is the expiration date on the box',\n 'can you iron this on leather questznack',\n 'can i use each mask after another questznack',\n 'anyone know if these will fit highlander plus questznack',\n 'does this leave permanent results questznack',\n 'what is the bulb number style in this light questznack',\n 'does it work on rv s questznack',\n 'may i get a replacement phone for a broken one in box',\n 'is this the american ntsc cart questznack',\n 'what is the return policy questznack',\n 'do you have an the adult size option',\n 'what is the max in seam questznack',\n 'does this include any of the hardware mounting screws clips etc questznack',\n 'what are these socks made of questznack',\n 'what size is this questznack',\n 'anyone know how to change inputs on this monitor questznack',\n 'i have grandchildren and can they use greens if so every day questznack',\n 'dose this comes with a bag to put inside or no',\n 'has anyone actually seen this help hyperpigmentation get lighter or go away questznack',\n 'will this fit my dodge dakota sport wd with abs breaks questznack',\n 'been using for about two years with no problems but now it won t link to phone anymore help questznack suggestions questznack',\n 'what type of metal material is base made of questznack is it made with aluminum or non rust metal questznack',\n 'can the insoles be removed and custom orthotics be put in their place questznack',\n 'i ve installed these batteries in a video doorbell and it s not holding a charge within to days the batteries your dad how long should the charge',\n 'i can t tell from the picture do i still flip my visor down and this extends it questznack',\n 'what size header board is needed questznack',\n 'the left joycon doesnt slide in as well as the right joycon it s very tight i saw a lot of people mentioned this in the reviews does it get better questznack',\n 'does it come with the batteries questznack',\n 'how long is it',\n 'do these remove waterproof mascara questznack',\n 'does anyone know if there are disposable liners available for purchase for inside the coffee filter to make cleaning easier questznack',\n 'how thick are the slides questznack',\n 'application video for side window shades questznack',\n 'how is it powered questznack',\n 'why are there so many product numbers for the cordless units questznack are they all the same with cell phone connectability questznack',\n 'fibrinolytic units how many fu s the strength are in formula questznack it only lists the milligrams weight',\n 'does this come with black screw covers questznack',\n 'will this work on my acer predator xb hu that s x vesa compatible questznack',\n 'can some type of adhesive or caulk be used to secure the wood pieces to the pavement questznack',\n 'is the image visable on both sides questznack',\n 'my door is inches but i like the look of the drape draping on the ground so i will order are these drapes to stiff thick to achieve this look questznack',\n 'this is brand new questznack',\n 'how wide are they across questznack',\n 'is this bag brand in new condition questznack',\n 'does this come with the balloons and adapter questznack',\n 'this is so confusing the picture shows its bulbs yet the description says its pk questznack',\n 'i want to buy this for my front door however i read the reviews about people getting hacked and creeped on is it worth buying for outside questznack',\n 'there are no instructions how do you get this to connect to bluetooth in windows questznack',\n 'do you need to put something under it so it isn t sitting directly on your carpet or harwood floors and if so what would you put under it',\n 'what do i do if i was shipped an extra bottle by mistake questznack',\n 'why does the ice not look completely clear questznack a water softener and supplied filter hooked inline',\n 'what is the warranty questznack',\n 'can i mount this under a kitchen cabinet above the counter questznack does it fold up so it s not to be too big of a footprint and will the suction cup work questznack',\n 'i ordered the wrong ones can i return them questznack',\n 'how do you take it apart questznack',\n 'trying to find white roof top corner pieces questznack anybody know a site that i can hey specific parts and colors from questznack',\n 'if this is a train station were are the passenger cars better yet were is my train questznack',\n 'how do you set this clock questznack',\n 'would these be a good solution for a b k avr that was a rack mount and is missing feet questznack',\n 'im c but they dont have the size what should i do questznack questznack',\n 'is the coaster soap stone to',\n 'my comforter i have recently purchased has some ink splatter spots on it',\n 'whats the best used date questznack',\n 'the bar that connects the legs to each other on both chairs are defective what should i do',\n 'is this a tiger tank or an f model',\n 'i have six ll rgb fans and im using the asus b f motherboard do i need to plug in the pin cable into motherboard questznack',\n 'can i purchase borders for this product questznack questznack questznack',\n 'what are the dimensions questznack height x width x depth',\n 'hi voskznak does this chair have the ability to lock into position rather than spin questznack',\n 'must be the worst decal maker ever questznack questznack questznack questznack questznack questznack',\n 'these bags are all yellowish is that normal questznack looks like they have been used',\n 'does anyone know how this differs from gator hammock gator done seasoning questznack',\n 'this collar for stubborn dogs work with pig model questznack',\n 'i m a size but have bigger arms are these sleeves roomy and generous enough and to fit a fleece layer underneath questznack',\n 'i have buick make squealling sound in egine will this take it away',\n 'can you turn off the roller brush to be able to clean hard wood and laminate floors questznack',\n 'how do i change language to english questznack',\n 'how tall is luffy questznack',\n 'will these work with a television questznack',\n 'is this product original questznack my other lifeprood cases come with a little white sticker and barcode incase it breaks i input the s when filing a claim',\n 's klaire labs interfase plus to be taken with meals or between meals questznack',\n 'my earbuds won t pair together questznack how do i get them to play together questznack',\n 'does it come with o rings questznack',\n 'does the kindle fire hd have screen share questznack',\n 'i am ft lbs and usually wear a inch waist will the xxl fit questznack',\n 'is the machine metal or plastic questznack the hammered finish looks like metal',\n 'how many pairs come with this questznack the description says and pair questznack',\n 'what s in the package questznack',\n 'does this fit iphone xr questznack',\n 'i ve been using mine for about a year it now stops charging after a certain time and will only run for minutes questznack questznack',\n 'is this peel and stick removable questznack',\n 'does this dress come in red',\n 'one of my items are missing',\n 'question for the seller i bought this last week for around now it s more than triple the price do you really think is an appropriate price questznack',\n 'what are the details of the warrant questznack what s covered questznack',\n 'will these work with a magnetic soundhole pickup questznack',\n 'will this work for mercedes ml',\n 'is there a version with a magnetic closure going to be coming out soon questznack thanks james voskznak',\n 'the girth strap on the size large keeps working itself loose and must be readjusted at times how do i keep it from loosening questznack my xxl stays adjusted',\n 'how does the fabric hold up with washing questznack',\n 'can the box cutter be used with a replacement role of the same size questznack',\n 'will these fit the starbucks plastic hot coffe cups',\n 'how goot long this plant questznack',\n 'how much should you put on acne a thin or thick coat questznack',\n 'how long are',\n 'screen resolution seem fine but a tad dark can i adjust the brightness questznack',\n 'what are the dimensions of the tile insert on the inch square shower floor drain questznack',\n 'is this plastic questznack',\n 'when using the front clip i find it can twist the harness unless i pass it through his front legs any other suggestions besides adjustments questznack',\n 'does this hdmi adapter cable work with a hdmi computer monitor questznack',\n 'is this compatable with a whirlpool refrigerator that has an everydrop model edr rxd questznack',\n 'the durango bowie scf knife blank hammered is this real damascus and how many folds what is the r factor questznack what is the thread pitch questznack is forge',\n 'does this work with a sling questznack',\n 'my station now has a flashing blue light instead of a solid one what does this mean questznack',\n 'when will this become available questznack i replied to the email invitation but have not heard anything more',\n 'i got this for my daughter and the cord that plugs into the base was almost broken in half and she hasn t even used it yet where can i get a replace questznack',\n 'who makes this company or distributor name questznack what is in it questznack is there a safety data sheet accessible online questznack',\n 'how many loads will a ball last for questznack',\n 'when i turn off my car the power cable is still connected in the socket will it drain my car battery questznack or i ve to unplug every time car s off',\n 'anyone tried using button to stop the alarm questznack i can mute music using routine but the alarm is not stoppable mutable questznack',\n 'will the microfiber withstand cat claws questznack',\n 'what is textile questznack',\n 'about how long did it take to receive the belt in the mail questznack',\n 'want to make sure this is safe for credit cards',\n 'where can i buy replacement filters that are the right size questznack',\n 'would you recommend this product questznack',\n 'will this go in my f lariat questznack',\n 'i need to order filters for cisno air purifier model name is kj f a where do i order these from questznack',\n 'what are the dimensions questznack',\n 'is a converter of some kind required to supply the needed v off a v battery system questznack if so is this included questznack',\n 'will this work with kenmore quick clean bagless questznack',\n 'what is the leg opening in inches for a size x questznack',\n 'is it safe to bring to airplane as my checked bag questznack',\n 'the remote control use any kind of battery questznack',\n 'can my year old son who weighs take this or should he take the children s version questznack',\n 'does it come with a screen questznack',\n 'who actually buys these on amazon when they are cheaper in stores questznack you can get a pack for instead of from the manufacturer questznack',\n 'is this product guaranteed authentic my vet says it s only available with prescription',\n 'concerned about the quality of the zipper on the xl version although as long as the track isn t damaged i should be able to replace upgrade with zip',\n 'can i take this instead of frolic acid questznack i used to take women s one a day prenatals should i stop and take this only questznack',\n 'i am right at the end of the medium and beginning of the large i were a pant dd and about will i fall out of the medium in the bra',\n 'is this bulb dimmable questznack',\n 'does it come in pairs questznack',\n 'what chemicals are inside the pouch questznack ours accidentally exploded from being reheated too long don t ask worried about what s in the air',\n 'could someone tell me which step to use this questznack',\n 'i have an qt instant pot quart will the x pan fit in my qt instant pot questznack thank you',\n 'how do you remove from a painted surface',\n 'how long is the warranty for these boots questznack',\n 'does anyone know which display port could i use to get mhz questznack using amazon basic display port but it is only mhz',\n 'on the app it keeps asking me for an access code in order to view or change settings anyone know what the original factory access code is questznack',\n 'does the hd need to be connected to power for alexa to work like the hd questznack',\n 'does the cell need direct sun questznack',\n 'did you guys get a warranty card in the box when you got the watch questznack',\n 'are you the former stylez fashionz sellers',\n 'does this come with a case questznack',\n 'how would wire this for parking lights questznack',\n 'why is this no longer offered by amazon the same way as the last time i ordered it questznack',\n 'is this saw avalible with a brushless motor questznack',\n 'type of of water used for delution questznack',\n 'does anyone know how to find a way to look up instructions on the different ways to wrap questznack it doesn t come with it',\n 'what kind of saw do you use to cut the rail',\n 'i just plugged this into my leopard gecko s heat mat which is too high as an experiment i set the thermostat to when the edge of the mat area r',\n 'how does one maintain this questznack is there a way to clean it or anything like that questznack',\n 'i have an european iron that i want to use in usa do you think that product will help me i need to step up',\n 'can the device be used outdoors questznack',\n 'would it work on my bmw z',\n 'does this product contain nickel or lead questznack',\n 'hi i want to ask if i buy this now when do u think i m gonna get questznack like how many days til i get it questznack',\n 'water proof questznack',\n 'tracfone now lets you bring your own phone since i use the cdma network would this phone be compatible questznack i am not sure what locked to verizon mea',\n 'seller please tell me how the indicators work both are on or is when both turn red the bulb is bad questznack no book with it',\n 'what is the hole diameter for screw mounting questznack',\n 'is this fda approved questznack i m concerned because medical product i m also confused why you want me to email you outside of amazon channels questznack is this safe questznack',\n 'looking for a good quality but affordable scope for a mossberg mvp rifle would this fit the bill questznack',\n 'any idea when this product will be made available in the u s questznack',\n 'product says compatible with mp but my mp are not loading onto it no problems with my mp songs what am i doing wrong questznack',\n 'i ordered the wrong size initially they are on the way here is there a way di cancel and return them prior to delivery questznack i ve now ordered the correct',\n 'what is the return policy questznack',\n 'w is for wide width correct questznack',\n 'put on new screen and phone has messasge it is disabled and to connect to itunes anyone else have this issue questznack',\n 'do these come with child resistance compliance certificate questznack',\n 'has anyone cut themselves as a result of the defective plastic mentioned questznack have you sued questznack as this sounds like a safety concern',\n 'where can i find replacement filters questznack',\n 'what are the dimensions of the piece puzzle questznack',\n 'are you willing to negotiate price if i order or more bottles different colors questznack if so please email me cmaderad gmail com as soon as possible',\n 'my telescopic stainless steel wand arrived bent and unusable can i purchase this part separately as returning the whole machine would be difficult questznack',\n 'would i be able to use the w x d bow front desk as the place of the return questznack',\n 'the band i received was not the item i ordered the band is different then the picture and does not fit my fitbit can hagibus fix this questznack',\n 'do i need to use a certain kind of pot or any kind questznack',\n 'my item did not come with ac adapter is this an error questznack',\n 'why should i choose this one over all the other rd party plugs questznack',\n 'how can i get the code if it s emailed to the wrong address questznack',\n 'can i buy a replacement metal ring questznack',\n 'does this work with dell x questznack',\n 'is it true to size questznack',\n 'which do you recommend this vs genius brain questznack',\n 'how do i install the program it will not open questznack',\n 'how long do the battery last questznack',\n 'i m completely pissed because i paid bucks n my package isn t here and i paid for it to be here today cause i have an event tomorrow i usually sign',\n 'what grade is the stainless steel spigot questznack',\n 'does this lid snap close or just covers the pan questznack',\n 'where on your feet do you apply this to boost immunity questznack',\n 'can these be used for smoking questznack',\n 'exactly what is needed to play this in v r questznack',\n 'i can use it for day',\n 'is it a ball bearing roller questznack',\n 'which shoes care product should i use questznack',\n 'where is this shipped from questznack',\n 'how can i connect this to flare threaded water lines questznack',\n 'recently bought a pair of beyerdynamic dt pro ohm will they fit in this case questznack',\n 'can you steam cook eggs in it questznack',\n 'can it be used outdoors questznack',\n 'can i use this for a jeep wrangler questznack',\n 'does the nv come with a amp breaker included questznack',\n 'will smart tv need conection with laptop or smart phone questznack',\n 'does this come with a bulb questznack which bulb does it take questznack',\n 'can i reprogram etc on a nissan murano questznack',\n 'where can i find more replacement switches questznack i lost the ones that came with the keyboard during a move and the keycaps have a rectangle attachment questznack',\n 'how can i get replacement remote questznack i received a remote that doesn t work well with my order',\n 'how many lights come in the order one or two questznack',\n 'is the sound quality good questznack',\n 'i want to return item',\n 'it s hard to tell from just the one picture but is this the lever that you push to get ice and water questznack',\n 'what size hose is needed for these nipples questznack i plan on running one can with id hose and the other with id hose will i need different nipples',\n 'r these pens permanent questznack',\n 'will this work in a hamilton beach flex brew questznack it has a reusable basket larger than a k cup',\n 'how would you take these pills in combination with the apple cider vinegar pills questznack',\n 'will this fit canon d questznack',\n 'is there anything else that will work this good questznack my cat has developed chin acne from the plastic',\n 'can it be used on soundbar questznack',\n 'how many ounces can each pig holds questznack',\n 'will this work if i subscribe to netflix questznack',\n 'work with google wifi system questznack',\n 'does this package include black questznack',\n 'how to send items back',\n 'what is your return policy questznack',\n 'were is my stuff questznack questznack questznack the pillow cover confused first it was suppose to come today now is saying for friday which one is it',\n 'where is the top portion',\n 'seller package does not have olee sleep anywhere why questznack also why is this sold as gel infused when it only has mem foam questznack',\n 'how do i order this for soft lambskin jacket questznack i understand that they have two versions of this product',\n 'is this backlit and dimable or does it rely on room light questznack',\n 'other than the ceramic insert what are the main differences between the arc and the arc c questznack',\n 'what is the return policy questznack',\n 'is there a way to contact the seller questznack i had on of the screws come out during training and need to order a replacement',\n 'will this substage mirror will fit for a wild m heerbrugg monocular microscope questznack',\n 'can this fixture handle an led w vintage bulb questznack',\n 'will this remove dark elbows questznack',\n 'can this be cut up into pieces that can be inserted into the garment for a raised heat press on a specific area of the garment questznack',\n 'anyone know if it would be perfect for autographs questznack',\n 'has anyone tried this and found that it works for peeling or splitting fingernails questznack',\n 'can this be used with device that requires a or a without any problems questznack',\n 'can this be used to hang on a wall questznack',\n 'is it normal for stool to turn black after consumption questznack',\n 'what size battery is used for the cake to light up and play music questznack',\n 'i need to know when will this be b as ck for sale i want it chevy silverado grill and light kit made by akkron',\n 'will any euro car bmw need resister boxes to avoid error codes questznack',\n 'is there a way to shut off or turn down the volume of the voice that announces bluetooth connected e',\n 'does this come with the two batteries questznack if not where can they be purchased and what model exactly questznack',\n 'are these for children age questznack',\n 'how do you message your name to the company questznack',\n 'are the mesh sizes actually fractions of inches as listed or is the mesh actually no mesh questznack',\n 'what is the recharging time need for this to be fully charged questznack',\n 'what is the thickness of the blades on these broadheads questznack',\n 'what is holding the stones together questznack',\n 'just to confirm is this the gen version questznack',\n 'is this a true square toe shoe questznack',\n 'any inside pockets questznack',\n 'how long does the hair last and how would you take the hair out when it is time to replace the hair questznack',\n 'did my personalized come threw',\n 'why are the spring rates so low questznack i usually see coilovers with k spring rates questznack how do these ride questznack',\n 'can i do a sli setup with this questznack',\n 'is the blue light or the uv better for a dui stimulus questznack',\n 'do these have any support as i have a high arch questznack',\n 'does this bag have any inside pockets questznack',\n 'is there any way to replace the strap when the plastic clip breaks questznack',\n 'i m going to use this for staining yogurt will this hold gallon questznack',\n 'why is this part almost cheaper that the other similar airaid intakes questznack',\n 'does the bissel pet lift away come with a carpet glide questznack',\n 'does this contain probiotics questznack',\n 'is this sold as a pair questznack is it only low beams questznack will it cit a mustang and just plug in questznack or is a conversion kit necessary questznack',\n 'do we know when this will become available again questznack please bring it back in stock voskznak',\n 'what is the difference between the fg and fg questznack',\n 'how well do these stack questznack i like to stack two together',\n 'y will they not pair with each other',\n 'can this be used with ceiling fan questznack',\n 'is this cup lead free',\n 'is the quantity mean the front and rear plate frames questznack',\n 'how long does it take to fix bunion questznack',\n 'how do you turn them off without having to take the battery out questznack i hold the power button down but it won t turn it off',\n 'is this for use over the frame that comes with the camera for mounting questznack',\n 'two questions do these meet dlc standard questznack how many lumens does the watt fixture put out questznack',\n 'can you order a different size top questznack',\n 'how can i download audio books from audible onto the watch questznack',\n 'does it come with one sticker for one side only or for both fenders questznack',\n 'as far as the channels it receives does it go only by a database of what it thinks you can receive or does it do a real channel scan questznack',\n 'do u have in stock a medium cap transparent lace hair density questznack if not how long will it take to make questznack',\n 'how long will these play on a charge questznack',\n 'does the dial funtion as the on off switch questznack',\n 'slip resistant questznack questznack',\n 'can i use the battery to charge my iphonex while charing the battery simultaneously questznack since i got only charger and don t wanna switch back and forth',\n 'how do i take advantage of the warranty questznack my transmitter just stopped working it worked great for almost a year suddenly stopped working',\n 'why wont my dvr connect to my tv questznack',\n 'what is the illusion size questznack',\n 'does the in mean its the series questznack',\n 'does this fit an asus laptop x m questznack',\n 'is it hollow questznack',\n 'will the lock plug actually fit the hole oin the bed on a polaris general questznack',\n 'i am wanting to order this product with blade covers is this possible questznack',\n 'is this the passenger side questznack the picture shows driver side',\n 'the ring i ordered is solid k white gold and amethyst correct questznack cause if it s gold plated i ll be returning it is why i ask questznack',\n 'would these fit a valve stem for a commercial truck questznack',\n 'can i get a replacement set of headphones questznack',\n 'how long are these questznack',\n 'just got remote put a battery in nothing m i b vizio any suggestions questznack',\n 'just bought this how do you install the weatherstripping questznack',\n 'are the beams adjustable questznack',\n 'how long is shipping questznack',\n 'hi will this fit the bosch mr evs router questznack',\n 'is the tooth real questznack',\n 'can you connect vga video and mm audio on the source device and receive the sources combined into hdmi on the target device questznack',\n 'what is the average lifespan of this filter questznack',\n 'do you have or can you get this item in a or inch leg length questznack',\n 'how long does it take each time questznack',\n 'what is the seat height on this chair questznack',\n 'what are the measurements for the desktop unit',\n 'what is the difference between international version or regular questznack',\n 'will this work in a dodge a cab over pickup questznack',\n 'i never received my packet is that normal questznack',\n 'how many pairs they are questznack or voskznak are these in random color questznack thanks voskznak',\n 'what is the perimeter of the phone case questznack',\n 'will this fit onto a polaris adventure questznack it has the cargo rack and the hard saddle bags',\n 'what are the dimentions of the blue case the coin is in questznack',\n 'what s the nutritional facts questznack',\n 'with this pack do you get two of each the white and clear cartridges questznack',\n 'does this come with the magnet that sticks to your phone or is that a separate purchase questznack any recommendations for my iphone questznack',\n 'does the lock ring kit that comes with it guaranteed to fit a gm c replacement fuel tank questznack i have read reviews that state some had issues with that',\n 'mirror has a wire female connector anyone know the name sku of the male connector questznack the chevy malibu does not have one',\n 'ok the size chart doesn t really help my daughter is about to inches tall should i get the t or the t questznack she is tall and skinny',\n 'hy please let me now when will the product exist questznack',\n 'does instructions come with this questznack',\n 'what is the difference between the model with the g tf card and the one with out it',\n 'version inside',\n 'does this come with the core m y processor questznack the description says core m y processor but the th generation should have the y',\n 'is there a battery operated train that will work with this set questznack',\n 'what is the address to return or phone to call dictus brace questznack',\n 'does this work on alcatel cell phones questznack',\n 'can this be taken with food or should it be taken on an empty stomach questznack',\n 'can this be used for aquatic tutles and placed over an aquarium questznack i m concerned it will get too hot since they already have a uva w spotlamp for heat',\n 'i just purchased this and seasoned according to the instructions included i cooked it with one time and it rusted on the top and bottom over night questznack',\n 'how long does it last questznack',\n 'is there dmc numbers on the bags questznack',\n 'where is the size questznack my daughter wears women s size',\n 'i bought this product last april but it will not stay on any more is there anything you can do questznack',\n 'will this work on canon d mark ii',\n 'does it spoil after two days in the refrigerator or just turn solid questznack',\n 'i just installed this in my air purifier and i noticed a weird smell i didn t notice that with the original filter wondering if that s normal questznack',\n 'can anyone help me out with what game settings help the g steering wheel work better for forza horizon for the xbox one questznack',\n 'is this pages lined on both sides questznack so pages total questznack',\n 'how do i get the mac address for the w bulb questznack',\n 'is this safe for diabetics questznack',\n 'what s the name of the colors questznack is mother nature one of them questznack',\n 'how much does it wrap on corner questznack i have a small hairline crack at the very corner of phone and hoping it wraps enough to cover questznack',\n 'is there a way can i buy the charger e i lost it',\n 'do they fold in to the door questznack',\n 'how flexible is the vinyl questznack i want to use it with fabric in a button maker',\n 'what size is the barrel plug i would like to extend the power wire',\n 'what is the return policy questznack',\n 'are there free returns questznack',\n 'is the fire stick compatable with tivo questznack',\n 'is the bridge for nose adjustable questznack',\n 'is this using for vapeing questznack',\n 'is there a way to program a roku remote with this soundbar questznack i can t get past the mute button program because the roku remote doesn t have mute button',\n 'what is the max size window width can this fan can fit critical information',\n 'what setting do i use on the cricut explore air questznack',\n 'in the description it stated that its shipping weight is oz but the shipping company from usa to ksa charged me for oz voskznak voskznak any explanation questznack voskznak',\n 'will this work with an asus x l questznack original screen is a innolux n bge e rev c glossy',\n 'will this fit my polaris sportsman ho questznack',\n 'is there any way to ship it to brazil questznack',\n 'how do you anchor it to the ground questznack',\n 'is this good for carrots and beats questznack',\n 'is hemingweigh natural himalayan rock salt lamp on recall list questznack',\n 'i need this for a little mermaid play is this a child s hat or will it fit a year old girl questznack',\n 'can you fry breaded chicken wings legs questznack questznack',\n 'does this product contain pfas per and polyfluoroalkyl substances questznack',\n 'will this work for a honda cr v questznack and will it need additional programming questznack',\n 'how long is the inch wide strip of oz leather questznack i m backing a weightlifting belt so it needs to be or more',\n 'is there replacement insoals questznack mine need to be replaced and yet the rest of the boot is still in good shape',\n 'according to a number of web sites propylparaben can cause cancer and is banned in denmark and other european countries are you ware of this questznack',\n 'what is the size of the letters questznack',\n 'how many pumps of the progonol is equal to teaspoon questznack',\n 'is inheiritance included in this software questznack',\n 'can this bangle be made with thick pyramid ends can the background be brushed questznack',\n 'how far can you be with out your phone for the watch still get steps calls and etc',\n 'does this support internet or only questznack',\n 'can i download the software instead of using the cd as i don t have a cd drive questznack',\n 'is it for a pair or a single hook questznack',\n 'is this a genuine apple product questznack',\n 'will the grips fit a handel bar honda rubacon',\n 'the sticker left sticky on the screen protector what do i use to clean it off questznack',\n 'how do you sharpen this thing questznack',\n 'is there a reverse layout version available questznack',\n 'i m new to alexa is it hard to set it up questznack',\n 'mine fit on controller but it covers the lb rb unlike the picture which shows them uncovered is this correct questznack',\n 'do you need a special tool to put this together questznack',\n 'where is this shipped from questznack',\n 'can u take yhis with cbd oil questznack',\n 'looking for a magnetic oil drain plug where can i buy one',\n 'will this fit a xl frame with ers questznack also voskznak is this secure questznack not a lot of shake questznack',\n 'do i need a chip or does it come with it questznack',\n 'is the shipment fast questznack',\n 'how do i charge this questznack',\n 'how long to keep traction on questznack',\n 'would this work for a leprechaun beard for a gnome questznack',\n 'this doesnt work with my chicom in dash cam questznack',\n 'will the smart plug work with a way bulb questznack',\n 'will this fit sanitaire sc questznack',\n 'how well does this camera work at night questznack',\n 'do the questions come from all seasons questznack',\n 'stage',\n 'can it be rebuilt gears and latch questznack',\n 'are these intended to be worn without socks questznack not sure what sock like fit means',\n 'can i use this camera with my existing surveillance dvr or do i need a special software questznack',\n 'what does the front of the jersey look like questznack',\n 'will this work on an elite force tac questznack',\n 'can t connect wifi',\n 'does this sync with apple health questznack',\n 'my doctor suggested me to get a heating pad for my back can your heat pads cure my back pain questznack',\n 'the product image says us stock what does that mean questznack where is this item shipped from questznack',\n 'how do i extend the case questznack it seems like the locking pins are keeping it from extending to full length how do i unlock them and get it to extend questznack',\n 'does it have to be charged questznack if so how questznack how to clean questznack',\n 'has anyone had these just completely stop working soon after they bought them questznack i have tried everything',\n 'how many boxes of bags is this questznack',\n 'what is the back spacing of this wheel',\n 'can anyone tell me how many grams the ml weighs empty questznack',\n 'is this available in blue questznack',\n 'how many watts questznack',\n 'is the promotion available on the black case questznack',\n 'can you connect a monitor and tv as inputs and a ps as the output questznack',\n 'how do i return these questznack',\n 'does it have sd input questznack',\n 'will this work with voltage in the philippines questznack',\n 'is the otter box defender compatible withe wireless charging questznack',\n 'does the knife come with a camo zipper bag or a black velcro bag questznack',\n 'does this product work well while working out questznack running questznack lifting questznack',\n 'how do you turn them off questznack',\n 'my kittens are months old and this product does not mention if it is for indoor cats questznack can i use this for indoor kittens questznack',\n 'does this phone have fingerprint security',\n 'what is the best doll stand for this doll questznack the dolls do not stand without falling',\n 'my chest is kind of big so i am going to order a size up but i was wondering does the back tighten if it is to large questznack',\n 'can you use the box without attaching to the wall questznack i m looking for a portable key box',\n 'i just bought one and the remote doesnt power the scale on but it does power it off and everything else is this normal questznack',\n 'how are the measurements put on on the inside do the stay on questznack',\n 'do these tools run only on red lithium batterys questznack or will any m battery work questznack',\n 'the stiching where the handle and strap are is coming undone how do i get a new bag or get this one repaired questznack',\n 'what is the amp draw per light assembly questznack',\n 'does this qualify for a return policy powder is old and hard as rock',\n 'is the movie poster protected with an outer acrylic cover once in the frame questznack',\n 'could you tell me what size has the dots please thank u',\n 'can this be used with a hmr',\n 'why omega gel sticks together and hard to separate questznack',\n 'is this available with casters questznack',\n 'what are the dimensions of the pieces questznack',\n 'is this the same game that is already on the leap frog ultimate when purchased or is it different questznack',\n 'does this come in inch questznack',\n 'is this head gaskets',\n 'are the zionor x goggle mfi compatible questznack looking to purchase an additional mfi neck warmer mask',\n 'how do you remove the cover from the ipad questznack',\n 'i turn the volume all the way down as i do not want sound when alarm goes off just light will the sound still come on when the alarm goes off questznack',\n 'how do i find a band to fit this watch if i want to change it questznack',\n 'can this be placed on a brick wall questznack',\n 'how do i contact this seller',\n 'i want to use this on glass bottles can i paint the bottle with acrylic paint first let dry and then dip in marble paint questznack',\n 'does it come with a socket key questznack',\n 'what does lightening deal mean',\n 'how thick of a case will this allow me to have on my phone in inches questznack',\n 'has anyone compared this filter to this filter pack inch screen protector blue light and anti glare filter forito eye protection blue light questznack',\n 'does this have pockets questznack',\n 'would this work for making yogurt questznack',\n 'what comes in the box questznack',\n 'can i use it with my samsung galaxy j prime',\n 'does this work on marble questznack',\n 'i am getting a chevy suburban can anyone tell me what size i would need questznack',\n 'do you have to mix it with water',\n 'why is purple not available in size m questznack',\n 'i would like to return and get a different size how would i do that questznack',\n 'i am buying a digital card as a gift where do i enter the email to send it to',\n 'i m e and around pounds what size do you recommend i was going to get a medium but not sure if that will be too long questznack',\n 'what s going on with image questznack',\n 'where is the part number located questznack',\n 'what is the min and max lengths of the adjustable paddle questznack',\n 'would this fit in a venti starbucks tumbler questznack',\n 'are these unsulphurated questznack',\n 'hi voskznak it say s day shipping but after i place the order delivery is on jan can i have it on jan or',\n 'what is the diameter of the cable itself questznack for wire clip purposes',\n 'im still waiting on refund my tracking ses its been at post office since monday the th waiting for you to pick up its friday still nothing questznack',\n 'will they fit a street glide questznack',\n 'are the white covers true white questznack or off white questznack',\n 'cartriage refilled with black correct questznack',\n 'i m ordering diamond art nightbeach also dolphins and sweet home can i get a discount on shipping questznack',\n 'what shipping carrier will be delivering fedex ups usps questznack',\n 'on button',\n 'i m using this for my wood lathe is a moisture filter recommended if so what kind questznack',\n 'where can i find refills for this pen i have checked staples and office max they do not have it where can i get it',\n 'how thick is the gel bed questznack',\n 'is t compatible with handle model questznack',\n 'i did not receive my credit how do i retrieve questznack',\n 'dishwasher safe questznack',\n 'what countries are included in this piece set questznack',\n 'what is the largest dose it can hold questznack',\n 'should this be used before or after applying other skin products',\n 'i need a replacement cord stopped charging',\n 'how to use',\n 'do i have to buy flow control and screen separately questznack',\n 'is this tire tubeless questznack',\n 'do you need a shower liner with this product',\n 'does this product contain lead questznack',\n 'do these run true to size questznack',\n 'does this work on green wood just as well as dry questznack',\n 'what size sims card does it use questznack',\n 'could this diaper bag be used as a travel bag and water bottles used instead of baby bottles questznack',\n 'what is the warrenty on this amp questznack i have one less than a year old and it just completly stopped working questznack',\n 'does the keyboard default f keys or media keys questznack',\n 'need to exchange unigear back brace it is the wrong size need medium not xl carolyn how do ido it questznack',\n 'looking for cadillac escalade head restraint button',\n 'will these fit jeep compass questznack',\n 'how do you select the size',\n 'why does this brand have calories per serving while others do not questznack i am worried if it will break a fast',\n 'does it contain lead questznack why does it display a california proposition warning on the amazon page questznack',\n 'can you guys make a dress with my own measurements questznack',\n 'will these cover mm x mm by mm glasses questznack',\n 'i just got this in today and connected it up in ap mode successfully however when i try http it does not connect thoughts questznack',\n 'do i need of these or just one questznack',\n 'will it mold around a few credit cards if i tuck them under questznack or is it too stiff questznack',\n 'how to i transfer music files from my pc to the mp player questznack',\n 'is this clear or ab questznack',\n 'what is the size chart',\n 'is it gluten free questznack',\n 'does this come with a lid',\n 'the description says that there are units when the box camp there was only one unit are the other being shipped questznack questznack questznack',\n 'how would you compare the sensei to the rival for a y o gamer questznack',\n 'do you have to buy stand to hold back drop questznack',\n 'what is the diameter of the wire questznack thank you',\n 'i need another battery',\n 'whats your return policy questznack',\n 'how do you transfer photos without losing the file creation timestamp questznack when i transferred photos to ixpand all photo files get current datetime',\n 'what size of gu bulb is the best fit questznack',\n 'what is the size questznack',\n 'is it possible to buy only the the light strip without the receiver and plug questznack',\n 'the fret buttons aren t working for play mode questznack if you hit orange it plays the red button questznack if you press the green it plays orange questznack help questznack voskznak',\n 'can you eat and drink with these in questznack',\n 'bristles too soft to be effective hinge below broom head too loose to maintain position handle doesn t fit onto dustbin pole would like send back',\n 'i ordered a x for my pitbull and it didnt fit i could get it on his arms and legs but the buttons wouldnt even touch should i go up a size or questznack',\n 'i need a new power plug to charge my unit questznack what are the plug specs questznack',\n 'how many watts questznack',\n 'just received this yesterday the directions are extremely limited how do you create presets how do you control dimmer questznack',\n 'are the bulbs replaceable questznack light no longer goes on with new batteries',\n 'is this compatible with the rca w sa t tablet questznack',\n 'can this be used with a liftmaster la pkgu gate opener questznack if so how do i wire it to the opener questznack',\n 'i placed an order for this double din street glide kit will it work with all factory functions questznack thumb controls etc if not i will to cancel or',\n 'it looks like a zip drive in one of the photos is it questznack',\n 'is the raisin color actually a burgundy or wine red color questznack i want to make sure the color will match my shoes before purchasing questznack',\n 'what is the expiration date if i order today questznack',\n ...]"
     },
     "execution_count": 10,
     "metadata": {},
     "output_type": "execute_result"
    }
   ],
   "source": [
    "data_X"
   ],
   "metadata": {
    "collapsed": false,
    "pycharm": {
     "name": "#%%\n"
    }
   }
  },
  {
   "cell_type": "markdown",
   "source": [
    "### Деление на трейн и тест"
   ],
   "metadata": {
    "collapsed": false,
    "pycharm": {
     "name": "#%% md\n"
    }
   }
  },
  {
   "cell_type": "code",
   "execution_count": 10,
   "outputs": [],
   "source": [
    "X_train, X_test, y_train, y_test = train_test_split(data_X, data_y, test_size=0.25)"
   ],
   "metadata": {
    "collapsed": false,
    "pycharm": {
     "name": "#%%\n"
    }
   }
  },
  {
   "cell_type": "markdown",
   "source": [
    "### Обучение w2v"
   ],
   "metadata": {
    "collapsed": false,
    "pycharm": {
     "name": "#%% md\n"
    }
   }
  },
  {
   "cell_type": "code",
   "execution_count": 11,
   "outputs": [
    {
     "data": {
      "text/plain": "(10993866, 63355665)"
     },
     "execution_count": 11,
     "metadata": {},
     "output_type": "execute_result"
    }
   ],
   "source": [
    "w2v_model = Word2Vec(min_count=3, window=5, vector_size=100, sg=1)\n",
    "w2v_model.build_vocab(X_train)\n",
    "w2v_model.train(X_train, total_examples=len(X_train), epochs=w2v_model.epochs)"
   ],
   "metadata": {
    "collapsed": false,
    "pycharm": {
     "name": "#%%\n"
    }
   }
  },
  {
   "cell_type": "markdown",
   "source": [
    "### Прогоняем все тексты через w2v и делаем одинаковой размерности"
   ],
   "metadata": {
    "collapsed": false,
    "pycharm": {
     "name": "#%% md\n"
    }
   }
  },
  {
   "cell_type": "code",
   "execution_count": 12,
   "outputs": [],
   "source": [
    "def final_transform(X_train, X_test, emb_size):\n",
    "    full_train_texts = []\n",
    "    full_test_texts = []\n",
    "\n",
    "    for text in X_train:\n",
    "        sentence = []\n",
    "        q = np.ones(emb_size)\n",
    "        for word in text:\n",
    "            if word in w2v_model.wv.key_to_index:\n",
    "                sentence.append(w2v_model.wv[word])\n",
    "            else:\n",
    "                sentence.append(q)\n",
    "        full_train_texts.append(sentence)\n",
    "\n",
    "    for text in X_test:\n",
    "        sentence = []\n",
    "        q = np.ones(emb_size)\n",
    "        for word in text:\n",
    "            if word in w2v_model.wv.key_to_index:\n",
    "                sentence.append(w2v_model.wv[word])\n",
    "            else:\n",
    "                sentence.append(q)\n",
    "        full_test_texts.append(sentence)\n",
    "\n",
    "    max_length = np.array([len(x) for x in full_train_texts]).mean().astype(int)\n",
    "\n",
    "    format_train_text = []\n",
    "    for text in full_train_texts:\n",
    "        temp = np.zeros((max_length, emb_size))\n",
    "        if len(text)!=0:\n",
    "            temp[:min(max_length, len(text))] = text[:min(max_length, len(text))]\n",
    "        format_train_text.append(temp)\n",
    "\n",
    "\n",
    "    format_test_text = []\n",
    "    for text in full_test_texts:\n",
    "        temp = np.zeros((max_length, emb_size))\n",
    "        if len(text)!=0:\n",
    "            temp[:min(max_length, len(text))] = text[:min(max_length, len(text))]\n",
    "        format_test_text.append(temp)\n",
    "\n",
    "    format_test_text = np.array(format_test_text)\n",
    "    format_train_text = np.array(format_train_text)\n",
    "    return(format_train_text, format_test_text)"
   ],
   "metadata": {
    "collapsed": false,
    "pycharm": {
     "name": "#%%\n"
    }
   }
  },
  {
   "cell_type": "code",
   "execution_count": 13,
   "outputs": [],
   "source": [
    "X_train, X_test = final_transform(X_train, X_test, 100)"
   ],
   "metadata": {
    "collapsed": false,
    "pycharm": {
     "name": "#%%\n"
    }
   }
  },
  {
   "cell_type": "markdown",
   "source": [
    "### Датасет"
   ],
   "metadata": {
    "collapsed": false,
    "pycharm": {
     "name": "#%% md\n"
    }
   }
  },
  {
   "cell_type": "code",
   "execution_count": 14,
   "outputs": [],
   "source": [
    "class CustomDataset(Dataset):\n",
    "    def __init__(self, X, y):\n",
    "        self.X = torch.Tensor(X)\n",
    "        self.y = torch.tensor(y.tolist())\n",
    "\n",
    "    def __len__(self):\n",
    "        return self.X.shape[0]\n",
    "\n",
    "    def __getitem__(self, item):\n",
    "        return(self.X[item], self.y[item])"
   ],
   "metadata": {
    "collapsed": false,
    "pycharm": {
     "name": "#%%\n"
    }
   }
  },
  {
   "cell_type": "markdown",
   "source": [
    "### Реализация LSTM с промежуточным attention"
   ],
   "metadata": {
    "collapsed": false,
    "pycharm": {
     "name": "#%% md\n"
    }
   }
  },
  {
   "cell_type": "code",
   "execution_count": 15,
   "outputs": [],
   "source": [
    "class MyLSTM(nn.Module):\n",
    "    def __init__(self, emb_size):\n",
    "        super(MyLSTM, self).__init__()\n",
    "        self.attention_weight = nn.Linear(emb_size//2, 1)\n",
    "        self.LSTM = nn.LSTM(emb_size, emb_size//2, batch_first=True)\n",
    "        self.seq = nn.Sequential(\n",
    "            nn.Linear(emb_size//2, emb_size//4),\n",
    "            nn.Linear(emb_size//4, 1),\n",
    "            nn.Sigmoid()\n",
    "        )\n",
    "\n",
    "    def forward(self, x):\n",
    "        x =  self.LSTM(x)[0] ### LSTM\n",
    "        w = self.attention_weight(x).squeeze() ### взвешиваем слова\n",
    "        w = nn.Softmax(dim=-1)(w).unsqueeze(1) ### взвешиваем слова так, чтобы веса были в диапазоне от 0 до 1\n",
    "        x = torch.matmul(w, x).squeeze() ### Нужно чтобы взвесить слова\n",
    "        x = self.seq(x).squeeze()\n",
    "        return x"
   ],
   "metadata": {
    "collapsed": false,
    "pycharm": {
     "name": "#%%\n"
    }
   }
  },
  {
   "cell_type": "markdown",
   "source": [
    "### loss функция для обучения НС"
   ],
   "metadata": {
    "collapsed": false,
    "pycharm": {
     "name": "#%% md\n"
    }
   }
  },
  {
   "cell_type": "code",
   "execution_count": 30,
   "outputs": [],
   "source": [
    "def loss_function(pred, true):\n",
    "    loss = nn.BCELoss()\n",
    "    return loss(pred, true)"
   ],
   "metadata": {
    "collapsed": false,
    "pycharm": {
     "name": "#%%\n"
    }
   }
  },
  {
   "cell_type": "markdown",
   "source": [
    "### Функция обучения НС"
   ],
   "metadata": {
    "collapsed": false,
    "pycharm": {
     "name": "#%% md\n"
    }
   }
  },
  {
   "cell_type": "code",
   "execution_count": 52,
   "outputs": [],
   "source": [
    "all_train_losses = []\n",
    "all_test_losses = []\n",
    "def train_model(model,\n",
    "                num_epochs,\n",
    "                loss_function,\n",
    "                optimizer,\n",
    "                scheduler,\n",
    "                train_dataloader,\n",
    "                test_dataloader):\n",
    "    for epoch in range(num_epochs):\n",
    "        train_loss = 0\n",
    "        test_loss = 0\n",
    "        model.train(True)\n",
    "        print(f'epoch_number is {epoch}. Train')\n",
    "        for (X, y) in tqdm(train_dataloader):\n",
    "            model.zero_grad()\n",
    "            X = X.to(device)\n",
    "            y = y.to(device)\n",
    "            preds = model.forward(X)\n",
    "            loss = loss_function(preds, y.float())\n",
    "            loss.backward()\n",
    "            optimizer.step()\n",
    "            train_loss += loss.detach().item() / (len(train_dataloader))\n",
    "        model.train(False)\n",
    "        model.eval()\n",
    "        print(f'epoch_number is {epoch}. Test')\n",
    "        for (X, y) in tqdm(test_dataloader):\n",
    "            X = X.to(device)\n",
    "            y = y.to(device)\n",
    "            preds = model.forward(X)\n",
    "            loss = loss_function(preds, y.float())\n",
    "            test_loss += loss.detach().item() / (len(test_dataloader))\n",
    "        scheduler.step(test_loss)\n",
    "        clear_output()\n",
    "        all_train_losses.append(train_loss)\n",
    "        all_test_losses.append(test_loss)\n",
    "        print('loss train', train_loss)\n",
    "        print('loss test', test_loss)\n",
    "        plt.figure(figsize = (10, 6))\n",
    "        plt.plot(all_train_losses, label = 'Train loss', color = 'blue')\n",
    "        plt.plot(all_test_losses, label = 'Val loss', color = 'orange')\n",
    "        plt.legend()\n",
    "        plt.ylabel('Loss')\n",
    "        plt.grid()\n",
    "        plt.show()"
   ],
   "metadata": {
    "collapsed": false,
    "pycharm": {
     "name": "#%%\n"
    }
   }
  },
  {
   "cell_type": "markdown",
   "source": [
    "### Обучение нейронной сети"
   ],
   "metadata": {
    "collapsed": false,
    "pycharm": {
     "name": "#%% md\n"
    }
   }
  },
  {
   "cell_type": "code",
   "execution_count": 53,
   "outputs": [],
   "source": [
    "batch_size = 1024\n",
    "train_dataset = CustomDataset(X_train, y_train)\n",
    "train_dataloader = DataLoader(train_dataset, batch_size=batch_size, shuffle=True, drop_last=True)\n",
    "test_dataset = CustomDataset(X_test, y_test)\n",
    "test_dataloader = DataLoader(test_dataset, batch_size=batch_size, shuffle=False, drop_last=False)"
   ],
   "metadata": {
    "collapsed": false,
    "pycharm": {
     "name": "#%%\n"
    }
   }
  },
  {
   "cell_type": "code",
   "execution_count": 54,
   "outputs": [],
   "source": [
    "model = MyLSTM(100)\n",
    "device = 'cuda' if torch.cuda.is_available() else 'cpu'\n",
    "model = model.to(device)\n",
    "num_epochs = 50\n",
    "lr = 1e-4\n",
    "optimizer = Adam(model.parameters(), lr=lr)\n",
    "scheduler = ReduceLROnPlateau(optimizer=optimizer, factor=0.5, patience=2, threshold=1e-3)"
   ],
   "metadata": {
    "collapsed": false,
    "pycharm": {
     "name": "#%%\n"
    }
   }
  },
  {
   "cell_type": "code",
   "execution_count": 55,
   "outputs": [
    {
     "name": "stdout",
     "output_type": "stream",
     "text": [
      "loss train 0.5909776451319634\n",
      "loss test 0.5901240068569519\n"
     ]
    },
    {
     "data": {
      "text/plain": "<Figure size 720x432 with 1 Axes>",
      "image/png": "[encoded data removed]"
     },
     "metadata": {
      "needs_background": "light"
     },
     "output_type": "display_data"
    }
   ],
   "source": [
    "train_model(model, num_epochs, loss_function, optimizer, scheduler, train_dataloader, test_dataloader)"
   ],
   "metadata": {
    "collapsed": false,
    "pycharm": {
     "name": "#%%\n"
    }
   }
  },
  {
   "cell_type": "markdown",
   "source": [
    "### Получение предсказаний на тесте"
   ],
   "metadata": {
    "collapsed": false,
    "pycharm": {
     "name": "#%% md\n"
    }
   }
  },
  {
   "cell_type": "code",
   "execution_count": 56,
   "outputs": [
    {
     "name": "stderr",
     "output_type": "stream",
     "text": [
      "100%|██████████| 57/57 [00:01<00:00, 41.24it/s]\n"
     ]
    }
   ],
   "source": [
    "preds = []\n",
    "real = []\n",
    "for x, y in tqdm(test_dataloader):\n",
    "    with torch.no_grad():\n",
    "        preds.append(model.forward(x.to(device)).detach().cpu().numpy())\n",
    "        real.append(y.numpy())\n"
   ],
   "metadata": {
    "collapsed": false,
    "pycharm": {
     "name": "#%%\n"
    }
   }
  },
  {
   "cell_type": "code",
   "execution_count": 57,
   "outputs": [],
   "source": [
    "final_preds = (np.concatenate(preds)>0.5).astype(int)\n",
    "real = np.concatenate(real)"
   ],
   "metadata": {
    "collapsed": false,
    "pycharm": {
     "name": "#%%\n"
    }
   }
  },
  {
   "cell_type": "code",
   "execution_count": 58,
   "outputs": [
    {
     "name": "stdout",
     "output_type": "stream",
     "text": [
      "              precision    recall  f1-score   support\n",
      "\n",
      "           0       0.69      0.50      0.58     24446\n",
      "           1       0.69      0.83      0.76     33454\n",
      "\n",
      "    accuracy                           0.69     57900\n",
      "   macro avg       0.69      0.67      0.67     57900\n",
      "weighted avg       0.69      0.69      0.68     57900\n",
      "\n"
     ]
    }
   ],
   "source": [
    "print(classification_report(real, final_preds))"
   ],
   "metadata": {
    "collapsed": false,
    "pycharm": {
     "name": "#%%\n"
    }
   }
  },
  {
   "cell_type": "markdown",
   "source": [
    "### Вывод\n",
    "Результат мог быть лучше, если бы обучение происходило с использованием self-attention или использовании трансформеров ИЛИ если увеличить количество слов, которое может быть обработано нейронной сетью,нако это сильно уменьшает скорость обучения"
   ],
   "metadata": {
    "collapsed": false,
    "pycharm": {
     "name": "#%% md\n"
    }
   }
  },
  {
   "cell_type": "code",
   "execution_count": null,
   "outputs": [],
   "source": [],
   "metadata": {
    "collapsed": false,
    "pycharm": {
     "name": "#%%\n"
    }
   }
  }
 ],
 "metadata": {
  "kernelspec": {
   "display_name": "Python 3",
   "language": "python",
   "name": "python3"
  },
  "language_info": {
   "codemirror_mode": {
    "name": "ipython",
    "version": 2
   },
   "file_extension": ".py",
   "mimetype": "text/x-python",
   "name": "python",
   "nbconvert_exporter": "python",
   "pygments_lexer": "ipython2",
   "version": "2.7.6"
  }
 },
 "nbformat": 4,
 "nbformat_minor": 0
}