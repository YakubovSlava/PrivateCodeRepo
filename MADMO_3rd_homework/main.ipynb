{
 "cells": [
  {
   "cell_type": "markdown",
   "source": [
    "### Импорт необходимых библиотек"
   ],
   "metadata": {
    "collapsed": false,
    "pycharm": {
     "name": "#%% md\n"
    }
   }
  },
  {
   "cell_type": "code",
   "execution_count": 1,
   "outputs": [
    {
     "name": "stderr",
     "output_type": "stream",
     "text": [
      "d:\\mlp\\machinelearning\\venv\\lib\\site-packages\\torchvision\\io\\image.py:11: UserWarning: Failed to load image Python extension: Could not find module 'D:\\mlp\\MachineLearning\\venv\\Lib\\site-packages\\torchvision\\image.pyd' (or one of its dependencies). Try using the full path with constructor syntax.\n",
      "  warn(f\"Failed to load image Python extension: {e}\")\n"
     ]
    }
   ],
   "source": [
    "import re # Для обработки текстов\n",
    "from gensim.models import Word2Vec # Готовая word2vec для обучения и использования\n",
    "from tqdm import tqdm # Для отслеживания прогресса различных задач\n",
    "import pandas as pd # Для считывания информации о датасете\n",
    "from torch.optim.lr_scheduler import ReduceLROnPlateau # Для обучения нейронной сети\n",
    "from torch.optim import Adam # Оптимизатор нейронной сети\n",
    "from IPython.display import clear_output # Для отчистки графика во время обучения НС\n",
    "from sklearn.metrics import classification_report # Для вывода финальных метрик\n",
    "import matplotlib.pyplot as plt # Для визуализации\n",
    "import numpy as np # Для математических операций\n",
    "from sklearn.model_selection import train_test_split # для создания тестовой выборки\n",
    "import torchvision.models as models # Для импортирования моедлей pytorch\n",
    "import torch # Для работы с глебоким обучением\n",
    "from torch import nn #\n",
    "from torch.utils.data import Dataset, DataLoader # Для удобного создания датасетов и лоадеров\n",
    "from sklearn.utils import resample # Для сэмплирования"
   ],
   "metadata": {
    "collapsed": false,
    "pycharm": {
     "name": "#%%\n"
    }
   }
  },
  {
   "cell_type": "markdown",
   "source": [
    "### Чтение данных"
   ],
   "metadata": {
    "collapsed": false,
    "pycharm": {
     "name": "#%% md\n"
    }
   }
  },
  {
   "cell_type": "code",
   "execution_count": null,
   "outputs": [],
   "source": [
    "data = pd.read_csv('Pre_Post_Questions.csv', sep=',', encoding='latin1')"
   ],
   "metadata": {
    "collapsed": false,
    "pycharm": {
     "name": "#%%\n"
    }
   }
  },
  {
   "cell_type": "code",
   "execution_count": 3,
   "outputs": [
    {
     "data": {
      "text/plain": "id             0\nquestion       0\nitem_name    123\nlabel        304\ndtype: int64"
     },
     "execution_count": 3,
     "metadata": {},
     "output_type": "execute_result"
    }
   ],
   "source": [
    "data.isna().sum()"
   ],
   "metadata": {
    "collapsed": false,
    "pycharm": {
     "name": "#%%\n"
    }
   }
  },
  {
   "cell_type": "code",
   "execution_count": 4,
   "outputs": [],
   "source": [
    "data = data[~data.label.isna()]"
   ],
   "metadata": {
    "collapsed": false,
    "pycharm": {
     "name": "#%%\n"
    }
   }
  },
  {
   "cell_type": "code",
   "execution_count": 5,
   "outputs": [],
   "source": [
    "data.iloc[:, 3] = pd.Series((data.label=='Pre').astype(int))"
   ],
   "metadata": {
    "collapsed": false,
    "pycharm": {
     "name": "#%%\n"
    }
   }
  },
  {
   "cell_type": "code",
   "execution_count": 6,
   "outputs": [],
   "source": [
    "data_X, data_y = data.question, data.label"
   ],
   "metadata": {
    "collapsed": false,
    "pycharm": {
     "name": "#%%\n"
    }
   }
  },
  {
   "cell_type": "markdown",
   "source": [
    "### Препроцессинг данных"
   ],
   "metadata": {
    "collapsed": false,
    "pycharm": {
     "name": "#%% md\n"
    }
   }
  },
  {
   "cell_type": "code",
   "execution_count": 7,
   "outputs": [],
   "source": [
    "class Preprocessor:\n",
    "    def __init__(self, texts):\n",
    "        self.texts_v1 = list(texts)\n",
    "        self.texts_v2 = []\n",
    "        self.main()\n",
    "    def main(self):\n",
    "        new_texts = []\n",
    "        for sentence in tqdm(self.texts_v1):\n",
    "            temp = sentence.lower()\n",
    "            temp = re.sub('\\t', ' ', temp)\n",
    "            temp = re.sub('[!]', ' voskznak ', temp)\n",
    "            temp = re.sub('[?]', ' questznack ', temp)\n",
    "            temp = re.sub('[^a-zA-Z ]', ' ', temp)\n",
    "            temp = re.sub(\"[^a-zA-Z0-9\\'\\\"]\", ' ', temp)\n",
    "            temp = re.sub(r'\\s+', ' ', temp)\n",
    "            temp = temp.strip()\n",
    "            new_texts.append(temp)\n",
    "        self.texts_v2 = new_texts"
   ],
   "metadata": {
    "collapsed": false,
    "pycharm": {
     "name": "#%%\n"
    }
   }
  },
  {
   "cell_type": "code",
   "execution_count": 8,
   "outputs": [
    {
     "name": "stderr",
     "output_type": "stream",
     "text": [
      "100%|██████████| 231600/231600 [00:02<00:00, 86321.96it/s]\n"
     ]
    }
   ],
   "source": [
    "pr = Preprocessor(data_X)"
   ],
   "metadata": {
    "collapsed": false,
    "pycharm": {
     "name": "#%%\n"
    }
   }
  },
  {
   "cell_type": "code",
   "execution_count": 9,
   "outputs": [],
   "source": [
    "data_X = pr.texts_v2"
   ],
   "metadata": {
    "collapsed": false,
    "pycharm": {
     "name": "#%%\n"
    }
   }
  },
  {
   "cell_type": "markdown",
   "source": [
    "### Деление на трейн и тест"
   ],
   "metadata": {
    "collapsed": false,
    "pycharm": {
     "name": "#%% md\n"
    }
   }
  },
  {
   "cell_type": "code",
   "execution_count": 10,
   "outputs": [],
   "source": [
    "X_train, X_test, y_train, y_test = train_test_split(data_X, data_y, test_size=0.25)"
   ],
   "metadata": {
    "collapsed": false,
    "pycharm": {
     "name": "#%%\n"
    }
   }
  },
  {
   "cell_type": "markdown",
   "source": [
    "### Обучение w2v"
   ],
   "metadata": {
    "collapsed": false,
    "pycharm": {
     "name": "#%% md\n"
    }
   }
  },
  {
   "cell_type": "code",
   "execution_count": 11,
   "outputs": [
    {
     "data": {
      "text/plain": "(10993866, 63355665)"
     },
     "execution_count": 11,
     "metadata": {},
     "output_type": "execute_result"
    }
   ],
   "source": [
    "w2v_model = Word2Vec(min_count=3, window=5, vector_size=100, sg=1)\n",
    "w2v_model.build_vocab(X_train)\n",
    "w2v_model.train(X_train, total_examples=len(X_train), epochs=w2v_model.epochs)"
   ],
   "metadata": {
    "collapsed": false,
    "pycharm": {
     "name": "#%%\n"
    }
   }
  },
  {
   "cell_type": "markdown",
   "source": [
    "### Прогоняем все тексты через w2v и делаем одинаковой размерности"
   ],
   "metadata": {
    "collapsed": false,
    "pycharm": {
     "name": "#%% md\n"
    }
   }
  },
  {
   "cell_type": "code",
   "execution_count": 12,
   "outputs": [],
   "source": [
    "def final_transform(X_train, X_test, emb_size):\n",
    "    full_train_texts = []\n",
    "    full_test_texts = []\n",
    "\n",
    "    for text in X_train:\n",
    "        sentence = []\n",
    "        q = np.ones(emb_size)\n",
    "        for word in text:\n",
    "            if word in w2v_model.wv.key_to_index:\n",
    "                sentence.append(w2v_model.wv[word])\n",
    "            else:\n",
    "                sentence.append(q)\n",
    "        full_train_texts.append(sentence)\n",
    "\n",
    "    for text in X_test:\n",
    "        sentence = []\n",
    "        q = np.ones(emb_size)\n",
    "        for word in text:\n",
    "            if word in w2v_model.wv.key_to_index:\n",
    "                sentence.append(w2v_model.wv[word])\n",
    "            else:\n",
    "                sentence.append(q)\n",
    "        full_test_texts.append(sentence)\n",
    "\n",
    "    max_length = np.array([len(x) for x in full_train_texts]).mean().astype(int)\n",
    "\n",
    "    format_train_text = []\n",
    "    for text in full_train_texts:\n",
    "        temp = np.zeros((max_length, emb_size))\n",
    "        if len(text)!=0:\n",
    "            temp[:min(max_length, len(text))] = text[:min(max_length, len(text))]\n",
    "        format_train_text.append(temp)\n",
    "\n",
    "\n",
    "    format_test_text = []\n",
    "    for text in full_test_texts:\n",
    "        temp = np.zeros((max_length, emb_size))\n",
    "        if len(text)!=0:\n",
    "            temp[:min(max_length, len(text))] = text[:min(max_length, len(text))]\n",
    "        format_test_text.append(temp)\n",
    "\n",
    "    format_test_text = np.array(format_test_text)\n",
    "    format_train_text = np.array(format_train_text)\n",
    "    return(format_train_text, format_test_text)"
   ],
   "metadata": {
    "collapsed": false,
    "pycharm": {
     "name": "#%%\n"
    }
   }
  },
  {
   "cell_type": "code",
   "execution_count": 13,
   "outputs": [],
   "source": [
    "X_train, X_test = final_transform(X_train, X_test, 100)"
   ],
   "metadata": {
    "collapsed": false,
    "pycharm": {
     "name": "#%%\n"
    }
   }
  },
  {
   "cell_type": "markdown",
   "source": [
    "### Датасет"
   ],
   "metadata": {
    "collapsed": false,
    "pycharm": {
     "name": "#%% md\n"
    }
   }
  },
  {
   "cell_type": "code",
   "execution_count": 14,
   "outputs": [],
   "source": [
    "class CustomDataset(Dataset):\n",
    "    def __init__(self, X, y):\n",
    "        self.X = torch.Tensor(X)\n",
    "        self.y = torch.tensor(y.tolist())\n",
    "\n",
    "    def __len__(self):\n",
    "        return self.X.shape[0]\n",
    "\n",
    "    def __getitem__(self, item):\n",
    "        return(self.X[item], self.y[item])"
   ],
   "metadata": {
    "collapsed": false,
    "pycharm": {
     "name": "#%%\n"
    }
   }
  },
  {
   "cell_type": "markdown",
   "source": [
    "### Реализация LSTM с промежуточным attention"
   ],
   "metadata": {
    "collapsed": false,
    "pycharm": {
     "name": "#%% md\n"
    }
   }
  },
  {
   "cell_type": "code",
   "execution_count": 15,
   "outputs": [],
   "source": [
    "class MyLSTM(nn.Module):\n",
    "    def __init__(self, emb_size):\n",
    "        super(MyLSTM, self).__init__()\n",
    "        self.attention_weight = nn.Linear(emb_size//2, 1)\n",
    "        self.LSTM = nn.LSTM(emb_size, emb_size//2, batch_first=True)\n",
    "        self.seq = nn.Sequential(\n",
    "            nn.Linear(emb_size//2, emb_size//4),\n",
    "            nn.Linear(emb_size//4, 1),\n",
    "            nn.Sigmoid()\n",
    "        )\n",
    "\n",
    "    def forward(self, x):\n",
    "        x =  self.LSTM(x)[0] ### LSTM\n",
    "        w = self.attention_weight(x).squeeze() ### взвешиваем слова\n",
    "        w = nn.Softmax(dim=-1)(w).unsqueeze(1) ### взвешиваем слова так, чтобы веса были в диапазоне от 0 до 1\n",
    "        x = torch.matmul(w, x).squeeze() ### Нужно чтобы взвесить слова\n",
    "        x = self.seq(x).squeeze()\n",
    "        return x"
   ],
   "metadata": {
    "collapsed": false,
    "pycharm": {
     "name": "#%%\n"
    }
   }
  },
  {
   "cell_type": "markdown",
   "source": [
    "### loss функция для обучения НС"
   ],
   "metadata": {
    "collapsed": false,
    "pycharm": {
     "name": "#%% md\n"
    }
   }
  },
  {
   "cell_type": "code",
   "execution_count": 30,
   "outputs": [],
   "source": [
    "def loss_function(pred, true):\n",
    "    loss = nn.BCELoss()\n",
    "    return loss(pred, true)"
   ],
   "metadata": {
    "collapsed": false,
    "pycharm": {
     "name": "#%%\n"
    }
   }
  },
  {
   "cell_type": "markdown",
   "source": [
    "### Функция обучения НС"
   ],
   "metadata": {
    "collapsed": false,
    "pycharm": {
     "name": "#%% md\n"
    }
   }
  },
  {
   "cell_type": "code",
   "execution_count": 52,
   "outputs": [],
   "source": [
    "all_train_losses = []\n",
    "all_test_losses = []\n",
    "def train_model(model,\n",
    "                num_epochs,\n",
    "                loss_function,\n",
    "                optimizer,\n",
    "                scheduler,\n",
    "                train_dataloader,\n",
    "                test_dataloader):\n",
    "    for epoch in range(num_epochs):\n",
    "        train_loss = 0\n",
    "        test_loss = 0\n",
    "        model.train(True)\n",
    "        print(f'epoch_number is {epoch}. Train')\n",
    "        for (X, y) in tqdm(train_dataloader):\n",
    "            model.zero_grad()\n",
    "            X = X.to(device)\n",
    "            y = y.to(device)\n",
    "            preds = model.forward(X)\n",
    "            loss = loss_function(preds, y.float())\n",
    "            loss.backward()\n",
    "            optimizer.step()\n",
    "            train_loss += loss.detach().item() / (len(train_dataloader))\n",
    "        model.train(False)\n",
    "        model.eval()\n",
    "        print(f'epoch_number is {epoch}. Test')\n",
    "        for (X, y) in tqdm(test_dataloader):\n",
    "            X = X.to(device)\n",
    "            y = y.to(device)\n",
    "            preds = model.forward(X)\n",
    "            loss = loss_function(preds, y.float())\n",
    "            test_loss += loss.detach().item() / (len(test_dataloader))\n",
    "        scheduler.step(test_loss)\n",
    "        clear_output()\n",
    "        all_train_losses.append(train_loss)\n",
    "        all_test_losses.append(test_loss)\n",
    "        print('loss train', train_loss)\n",
    "        print('loss test', test_loss)\n",
    "        plt.figure(figsize = (10, 6))\n",
    "        plt.plot(all_train_losses, label = 'Train loss', color = 'blue')\n",
    "        plt.plot(all_test_losses, label = 'Val loss', color = 'orange')\n",
    "        plt.legend()\n",
    "        plt.ylabel('Loss')\n",
    "        plt.grid()\n",
    "        plt.show()"
   ],
   "metadata": {
    "collapsed": false,
    "pycharm": {
     "name": "#%%\n"
    }
   }
  },
  {
   "cell_type": "markdown",
   "source": [
    "### Обучение нейронной сети"
   ],
   "metadata": {
    "collapsed": false,
    "pycharm": {
     "name": "#%% md\n"
    }
   }
  },
  {
   "cell_type": "code",
   "execution_count": 53,
   "outputs": [],
   "source": [
    "batch_size = 1024\n",
    "train_dataset = CustomDataset(X_train, y_train)\n",
    "train_dataloader = DataLoader(train_dataset, batch_size=batch_size, shuffle=True, drop_last=True)\n",
    "test_dataset = CustomDataset(X_test, y_test)\n",
    "test_dataloader = DataLoader(test_dataset, batch_size=batch_size, shuffle=False, drop_last=False)"
   ],
   "metadata": {
    "collapsed": false,
    "pycharm": {
     "name": "#%%\n"
    }
   }
  },
  {
   "cell_type": "code",
   "execution_count": 54,
   "outputs": [],
   "source": [
    "model = MyLSTM(100)\n",
    "device = 'cuda' if torch.cuda.is_available() else 'cpu'\n",
    "model = model.to(device)\n",
    "num_epochs = 50\n",
    "lr = 1e-4\n",
    "optimizer = Adam(model.parameters(), lr=lr)\n",
    "scheduler = ReduceLROnPlateau(optimizer=optimizer, factor=0.5, patience=2, threshold=1e-3)"
   ],
   "metadata": {
    "collapsed": false,
    "pycharm": {
     "name": "#%%\n"
    }
   }
  },
  {
   "cell_type": "code",
   "execution_count": 55,
   "outputs": [
    {
     "name": "stdout",
     "output_type": "stream",
     "text": [
      "loss train 0.5909776451319634\n",
      "loss test 0.5901240068569519\n"
     ]
    },
    {
     "data": {
      "text/plain": "<Figure size 720x432 with 1 Axes>",
      "image/png": "[encoded data removed]"
     },
     "metadata": {
      "needs_background": "light"
     },
     "output_type": "display_data"
    }
   ],
   "source": [
    "train_model(model, num_epochs, loss_function, optimizer, scheduler, train_dataloader, test_dataloader)"
   ],
   "metadata": {
    "collapsed": false,
    "pycharm": {
     "name": "#%%\n"
    }
   }
  },
  {
   "cell_type": "markdown",
   "source": [
    "### Получение предсказаний на тесте"
   ],
   "metadata": {
    "collapsed": false,
    "pycharm": {
     "name": "#%% md\n"
    }
   }
  },
  {
   "cell_type": "code",
   "execution_count": 56,
   "outputs": [
    {
     "name": "stderr",
     "output_type": "stream",
     "text": [
      "100%|██████████| 57/57 [00:01<00:00, 41.24it/s]\n"
     ]
    }
   ],
   "source": [
    "preds = []\n",
    "real = []\n",
    "for x, y in tqdm(test_dataloader):\n",
    "    with torch.no_grad():\n",
    "        preds.append(model.forward(x.to(device)).detach().cpu().numpy())\n",
    "        real.append(y.numpy())\n"
   ],
   "metadata": {
    "collapsed": false,
    "pycharm": {
     "name": "#%%\n"
    }
   }
  },
  {
   "cell_type": "code",
   "execution_count": 57,
   "outputs": [],
   "source": [
    "final_preds = (np.concatenate(preds)>0.5).astype(int)\n",
    "real = np.concatenate(real)"
   ],
   "metadata": {
    "collapsed": false,
    "pycharm": {
     "name": "#%%\n"
    }
   }
  },
  {
   "cell_type": "code",
   "execution_count": 58,
   "outputs": [
    {
     "name": "stdout",
     "output_type": "stream",
     "text": [
      "              precision    recall  f1-score   support\n",
      "\n",
      "           0       0.69      0.50      0.58     24446\n",
      "           1       0.69      0.83      0.76     33454\n",
      "\n",
      "    accuracy                           0.69     57900\n",
      "   macro avg       0.69      0.67      0.67     57900\n",
      "weighted avg       0.69      0.69      0.68     57900\n",
      "\n"
     ]
    }
   ],
   "source": [
    "print(classification_report(real, final_preds))"
   ],
   "metadata": {
    "collapsed": false,
    "pycharm": {
     "name": "#%%\n"
    }
   }
  },
  {
   "cell_type": "markdown",
   "source": [
    "### Вывод\n",
    "Результат мог быть лучше, если бы обучение происходило с использованием self-attention или использовании трансформеров ИЛИ если увеличить количество слов, которое может быть обработано нейронной сетью,нако это сильно уменьшает скорость обучения"
   ],
   "metadata": {
    "collapsed": false,
    "pycharm": {
     "name": "#%% md\n"
    }
   }
  },
  {
   "cell_type": "code",
   "execution_count": null,
   "outputs": [],
   "source": [],
   "metadata": {
    "collapsed": false,
    "pycharm": {
     "name": "#%%\n"
    }
   }
  }
 ],
 "metadata": {
  "kernelspec": {
   "display_name": "Python 3",
   "language": "python",
   "name": "python3"
  },
  "language_info": {
   "codemirror_mode": {
    "name": "ipython",
    "version": 2
   },
   "file_extension": ".py",
   "mimetype": "text/x-python",
   "name": "python",
   "nbconvert_exporter": "python",
   "pygments_lexer": "ipython2",
   "version": "2.7.6"
  }
 },
 "nbformat": 4,
 "nbformat_minor": 0
}