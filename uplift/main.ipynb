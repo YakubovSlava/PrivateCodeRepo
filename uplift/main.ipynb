{
 "cells": [
  {
   "cell_type": "markdown",
   "source": [
    "### Uplift modeling\n",
    "----\n",
    "Для продвижения различных продуктов используются различные подходы:\n",
    " - look-alike модель\n",
    "Наш стандартный подход. Зная, что целевое действие совершается некоторыми клиентами и не совершается другими клиентами, пытаемся построить модель бинарной классификации.\n",
    "---\n",
    " - Response модель.\n",
    "Модель оценивающая вероятность того, что клиент совершит действие, если с ним прокоммуницировать. Лучше всего подходит в случае, если продукт берут только при условии коммуникации.\n",
    "---\n",
    " - Uplift модель.\n",
    "Данный тип модели пытается оценить чистый эффект от коммуникации, пытаясь выделить клиентов, которые совершат действие только при  наличии коммуникации."
   ],
   "metadata": {
    "collapsed": false,
    "pycharm": {
     "name": "#%% md\n"
    }
   }
  },
  {
   "cell_type": "code",
   "execution_count": 1,
   "outputs": [],
   "source": [
    "import numpy as np\n",
    "import pandas as pd"
   ],
   "metadata": {
    "collapsed": false,
    "pycharm": {
     "name": "#%%\n"
    }
   }
  },
  {
   "cell_type": "code",
   "execution_count": 2,
   "outputs": [],
   "source": [
    "from sklearn.tree import DecisionTreeClassifier\n",
    "from sklearn.tree import DecisionTreeRegressor\n",
    "from sklearn.model_selection import train_test_split"
   ],
   "metadata": {
    "collapsed": false,
    "pycharm": {
     "name": "#%%\n"
    }
   }
  },
  {
   "cell_type": "code",
   "execution_count": 3,
   "outputs": [],
   "source": [
    "from sklearn.preprocessing import LabelEncoder"
   ],
   "metadata": {
    "collapsed": false,
    "pycharm": {
     "name": "#%%\n"
    }
   }
  },
  {
   "cell_type": "code",
   "execution_count": 4,
   "outputs": [],
   "source": [
    "data = pd.read_csv('data.csv')"
   ],
   "metadata": {
    "collapsed": false,
    "pycharm": {
     "name": "#%%\n"
    }
   }
  },
  {
   "cell_type": "code",
   "execution_count": 5,
   "outputs": [
    {
     "data": {
      "text/plain": "   recency  history  used_discount  used_bogo   zip_code  is_referral channel  \\\n0       10   142.44              1          0  Surburban            0   Phone   \n1        6   329.08              1          1      Rural            1     Web   \n2        7   180.65              0          1  Surburban            1     Web   \n3        9   675.83              1          0      Rural            1     Web   \n4        2    45.34              1          0      Urban            0     Web   \n\n             offer  conversion  \n0  Buy One Get One           0  \n1         No Offer           0  \n2  Buy One Get One           0  \n3         Discount           0  \n4  Buy One Get One           0  ",
      "text/html": "<div>\n<style scoped>\n    .dataframe tbody tr th:only-of-type {\n        vertical-align: middle;\n    }\n\n    .dataframe tbody tr th {\n        vertical-align: top;\n    }\n\n    .dataframe thead th {\n        text-align: right;\n    }\n</style>\n<table border=\"1\" class=\"dataframe\">\n  <thead>\n    <tr style=\"text-align: right;\">\n      <th></th>\n      <th>recency</th>\n      <th>history</th>\n      <th>used_discount</th>\n      <th>used_bogo</th>\n      <th>zip_code</th>\n      <th>is_referral</th>\n      <th>channel</th>\n      <th>offer</th>\n      <th>conversion</th>\n    </tr>\n  </thead>\n  <tbody>\n    <tr>\n      <th>0</th>\n      <td>10</td>\n      <td>142.44</td>\n      <td>1</td>\n      <td>0</td>\n      <td>Surburban</td>\n      <td>0</td>\n      <td>Phone</td>\n      <td>Buy One Get One</td>\n      <td>0</td>\n    </tr>\n    <tr>\n      <th>1</th>\n      <td>6</td>\n      <td>329.08</td>\n      <td>1</td>\n      <td>1</td>\n      <td>Rural</td>\n      <td>1</td>\n      <td>Web</td>\n      <td>No Offer</td>\n      <td>0</td>\n    </tr>\n    <tr>\n      <th>2</th>\n      <td>7</td>\n      <td>180.65</td>\n      <td>0</td>\n      <td>1</td>\n      <td>Surburban</td>\n      <td>1</td>\n      <td>Web</td>\n      <td>Buy One Get One</td>\n      <td>0</td>\n    </tr>\n    <tr>\n      <th>3</th>\n      <td>9</td>\n      <td>675.83</td>\n      <td>1</td>\n      <td>0</td>\n      <td>Rural</td>\n      <td>1</td>\n      <td>Web</td>\n      <td>Discount</td>\n      <td>0</td>\n    </tr>\n    <tr>\n      <th>4</th>\n      <td>2</td>\n      <td>45.34</td>\n      <td>1</td>\n      <td>0</td>\n      <td>Urban</td>\n      <td>0</td>\n      <td>Web</td>\n      <td>Buy One Get One</td>\n      <td>0</td>\n    </tr>\n  </tbody>\n</table>\n</div>"
     },
     "execution_count": 5,
     "metadata": {},
     "output_type": "execute_result"
    }
   ],
   "source": [
    "data.head()"
   ],
   "metadata": {
    "collapsed": false,
    "pycharm": {
     "name": "#%%\n"
    }
   }
  },
  {
   "cell_type": "code",
   "execution_count": 6,
   "outputs": [],
   "source": [
    "data.loc[data.offer!='No Offer', 'offer'] = 'Offer'"
   ],
   "metadata": {
    "collapsed": false,
    "pycharm": {
     "name": "#%%\n"
    }
   }
  },
  {
   "cell_type": "code",
   "execution_count": 7,
   "outputs": [
    {
     "data": {
      "text/plain": "   recency  history  used_discount  used_bogo   zip_code  is_referral channel  \\\n0       10   142.44              1          0  Surburban            0   Phone   \n1        6   329.08              1          1      Rural            1     Web   \n2        7   180.65              0          1  Surburban            1     Web   \n3        9   675.83              1          0      Rural            1     Web   \n4        2    45.34              1          0      Urban            0     Web   \n\n      offer  conversion  \n0     Offer           0  \n1  No Offer           0  \n2     Offer           0  \n3     Offer           0  \n4     Offer           0  ",
      "text/html": "<div>\n<style scoped>\n    .dataframe tbody tr th:only-of-type {\n        vertical-align: middle;\n    }\n\n    .dataframe tbody tr th {\n        vertical-align: top;\n    }\n\n    .dataframe thead th {\n        text-align: right;\n    }\n</style>\n<table border=\"1\" class=\"dataframe\">\n  <thead>\n    <tr style=\"text-align: right;\">\n      <th></th>\n      <th>recency</th>\n      <th>history</th>\n      <th>used_discount</th>\n      <th>used_bogo</th>\n      <th>zip_code</th>\n      <th>is_referral</th>\n      <th>channel</th>\n      <th>offer</th>\n      <th>conversion</th>\n    </tr>\n  </thead>\n  <tbody>\n    <tr>\n      <th>0</th>\n      <td>10</td>\n      <td>142.44</td>\n      <td>1</td>\n      <td>0</td>\n      <td>Surburban</td>\n      <td>0</td>\n      <td>Phone</td>\n      <td>Offer</td>\n      <td>0</td>\n    </tr>\n    <tr>\n      <th>1</th>\n      <td>6</td>\n      <td>329.08</td>\n      <td>1</td>\n      <td>1</td>\n      <td>Rural</td>\n      <td>1</td>\n      <td>Web</td>\n      <td>No Offer</td>\n      <td>0</td>\n    </tr>\n    <tr>\n      <th>2</th>\n      <td>7</td>\n      <td>180.65</td>\n      <td>0</td>\n      <td>1</td>\n      <td>Surburban</td>\n      <td>1</td>\n      <td>Web</td>\n      <td>Offer</td>\n      <td>0</td>\n    </tr>\n    <tr>\n      <th>3</th>\n      <td>9</td>\n      <td>675.83</td>\n      <td>1</td>\n      <td>0</td>\n      <td>Rural</td>\n      <td>1</td>\n      <td>Web</td>\n      <td>Offer</td>\n      <td>0</td>\n    </tr>\n    <tr>\n      <th>4</th>\n      <td>2</td>\n      <td>45.34</td>\n      <td>1</td>\n      <td>0</td>\n      <td>Urban</td>\n      <td>0</td>\n      <td>Web</td>\n      <td>Offer</td>\n      <td>0</td>\n    </tr>\n  </tbody>\n</table>\n</div>"
     },
     "execution_count": 7,
     "metadata": {},
     "output_type": "execute_result"
    }
   ],
   "source": [
    "data.head()"
   ],
   "metadata": {
    "collapsed": false,
    "pycharm": {
     "name": "#%%\n"
    }
   }
  },
  {
   "cell_type": "code",
   "execution_count": 8,
   "outputs": [],
   "source": [
    "le = LabelEncoder()"
   ],
   "metadata": {
    "collapsed": false,
    "pycharm": {
     "name": "#%%\n"
    }
   }
  },
  {
   "cell_type": "code",
   "execution_count": 9,
   "outputs": [],
   "source": [
    "cat_features = ['zip_code', 'channel', 'offer']\n",
    "for column in cat_features:\n",
    "    le.fit(data[column])\n",
    "    data[column] = le.transform(data[column])"
   ],
   "metadata": {
    "collapsed": false,
    "pycharm": {
     "name": "#%%\n"
    }
   }
  },
  {
   "cell_type": "code",
   "execution_count": 10,
   "outputs": [],
   "source": [
    "offer = 1"
   ],
   "metadata": {
    "collapsed": false,
    "pycharm": {
     "name": "#%%\n"
    }
   }
  },
  {
   "cell_type": "code",
   "execution_count": 11,
   "outputs": [
    {
     "data": {
      "text/plain": "   recency  history  used_discount  used_bogo  zip_code  is_referral  channel  \\\n0       10   142.44              1          0         1            0        1   \n1        6   329.08              1          1         0            1        2   \n2        7   180.65              0          1         1            1        2   \n3        9   675.83              1          0         0            1        2   \n4        2    45.34              1          0         2            0        2   \n\n   offer  conversion  \n0      1           0  \n1      0           0  \n2      1           0  \n3      1           0  \n4      1           0  ",
      "text/html": "<div>\n<style scoped>\n    .dataframe tbody tr th:only-of-type {\n        vertical-align: middle;\n    }\n\n    .dataframe tbody tr th {\n        vertical-align: top;\n    }\n\n    .dataframe thead th {\n        text-align: right;\n    }\n</style>\n<table border=\"1\" class=\"dataframe\">\n  <thead>\n    <tr style=\"text-align: right;\">\n      <th></th>\n      <th>recency</th>\n      <th>history</th>\n      <th>used_discount</th>\n      <th>used_bogo</th>\n      <th>zip_code</th>\n      <th>is_referral</th>\n      <th>channel</th>\n      <th>offer</th>\n      <th>conversion</th>\n    </tr>\n  </thead>\n  <tbody>\n    <tr>\n      <th>0</th>\n      <td>10</td>\n      <td>142.44</td>\n      <td>1</td>\n      <td>0</td>\n      <td>1</td>\n      <td>0</td>\n      <td>1</td>\n      <td>1</td>\n      <td>0</td>\n    </tr>\n    <tr>\n      <th>1</th>\n      <td>6</td>\n      <td>329.08</td>\n      <td>1</td>\n      <td>1</td>\n      <td>0</td>\n      <td>1</td>\n      <td>2</td>\n      <td>0</td>\n      <td>0</td>\n    </tr>\n    <tr>\n      <th>2</th>\n      <td>7</td>\n      <td>180.65</td>\n      <td>0</td>\n      <td>1</td>\n      <td>1</td>\n      <td>1</td>\n      <td>2</td>\n      <td>1</td>\n      <td>0</td>\n    </tr>\n    <tr>\n      <th>3</th>\n      <td>9</td>\n      <td>675.83</td>\n      <td>1</td>\n      <td>0</td>\n      <td>0</td>\n      <td>1</td>\n      <td>2</td>\n      <td>1</td>\n      <td>0</td>\n    </tr>\n    <tr>\n      <th>4</th>\n      <td>2</td>\n      <td>45.34</td>\n      <td>1</td>\n      <td>0</td>\n      <td>2</td>\n      <td>0</td>\n      <td>2</td>\n      <td>1</td>\n      <td>0</td>\n    </tr>\n  </tbody>\n</table>\n</div>"
     },
     "execution_count": 11,
     "metadata": {},
     "output_type": "execute_result"
    }
   ],
   "source": [
    "data.head()"
   ],
   "metadata": {
    "collapsed": false,
    "pycharm": {
     "name": "#%%\n"
    }
   }
  },
  {
   "cell_type": "code",
   "execution_count": 12,
   "outputs": [],
   "source": [
    "X, y = data.drop(columns='conversion'), data.conversion"
   ],
   "metadata": {
    "collapsed": false,
    "pycharm": {
     "name": "#%%\n"
    }
   }
  },
  {
   "cell_type": "code",
   "execution_count": 13,
   "outputs": [],
   "source": [
    "X_train, X_test, y_train, y_test = train_test_split(X, y, test_size=0.33, random_state=42)"
   ],
   "metadata": {
    "collapsed": false,
    "pycharm": {
     "name": "#%%\n"
    }
   }
  },
  {
   "cell_type": "markdown",
   "source": [
    "### Single model aproach Или же S-learner"
   ],
   "metadata": {
    "collapsed": false,
    "pycharm": {
     "name": "#%% md\n"
    }
   }
  },
  {
   "cell_type": "code",
   "execution_count": 14,
   "outputs": [],
   "source": [
    "base_model = DecisionTreeClassifier(max_depth=20)"
   ],
   "metadata": {
    "collapsed": false,
    "pycharm": {
     "name": "#%%\n"
    }
   }
  },
  {
   "cell_type": "code",
   "execution_count": 15,
   "outputs": [],
   "source": [
    "class SLearner:\n",
    "    def __init__(self, communication_field='offer'):\n",
    "        self.model = base_model\n",
    "        self.com_field = communication_field\n",
    "    def fit(self, X, y):\n",
    "        self.model.fit(X, y)\n",
    "    def predict(self, X):\n",
    "        X_with_communication = X.copy()\n",
    "        X_without_communication = X.copy()\n",
    "        X_with_communication[self.com_field] = 1\n",
    "        X_without_communication[self.com_field] = 0\n",
    "        pred_with_c = self.model.predict_proba(X_with_communication)[:, 1]\n",
    "        pred_without_c = self.model.predict_proba(X_without_communication)[:, 1]\n",
    "\n",
    "        return pred_with_c-pred_without_c"
   ],
   "metadata": {
    "collapsed": false,
    "pycharm": {
     "name": "#%%\n"
    }
   }
  },
  {
   "cell_type": "code",
   "execution_count": 16,
   "outputs": [],
   "source": [
    "slearner = SLearner()\n",
    "slearner.fit(X_train, y_train)\n",
    "pred_slearner = slearner.predict(X_test)"
   ],
   "metadata": {
    "collapsed": false,
    "pycharm": {
     "name": "#%%\n"
    }
   }
  },
  {
   "cell_type": "markdown",
   "source": [
    "### Two model aproach или же T-leaner"
   ],
   "metadata": {
    "collapsed": false,
    "pycharm": {
     "name": "#%% md\n"
    }
   }
  },
  {
   "cell_type": "code",
   "execution_count": 17,
   "outputs": [],
   "source": [
    "class TLearner:\n",
    "    def __init__(self, communication_field='offer'):\n",
    "        self.model_treatment =  DecisionTreeClassifier(max_depth=20)\n",
    "        self.model_control =  DecisionTreeClassifier(max_depth=20)\n",
    "        self.com_field = communication_field\n",
    "\n",
    "    def fit(self, X, y):\n",
    "        X_with_communication = X[X[self.com_field]==1].drop(columns=self.com_field)\n",
    "        y_with_communication = y[X[self.com_field]==1]\n",
    "        X_without_communication = X[X[self.com_field]==0].drop(columns=self.com_field)\n",
    "        y_without_communication = y[X[self.com_field]==0]\n",
    "        self.model_treatment.fit(X_with_communication, y_with_communication)\n",
    "        self.model_control.fit(X_without_communication, y_without_communication)\n",
    "    def predict(self, X):\n",
    "        X_with_communication = X.drop(columns=self.com_field)\n",
    "        X_without_communication = X.drop(columns=self.com_field)\n",
    "        pred_with_c = self.model_treatment.predict_proba(X_with_communication)[:, 1]\n",
    "        pred_without_c = self.model_control.predict_proba(X_without_communication)[:, 1]\n",
    "\n",
    "        return pred_with_c-pred_without_c"
   ],
   "metadata": {
    "collapsed": false,
    "pycharm": {
     "name": "#%%\n"
    }
   }
  },
  {
   "cell_type": "code",
   "execution_count": 18,
   "outputs": [],
   "source": [
    "tlearner = TLearner()\n",
    "tlearner.fit(X_train, y_train)\n",
    "pred_tlearner = tlearner.predict(X_test)"
   ],
   "metadata": {
    "collapsed": false,
    "pycharm": {
     "name": "#%%\n"
    }
   }
  },
  {
   "cell_type": "code",
   "execution_count": 19,
   "outputs": [
    {
     "data": {
      "text/plain": "1.0"
     },
     "execution_count": 19,
     "metadata": {},
     "output_type": "execute_result"
    }
   ],
   "source": [
    "pred_tlearner.max()"
   ],
   "metadata": {
    "collapsed": false,
    "pycharm": {
     "name": "#%%\n"
    }
   }
  },
  {
   "cell_type": "markdown",
   "source": [
    "### Две созависимые модели или X-learner"
   ],
   "metadata": {
    "collapsed": false,
    "pycharm": {
     "name": "#%% md\n"
    }
   }
  },
  {
   "cell_type": "code",
   "execution_count": 20,
   "outputs": [],
   "source": [
    "class XLearner:\n",
    "    def __init__(self, communication_field='offer'):\n",
    "        self.model_treatment =  DecisionTreeClassifier(max_depth=20)\n",
    "        self.model_control =  DecisionTreeClassifier(max_depth=20)\n",
    "\n",
    "        self.final_model_treatment =  DecisionTreeRegressor(max_depth=20)\n",
    "        self.final_model_control =  DecisionTreeRegressor(max_depth=20)\n",
    "\n",
    "        self.com_field = communication_field\n",
    "\n",
    "\n",
    "    def fit(self, X, y):\n",
    "        X_with_communication = X[X[self.com_field]==1].drop(columns=self.com_field)\n",
    "        y_with_communication = y[X[self.com_field]==1]\n",
    "        X_without_communication = X[X[self.com_field]==0].drop(columns=self.com_field)\n",
    "        y_without_communication = y[X[self.com_field]==0]\n",
    "        self.model_treatment.fit(X_with_communication, y_with_communication)\n",
    "        self.model_control.fit(X_without_communication, y_without_communication)\n",
    "\n",
    "        Yc = self.model_control.predict_proba(X_with_communication)[:, 1]\n",
    "        Yt = self.model_treatment.predict_proba(X_without_communication)[:, 1]\n",
    "\n",
    "        ### Вменяемый эффект от коммуникации\n",
    "\n",
    "\n",
    "        Dt = y_with_communication - Yc\n",
    "        Dc = Yt - y_without_communication\n",
    "\n",
    "        self.final_model_treatment.fit(X_with_communication, Dt)\n",
    "        self.final_model_control.fit(X_without_communication, Dc)\n",
    "\n",
    "    def predict(self, X, g=0.5):\n",
    "        pred_treatment = self.final_model_treatment.predict(X.drop(columns=self.com_field))\n",
    "        pred_control = self.final_model_control.predict(X.drop(columns=self.com_field))\n",
    "        return g*pred_control + (1-g)*pred_treatment\n"
   ],
   "metadata": {
    "collapsed": false,
    "pycharm": {
     "name": "#%%\n"
    }
   }
  },
  {
   "cell_type": "code",
   "execution_count": 40,
   "outputs": [],
   "source": [
    "xlearner = XLearner()\n",
    "xlearner.fit(X_train, y_train)\n",
    "pred_xlearner = xlearner.predict(X_test)"
   ],
   "metadata": {
    "collapsed": false,
    "pycharm": {
     "name": "#%%\n"
    }
   }
  },
  {
   "cell_type": "markdown",
   "source": [
    "### Трансформация таргета"
   ],
   "metadata": {
    "collapsed": false,
    "pycharm": {
     "name": "#%% md\n"
    }
   }
  },
  {
   "cell_type": "code",
   "execution_count": 22,
   "outputs": [],
   "source": [
    "train_Z = np.logical_xor(X_train.offer,y_train).astype(int)"
   ],
   "metadata": {
    "collapsed": false,
    "pycharm": {
     "name": "#%%\n"
    }
   }
  },
  {
   "cell_type": "code",
   "execution_count": 23,
   "outputs": [],
   "source": [
    "tt_model = DecisionTreeClassifier(max_depth=20)"
   ],
   "metadata": {
    "collapsed": false,
    "pycharm": {
     "name": "#%%\n"
    }
   }
  },
  {
   "cell_type": "code",
   "execution_count": 24,
   "outputs": [
    {
     "data": {
      "text/plain": "DecisionTreeClassifier(max_depth=20)"
     },
     "execution_count": 24,
     "metadata": {},
     "output_type": "execute_result"
    }
   ],
   "source": [
    "tt_model.fit(X_train.drop(columns='offer'), train_Z)"
   ],
   "metadata": {
    "collapsed": false,
    "pycharm": {
     "name": "#%%\n"
    }
   }
  },
  {
   "cell_type": "code",
   "execution_count": 25,
   "outputs": [],
   "source": [
    "pred_tt = 2 * tt_model.predict_proba(X_test.drop(columns='offer'))[:, 1] - 1"
   ],
   "metadata": {
    "collapsed": false,
    "pycharm": {
     "name": "#%%\n"
    }
   }
  },
  {
   "cell_type": "code",
   "execution_count": 26,
   "outputs": [],
   "source": [
    "### Метрики качества"
   ],
   "metadata": {
    "collapsed": false,
    "pycharm": {
     "name": "#%%\n"
    }
   }
  },
  {
   "cell_type": "code",
   "execution_count": 28,
   "outputs": [],
   "source": [
    "from sklift.metrics import uplift_at_k"
   ],
   "metadata": {
    "collapsed": false,
    "pycharm": {
     "name": "#%%\n"
    }
   }
  },
  {
   "cell_type": "code",
   "execution_count": 119,
   "outputs": [
    {
     "data": {
      "text/plain": "0.07408995795053706"
     },
     "execution_count": 119,
     "metadata": {},
     "output_type": "execute_result"
    }
   ],
   "source": [
    "uplift_at_k(y_test, pred_slearner, X_test.offer,\n",
    "                             strategy='overall', k=0.5)"
   ],
   "metadata": {
    "collapsed": false,
    "pycharm": {
     "name": "#%%\n"
    }
   }
  },
  {
   "cell_type": "code",
   "execution_count": 117,
   "outputs": [
    {
     "data": {
      "text/plain": "0.07467117184399535"
     },
     "execution_count": 117,
     "metadata": {},
     "output_type": "execute_result"
    }
   ],
   "source": [
    "uplift_at_k(y_test, pred_tlearner, X_test.offer,\n",
    "                             strategy='overall', k=0.5)"
   ],
   "metadata": {
    "collapsed": false,
    "pycharm": {
     "name": "#%%\n"
    }
   }
  },
  {
   "cell_type": "code",
   "execution_count": 115,
   "outputs": [
    {
     "data": {
      "text/plain": "0.07488237141290721"
     },
     "execution_count": 115,
     "metadata": {},
     "output_type": "execute_result"
    }
   ],
   "source": [
    "uplift_at_k(y_test, pred_xlearner, X_test.offer,\n",
    "                             strategy='overall', k=0.5)"
   ],
   "metadata": {
    "collapsed": false,
    "pycharm": {
     "name": "#%%\n"
    }
   }
  },
  {
   "cell_type": "code",
   "execution_count": 56,
   "outputs": [
    {
     "data": {
      "text/plain": "0.0687058765436402"
     },
     "execution_count": 56,
     "metadata": {},
     "output_type": "execute_result"
    }
   ],
   "source": [
    "uplift_at_k(y_test, pred_tt, X_test.offer,\n",
    "                             strategy='overall', k=0.5)"
   ],
   "metadata": {
    "collapsed": false,
    "pycharm": {
     "name": "#%%\n"
    }
   }
  },
  {
   "cell_type": "code",
   "execution_count": 51,
   "outputs": [],
   "source": [
    "from sklift.metrics import uplift_by_percentile"
   ],
   "metadata": {
    "collapsed": false,
    "pycharm": {
     "name": "#%%\n"
    }
   }
  },
  {
   "cell_type": "code",
   "execution_count": 71,
   "outputs": [
    {
     "name": "stderr",
     "output_type": "stream",
     "text": [
      "/Users/slava.yakubov/Library/Favorites/MyFiles/PrivateCodeRepo/venv/lib/python3.9/site-packages/numpy/core/fromnumeric.py:3199: VisibleDeprecationWarning: Creating an ndarray from ragged nested sequences (which is a list-or-tuple of lists-or-tuples-or ndarrays with different lengths or shapes) is deprecated. If you meant to do this, you must specify 'dtype=object' when creating the ndarray.\n",
      "  return asarray(a).ndim\n"
     ]
    },
    {
     "data": {
      "text/plain": "            n_treatment  n_control  response_rate_treatment  \\\npercentile                                                    \n0-10               1404        708                 0.210826   \n10-20              1369        743                 0.182615   \n20-30              1397        715                 0.170365   \n30-40              1408        704                 0.158381   \n40-50              1393        719                 0.147164   \n50-60              1385        727                 0.163177   \n60-70              1419        693                 0.117689   \n70-80              1437        675                 0.161447   \n80-90              1411        701                 0.167257   \n90-100             1413        699                 0.203822   \ntotal             14036       7084                 0.168210   \n\n            response_rate_control    uplift  std_treatment  std_control  \\\npercentile                                                                \n0-10                     0.112994  0.097832       0.010886     0.011898   \n10-20                    0.119785  0.062830       0.010442     0.011912   \n20-30                    0.100699  0.069666       0.010059     0.011254   \n30-40                    0.082386  0.075994       0.009730     0.010363   \n40-50                    0.079277  0.067888       0.009492     0.010076   \n50-60                    0.101788  0.061389       0.009929     0.011214   \n60-70                    0.103896  0.013792       0.008554     0.011591   \n70-80                    0.112593  0.048855       0.009706     0.012166   \n80-90                    0.095578  0.071680       0.009935     0.011105   \n90-100                   0.111588  0.092234       0.010717     0.011909   \ntotal                    0.102061  0.066149       0.099450     0.113488   \n\n            std_uplift  \npercentile              \n0-10          0.016127  \n10-20         0.015841  \n20-30         0.015094  \n30-40         0.014215  \n40-50         0.013843  \n50-60         0.014978  \n60-70         0.014406  \n70-80         0.015564  \n80-90         0.014901  \n90-100        0.016021  \ntotal         0.150988  ",
      "text/html": "<div>\n<style scoped>\n    .dataframe tbody tr th:only-of-type {\n        vertical-align: middle;\n    }\n\n    .dataframe tbody tr th {\n        vertical-align: top;\n    }\n\n    .dataframe thead th {\n        text-align: right;\n    }\n</style>\n<table border=\"1\" class=\"dataframe\">\n  <thead>\n    <tr style=\"text-align: right;\">\n      <th></th>\n      <th>n_treatment</th>\n      <th>n_control</th>\n      <th>response_rate_treatment</th>\n      <th>response_rate_control</th>\n      <th>uplift</th>\n      <th>std_treatment</th>\n      <th>std_control</th>\n      <th>std_uplift</th>\n    </tr>\n    <tr>\n      <th>percentile</th>\n      <th></th>\n      <th></th>\n      <th></th>\n      <th></th>\n      <th></th>\n      <th></th>\n      <th></th>\n      <th></th>\n    </tr>\n  </thead>\n  <tbody>\n    <tr>\n      <th>0-10</th>\n      <td>1404</td>\n      <td>708</td>\n      <td>0.210826</td>\n      <td>0.112994</td>\n      <td>0.097832</td>\n      <td>0.010886</td>\n      <td>0.011898</td>\n      <td>0.016127</td>\n    </tr>\n    <tr>\n      <th>10-20</th>\n      <td>1369</td>\n      <td>743</td>\n      <td>0.182615</td>\n      <td>0.119785</td>\n      <td>0.062830</td>\n      <td>0.010442</td>\n      <td>0.011912</td>\n      <td>0.015841</td>\n    </tr>\n    <tr>\n      <th>20-30</th>\n      <td>1397</td>\n      <td>715</td>\n      <td>0.170365</td>\n      <td>0.100699</td>\n      <td>0.069666</td>\n      <td>0.010059</td>\n      <td>0.011254</td>\n      <td>0.015094</td>\n    </tr>\n    <tr>\n      <th>30-40</th>\n      <td>1408</td>\n      <td>704</td>\n      <td>0.158381</td>\n      <td>0.082386</td>\n      <td>0.075994</td>\n      <td>0.009730</td>\n      <td>0.010363</td>\n      <td>0.014215</td>\n    </tr>\n    <tr>\n      <th>40-50</th>\n      <td>1393</td>\n      <td>719</td>\n      <td>0.147164</td>\n      <td>0.079277</td>\n      <td>0.067888</td>\n      <td>0.009492</td>\n      <td>0.010076</td>\n      <td>0.013843</td>\n    </tr>\n    <tr>\n      <th>50-60</th>\n      <td>1385</td>\n      <td>727</td>\n      <td>0.163177</td>\n      <td>0.101788</td>\n      <td>0.061389</td>\n      <td>0.009929</td>\n      <td>0.011214</td>\n      <td>0.014978</td>\n    </tr>\n    <tr>\n      <th>60-70</th>\n      <td>1419</td>\n      <td>693</td>\n      <td>0.117689</td>\n      <td>0.103896</td>\n      <td>0.013792</td>\n      <td>0.008554</td>\n      <td>0.011591</td>\n      <td>0.014406</td>\n    </tr>\n    <tr>\n      <th>70-80</th>\n      <td>1437</td>\n      <td>675</td>\n      <td>0.161447</td>\n      <td>0.112593</td>\n      <td>0.048855</td>\n      <td>0.009706</td>\n      <td>0.012166</td>\n      <td>0.015564</td>\n    </tr>\n    <tr>\n      <th>80-90</th>\n      <td>1411</td>\n      <td>701</td>\n      <td>0.167257</td>\n      <td>0.095578</td>\n      <td>0.071680</td>\n      <td>0.009935</td>\n      <td>0.011105</td>\n      <td>0.014901</td>\n    </tr>\n    <tr>\n      <th>90-100</th>\n      <td>1413</td>\n      <td>699</td>\n      <td>0.203822</td>\n      <td>0.111588</td>\n      <td>0.092234</td>\n      <td>0.010717</td>\n      <td>0.011909</td>\n      <td>0.016021</td>\n    </tr>\n    <tr>\n      <th>total</th>\n      <td>14036</td>\n      <td>7084</td>\n      <td>0.168210</td>\n      <td>0.102061</td>\n      <td>0.066149</td>\n      <td>0.099450</td>\n      <td>0.113488</td>\n      <td>0.150988</td>\n    </tr>\n  </tbody>\n</table>\n</div>"
     },
     "execution_count": 71,
     "metadata": {},
     "output_type": "execute_result"
    }
   ],
   "source": [
    "uplift_by_percentile(y_test, pred_tlearner, X_test.offer,\n",
    "                     strategy='overall',\n",
    "                     total=True, std=True, bins=10)"
   ],
   "metadata": {
    "collapsed": false,
    "pycharm": {
     "name": "#%%\n"
    }
   }
  },
  {
   "cell_type": "markdown",
   "source": [
    "### Посмотрим результат работы обычной модели"
   ],
   "metadata": {
    "collapsed": false,
    "pycharm": {
     "name": "#%% md\n"
    }
   }
  },
  {
   "cell_type": "code",
   "execution_count": 120,
   "outputs": [],
   "source": [
    "model = DecisionTreeClassifier(max_depth=20)"
   ],
   "metadata": {
    "collapsed": false,
    "pycharm": {
     "name": "#%%\n"
    }
   }
  },
  {
   "cell_type": "code",
   "execution_count": 124,
   "outputs": [
    {
     "data": {
      "text/plain": "DecisionTreeClassifier(max_depth=20)"
     },
     "execution_count": 124,
     "metadata": {},
     "output_type": "execute_result"
    }
   ],
   "source": [
    "model.fit(X_train.drop(columns='offer'), y_train)"
   ],
   "metadata": {
    "collapsed": false,
    "pycharm": {
     "name": "#%%\n"
    }
   }
  },
  {
   "cell_type": "code",
   "execution_count": 127,
   "outputs": [],
   "source": [
    "standard_preds = model.predict_proba(X_test.drop(columns='offer'))[:, 1]"
   ],
   "metadata": {
    "collapsed": false,
    "pycharm": {
     "name": "#%%\n"
    }
   }
  },
  {
   "cell_type": "code",
   "execution_count": 130,
   "outputs": [
    {
     "data": {
      "text/plain": "0.06703093254469168"
     },
     "execution_count": 130,
     "metadata": {},
     "output_type": "execute_result"
    }
   ],
   "source": [
    "uplift_at_k(y_test, standard_preds, X_test.offer,\n",
    "                     strategy='overall', k=0.5)"
   ],
   "metadata": {
    "collapsed": false,
    "pycharm": {
     "name": "#%%\n"
    }
   }
  },
  {
   "cell_type": "code",
   "execution_count": 128,
   "outputs": [
    {
     "name": "stderr",
     "output_type": "stream",
     "text": [
      "/Users/slava.yakubov/Library/Favorites/MyFiles/PrivateCodeRepo/venv/lib/python3.9/site-packages/numpy/core/fromnumeric.py:3199: VisibleDeprecationWarning: Creating an ndarray from ragged nested sequences (which is a list-or-tuple of lists-or-tuples-or ndarrays with different lengths or shapes) is deprecated. If you meant to do this, you must specify 'dtype=object' when creating the ndarray.\n",
      "  return asarray(a).ndim\n"
     ]
    },
    {
     "data": {
      "text/plain": "            n_treatment  n_control  response_rate_treatment  \\\npercentile                                                    \n0-10               1414        698                 0.199434   \n10-20              1401        711                 0.212705   \n20-30              1423        689                 0.159522   \n30-40              1357        755                 0.153279   \n40-50              1395        717                 0.127599   \n50-60              1398        714                 0.158798   \n60-70              1428        684                 0.170868   \n70-80              1398        714                 0.157368   \n80-90              1392        720                 0.173851   \n90-100             1430        682                 0.167832   \ntotal             14036       7084                 0.168210   \n\n            response_rate_control    uplift  std_treatment  std_control  \\\npercentile                                                                \n0-10                     0.106017  0.093417       0.010626     0.011653   \n10-20                    0.144866  0.067839       0.010933     0.013200   \n20-30                    0.103048  0.056474       0.009707     0.011582   \n30-40                    0.090066  0.063213       0.009780     0.010419   \n40-50                    0.075314  0.052285       0.008933     0.009855   \n50-60                    0.105042  0.053756       0.009775     0.011474   \n60-70                    0.096491  0.074377       0.009960     0.011290   \n70-80                    0.098039  0.059328       0.009739     0.011129   \n80-90                    0.094444  0.079406       0.010158     0.010899   \n90-100                   0.108504  0.059328       0.009883     0.011909   \ntotal                    0.102061  0.066149       0.099493     0.113410   \n\n            std_uplift  \npercentile              \n0-10          0.015770  \n10-20         0.017140  \n20-30         0.015112  \n30-40         0.014289  \n40-50         0.013301  \n50-60         0.015074  \n60-70         0.015055  \n70-80         0.014789  \n80-90         0.014898  \n90-100        0.015476  \ntotal         0.150904  ",
      "text/html": "<div>\n<style scoped>\n    .dataframe tbody tr th:only-of-type {\n        vertical-align: middle;\n    }\n\n    .dataframe tbody tr th {\n        vertical-align: top;\n    }\n\n    .dataframe thead th {\n        text-align: right;\n    }\n</style>\n<table border=\"1\" class=\"dataframe\">\n  <thead>\n    <tr style=\"text-align: right;\">\n      <th></th>\n      <th>n_treatment</th>\n      <th>n_control</th>\n      <th>response_rate_treatment</th>\n      <th>response_rate_control</th>\n      <th>uplift</th>\n      <th>std_treatment</th>\n      <th>std_control</th>\n      <th>std_uplift</th>\n    </tr>\n    <tr>\n      <th>percentile</th>\n      <th></th>\n      <th></th>\n      <th></th>\n      <th></th>\n      <th></th>\n      <th></th>\n      <th></th>\n      <th></th>\n    </tr>\n  </thead>\n  <tbody>\n    <tr>\n      <th>0-10</th>\n      <td>1414</td>\n      <td>698</td>\n      <td>0.199434</td>\n      <td>0.106017</td>\n      <td>0.093417</td>\n      <td>0.010626</td>\n      <td>0.011653</td>\n      <td>0.015770</td>\n    </tr>\n    <tr>\n      <th>10-20</th>\n      <td>1401</td>\n      <td>711</td>\n      <td>0.212705</td>\n      <td>0.144866</td>\n      <td>0.067839</td>\n      <td>0.010933</td>\n      <td>0.013200</td>\n      <td>0.017140</td>\n    </tr>\n    <tr>\n      <th>20-30</th>\n      <td>1423</td>\n      <td>689</td>\n      <td>0.159522</td>\n      <td>0.103048</td>\n      <td>0.056474</td>\n      <td>0.009707</td>\n      <td>0.011582</td>\n      <td>0.015112</td>\n    </tr>\n    <tr>\n      <th>30-40</th>\n      <td>1357</td>\n      <td>755</td>\n      <td>0.153279</td>\n      <td>0.090066</td>\n      <td>0.063213</td>\n      <td>0.009780</td>\n      <td>0.010419</td>\n      <td>0.014289</td>\n    </tr>\n    <tr>\n      <th>40-50</th>\n      <td>1395</td>\n      <td>717</td>\n      <td>0.127599</td>\n      <td>0.075314</td>\n      <td>0.052285</td>\n      <td>0.008933</td>\n      <td>0.009855</td>\n      <td>0.013301</td>\n    </tr>\n    <tr>\n      <th>50-60</th>\n      <td>1398</td>\n      <td>714</td>\n      <td>0.158798</td>\n      <td>0.105042</td>\n      <td>0.053756</td>\n      <td>0.009775</td>\n      <td>0.011474</td>\n      <td>0.015074</td>\n    </tr>\n    <tr>\n      <th>60-70</th>\n      <td>1428</td>\n      <td>684</td>\n      <td>0.170868</td>\n      <td>0.096491</td>\n      <td>0.074377</td>\n      <td>0.009960</td>\n      <td>0.011290</td>\n      <td>0.015055</td>\n    </tr>\n    <tr>\n      <th>70-80</th>\n      <td>1398</td>\n      <td>714</td>\n      <td>0.157368</td>\n      <td>0.098039</td>\n      <td>0.059328</td>\n      <td>0.009739</td>\n      <td>0.011129</td>\n      <td>0.014789</td>\n    </tr>\n    <tr>\n      <th>80-90</th>\n      <td>1392</td>\n      <td>720</td>\n      <td>0.173851</td>\n      <td>0.094444</td>\n      <td>0.079406</td>\n      <td>0.010158</td>\n      <td>0.010899</td>\n      <td>0.014898</td>\n    </tr>\n    <tr>\n      <th>90-100</th>\n      <td>1430</td>\n      <td>682</td>\n      <td>0.167832</td>\n      <td>0.108504</td>\n      <td>0.059328</td>\n      <td>0.009883</td>\n      <td>0.011909</td>\n      <td>0.015476</td>\n    </tr>\n    <tr>\n      <th>total</th>\n      <td>14036</td>\n      <td>7084</td>\n      <td>0.168210</td>\n      <td>0.102061</td>\n      <td>0.066149</td>\n      <td>0.099493</td>\n      <td>0.113410</td>\n      <td>0.150904</td>\n    </tr>\n  </tbody>\n</table>\n</div>"
     },
     "execution_count": 128,
     "metadata": {},
     "output_type": "execute_result"
    }
   ],
   "source": [
    "uplift_by_percentile(y_test, standard_preds, X_test.offer,\n",
    "                     strategy='overall',\n",
    "                     total=True, std=True, bins=10)"
   ],
   "metadata": {
    "collapsed": false,
    "pycharm": {
     "name": "#%%\n"
    }
   }
  },
  {
   "cell_type": "code",
   "execution_count": null,
   "outputs": [],
   "source": [],
   "metadata": {
    "collapsed": false,
    "pycharm": {
     "name": "#%%\n"
    }
   }
  }
 ],
 "metadata": {
  "kernelspec": {
   "display_name": "Python 3",
   "language": "python",
   "name": "python3"
  },
  "language_info": {
   "codemirror_mode": {
    "name": "ipython",
    "version": 2
   },
   "file_extension": ".py",
   "mimetype": "text/x-python",
   "name": "python",
   "nbconvert_exporter": "python",
   "pygments_lexer": "ipython2",
   "version": "2.7.6"
  }
 },
 "nbformat": 4,
 "nbformat_minor": 0
}