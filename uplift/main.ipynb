{
 "cells": [
  {
   "cell_type": "code",
   "execution_count": 1,
   "metadata": {
    "collapsed": true
   },
   "outputs": [],
   "source": [
    "import numpy as np\n",
    "import pandas as pd"
   ]
  },
  {
   "cell_type": "code",
   "execution_count": 8,
   "outputs": [],
   "source": [
    "from sklearn.preprocessing import LabelEncoder"
   ],
   "metadata": {
    "collapsed": false,
    "pycharm": {
     "name": "#%%\n"
    }
   }
  },
  {
   "cell_type": "code",
   "execution_count": 2,
   "outputs": [],
   "source": [
    "data = pd.read_csv('data.csv')"
   ],
   "metadata": {
    "collapsed": false,
    "pycharm": {
     "name": "#%%\n"
    }
   }
  },
  {
   "cell_type": "code",
   "execution_count": 9,
   "outputs": [],
   "source": [
    "le = LabelEncoder()"
   ],
   "metadata": {
    "collapsed": false,
    "pycharm": {
     "name": "#%%\n"
    }
   }
  },
  {
   "cell_type": "code",
   "execution_count": 11,
   "outputs": [],
   "source": [
    "cat_features = ['zip_code', 'channel', 'offer']\n",
    "for column in cat_features:\n",
    "    le.fit(data[column])\n",
    "    data[column] = le.transform(data[column])"
   ],
   "metadata": {
    "collapsed": false,
    "pycharm": {
     "name": "#%%\n"
    }
   }
  },
  {
   "cell_type": "code",
   "execution_count": null,
   "outputs": [],
   "source": [],
   "metadata": {
    "collapsed": false,
    "pycharm": {
     "name": "#%%\n"
    }
   }
  },
  {
   "cell_type": "code",
   "execution_count": 12,
   "outputs": [
    {
     "data": {
      "text/plain": "       recency  history  used_discount  used_bogo  zip_code  is_referral  \\\n0           10   142.44              1          0         1            0   \n1            6   329.08              1          1         0            1   \n2            7   180.65              0          1         1            1   \n3            9   675.83              1          0         0            1   \n4            2    45.34              1          0         2            0   \n...        ...      ...            ...        ...       ...          ...   \n63995       10   105.54              1          0         2            0   \n63996        5    38.91              0          1         2            1   \n63997        6    29.99              1          0         2            1   \n63998        1   552.94              1          0         1            1   \n63999        1   472.82              0          1         1            0   \n\n       channel  offer  conversion  \n0            1      0           0  \n1            2      2           0  \n2            2      0           0  \n3            2      1           0  \n4            2      0           0  \n...        ...    ...         ...  \n63995        2      1           0  \n63996        1      1           0  \n63997        1      1           0  \n63998        0      0           0  \n63999        2      1           0  \n\n[64000 rows x 9 columns]",
      "text/html": "<div>\n<style scoped>\n    .dataframe tbody tr th:only-of-type {\n        vertical-align: middle;\n    }\n\n    .dataframe tbody tr th {\n        vertical-align: top;\n    }\n\n    .dataframe thead th {\n        text-align: right;\n    }\n</style>\n<table border=\"1\" class=\"dataframe\">\n  <thead>\n    <tr style=\"text-align: right;\">\n      <th></th>\n      <th>recency</th>\n      <th>history</th>\n      <th>used_discount</th>\n      <th>used_bogo</th>\n      <th>zip_code</th>\n      <th>is_referral</th>\n      <th>channel</th>\n      <th>offer</th>\n      <th>conversion</th>\n    </tr>\n  </thead>\n  <tbody>\n    <tr>\n      <th>0</th>\n      <td>10</td>\n      <td>142.44</td>\n      <td>1</td>\n      <td>0</td>\n      <td>1</td>\n      <td>0</td>\n      <td>1</td>\n      <td>0</td>\n      <td>0</td>\n    </tr>\n    <tr>\n      <th>1</th>\n      <td>6</td>\n      <td>329.08</td>\n      <td>1</td>\n      <td>1</td>\n      <td>0</td>\n      <td>1</td>\n      <td>2</td>\n      <td>2</td>\n      <td>0</td>\n    </tr>\n    <tr>\n      <th>2</th>\n      <td>7</td>\n      <td>180.65</td>\n      <td>0</td>\n      <td>1</td>\n      <td>1</td>\n      <td>1</td>\n      <td>2</td>\n      <td>0</td>\n      <td>0</td>\n    </tr>\n    <tr>\n      <th>3</th>\n      <td>9</td>\n      <td>675.83</td>\n      <td>1</td>\n      <td>0</td>\n      <td>0</td>\n      <td>1</td>\n      <td>2</td>\n      <td>1</td>\n      <td>0</td>\n    </tr>\n    <tr>\n      <th>4</th>\n      <td>2</td>\n      <td>45.34</td>\n      <td>1</td>\n      <td>0</td>\n      <td>2</td>\n      <td>0</td>\n      <td>2</td>\n      <td>0</td>\n      <td>0</td>\n    </tr>\n    <tr>\n      <th>...</th>\n      <td>...</td>\n      <td>...</td>\n      <td>...</td>\n      <td>...</td>\n      <td>...</td>\n      <td>...</td>\n      <td>...</td>\n      <td>...</td>\n      <td>...</td>\n    </tr>\n    <tr>\n      <th>63995</th>\n      <td>10</td>\n      <td>105.54</td>\n      <td>1</td>\n      <td>0</td>\n      <td>2</td>\n      <td>0</td>\n      <td>2</td>\n      <td>1</td>\n      <td>0</td>\n    </tr>\n    <tr>\n      <th>63996</th>\n      <td>5</td>\n      <td>38.91</td>\n      <td>0</td>\n      <td>1</td>\n      <td>2</td>\n      <td>1</td>\n      <td>1</td>\n      <td>1</td>\n      <td>0</td>\n    </tr>\n    <tr>\n      <th>63997</th>\n      <td>6</td>\n      <td>29.99</td>\n      <td>1</td>\n      <td>0</td>\n      <td>2</td>\n      <td>1</td>\n      <td>1</td>\n      <td>1</td>\n      <td>0</td>\n    </tr>\n    <tr>\n      <th>63998</th>\n      <td>1</td>\n      <td>552.94</td>\n      <td>1</td>\n      <td>0</td>\n      <td>1</td>\n      <td>1</td>\n      <td>0</td>\n      <td>0</td>\n      <td>0</td>\n    </tr>\n    <tr>\n      <th>63999</th>\n      <td>1</td>\n      <td>472.82</td>\n      <td>0</td>\n      <td>1</td>\n      <td>1</td>\n      <td>0</td>\n      <td>2</td>\n      <td>1</td>\n      <td>0</td>\n    </tr>\n  </tbody>\n</table>\n<p>64000 rows × 9 columns</p>\n</div>"
     },
     "execution_count": 12,
     "metadata": {},
     "output_type": "execute_result"
    }
   ],
   "source": [
    "data"
   ],
   "metadata": {
    "collapsed": false,
    "pycharm": {
     "name": "#%%\n"
    }
   }
  },
  {
   "cell_type": "code",
   "execution_count": 6,
   "outputs": [],
   "source": [
    "data_treatment = data[data.offer != 'No Offer']\n",
    "data_control = data[data.offer == 'No Offer']"
   ],
   "metadata": {
    "collapsed": false,
    "pycharm": {
     "name": "#%%\n"
    }
   }
  },
  {
   "cell_type": "code",
   "execution_count": 10,
   "outputs": [
    {
     "data": {
      "text/plain": "       recency  history  used_discount  used_bogo   zip_code  is_referral  \\\n0           10   142.44              1          0  Surburban            0   \n1            6   329.08              1          1      Rural            1   \n2            7   180.65              0          1  Surburban            1   \n3            9   675.83              1          0      Rural            1   \n4            2    45.34              1          0      Urban            0   \n...        ...      ...            ...        ...        ...          ...   \n63995       10   105.54              1          0      Urban            0   \n63996        5    38.91              0          1      Urban            1   \n63997        6    29.99              1          0      Urban            1   \n63998        1   552.94              1          0  Surburban            1   \n63999        1   472.82              0          1  Surburban            0   \n\n            channel            offer  conversion  \n0             Phone  Buy One Get One           0  \n1               Web         No Offer           0  \n2               Web  Buy One Get One           0  \n3               Web         Discount           0  \n4               Web  Buy One Get One           0  \n...             ...              ...         ...  \n63995           Web         Discount           0  \n63996         Phone         Discount           0  \n63997         Phone         Discount           0  \n63998  Multichannel  Buy One Get One           0  \n63999           Web         Discount           0  \n\n[64000 rows x 9 columns]",
      "text/html": "<div>\n<style scoped>\n    .dataframe tbody tr th:only-of-type {\n        vertical-align: middle;\n    }\n\n    .dataframe tbody tr th {\n        vertical-align: top;\n    }\n\n    .dataframe thead th {\n        text-align: right;\n    }\n</style>\n<table border=\"1\" class=\"dataframe\">\n  <thead>\n    <tr style=\"text-align: right;\">\n      <th></th>\n      <th>recency</th>\n      <th>history</th>\n      <th>used_discount</th>\n      <th>used_bogo</th>\n      <th>zip_code</th>\n      <th>is_referral</th>\n      <th>channel</th>\n      <th>offer</th>\n      <th>conversion</th>\n    </tr>\n  </thead>\n  <tbody>\n    <tr>\n      <th>0</th>\n      <td>10</td>\n      <td>142.44</td>\n      <td>1</td>\n      <td>0</td>\n      <td>Surburban</td>\n      <td>0</td>\n      <td>Phone</td>\n      <td>Buy One Get One</td>\n      <td>0</td>\n    </tr>\n    <tr>\n      <th>1</th>\n      <td>6</td>\n      <td>329.08</td>\n      <td>1</td>\n      <td>1</td>\n      <td>Rural</td>\n      <td>1</td>\n      <td>Web</td>\n      <td>No Offer</td>\n      <td>0</td>\n    </tr>\n    <tr>\n      <th>2</th>\n      <td>7</td>\n      <td>180.65</td>\n      <td>0</td>\n      <td>1</td>\n      <td>Surburban</td>\n      <td>1</td>\n      <td>Web</td>\n      <td>Buy One Get One</td>\n      <td>0</td>\n    </tr>\n    <tr>\n      <th>3</th>\n      <td>9</td>\n      <td>675.83</td>\n      <td>1</td>\n      <td>0</td>\n      <td>Rural</td>\n      <td>1</td>\n      <td>Web</td>\n      <td>Discount</td>\n      <td>0</td>\n    </tr>\n    <tr>\n      <th>4</th>\n      <td>2</td>\n      <td>45.34</td>\n      <td>1</td>\n      <td>0</td>\n      <td>Urban</td>\n      <td>0</td>\n      <td>Web</td>\n      <td>Buy One Get One</td>\n      <td>0</td>\n    </tr>\n    <tr>\n      <th>...</th>\n      <td>...</td>\n      <td>...</td>\n      <td>...</td>\n      <td>...</td>\n      <td>...</td>\n      <td>...</td>\n      <td>...</td>\n      <td>...</td>\n      <td>...</td>\n    </tr>\n    <tr>\n      <th>63995</th>\n      <td>10</td>\n      <td>105.54</td>\n      <td>1</td>\n      <td>0</td>\n      <td>Urban</td>\n      <td>0</td>\n      <td>Web</td>\n      <td>Discount</td>\n      <td>0</td>\n    </tr>\n    <tr>\n      <th>63996</th>\n      <td>5</td>\n      <td>38.91</td>\n      <td>0</td>\n      <td>1</td>\n      <td>Urban</td>\n      <td>1</td>\n      <td>Phone</td>\n      <td>Discount</td>\n      <td>0</td>\n    </tr>\n    <tr>\n      <th>63997</th>\n      <td>6</td>\n      <td>29.99</td>\n      <td>1</td>\n      <td>0</td>\n      <td>Urban</td>\n      <td>1</td>\n      <td>Phone</td>\n      <td>Discount</td>\n      <td>0</td>\n    </tr>\n    <tr>\n      <th>63998</th>\n      <td>1</td>\n      <td>552.94</td>\n      <td>1</td>\n      <td>0</td>\n      <td>Surburban</td>\n      <td>1</td>\n      <td>Multichannel</td>\n      <td>Buy One Get One</td>\n      <td>0</td>\n    </tr>\n    <tr>\n      <th>63999</th>\n      <td>1</td>\n      <td>472.82</td>\n      <td>0</td>\n      <td>1</td>\n      <td>Surburban</td>\n      <td>0</td>\n      <td>Web</td>\n      <td>Discount</td>\n      <td>0</td>\n    </tr>\n  </tbody>\n</table>\n<p>64000 rows × 9 columns</p>\n</div>"
     },
     "execution_count": 10,
     "metadata": {},
     "output_type": "execute_result"
    }
   ],
   "source": [
    "data"
   ],
   "metadata": {
    "collapsed": false,
    "pycharm": {
     "name": "#%%\n"
    }
   }
  },
  {
   "cell_type": "code",
   "execution_count": 5,
   "outputs": [
    {
     "data": {
      "text/plain": "       recency  history  used_discount  used_bogo   zip_code  is_referral  \\\n1            6   329.08              1          1      Rural            1   \n14           4   241.42              0          1      Rural            1   \n15           3    58.13              1          0      Urban            1   \n20           9    29.99              0          1  Surburban            1   \n23           2    29.99              0          1      Urban            1   \n...        ...      ...            ...        ...        ...          ...   \n63980        3   487.10              0          1  Surburban            1   \n63981        4   125.53              0          1      Rural            1   \n63983        2    83.03              0          1      Urban            0   \n63987        1    79.70              1          0  Surburban            1   \n63990        6    80.02              0          1  Surburban            0   \n\n            channel     offer  conversion  \n1               Web  No Offer           0  \n14     Multichannel  No Offer           0  \n15              Web  No Offer           1  \n20            Phone  No Offer           0  \n23            Phone  No Offer           0  \n...             ...       ...         ...  \n63980         Phone  No Offer           0  \n63981         Phone  No Offer           0  \n63983         Phone  No Offer           0  \n63987           Web  No Offer           0  \n63990         Phone  No Offer           0  \n\n[21306 rows x 9 columns]",
      "text/html": "<div>\n<style scoped>\n    .dataframe tbody tr th:only-of-type {\n        vertical-align: middle;\n    }\n\n    .dataframe tbody tr th {\n        vertical-align: top;\n    }\n\n    .dataframe thead th {\n        text-align: right;\n    }\n</style>\n<table border=\"1\" class=\"dataframe\">\n  <thead>\n    <tr style=\"text-align: right;\">\n      <th></th>\n      <th>recency</th>\n      <th>history</th>\n      <th>used_discount</th>\n      <th>used_bogo</th>\n      <th>zip_code</th>\n      <th>is_referral</th>\n      <th>channel</th>\n      <th>offer</th>\n      <th>conversion</th>\n    </tr>\n  </thead>\n  <tbody>\n    <tr>\n      <th>1</th>\n      <td>6</td>\n      <td>329.08</td>\n      <td>1</td>\n      <td>1</td>\n      <td>Rural</td>\n      <td>1</td>\n      <td>Web</td>\n      <td>No Offer</td>\n      <td>0</td>\n    </tr>\n    <tr>\n      <th>14</th>\n      <td>4</td>\n      <td>241.42</td>\n      <td>0</td>\n      <td>1</td>\n      <td>Rural</td>\n      <td>1</td>\n      <td>Multichannel</td>\n      <td>No Offer</td>\n      <td>0</td>\n    </tr>\n    <tr>\n      <th>15</th>\n      <td>3</td>\n      <td>58.13</td>\n      <td>1</td>\n      <td>0</td>\n      <td>Urban</td>\n      <td>1</td>\n      <td>Web</td>\n      <td>No Offer</td>\n      <td>1</td>\n    </tr>\n    <tr>\n      <th>20</th>\n      <td>9</td>\n      <td>29.99</td>\n      <td>0</td>\n      <td>1</td>\n      <td>Surburban</td>\n      <td>1</td>\n      <td>Phone</td>\n      <td>No Offer</td>\n      <td>0</td>\n    </tr>\n    <tr>\n      <th>23</th>\n      <td>2</td>\n      <td>29.99</td>\n      <td>0</td>\n      <td>1</td>\n      <td>Urban</td>\n      <td>1</td>\n      <td>Phone</td>\n      <td>No Offer</td>\n      <td>0</td>\n    </tr>\n    <tr>\n      <th>...</th>\n      <td>...</td>\n      <td>...</td>\n      <td>...</td>\n      <td>...</td>\n      <td>...</td>\n      <td>...</td>\n      <td>...</td>\n      <td>...</td>\n      <td>...</td>\n    </tr>\n    <tr>\n      <th>63980</th>\n      <td>3</td>\n      <td>487.10</td>\n      <td>0</td>\n      <td>1</td>\n      <td>Surburban</td>\n      <td>1</td>\n      <td>Phone</td>\n      <td>No Offer</td>\n      <td>0</td>\n    </tr>\n    <tr>\n      <th>63981</th>\n      <td>4</td>\n      <td>125.53</td>\n      <td>0</td>\n      <td>1</td>\n      <td>Rural</td>\n      <td>1</td>\n      <td>Phone</td>\n      <td>No Offer</td>\n      <td>0</td>\n    </tr>\n    <tr>\n      <th>63983</th>\n      <td>2</td>\n      <td>83.03</td>\n      <td>0</td>\n      <td>1</td>\n      <td>Urban</td>\n      <td>0</td>\n      <td>Phone</td>\n      <td>No Offer</td>\n      <td>0</td>\n    </tr>\n    <tr>\n      <th>63987</th>\n      <td>1</td>\n      <td>79.70</td>\n      <td>1</td>\n      <td>0</td>\n      <td>Surburban</td>\n      <td>1</td>\n      <td>Web</td>\n      <td>No Offer</td>\n      <td>0</td>\n    </tr>\n    <tr>\n      <th>63990</th>\n      <td>6</td>\n      <td>80.02</td>\n      <td>0</td>\n      <td>1</td>\n      <td>Surburban</td>\n      <td>0</td>\n      <td>Phone</td>\n      <td>No Offer</td>\n      <td>0</td>\n    </tr>\n  </tbody>\n</table>\n<p>21306 rows × 9 columns</p>\n</div>"
     },
     "execution_count": 5,
     "metadata": {},
     "output_type": "execute_result"
    }
   ],
   "source": [
    "data[data.offer == 'No Offer']"
   ],
   "metadata": {
    "collapsed": false,
    "pycharm": {
     "name": "#%%\n"
    }
   }
  },
  {
   "cell_type": "code",
   "execution_count": null,
   "outputs": [],
   "source": [],
   "metadata": {
    "collapsed": false,
    "pycharm": {
     "name": "#%%\n"
    }
   }
  }
 ],
 "metadata": {
  "kernelspec": {
   "display_name": "Python 3",
   "language": "python",
   "name": "python3"
  },
  "language_info": {
   "codemirror_mode": {
    "name": "ipython",
    "version": 2
   },
   "file_extension": ".py",
   "mimetype": "text/x-python",
   "name": "python",
   "nbconvert_exporter": "python",
   "pygments_lexer": "ipython2",
   "version": "2.7.6"
  }
 },
 "nbformat": 4,
 "nbformat_minor": 0
}