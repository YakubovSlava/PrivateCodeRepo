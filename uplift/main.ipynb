{
 "cells": [
  {
   "cell_type": "markdown",
   "source": [
    "### Uplift modeling\n",
    "----\n",
    "Для продвижения различных продуктов используются различные подходы:\n",
    " - look-alike модель\n",
    "Наш стандартный подход. Зная, что целевое действие совершается некоторыми клиентами и не совершается другими клиентами, пытаемся построить модель бинарной классификации.\n",
    "---\n",
    " - Response модель.\n",
    "Модель оценивающая вероятность того, что клиент совершит действие, если с ним прокоммуницировать. Лучше всего подходит в случае, если продукт берут только при условии коммуникации.\n",
    "---\n",
    " - Uplift модель.\n",
    "Данный тип модели пытается оценить чистый эффект от коммуникации, пытаясь выделить клиентов, которые совершат действие только при  наличии коммуникации."
   ],
   "metadata": {
    "collapsed": false,
    "pycharm": {
     "name": "#%% md\n"
    }
   }
  },
  {
   "cell_type": "code",
   "execution_count": 31,
   "outputs": [],
   "source": [
    "import numpy as np\n",
    "import pandas as pd"
   ],
   "metadata": {
    "collapsed": false,
    "pycharm": {
     "name": "#%%\n"
    }
   }
  },
  {
   "cell_type": "code",
   "execution_count": 25,
   "outputs": [],
   "source": [
    "from sklearn.tree import DecisionTreeClassifier\n",
    "from sklearn.model_selection import train_test_split"
   ],
   "metadata": {
    "collapsed": false,
    "pycharm": {
     "name": "#%%\n"
    }
   }
  },
  {
   "cell_type": "code",
   "execution_count": 2,
   "outputs": [],
   "source": [
    "from sklearn.preprocessing import LabelEncoder"
   ],
   "metadata": {
    "collapsed": false,
    "pycharm": {
     "name": "#%%\n"
    }
   }
  },
  {
   "cell_type": "code",
   "execution_count": 14,
   "outputs": [],
   "source": [
    "data = pd.read_csv('data.csv')"
   ],
   "metadata": {
    "collapsed": false,
    "pycharm": {
     "name": "#%%\n"
    }
   }
  },
  {
   "cell_type": "code",
   "execution_count": 15,
   "outputs": [
    {
     "data": {
      "text/plain": "   recency  history  used_discount  used_bogo   zip_code  is_referral channel  \\\n0       10   142.44              1          0  Surburban            0   Phone   \n1        6   329.08              1          1      Rural            1     Web   \n2        7   180.65              0          1  Surburban            1     Web   \n3        9   675.83              1          0      Rural            1     Web   \n4        2    45.34              1          0      Urban            0     Web   \n\n             offer  conversion  \n0  Buy One Get One           0  \n1         No Offer           0  \n2  Buy One Get One           0  \n3         Discount           0  \n4  Buy One Get One           0  ",
      "text/html": "<div>\n<style scoped>\n    .dataframe tbody tr th:only-of-type {\n        vertical-align: middle;\n    }\n\n    .dataframe tbody tr th {\n        vertical-align: top;\n    }\n\n    .dataframe thead th {\n        text-align: right;\n    }\n</style>\n<table border=\"1\" class=\"dataframe\">\n  <thead>\n    <tr style=\"text-align: right;\">\n      <th></th>\n      <th>recency</th>\n      <th>history</th>\n      <th>used_discount</th>\n      <th>used_bogo</th>\n      <th>zip_code</th>\n      <th>is_referral</th>\n      <th>channel</th>\n      <th>offer</th>\n      <th>conversion</th>\n    </tr>\n  </thead>\n  <tbody>\n    <tr>\n      <th>0</th>\n      <td>10</td>\n      <td>142.44</td>\n      <td>1</td>\n      <td>0</td>\n      <td>Surburban</td>\n      <td>0</td>\n      <td>Phone</td>\n      <td>Buy One Get One</td>\n      <td>0</td>\n    </tr>\n    <tr>\n      <th>1</th>\n      <td>6</td>\n      <td>329.08</td>\n      <td>1</td>\n      <td>1</td>\n      <td>Rural</td>\n      <td>1</td>\n      <td>Web</td>\n      <td>No Offer</td>\n      <td>0</td>\n    </tr>\n    <tr>\n      <th>2</th>\n      <td>7</td>\n      <td>180.65</td>\n      <td>0</td>\n      <td>1</td>\n      <td>Surburban</td>\n      <td>1</td>\n      <td>Web</td>\n      <td>Buy One Get One</td>\n      <td>0</td>\n    </tr>\n    <tr>\n      <th>3</th>\n      <td>9</td>\n      <td>675.83</td>\n      <td>1</td>\n      <td>0</td>\n      <td>Rural</td>\n      <td>1</td>\n      <td>Web</td>\n      <td>Discount</td>\n      <td>0</td>\n    </tr>\n    <tr>\n      <th>4</th>\n      <td>2</td>\n      <td>45.34</td>\n      <td>1</td>\n      <td>0</td>\n      <td>Urban</td>\n      <td>0</td>\n      <td>Web</td>\n      <td>Buy One Get One</td>\n      <td>0</td>\n    </tr>\n  </tbody>\n</table>\n</div>"
     },
     "execution_count": 15,
     "metadata": {},
     "output_type": "execute_result"
    }
   ],
   "source": [
    "data.head()"
   ],
   "metadata": {
    "collapsed": false,
    "pycharm": {
     "name": "#%%\n"
    }
   }
  },
  {
   "cell_type": "code",
   "execution_count": 16,
   "outputs": [],
   "source": [
    "data.loc[data.offer!='No Offer', 'offer'] = 'Offer'"
   ],
   "metadata": {
    "collapsed": false,
    "pycharm": {
     "name": "#%%\n"
    }
   }
  },
  {
   "cell_type": "code",
   "execution_count": 17,
   "outputs": [
    {
     "data": {
      "text/plain": "   recency  history  used_discount  used_bogo   zip_code  is_referral channel  \\\n0       10   142.44              1          0  Surburban            0   Phone   \n1        6   329.08              1          1      Rural            1     Web   \n2        7   180.65              0          1  Surburban            1     Web   \n3        9   675.83              1          0      Rural            1     Web   \n4        2    45.34              1          0      Urban            0     Web   \n\n      offer  conversion  \n0     Offer           0  \n1  No Offer           0  \n2     Offer           0  \n3     Offer           0  \n4     Offer           0  ",
      "text/html": "<div>\n<style scoped>\n    .dataframe tbody tr th:only-of-type {\n        vertical-align: middle;\n    }\n\n    .dataframe tbody tr th {\n        vertical-align: top;\n    }\n\n    .dataframe thead th {\n        text-align: right;\n    }\n</style>\n<table border=\"1\" class=\"dataframe\">\n  <thead>\n    <tr style=\"text-align: right;\">\n      <th></th>\n      <th>recency</th>\n      <th>history</th>\n      <th>used_discount</th>\n      <th>used_bogo</th>\n      <th>zip_code</th>\n      <th>is_referral</th>\n      <th>channel</th>\n      <th>offer</th>\n      <th>conversion</th>\n    </tr>\n  </thead>\n  <tbody>\n    <tr>\n      <th>0</th>\n      <td>10</td>\n      <td>142.44</td>\n      <td>1</td>\n      <td>0</td>\n      <td>Surburban</td>\n      <td>0</td>\n      <td>Phone</td>\n      <td>Offer</td>\n      <td>0</td>\n    </tr>\n    <tr>\n      <th>1</th>\n      <td>6</td>\n      <td>329.08</td>\n      <td>1</td>\n      <td>1</td>\n      <td>Rural</td>\n      <td>1</td>\n      <td>Web</td>\n      <td>No Offer</td>\n      <td>0</td>\n    </tr>\n    <tr>\n      <th>2</th>\n      <td>7</td>\n      <td>180.65</td>\n      <td>0</td>\n      <td>1</td>\n      <td>Surburban</td>\n      <td>1</td>\n      <td>Web</td>\n      <td>Offer</td>\n      <td>0</td>\n    </tr>\n    <tr>\n      <th>3</th>\n      <td>9</td>\n      <td>675.83</td>\n      <td>1</td>\n      <td>0</td>\n      <td>Rural</td>\n      <td>1</td>\n      <td>Web</td>\n      <td>Offer</td>\n      <td>0</td>\n    </tr>\n    <tr>\n      <th>4</th>\n      <td>2</td>\n      <td>45.34</td>\n      <td>1</td>\n      <td>0</td>\n      <td>Urban</td>\n      <td>0</td>\n      <td>Web</td>\n      <td>Offer</td>\n      <td>0</td>\n    </tr>\n  </tbody>\n</table>\n</div>"
     },
     "execution_count": 17,
     "metadata": {},
     "output_type": "execute_result"
    }
   ],
   "source": [
    "data.head()"
   ],
   "metadata": {
    "collapsed": false,
    "pycharm": {
     "name": "#%%\n"
    }
   }
  },
  {
   "cell_type": "code",
   "execution_count": 18,
   "outputs": [],
   "source": [
    "le = LabelEncoder()"
   ],
   "metadata": {
    "collapsed": false,
    "pycharm": {
     "name": "#%%\n"
    }
   }
  },
  {
   "cell_type": "code",
   "execution_count": 19,
   "outputs": [],
   "source": [
    "cat_features = ['zip_code', 'channel', 'offer']\n",
    "for column in cat_features:\n",
    "    le.fit(data[column])\n",
    "    data[column] = le.transform(data[column])"
   ],
   "metadata": {
    "collapsed": false,
    "pycharm": {
     "name": "#%%\n"
    }
   }
  },
  {
   "cell_type": "code",
   "execution_count": 21,
   "outputs": [],
   "source": [
    "offer = 1"
   ],
   "metadata": {
    "collapsed": false,
    "pycharm": {
     "name": "#%%\n"
    }
   }
  },
  {
   "cell_type": "code",
   "execution_count": 22,
   "outputs": [
    {
     "data": {
      "text/plain": "   recency  history  used_discount  used_bogo  zip_code  is_referral  channel  \\\n0       10   142.44              1          0         1            0        1   \n1        6   329.08              1          1         0            1        2   \n2        7   180.65              0          1         1            1        2   \n3        9   675.83              1          0         0            1        2   \n4        2    45.34              1          0         2            0        2   \n\n   offer  conversion  \n0      1           0  \n1      0           0  \n2      1           0  \n3      1           0  \n4      1           0  ",
      "text/html": "<div>\n<style scoped>\n    .dataframe tbody tr th:only-of-type {\n        vertical-align: middle;\n    }\n\n    .dataframe tbody tr th {\n        vertical-align: top;\n    }\n\n    .dataframe thead th {\n        text-align: right;\n    }\n</style>\n<table border=\"1\" class=\"dataframe\">\n  <thead>\n    <tr style=\"text-align: right;\">\n      <th></th>\n      <th>recency</th>\n      <th>history</th>\n      <th>used_discount</th>\n      <th>used_bogo</th>\n      <th>zip_code</th>\n      <th>is_referral</th>\n      <th>channel</th>\n      <th>offer</th>\n      <th>conversion</th>\n    </tr>\n  </thead>\n  <tbody>\n    <tr>\n      <th>0</th>\n      <td>10</td>\n      <td>142.44</td>\n      <td>1</td>\n      <td>0</td>\n      <td>1</td>\n      <td>0</td>\n      <td>1</td>\n      <td>1</td>\n      <td>0</td>\n    </tr>\n    <tr>\n      <th>1</th>\n      <td>6</td>\n      <td>329.08</td>\n      <td>1</td>\n      <td>1</td>\n      <td>0</td>\n      <td>1</td>\n      <td>2</td>\n      <td>0</td>\n      <td>0</td>\n    </tr>\n    <tr>\n      <th>2</th>\n      <td>7</td>\n      <td>180.65</td>\n      <td>0</td>\n      <td>1</td>\n      <td>1</td>\n      <td>1</td>\n      <td>2</td>\n      <td>1</td>\n      <td>0</td>\n    </tr>\n    <tr>\n      <th>3</th>\n      <td>9</td>\n      <td>675.83</td>\n      <td>1</td>\n      <td>0</td>\n      <td>0</td>\n      <td>1</td>\n      <td>2</td>\n      <td>1</td>\n      <td>0</td>\n    </tr>\n    <tr>\n      <th>4</th>\n      <td>2</td>\n      <td>45.34</td>\n      <td>1</td>\n      <td>0</td>\n      <td>2</td>\n      <td>0</td>\n      <td>2</td>\n      <td>1</td>\n      <td>0</td>\n    </tr>\n  </tbody>\n</table>\n</div>"
     },
     "execution_count": 22,
     "metadata": {},
     "output_type": "execute_result"
    }
   ],
   "source": [
    "data.head()"
   ],
   "metadata": {
    "collapsed": false,
    "pycharm": {
     "name": "#%%\n"
    }
   }
  },
  {
   "cell_type": "code",
   "execution_count": 56,
   "outputs": [],
   "source": [
    "X, y = data.drop(columns='conversion'), data.conversion"
   ],
   "metadata": {
    "collapsed": false,
    "pycharm": {
     "name": "#%%\n"
    }
   }
  },
  {
   "cell_type": "code",
   "execution_count": 57,
   "outputs": [],
   "source": [
    "X_train, X_test, y_train, y_test = train_test_split(X, y, test_size=0.33, random_state=42)"
   ],
   "metadata": {
    "collapsed": false,
    "pycharm": {
     "name": "#%%\n"
    }
   }
  },
  {
   "cell_type": "markdown",
   "source": [
    "### Single model aproach Или же S-learner"
   ],
   "metadata": {
    "collapsed": false,
    "pycharm": {
     "name": "#%% md\n"
    }
   }
  },
  {
   "cell_type": "code",
   "execution_count": 58,
   "outputs": [],
   "source": [
    "base_model = DecisionTreeClassifier(max_depth=20)"
   ],
   "metadata": {
    "collapsed": false,
    "pycharm": {
     "name": "#%%\n"
    }
   }
  },
  {
   "cell_type": "code",
   "execution_count": 66,
   "outputs": [],
   "source": [
    "class SLearner:\n",
    "    def __init__(self, communication_field='offer'):\n",
    "        self.model = base_model\n",
    "        self.com_field = communication_field\n",
    "    def fit(self, X, y):\n",
    "        self.model.fit(X, y)\n",
    "    def predict(self, X):\n",
    "        X_with_communication = X.copy()\n",
    "        X_without_communication = X.copy()\n",
    "        X_with_communication[self.com_field] = 1\n",
    "        X_without_communication[self.com_field] = 0\n",
    "        pred_with_c = self.model.predict_proba(X_with_communication)[:, 1]\n",
    "        pred_without_c = self.model.predict_proba(X_without_communication)[:, 1]\n",
    "\n",
    "        return pred_with_c-pred_without_c"
   ],
   "metadata": {
    "collapsed": false,
    "pycharm": {
     "name": "#%%\n"
    }
   }
  },
  {
   "cell_type": "code",
   "execution_count": 78,
   "outputs": [],
   "source": [
    "slearner = SLearner()\n",
    "slearner.fit(X_train, y_train)\n",
    "pred_slearner = slearner.predict(X_test)"
   ],
   "metadata": {
    "collapsed": false,
    "pycharm": {
     "name": "#%%\n"
    }
   }
  },
  {
   "cell_type": "markdown",
   "source": [
    "### Two model aproach или же T-leaner"
   ],
   "metadata": {
    "collapsed": false,
    "pycharm": {
     "name": "#%% md\n"
    }
   }
  },
  {
   "cell_type": "code",
   "execution_count": 81,
   "outputs": [],
   "source": [
    "class TLearner:\n",
    "    def __init__(self, communication_field='offer'):\n",
    "        self.model_treatment =  DecisionTreeClassifier(max_depth=20)\n",
    "        self.model_control =  DecisionTreeClassifier(max_depth=20)\n",
    "        self.com_field = communication_field\n",
    "\n",
    "    def fit(self, X, y):\n",
    "        X_with_communication = X[X[self.com_field]==1].drop(columns=self.com_field)\n",
    "        y_with_communication = y[X[self.com_field]==1]\n",
    "        X_without_communication = X[X[self.com_field]==0].drop(columns=self.com_field)\n",
    "        y_without_communication = y[X[self.com_field]==0]\n",
    "        self.model_treatment.fit(X_with_communication, y_with_communication)\n",
    "        self.model_control.fit(X_without_communication, y_without_communication)\n",
    "    def predict(self, X):\n",
    "        X_with_communication = X.drop(columns=self.com_field)\n",
    "        X_without_communication = X.drop(columns=self.com_field)\n",
    "        pred_with_c = self.model_treatment.predict_proba(X_with_communication)[:, 1]\n",
    "        pred_without_c = self.model_control.predict_proba(X_without_communication)[:, 1]\n",
    "\n",
    "        return pred_with_c-pred_without_c"
   ],
   "metadata": {
    "collapsed": false,
    "pycharm": {
     "name": "#%%\n"
    }
   }
  },
  {
   "cell_type": "code",
   "execution_count": 82,
   "outputs": [],
   "source": [
    "tlearner = TLearner()\n",
    "tlearner.fit(X_train, y_train)\n",
    "pred_tlearner = tlearner.predict(X_test)"
   ],
   "metadata": {
    "collapsed": false,
    "pycharm": {
     "name": "#%%\n"
    }
   }
  },
  {
   "cell_type": "code",
   "execution_count": 85,
   "outputs": [
    {
     "data": {
      "text/plain": "1.0"
     },
     "execution_count": 85,
     "metadata": {},
     "output_type": "execute_result"
    }
   ],
   "source": [
    "pred_tlearner.max()"
   ],
   "metadata": {
    "collapsed": false,
    "pycharm": {
     "name": "#%%\n"
    }
   }
  },
  {
   "cell_type": "code",
   "execution_count": null,
   "outputs": [],
   "source": [],
   "metadata": {
    "collapsed": false,
    "pycharm": {
     "name": "#%%\n"
    }
   }
  },
  {
   "cell_type": "code",
   "execution_count": null,
   "outputs": [],
   "source": [],
   "metadata": {
    "collapsed": false,
    "pycharm": {
     "name": "#%%\n"
    }
   }
  },
  {
   "cell_type": "code",
   "execution_count": null,
   "outputs": [],
   "source": [],
   "metadata": {
    "collapsed": false,
    "pycharm": {
     "name": "#%%\n"
    }
   }
  },
  {
   "cell_type": "code",
   "execution_count": null,
   "outputs": [],
   "source": [],
   "metadata": {
    "collapsed": false,
    "pycharm": {
     "name": "#%%\n"
    }
   }
  },
  {
   "cell_type": "code",
   "execution_count": 75,
   "outputs": [
    {
     "data": {
      "text/plain": "       recency  history  used_discount  used_bogo  zip_code  is_referral  \\\n44233       10    29.99              1          0         2            0   \n56296        8   292.30              1          1         2            1   \n23444        8    49.05              1          0         2            0   \n48936       12   324.32              1          0         2            0   \n57313        6    29.99              1          0         1            0   \n...        ...      ...            ...        ...       ...          ...   \n54343       10    29.99              0          1         1            0   \n62570        3   276.21              0          1         2            0   \n38158        4    43.49              0          1         2            0   \n860          8   492.53              1          1         0            1   \n15795        5    72.28              1          0         2            1   \n\n       channel  offer  \n44233        2      1  \n56296        2      1  \n23444        1      1  \n48936        2      1  \n57313        1      1  \n...        ...    ...  \n54343        2      1  \n62570        1      1  \n38158        1      1  \n860          1      1  \n15795        2      1  \n\n[28658 rows x 8 columns]",
      "text/html": "<div>\n<style scoped>\n    .dataframe tbody tr th:only-of-type {\n        vertical-align: middle;\n    }\n\n    .dataframe tbody tr th {\n        vertical-align: top;\n    }\n\n    .dataframe thead th {\n        text-align: right;\n    }\n</style>\n<table border=\"1\" class=\"dataframe\">\n  <thead>\n    <tr style=\"text-align: right;\">\n      <th></th>\n      <th>recency</th>\n      <th>history</th>\n      <th>used_discount</th>\n      <th>used_bogo</th>\n      <th>zip_code</th>\n      <th>is_referral</th>\n      <th>channel</th>\n      <th>offer</th>\n    </tr>\n  </thead>\n  <tbody>\n    <tr>\n      <th>44233</th>\n      <td>10</td>\n      <td>29.99</td>\n      <td>1</td>\n      <td>0</td>\n      <td>2</td>\n      <td>0</td>\n      <td>2</td>\n      <td>1</td>\n    </tr>\n    <tr>\n      <th>56296</th>\n      <td>8</td>\n      <td>292.30</td>\n      <td>1</td>\n      <td>1</td>\n      <td>2</td>\n      <td>1</td>\n      <td>2</td>\n      <td>1</td>\n    </tr>\n    <tr>\n      <th>23444</th>\n      <td>8</td>\n      <td>49.05</td>\n      <td>1</td>\n      <td>0</td>\n      <td>2</td>\n      <td>0</td>\n      <td>1</td>\n      <td>1</td>\n    </tr>\n    <tr>\n      <th>48936</th>\n      <td>12</td>\n      <td>324.32</td>\n      <td>1</td>\n      <td>0</td>\n      <td>2</td>\n      <td>0</td>\n      <td>2</td>\n      <td>1</td>\n    </tr>\n    <tr>\n      <th>57313</th>\n      <td>6</td>\n      <td>29.99</td>\n      <td>1</td>\n      <td>0</td>\n      <td>1</td>\n      <td>0</td>\n      <td>1</td>\n      <td>1</td>\n    </tr>\n    <tr>\n      <th>...</th>\n      <td>...</td>\n      <td>...</td>\n      <td>...</td>\n      <td>...</td>\n      <td>...</td>\n      <td>...</td>\n      <td>...</td>\n      <td>...</td>\n    </tr>\n    <tr>\n      <th>54343</th>\n      <td>10</td>\n      <td>29.99</td>\n      <td>0</td>\n      <td>1</td>\n      <td>1</td>\n      <td>0</td>\n      <td>2</td>\n      <td>1</td>\n    </tr>\n    <tr>\n      <th>62570</th>\n      <td>3</td>\n      <td>276.21</td>\n      <td>0</td>\n      <td>1</td>\n      <td>2</td>\n      <td>0</td>\n      <td>1</td>\n      <td>1</td>\n    </tr>\n    <tr>\n      <th>38158</th>\n      <td>4</td>\n      <td>43.49</td>\n      <td>0</td>\n      <td>1</td>\n      <td>2</td>\n      <td>0</td>\n      <td>1</td>\n      <td>1</td>\n    </tr>\n    <tr>\n      <th>860</th>\n      <td>8</td>\n      <td>492.53</td>\n      <td>1</td>\n      <td>1</td>\n      <td>0</td>\n      <td>1</td>\n      <td>1</td>\n      <td>1</td>\n    </tr>\n    <tr>\n      <th>15795</th>\n      <td>5</td>\n      <td>72.28</td>\n      <td>1</td>\n      <td>0</td>\n      <td>2</td>\n      <td>1</td>\n      <td>2</td>\n      <td>1</td>\n    </tr>\n  </tbody>\n</table>\n<p>28658 rows × 8 columns</p>\n</div>"
     },
     "execution_count": 75,
     "metadata": {},
     "output_type": "execute_result"
    }
   ],
   "source": [
    "X_train[X_train.offer==1]"
   ],
   "metadata": {
    "collapsed": false,
    "pycharm": {
     "name": "#%%\n"
    }
   }
  },
  {
   "cell_type": "code",
   "execution_count": 72,
   "outputs": [
    {
     "ename": "NameError",
     "evalue": "name 'copy' is not defined",
     "output_type": "error",
     "traceback": [
      "\u001B[0;31m---------------------------------------------------------------------------\u001B[0m",
      "\u001B[0;31mNameError\u001B[0m                                 Traceback (most recent call last)",
      "Input \u001B[0;32mIn [72]\u001B[0m, in \u001B[0;36m<module>\u001B[0;34m\u001B[0m\n\u001B[0;32m----> 1\u001B[0m \u001B[43mcopy\u001B[49m()\n",
      "\u001B[0;31mNameError\u001B[0m: name 'copy' is not defined"
     ]
    }
   ],
   "source": [],
   "metadata": {
    "collapsed": false,
    "pycharm": {
     "name": "#%%\n"
    }
   }
  },
  {
   "cell_type": "code",
   "execution_count": null,
   "outputs": [],
   "source": [],
   "metadata": {
    "collapsed": false,
    "pycharm": {
     "name": "#%%\n"
    }
   }
  },
  {
   "cell_type": "code",
   "execution_count": null,
   "outputs": [],
   "source": [],
   "metadata": {
    "collapsed": false,
    "pycharm": {
     "name": "#%%\n"
    }
   }
  },
  {
   "cell_type": "code",
   "execution_count": 50,
   "outputs": [
    {
     "data": {
      "text/plain": "1.0"
     },
     "execution_count": 50,
     "metadata": {},
     "output_type": "execute_result"
    }
   ],
   "source": [
    "pred.min()"
   ],
   "metadata": {
    "collapsed": false,
    "pycharm": {
     "name": "#%%\n"
    }
   }
  },
  {
   "cell_type": "code",
   "execution_count": 42,
   "outputs": [
    {
     "data": {
      "text/plain": "       recency  history  used_discount  used_bogo  zip_code  is_referral  \\\n44233       10    29.99              1          0         2            0   \n58749        9    60.25              0          1         2            0   \n56296        8   292.30              1          1         2            1   \n23444        8    49.05              1          0         2            0   \n48936       12   324.32              1          0         2            0   \n...        ...      ...            ...        ...       ...          ...   \n62570        3   276.21              0          1         2            0   \n38158        4    43.49              0          1         2            0   \n860          8   492.53              1          1         0            1   \n15795        5    72.28              1          0         2            1   \n56422        3   787.51              1          1         2            1   \n\n       channel  offer  \n44233        2      1  \n58749        1      0  \n56296        2      1  \n23444        1      1  \n48936        2      1  \n...        ...    ...  \n62570        1      1  \n38158        1      1  \n860          1      1  \n15795        2      1  \n56422        0      0  \n\n[42880 rows x 8 columns]",
      "text/html": "<div>\n<style scoped>\n    .dataframe tbody tr th:only-of-type {\n        vertical-align: middle;\n    }\n\n    .dataframe tbody tr th {\n        vertical-align: top;\n    }\n\n    .dataframe thead th {\n        text-align: right;\n    }\n</style>\n<table border=\"1\" class=\"dataframe\">\n  <thead>\n    <tr style=\"text-align: right;\">\n      <th></th>\n      <th>recency</th>\n      <th>history</th>\n      <th>used_discount</th>\n      <th>used_bogo</th>\n      <th>zip_code</th>\n      <th>is_referral</th>\n      <th>channel</th>\n      <th>offer</th>\n    </tr>\n  </thead>\n  <tbody>\n    <tr>\n      <th>44233</th>\n      <td>10</td>\n      <td>29.99</td>\n      <td>1</td>\n      <td>0</td>\n      <td>2</td>\n      <td>0</td>\n      <td>2</td>\n      <td>1</td>\n    </tr>\n    <tr>\n      <th>58749</th>\n      <td>9</td>\n      <td>60.25</td>\n      <td>0</td>\n      <td>1</td>\n      <td>2</td>\n      <td>0</td>\n      <td>1</td>\n      <td>0</td>\n    </tr>\n    <tr>\n      <th>56296</th>\n      <td>8</td>\n      <td>292.30</td>\n      <td>1</td>\n      <td>1</td>\n      <td>2</td>\n      <td>1</td>\n      <td>2</td>\n      <td>1</td>\n    </tr>\n    <tr>\n      <th>23444</th>\n      <td>8</td>\n      <td>49.05</td>\n      <td>1</td>\n      <td>0</td>\n      <td>2</td>\n      <td>0</td>\n      <td>1</td>\n      <td>1</td>\n    </tr>\n    <tr>\n      <th>48936</th>\n      <td>12</td>\n      <td>324.32</td>\n      <td>1</td>\n      <td>0</td>\n      <td>2</td>\n      <td>0</td>\n      <td>2</td>\n      <td>1</td>\n    </tr>\n    <tr>\n      <th>...</th>\n      <td>...</td>\n      <td>...</td>\n      <td>...</td>\n      <td>...</td>\n      <td>...</td>\n      <td>...</td>\n      <td>...</td>\n      <td>...</td>\n    </tr>\n    <tr>\n      <th>62570</th>\n      <td>3</td>\n      <td>276.21</td>\n      <td>0</td>\n      <td>1</td>\n      <td>2</td>\n      <td>0</td>\n      <td>1</td>\n      <td>1</td>\n    </tr>\n    <tr>\n      <th>38158</th>\n      <td>4</td>\n      <td>43.49</td>\n      <td>0</td>\n      <td>1</td>\n      <td>2</td>\n      <td>0</td>\n      <td>1</td>\n      <td>1</td>\n    </tr>\n    <tr>\n      <th>860</th>\n      <td>8</td>\n      <td>492.53</td>\n      <td>1</td>\n      <td>1</td>\n      <td>0</td>\n      <td>1</td>\n      <td>1</td>\n      <td>1</td>\n    </tr>\n    <tr>\n      <th>15795</th>\n      <td>5</td>\n      <td>72.28</td>\n      <td>1</td>\n      <td>0</td>\n      <td>2</td>\n      <td>1</td>\n      <td>2</td>\n      <td>1</td>\n    </tr>\n    <tr>\n      <th>56422</th>\n      <td>3</td>\n      <td>787.51</td>\n      <td>1</td>\n      <td>1</td>\n      <td>2</td>\n      <td>1</td>\n      <td>0</td>\n      <td>0</td>\n    </tr>\n  </tbody>\n</table>\n<p>42880 rows × 8 columns</p>\n</div>"
     },
     "execution_count": 42,
     "metadata": {},
     "output_type": "execute_result"
    }
   ],
   "source": [
    "X_train.copy()"
   ],
   "metadata": {
    "collapsed": false,
    "pycharm": {
     "name": "#%%\n"
    }
   }
  },
  {
   "cell_type": "code",
   "execution_count": null,
   "outputs": [],
   "source": [],
   "metadata": {
    "collapsed": false,
    "pycharm": {
     "name": "#%%\n"
    }
   }
  },
  {
   "cell_type": "code",
   "execution_count": null,
   "outputs": [],
   "source": [],
   "metadata": {
    "collapsed": false,
    "pycharm": {
     "name": "#%%\n"
    }
   }
  },
  {
   "cell_type": "code",
   "execution_count": null,
   "outputs": [],
   "source": [],
   "metadata": {
    "collapsed": false,
    "pycharm": {
     "name": "#%%\n"
    }
   }
  },
  {
   "cell_type": "code",
   "execution_count": null,
   "outputs": [],
   "source": [],
   "metadata": {
    "collapsed": false,
    "pycharm": {
     "name": "#%%\n"
    }
   }
  },
  {
   "cell_type": "code",
   "execution_count": null,
   "outputs": [],
   "source": [],
   "metadata": {
    "collapsed": false,
    "pycharm": {
     "name": "#%%\n"
    }
   }
  },
  {
   "cell_type": "code",
   "execution_count": null,
   "outputs": [],
   "source": [],
   "metadata": {
    "collapsed": false,
    "pycharm": {
     "name": "#%%\n"
    }
   }
  },
  {
   "cell_type": "code",
   "execution_count": null,
   "outputs": [],
   "source": [],
   "metadata": {
    "collapsed": false,
    "pycharm": {
     "name": "#%%\n"
    }
   }
  },
  {
   "cell_type": "code",
   "execution_count": null,
   "outputs": [],
   "source": [],
   "metadata": {
    "collapsed": false,
    "pycharm": {
     "name": "#%%\n"
    }
   }
  },
  {
   "cell_type": "code",
   "execution_count": null,
   "outputs": [],
   "source": [],
   "metadata": {
    "collapsed": false,
    "pycharm": {
     "name": "#%%\n"
    }
   }
  },
  {
   "cell_type": "code",
   "execution_count": null,
   "outputs": [],
   "source": [],
   "metadata": {
    "collapsed": false,
    "pycharm": {
     "name": "#%%\n"
    }
   }
  },
  {
   "cell_type": "code",
   "execution_count": null,
   "outputs": [],
   "source": [],
   "metadata": {
    "collapsed": false,
    "pycharm": {
     "name": "#%%\n"
    }
   }
  },
  {
   "cell_type": "code",
   "execution_count": null,
   "outputs": [],
   "source": [],
   "metadata": {
    "collapsed": false,
    "pycharm": {
     "name": "#%%\n"
    }
   }
  },
  {
   "cell_type": "code",
   "execution_count": null,
   "outputs": [],
   "source": [],
   "metadata": {
    "collapsed": false,
    "pycharm": {
     "name": "#%%\n"
    }
   }
  },
  {
   "cell_type": "code",
   "execution_count": 20,
   "outputs": [
    {
     "data": {
      "text/plain": "       recency  history  used_discount  used_bogo  zip_code  is_referral  \\\n0           10   142.44              1          0         1            0   \n1            6   329.08              1          1         0            1   \n2            7   180.65              0          1         1            1   \n3            9   675.83              1          0         0            1   \n4            2    45.34              1          0         2            0   \n...        ...      ...            ...        ...       ...          ...   \n63995       10   105.54              1          0         2            0   \n63996        5    38.91              0          1         2            1   \n63997        6    29.99              1          0         2            1   \n63998        1   552.94              1          0         1            1   \n63999        1   472.82              0          1         1            0   \n\n       channel  offer  conversion  \n0            1      1           0  \n1            2      0           0  \n2            2      1           0  \n3            2      1           0  \n4            2      1           0  \n...        ...    ...         ...  \n63995        2      1           0  \n63996        1      1           0  \n63997        1      1           0  \n63998        0      1           0  \n63999        2      1           0  \n\n[64000 rows x 9 columns]",
      "text/html": "<div>\n<style scoped>\n    .dataframe tbody tr th:only-of-type {\n        vertical-align: middle;\n    }\n\n    .dataframe tbody tr th {\n        vertical-align: top;\n    }\n\n    .dataframe thead th {\n        text-align: right;\n    }\n</style>\n<table border=\"1\" class=\"dataframe\">\n  <thead>\n    <tr style=\"text-align: right;\">\n      <th></th>\n      <th>recency</th>\n      <th>history</th>\n      <th>used_discount</th>\n      <th>used_bogo</th>\n      <th>zip_code</th>\n      <th>is_referral</th>\n      <th>channel</th>\n      <th>offer</th>\n      <th>conversion</th>\n    </tr>\n  </thead>\n  <tbody>\n    <tr>\n      <th>0</th>\n      <td>10</td>\n      <td>142.44</td>\n      <td>1</td>\n      <td>0</td>\n      <td>1</td>\n      <td>0</td>\n      <td>1</td>\n      <td>1</td>\n      <td>0</td>\n    </tr>\n    <tr>\n      <th>1</th>\n      <td>6</td>\n      <td>329.08</td>\n      <td>1</td>\n      <td>1</td>\n      <td>0</td>\n      <td>1</td>\n      <td>2</td>\n      <td>0</td>\n      <td>0</td>\n    </tr>\n    <tr>\n      <th>2</th>\n      <td>7</td>\n      <td>180.65</td>\n      <td>0</td>\n      <td>1</td>\n      <td>1</td>\n      <td>1</td>\n      <td>2</td>\n      <td>1</td>\n      <td>0</td>\n    </tr>\n    <tr>\n      <th>3</th>\n      <td>9</td>\n      <td>675.83</td>\n      <td>1</td>\n      <td>0</td>\n      <td>0</td>\n      <td>1</td>\n      <td>2</td>\n      <td>1</td>\n      <td>0</td>\n    </tr>\n    <tr>\n      <th>4</th>\n      <td>2</td>\n      <td>45.34</td>\n      <td>1</td>\n      <td>0</td>\n      <td>2</td>\n      <td>0</td>\n      <td>2</td>\n      <td>1</td>\n      <td>0</td>\n    </tr>\n    <tr>\n      <th>...</th>\n      <td>...</td>\n      <td>...</td>\n      <td>...</td>\n      <td>...</td>\n      <td>...</td>\n      <td>...</td>\n      <td>...</td>\n      <td>...</td>\n      <td>...</td>\n    </tr>\n    <tr>\n      <th>63995</th>\n      <td>10</td>\n      <td>105.54</td>\n      <td>1</td>\n      <td>0</td>\n      <td>2</td>\n      <td>0</td>\n      <td>2</td>\n      <td>1</td>\n      <td>0</td>\n    </tr>\n    <tr>\n      <th>63996</th>\n      <td>5</td>\n      <td>38.91</td>\n      <td>0</td>\n      <td>1</td>\n      <td>2</td>\n      <td>1</td>\n      <td>1</td>\n      <td>1</td>\n      <td>0</td>\n    </tr>\n    <tr>\n      <th>63997</th>\n      <td>6</td>\n      <td>29.99</td>\n      <td>1</td>\n      <td>0</td>\n      <td>2</td>\n      <td>1</td>\n      <td>1</td>\n      <td>1</td>\n      <td>0</td>\n    </tr>\n    <tr>\n      <th>63998</th>\n      <td>1</td>\n      <td>552.94</td>\n      <td>1</td>\n      <td>0</td>\n      <td>1</td>\n      <td>1</td>\n      <td>0</td>\n      <td>1</td>\n      <td>0</td>\n    </tr>\n    <tr>\n      <th>63999</th>\n      <td>1</td>\n      <td>472.82</td>\n      <td>0</td>\n      <td>1</td>\n      <td>1</td>\n      <td>0</td>\n      <td>2</td>\n      <td>1</td>\n      <td>0</td>\n    </tr>\n  </tbody>\n</table>\n<p>64000 rows × 9 columns</p>\n</div>"
     },
     "execution_count": 20,
     "metadata": {},
     "output_type": "execute_result"
    }
   ],
   "source": [
    "data"
   ],
   "metadata": {
    "collapsed": false,
    "pycharm": {
     "name": "#%%\n"
    }
   }
  },
  {
   "cell_type": "code",
   "execution_count": 12,
   "outputs": [
    {
     "data": {
      "text/plain": "       recency  history  used_discount  used_bogo  zip_code  is_referral  \\\n0           10   142.44              1          0         1            0   \n1            6   329.08              1          1         0            1   \n2            7   180.65              0          1         1            1   \n3            9   675.83              1          0         0            1   \n4            2    45.34              1          0         2            0   \n...        ...      ...            ...        ...       ...          ...   \n63995       10   105.54              1          0         2            0   \n63996        5    38.91              0          1         2            1   \n63997        6    29.99              1          0         2            1   \n63998        1   552.94              1          0         1            1   \n63999        1   472.82              0          1         1            0   \n\n       channel  offer  conversion  \n0            1      0           0  \n1            2      2           0  \n2            2      0           0  \n3            2      1           0  \n4            2      0           0  \n...        ...    ...         ...  \n63995        2      1           0  \n63996        1      1           0  \n63997        1      1           0  \n63998        0      0           0  \n63999        2      1           0  \n\n[64000 rows x 9 columns]",
      "text/html": "<div>\n<style scoped>\n    .dataframe tbody tr th:only-of-type {\n        vertical-align: middle;\n    }\n\n    .dataframe tbody tr th {\n        vertical-align: top;\n    }\n\n    .dataframe thead th {\n        text-align: right;\n    }\n</style>\n<table border=\"1\" class=\"dataframe\">\n  <thead>\n    <tr style=\"text-align: right;\">\n      <th></th>\n      <th>recency</th>\n      <th>history</th>\n      <th>used_discount</th>\n      <th>used_bogo</th>\n      <th>zip_code</th>\n      <th>is_referral</th>\n      <th>channel</th>\n      <th>offer</th>\n      <th>conversion</th>\n    </tr>\n  </thead>\n  <tbody>\n    <tr>\n      <th>0</th>\n      <td>10</td>\n      <td>142.44</td>\n      <td>1</td>\n      <td>0</td>\n      <td>1</td>\n      <td>0</td>\n      <td>1</td>\n      <td>0</td>\n      <td>0</td>\n    </tr>\n    <tr>\n      <th>1</th>\n      <td>6</td>\n      <td>329.08</td>\n      <td>1</td>\n      <td>1</td>\n      <td>0</td>\n      <td>1</td>\n      <td>2</td>\n      <td>2</td>\n      <td>0</td>\n    </tr>\n    <tr>\n      <th>2</th>\n      <td>7</td>\n      <td>180.65</td>\n      <td>0</td>\n      <td>1</td>\n      <td>1</td>\n      <td>1</td>\n      <td>2</td>\n      <td>0</td>\n      <td>0</td>\n    </tr>\n    <tr>\n      <th>3</th>\n      <td>9</td>\n      <td>675.83</td>\n      <td>1</td>\n      <td>0</td>\n      <td>0</td>\n      <td>1</td>\n      <td>2</td>\n      <td>1</td>\n      <td>0</td>\n    </tr>\n    <tr>\n      <th>4</th>\n      <td>2</td>\n      <td>45.34</td>\n      <td>1</td>\n      <td>0</td>\n      <td>2</td>\n      <td>0</td>\n      <td>2</td>\n      <td>0</td>\n      <td>0</td>\n    </tr>\n    <tr>\n      <th>...</th>\n      <td>...</td>\n      <td>...</td>\n      <td>...</td>\n      <td>...</td>\n      <td>...</td>\n      <td>...</td>\n      <td>...</td>\n      <td>...</td>\n      <td>...</td>\n    </tr>\n    <tr>\n      <th>63995</th>\n      <td>10</td>\n      <td>105.54</td>\n      <td>1</td>\n      <td>0</td>\n      <td>2</td>\n      <td>0</td>\n      <td>2</td>\n      <td>1</td>\n      <td>0</td>\n    </tr>\n    <tr>\n      <th>63996</th>\n      <td>5</td>\n      <td>38.91</td>\n      <td>0</td>\n      <td>1</td>\n      <td>2</td>\n      <td>1</td>\n      <td>1</td>\n      <td>1</td>\n      <td>0</td>\n    </tr>\n    <tr>\n      <th>63997</th>\n      <td>6</td>\n      <td>29.99</td>\n      <td>1</td>\n      <td>0</td>\n      <td>2</td>\n      <td>1</td>\n      <td>1</td>\n      <td>1</td>\n      <td>0</td>\n    </tr>\n    <tr>\n      <th>63998</th>\n      <td>1</td>\n      <td>552.94</td>\n      <td>1</td>\n      <td>0</td>\n      <td>1</td>\n      <td>1</td>\n      <td>0</td>\n      <td>0</td>\n      <td>0</td>\n    </tr>\n    <tr>\n      <th>63999</th>\n      <td>1</td>\n      <td>472.82</td>\n      <td>0</td>\n      <td>1</td>\n      <td>1</td>\n      <td>0</td>\n      <td>2</td>\n      <td>1</td>\n      <td>0</td>\n    </tr>\n  </tbody>\n</table>\n<p>64000 rows × 9 columns</p>\n</div>"
     },
     "execution_count": 12,
     "metadata": {},
     "output_type": "execute_result"
    }
   ],
   "source": [
    "data"
   ],
   "metadata": {
    "collapsed": false,
    "pycharm": {
     "name": "#%%\n"
    }
   }
  },
  {
   "cell_type": "code",
   "execution_count": 6,
   "outputs": [],
   "source": [
    "data_treatment = data[data.offer != 'No Offer']\n",
    "data_control = data[data.offer == 'No Offer']"
   ],
   "metadata": {
    "collapsed": false,
    "pycharm": {
     "name": "#%%\n"
    }
   }
  },
  {
   "cell_type": "code",
   "execution_count": 10,
   "outputs": [
    {
     "data": {
      "text/plain": "       recency  history  used_discount  used_bogo   zip_code  is_referral  \\\n0           10   142.44              1          0  Surburban            0   \n1            6   329.08              1          1      Rural            1   \n2            7   180.65              0          1  Surburban            1   \n3            9   675.83              1          0      Rural            1   \n4            2    45.34              1          0      Urban            0   \n...        ...      ...            ...        ...        ...          ...   \n63995       10   105.54              1          0      Urban            0   \n63996        5    38.91              0          1      Urban            1   \n63997        6    29.99              1          0      Urban            1   \n63998        1   552.94              1          0  Surburban            1   \n63999        1   472.82              0          1  Surburban            0   \n\n            channel            offer  conversion  \n0             Phone  Buy One Get One           0  \n1               Web         No Offer           0  \n2               Web  Buy One Get One           0  \n3               Web         Discount           0  \n4               Web  Buy One Get One           0  \n...             ...              ...         ...  \n63995           Web         Discount           0  \n63996         Phone         Discount           0  \n63997         Phone         Discount           0  \n63998  Multichannel  Buy One Get One           0  \n63999           Web         Discount           0  \n\n[64000 rows x 9 columns]",
      "text/html": "<div>\n<style scoped>\n    .dataframe tbody tr th:only-of-type {\n        vertical-align: middle;\n    }\n\n    .dataframe tbody tr th {\n        vertical-align: top;\n    }\n\n    .dataframe thead th {\n        text-align: right;\n    }\n</style>\n<table border=\"1\" class=\"dataframe\">\n  <thead>\n    <tr style=\"text-align: right;\">\n      <th></th>\n      <th>recency</th>\n      <th>history</th>\n      <th>used_discount</th>\n      <th>used_bogo</th>\n      <th>zip_code</th>\n      <th>is_referral</th>\n      <th>channel</th>\n      <th>offer</th>\n      <th>conversion</th>\n    </tr>\n  </thead>\n  <tbody>\n    <tr>\n      <th>0</th>\n      <td>10</td>\n      <td>142.44</td>\n      <td>1</td>\n      <td>0</td>\n      <td>Surburban</td>\n      <td>0</td>\n      <td>Phone</td>\n      <td>Buy One Get One</td>\n      <td>0</td>\n    </tr>\n    <tr>\n      <th>1</th>\n      <td>6</td>\n      <td>329.08</td>\n      <td>1</td>\n      <td>1</td>\n      <td>Rural</td>\n      <td>1</td>\n      <td>Web</td>\n      <td>No Offer</td>\n      <td>0</td>\n    </tr>\n    <tr>\n      <th>2</th>\n      <td>7</td>\n      <td>180.65</td>\n      <td>0</td>\n      <td>1</td>\n      <td>Surburban</td>\n      <td>1</td>\n      <td>Web</td>\n      <td>Buy One Get One</td>\n      <td>0</td>\n    </tr>\n    <tr>\n      <th>3</th>\n      <td>9</td>\n      <td>675.83</td>\n      <td>1</td>\n      <td>0</td>\n      <td>Rural</td>\n      <td>1</td>\n      <td>Web</td>\n      <td>Discount</td>\n      <td>0</td>\n    </tr>\n    <tr>\n      <th>4</th>\n      <td>2</td>\n      <td>45.34</td>\n      <td>1</td>\n      <td>0</td>\n      <td>Urban</td>\n      <td>0</td>\n      <td>Web</td>\n      <td>Buy One Get One</td>\n      <td>0</td>\n    </tr>\n    <tr>\n      <th>...</th>\n      <td>...</td>\n      <td>...</td>\n      <td>...</td>\n      <td>...</td>\n      <td>...</td>\n      <td>...</td>\n      <td>...</td>\n      <td>...</td>\n      <td>...</td>\n    </tr>\n    <tr>\n      <th>63995</th>\n      <td>10</td>\n      <td>105.54</td>\n      <td>1</td>\n      <td>0</td>\n      <td>Urban</td>\n      <td>0</td>\n      <td>Web</td>\n      <td>Discount</td>\n      <td>0</td>\n    </tr>\n    <tr>\n      <th>63996</th>\n      <td>5</td>\n      <td>38.91</td>\n      <td>0</td>\n      <td>1</td>\n      <td>Urban</td>\n      <td>1</td>\n      <td>Phone</td>\n      <td>Discount</td>\n      <td>0</td>\n    </tr>\n    <tr>\n      <th>63997</th>\n      <td>6</td>\n      <td>29.99</td>\n      <td>1</td>\n      <td>0</td>\n      <td>Urban</td>\n      <td>1</td>\n      <td>Phone</td>\n      <td>Discount</td>\n      <td>0</td>\n    </tr>\n    <tr>\n      <th>63998</th>\n      <td>1</td>\n      <td>552.94</td>\n      <td>1</td>\n      <td>0</td>\n      <td>Surburban</td>\n      <td>1</td>\n      <td>Multichannel</td>\n      <td>Buy One Get One</td>\n      <td>0</td>\n    </tr>\n    <tr>\n      <th>63999</th>\n      <td>1</td>\n      <td>472.82</td>\n      <td>0</td>\n      <td>1</td>\n      <td>Surburban</td>\n      <td>0</td>\n      <td>Web</td>\n      <td>Discount</td>\n      <td>0</td>\n    </tr>\n  </tbody>\n</table>\n<p>64000 rows × 9 columns</p>\n</div>"
     },
     "execution_count": 10,
     "metadata": {},
     "output_type": "execute_result"
    }
   ],
   "source": [
    "data"
   ],
   "metadata": {
    "collapsed": false,
    "pycharm": {
     "name": "#%%\n"
    }
   }
  },
  {
   "cell_type": "code",
   "execution_count": 5,
   "outputs": [
    {
     "data": {
      "text/plain": "       recency  history  used_discount  used_bogo   zip_code  is_referral  \\\n1            6   329.08              1          1      Rural            1   \n14           4   241.42              0          1      Rural            1   \n15           3    58.13              1          0      Urban            1   \n20           9    29.99              0          1  Surburban            1   \n23           2    29.99              0          1      Urban            1   \n...        ...      ...            ...        ...        ...          ...   \n63980        3   487.10              0          1  Surburban            1   \n63981        4   125.53              0          1      Rural            1   \n63983        2    83.03              0          1      Urban            0   \n63987        1    79.70              1          0  Surburban            1   \n63990        6    80.02              0          1  Surburban            0   \n\n            channel     offer  conversion  \n1               Web  No Offer           0  \n14     Multichannel  No Offer           0  \n15              Web  No Offer           1  \n20            Phone  No Offer           0  \n23            Phone  No Offer           0  \n...             ...       ...         ...  \n63980         Phone  No Offer           0  \n63981         Phone  No Offer           0  \n63983         Phone  No Offer           0  \n63987           Web  No Offer           0  \n63990         Phone  No Offer           0  \n\n[21306 rows x 9 columns]",
      "text/html": "<div>\n<style scoped>\n    .dataframe tbody tr th:only-of-type {\n        vertical-align: middle;\n    }\n\n    .dataframe tbody tr th {\n        vertical-align: top;\n    }\n\n    .dataframe thead th {\n        text-align: right;\n    }\n</style>\n<table border=\"1\" class=\"dataframe\">\n  <thead>\n    <tr style=\"text-align: right;\">\n      <th></th>\n      <th>recency</th>\n      <th>history</th>\n      <th>used_discount</th>\n      <th>used_bogo</th>\n      <th>zip_code</th>\n      <th>is_referral</th>\n      <th>channel</th>\n      <th>offer</th>\n      <th>conversion</th>\n    </tr>\n  </thead>\n  <tbody>\n    <tr>\n      <th>1</th>\n      <td>6</td>\n      <td>329.08</td>\n      <td>1</td>\n      <td>1</td>\n      <td>Rural</td>\n      <td>1</td>\n      <td>Web</td>\n      <td>No Offer</td>\n      <td>0</td>\n    </tr>\n    <tr>\n      <th>14</th>\n      <td>4</td>\n      <td>241.42</td>\n      <td>0</td>\n      <td>1</td>\n      <td>Rural</td>\n      <td>1</td>\n      <td>Multichannel</td>\n      <td>No Offer</td>\n      <td>0</td>\n    </tr>\n    <tr>\n      <th>15</th>\n      <td>3</td>\n      <td>58.13</td>\n      <td>1</td>\n      <td>0</td>\n      <td>Urban</td>\n      <td>1</td>\n      <td>Web</td>\n      <td>No Offer</td>\n      <td>1</td>\n    </tr>\n    <tr>\n      <th>20</th>\n      <td>9</td>\n      <td>29.99</td>\n      <td>0</td>\n      <td>1</td>\n      <td>Surburban</td>\n      <td>1</td>\n      <td>Phone</td>\n      <td>No Offer</td>\n      <td>0</td>\n    </tr>\n    <tr>\n      <th>23</th>\n      <td>2</td>\n      <td>29.99</td>\n      <td>0</td>\n      <td>1</td>\n      <td>Urban</td>\n      <td>1</td>\n      <td>Phone</td>\n      <td>No Offer</td>\n      <td>0</td>\n    </tr>\n    <tr>\n      <th>...</th>\n      <td>...</td>\n      <td>...</td>\n      <td>...</td>\n      <td>...</td>\n      <td>...</td>\n      <td>...</td>\n      <td>...</td>\n      <td>...</td>\n      <td>...</td>\n    </tr>\n    <tr>\n      <th>63980</th>\n      <td>3</td>\n      <td>487.10</td>\n      <td>0</td>\n      <td>1</td>\n      <td>Surburban</td>\n      <td>1</td>\n      <td>Phone</td>\n      <td>No Offer</td>\n      <td>0</td>\n    </tr>\n    <tr>\n      <th>63981</th>\n      <td>4</td>\n      <td>125.53</td>\n      <td>0</td>\n      <td>1</td>\n      <td>Rural</td>\n      <td>1</td>\n      <td>Phone</td>\n      <td>No Offer</td>\n      <td>0</td>\n    </tr>\n    <tr>\n      <th>63983</th>\n      <td>2</td>\n      <td>83.03</td>\n      <td>0</td>\n      <td>1</td>\n      <td>Urban</td>\n      <td>0</td>\n      <td>Phone</td>\n      <td>No Offer</td>\n      <td>0</td>\n    </tr>\n    <tr>\n      <th>63987</th>\n      <td>1</td>\n      <td>79.70</td>\n      <td>1</td>\n      <td>0</td>\n      <td>Surburban</td>\n      <td>1</td>\n      <td>Web</td>\n      <td>No Offer</td>\n      <td>0</td>\n    </tr>\n    <tr>\n      <th>63990</th>\n      <td>6</td>\n      <td>80.02</td>\n      <td>0</td>\n      <td>1</td>\n      <td>Surburban</td>\n      <td>0</td>\n      <td>Phone</td>\n      <td>No Offer</td>\n      <td>0</td>\n    </tr>\n  </tbody>\n</table>\n<p>21306 rows × 9 columns</p>\n</div>"
     },
     "execution_count": 5,
     "metadata": {},
     "output_type": "execute_result"
    }
   ],
   "source": [
    "data[data.offer == 'No Offer']"
   ],
   "metadata": {
    "collapsed": false,
    "pycharm": {
     "name": "#%%\n"
    }
   }
  },
  {
   "cell_type": "code",
   "execution_count": null,
   "outputs": [],
   "source": [],
   "metadata": {
    "collapsed": false,
    "pycharm": {
     "name": "#%%\n"
    }
   }
  }
 ],
 "metadata": {
  "kernelspec": {
   "display_name": "Python 3",
   "language": "python",
   "name": "python3"
  },
  "language_info": {
   "codemirror_mode": {
    "name": "ipython",
    "version": 2
   },
   "file_extension": ".py",
   "mimetype": "text/x-python",
   "name": "python",
   "nbconvert_exporter": "python",
   "pygments_lexer": "ipython2",
   "version": "2.7.6"
  }
 },
 "nbformat": 4,
 "nbformat_minor": 0
}