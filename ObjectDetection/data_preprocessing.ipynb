{
 "cells": [
  {
   "cell_type": "code",
   "execution_count": 50,
   "metadata": {
    "collapsed": true
   },
   "outputs": [],
   "source": [
    "import pandas as pd\n",
    "import os"
   ]
  },
  {
   "cell_type": "code",
   "execution_count": 51,
   "outputs": [],
   "source": [
    "with open('dataset/dataset/train.txt') as f:\n",
    "    train_txt = f.read()\n",
    "with open('dataset/dataset/test.txt') as f:\n",
    "    test_txt = f.read()"
   ],
   "metadata": {
    "collapsed": false,
    "pycharm": {
     "name": "#%%\n"
    }
   }
  },
  {
   "cell_type": "code",
   "execution_count": 52,
   "outputs": [],
   "source": [
    "train_paths = ['dataset/dataset/images/'+x.split('/')[-2]+'/'+x.split('/')[-1] for x in train_txt.split('\\n')[:-1]]"
   ],
   "metadata": {
    "collapsed": false,
    "pycharm": {
     "name": "#%%\n"
    }
   }
  },
  {
   "cell_type": "code",
   "execution_count": 53,
   "outputs": [],
   "source": [
    "train_labels = ['dataset/dataset/images/'+x.split('/')[-2]+'/'+(\n",
    "               '.'.join(x.split('/')[-1].split('.')[:-1]) if len(x.split('/')[-1].split('.')[:-1])>1 else x.split('/')[-1].split('.')[0])\n",
    "               +'.txt' for x in train_txt.split('\\n')[:-1]]"
   ],
   "metadata": {
    "collapsed": false,
    "pycharm": {
     "name": "#%%\n"
    }
   }
  },
  {
   "cell_type": "code",
   "execution_count": 54,
   "outputs": [],
   "source": [
    "test_paths = ['dataset/dataset/images/'+x.split('/')[-2]+'/'+x.split('/')[-1] for x in test_txt.split('\\n')[:-1]]\n",
    "test_labels = ['dataset/dataset/images/'+x.split('/')[-2]+'/'+(\n",
    "               '.'.join(x.split('/')[-1].split('.')[:-1]) if len(x.split('/')[-1].split('.')[:-1])>1 else x.split('/')[-1].split('.')[0])\n",
    "               +'.txt' for x in test_txt.split('\\n')[:-1]]"
   ],
   "metadata": {
    "collapsed": false,
    "pycharm": {
     "name": "#%%\n"
    }
   }
  },
  {
   "cell_type": "markdown",
   "source": [],
   "metadata": {
    "collapsed": false
   }
  },
  {
   "cell_type": "code",
   "execution_count": 55,
   "outputs": [],
   "source": [
    "train = pd.DataFrame({\n",
    "    'img': train_paths,\n",
    "    'label': train_labels\n",
    "})"
   ],
   "metadata": {
    "collapsed": false,
    "pycharm": {
     "name": "#%%\n"
    }
   }
  },
  {
   "cell_type": "code",
   "execution_count": 56,
   "outputs": [],
   "source": [
    "test = pd.DataFrame({\n",
    "    'img': test_paths,\n",
    "    'label': test_labels\n",
    "})"
   ],
   "metadata": {
    "collapsed": false,
    "pycharm": {
     "name": "#%%\n"
    }
   }
  },
  {
   "cell_type": "code",
   "execution_count": 82,
   "outputs": [],
   "source": [
    "from PIL import Image\n",
    "import numpy as np\n",
    "from tqdm import tqdm"
   ],
   "metadata": {
    "collapsed": false,
    "pycharm": {
     "name": "#%%\n"
    }
   }
  },
  {
   "cell_type": "code",
   "execution_count": 83,
   "outputs": [
    {
     "name": "stderr",
     "output_type": "stream",
     "text": [
      "100%|██████████| 699/699 [00:08<00:00, 84.73it/s] \n"
     ]
    }
   ],
   "source": [
    "bad_ones = []\n",
    "for i in tqdm(range(len(train)-1)):\n",
    "    try:\n",
    "        img = np.array(Image.open(train.iloc[i, 0]))\n",
    "        if img.shape[2]!=3:\n",
    "            bad_ones.append(i)\n",
    "    except:\n",
    "        bad_ones.append(i)\n",
    "train = train[~train.index.isin(bad_ones)].reset_index(drop=True)"
   ],
   "metadata": {
    "collapsed": false,
    "pycharm": {
     "name": "#%%\n"
    }
   }
  },
  {
   "cell_type": "code",
   "execution_count": 84,
   "outputs": [
    {
     "name": "stderr",
     "output_type": "stream",
     "text": [
      "100%|██████████| 119/119 [00:02<00:00, 39.87it/s]\n"
     ]
    }
   ],
   "source": [
    "bad_ones = []\n",
    "for i in tqdm(range(len(test)-1)):\n",
    "    try:\n",
    "        img = np.array(Image.open(test.iloc[i, 0]))\n",
    "        if img.shape[2]!=3:\n",
    "            bad_ones.append(i)\n",
    "    except:\n",
    "        bad_ones.append(i)\n",
    "test = test[~test.index.isin(bad_ones)].reset_index(drop=True)"
   ],
   "metadata": {
    "collapsed": false,
    "pycharm": {
     "name": "#%%\n"
    }
   }
  },
  {
   "cell_type": "code",
   "execution_count": 86,
   "outputs": [
    {
     "data": {
      "text/plain": "                                                   img  \\\n0    dataset/dataset/images/test/TB2R28UvUOWBKNjSZK...   \n1    dataset/dataset/images/test/US-expands-coronav...   \n2    dataset/dataset/images/test/Pakistan-China-cor...   \n3    dataset/dataset/images/test/RZXE24HFK5GSVKVSN5...   \n4         dataset/dataset/images/test/TASS38012699.jpg   \n..                                                 ...   \n114            dataset/dataset/images/test/sgssgg.jpeg   \n115  dataset/dataset/images/test/upload-productImg-...   \n116  dataset/dataset/images/test/TELEMMGLPICT000222...   \n117            dataset/dataset/images/test/stsciRq.png   \n118  dataset/dataset/images/test/usa-people-waiting...   \n\n                                                 label  \n0    dataset/dataset/images/test/TB2R28UvUOWBKNjSZK...  \n1    dataset/dataset/images/test/US-expands-coronav...  \n2    dataset/dataset/images/test/Pakistan-China-cor...  \n3    dataset/dataset/images/test/RZXE24HFK5GSVKVSN5...  \n4         dataset/dataset/images/test/TASS38012699.txt  \n..                                                 ...  \n114             dataset/dataset/images/test/sgssgg.txt  \n115  dataset/dataset/images/test/upload-productImg-...  \n116  dataset/dataset/images/test/TELEMMGLPICT000222...  \n117            dataset/dataset/images/test/stsciRq.txt  \n118  dataset/dataset/images/test/usa-people-waiting...  \n\n[119 rows x 2 columns]",
      "text/html": "<div>\n<style scoped>\n    .dataframe tbody tr th:only-of-type {\n        vertical-align: middle;\n    }\n\n    .dataframe tbody tr th {\n        vertical-align: top;\n    }\n\n    .dataframe thead th {\n        text-align: right;\n    }\n</style>\n<table border=\"1\" class=\"dataframe\">\n  <thead>\n    <tr style=\"text-align: right;\">\n      <th></th>\n      <th>img</th>\n      <th>label</th>\n    </tr>\n  </thead>\n  <tbody>\n    <tr>\n      <th>0</th>\n      <td>dataset/dataset/images/test/TB2R28UvUOWBKNjSZK...</td>\n      <td>dataset/dataset/images/test/TB2R28UvUOWBKNjSZK...</td>\n    </tr>\n    <tr>\n      <th>1</th>\n      <td>dataset/dataset/images/test/US-expands-coronav...</td>\n      <td>dataset/dataset/images/test/US-expands-coronav...</td>\n    </tr>\n    <tr>\n      <th>2</th>\n      <td>dataset/dataset/images/test/Pakistan-China-cor...</td>\n      <td>dataset/dataset/images/test/Pakistan-China-cor...</td>\n    </tr>\n    <tr>\n      <th>3</th>\n      <td>dataset/dataset/images/test/RZXE24HFK5GSVKVSN5...</td>\n      <td>dataset/dataset/images/test/RZXE24HFK5GSVKVSN5...</td>\n    </tr>\n    <tr>\n      <th>4</th>\n      <td>dataset/dataset/images/test/TASS38012699.jpg</td>\n      <td>dataset/dataset/images/test/TASS38012699.txt</td>\n    </tr>\n    <tr>\n      <th>...</th>\n      <td>...</td>\n      <td>...</td>\n    </tr>\n    <tr>\n      <th>114</th>\n      <td>dataset/dataset/images/test/sgssgg.jpeg</td>\n      <td>dataset/dataset/images/test/sgssgg.txt</td>\n    </tr>\n    <tr>\n      <th>115</th>\n      <td>dataset/dataset/images/test/upload-productImg-...</td>\n      <td>dataset/dataset/images/test/upload-productImg-...</td>\n    </tr>\n    <tr>\n      <th>116</th>\n      <td>dataset/dataset/images/test/TELEMMGLPICT000222...</td>\n      <td>dataset/dataset/images/test/TELEMMGLPICT000222...</td>\n    </tr>\n    <tr>\n      <th>117</th>\n      <td>dataset/dataset/images/test/stsciRq.png</td>\n      <td>dataset/dataset/images/test/stsciRq.txt</td>\n    </tr>\n    <tr>\n      <th>118</th>\n      <td>dataset/dataset/images/test/usa-people-waiting...</td>\n      <td>dataset/dataset/images/test/usa-people-waiting...</td>\n    </tr>\n  </tbody>\n</table>\n<p>119 rows × 2 columns</p>\n</div>"
     },
     "execution_count": 86,
     "metadata": {},
     "output_type": "execute_result"
    }
   ],
   "source": [
    "test"
   ],
   "metadata": {
    "collapsed": false,
    "pycharm": {
     "name": "#%%\n"
    }
   }
  },
  {
   "cell_type": "code",
   "execution_count": 87,
   "outputs": [
    {
     "data": {
      "text/plain": "[117]"
     },
     "execution_count": 87,
     "metadata": {},
     "output_type": "execute_result"
    }
   ],
   "source": [
    "bad_ones"
   ],
   "metadata": {
    "collapsed": false,
    "pycharm": {
     "name": "#%%\n"
    }
   }
  },
  {
   "cell_type": "code",
   "execution_count": 70,
   "outputs": [
    {
     "data": {
      "text/plain": "700"
     },
     "execution_count": 70,
     "metadata": {},
     "output_type": "execute_result"
    }
   ],
   "source": [
    "len(train)"
   ],
   "metadata": {
    "collapsed": false,
    "pycharm": {
     "name": "#%%\n"
    }
   }
  },
  {
   "cell_type": "code",
   "execution_count": 88,
   "outputs": [],
   "source": [
    "train.to_csv('train.csv', index=False)\n",
    "test.to_csv('test.csv', index=False)"
   ],
   "metadata": {
    "collapsed": false,
    "pycharm": {
     "name": "#%%\n"
    }
   }
  },
  {
   "cell_type": "code",
   "execution_count": 58,
   "outputs": [
    {
     "data": {
      "text/plain": "                                                   img  \\\n0    dataset/dataset/images/train/article-5e3a3b262...   \n1    dataset/dataset/images/train/coronavirus_wuhan...   \n2     dataset/dataset/images/train/coronavirus (2).jpg   \n3    dataset/dataset/images/train/b_20200210192750.jpg   \n4    dataset/dataset/images/train/ckeditor-5e450706...   \n..                                                 ...   \n695  dataset/dataset/images/train/1-200102094256105...   \n696  dataset/dataset/images/train/22-pollution-2706...   \n697  dataset/dataset/images/train/81717218_41249664...   \n698              dataset/dataset/images/train/4646.png   \n699  dataset/dataset/images/train/captura-de-pantal...   \n\n                                                 label  \n0    dataset/dataset/images/train/article-5e3a3b262...  \n1    dataset/dataset/images/train/coronavirus_wuhan...  \n2     dataset/dataset/images/train/coronavirus (2).txt  \n3    dataset/dataset/images/train/b_20200210192750.txt  \n4    dataset/dataset/images/train/ckeditor-5e450706...  \n..                                                 ...  \n695  dataset/dataset/images/train/1-200102094256105...  \n696  dataset/dataset/images/train/22-pollution-2706...  \n697  dataset/dataset/images/train/81717218_41249664...  \n698              dataset/dataset/images/train/4646.txt  \n699  dataset/dataset/images/train/captura-de-pantal...  \n\n[700 rows x 2 columns]",
      "text/html": "<div>\n<style scoped>\n    .dataframe tbody tr th:only-of-type {\n        vertical-align: middle;\n    }\n\n    .dataframe tbody tr th {\n        vertical-align: top;\n    }\n\n    .dataframe thead th {\n        text-align: right;\n    }\n</style>\n<table border=\"1\" class=\"dataframe\">\n  <thead>\n    <tr style=\"text-align: right;\">\n      <th></th>\n      <th>img</th>\n      <th>label</th>\n    </tr>\n  </thead>\n  <tbody>\n    <tr>\n      <th>0</th>\n      <td>dataset/dataset/images/train/article-5e3a3b262...</td>\n      <td>dataset/dataset/images/train/article-5e3a3b262...</td>\n    </tr>\n    <tr>\n      <th>1</th>\n      <td>dataset/dataset/images/train/coronavirus_wuhan...</td>\n      <td>dataset/dataset/images/train/coronavirus_wuhan...</td>\n    </tr>\n    <tr>\n      <th>2</th>\n      <td>dataset/dataset/images/train/coronavirus (2).jpg</td>\n      <td>dataset/dataset/images/train/coronavirus (2).txt</td>\n    </tr>\n    <tr>\n      <th>3</th>\n      <td>dataset/dataset/images/train/b_20200210192750.jpg</td>\n      <td>dataset/dataset/images/train/b_20200210192750.txt</td>\n    </tr>\n    <tr>\n      <th>4</th>\n      <td>dataset/dataset/images/train/ckeditor-5e450706...</td>\n      <td>dataset/dataset/images/train/ckeditor-5e450706...</td>\n    </tr>\n    <tr>\n      <th>...</th>\n      <td>...</td>\n      <td>...</td>\n    </tr>\n    <tr>\n      <th>695</th>\n      <td>dataset/dataset/images/train/1-200102094256105...</td>\n      <td>dataset/dataset/images/train/1-200102094256105...</td>\n    </tr>\n    <tr>\n      <th>696</th>\n      <td>dataset/dataset/images/train/22-pollution-2706...</td>\n      <td>dataset/dataset/images/train/22-pollution-2706...</td>\n    </tr>\n    <tr>\n      <th>697</th>\n      <td>dataset/dataset/images/train/81717218_41249664...</td>\n      <td>dataset/dataset/images/train/81717218_41249664...</td>\n    </tr>\n    <tr>\n      <th>698</th>\n      <td>dataset/dataset/images/train/4646.png</td>\n      <td>dataset/dataset/images/train/4646.txt</td>\n    </tr>\n    <tr>\n      <th>699</th>\n      <td>dataset/dataset/images/train/captura-de-pantal...</td>\n      <td>dataset/dataset/images/train/captura-de-pantal...</td>\n    </tr>\n  </tbody>\n</table>\n<p>700 rows × 2 columns</p>\n</div>"
     },
     "execution_count": 58,
     "metadata": {},
     "output_type": "execute_result"
    }
   ],
   "source": [
    "train"
   ],
   "metadata": {
    "collapsed": false,
    "pycharm": {
     "name": "#%%\n"
    }
   }
  },
  {
   "cell_type": "code",
   "execution_count": null,
   "outputs": [],
   "source": [],
   "metadata": {
    "collapsed": false,
    "pycharm": {
     "name": "#%%\n"
    }
   }
  }
 ],
 "metadata": {
  "kernelspec": {
   "display_name": "Python 3",
   "language": "python",
   "name": "python3"
  },
  "language_info": {
   "codemirror_mode": {
    "name": "ipython",
    "version": 2
   },
   "file_extension": ".py",
   "mimetype": "text/x-python",
   "name": "python",
   "nbconvert_exporter": "python",
   "pygments_lexer": "ipython2",
   "version": "2.7.6"
  }
 },
 "nbformat": 4,
 "nbformat_minor": 0
}