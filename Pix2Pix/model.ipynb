{
 "cells": [
  {
   "cell_type": "code",
   "execution_count": 2,
   "metadata": {
    "collapsed": true
   },
   "outputs": [],
   "source": [
    "import torch\n",
    "import torch.nn as nn"
   ]
  },
  {
   "cell_type": "code",
   "execution_count": 3,
   "outputs": [],
   "source": [
    "class DiscBlock(nn.Module):\n",
    "    def __init__(self, in_channels, out_channels, kernel=4, stride=2):\n",
    "        super(DiscBlock, self).__init__()\n",
    "        self.conv = nn.Sequential(\n",
    "            nn.Conv2d(in_channels=in_channels,\n",
    "                      out_channels=out_channels,\n",
    "                      kernel_size=kernel,\n",
    "                      stride=stride,\n",
    "                      bias=False,\n",
    "                      padding_mode='reflect'),\n",
    "            nn.BatchNorm2d(out_channels),\n",
    "            nn.LeakyReLU(negative_slope=0.2)\n",
    "        )\n",
    "    def forward(self, x):\n",
    "        return self.conv(x)"
   ],
   "metadata": {
    "collapsed": false,
    "pycharm": {
     "name": "#%%\n"
    }
   }
  },
  {
   "cell_type": "code",
   "execution_count": 4,
   "outputs": [],
   "source": [
    "class Discriminator(nn.Module):\n",
    "    def __init__(self, in_channels=3, features=None, kernel=4, stride=2, padding=1):\n",
    "        super().__init__()\n",
    "        if not features:\n",
    "            features = [64, 128, 256, 512]\n",
    "        self.initial = nn.Sequential(\n",
    "            nn.Conv2d(in_channels*2, features[0], kernel_size=kernel, stride=stride, padding=padding, padding_mode='reflect'),\n",
    "            nn.LeakyReLU(0.2)\n",
    "        )\n",
    "\n",
    "        layers = []\n",
    "        in_channels = features[0]\n",
    "        for feature in features[1:]:\n",
    "            layers.append(DiscBlock(in_channels=in_channels,\n",
    "                                   out_channels=feature,\n",
    "                                   stride=1 if feature==features[-1] else 2,\n",
    "                                   kernel=kernel\n",
    "                                   ))\n",
    "            in_channels = feature\n",
    "\n",
    "        layers.append(nn.Conv2d(\n",
    "            in_channels=in_channels,\n",
    "            out_channels=1,\n",
    "            kernel_size=kernel,\n",
    "            stride = (1, 1),\n",
    "            padding=1,\n",
    "            padding_mode='reflect'\n",
    "        ))\n",
    "        self.model = nn.Sequential(*layers)\n",
    "\n",
    "    def forward(self, x, y):\n",
    "        x = torch.cat((x,y), dim=1)\n",
    "        x = self.initial(x)\n",
    "        x = self.model(x)\n",
    "        return x"
   ],
   "metadata": {
    "collapsed": false,
    "pycharm": {
     "name": "#%%\n"
    }
   }
  },
  {
   "cell_type": "code",
   "execution_count": 5,
   "outputs": [],
   "source": [
    "def test_discriminator():\n",
    "    a = Discriminator()\n",
    "    img = torch.ones(10, 3, 256, 256)\n",
    "    print(a.forward(img, img).shape)"
   ],
   "metadata": {
    "collapsed": false,
    "pycharm": {
     "name": "#%%\n"
    }
   }
  },
  {
   "cell_type": "code",
   "execution_count": 6,
   "outputs": [
    {
     "name": "stdout",
     "output_type": "stream",
     "text": [
      "torch.Size([10, 1, 26, 26])\n"
     ]
    }
   ],
   "source": [
    "test_discriminator()"
   ],
   "metadata": {
    "collapsed": false,
    "pycharm": {
     "name": "#%%\n"
    }
   }
  },
  {
   "cell_type": "code",
   "execution_count": 29,
   "outputs": [],
   "source": [
    "class GeneratorBlock(nn.Module):\n",
    "    def __init__(self, in_channels, out_channels, down=True, act='relu', use_dropout=False):\n",
    "        super().__init__()\n",
    "        self.conv = nn.Sequential(\n",
    "            nn.Conv2d(in_channels=in_channels,\n",
    "                      out_channels=out_channels,\n",
    "                      kernel_size=(4,4),\n",
    "                      stride=(2,2),\n",
    "                      padding=(1,1),\n",
    "                      padding_mode='reflect')\n",
    "            if down\n",
    "            else nn.ConvTranspose2d(in_channels=in_channels,\n",
    "                                    out_channels=out_channels,\n",
    "                                    kernel_size=(4,4),\n",
    "                                    stride=(2,2),\n",
    "                                    padding=(1,1),\n",
    "                                    bias=False),\n",
    "            nn.BatchNorm2d(out_channels),\n",
    "            nn.ReLU() if act=='relu' else nn.LeakyReLU(0.2)\n",
    "        )\n",
    "        self.use_dropout = use_dropout\n",
    "        self.dropout = nn.Dropout(0.5)\n",
    "\n",
    "    def forward(self, x):\n",
    "        x = self.conv(x)\n",
    "        x = self.dropout(x) if self.use_dropout else x\n",
    "        return x"
   ],
   "metadata": {
    "collapsed": false,
    "pycharm": {
     "name": "#%%\n"
    }
   }
  },
  {
   "cell_type": "code",
   "execution_count": 51,
   "outputs": [],
   "source": [
    "class Generator(nn.Module):\n",
    "    def __init__(self, in_channels=3, features=64):\n",
    "        super().__init__()\n",
    "        self.initial_down = nn.Sequential(\n",
    "            nn.Conv2d(\n",
    "                in_channels=in_channels,\n",
    "                out_channels=features,\n",
    "                kernel_size=(4,4),\n",
    "                stride=(2,2),\n",
    "                padding=1,\n",
    "                padding_mode='reflect'\n",
    "            ),\n",
    "            nn.LeakyReLU(0.2)\n",
    "        )\n",
    "        self.down1 = GeneratorBlock(in_channels=features, out_channels=features*2, down=True, act='leaky', use_dropout=False)\n",
    "        self.down2 = GeneratorBlock(in_channels=features*2, out_channels=features*4, down=True, act='leaky', use_dropout=False)\n",
    "        self.down3 = GeneratorBlock(in_channels=features*4, out_channels=features*8, down=True, act='leaky', use_dropout=False)\n",
    "        self.down4 = GeneratorBlock(in_channels=features*8, out_channels=features*8, down=True, act='leaky', use_dropout=False)\n",
    "        self.down5 = GeneratorBlock(in_channels=features*8, out_channels=features*8, down=True, act='leaky', use_dropout=False)\n",
    "        self.down6 = GeneratorBlock(in_channels=features*8, out_channels=features*8, down=True, act='leaky', use_dropout=False)\n",
    "\n",
    "        self.bottleneck = nn.Sequential(\n",
    "            nn.Conv2d(in_channels=features*8,\n",
    "                      out_channels=features*8,\n",
    "                      kernel_size=(4,4), stride=(2,2),\n",
    "                      padding=(1,1),\n",
    "                      padding_mode=\"reflect\"),\n",
    "            nn.ReLU()\n",
    "        )\n",
    "        self.up1 = GeneratorBlock(in_channels=features*8, out_channels=features*8, down=False, act='relu', use_dropout=True)\n",
    "        self.up2 = GeneratorBlock(in_channels=features*8*2, out_channels=features*8, down=False, act='relu', use_dropout=True)\n",
    "        self.up3 = GeneratorBlock(in_channels=features*8*2, out_channels=features*8, down=False, act='relu', use_dropout=True)\n",
    "        self.up4 = GeneratorBlock(in_channels=features*8*2, out_channels=features*8, down=False, act='relu', use_dropout=False)\n",
    "        self.up5 = GeneratorBlock(in_channels=features*8*2, out_channels=features*4, down=False, act='relu', use_dropout=False)\n",
    "        self.up6 = GeneratorBlock(in_channels=features*4*2, out_channels=features*2, down=False, act='relu', use_dropout=False)\n",
    "        self.up7 = GeneratorBlock(in_channels=features*2*2, out_channels=features, down=False, act='relu', use_dropout=False)\n",
    "\n",
    "        self.final_up = nn.Sequential(\n",
    "            nn.ConvTranspose2d(in_channels=features*2, out_channels=in_channels,kernel_size=(4,4), stride=(2,2), padding=(1,1)),\n",
    "            nn.Tanh()\n",
    "        )\n",
    "\n",
    "    def forward(self, x):\n",
    "        d1 = self.initial_down(x)\n",
    "        d2 = self.down1(d1)\n",
    "        d3 = self.down2(d2)\n",
    "        d4 = self.down3(d3)\n",
    "        d5 = self.down4(d4)\n",
    "        d6 = self.down5(d5)\n",
    "        d7 = self.down6(d6)\n",
    "        bottleneck = self.bottleneck(d7)\n",
    "        up1 = self.up1(bottleneck)\n",
    "        up2 = self.up2(torch.cat([d7, up1], dim=1))\n",
    "        up3 = self.up3(torch.cat([d6, up2], dim=1))\n",
    "        up4 = self.up4(torch.cat([d5, up3], dim=1))\n",
    "        up5 = self.up5(torch.cat([d4, up4], dim=1))\n",
    "        up6 = self.up6(torch.cat([d3, up5], dim=1))\n",
    "        up7 = self.up7(torch.cat([d2, up6], dim=1))\n",
    "        return self.final_up(torch.cat([d1, up7], dim=1))"
   ],
   "metadata": {
    "collapsed": false,
    "pycharm": {
     "name": "#%%\n"
    }
   }
  },
  {
   "cell_type": "code",
   "execution_count": 54,
   "outputs": [],
   "source": [
    "def test_generator():\n",
    "    test_imgs = torch.ones(10, 3, 256, 256)\n",
    "    gen = Generator(3, 64)\n",
    "    print(gen(test_imgs).shape)"
   ],
   "metadata": {
    "collapsed": false,
    "pycharm": {
     "name": "#%%\n"
    }
   }
  },
  {
   "cell_type": "code",
   "execution_count": 55,
   "outputs": [
    {
     "name": "stdout",
     "output_type": "stream",
     "text": [
      "torch.Size([10, 3, 256, 256])\n"
     ]
    }
   ],
   "source": [
    "test_generator()\n",
    "\n"
   ],
   "metadata": {
    "collapsed": false,
    "pycharm": {
     "name": "#%%\n"
    }
   }
  },
  {
   "cell_type": "code",
   "execution_count": 56,
   "outputs": [],
   "source": [
    "from PIL import Image\n",
    "import numpy as np\n",
    "\n",
    "\n",
    "import os\n",
    "from torch.utils.data import Dataset"
   ],
   "metadata": {
    "collapsed": false,
    "pycharm": {
     "name": "#%%\n"
    }
   }
  },
  {
   "cell_type": "code",
   "execution_count": null,
   "outputs": [],
   "source": [],
   "metadata": {
    "collapsed": false,
    "pycharm": {
     "name": "#%%\n"
    }
   }
  }
 ],
 "metadata": {
  "kernelspec": {
   "display_name": "Python 3",
   "language": "python",
   "name": "python3"
  },
  "language_info": {
   "codemirror_mode": {
    "name": "ipython",
    "version": 2
   },
   "file_extension": ".py",
   "mimetype": "text/x-python",
   "name": "python",
   "nbconvert_exporter": "python",
   "pygments_lexer": "ipython2",
   "version": "2.7.6"
  }
 },
 "nbformat": 4,
 "nbformat_minor": 0
}