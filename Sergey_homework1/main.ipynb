{
 "cells": [
  {
   "cell_type": "code",
   "execution_count": 16,
   "metadata": {
    "collapsed": true
   },
   "outputs": [],
   "source": [
    "import pandas as pd\n",
    "import numpy as np\n",
    "import re"
   ]
  },
  {
   "cell_type": "code",
   "execution_count": 14,
   "outputs": [],
   "source": [
    "train_data = pd.read_csv('train.csv', usecols=['tweet','label'])"
   ],
   "metadata": {
    "collapsed": false,
    "pycharm": {
     "name": "#%%\n"
    }
   }
  },
  {
   "cell_type": "code",
   "execution_count": 69,
   "outputs": [],
   "source": [
    "def clean_text(text):\n",
    "    reg = text.lower()\n",
    "    reg = re.sub(r\"(.)\\1+\", r\" \\1 \", reg)\n",
    "    reg =  re.sub(r'\\!', ' VOSKZNAK ', reg)\n",
    "    reg =  re.sub(r'\\.', ' POINT ', reg)\n",
    "    reg =  re.sub(r'\\?', ' QUESTION ', reg)\n",
    "    reg = re.sub('\\d+', ' NUMBER ', reg)\n",
    "    reg = re.sub('\\n', ' ', reg)\n",
    "    reg = re.sub('\\)', ' HAPPYSMILE ', reg)\n",
    "    reg = re.sub('\\(', ' DADSMILE ', reg)\n",
    "    reg = re.sub('[-@#$%^&*(){}|_:;.,/?~<>]', '', reg)\n",
    "    reg = re.sub(\" +\", \" \", reg)\n",
    "\n",
    "\n",
    "    return reg"
   ],
   "metadata": {
    "collapsed": false,
    "pycharm": {
     "name": "#%%\n"
    }
   }
  },
  {
   "cell_type": "code",
   "execution_count": 70,
   "outputs": [
    {
     "data": {
      "text/plain": "'душкрипцшип з NUMBER уцшо кипзшоципе цоуип HAPPYSMILE лйцотв HAPPYSMILE VOSKZNAK VOSKZNAK kjnlkjb '"
     },
     "execution_count": 70,
     "metadata": {},
     "output_type": "execute_result"
    }
   ],
   "source": [
    "clean_text(\n",
    "    'душкрипцшип  з9843уцшо----кипзшоципе    цоуип)))) лйцотв )))  !!! ! @ # $ $KJNLKJB *&&'\n",
    ")"
   ],
   "metadata": {
    "collapsed": false,
    "pycharm": {
     "name": "#%%\n"
    }
   }
  },
  {
   "cell_type": "code",
   "execution_count": 63,
   "outputs": [
    {
     "data": {
      "text/plain": "0         user when a father is dysfunctional and is so...\n1        user user thanks for lyft credit i can't use c...\n2                                      bihday your majesty\n3        model i love u take with u a l the time in urð...\n4                        factsguide society now motivation\n                               ...                        \n31957    ate user isz that yo u QUESTION ðððð...\n31958     to s e nina turner on the airwaves trying to ...\n31959    listening to sad songs on a monday morning otw...\n31960    user sikh temple vandalised in in calgary wso ...\n31961                      thank you user for you fo l ow \nName: tweet, Length: 31962, dtype: object"
     },
     "execution_count": 63,
     "metadata": {},
     "output_type": "execute_result"
    }
   ],
   "source": [
    "train_data.tweet.apply(clean_text)"
   ],
   "metadata": {
    "collapsed": false,
    "pycharm": {
     "name": "#%%\n"
    }
   }
  },
  {
   "cell_type": "code",
   "execution_count": 64,
   "outputs": [
    {
     "data": {
      "text/plain": "       label                                              tweet\n0          0   @user when a father is dysfunctional and is s...\n1          0  @user @user thanks for #lyft credit i can't us...\n2          0                                bihday your majesty\n3          0  #model   i love u take with u all the time in ...\n4          0             factsguide: society now    #motivation\n...      ...                                                ...\n31957      0  ate @user isz that youuu?ðððððð...\n31958      0    to see nina turner on the airwaves trying to...\n31959      0  listening to sad songs on a monday morning otw...\n31960      1  @user #sikh #temple vandalised in in #calgary,...\n31961      0                   thank you @user for you follow  \n\n[31962 rows x 2 columns]",
      "text/html": "<div>\n<style scoped>\n    .dataframe tbody tr th:only-of-type {\n        vertical-align: middle;\n    }\n\n    .dataframe tbody tr th {\n        vertical-align: top;\n    }\n\n    .dataframe thead th {\n        text-align: right;\n    }\n</style>\n<table border=\"1\" class=\"dataframe\">\n  <thead>\n    <tr style=\"text-align: right;\">\n      <th></th>\n      <th>label</th>\n      <th>tweet</th>\n    </tr>\n  </thead>\n  <tbody>\n    <tr>\n      <th>0</th>\n      <td>0</td>\n      <td>@user when a father is dysfunctional and is s...</td>\n    </tr>\n    <tr>\n      <th>1</th>\n      <td>0</td>\n      <td>@user @user thanks for #lyft credit i can't us...</td>\n    </tr>\n    <tr>\n      <th>2</th>\n      <td>0</td>\n      <td>bihday your majesty</td>\n    </tr>\n    <tr>\n      <th>3</th>\n      <td>0</td>\n      <td>#model   i love u take with u all the time in ...</td>\n    </tr>\n    <tr>\n      <th>4</th>\n      <td>0</td>\n      <td>factsguide: society now    #motivation</td>\n    </tr>\n    <tr>\n      <th>...</th>\n      <td>...</td>\n      <td>...</td>\n    </tr>\n    <tr>\n      <th>31957</th>\n      <td>0</td>\n      <td>ate @user isz that youuu?ðððððð...</td>\n    </tr>\n    <tr>\n      <th>31958</th>\n      <td>0</td>\n      <td>to see nina turner on the airwaves trying to...</td>\n    </tr>\n    <tr>\n      <th>31959</th>\n      <td>0</td>\n      <td>listening to sad songs on a monday morning otw...</td>\n    </tr>\n    <tr>\n      <th>31960</th>\n      <td>1</td>\n      <td>@user #sikh #temple vandalised in in #calgary,...</td>\n    </tr>\n    <tr>\n      <th>31961</th>\n      <td>0</td>\n      <td>thank you @user for you follow</td>\n    </tr>\n  </tbody>\n</table>\n<p>31962 rows × 2 columns</p>\n</div>"
     },
     "execution_count": 64,
     "metadata": {},
     "output_type": "execute_result"
    }
   ],
   "source": [
    "train_data"
   ],
   "metadata": {
    "collapsed": false,
    "pycharm": {
     "name": "#%%\n"
    }
   }
  },
  {
   "cell_type": "code",
   "execution_count": 65,
   "outputs": [
    {
     "data": {
      "text/plain": "'душкрипцшип зуцшо кипзшоципе цоуип HAPPYSMILE лйцотв HAPPYSMILE VOSKZNAK VOSKZNAK kjnlkjb '"
     },
     "execution_count": 65,
     "metadata": {},
     "output_type": "execute_result"
    }
   ],
   "source": [
    "clean_text(\n",
    "    'душкрипцшип  зуцшо----кипзшоципе    цоуип)))) лйцотв )))  !!! ! @ # $ $KJNLKJB *&&'\n",
    ")"
   ],
   "metadata": {
    "collapsed": false,
    "pycharm": {
     "name": "#%%\n"
    }
   }
  },
  {
   "cell_type": "code",
   "execution_count": 19,
   "outputs": [
    {
     "data": {
      "text/plain": "[' @user when a father is dysfunctional and is so selfish he drags his kids into his dysfunction.   #run',\n \"@user @user thanks for #lyft credit i can't use cause they don't offer wheelchair vans in pdx.    #disapointed #getthanked\",\n '  bihday your majesty',\n '#model   i love u take with u all the time in urð\\x9f\\x93±!!! ð\\x9f\\x98\\x99ð\\x9f\\x98\\x8eð\\x9f\\x91\\x84ð\\x9f\\x91\\x85ð\\x9f\\x92¦ð\\x9f\\x92¦ð\\x9f\\x92¦  ',\n ' factsguide: society now    #motivation',\n '[2/2] huge fan fare and big talking before they leave. chaos and pay disputes when they get there. #allshowandnogo  ',\n ' @user camping tomorrow @user @user @user @user @user @user @user dannyâ\\x80¦',\n \"the next school year is the year for exams.ð\\x9f\\x98¯ can't think about that ð\\x9f\\x98\\xad #school #exams   #hate #imagine #actorslife #revolutionschool #girl\",\n 'we won!!! love the land!!! #allin #cavs #champions #cleveland #clevelandcavaliers  â\\x80¦ ',\n \" @user @user welcome here !  i'm   it's so #gr8 ! \",\n ' â\\x86\\x9d #ireland consumer price index (mom) climbed from previous 0.2% to 0.5% in may   #blog #silver #gold #forex',\n 'we are so selfish. #orlando #standwithorlando #pulseshooting #orlandoshooting #biggerproblems #selfish #heabreaking   #values #love #',\n 'i get to see my daddy today!!   #80days #gettingfed',\n \"@user #cnn calls #michigan middle school 'build the wall' chant '' #tcot  \",\n 'no comment!  in #australia   #opkillingbay #seashepherd #helpcovedolphins #thecove  #helpcovedolphins',\n 'ouch...junior is angryð\\x9f\\x98\\x90#got7 #junior #yugyoem   #omg ',\n 'i am thankful for having a paner. #thankful #positive     ',\n 'retweet if you agree! ',\n 'its #friday! ð\\x9f\\x98\\x80 smiles all around via ig user: @user #cookies make people   ',\n 'as we all know, essential oils are not made of chemicals. ',\n '#euro2016 people blaming ha for conceded goal was it fat rooney who gave away free kick knowing bale can hit them from there.  ',\n 'sad little dude..   #badday #coneofshame #cats #pissed #funny #laughs ',\n \"product of the day: happy man #wine tool  who's   it's the #weekend? time to open up &amp; drink up!\",\n '@user @user lumpy says i am a . prove it lumpy.',\n ' @user #tgif   #ff to my #gamedev #indiedev #indiegamedev #squad! @user @user @user @user @user',\n 'beautiful sign by vendor 80 for $45.00!! #upsideofflorida #shopalyssas   #love ',\n ' @user all #smiles when #media is   !! ð\\x9f\\x98\\x9cð\\x9f\\x98\\x88 #pressconference in #antalya #turkey ! sunday #throwback  love! ð\\x9f\\x98\\x8að\\x9f\\x98\\x98â\\x9d¤ï¸\\x8f ',\n 'we had a great panel on the mediatization of the public service   #ica16',\n \"happy father's day @user ð\\x9f\\x92\\x93ð\\x9f\\x92\\x93ð\\x9f\\x92\\x93ð\\x9f\\x92\\x93  \",\n \"50 people went to nightclub to have a good night and 1 man's actions means those people are lost to their families forever #rip#orlando\",\n 'i have never had a chance to vote for a presidential candidate i was excited about and this cycle looks to be no different.  ',\n '  #alohafriday #time does #not #exist #positivevibes #hawaiian @user @user @user @user ',\n ' @user rip to the fellow nohern ireland fan who sadley passed away tonight!.. gawa, forever singing and cheering on fire  ',\n 'it was a hard monday due to cloudy weather. disabling oxygen production for today. #goodnight #badmonday  ',\n \"it's unbelievable that in the 21st century we'd need something like this. again. #neverump  #xenophobia \",\n '#taylorswift1989   bull up: you will dominate your bull and you will direct it whatever you want it to do. w ',\n 'morning~~ #travelingram #dalat   #ripinkylife ',\n '@user once more only one word tells it all: #photoshop.  #enoughisenough #dontphotoshopeverything #wheresallthenaturalphotos  ',\n 'oh, #cedarpoint. waited 2 hours in the valravn line and it stopped working. we were so close.  ',\n 'i am thankful for sunshine. #thankful #positive     ',\n \"when you finally finish a book you've been working on for awhile...  #bookworm #ontothenextnovel \",\n 'yup, being a knicks fan is hard, so its easier to just be an nba fan when the playoffs roll around ð\\x9f\\x98\\x8e ',\n 'there is life after social networking. embrace each day. be   ',\n 'my mom shares the same bihday as @user   bihday snake! see you this weekend ð\\x9f\\x99\\x8cð\\x9f\\x8f¼',\n 'lovely echeveria blooms#flowers #grow #gardening #iphonesia #bliss #blooms #basilicabotanica   ',\n 'i am amazing. #i_am #positive #affirmation     ',\n '#model   i love u take with u all the time in urð\\x9f\\x93±!!! ð\\x9f\\x98\\x99ð\\x9f\\x98\\x8eð\\x9f\\x91\\x84ð\\x9f\\x91\\x85ð\\x9f\\x92¦ð\\x9f\\x92¦ð\\x9f\\x92¦  ',\n '#whenever im   and #something goes #wrong  |  ',\n 'feeling blue #illustration   ',\n 'the best pa about life is knowing who you are! ð\\x9f\\x98\\x8aâ\\x98\\x80ï¸\\x8fð\\x9f\\x8c¼ð\\x9f\\x8c»  â\\x80¦ ',\n '#abc2020 getting ready 2 remove the victums frm #pulseclub #prayfororlando  ',\n 'for her #bihday we got her a #nose #job @user  ð\\x9f\\x8e\\x88ð\\x9f\\x90¶ð\\x9f\\x8e\\x89ð\\x9f\\x8e\\x82ð\\x9f\\x8e\\x81    #bihday #petunia we love you ð\\x9f\\x99\\x83 ',\n 'off to concelebrate at the #albanpilgrimage for the first time.   @user',\n ' @user let the scum-baggery begin..... ',\n 'thank you! ð\\x9f\\x98\\x8dð\\x9f\\x98\\x86 super love it! â\\x9d¤ï¸\\x8f zpamdelacruz   #wedding# @ dolores, capas tarlac. ',\n 'a scourge on those playing baroque pieces on piano    beyond belief ',\n '@user lets fight against  #love #peace ',\n ' happy fatherâ\\x80\\x99s day, mr. rayos #video   #fathers #day #rayos #world #hotvideo #videos',\n ' @user ascot times with this babe â\\x9d¤ï¸\\x8fâ\\x9d¤ï¸\\x8f #ascot #fashion #monochrome #style   #instahappyday ',\n 'the weekend..is here!!ð\\x9f\\x99\\x8cð\\x9f\\x98\\x89ð\\x9f\\x98\\x98ð\\x9f\\x92\\x99ð\\x9f\\x98\\x8a #selfie   #yolo #xoxo #like4like ',\n \"happy at work conference: right' mindset leads to culture-of-development organizations    #work #mindset\",\n \"christina grimmie's  last performance before being shot...  via @user #christinarip #voice #christinagrimmie  \",\n 'we are ready to dance #roar #preschoolers   #students #proudâ\\x80¦ ',\n \"you've really hu my feelings :(  \",\n \"@user my wife whom i adore had to miss your poland show because she had surgery. her name is bridget &amp; she's my everything.  \",\n '@user i am so jealous of you right now.... #chatiado  ',\n \"i celebrate every man that has played it's fatherly role.   father's day#\",\n \"i'm sure they are just as happy.... ð\\x9f\\x91\\x8fð\\x9f\\x8f½ð\\x9f\\x91\\x8fð\\x9f\\x8f½ð\\x9f\\x91\\x8fð\\x9f\\x8f½   hour  \",\n \"ð\\x9f\\x98©the white establishment can't have blk folx running around loving themselves and promoting our greatness  \",\n 'good morning! the journey begins! ð\\x9f\\x98\\x84ð\\x9f\\x91\\x8dð\\x9f\\x8f»ð\\x9f\\x9b³   #travel #yeah #thejourneybegins #helloâ\\x80¦ ',\n ' @user # if you #luv #hottweets like this from â\\x96¶ â\\x99¥#venusexchangeâ\\x99¥ ',\n 'our new brochures have arrived! how exciting!! #aworks #solutions   ',\n 'so much stuff happening in florida! first #orlando shooting and now #disneygatorattack on a two year old kidð\\x9f\\x98¥ð\\x9f\\x90\\x8a  ',\n '@user ferrari will do itð\\x9f\\x92ªð\\x9f\\x8f¼ for the sake of the championship. this gp is clearly a turning point rb, ferrari,mercs...ð\\x9f\\x98\\x8d  ',\n 'aced my first test!   #proud ',\n \"  seeks probe into #udtapunjab' leak, points finger at #amarinder, #aap  \",\n '@user wrapping up #senseaboutmaths @user 6th   @user @user @user ',\n \"@user hey, white people: you can call people 'white' by @user  #race  #identity #medâ\\x80¦\",\n '@user @user you might be. just have not shown here today. regurgitated talking points and name calling?  ',\n 'sometimes you have to raise a few brows to raise the bar. #golfstrengthandconditioning   #strong #felixfoisgolf',\n '  about that ð\\x9f\\x98\\x80ð\\x9f\\x98\\x80ð\\x9f\\x98\\x80 #greathonour #careerconvos @user @user ',\n ' @user designing #innovative learning space @user to include #wateringhole #cave #mountaintop #campfire @user   hâ\\x80¦',\n 'how the #altright uses  &amp; insecurity to lure men into #whitesupremacy    ',\n \"carrying a gun wouldn't of helped if you can't take it in with you. gun control won't stop the black market! terrorism will get worse!  \",\n 'use the power of your mind to #heal your body!! -     #altwaystoheal #healthy   #peace! ',\n 'woohoo!! just over 5 weeks to go!   ',\n 'being in a far away place where you have no family members hus  ',\n 'ready to rehearse tonight with new music and new videos, look out for the announcement! #midweek #newmusic #watchthisspace #guitar  ',\n 'now on monday nights at 8pm on #up channel!!!! i finally get to see what all the fuss is about!!!   ',\n 'watching the new episodes of @user on @user  ',\n ' @user offline now after a very nice and long night.. ð\\x9f\\x98\\x9a #snapchat @user   #redhead #vermillionred ',\n ' 15 things incredibly   #people do ',\n 'yes! received my acceptance letter for my masters so will be back at @user again in october!    #goodtimes #history',\n 'daughter riding her bike around driveway, son playing his guitar for us while we enjoy ð\\x9f\\x8dº by the campfire... #summeime   #memories',\n 'omg!!! loving this station!!! way to jam out at work!!! while getting work done of course!!!!   #memories @user ',\n \"@user i'll always hope that one day i'll get to hug you, but i don't think that it's gonna happen anytime soon... \",\n '#model   i love u take with u all the time in urð\\x9f\\x93±!!! ð\\x9f\\x98\\x99ð\\x9f\\x98\\x8eð\\x9f\\x91\\x84ð\\x9f\\x91\\x85ð\\x9f\\x92¦ð\\x9f\\x92¦ð\\x9f\\x92¦  ',\n '  couple having sex fat naked japanese girls  ',\n '#hump on that    #hump day #humpersð\\x9f\\x98© @ edwardsville, pennsylvania ',\n 'personalised we... gbp 7.99 get here:  #shop #cool   #home #fun ']"
     },
     "execution_count": 19,
     "metadata": {},
     "output_type": "execute_result"
    }
   ],
   "source": [
    "list(train_data.tweet.iloc[:100])"
   ],
   "metadata": {
    "collapsed": false,
    "pycharm": {
     "name": "#%%\n"
    }
   }
  },
  {
   "cell_type": "code",
   "execution_count": null,
   "outputs": [],
   "source": [],
   "metadata": {
    "collapsed": false,
    "pycharm": {
     "name": "#%%\n"
    }
   }
  }
 ],
 "metadata": {
  "kernelspec": {
   "display_name": "Python 3",
   "language": "python",
   "name": "python3"
  },
  "language_info": {
   "codemirror_mode": {
    "name": "ipython",
    "version": 2
   },
   "file_extension": ".py",
   "mimetype": "text/x-python",
   "name": "python",
   "nbconvert_exporter": "python",
   "pygments_lexer": "ipython2",
   "version": "2.7.6"
  }
 },
 "nbformat": 4,
 "nbformat_minor": 0
}