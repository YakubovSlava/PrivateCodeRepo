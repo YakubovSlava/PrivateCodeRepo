{
 "cells": [
  {
   "cell_type": "markdown",
   "source": [
    "### Импорт необходимых библиотек"
   ],
   "metadata": {
    "collapsed": false,
    "pycharm": {
     "name": "#%% md\n"
    }
   }
  },
  {
   "cell_type": "code",
   "execution_count": 1,
   "outputs": [],
   "source": [
    "import pandas as pd # для чтения датасета\n",
    "import re # для обработки текста\n",
    "from sklearn.utils import resample # Для апсемплинга\n",
    "from sklearn.model_selection import train_test_split # для разделения выборок на трейн и тест\n",
    "from sklearn.feature_extraction.text import TfidfVectorizer # tf-idf\n",
    "from sklearn.preprocessing import PolynomialFeatures # для полиномиальных признаков\n",
    "from sklearn.decomposition import TruncatedSVD # SVD\n",
    "from sklearn.metrics import classification_report # Для просмотра результата работы модели\n",
    "from sklearn.linear_model import LogisticRegression # альтмодель\n",
    "from sklearn.naive_bayes import GaussianNB # наивный байес"
   ],
   "metadata": {
    "collapsed": false,
    "pycharm": {
     "name": "#%%\n"
    }
   }
  },
  {
   "cell_type": "markdown",
   "source": [
    "#### Чтение данных"
   ],
   "metadata": {
    "collapsed": false,
    "pycharm": {
     "name": "#%% md\n"
    }
   }
  },
  {
   "cell_type": "code",
   "execution_count": 3,
   "outputs": [],
   "source": [
    "data = pd.read_csv('train.csv', usecols=['tweet','label'])"
   ],
   "metadata": {
    "collapsed": false,
    "pycharm": {
     "name": "#%%\n"
    }
   }
  },
  {
   "cell_type": "markdown",
   "source": [
    "#### Предобработка данных"
   ],
   "metadata": {
    "collapsed": false,
    "pycharm": {
     "name": "#%% md\n"
    }
   }
  },
  {
   "cell_type": "code",
   "execution_count": 1,
   "outputs": [],
   "source": [
    "def clean_text(text):\n",
    "    reg = text.lower()\n",
    "    # reg = re.sub(r\"(.)\\1+\", r\"\\1\", reg)\n",
    "    reg =  re.sub(r'\\!', ' VOSKZNAK ', reg)\n",
    "    reg =  re.sub(r'\\.', ' POINT ', reg)\n",
    "    reg =  re.sub(r'\\?', ' QUESTION ', reg)\n",
    "    reg = re.sub('\\d+', ' NUMBER ', reg)\n",
    "    reg = re.sub('\\n', ' ', reg)\n",
    "    reg = re.sub('\\)', ' HAPPYSMILE ', reg)\n",
    "    reg = re.sub('\\(', ' DADSMILE ', reg)\n",
    "    reg = re.sub('[-#$%@^&*(){}|_:;.,/?~<>]', '', reg)\n",
    "    reg = re.sub('[^a-zA-Z ]', '', reg)\n",
    "    reg = re.sub(\" +\", \" \", reg)\n",
    "    reg = re.sub(r'(^\\W+)|(\\W+$)', '', reg)\n",
    "    return reg"
   ],
   "metadata": {
    "collapsed": false,
    "pycharm": {
     "name": "#%%\n"
    }
   }
  },
  {
   "cell_type": "code",
   "execution_count": 176,
   "outputs": [],
   "source": [
    "data.tweet = data.tweet.apply(clean_text)"
   ],
   "metadata": {
    "collapsed": false,
    "pycharm": {
     "name": "#%%\n"
    }
   }
  },
  {
   "cell_type": "markdown",
   "source": [
    "#### деление на трейн и тест и апсемплинг"
   ],
   "metadata": {
    "collapsed": false,
    "pycharm": {
     "name": "#%% md\n"
    }
   }
  },
  {
   "cell_type": "code",
   "execution_count": 177,
   "outputs": [],
   "source": [
    "train, test = train_test_split(data, test_size=0.25)"
   ],
   "metadata": {
    "collapsed": false,
    "pycharm": {
     "name": "#%%\n"
    }
   }
  },
  {
   "cell_type": "code",
   "execution_count": 178,
   "outputs": [],
   "source": [
    "train_zeros = train[train.label==0]\n",
    "train_ones = train[train.label==1]"
   ],
   "metadata": {
    "collapsed": false,
    "pycharm": {
     "name": "#%%\n"
    }
   }
  },
  {
   "cell_type": "code",
   "execution_count": 179,
   "outputs": [],
   "source": [
    "train_ones = resample(train_ones, n_samples=len(train_zeros))"
   ],
   "metadata": {
    "collapsed": false,
    "pycharm": {
     "name": "#%%\n"
    }
   }
  },
  {
   "cell_type": "code",
   "execution_count": 180,
   "outputs": [],
   "source": [
    "train = pd.concat((train_ones, train_zeros)).sample(frac=1)"
   ],
   "metadata": {
    "collapsed": false,
    "pycharm": {
     "name": "#%%\n"
    }
   }
  },
  {
   "cell_type": "code",
   "execution_count": 181,
   "outputs": [],
   "source": [
    "X_train, X_test, y_train, y_test = train.tweet, test.tweet, train.label, test.label"
   ],
   "metadata": {
    "collapsed": false,
    "pycharm": {
     "name": "#%%\n"
    }
   }
  },
  {
   "cell_type": "markdown",
   "source": [
    "#### Обучение модели на отлично"
   ],
   "metadata": {
    "collapsed": false,
    "pycharm": {
     "name": "#%% md\n"
    }
   }
  },
  {
   "cell_type": "code",
   "execution_count": 182,
   "outputs": [],
   "source": [
    "vectorizer = TfidfVectorizer(stop_words='english', ngram_range=(1, 3), max_features=800)\n",
    "poly = PolynomialFeatures(2)\n",
    "svd = TruncatedSVD(n_components=100, n_iter=10)"
   ],
   "metadata": {
    "collapsed": false,
    "pycharm": {
     "name": "#%%\n"
    }
   }
  },
  {
   "cell_type": "code",
   "execution_count": 183,
   "outputs": [],
   "source": [
    "# применение tf-idf\n",
    "vectorizer.fit(X_train)\n",
    "X_train = vectorizer.transform(X_train)\n",
    "X_test = vectorizer.transform(X_test)"
   ],
   "metadata": {
    "collapsed": false,
    "pycharm": {
     "name": "#%%\n"
    }
   }
  },
  {
   "cell_type": "code",
   "execution_count": 185,
   "outputs": [
    {
     "name": "stdout",
     "output_type": "stream",
     "text": [
      "              precision    recall  f1-score   support\n",
      "\n",
      "           0       0.95      0.99      0.97      7431\n",
      "           1       0.64      0.28      0.39       560\n",
      "\n",
      "    accuracy                           0.94      7991\n",
      "   macro avg       0.79      0.63      0.68      7991\n",
      "weighted avg       0.93      0.94      0.93      7991\n",
      "\n"
     ]
    }
   ],
   "source": [
    "# смотрим работоспособность модели без полиномиальных признаков и SVD\n",
    "model = GaussianNB().fit(X_train.toarray(), y_train)\n",
    "print(classification_report(y_test, model.predict(X_test.toarray())))"
   ],
   "metadata": {
    "collapsed": false,
    "pycharm": {
     "name": "#%%\n"
    }
   }
  },
  {
   "cell_type": "code",
   "execution_count": 186,
   "outputs": [],
   "source": [
    "# Полиномиальные признаки\n",
    "poly.fit(X_train)\n",
    "X_train = poly.transform(X_train)\n",
    "X_test = poly.transform(X_test)"
   ],
   "metadata": {
    "collapsed": false,
    "pycharm": {
     "name": "#%%\n"
    }
   }
  },
  {
   "cell_type": "code",
   "execution_count": 188,
   "outputs": [],
   "source": [
    "# SVD\n",
    "svd.fit(X_train)\n",
    "X_train = svd.transform(X_train)\n",
    "X_test = svd.transform(X_test)"
   ],
   "metadata": {
    "collapsed": false,
    "pycharm": {
     "name": "#%%\n"
    }
   }
  },
  {
   "cell_type": "code",
   "execution_count": 189,
   "outputs": [
    {
     "name": "stdout",
     "output_type": "stream",
     "text": [
      "              precision    recall  f1-score   support\n",
      "\n",
      "           0       0.95      0.92      0.93      7431\n",
      "           1       0.23      0.30      0.26       560\n",
      "\n",
      "    accuracy                           0.88      7991\n",
      "   macro avg       0.59      0.61      0.60      7991\n",
      "weighted avg       0.90      0.88      0.89      7991\n",
      "\n"
     ]
    }
   ],
   "source": [
    "# Смотрим результаты\n",
    "model = GaussianNB().fit(X_train, y_train)\n",
    "print(classification_report(y_test, model.predict(X_test)))"
   ],
   "metadata": {
    "collapsed": false,
    "pycharm": {
     "name": "#%%\n"
    }
   }
  },
  {
   "cell_type": "markdown",
   "source": [
    "### Альтмодель, показавшая лучшие результаты"
   ],
   "metadata": {
    "collapsed": false,
    "pycharm": {
     "name": "#%% md\n"
    }
   }
  },
  {
   "cell_type": "code",
   "execution_count": 190,
   "outputs": [],
   "source": [
    "X_train, X_test, y_train, y_test = train.tweet, test.tweet, train.label, test.label"
   ],
   "metadata": {
    "collapsed": false,
    "pycharm": {
     "name": "#%%\n"
    }
   }
  },
  {
   "cell_type": "code",
   "execution_count": 191,
   "outputs": [],
   "source": [
    "vectorizer = TfidfVectorizer(stop_words='english', ngram_range=(2, 3), min_df=2, max_df=0.8)"
   ],
   "metadata": {
    "collapsed": false,
    "pycharm": {
     "name": "#%%\n"
    }
   }
  },
  {
   "cell_type": "code",
   "execution_count": 192,
   "outputs": [],
   "source": [
    "vectorizer.fit(X_train)\n",
    "X_train = vectorizer.transform(X_train)\n",
    "X_test = vectorizer.transform(X_test)"
   ],
   "metadata": {
    "collapsed": false,
    "pycharm": {
     "name": "#%%\n"
    }
   }
  },
  {
   "cell_type": "code",
   "execution_count": 193,
   "outputs": [
    {
     "name": "stdout",
     "output_type": "stream",
     "text": [
      "              precision    recall  f1-score   support\n",
      "\n",
      "           0       0.96      0.99      0.98      7431\n",
      "           1       0.84      0.45      0.59       560\n",
      "\n",
      "    accuracy                           0.96      7991\n",
      "   macro avg       0.90      0.72      0.78      7991\n",
      "weighted avg       0.95      0.96      0.95      7991\n",
      "\n"
     ]
    }
   ],
   "source": [
    "model = LogisticRegression(max_iter=200).fit(X_train, y_train)\n",
    "print(classification_report(y_test, model.predict(X_test)))"
   ],
   "metadata": {
    "collapsed": false,
    "pycharm": {
     "name": "#%%\n"
    }
   }
  },
  {
   "cell_type": "code",
   "execution_count": null,
   "outputs": [],
   "source": [],
   "metadata": {
    "collapsed": false,
    "pycharm": {
     "name": "#%%\n"
    }
   }
  }
 ],
 "metadata": {
  "kernelspec": {
   "display_name": "Python 3",
   "language": "python",
   "name": "python3"
  },
  "language_info": {
   "codemirror_mode": {
    "name": "ipython",
    "version": 2
   },
   "file_extension": ".py",
   "mimetype": "text/x-python",
   "name": "python",
   "nbconvert_exporter": "python",
   "pygments_lexer": "ipython2",
   "version": "2.7.6"
  }
 },
 "nbformat": 4,
 "nbformat_minor": 0
}