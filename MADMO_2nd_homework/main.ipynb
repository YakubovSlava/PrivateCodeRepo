{
 "cells": [
  {
   "cell_type": "markdown",
   "metadata": {
    "collapsed": true,
    "pycharm": {
     "name": "#%% md\n"
    }
   },
   "source": [
    "### Якубов В.Ю. ДЗ_2 МАДМО\n",
    " - реализовать и отладить файнтюнинг крупной модели\n",
    " - Реализовать собственную модель\n",
    " - Реализовать дистилляцию из крупной модели в небольшую предобученную\n",
    " - Использовать Прунинг"
   ]
  },
  {
   "cell_type": "markdown",
   "metadata": {
    "pycharm": {
     "name": "#%% md\n"
    }
   },
   "source": [
    "### Импорт необходимых библиотек"
   ]
  },
  {
   "cell_type": "code",
   "execution_count": 4,
   "metadata": {
    "pycharm": {
     "name": "#%%\n"
    }
   },
   "outputs": [
    {
     "name": "stderr",
     "output_type": "stream",
     "text": [
      "d:\\mlp\\machinelearning\\venv\\lib\\site-packages\\torchvision\\io\\image.py:11: UserWarning: Failed to load image Python extension: Could not find module 'D:\\mlp\\MachineLearning\\venv\\Lib\\site-packages\\torchvision\\image.pyd' (or one of its dependencies). Try using the full path with constructor syntax.\n",
      "  warn(f\"Failed to load image Python extension: {e}\")\n"
     ]
    }
   ],
   "source": [
    "import os # Для работы с системой\n",
    "import shutil # Для копирования файлов\n",
    "from tqdm import tqdm # Для отслеживания прогресса различных задач\n",
    "import pandas as pd # Для считывания информации о датасете\n",
    "from torch.optim.lr_scheduler import ReduceLROnPlateau # Для обучения нейронной сети\n",
    "from torch.optim import Adam # Оптимизатор нейронной сети\n",
    "from IPython.display import clear_output # Для отчистки графика во время обучения НС\n",
    "from sklearn.metrics import classification_report # Для вывода финальных метрик\n",
    "import matplotlib.pyplot as plt # Для визуализации\n",
    "import numpy as np # Для математических операций\n",
    "from sklearn.preprocessing import LabelEncoder # Для кодирования перемнных\n",
    "from sklearn.model_selection import train_test_split # для создания тестовой выборки\n",
    "import torchvision.models as models # Для импортирования моедлей pytorch\n",
    "import torch # Для работы с глебоким обучением\n",
    "from torch import nn #\n",
    "from torch.utils.data import Dataset, DataLoader # Для удобного создания датасетов и лоадеров\n",
    "from torchvision import transforms # Для аугументации\n",
    "from PIL import Image # Для считывания изображений\n",
    "from sklearn.utils import resample # Для сэмплирования"
   ]
  },
  {
   "cell_type": "markdown",
   "metadata": {
    "pycharm": {
     "name": "#%% md\n"
    }
   },
   "source": [
    "### Поместим все файлы в одну папку"
   ]
  },
  {
   "cell_type": "code",
   "execution_count": 9,
   "metadata": {
    "pycharm": {
     "name": "#%%\n"
    }
   },
   "outputs": [
    {
     "name": "stderr",
     "output_type": "stream",
     "text": [
      "100%|██████████| 5000/5000 [00:02<00:00, 1725.44it/s]\n",
      "100%|██████████| 5015/5015 [00:03<00:00, 1512.48it/s]\n"
     ]
    }
   ],
   "source": [
    "if 'merged_data' not in os.listdir():\n",
    "    os.makedirs('merged_data')\n",
    "for i in tqdm(os.listdir('cancer_dataset/HAM10000_images_part_1')):\n",
    "    shutil.copyfile(f'cancer_dataset/HAM10000_images_part_1/{i}', f'merged_data/{i}')\n",
    "for i in tqdm(os.listdir('cancer_dataset/HAM10000_images_part_2')):\n",
    "    shutil.copyfile(f'cancer_dataset/HAM10000_images_part_2/{i}', f'merged_data/{i}')"
   ]
  },
  {
   "cell_type": "markdown",
   "metadata": {
    "pycharm": {
     "name": "#%% md\n"
    }
   },
   "source": [
    "Считаем информацию о датасете"
   ]
  },
  {
   "cell_type": "code",
   "execution_count": 10,
   "metadata": {
    "pycharm": {
     "name": "#%%\n"
    }
   },
   "outputs": [],
   "source": [
    "dataframe = pd.read_csv('cancer_dataset/HAM10000_metadata.csv')"
   ]
  },
  {
   "cell_type": "code",
   "execution_count": 11,
   "metadata": {
    "pycharm": {
     "name": "#%%\n"
    }
   },
   "outputs": [
    {
     "data": {
      "text/html": [
       "<div>\n",
       "<style scoped>\n",
       "    .dataframe tbody tr th:only-of-type {\n",
       "        vertical-align: middle;\n",
       "    }\n",
       "\n",
       "    .dataframe tbody tr th {\n",
       "        vertical-align: top;\n",
       "    }\n",
       "\n",
       "    .dataframe thead th {\n",
       "        text-align: right;\n",
       "    }\n",
       "</style>\n",
       "<table border=\"1\" class=\"dataframe\">\n",
       "  <thead>\n",
       "    <tr style=\"text-align: right;\">\n",
       "      <th></th>\n",
       "      <th>lesion_id</th>\n",
       "      <th>image_id</th>\n",
       "      <th>dx</th>\n",
       "      <th>dx_type</th>\n",
       "      <th>age</th>\n",
       "      <th>sex</th>\n",
       "      <th>localization</th>\n",
       "    </tr>\n",
       "  </thead>\n",
       "  <tbody>\n",
       "    <tr>\n",
       "      <th>0</th>\n",
       "      <td>HAM_0000118</td>\n",
       "      <td>ISIC_0027419</td>\n",
       "      <td>bkl</td>\n",
       "      <td>histo</td>\n",
       "      <td>80.0</td>\n",
       "      <td>male</td>\n",
       "      <td>scalp</td>\n",
       "    </tr>\n",
       "    <tr>\n",
       "      <th>1</th>\n",
       "      <td>HAM_0000118</td>\n",
       "      <td>ISIC_0025030</td>\n",
       "      <td>bkl</td>\n",
       "      <td>histo</td>\n",
       "      <td>80.0</td>\n",
       "      <td>male</td>\n",
       "      <td>scalp</td>\n",
       "    </tr>\n",
       "    <tr>\n",
       "      <th>2</th>\n",
       "      <td>HAM_0002730</td>\n",
       "      <td>ISIC_0026769</td>\n",
       "      <td>bkl</td>\n",
       "      <td>histo</td>\n",
       "      <td>80.0</td>\n",
       "      <td>male</td>\n",
       "      <td>scalp</td>\n",
       "    </tr>\n",
       "    <tr>\n",
       "      <th>3</th>\n",
       "      <td>HAM_0002730</td>\n",
       "      <td>ISIC_0025661</td>\n",
       "      <td>bkl</td>\n",
       "      <td>histo</td>\n",
       "      <td>80.0</td>\n",
       "      <td>male</td>\n",
       "      <td>scalp</td>\n",
       "    </tr>\n",
       "    <tr>\n",
       "      <th>4</th>\n",
       "      <td>HAM_0001466</td>\n",
       "      <td>ISIC_0031633</td>\n",
       "      <td>bkl</td>\n",
       "      <td>histo</td>\n",
       "      <td>75.0</td>\n",
       "      <td>male</td>\n",
       "      <td>ear</td>\n",
       "    </tr>\n",
       "  </tbody>\n",
       "</table>\n",
       "</div>"
      ],
      "text/plain": [
       "     lesion_id      image_id   dx dx_type   age   sex localization\n",
       "0  HAM_0000118  ISIC_0027419  bkl   histo  80.0  male        scalp\n",
       "1  HAM_0000118  ISIC_0025030  bkl   histo  80.0  male        scalp\n",
       "2  HAM_0002730  ISIC_0026769  bkl   histo  80.0  male        scalp\n",
       "3  HAM_0002730  ISIC_0025661  bkl   histo  80.0  male        scalp\n",
       "4  HAM_0001466  ISIC_0031633  bkl   histo  75.0  male          ear"
      ]
     },
     "execution_count": 11,
     "metadata": {},
     "output_type": "execute_result"
    }
   ],
   "source": [
    "dataframe.head()"
   ]
  },
  {
   "cell_type": "markdown",
   "metadata": {
    "pycharm": {
     "name": "#%% md\n"
    }
   },
   "source": [
    "закодируем целевую переменную"
   ]
  },
  {
   "cell_type": "code",
   "execution_count": 12,
   "metadata": {
    "pycharm": {
     "name": "#%%\n"
    }
   },
   "outputs": [],
   "source": [
    "le = LabelEncoder()\n",
    "dataframe.dx = le.fit_transform(dataframe.dx)"
   ]
  },
  {
   "cell_type": "markdown",
   "metadata": {
    "pycharm": {
     "name": "#%% md\n"
    }
   },
   "source": [
    "Сделаем разделение на тест и трейн"
   ]
  },
  {
   "cell_type": "code",
   "execution_count": 13,
   "metadata": {
    "pycharm": {
     "name": "#%%\n"
    }
   },
   "outputs": [],
   "source": [
    "data_train, data_test = train_test_split(dataframe, test_size=0.2)"
   ]
  },
  {
   "cell_type": "markdown",
   "metadata": {
    "pycharm": {
     "name": "#%% md\n"
    }
   },
   "source": [
    "Для обучения применим апсемплинг классов, экземпляров которых очень мало в датасете. Были применены разные подходы, апсемплинг показал себя лучше всего"
   ]
  },
  {
   "cell_type": "code",
   "execution_count": 14,
   "metadata": {
    "pycharm": {
     "name": "#%%\n"
    }
   },
   "outputs": [],
   "source": [
    "maximum = data_train.groupby('dx').image_id.count().max()"
   ]
  },
  {
   "cell_type": "code",
   "execution_count": 15,
   "metadata": {
    "pycharm": {
     "name": "#%%\n"
    }
   },
   "outputs": [
    {
     "data": {
      "text/plain": [
       "5360"
      ]
     },
     "execution_count": 15,
     "metadata": {},
     "output_type": "execute_result"
    }
   ],
   "source": [
    "maximum"
   ]
  },
  {
   "cell_type": "code",
   "execution_count": 15,
   "metadata": {
    "pycharm": {
     "name": "#%%\n"
    }
   },
   "outputs": [
    {
     "name": "stderr",
     "output_type": "stream",
     "text": [
      "C:\\Users\\Admin\\AppData\\Local\\Temp\\ipykernel_17612\\2850963880.py:3: FutureWarning: The frame.append method is deprecated and will be removed from pandas in a future version. Use pandas.concat instead.\n",
      "  res = res.append(resample(data_train[data_train.dx==i], n_samples=maximum))\n",
      "C:\\Users\\Admin\\AppData\\Local\\Temp\\ipykernel_17612\\2850963880.py:3: FutureWarning: The frame.append method is deprecated and will be removed from pandas in a future version. Use pandas.concat instead.\n",
      "  res = res.append(resample(data_train[data_train.dx==i], n_samples=maximum))\n",
      "C:\\Users\\Admin\\AppData\\Local\\Temp\\ipykernel_17612\\2850963880.py:3: FutureWarning: The frame.append method is deprecated and will be removed from pandas in a future version. Use pandas.concat instead.\n",
      "  res = res.append(resample(data_train[data_train.dx==i], n_samples=maximum))\n",
      "C:\\Users\\Admin\\AppData\\Local\\Temp\\ipykernel_17612\\2850963880.py:3: FutureWarning: The frame.append method is deprecated and will be removed from pandas in a future version. Use pandas.concat instead.\n",
      "  res = res.append(resample(data_train[data_train.dx==i], n_samples=maximum))\n",
      "C:\\Users\\Admin\\AppData\\Local\\Temp\\ipykernel_17612\\2850963880.py:3: FutureWarning: The frame.append method is deprecated and will be removed from pandas in a future version. Use pandas.concat instead.\n",
      "  res = res.append(resample(data_train[data_train.dx==i], n_samples=maximum))\n",
      "C:\\Users\\Admin\\AppData\\Local\\Temp\\ipykernel_17612\\2850963880.py:3: FutureWarning: The frame.append method is deprecated and will be removed from pandas in a future version. Use pandas.concat instead.\n",
      "  res = res.append(resample(data_train[data_train.dx==i], n_samples=maximum))\n",
      "C:\\Users\\Admin\\AppData\\Local\\Temp\\ipykernel_17612\\2850963880.py:3: FutureWarning: The frame.append method is deprecated and will be removed from pandas in a future version. Use pandas.concat instead.\n",
      "  res = res.append(resample(data_train[data_train.dx==i], n_samples=maximum))\n"
     ]
    }
   ],
   "source": [
    "res = pd.DataFrame()\n",
    "for i in data_train.dx.unique():\n",
    "    res = res.append(resample(data_train[data_train.dx==i], n_samples=maximum))"
   ]
  },
  {
   "cell_type": "code",
   "execution_count": 16,
   "metadata": {
    "pycharm": {
     "name": "#%%\n"
    }
   },
   "outputs": [
    {
     "data": {
      "text/html": [
       "<div>\n",
       "<style scoped>\n",
       "    .dataframe tbody tr th:only-of-type {\n",
       "        vertical-align: middle;\n",
       "    }\n",
       "\n",
       "    .dataframe tbody tr th {\n",
       "        vertical-align: top;\n",
       "    }\n",
       "\n",
       "    .dataframe thead th {\n",
       "        text-align: right;\n",
       "    }\n",
       "</style>\n",
       "<table border=\"1\" class=\"dataframe\">\n",
       "  <thead>\n",
       "    <tr style=\"text-align: right;\">\n",
       "      <th></th>\n",
       "      <th>lesion_id</th>\n",
       "      <th>image_id</th>\n",
       "      <th>dx</th>\n",
       "      <th>dx_type</th>\n",
       "      <th>age</th>\n",
       "      <th>sex</th>\n",
       "      <th>localization</th>\n",
       "    </tr>\n",
       "  </thead>\n",
       "  <tbody>\n",
       "    <tr>\n",
       "      <th>8958</th>\n",
       "      <td>HAM_0000922</td>\n",
       "      <td>ISIC_0031111</td>\n",
       "      <td>5</td>\n",
       "      <td>histo</td>\n",
       "      <td>55.0</td>\n",
       "      <td>male</td>\n",
       "      <td>upper extremity</td>\n",
       "    </tr>\n",
       "    <tr>\n",
       "      <th>5464</th>\n",
       "      <td>HAM_0003645</td>\n",
       "      <td>ISIC_0024390</td>\n",
       "      <td>5</td>\n",
       "      <td>follow_up</td>\n",
       "      <td>65.0</td>\n",
       "      <td>male</td>\n",
       "      <td>upper extremity</td>\n",
       "    </tr>\n",
       "    <tr>\n",
       "      <th>6449</th>\n",
       "      <td>HAM_0005765</td>\n",
       "      <td>ISIC_0028031</td>\n",
       "      <td>5</td>\n",
       "      <td>follow_up</td>\n",
       "      <td>45.0</td>\n",
       "      <td>male</td>\n",
       "      <td>lower extremity</td>\n",
       "    </tr>\n",
       "    <tr>\n",
       "      <th>4825</th>\n",
       "      <td>HAM_0002213</td>\n",
       "      <td>ISIC_0030222</td>\n",
       "      <td>5</td>\n",
       "      <td>follow_up</td>\n",
       "      <td>55.0</td>\n",
       "      <td>female</td>\n",
       "      <td>lower extremity</td>\n",
       "    </tr>\n",
       "    <tr>\n",
       "      <th>9463</th>\n",
       "      <td>HAM_0005263</td>\n",
       "      <td>ISIC_0033918</td>\n",
       "      <td>5</td>\n",
       "      <td>consensus</td>\n",
       "      <td>40.0</td>\n",
       "      <td>male</td>\n",
       "      <td>trunk</td>\n",
       "    </tr>\n",
       "    <tr>\n",
       "      <th>...</th>\n",
       "      <td>...</td>\n",
       "      <td>...</td>\n",
       "      <td>...</td>\n",
       "      <td>...</td>\n",
       "      <td>...</td>\n",
       "      <td>...</td>\n",
       "      <td>...</td>\n",
       "    </tr>\n",
       "    <tr>\n",
       "      <th>1105</th>\n",
       "      <td>HAM_0007526</td>\n",
       "      <td>ISIC_0030244</td>\n",
       "      <td>3</td>\n",
       "      <td>histo</td>\n",
       "      <td>50.0</td>\n",
       "      <td>male</td>\n",
       "      <td>lower extremity</td>\n",
       "    </tr>\n",
       "    <tr>\n",
       "      <th>1207</th>\n",
       "      <td>HAM_0006707</td>\n",
       "      <td>ISIC_0030870</td>\n",
       "      <td>3</td>\n",
       "      <td>consensus</td>\n",
       "      <td>45.0</td>\n",
       "      <td>female</td>\n",
       "      <td>lower extremity</td>\n",
       "    </tr>\n",
       "    <tr>\n",
       "      <th>1205</th>\n",
       "      <td>HAM_0007569</td>\n",
       "      <td>ISIC_0025373</td>\n",
       "      <td>3</td>\n",
       "      <td>consensus</td>\n",
       "      <td>35.0</td>\n",
       "      <td>female</td>\n",
       "      <td>lower extremity</td>\n",
       "    </tr>\n",
       "    <tr>\n",
       "      <th>1121</th>\n",
       "      <td>HAM_0007421</td>\n",
       "      <td>ISIC_0025302</td>\n",
       "      <td>3</td>\n",
       "      <td>histo</td>\n",
       "      <td>60.0</td>\n",
       "      <td>female</td>\n",
       "      <td>lower extremity</td>\n",
       "    </tr>\n",
       "    <tr>\n",
       "      <th>1177</th>\n",
       "      <td>HAM_0003081</td>\n",
       "      <td>ISIC_0033808</td>\n",
       "      <td>3</td>\n",
       "      <td>consensus</td>\n",
       "      <td>45.0</td>\n",
       "      <td>male</td>\n",
       "      <td>abdomen</td>\n",
       "    </tr>\n",
       "  </tbody>\n",
       "</table>\n",
       "<p>37583 rows × 7 columns</p>\n",
       "</div>"
      ],
      "text/plain": [
       "        lesion_id      image_id  dx    dx_type   age     sex     localization\n",
       "8958  HAM_0000922  ISIC_0031111   5      histo  55.0    male  upper extremity\n",
       "5464  HAM_0003645  ISIC_0024390   5  follow_up  65.0    male  upper extremity\n",
       "6449  HAM_0005765  ISIC_0028031   5  follow_up  45.0    male  lower extremity\n",
       "4825  HAM_0002213  ISIC_0030222   5  follow_up  55.0  female  lower extremity\n",
       "9463  HAM_0005263  ISIC_0033918   5  consensus  40.0    male            trunk\n",
       "...           ...           ...  ..        ...   ...     ...              ...\n",
       "1105  HAM_0007526  ISIC_0030244   3      histo  50.0    male  lower extremity\n",
       "1207  HAM_0006707  ISIC_0030870   3  consensus  45.0  female  lower extremity\n",
       "1205  HAM_0007569  ISIC_0025373   3  consensus  35.0  female  lower extremity\n",
       "1121  HAM_0007421  ISIC_0025302   3      histo  60.0  female  lower extremity\n",
       "1177  HAM_0003081  ISIC_0033808   3  consensus  45.0    male          abdomen\n",
       "\n",
       "[37583 rows x 7 columns]"
      ]
     },
     "execution_count": 16,
     "metadata": {},
     "output_type": "execute_result"
    }
   ],
   "source": [
    "res"
   ]
  },
  {
   "cell_type": "code",
   "execution_count": 17,
   "metadata": {
    "pycharm": {
     "name": "#%%\n"
    }
   },
   "outputs": [
    {
     "data": {
      "text/plain": [
       "{5: 0.4285714285714286,\n",
       " 1: 0.4285714285714286,\n",
       " 4: 0.4285714285714286,\n",
       " 6: 0.4285714285714286,\n",
       " 2: 0.4285714285714286,\n",
       " 0: 0.4285714285714286,\n",
       " 3: 0.4285714285714286}"
      ]
     },
     "execution_count": 17,
     "metadata": {},
     "output_type": "execute_result"
    }
   ],
   "source": [
    "### Было бы полезно в случае, если бы не использовался апсемплинг, однако аугументация редковстречающихся классов с большей вероятностью не показала себя так хорошо\n",
    "transform_probability = (1 - res.dx.value_counts()/len(res)) * 0.5\n",
    "transform_probability_dict = transform_probability.to_dict()\n",
    "transform_probability_dict"
   ]
  },
  {
   "cell_type": "markdown",
   "metadata": {
    "pycharm": {
     "name": "#%% md\n"
    }
   },
   "source": [
    "В X лежат названия изображений, в y таргет"
   ]
  },
  {
   "cell_type": "code",
   "execution_count": 19,
   "metadata": {
    "pycharm": {
     "name": "#%%\n"
    }
   },
   "outputs": [],
   "source": [
    "X_train, X_test, y_train, y_test = list(res.image_id), list(data_test.image_id), list(res.dx), list(data_test.dx)"
   ]
  },
  {
   "cell_type": "markdown",
   "metadata": {
    "pycharm": {
     "name": "#%% md\n"
    }
   },
   "source": [
    "Напишем кастомный датасет"
   ]
  },
  {
   "cell_type": "code",
   "execution_count": 20,
   "metadata": {
    "pycharm": {
     "name": "#%%\n"
    }
   },
   "outputs": [],
   "source": [
    "class CustomDataset(Dataset):\n",
    "    def __init__(self, images_paths, image_labels, transform_probs, train=True):\n",
    "        self.paths = images_paths\n",
    "        self.labels = image_labels\n",
    "        self.transform_probs = transform_probs\n",
    "        self.train = train\n",
    "    def __len__(self):\n",
    "        return len(self.paths)\n",
    "    def __getitem__(self, item):\n",
    "        image_name = self.paths[item]\n",
    "        image_label = self.labels[item]\n",
    "        image = Image.open(f'D:\\mlp\\MachineLearning\\MADMO_2nd_homework\\merged_data\\{image_name}.jpg')\n",
    "        transform_probability = self.transform_probs[image_label] if self.train else 0\n",
    "        transformation = transforms.Compose(\n",
    "            [\n",
    "                transforms.ToTensor(),\n",
    "                transforms.Resize((32, 32)),\n",
    "                transforms.Normalize(mean=(0.485, 0.456, 0.406),\n",
    "                                     std=(0.229, 0.224, 0.225)),\n",
    "                transforms.RandomHorizontalFlip(p=transform_probability),\n",
    "                transforms.RandomVerticalFlip(p=transform_probability)\n",
    "            ]\n",
    "        )\n",
    "        image = transformation(image)\n",
    "        return image, image_label\n"
   ]
  },
  {
   "cell_type": "raw",
   "metadata": {
    "pycharm": {
     "name": "#%% raw\n"
    }
   },
   "source": [
    "Распишем даталоадеры"
   ]
  },
  {
   "cell_type": "code",
   "execution_count": 21,
   "metadata": {
    "pycharm": {
     "name": "#%%\n"
    }
   },
   "outputs": [],
   "source": [
    "batch_size = 256\n",
    "train_dataset = CustomDataset(X_train, y_train, transform_probability_dict, train=True)\n",
    "train_dataloader = DataLoader(train_dataset, batch_size=batch_size, shuffle=True, drop_last=True)\n",
    "\n",
    "test_dataset = CustomDataset(X_test, y_test, transform_probability_dict, train=False)\n",
    "test_dataloader = DataLoader(test_dataset, batch_size=batch_size, shuffle=False, drop_last=False)"
   ]
  },
  {
   "cell_type": "markdown",
   "metadata": {
    "pycharm": {
     "name": "#%% md\n"
    }
   },
   "source": [
    "В качестве базовой модели будет использоватсья vgg16. При этом обычный фантюнинг, при котором морозятся все слои кроме финального не работает. Скорее всего из-за того, что изначально модель была обучена на датасете совсем другого характера"
   ]
  },
  {
   "cell_type": "code",
   "execution_count": 22,
   "metadata": {
    "pycharm": {
     "name": "#%%\n"
    }
   },
   "outputs": [],
   "source": [
    "vgg16 = models.vgg16(pretrained=True)"
   ]
  },
  {
   "cell_type": "code",
   "execution_count": 23,
   "metadata": {
    "pycharm": {
     "name": "#%%\n"
    }
   },
   "outputs": [],
   "source": [
    "device = 'cuda' if torch.cuda.is_available() else 'cpu'\n",
    "#for param in vgg16.parameters():\n",
    "#    param.requires_grad = False\n",
    "\n",
    "vgg16.classifier[6] = torch.nn.Linear(4096, 7)\n",
    "model = vgg16.to(device)"
   ]
  },
  {
   "cell_type": "markdown",
   "metadata": {
    "pycharm": {
     "name": "#%% md\n"
    }
   },
   "source": [
    "инициализация параметров обучения (4х эпох оказалось достаточно, поэтому обучение остановилось преждевременно)"
   ]
  },
  {
   "cell_type": "code",
   "execution_count": 24,
   "metadata": {
    "pycharm": {
     "name": "#%%\n"
    }
   },
   "outputs": [],
   "source": [
    "num_epochs = 15\n",
    "lr = 1e-4\n",
    "optimizer = Adam(vgg16.parameters(), lr=lr)\n",
    "scheduler = ReduceLROnPlateau(optimizer=optimizer, factor=0.5, patience=2, threshold=1e-3)"
   ]
  },
  {
   "cell_type": "markdown",
   "metadata": {
    "pycharm": {
     "name": "#%% md\n"
    }
   },
   "source": [
    "Инициализация Лосс Функции"
   ]
  },
  {
   "cell_type": "code",
   "execution_count": 25,
   "metadata": {
    "pycharm": {
     "name": "#%%\n"
    }
   },
   "outputs": [],
   "source": [
    "def loss_function(preds, true):\n",
    "    loss = nn.CrossEntropyLoss()\n",
    "    return loss(preds, true)"
   ]
  },
  {
   "cell_type": "code",
   "execution_count": 26,
   "metadata": {
    "pycharm": {
     "name": "#%%\n"
    }
   },
   "outputs": [],
   "source": [
    "all_train_losses = []\n",
    "all_test_losses = []"
   ]
  },
  {
   "cell_type": "markdown",
   "metadata": {
    "pycharm": {
     "name": "#%% md\n"
    }
   },
   "source": [
    "Инициализация функции обучения нейронной сети. Подается модель, оптимизатор, лосс,количество эпох, шедулер, трейн и тест даталоадеры"
   ]
  },
  {
   "cell_type": "code",
   "execution_count": 27,
   "metadata": {
    "pycharm": {
     "name": "#%%\n"
    }
   },
   "outputs": [],
   "source": [
    "def train_model(model,\n",
    "                num_epochs,\n",
    "                loss_function,\n",
    "                optimizer,\n",
    "                scheduler,\n",
    "                train_dataloader,\n",
    "                test_dataloader):\n",
    "    for epoch in range(num_epochs):\n",
    "        train_loss = 0\n",
    "        test_loss = 0\n",
    "        model.train(True)\n",
    "        print(f'epoch_number is {epoch}. Train')\n",
    "        for (X, y) in tqdm(train_dataloader):\n",
    "            model.zero_grad()\n",
    "            X = X.to(device)\n",
    "            y = y.to(device)\n",
    "            preds = model.forward(X)\n",
    "            loss = loss_function(preds, y)\n",
    "            loss.backward()\n",
    "            optimizer.step()\n",
    "            train_loss += loss.detach().item() / (len(train_dataloader))\n",
    "        model.train(False)\n",
    "        model.eval()\n",
    "        print(f'epoch_number is {epoch}. Test')\n",
    "        for (X, y) in tqdm(test_dataloader):\n",
    "            X = X.to(device)\n",
    "            y = y.to(device)\n",
    "            preds = model.forward(X)\n",
    "            loss = loss_function(preds, y)\n",
    "            test_loss += loss.detach().item() / (len(test_dataloader))\n",
    "        scheduler.step(test_loss)\n",
    "        clear_output()\n",
    "        all_train_losses.append(train_loss)\n",
    "        all_test_losses.append(test_loss)\n",
    "        print('loss train', train_loss)\n",
    "        print('loss test', test_loss)\n",
    "        plt.figure(figsize = (10, 6))\n",
    "        plt.plot(all_train_losses, label = 'Train loss', color = 'blue')\n",
    "        plt.plot(all_test_losses, label = 'Val loss', color = 'orange')\n",
    "        plt.legend()\n",
    "        plt.ylabel('Loss')\n",
    "        plt.grid()\n",
    "        plt.show()"
   ]
  },
  {
   "cell_type": "code",
   "execution_count": 29,
   "metadata": {
    "pycharm": {
     "name": "#%%\n"
    }
   },
   "outputs": [
    {
     "name": "stdout",
     "output_type": "stream",
     "text": [
      "loss train 0.1655996370907515\n",
      "loss test 0.9314463138580322\n"
     ]
    },
    {
     "data": {
      "image/png": "[encoded data removed]",
      "text/plain": [
       "<Figure size 720x432 with 1 Axes>"
      ]
     },
     "metadata": {
      "needs_background": "light"
     },
     "output_type": "display_data"
    },
    {
     "name": "stdout",
     "output_type": "stream",
     "text": [
      "epoch_number is 3. Train\n"
     ]
    },
    {
     "name": "stderr",
     "output_type": "stream",
     "text": [
      "100%|██████████| 146/146 [04:18<00:00,  1.77s/it]\n"
     ]
    },
    {
     "name": "stdout",
     "output_type": "stream",
     "text": [
      "epoch_number is 3. Test\n"
     ]
    },
    {
     "name": "stderr",
     "output_type": "stream",
     "text": [
      " 88%|████████▊ | 7/8 [00:12<00:01,  1.78s/it]\n"
     ]
    },
    {
     "ename": "KeyboardInterrupt",
     "evalue": "",
     "output_type": "error",
     "traceback": [
      "\u001B[1;31m---------------------------------------------------------------------------\u001B[0m",
      "\u001B[1;31mKeyboardInterrupt\u001B[0m                         Traceback (most recent call last)",
      "Input \u001B[1;32mIn [29]\u001B[0m, in \u001B[0;36m<module>\u001B[1;34m\u001B[0m\n\u001B[1;32m----> 1\u001B[0m \u001B[43mtrain_model\u001B[49m\u001B[43m(\u001B[49m\u001B[43mvgg16\u001B[49m\u001B[43m,\u001B[49m\u001B[43m \u001B[49m\u001B[43mnum_epochs\u001B[49m\u001B[43m,\u001B[49m\u001B[43m \u001B[49m\u001B[43mloss_function\u001B[49m\u001B[43m,\u001B[49m\u001B[43m \u001B[49m\u001B[43moptimizer\u001B[49m\u001B[43m,\u001B[49m\u001B[43m \u001B[49m\u001B[43mscheduler\u001B[49m\u001B[43m,\u001B[49m\u001B[43m \u001B[49m\u001B[43mtrain_dataloader\u001B[49m\u001B[43m,\u001B[49m\u001B[43m \u001B[49m\u001B[43mtest_dataloader\u001B[49m\u001B[43m)\u001B[49m\n",
      "Input \u001B[1;32mIn [27]\u001B[0m, in \u001B[0;36mtrain_model\u001B[1;34m(model, num_epochs, loss_function, optimizer, scheduler, train_dataloader, test_dataloader)\u001B[0m\n\u001B[0;32m     23\u001B[0m model\u001B[38;5;241m.\u001B[39meval()\n\u001B[0;32m     24\u001B[0m \u001B[38;5;28mprint\u001B[39m(\u001B[38;5;124mf\u001B[39m\u001B[38;5;124m'\u001B[39m\u001B[38;5;124mepoch_number is \u001B[39m\u001B[38;5;132;01m{\u001B[39;00mepoch\u001B[38;5;132;01m}\u001B[39;00m\u001B[38;5;124m. Test\u001B[39m\u001B[38;5;124m'\u001B[39m)\n\u001B[1;32m---> 25\u001B[0m \u001B[38;5;28;01mfor\u001B[39;00m (X, y) \u001B[38;5;129;01min\u001B[39;00m tqdm(test_dataloader):\n\u001B[0;32m     26\u001B[0m     X \u001B[38;5;241m=\u001B[39m X\u001B[38;5;241m.\u001B[39mto(device)\n\u001B[0;32m     27\u001B[0m     y \u001B[38;5;241m=\u001B[39m y\u001B[38;5;241m.\u001B[39mto(device)\n",
      "File \u001B[1;32md:\\mlp\\machinelearning\\venv\\lib\\site-packages\\tqdm\\std.py:1180\u001B[0m, in \u001B[0;36mtqdm.__iter__\u001B[1;34m(self)\u001B[0m\n\u001B[0;32m   1177\u001B[0m time \u001B[38;5;241m=\u001B[39m \u001B[38;5;28mself\u001B[39m\u001B[38;5;241m.\u001B[39m_time\n\u001B[0;32m   1179\u001B[0m \u001B[38;5;28;01mtry\u001B[39;00m:\n\u001B[1;32m-> 1180\u001B[0m     \u001B[38;5;28;01mfor\u001B[39;00m obj \u001B[38;5;129;01min\u001B[39;00m iterable:\n\u001B[0;32m   1181\u001B[0m         \u001B[38;5;28;01myield\u001B[39;00m obj\n\u001B[0;32m   1182\u001B[0m         \u001B[38;5;66;03m# Update and possibly print the progressbar.\u001B[39;00m\n\u001B[0;32m   1183\u001B[0m         \u001B[38;5;66;03m# Note: does not call self.update(1) for speed optimisation.\u001B[39;00m\n",
      "File \u001B[1;32md:\\mlp\\machinelearning\\venv\\lib\\site-packages\\torch\\utils\\data\\dataloader.py:521\u001B[0m, in \u001B[0;36m_BaseDataLoaderIter.__next__\u001B[1;34m(self)\u001B[0m\n\u001B[0;32m    519\u001B[0m \u001B[38;5;28;01mif\u001B[39;00m \u001B[38;5;28mself\u001B[39m\u001B[38;5;241m.\u001B[39m_sampler_iter \u001B[38;5;129;01mis\u001B[39;00m \u001B[38;5;28;01mNone\u001B[39;00m:\n\u001B[0;32m    520\u001B[0m     \u001B[38;5;28mself\u001B[39m\u001B[38;5;241m.\u001B[39m_reset()\n\u001B[1;32m--> 521\u001B[0m data \u001B[38;5;241m=\u001B[39m \u001B[38;5;28;43mself\u001B[39;49m\u001B[38;5;241;43m.\u001B[39;49m\u001B[43m_next_data\u001B[49m\u001B[43m(\u001B[49m\u001B[43m)\u001B[49m\n\u001B[0;32m    522\u001B[0m \u001B[38;5;28mself\u001B[39m\u001B[38;5;241m.\u001B[39m_num_yielded \u001B[38;5;241m+\u001B[39m\u001B[38;5;241m=\u001B[39m \u001B[38;5;241m1\u001B[39m\n\u001B[0;32m    523\u001B[0m \u001B[38;5;28;01mif\u001B[39;00m \u001B[38;5;28mself\u001B[39m\u001B[38;5;241m.\u001B[39m_dataset_kind \u001B[38;5;241m==\u001B[39m _DatasetKind\u001B[38;5;241m.\u001B[39mIterable \u001B[38;5;129;01mand\u001B[39;00m \\\n\u001B[0;32m    524\u001B[0m         \u001B[38;5;28mself\u001B[39m\u001B[38;5;241m.\u001B[39m_IterableDataset_len_called \u001B[38;5;129;01mis\u001B[39;00m \u001B[38;5;129;01mnot\u001B[39;00m \u001B[38;5;28;01mNone\u001B[39;00m \u001B[38;5;129;01mand\u001B[39;00m \\\n\u001B[0;32m    525\u001B[0m         \u001B[38;5;28mself\u001B[39m\u001B[38;5;241m.\u001B[39m_num_yielded \u001B[38;5;241m>\u001B[39m \u001B[38;5;28mself\u001B[39m\u001B[38;5;241m.\u001B[39m_IterableDataset_len_called:\n",
      "File \u001B[1;32md:\\mlp\\machinelearning\\venv\\lib\\site-packages\\torch\\utils\\data\\dataloader.py:561\u001B[0m, in \u001B[0;36m_SingleProcessDataLoaderIter._next_data\u001B[1;34m(self)\u001B[0m\n\u001B[0;32m    559\u001B[0m \u001B[38;5;28;01mdef\u001B[39;00m \u001B[38;5;21m_next_data\u001B[39m(\u001B[38;5;28mself\u001B[39m):\n\u001B[0;32m    560\u001B[0m     index \u001B[38;5;241m=\u001B[39m \u001B[38;5;28mself\u001B[39m\u001B[38;5;241m.\u001B[39m_next_index()  \u001B[38;5;66;03m# may raise StopIteration\u001B[39;00m\n\u001B[1;32m--> 561\u001B[0m     data \u001B[38;5;241m=\u001B[39m \u001B[38;5;28;43mself\u001B[39;49m\u001B[38;5;241;43m.\u001B[39;49m\u001B[43m_dataset_fetcher\u001B[49m\u001B[38;5;241;43m.\u001B[39;49m\u001B[43mfetch\u001B[49m\u001B[43m(\u001B[49m\u001B[43mindex\u001B[49m\u001B[43m)\u001B[49m  \u001B[38;5;66;03m# may raise StopIteration\u001B[39;00m\n\u001B[0;32m    562\u001B[0m     \u001B[38;5;28;01mif\u001B[39;00m \u001B[38;5;28mself\u001B[39m\u001B[38;5;241m.\u001B[39m_pin_memory:\n\u001B[0;32m    563\u001B[0m         data \u001B[38;5;241m=\u001B[39m _utils\u001B[38;5;241m.\u001B[39mpin_memory\u001B[38;5;241m.\u001B[39mpin_memory(data)\n",
      "File \u001B[1;32md:\\mlp\\machinelearning\\venv\\lib\\site-packages\\torch\\utils\\data\\_utils\\fetch.py:49\u001B[0m, in \u001B[0;36m_MapDatasetFetcher.fetch\u001B[1;34m(self, possibly_batched_index)\u001B[0m\n\u001B[0;32m     47\u001B[0m \u001B[38;5;28;01mdef\u001B[39;00m \u001B[38;5;21mfetch\u001B[39m(\u001B[38;5;28mself\u001B[39m, possibly_batched_index):\n\u001B[0;32m     48\u001B[0m     \u001B[38;5;28;01mif\u001B[39;00m \u001B[38;5;28mself\u001B[39m\u001B[38;5;241m.\u001B[39mauto_collation:\n\u001B[1;32m---> 49\u001B[0m         data \u001B[38;5;241m=\u001B[39m [\u001B[38;5;28mself\u001B[39m\u001B[38;5;241m.\u001B[39mdataset[idx] \u001B[38;5;28;01mfor\u001B[39;00m idx \u001B[38;5;129;01min\u001B[39;00m possibly_batched_index]\n\u001B[0;32m     50\u001B[0m     \u001B[38;5;28;01melse\u001B[39;00m:\n\u001B[0;32m     51\u001B[0m         data \u001B[38;5;241m=\u001B[39m \u001B[38;5;28mself\u001B[39m\u001B[38;5;241m.\u001B[39mdataset[possibly_batched_index]\n",
      "File \u001B[1;32md:\\mlp\\machinelearning\\venv\\lib\\site-packages\\torch\\utils\\data\\_utils\\fetch.py:49\u001B[0m, in \u001B[0;36m<listcomp>\u001B[1;34m(.0)\u001B[0m\n\u001B[0;32m     47\u001B[0m \u001B[38;5;28;01mdef\u001B[39;00m \u001B[38;5;21mfetch\u001B[39m(\u001B[38;5;28mself\u001B[39m, possibly_batched_index):\n\u001B[0;32m     48\u001B[0m     \u001B[38;5;28;01mif\u001B[39;00m \u001B[38;5;28mself\u001B[39m\u001B[38;5;241m.\u001B[39mauto_collation:\n\u001B[1;32m---> 49\u001B[0m         data \u001B[38;5;241m=\u001B[39m [\u001B[38;5;28;43mself\u001B[39;49m\u001B[38;5;241;43m.\u001B[39;49m\u001B[43mdataset\u001B[49m\u001B[43m[\u001B[49m\u001B[43midx\u001B[49m\u001B[43m]\u001B[49m \u001B[38;5;28;01mfor\u001B[39;00m idx \u001B[38;5;129;01min\u001B[39;00m possibly_batched_index]\n\u001B[0;32m     50\u001B[0m     \u001B[38;5;28;01melse\u001B[39;00m:\n\u001B[0;32m     51\u001B[0m         data \u001B[38;5;241m=\u001B[39m \u001B[38;5;28mself\u001B[39m\u001B[38;5;241m.\u001B[39mdataset[possibly_batched_index]\n",
      "Input \u001B[1;32mIn [20]\u001B[0m, in \u001B[0;36mCustomDataset.__getitem__\u001B[1;34m(self, item)\u001B[0m\n\u001B[0;32m     13\u001B[0m transform_probability \u001B[38;5;241m=\u001B[39m \u001B[38;5;28mself\u001B[39m\u001B[38;5;241m.\u001B[39mtransform_probs[image_label] \u001B[38;5;28;01mif\u001B[39;00m \u001B[38;5;28mself\u001B[39m\u001B[38;5;241m.\u001B[39mtrain \u001B[38;5;28;01melse\u001B[39;00m \u001B[38;5;241m0\u001B[39m\n\u001B[0;32m     14\u001B[0m transformation \u001B[38;5;241m=\u001B[39m transforms\u001B[38;5;241m.\u001B[39mCompose(\n\u001B[0;32m     15\u001B[0m     [\n\u001B[0;32m     16\u001B[0m         transforms\u001B[38;5;241m.\u001B[39mToTensor(),\n\u001B[1;32m   (...)\u001B[0m\n\u001B[0;32m     22\u001B[0m     ]\n\u001B[0;32m     23\u001B[0m )\n\u001B[1;32m---> 24\u001B[0m image \u001B[38;5;241m=\u001B[39m \u001B[43mtransformation\u001B[49m\u001B[43m(\u001B[49m\u001B[43mimage\u001B[49m\u001B[43m)\u001B[49m\n\u001B[0;32m     25\u001B[0m \u001B[38;5;28;01mreturn\u001B[39;00m image, image_label\n",
      "File \u001B[1;32md:\\mlp\\machinelearning\\venv\\lib\\site-packages\\torchvision\\transforms\\transforms.py:61\u001B[0m, in \u001B[0;36mCompose.__call__\u001B[1;34m(self, img)\u001B[0m\n\u001B[0;32m     59\u001B[0m \u001B[38;5;28;01mdef\u001B[39;00m \u001B[38;5;21m__call__\u001B[39m(\u001B[38;5;28mself\u001B[39m, img):\n\u001B[0;32m     60\u001B[0m     \u001B[38;5;28;01mfor\u001B[39;00m t \u001B[38;5;129;01min\u001B[39;00m \u001B[38;5;28mself\u001B[39m\u001B[38;5;241m.\u001B[39mtransforms:\n\u001B[1;32m---> 61\u001B[0m         img \u001B[38;5;241m=\u001B[39m \u001B[43mt\u001B[49m\u001B[43m(\u001B[49m\u001B[43mimg\u001B[49m\u001B[43m)\u001B[49m\n\u001B[0;32m     62\u001B[0m     \u001B[38;5;28;01mreturn\u001B[39;00m img\n",
      "File \u001B[1;32md:\\mlp\\machinelearning\\venv\\lib\\site-packages\\torchvision\\transforms\\transforms.py:98\u001B[0m, in \u001B[0;36mToTensor.__call__\u001B[1;34m(self, pic)\u001B[0m\n\u001B[0;32m     90\u001B[0m \u001B[38;5;28;01mdef\u001B[39;00m \u001B[38;5;21m__call__\u001B[39m(\u001B[38;5;28mself\u001B[39m, pic):\n\u001B[0;32m     91\u001B[0m     \u001B[38;5;124;03m\"\"\"\u001B[39;00m\n\u001B[0;32m     92\u001B[0m \u001B[38;5;124;03m    Args:\u001B[39;00m\n\u001B[0;32m     93\u001B[0m \u001B[38;5;124;03m        pic (PIL Image or numpy.ndarray): Image to be converted to tensor.\u001B[39;00m\n\u001B[1;32m   (...)\u001B[0m\n\u001B[0;32m     96\u001B[0m \u001B[38;5;124;03m        Tensor: Converted image.\u001B[39;00m\n\u001B[0;32m     97\u001B[0m \u001B[38;5;124;03m    \"\"\"\u001B[39;00m\n\u001B[1;32m---> 98\u001B[0m     \u001B[38;5;28;01mreturn\u001B[39;00m \u001B[43mF\u001B[49m\u001B[38;5;241;43m.\u001B[39;49m\u001B[43mto_tensor\u001B[49m\u001B[43m(\u001B[49m\u001B[43mpic\u001B[49m\u001B[43m)\u001B[49m\n",
      "File \u001B[1;32md:\\mlp\\machinelearning\\venv\\lib\\site-packages\\torchvision\\transforms\\functional.py:141\u001B[0m, in \u001B[0;36mto_tensor\u001B[1;34m(pic)\u001B[0m\n\u001B[0;32m    138\u001B[0m \u001B[38;5;66;03m# handle PIL Image\u001B[39;00m\n\u001B[0;32m    139\u001B[0m mode_to_nptype \u001B[38;5;241m=\u001B[39m {\u001B[38;5;124m'\u001B[39m\u001B[38;5;124mI\u001B[39m\u001B[38;5;124m'\u001B[39m: np\u001B[38;5;241m.\u001B[39mint32, \u001B[38;5;124m'\u001B[39m\u001B[38;5;124mI;16\u001B[39m\u001B[38;5;124m'\u001B[39m: np\u001B[38;5;241m.\u001B[39mint16, \u001B[38;5;124m'\u001B[39m\u001B[38;5;124mF\u001B[39m\u001B[38;5;124m'\u001B[39m: np\u001B[38;5;241m.\u001B[39mfloat32}\n\u001B[0;32m    140\u001B[0m img \u001B[38;5;241m=\u001B[39m torch\u001B[38;5;241m.\u001B[39mfrom_numpy(\n\u001B[1;32m--> 141\u001B[0m     \u001B[43mnp\u001B[49m\u001B[38;5;241;43m.\u001B[39;49m\u001B[43marray\u001B[49m\u001B[43m(\u001B[49m\u001B[43mpic\u001B[49m\u001B[43m,\u001B[49m\u001B[43m \u001B[49m\u001B[43mmode_to_nptype\u001B[49m\u001B[38;5;241;43m.\u001B[39;49m\u001B[43mget\u001B[49m\u001B[43m(\u001B[49m\u001B[43mpic\u001B[49m\u001B[38;5;241;43m.\u001B[39;49m\u001B[43mmode\u001B[49m\u001B[43m,\u001B[49m\u001B[43m \u001B[49m\u001B[43mnp\u001B[49m\u001B[38;5;241;43m.\u001B[39;49m\u001B[43muint8\u001B[49m\u001B[43m)\u001B[49m\u001B[43m,\u001B[49m\u001B[43m \u001B[49m\u001B[43mcopy\u001B[49m\u001B[38;5;241;43m=\u001B[39;49m\u001B[38;5;28;43;01mTrue\u001B[39;49;00m\u001B[43m)\u001B[49m\n\u001B[0;32m    142\u001B[0m )\n\u001B[0;32m    144\u001B[0m \u001B[38;5;28;01mif\u001B[39;00m pic\u001B[38;5;241m.\u001B[39mmode \u001B[38;5;241m==\u001B[39m \u001B[38;5;124m'\u001B[39m\u001B[38;5;124m1\u001B[39m\u001B[38;5;124m'\u001B[39m:\n\u001B[0;32m    145\u001B[0m     img \u001B[38;5;241m=\u001B[39m \u001B[38;5;241m255\u001B[39m \u001B[38;5;241m*\u001B[39m img\n",
      "File \u001B[1;32md:\\mlp\\machinelearning\\venv\\lib\\site-packages\\PIL\\Image.py:675\u001B[0m, in \u001B[0;36mImage.__array__\u001B[1;34m(self, dtype)\u001B[0m\n\u001B[0;32m    673\u001B[0m     new[\u001B[38;5;124m\"\u001B[39m\u001B[38;5;124mdata\u001B[39m\u001B[38;5;124m\"\u001B[39m] \u001B[38;5;241m=\u001B[39m \u001B[38;5;28mself\u001B[39m\u001B[38;5;241m.\u001B[39mtobytes(\u001B[38;5;124m\"\u001B[39m\u001B[38;5;124mraw\u001B[39m\u001B[38;5;124m\"\u001B[39m, \u001B[38;5;124m\"\u001B[39m\u001B[38;5;124mL\u001B[39m\u001B[38;5;124m\"\u001B[39m)\n\u001B[0;32m    674\u001B[0m \u001B[38;5;28;01melse\u001B[39;00m:\n\u001B[1;32m--> 675\u001B[0m     new[\u001B[38;5;124m\"\u001B[39m\u001B[38;5;124mdata\u001B[39m\u001B[38;5;124m\"\u001B[39m] \u001B[38;5;241m=\u001B[39m \u001B[38;5;28;43mself\u001B[39;49m\u001B[38;5;241;43m.\u001B[39;49m\u001B[43mtobytes\u001B[49m\u001B[43m(\u001B[49m\u001B[43m)\u001B[49m\n\u001B[0;32m    677\u001B[0m \u001B[38;5;28;01mreturn\u001B[39;00m np\u001B[38;5;241m.\u001B[39marray(\u001B[38;5;28mself\u001B[39m\u001B[38;5;241m.\u001B[39m_ArrayData(new), dtype)\n",
      "File \u001B[1;32md:\\mlp\\machinelearning\\venv\\lib\\site-packages\\PIL\\Image.py:718\u001B[0m, in \u001B[0;36mImage.tobytes\u001B[1;34m(self, encoder_name, *args)\u001B[0m\n\u001B[0;32m    715\u001B[0m \u001B[38;5;28;01mif\u001B[39;00m encoder_name \u001B[38;5;241m==\u001B[39m \u001B[38;5;124m\"\u001B[39m\u001B[38;5;124mraw\u001B[39m\u001B[38;5;124m\"\u001B[39m \u001B[38;5;129;01mand\u001B[39;00m args \u001B[38;5;241m==\u001B[39m ():\n\u001B[0;32m    716\u001B[0m     args \u001B[38;5;241m=\u001B[39m \u001B[38;5;28mself\u001B[39m\u001B[38;5;241m.\u001B[39mmode\n\u001B[1;32m--> 718\u001B[0m \u001B[38;5;28;43mself\u001B[39;49m\u001B[38;5;241;43m.\u001B[39;49m\u001B[43mload\u001B[49m\u001B[43m(\u001B[49m\u001B[43m)\u001B[49m\n\u001B[0;32m    720\u001B[0m \u001B[38;5;66;03m# unpack data\u001B[39;00m\n\u001B[0;32m    721\u001B[0m e \u001B[38;5;241m=\u001B[39m _getencoder(\u001B[38;5;28mself\u001B[39m\u001B[38;5;241m.\u001B[39mmode, encoder_name, args)\n",
      "File \u001B[1;32md:\\mlp\\machinelearning\\venv\\lib\\site-packages\\PIL\\ImageFile.py:253\u001B[0m, in \u001B[0;36mImageFile.load\u001B[1;34m(self)\u001B[0m\n\u001B[0;32m    247\u001B[0m         \u001B[38;5;28;01mraise\u001B[39;00m \u001B[38;5;167;01mOSError\u001B[39;00m(\n\u001B[0;32m    248\u001B[0m             \u001B[38;5;124m\"\u001B[39m\u001B[38;5;124mimage file is truncated \u001B[39m\u001B[38;5;124m\"\u001B[39m\n\u001B[0;32m    249\u001B[0m             \u001B[38;5;124mf\u001B[39m\u001B[38;5;124m\"\u001B[39m\u001B[38;5;124m(\u001B[39m\u001B[38;5;132;01m{\u001B[39;00m\u001B[38;5;28mlen\u001B[39m(b)\u001B[38;5;132;01m}\u001B[39;00m\u001B[38;5;124m bytes not processed)\u001B[39m\u001B[38;5;124m\"\u001B[39m\n\u001B[0;32m    250\u001B[0m         )\n\u001B[0;32m    252\u001B[0m b \u001B[38;5;241m=\u001B[39m b \u001B[38;5;241m+\u001B[39m s\n\u001B[1;32m--> 253\u001B[0m n, err_code \u001B[38;5;241m=\u001B[39m \u001B[43mdecoder\u001B[49m\u001B[38;5;241;43m.\u001B[39;49m\u001B[43mdecode\u001B[49m\u001B[43m(\u001B[49m\u001B[43mb\u001B[49m\u001B[43m)\u001B[49m\n\u001B[0;32m    254\u001B[0m \u001B[38;5;28;01mif\u001B[39;00m n \u001B[38;5;241m<\u001B[39m \u001B[38;5;241m0\u001B[39m:\n\u001B[0;32m    255\u001B[0m     \u001B[38;5;28;01mbreak\u001B[39;00m\n",
      "\u001B[1;31mKeyboardInterrupt\u001B[0m: "
     ]
    }
   ],
   "source": [
    "train_model(vgg16, num_epochs, loss_function, optimizer, scheduler, train_dataloader, test_dataloader)"
   ]
  },
  {
   "cell_type": "markdown",
   "metadata": {
    "pycharm": {
     "name": "#%% md\n"
    }
   },
   "source": [
    "Просмотр результатов обучения модели"
   ]
  },
  {
   "cell_type": "code",
   "execution_count": 30,
   "metadata": {
    "pycharm": {
     "name": "#%%\n"
    }
   },
   "outputs": [],
   "source": [
    "vgg16.train(False)\n",
    "torch.save(vgg16.state_dict(), 'vgg16.pth')"
   ]
  },
  {
   "cell_type": "code",
   "execution_count": 31,
   "metadata": {
    "pycharm": {
     "name": "#%%\n"
    }
   },
   "outputs": [
    {
     "name": "stderr",
     "output_type": "stream",
     "text": [
      "100%|██████████| 8/8 [00:13<00:00,  1.66s/it]\n"
     ]
    }
   ],
   "source": [
    "preds = []\n",
    "real = []\n",
    "for x, y in tqdm(test_dataloader):\n",
    "    with torch.no_grad():\n",
    "        preds.append(vgg16.forward(x.to(device)).detach().cpu().numpy())\n",
    "        real.append(y.numpy())"
   ]
  },
  {
   "cell_type": "code",
   "execution_count": 32,
   "metadata": {
    "pycharm": {
     "name": "#%%\n"
    }
   },
   "outputs": [],
   "source": [
    "final_preds = np.concatenate(preds).argmax(axis=1)\n",
    "real = np.concatenate(real)"
   ]
  },
  {
   "cell_type": "code",
   "execution_count": 33,
   "metadata": {
    "pycharm": {
     "name": "#%%\n"
    }
   },
   "outputs": [
    {
     "data": {
      "text/plain": [
       "0"
      ]
     },
     "execution_count": 33,
     "metadata": {},
     "output_type": "execute_result"
    }
   ],
   "source": [
    "final_preds.min()"
   ]
  },
  {
   "cell_type": "code",
   "execution_count": 34,
   "metadata": {
    "pycharm": {
     "name": "#%%\n"
    }
   },
   "outputs": [
    {
     "name": "stdout",
     "output_type": "stream",
     "text": [
      "              precision    recall  f1-score   support\n",
      "\n",
      "           0       0.58      0.50      0.54        72\n",
      "           1       0.61      0.61      0.61        98\n",
      "           2       0.45      0.63      0.52       204\n",
      "           3       0.42      0.48      0.45        23\n",
      "           4       0.44      0.58      0.50       243\n",
      "           5       0.92      0.81      0.86      1336\n",
      "           6       0.79      0.70      0.75        27\n",
      "\n",
      "    accuracy                           0.74      2003\n",
      "   macro avg       0.60      0.62      0.60      2003\n",
      "weighted avg       0.78      0.74      0.75      2003\n",
      "\n"
     ]
    }
   ],
   "source": [
    "print(classification_report(real, final_preds))"
   ]
  },
  {
   "cell_type": "markdown",
   "metadata": {
    "pycharm": {
     "name": "#%% md\n"
    }
   },
   "source": [
    "### Реализуем собственную модель"
   ]
  },
  {
   "cell_type": "markdown",
   "metadata": {
    "pycharm": {
     "name": "#%% md\n"
    }
   },
   "source": [
    "Распишем собственную модель"
   ]
  },
  {
   "cell_type": "code",
   "execution_count": 5,
   "metadata": {
    "pycharm": {
     "name": "#%%\n"
    }
   },
   "outputs": [],
   "source": [
    "class custom_model(nn.Module):\n",
    "    def __init__(self, num_classes=7, img_size=32, in_channels=3, num_blocks=4):\n",
    "        super(custom_model, self).__init__()\n",
    "        self.network = nn.Sequential(\n",
    "            nn.Conv2d(in_channels=in_channels, out_channels=8, kernel_size=3, padding=1),\n",
    "            nn.MaxPool2d(kernel_size=2),\n",
    "            nn.ReLU(),\n",
    "            nn.BatchNorm2d(8),\n",
    "            nn.Conv2d(in_channels=8, out_channels=16, kernel_size=3, padding=1),\n",
    "            nn.MaxPool2d(kernel_size=2),\n",
    "            nn.ReLU(),\n",
    "            nn.BatchNorm2d(16),\n",
    "            nn.Conv2d(in_channels=16, out_channels=32, kernel_size=8, padding=0),\n",
    "            nn.Flatten(),\n",
    "            nn.Linear(32, num_classes)\n",
    "        )\n",
    "\n",
    "    def forward(self, x):\n",
    "        return self.network(x)"
   ]
  },
  {
   "cell_type": "markdown",
   "metadata": {
    "pycharm": {
     "name": "#%% md\n"
    }
   },
   "source": [
    "Проверка работоспособности"
   ]
  },
  {
   "cell_type": "code",
   "execution_count": 37,
   "metadata": {
    "pycharm": {
     "name": "#%%\n"
    }
   },
   "outputs": [
    {
     "data": {
      "text/plain": [
       "torch.Size([3, 7])"
      ]
     },
     "execution_count": 37,
     "metadata": {},
     "output_type": "execute_result"
    }
   ],
   "source": [
    "custom_model().forward(torch.ones(3, 3, 32, 32)).shape"
   ]
  },
  {
   "cell_type": "markdown",
   "metadata": {
    "pycharm": {
     "name": "#%% md\n"
    }
   },
   "source": [
    "Обучения модели"
   ]
  },
  {
   "cell_type": "code",
   "execution_count": 41,
   "metadata": {
    "pycharm": {
     "name": "#%%\n"
    }
   },
   "outputs": [],
   "source": [
    "my_model = custom_model().to(device)"
   ]
  },
  {
   "cell_type": "code",
   "execution_count": 42,
   "metadata": {
    "pycharm": {
     "name": "#%%\n"
    }
   },
   "outputs": [],
   "source": [
    "all_train_losses = []\n",
    "all_test_losses = []\n",
    "num_epochs = 3\n",
    "lr = 1e-3\n",
    "optimizer2 = Adam(my_model.parameters(), lr=lr)\n",
    "scheduler2 = ReduceLROnPlateau(optimizer=optimizer2, factor=0.5, patience=2, threshold=1e-3)"
   ]
  },
  {
   "cell_type": "code",
   "execution_count": 43,
   "metadata": {
    "pycharm": {
     "name": "#%%\n"
    }
   },
   "outputs": [
    {
     "name": "stdout",
     "output_type": "stream",
     "text": [
      "loss train 0.6893945291434251\n",
      "loss test 1.0615056455135345\n"
     ]
    },
    {
     "data": {
      "image/png": "[encoded data removed]",
      "text/plain": [
       "<Figure size 720x432 with 1 Axes>"
      ]
     },
     "metadata": {
      "needs_background": "light"
     },
     "output_type": "display_data"
    }
   ],
   "source": [
    "train_model(my_model, num_epochs, loss_function, optimizer2, scheduler2, train_dataloader, test_dataloader)"
   ]
  },
  {
   "cell_type": "markdown",
   "metadata": {
    "pycharm": {
     "name": "#%% md\n"
    }
   },
   "source": [
    "Видно переобучение уже на третьей эпохе"
   ]
  },
  {
   "cell_type": "markdown",
   "metadata": {
    "pycharm": {
     "name": "#%% md\n"
    }
   },
   "source": [
    "Получение результатов"
   ]
  },
  {
   "cell_type": "code",
   "execution_count": 44,
   "metadata": {
    "pycharm": {
     "name": "#%%\n"
    }
   },
   "outputs": [
    {
     "name": "stderr",
     "output_type": "stream",
     "text": [
      "100%|██████████| 8/8 [00:12<00:00,  1.58s/it]\n"
     ]
    }
   ],
   "source": [
    "preds = []\n",
    "real = []\n",
    "for x, y in tqdm(test_dataloader):\n",
    "    with torch.no_grad():\n",
    "        preds.append(my_model.forward(x.to(device)).detach().cpu().numpy())\n",
    "        real.append(y.numpy())"
   ]
  },
  {
   "cell_type": "code",
   "execution_count": 45,
   "metadata": {
    "pycharm": {
     "name": "#%%\n"
    }
   },
   "outputs": [],
   "source": [
    "final_preds = np.concatenate(preds).argmax(axis=1)\n",
    "real = np.concatenate(real)"
   ]
  },
  {
   "cell_type": "code",
   "execution_count": 46,
   "metadata": {
    "pycharm": {
     "name": "#%%\n"
    }
   },
   "outputs": [
    {
     "name": "stdout",
     "output_type": "stream",
     "text": [
      "              precision    recall  f1-score   support\n",
      "\n",
      "           0       0.28      0.32      0.30        72\n",
      "           1       0.30      0.60      0.40        98\n",
      "           2       0.34      0.55      0.42       204\n",
      "           3       0.07      0.39      0.13        23\n",
      "           4       0.37      0.45      0.41       243\n",
      "           5       0.94      0.65      0.77      1336\n",
      "           6       0.36      0.81      0.50        27\n",
      "\n",
      "    accuracy                           0.60      2003\n",
      "   macro avg       0.38      0.54      0.42      2003\n",
      "weighted avg       0.74      0.60      0.64      2003\n",
      "\n"
     ]
    }
   ],
   "source": [
    "print(classification_report(real, final_preds))"
   ]
  },
  {
   "cell_type": "markdown",
   "metadata": {
    "pycharm": {
     "name": "#%% md\n"
    }
   },
   "source": [
    "Видно, что модель работает хуже, чем vgg16"
   ]
  },
  {
   "cell_type": "code",
   "execution_count": 47,
   "metadata": {
    "pycharm": {
     "name": "#%%\n"
    }
   },
   "outputs": [],
   "source": [
    "torch.save(my_model.state_dict(), 'my_model.pth')"
   ]
  },
  {
   "cell_type": "markdown",
   "metadata": {
    "pycharm": {
     "name": "#%% md\n"
    }
   },
   "source": [
    "### Попробуем дистиллировать знания из vgg в мою кастомную предобученную модель"
   ]
  },
  {
   "cell_type": "markdown",
   "metadata": {
    "pycharm": {
     "name": "#%% md\n"
    }
   },
   "source": [
    "Получим пердсказания всего обучающего набора данных на трейн части"
   ]
  },
  {
   "cell_type": "code",
   "execution_count": 54,
   "metadata": {
    "pycharm": {
     "name": "#%%\n"
    }
   },
   "outputs": [
    {
     "name": "stderr",
     "output_type": "stream",
     "text": [
      "100%|██████████| 147/147 [03:52<00:00,  1.58s/it]\n"
     ]
    }
   ],
   "source": [
    "train_dataset2 = CustomDataset(X_train, y_train, transform_probability_dict, train=False)\n",
    "train_dataloader2 = DataLoader(train_dataset2, batch_size=batch_size, shuffle=False, drop_last=False)\n",
    "preds = []\n",
    "real = []\n",
    "for x, y in tqdm(train_dataloader2):\n",
    "    with torch.no_grad():\n",
    "        preds.append(vgg16.forward(x.to(device)).detach().cpu().numpy())\n",
    "        real.append(y.numpy())"
   ]
  },
  {
   "cell_type": "code",
   "execution_count": 56,
   "metadata": {
    "pycharm": {
     "name": "#%%\n"
    }
   },
   "outputs": [
    {
     "data": {
      "text/plain": [
       "37583"
      ]
     },
     "execution_count": 56,
     "metadata": {},
     "output_type": "execute_result"
    }
   ],
   "source": [
    "len(X_train)"
   ]
  },
  {
   "cell_type": "markdown",
   "metadata": {
    "pycharm": {
     "name": "#%% md\n"
    }
   },
   "source": [
    "Сохраним все наборы данных, например для будущих дистилляций"
   ]
  },
  {
   "cell_type": "code",
   "execution_count": 57,
   "metadata": {
    "pycharm": {
     "name": "#%%\n"
    }
   },
   "outputs": [],
   "source": [
    "np.save('distil.npy', np.concatenate(preds))"
   ]
  },
  {
   "cell_type": "code",
   "execution_count": 58,
   "metadata": {
    "pycharm": {
     "name": "#%%\n"
    }
   },
   "outputs": [],
   "source": [
    "np.save('train_paths.npy', X_train)"
   ]
  },
  {
   "cell_type": "code",
   "execution_count": 59,
   "metadata": {
    "pycharm": {
     "name": "#%%\n"
    }
   },
   "outputs": [],
   "source": [
    "np.save('test_paths.npy', X_test)"
   ]
  },
  {
   "cell_type": "code",
   "execution_count": 60,
   "metadata": {
    "pycharm": {
     "name": "#%%\n"
    }
   },
   "outputs": [],
   "source": [
    "np.save('test_labels.npy', y_test)"
   ]
  },
  {
   "cell_type": "markdown",
   "metadata": {
    "pycharm": {
     "name": "#%% md\n"
    }
   },
   "source": [
    "Напишем собственный датасет, у которого в качестве выхода будут логиты vgg16"
   ]
  },
  {
   "cell_type": "code",
   "execution_count": 64,
   "metadata": {
    "pycharm": {
     "name": "#%%\n"
    }
   },
   "outputs": [],
   "source": [
    "class CustomLogitsDataset(Dataset):\n",
    "    def __init__(self, images_paths, image_labels, transform_probs, train=True):\n",
    "        self.paths = images_paths\n",
    "        self.labels = torch.tensor(image_labels)\n",
    "        self.train = train\n",
    "    def __len__(self):\n",
    "        return len(self.paths)\n",
    "    def __getitem__(self, item):\n",
    "        image_name = self.paths[item]\n",
    "        image_label = torch.tensor(self.labels[item])\n",
    "        image = Image.open(f'D:\\mlp\\MachineLearning\\MADMO_2nd_homework\\merged_data\\{image_name}.jpg')\n",
    "        transformation = transforms.Compose(\n",
    "            [\n",
    "                transforms.ToTensor(),\n",
    "                transforms.Resize((32, 32)),\n",
    "                transforms.Normalize(mean=(0.485, 0.456, 0.406),\n",
    "                                     std=(0.229, 0.224, 0.225)),\n",
    "                transforms.RandomHorizontalFlip(p=0.5),\n",
    "                transforms.RandomVerticalFlip(p=0.5)\n",
    "            ]\n",
    "        )\n",
    "        image = transformation(image)\n",
    "        return image, image_label"
   ]
  },
  {
   "cell_type": "markdown",
   "metadata": {
    "pycharm": {
     "name": "#%% md\n"
    }
   },
   "source": [
    "Сделаем новый даталоадер для модели с логитами. В обучающую функцию надо передать также и тест даталоадер, поэтому была создана обычная заглушка, в которой почти нет данных"
   ]
  },
  {
   "cell_type": "code",
   "execution_count": 77,
   "metadata": {
    "pycharm": {
     "name": "#%%\n"
    }
   },
   "outputs": [],
   "source": [
    "train_dataset_logits = CustomLogitsDataset(X_train,  np.concatenate(preds), transform_probability_dict, train=True)\n",
    "train_dataloader_logits = DataLoader(train_dataset_logits, batch_size=batch_size, shuffle=True, drop_last=True)\n",
    "\n",
    "dataset_zaglushka = CustomLogitsDataset(X_train[:3],  np.concatenate(preds)[:3], transform_probability_dict, train=True)\n",
    "dataloader_zaglushka = DataLoader(dataset_zaglushka, batch_size=batch_size, shuffle=True, drop_last=True)"
   ]
  },
  {
   "cell_type": "markdown",
   "metadata": {
    "pycharm": {
     "name": "#%% md\n"
    }
   },
   "source": [
    "Распишем функцию потерь для дистилляции"
   ]
  },
  {
   "cell_type": "code",
   "execution_count": 78,
   "metadata": {
    "pycharm": {
     "name": "#%%\n"
    }
   },
   "outputs": [],
   "source": [
    "def kl_loss_function(preds, true):\n",
    "    softmax= nn.Softmax()\n",
    "    loss = nn.KLDivLoss()\n",
    "    return loss(softmax(preds), softmax(true))"
   ]
  },
  {
   "cell_type": "markdown",
   "metadata": {
    "pycharm": {
     "name": "#%% md\n"
    }
   },
   "source": [
    "Дистиллируем модель"
   ]
  },
  {
   "cell_type": "code",
   "execution_count": 81,
   "metadata": {
    "pycharm": {
     "name": "#%%\n"
    }
   },
   "outputs": [
    {
     "name": "stdout",
     "output_type": "stream",
     "text": [
      "loss train -0.11382891998103215\n",
      "loss test 0\n"
     ]
    },
    {
     "data": {
      "image/png": "[encoded data removed]",
      "text/plain": [
       "<Figure size 720x432 with 1 Axes>"
      ]
     },
     "metadata": {
      "needs_background": "light"
     },
     "output_type": "display_data"
    }
   ],
   "source": [
    "all_train_losses = []\n",
    "all_test_losses = []\n",
    "num_epochs = 3\n",
    "lr = 1e-4\n",
    "optimizer_distill = Adam(my_model.parameters(), lr=lr)\n",
    "scheduler_distill = ReduceLROnPlateau(optimizer=optimizer_distill, factor=0.5, patience=2, threshold=1e-3)\n",
    "train_model(my_model, num_epochs, kl_loss_function, optimizer_distill, scheduler_distill, train_dataloader_logits, dataloader_zaglushka)"
   ]
  },
  {
   "cell_type": "markdown",
   "metadata": {
    "pycharm": {
     "name": "#%% md\n"
    }
   },
   "source": [
    "Сохраним дистиллированную модель"
   ]
  },
  {
   "cell_type": "code",
   "execution_count": 82,
   "metadata": {
    "pycharm": {
     "name": "#%%\n"
    }
   },
   "outputs": [],
   "source": [
    "torch.save(my_model.state_dict(), 'my_model_distilled.pth')"
   ]
  },
  {
   "cell_type": "markdown",
   "metadata": {
    "pycharm": {
     "name": "#%% md\n"
    }
   },
   "source": [
    "Посмотрим на результаты работы модели после дистиляции занний в нее"
   ]
  },
  {
   "cell_type": "code",
   "execution_count": 83,
   "metadata": {
    "pycharm": {
     "name": "#%%\n"
    }
   },
   "outputs": [
    {
     "name": "stderr",
     "output_type": "stream",
     "text": [
      "100%|██████████| 8/8 [00:11<00:00,  1.49s/it]"
     ]
    },
    {
     "name": "stdout",
     "output_type": "stream",
     "text": [
      "              precision    recall  f1-score   support\n",
      "\n",
      "           0       0.28      0.44      0.34        72\n",
      "           1       0.35      0.59      0.44        98\n",
      "           2       0.41      0.55      0.47       204\n",
      "           3       0.17      0.39      0.23        23\n",
      "           4       0.31      0.57      0.40       243\n",
      "           5       0.95      0.63      0.76      1336\n",
      "           6       0.31      0.81      0.44        27\n",
      "\n",
      "    accuracy                           0.60      2003\n",
      "   macro avg       0.40      0.57      0.44      2003\n",
      "weighted avg       0.75      0.60      0.64      2003\n",
      "\n"
     ]
    },
    {
     "name": "stderr",
     "output_type": "stream",
     "text": [
      "\n"
     ]
    }
   ],
   "source": [
    "preds = []\n",
    "real = []\n",
    "for x, y in tqdm(test_dataloader):\n",
    "    with torch.no_grad():\n",
    "        preds.append(my_model.forward(x.to(device)).detach().cpu().numpy())\n",
    "        real.append(y.numpy())\n",
    "final_preds = np.concatenate(preds).argmax(axis=1)\n",
    "real = np.concatenate(real)\n",
    "print(classification_report(real, final_preds))"
   ]
  },
  {
   "cell_type": "markdown",
   "metadata": {
    "pycharm": {
     "name": "#%% md\n"
    }
   },
   "source": [
    "Видно, что модель стала работать лучше"
   ]
  },
  {
   "cell_type": "markdown",
   "metadata": {
    "pycharm": {
     "name": "#%% md\n"
    }
   },
   "source": [
    "### Прунинг модели"
   ]
  },
  {
   "cell_type": "code",
   "execution_count": 2,
   "metadata": {
    "pycharm": {
     "name": "#%%\n"
    }
   },
   "outputs": [],
   "source": [
    "import torch.nn.utils.prune as prune"
   ]
  },
  {
   "cell_type": "code",
   "execution_count": 6,
   "metadata": {
    "pycharm": {
     "name": "#%%\n"
    }
   },
   "outputs": [],
   "source": [
    "device = 'cuda' if torch.cuda.is_available() else 'cpu'"
   ]
  },
  {
   "cell_type": "code",
   "execution_count": 8,
   "metadata": {
    "pycharm": {
     "name": "#%%\n"
    }
   },
   "outputs": [],
   "source": [
    "my_model = custom_model().to(device)"
   ]
  },
  {
   "cell_type": "code",
   "execution_count": 10,
   "metadata": {
    "pycharm": {
     "name": "#%%\n"
    }
   },
   "outputs": [
    {
     "data": {
      "text/plain": [
       "<All keys matched successfully>"
      ]
     },
     "execution_count": 10,
     "metadata": {},
     "output_type": "execute_result"
    }
   ],
   "source": [
    "my_model.load_state_dict(torch.load('my_model_distilled.pth'))"
   ]
  },
  {
   "cell_type": "code",
   "execution_count": 29,
   "metadata": {
    "pycharm": {
     "name": "#%%\n"
    }
   },
   "outputs": [
    {
     "data": {
      "text/plain": [
       "[('network.0.weight',\n",
       "  Parameter containing:\n",
       "  tensor([[[[-1.6450e-01,  7.1729e-02,  3.8232e-02],\n",
       "            [-8.1310e-02,  7.0938e-02,  1.3076e-01],\n",
       "            [ 1.3661e-01, -1.3643e-02,  1.3898e-01]],\n",
       "  \n",
       "           [[-1.1527e-01, -9.0168e-02,  1.4220e-01],\n",
       "            [-8.1381e-02, -1.0638e-01,  2.7900e-02],\n",
       "            [-1.7061e-01, -1.5271e-01, -2.0872e-01]],\n",
       "  \n",
       "           [[ 7.7182e-02,  1.6336e-01, -5.3359e-02],\n",
       "            [-5.8709e-02,  5.5510e-02, -1.7101e-02],\n",
       "            [ 1.6496e-01,  8.4235e-02,  1.6009e-01]]],\n",
       "  \n",
       "  \n",
       "          [[[ 3.1319e-02, -1.5807e-01,  1.4576e-02],\n",
       "            [-7.8010e-03,  9.6179e-02,  1.4549e-01],\n",
       "            [ 1.2192e-01, -1.8322e-01,  1.0095e-01]],\n",
       "  \n",
       "           [[ 1.4442e-01, -1.2513e-01,  1.6564e-01],\n",
       "            [-9.0358e-02, -1.2560e-01,  1.1008e-01],\n",
       "            [-4.2875e-02, -3.2928e-05, -7.4134e-02]],\n",
       "  \n",
       "           [[-5.3963e-02,  1.3545e-02, -2.0425e-02],\n",
       "            [ 6.7547e-02, -1.2748e-01, -1.4219e-01],\n",
       "            [ 2.0199e-01, -1.0996e-01,  1.5671e-01]]],\n",
       "  \n",
       "  \n",
       "          [[[-7.5652e-02, -5.2596e-02,  1.0049e-01],\n",
       "            [ 1.5742e-01,  2.0371e-01,  1.9959e-01],\n",
       "            [ 1.9453e-01, -2.2427e-01,  1.9052e-01]],\n",
       "  \n",
       "           [[ 6.5482e-02, -6.2443e-02, -1.6572e-01],\n",
       "            [ 1.6112e-01,  1.6165e-01,  1.6025e-01],\n",
       "            [-7.8909e-02,  6.9429e-02,  9.7437e-02]],\n",
       "  \n",
       "           [[-9.9945e-02, -2.1963e-02,  5.8668e-02],\n",
       "            [-1.0487e-01,  2.4247e-02,  2.3201e-03],\n",
       "            [ 1.0734e-01,  2.1726e-03,  1.0431e-01]]],\n",
       "  \n",
       "  \n",
       "          [[[-2.1082e-02, -1.5941e-01,  1.2015e-01],\n",
       "            [-9.2034e-02, -1.2686e-01,  5.4896e-02],\n",
       "            [-1.1880e-01,  2.7602e-02, -1.6762e-01]],\n",
       "  \n",
       "           [[ 6.1496e-02,  6.1364e-02,  1.6190e-01],\n",
       "            [ 3.0965e-02, -3.4488e-02,  2.0559e-01],\n",
       "            [-1.2060e-01, -7.5133e-02, -2.7371e-02]],\n",
       "  \n",
       "           [[-1.1532e-01,  1.3672e-01,  1.5972e-01],\n",
       "            [-1.6347e-01, -1.6876e-01,  1.2815e-01],\n",
       "            [-4.7714e-02,  1.1686e-01,  5.0048e-02]]],\n",
       "  \n",
       "  \n",
       "          [[[ 1.1084e-01,  1.9422e-01, -4.7393e-02],\n",
       "            [-8.8142e-02, -1.6340e-02,  1.3050e-01],\n",
       "            [-7.5574e-02,  1.5420e-02, -8.8612e-02]],\n",
       "  \n",
       "           [[-1.4114e-01, -1.8463e-01,  3.6911e-02],\n",
       "            [-1.3479e-01, -9.7916e-02, -8.0170e-02],\n",
       "            [-8.5697e-02, -6.0063e-02,  1.6368e-01]],\n",
       "  \n",
       "           [[-1.8569e-01, -1.8774e-01,  1.0512e-01],\n",
       "            [-1.8515e-01, -2.9493e-02,  1.8687e-02],\n",
       "            [ 1.4316e-01, -7.3404e-02, -5.0304e-02]]],\n",
       "  \n",
       "  \n",
       "          [[[ 8.7481e-03,  6.6078e-02,  4.1279e-02],\n",
       "            [-5.3893e-02,  6.6285e-03, -5.9191e-02],\n",
       "            [-1.9599e-02,  1.3120e-01,  7.7988e-02]],\n",
       "  \n",
       "           [[ 1.3812e-01,  1.0767e-01, -9.3906e-02],\n",
       "            [-1.4500e-01,  5.4685e-03,  3.3502e-02],\n",
       "            [-8.6064e-02,  7.0255e-02, -5.8143e-02]],\n",
       "  \n",
       "           [[ 1.1648e-01, -3.6458e-02,  1.2932e-01],\n",
       "            [ 1.5273e-01,  1.5428e-01, -1.2735e-01],\n",
       "            [-1.2615e-01,  8.1897e-02, -2.0967e-01]]],\n",
       "  \n",
       "  \n",
       "          [[[-1.2954e-01, -5.1593e-02,  9.3552e-02],\n",
       "            [-9.2534e-05, -1.5627e-01, -1.0769e-01],\n",
       "            [-6.8046e-02, -1.7598e-01,  6.3110e-02]],\n",
       "  \n",
       "           [[-1.2277e-01, -2.1685e-01, -5.6540e-02],\n",
       "            [ 3.2082e-02, -6.2077e-02,  1.3954e-01],\n",
       "            [-1.0942e-02,  5.2210e-02,  5.5870e-02]],\n",
       "  \n",
       "           [[-6.0243e-02,  1.4699e-01, -1.3006e-01],\n",
       "            [ 1.1457e-01,  7.2163e-02,  1.9467e-01],\n",
       "            [ 1.3556e-04,  3.8140e-02, -5.8765e-02]]],\n",
       "  \n",
       "  \n",
       "          [[[ 7.8231e-02, -5.2384e-02, -1.1796e-01],\n",
       "            [-1.8787e-01, -1.2941e-01,  1.9455e-01],\n",
       "            [ 7.9154e-02, -2.8448e-02, -3.9811e-02]],\n",
       "  \n",
       "           [[ 8.1678e-02, -6.1855e-02,  1.3151e-01],\n",
       "            [ 1.8058e-01,  1.0802e-01,  1.7937e-01],\n",
       "            [-1.1509e-03,  5.1318e-02, -7.4538e-02]],\n",
       "  \n",
       "           [[ 5.1834e-02,  4.6626e-02,  1.3375e-01],\n",
       "            [ 8.3714e-02, -1.7317e-01, -1.3955e-01],\n",
       "            [-9.0498e-02,  1.2100e-01, -1.2036e-01]]]], device='cuda:0',\n",
       "         requires_grad=True)),\n",
       " ('network.0.bias',\n",
       "  Parameter containing:\n",
       "  tensor([-0.0959, -0.0240,  0.0940,  0.1523,  0.0888, -0.1228,  0.1682,  0.1842],\n",
       "         device='cuda:0', requires_grad=True)),\n",
       " ('network.3.weight',\n",
       "  Parameter containing:\n",
       "  tensor([1.0290, 0.9751, 1.0030, 0.9759, 1.0110, 0.9920, 0.9636, 1.0115],\n",
       "         device='cuda:0', requires_grad=True)),\n",
       " ('network.3.bias',\n",
       "  Parameter containing:\n",
       "  tensor([-0.0564,  0.0591, -0.0702,  0.0546, -0.1227,  0.0247,  0.0842, -0.0148],\n",
       "         device='cuda:0', requires_grad=True)),\n",
       " ('network.4.weight',\n",
       "  Parameter containing:\n",
       "  tensor([[[[ 4.4576e-02,  1.0606e-01,  1.2717e-02],\n",
       "            [ 9.3760e-02,  1.2564e-01, -8.5362e-02],\n",
       "            [ 3.6243e-02,  8.2524e-02,  1.3914e-01]],\n",
       "  \n",
       "           [[-8.8973e-02, -8.2260e-02,  1.0682e-02],\n",
       "            [-5.4903e-02,  5.3059e-02, -6.2618e-02],\n",
       "            [ 3.1955e-02, -2.9404e-02,  1.0557e-01]],\n",
       "  \n",
       "           [[-8.1338e-02,  4.3989e-02,  6.5970e-02],\n",
       "            [-1.2378e-01, -4.9823e-02,  3.2730e-03],\n",
       "            [-1.5638e-02,  6.1752e-02,  2.0826e-04]],\n",
       "  \n",
       "           ...,\n",
       "  \n",
       "           [[-1.9123e-02, -5.1259e-02,  6.4655e-05],\n",
       "            [-3.9088e-02, -2.0399e-02, -5.0407e-02],\n",
       "            [ 5.3814e-02,  1.8320e-02,  9.5533e-02]],\n",
       "  \n",
       "           [[ 9.2118e-02, -2.1690e-02,  4.6189e-02],\n",
       "            [ 6.7990e-02,  1.8573e-02,  4.8861e-02],\n",
       "            [-8.7846e-02,  2.3994e-02, -3.8184e-02]],\n",
       "  \n",
       "           [[ 1.0427e-01, -2.7679e-02,  1.2862e-01],\n",
       "            [ 8.7694e-02, -5.1665e-02,  8.7213e-02],\n",
       "            [ 2.7541e-03,  3.1538e-03, -8.3021e-02]]],\n",
       "  \n",
       "  \n",
       "          [[[ 8.7858e-02, -5.5035e-02,  3.8121e-02],\n",
       "            [-4.1976e-02, -3.9173e-02,  5.9242e-02],\n",
       "            [-5.5283e-02, -3.2403e-02,  1.0520e-01]],\n",
       "  \n",
       "           [[ 6.3402e-03, -2.9608e-03,  1.0425e-01],\n",
       "            [ 5.3378e-02, -1.0995e-01, -1.1103e-01],\n",
       "            [-8.2497e-02,  3.1821e-03,  2.7620e-03]],\n",
       "  \n",
       "           [[ 2.0674e-02,  1.3877e-02, -9.2948e-02],\n",
       "            [-5.7389e-02,  1.1898e-02, -1.1412e-01],\n",
       "            [ 5.5096e-02,  1.0583e-01, -3.8329e-03]],\n",
       "  \n",
       "           ...,\n",
       "  \n",
       "           [[ 1.5321e-02,  9.3975e-02,  5.0160e-03],\n",
       "            [ 7.0608e-02, -6.8335e-02, -1.4307e-03],\n",
       "            [-8.7785e-02, -2.2136e-02, -3.4345e-02]],\n",
       "  \n",
       "           [[ 1.3877e-01,  1.5746e-02, -6.7395e-02],\n",
       "            [-8.8328e-02,  3.8535e-03,  9.6625e-03],\n",
       "            [ 2.3908e-03, -9.6854e-02, -4.0008e-02]],\n",
       "  \n",
       "           [[ 8.9424e-02,  1.3679e-01,  5.3193e-02],\n",
       "            [ 1.2514e-01, -8.3930e-02, -1.0511e-01],\n",
       "            [-1.0239e-01, -8.4455e-02,  7.3923e-03]]],\n",
       "  \n",
       "  \n",
       "          [[[ 8.2138e-02, -6.3031e-02, -9.0351e-03],\n",
       "            [-1.1795e-01,  2.9044e-02, -2.1711e-02],\n",
       "            [-8.1167e-02, -7.8099e-02, -1.6487e-02]],\n",
       "  \n",
       "           [[ 3.7141e-02, -1.7065e-02,  5.3876e-02],\n",
       "            [ 2.8593e-02, -5.3702e-02, -6.7072e-02],\n",
       "            [ 9.7618e-03,  2.5495e-02, -4.3000e-02]],\n",
       "  \n",
       "           [[ 3.5126e-02, -9.3040e-02, -5.7228e-02],\n",
       "            [-5.8566e-02, -6.5156e-02, -5.5192e-02],\n",
       "            [ 5.4728e-03, -2.2018e-02, -1.5158e-02]],\n",
       "  \n",
       "           ...,\n",
       "  \n",
       "           [[ 1.2502e-02,  3.8757e-02,  1.1471e-02],\n",
       "            [ 3.1454e-02, -7.7026e-02,  7.7723e-03],\n",
       "            [ 5.6677e-03, -4.5638e-02, -1.0603e-01]],\n",
       "  \n",
       "           [[-3.3894e-02, -7.4368e-02,  7.8507e-02],\n",
       "            [ 2.4833e-04, -7.7695e-02,  4.4282e-02],\n",
       "            [-2.2299e-03,  4.3369e-02, -8.4800e-02]],\n",
       "  \n",
       "           [[ 7.7755e-02,  2.1957e-03, -5.6481e-02],\n",
       "            [-4.4409e-02,  7.7586e-02,  4.8489e-02],\n",
       "            [ 1.0647e-01,  4.2194e-02, -1.0999e-01]]],\n",
       "  \n",
       "  \n",
       "          ...,\n",
       "  \n",
       "  \n",
       "          [[[ 1.5341e-01,  1.7170e-02, -3.6534e-02],\n",
       "            [-7.6965e-02, -1.3744e-01, -8.3972e-02],\n",
       "            [-8.7243e-03,  9.6379e-02, -9.7633e-02]],\n",
       "  \n",
       "           [[-9.9465e-02, -5.8429e-02,  1.6127e-02],\n",
       "            [-3.7717e-02,  5.6948e-02,  2.8816e-02],\n",
       "            [ 5.0897e-02, -5.0450e-02, -7.4192e-02]],\n",
       "  \n",
       "           [[ 8.6463e-02,  8.8796e-02, -5.5620e-02],\n",
       "            [-1.4663e-03, -4.0014e-02, -3.5593e-02],\n",
       "            [ 2.4847e-02,  8.8389e-02, -9.5807e-02]],\n",
       "  \n",
       "           ...,\n",
       "  \n",
       "           [[-6.6697e-02,  8.1917e-02,  2.5223e-02],\n",
       "            [ 1.9126e-02,  4.7507e-02, -6.5004e-03],\n",
       "            [-3.9312e-02,  9.7540e-04, -7.4814e-02]],\n",
       "  \n",
       "           [[ 7.4003e-02, -6.4464e-02, -3.2760e-03],\n",
       "            [-5.0467e-02,  1.5957e-02, -5.3075e-02],\n",
       "            [ 3.0563e-02,  3.0837e-02, -9.7536e-02]],\n",
       "  \n",
       "           [[-7.7674e-02, -3.9114e-02,  9.0933e-02],\n",
       "            [-7.4758e-02,  1.6141e-02,  9.7376e-02],\n",
       "            [-5.0481e-02,  3.0828e-02,  1.1857e-01]]],\n",
       "  \n",
       "  \n",
       "          [[[ 7.0333e-02, -5.6898e-02,  1.0858e-01],\n",
       "            [ 1.1801e-01, -3.9159e-02,  4.1752e-02],\n",
       "            [ 2.9039e-03, -4.2070e-02,  2.7525e-02]],\n",
       "  \n",
       "           [[-1.4040e-01, -8.3914e-02,  2.5562e-02],\n",
       "            [-1.2030e-01,  1.3299e-02,  1.0810e-01],\n",
       "            [ 4.0127e-02,  4.6728e-02, -6.9157e-03]],\n",
       "  \n",
       "           [[ 9.9600e-02,  5.8560e-02, -6.4650e-02],\n",
       "            [-9.9069e-02, -1.9303e-03, -1.0136e-01],\n",
       "            [-7.9777e-02, -3.0946e-02, -1.1329e-03]],\n",
       "  \n",
       "           ...,\n",
       "  \n",
       "           [[-2.4320e-02,  4.6710e-02, -1.1662e-01],\n",
       "            [ 1.1022e-01,  9.5649e-02, -1.9227e-02],\n",
       "            [-8.2257e-02, -6.3720e-02, -6.6083e-02]],\n",
       "  \n",
       "           [[ 2.4146e-02, -8.9379e-02,  4.6458e-02],\n",
       "            [-3.6457e-02, -2.0500e-02,  4.6816e-02],\n",
       "            [-5.6250e-02, -9.3127e-02,  5.9126e-03]],\n",
       "  \n",
       "           [[-9.9374e-02,  1.2520e-02,  4.3886e-02],\n",
       "            [-2.4085e-02,  8.8871e-02,  7.1307e-02],\n",
       "            [ 9.3966e-02,  4.7476e-03, -4.4330e-02]]],\n",
       "  \n",
       "  \n",
       "          [[[ 4.8065e-02, -5.3482e-02, -2.5650e-02],\n",
       "            [ 3.7456e-02,  4.9083e-02,  9.2696e-02],\n",
       "            [ 3.5716e-02, -1.9731e-02,  3.0200e-03]],\n",
       "  \n",
       "           [[ 4.6457e-02,  1.1863e-02,  1.1905e-01],\n",
       "            [ 7.7589e-03, -5.1957e-02,  2.2039e-03],\n",
       "            [ 7.9787e-02,  7.1331e-02, -8.3193e-02]],\n",
       "  \n",
       "           [[ 1.5075e-01,  6.6020e-02,  1.3451e-02],\n",
       "            [-5.0581e-02,  1.3578e-01,  1.0204e-02],\n",
       "            [ 1.3351e-01,  8.6839e-02,  8.4868e-02]],\n",
       "  \n",
       "           ...,\n",
       "  \n",
       "           [[-5.2077e-02, -5.6023e-02, -7.5053e-02],\n",
       "            [-8.9306e-02, -7.3789e-02, -1.1321e-02],\n",
       "            [-5.7726e-02, -1.0279e-02,  1.0118e-01]],\n",
       "  \n",
       "           [[-1.5487e-01,  3.3326e-02, -1.0057e-01],\n",
       "            [-5.6432e-02,  3.6190e-02, -7.2605e-02],\n",
       "            [-4.0056e-03, -1.8110e-02,  8.7571e-02]],\n",
       "  \n",
       "           [[ 2.1768e-02, -8.3376e-02, -4.7389e-02],\n",
       "            [ 9.5093e-02, -1.4479e-01, -1.0278e-01],\n",
       "            [ 5.7828e-02, -1.0611e-01, -4.2316e-02]]]], device='cuda:0',\n",
       "         requires_grad=True)),\n",
       " ('network.4.bias',\n",
       "  Parameter containing:\n",
       "  tensor([-0.0745, -0.1713, -0.0332,  0.0841,  0.0632, -0.0687, -0.0311, -0.1762,\n",
       "           0.0807, -0.0895, -0.0505, -0.1443, -0.0671, -0.1916,  0.1044, -0.1816],\n",
       "         device='cuda:0', requires_grad=True)),\n",
       " ('network.7.weight',\n",
       "  Parameter containing:\n",
       "  tensor([1.0939, 1.1627, 1.0730, 1.1034, 1.1296, 1.1058, 1.0947, 1.1634, 1.2003,\n",
       "          1.1148, 1.1422, 1.1390, 1.1306, 1.1492, 1.1683, 1.1103],\n",
       "         device='cuda:0', requires_grad=True)),\n",
       " ('network.7.bias',\n",
       "  Parameter containing:\n",
       "  tensor([-0.0757,  0.0168,  0.0450,  0.0408, -0.0607,  0.0381,  0.0511,  0.0691,\n",
       "           0.0031,  0.0486,  0.0417,  0.0264,  0.0282,  0.0053, -0.0156,  0.0137],\n",
       "         device='cuda:0', requires_grad=True)),\n",
       " ('network.8.weight',\n",
       "  Parameter containing:\n",
       "  tensor([[[[ 2.1535e-02,  1.8947e-02, -1.6090e-02,  ...,  3.0454e-02,\n",
       "              7.6499e-03, -7.1311e-02],\n",
       "            [ 2.3072e-02,  8.8898e-04,  8.2539e-03,  ...,  1.0385e-02,\n",
       "             -3.6065e-02, -4.9387e-02],\n",
       "            [-2.9548e-02, -1.9937e-02,  2.5910e-03,  ..., -7.4920e-02,\n",
       "             -1.9394e-02,  2.8246e-02],\n",
       "            ...,\n",
       "            [-9.3002e-03, -2.5651e-03,  8.1531e-03,  ..., -4.9103e-02,\n",
       "             -4.0963e-02, -5.8351e-02],\n",
       "            [-3.8751e-02, -5.0819e-02, -1.7158e-02,  ..., -2.2916e-03,\n",
       "             -3.9075e-03, -7.8811e-02],\n",
       "            [ 9.5759e-02, -1.2990e-02,  1.4518e-02,  ..., -2.2543e-02,\n",
       "              1.5328e-02, -4.4497e-02]],\n",
       "  \n",
       "           [[ 6.1881e-03,  8.6794e-03,  6.9725e-02,  ..., -1.1495e-03,\n",
       "             -7.2637e-03, -2.1657e-02],\n",
       "            [-2.0919e-02,  2.1754e-02,  1.2840e-02,  ...,  3.0937e-03,\n",
       "             -3.1531e-02,  1.4451e-02],\n",
       "            [-5.5899e-03, -2.5003e-02, -5.0059e-02,  ..., -3.0390e-02,\n",
       "             -4.5524e-03,  5.8622e-02],\n",
       "            ...,\n",
       "            [-1.0467e-02, -3.2137e-02, -1.4920e-02,  ...,  1.2000e-02,\n",
       "              1.1021e-02,  3.7469e-02],\n",
       "            [ 1.5859e-02,  2.7360e-02, -2.0589e-02,  ..., -2.3772e-02,\n",
       "              1.2793e-02,  4.5499e-02],\n",
       "            [-4.2279e-02,  2.2695e-02,  4.7771e-02,  ...,  6.0836e-02,\n",
       "              6.9336e-02,  2.7564e-02]],\n",
       "  \n",
       "           [[-2.4482e-02, -2.2605e-02,  2.1255e-02,  ..., -1.2151e-02,\n",
       "             -3.0410e-02,  2.3195e-04],\n",
       "            [-3.1541e-02,  4.5883e-02, -1.1213e-03,  ...,  3.4064e-02,\n",
       "             -3.3250e-02,  4.1032e-02],\n",
       "            [-3.1174e-02, -5.6049e-03,  1.6811e-02,  ...,  5.8443e-02,\n",
       "             -6.3186e-03, -1.1301e-02],\n",
       "            ...,\n",
       "            [-5.7228e-02, -5.1149e-02,  4.4279e-02,  ...,  5.9792e-03,\n",
       "             -3.0556e-02,  8.5321e-04],\n",
       "            [-3.1515e-02,  7.8066e-03,  2.1294e-02,  ..., -7.2576e-03,\n",
       "              1.1619e-02,  2.2497e-02],\n",
       "            [-1.3738e-02, -5.6962e-03,  1.5041e-02,  ...,  1.1300e-02,\n",
       "              8.1808e-03,  1.0407e-02]],\n",
       "  \n",
       "           ...,\n",
       "  \n",
       "           [[-8.6287e-02, -6.8976e-02, -7.9870e-03,  ..., -2.4638e-02,\n",
       "             -4.3591e-02, -3.9064e-02],\n",
       "            [-1.8684e-02,  7.6419e-03,  4.9591e-03,  ..., -8.4497e-03,\n",
       "             -2.3027e-02, -8.6361e-03],\n",
       "            [-2.2990e-02,  4.3920e-02, -2.5783e-03,  ..., -3.0969e-02,\n",
       "              3.1983e-02, -4.8706e-02],\n",
       "            ...,\n",
       "            [-4.7329e-03, -1.5289e-02,  9.2486e-03,  ..., -2.2532e-02,\n",
       "             -1.2373e-02, -3.6330e-02],\n",
       "            [-1.0193e-02, -4.7153e-03,  4.7116e-02,  ...,  6.4911e-02,\n",
       "             -2.3189e-02, -1.4643e-02],\n",
       "            [-5.2655e-02, -1.8800e-03,  7.6196e-03,  ...,  3.8327e-02,\n",
       "             -6.1389e-03, -3.1328e-02]],\n",
       "  \n",
       "           [[-2.6533e-02, -1.2722e-01, -7.5274e-02,  ..., -5.8175e-02,\n",
       "             -4.4004e-02, -3.9927e-02],\n",
       "            [-2.6818e-02,  4.1024e-03,  4.9584e-02,  ...,  3.1001e-02,\n",
       "              4.2362e-02,  8.7726e-03],\n",
       "            [ 5.0217e-03,  1.5591e-02,  1.9525e-02,  ..., -3.1197e-02,\n",
       "              5.1260e-02, -1.1585e-02],\n",
       "            ...,\n",
       "            [-5.2417e-02, -6.2658e-04, -2.4071e-02,  ...,  1.1225e-02,\n",
       "              2.3209e-02,  6.1691e-03],\n",
       "            [-7.3018e-02, -3.9821e-02,  8.5282e-04,  ..., -3.7884e-02,\n",
       "              1.6628e-04, -4.2854e-02],\n",
       "            [ 3.5694e-02,  1.3954e-03,  4.1305e-02,  ..., -4.0693e-02,\n",
       "             -3.0393e-02,  5.8335e-03]],\n",
       "  \n",
       "           [[ 7.4776e-02,  3.7810e-02, -8.2792e-03,  ...,  4.5145e-02,\n",
       "              2.5825e-02,  3.0147e-02],\n",
       "            [ 2.1172e-02, -4.8819e-02, -3.4848e-02,  ...,  1.1333e-02,\n",
       "             -4.2927e-02,  1.5820e-02],\n",
       "            [-4.2581e-03,  7.5046e-03, -4.4202e-02,  ..., -6.4034e-02,\n",
       "             -2.7719e-02, -4.2193e-03],\n",
       "            ...,\n",
       "            [ 7.8373e-02, -1.5042e-02, -3.0256e-02,  ..., -2.4028e-02,\n",
       "              2.5155e-02,  1.1548e-02],\n",
       "            [ 3.9211e-02,  2.0759e-02,  1.2526e-02,  ...,  4.8936e-02,\n",
       "              3.9633e-02,  5.1419e-02],\n",
       "            [ 5.3826e-02,  2.2782e-02,  1.3265e-02,  ...,  9.5812e-03,\n",
       "              1.4653e-02,  3.8185e-02]]],\n",
       "  \n",
       "  \n",
       "          [[[-3.9678e-02, -3.0839e-03, -1.2818e-02,  ..., -2.4773e-02,\n",
       "             -3.5088e-02,  1.5848e-02],\n",
       "            [-4.8774e-02,  7.2591e-03,  2.2613e-02,  ..., -1.8947e-02,\n",
       "              1.7524e-02, -1.3434e-02],\n",
       "            [-1.8327e-02,  6.2635e-02,  5.2350e-02,  ...,  2.1178e-02,\n",
       "             -4.3991e-02, -2.9408e-02],\n",
       "            ...,\n",
       "            [ 3.1056e-02, -1.0256e-02, -5.0270e-02,  ...,  3.0284e-02,\n",
       "              4.7803e-03, -1.4780e-02],\n",
       "            [-9.3430e-03, -3.6884e-02, -3.6323e-02,  ...,  9.1690e-03,\n",
       "             -3.9818e-02, -2.6933e-02],\n",
       "            [-5.2015e-02, -1.0294e-02, -3.1494e-02,  ..., -1.9288e-02,\n",
       "             -7.0459e-02, -6.0080e-02]],\n",
       "  \n",
       "           [[ 6.0142e-03, -1.2841e-03,  1.7462e-02,  ...,  2.8021e-02,\n",
       "             -5.7766e-02,  8.6503e-03],\n",
       "            [-7.5764e-03, -4.5525e-02, -6.1700e-02,  ..., -3.5269e-02,\n",
       "             -2.2522e-02, -5.2724e-02],\n",
       "            [-1.9497e-03, -2.5236e-02, -5.1589e-02,  ...,  4.7802e-03,\n",
       "             -2.9227e-02,  1.9856e-02],\n",
       "            ...,\n",
       "            [-6.4380e-02,  3.7068e-02,  3.7977e-02,  ..., -7.0518e-02,\n",
       "             -1.5226e-02, -6.9635e-02],\n",
       "            [-7.9090e-03, -3.1007e-02,  7.5246e-02,  ..., -1.7544e-02,\n",
       "             -5.0147e-03, -1.9751e-02],\n",
       "            [-4.7985e-02, -6.9038e-02,  1.9646e-02,  ..., -2.1903e-02,\n",
       "             -7.3174e-02, -1.6899e-02]],\n",
       "  \n",
       "           [[-2.5817e-02, -4.5305e-02, -3.1971e-03,  ..., -1.6577e-02,\n",
       "             -1.8721e-02, -2.9866e-02],\n",
       "            [-2.7745e-02, -3.6605e-02, -1.3454e-02,  ...,  2.6369e-02,\n",
       "             -3.1661e-02, -3.8221e-02],\n",
       "            [ 1.3965e-02, -1.0483e-03, -5.2449e-02,  ..., -2.9091e-03,\n",
       "              3.9157e-02, -9.6119e-03],\n",
       "            ...,\n",
       "            [-1.9970e-03,  2.0789e-02, -3.0660e-02,  ...,  3.0908e-02,\n",
       "             -1.2964e-02,  2.5252e-02],\n",
       "            [-1.0364e-02,  4.5307e-02,  1.2540e-02,  ...,  4.0658e-03,\n",
       "              5.0529e-03, -3.0989e-02],\n",
       "            [ 3.0836e-02,  5.4727e-03, -3.9271e-02,  ...,  1.0900e-02,\n",
       "              2.3790e-02, -3.0010e-02]],\n",
       "  \n",
       "           ...,\n",
       "  \n",
       "           [[ 9.5347e-03,  8.6839e-03,  3.4978e-02,  ...,  9.2446e-02,\n",
       "             -2.5474e-02,  4.6745e-03],\n",
       "            [ 2.5811e-02, -2.8160e-03,  1.1337e-03,  ..., -1.3719e-02,\n",
       "             -4.9546e-02,  3.6021e-02],\n",
       "            [ 2.2704e-02, -1.8896e-02, -2.3341e-02,  ..., -3.7080e-02,\n",
       "             -2.1140e-02,  3.8667e-02],\n",
       "            ...,\n",
       "            [ 2.0633e-02,  3.1014e-02, -2.7243e-02,  ...,  1.3643e-02,\n",
       "             -3.2853e-02, -5.2320e-02],\n",
       "            [ 2.8645e-02,  5.5547e-02,  5.4762e-02,  ...,  5.4273e-02,\n",
       "             -4.9475e-02, -7.3075e-03],\n",
       "            [ 4.3176e-02, -1.2199e-02,  2.9038e-02,  ...,  5.3316e-03,\n",
       "             -4.9003e-02, -5.6179e-02]],\n",
       "  \n",
       "           [[-1.3279e-02, -8.1796e-02, -4.2568e-02,  ..., -4.4232e-02,\n",
       "              7.7790e-03, -3.2621e-03],\n",
       "            [-3.4350e-02,  5.7783e-03,  3.2233e-05,  ..., -2.1763e-02,\n",
       "             -7.0577e-02, -3.0689e-03],\n",
       "            [-1.4213e-02, -2.5799e-02,  1.9246e-02,  ...,  2.0793e-02,\n",
       "              8.0192e-03, -6.6754e-02],\n",
       "            ...,\n",
       "            [ 2.9802e-02, -5.4800e-02, -3.3104e-02,  ..., -2.5713e-02,\n",
       "              2.2524e-03, -4.1767e-02],\n",
       "            [ 3.2480e-03, -1.7394e-02,  2.1579e-02,  ...,  1.1040e-02,\n",
       "             -2.2697e-02, -4.6328e-02],\n",
       "            [-1.9697e-02, -1.6640e-02, -2.2874e-02,  ..., -3.5356e-02,\n",
       "              1.0266e-02, -3.1452e-02]],\n",
       "  \n",
       "           [[ 2.6495e-02,  2.2789e-03,  1.6222e-02,  ...,  1.5686e-02,\n",
       "              2.6945e-02, -4.1511e-02],\n",
       "            [ 1.6345e-02,  4.7245e-04,  2.4679e-02,  ..., -3.2743e-02,\n",
       "              2.1411e-02,  7.2468e-03],\n",
       "            [ 2.1649e-02,  3.1296e-02, -1.4671e-02,  ..., -1.8211e-02,\n",
       "              3.4392e-02,  3.0815e-02],\n",
       "            ...,\n",
       "            [-2.3371e-02, -1.2512e-02, -2.0190e-02,  ...,  1.1645e-03,\n",
       "             -2.6224e-03,  2.3070e-02],\n",
       "            [ 3.3135e-02,  2.6981e-02,  6.0994e-03,  ..., -7.6068e-02,\n",
       "              1.2226e-02,  1.7564e-03],\n",
       "            [ 1.4356e-02, -3.8152e-02,  8.7011e-03,  ..., -6.6172e-02,\n",
       "              1.7271e-02, -5.2792e-02]]],\n",
       "  \n",
       "  \n",
       "          [[[-3.1598e-02,  1.0233e-02, -2.1677e-02,  ..., -2.0462e-02,\n",
       "             -3.6807e-02, -5.0215e-03],\n",
       "            [-9.0052e-03, -4.8672e-03, -5.1097e-02,  ..., -4.1078e-03,\n",
       "              6.3783e-03,  1.5949e-02],\n",
       "            [-1.8290e-02, -5.7340e-03,  5.7834e-03,  ...,  1.8559e-02,\n",
       "              6.6570e-03, -6.3708e-03],\n",
       "            ...,\n",
       "            [-4.1333e-02,  1.2500e-02, -5.1017e-02,  ..., -1.3235e-02,\n",
       "              2.2286e-02, -4.1170e-02],\n",
       "            [ 2.7456e-02,  1.4338e-02, -3.0077e-03,  ..., -3.7121e-02,\n",
       "             -1.2833e-02, -1.1715e-02],\n",
       "            [-4.7896e-02, -3.6184e-02, -7.8524e-02,  ..., -3.2688e-02,\n",
       "             -3.1337e-02,  9.6699e-05]],\n",
       "  \n",
       "           [[-7.7565e-02,  1.3995e-02, -5.4797e-02,  ...,  1.1437e-02,\n",
       "             -5.1788e-02,  3.6394e-02],\n",
       "            [ 3.6035e-02, -5.1145e-02, -3.6367e-02,  ..., -2.9714e-02,\n",
       "              3.2746e-02, -1.8224e-02],\n",
       "            [ 3.7565e-02, -5.2546e-02, -3.6433e-02,  ..., -1.7746e-02,\n",
       "              1.6908e-02, -2.9439e-02],\n",
       "            ...,\n",
       "            [ 1.0362e-02,  3.3485e-02, -3.0551e-02,  ...,  5.2836e-02,\n",
       "              1.2381e-02, -2.6008e-02],\n",
       "            [ 3.6931e-03,  5.3697e-03,  3.1305e-03,  ...,  6.1795e-02,\n",
       "              1.2747e-04, -5.3804e-03],\n",
       "            [ 1.1706e-03, -3.1807e-04,  2.3712e-02,  ...,  1.4756e-02,\n",
       "              1.2597e-02,  3.2070e-03]],\n",
       "  \n",
       "           [[-1.2710e-02,  5.8556e-03, -2.7689e-02,  ..., -4.9360e-02,\n",
       "             -2.9763e-02, -5.9167e-03],\n",
       "            [ 5.4383e-03, -9.3089e-03,  8.7549e-04,  ...,  4.9580e-04,\n",
       "             -2.7675e-02, -9.3143e-03],\n",
       "            [ 7.8263e-02, -4.2151e-02, -6.8798e-02,  ..., -1.5913e-03,\n",
       "             -1.3620e-02,  2.3001e-02],\n",
       "            ...,\n",
       "            [ 1.4005e-02, -1.8941e-02, -1.7001e-02,  ...,  2.4585e-02,\n",
       "              2.4162e-02,  3.8485e-02],\n",
       "            [-1.7296e-02,  3.1227e-03, -5.7199e-02,  ...,  1.7006e-02,\n",
       "             -3.8619e-03, -3.7013e-02],\n",
       "            [-1.9797e-02, -2.4038e-02,  1.3135e-02,  ...,  1.1632e-02,\n",
       "              2.5503e-02,  1.4233e-02]],\n",
       "  \n",
       "           ...,\n",
       "  \n",
       "           [[-1.6964e-02,  1.5192e-02, -4.3666e-02,  ..., -5.3241e-03,\n",
       "             -3.2567e-02, -8.0560e-02],\n",
       "            [-1.7369e-02, -3.7522e-03, -4.5237e-02,  ...,  7.4679e-04,\n",
       "             -8.8714e-03, -6.1400e-02],\n",
       "            [-3.4093e-02, -3.7906e-02, -1.7137e-02,  ...,  4.3917e-02,\n",
       "              1.3235e-02,  2.2035e-02],\n",
       "            ...,\n",
       "            [ 4.2580e-02, -3.2112e-02, -1.0898e-03,  ...,  3.6061e-02,\n",
       "              4.4481e-02, -1.0158e-02],\n",
       "            [-1.4557e-02,  2.3714e-02, -1.9941e-02,  ...,  2.3627e-02,\n",
       "              3.8833e-02,  5.1178e-04],\n",
       "            [-1.5694e-03,  5.6459e-02,  1.7602e-02,  ...,  3.1702e-02,\n",
       "              4.3184e-02, -4.4134e-02]],\n",
       "  \n",
       "           [[ 1.3927e-02,  2.0687e-02,  2.6880e-02,  ...,  9.8242e-03,\n",
       "             -1.8330e-02, -2.6879e-02],\n",
       "            [ 1.6920e-02, -1.9440e-02, -3.1487e-03,  ...,  3.0408e-02,\n",
       "              2.4680e-02,  4.3887e-03],\n",
       "            [ 1.6008e-03,  1.7453e-02,  6.1659e-02,  ...,  6.0021e-02,\n",
       "              9.0952e-02,  2.0281e-03],\n",
       "            ...,\n",
       "            [ 1.3117e-02,  3.7589e-02,  5.6175e-02,  ...,  3.6969e-02,\n",
       "             -1.7120e-02, -1.0036e-02],\n",
       "            [ 3.3740e-02,  2.3604e-03, -2.0046e-02,  ...,  7.8390e-02,\n",
       "              3.0068e-02,  1.0864e-02],\n",
       "            [-2.1631e-02,  2.3969e-02,  4.6993e-02,  ...,  4.0182e-02,\n",
       "              7.5136e-03,  1.1518e-02]],\n",
       "  \n",
       "           [[ 1.0413e-02, -6.2000e-02, -9.3248e-02,  ..., -6.5782e-02,\n",
       "             -1.1184e-03, -4.8034e-02],\n",
       "            [ 5.0424e-03, -2.6392e-02,  9.0627e-03,  ..., -1.3967e-02,\n",
       "             -3.1516e-02, -6.6281e-03],\n",
       "            [ 5.0707e-02, -4.6654e-02,  3.5129e-02,  ...,  6.8619e-03,\n",
       "             -5.3671e-02, -6.8932e-02],\n",
       "            ...,\n",
       "            [-2.5367e-02, -4.1473e-02,  4.7716e-02,  ...,  3.0332e-02,\n",
       "             -1.1257e-02, -6.8759e-02],\n",
       "            [ 3.3382e-02, -1.8246e-02, -1.9258e-02,  ...,  1.0749e-02,\n",
       "              2.3803e-02, -5.4340e-02],\n",
       "            [-4.3247e-04, -4.7517e-02, -6.3911e-02,  ..., -3.4813e-02,\n",
       "             -1.3082e-02, -6.0918e-02]]],\n",
       "  \n",
       "  \n",
       "          ...,\n",
       "  \n",
       "  \n",
       "          [[[ 5.8709e-03, -1.5828e-02,  7.1727e-03,  ..., -2.6144e-02,\n",
       "              2.9009e-02,  1.3662e-02],\n",
       "            [-1.9338e-02,  4.1122e-02, -9.3820e-03,  ..., -4.9022e-02,\n",
       "              1.0386e-02,  2.3214e-02],\n",
       "            [ 1.3925e-02,  2.7184e-02,  1.3140e-02,  ..., -2.0999e-02,\n",
       "             -4.0756e-02, -2.2396e-03],\n",
       "            ...,\n",
       "            [ 1.8103e-02,  1.3083e-03, -9.1160e-03,  ...,  4.7062e-02,\n",
       "             -2.8191e-02, -9.7847e-03],\n",
       "            [ 2.0440e-02,  3.8129e-02,  1.4642e-02,  ..., -3.3176e-03,\n",
       "             -7.9154e-03,  7.9823e-03],\n",
       "            [-3.3331e-02, -1.4651e-02, -3.7627e-02,  ..., -3.4758e-02,\n",
       "              3.3601e-02, -2.4266e-02]],\n",
       "  \n",
       "           [[-3.6502e-02,  5.9506e-03, -4.3403e-02,  ...,  3.9254e-02,\n",
       "             -3.3101e-02, -1.5992e-02],\n",
       "            [-4.6646e-02,  1.6755e-02, -3.2367e-02,  ..., -3.9417e-02,\n",
       "             -4.6185e-02, -1.3597e-02],\n",
       "            [-3.5184e-02,  2.5021e-02, -2.5015e-02,  ...,  7.8126e-03,\n",
       "              1.8753e-02, -1.7487e-02],\n",
       "            ...,\n",
       "            [-3.8767e-02, -7.9728e-04,  9.6315e-04,  ...,  1.2371e-03,\n",
       "             -3.0804e-02, -3.3055e-03],\n",
       "            [-6.5333e-02,  4.5136e-02, -1.2791e-02,  ...,  7.4120e-03,\n",
       "             -4.3904e-02,  1.8848e-02],\n",
       "            [-1.9399e-02, -1.8217e-02, -3.5215e-02,  ..., -1.6906e-02,\n",
       "             -4.9354e-02, -1.7876e-02]],\n",
       "  \n",
       "           [[ 1.4961e-02, -2.8789e-02,  2.6510e-02,  ..., -3.5372e-02,\n",
       "             -3.1146e-02,  1.7871e-02],\n",
       "            [ 2.4994e-02,  3.4590e-03,  1.3061e-02,  ...,  3.3738e-03,\n",
       "              1.9921e-02, -3.1835e-02],\n",
       "            [ 1.8981e-02, -7.7826e-03, -2.7499e-02,  ...,  2.0255e-02,\n",
       "              9.2293e-03, -4.7637e-04],\n",
       "            ...,\n",
       "            [-5.3214e-03,  2.2964e-02, -1.8453e-02,  ...,  1.8331e-02,\n",
       "              1.2717e-02,  4.4008e-03],\n",
       "            [-1.7452e-02,  1.6974e-02, -2.5092e-02,  ..., -1.2635e-02,\n",
       "             -1.4676e-02, -1.5165e-03],\n",
       "            [ 4.9015e-03,  1.1062e-02, -1.8188e-02,  ..., -5.9706e-02,\n",
       "              1.5552e-02, -6.3147e-02]],\n",
       "  \n",
       "           ...,\n",
       "  \n",
       "           [[ 6.7029e-02,  1.5043e-02,  8.4520e-03,  ...,  4.0924e-02,\n",
       "              1.5154e-02,  6.4218e-02],\n",
       "            [ 4.2214e-02, -1.1447e-03,  5.6472e-03,  ...,  1.1409e-03,\n",
       "             -2.2177e-02,  4.4196e-02],\n",
       "            [ 3.0551e-02,  6.4103e-03,  1.5343e-02,  ..., -4.3264e-03,\n",
       "             -2.3864e-02,  4.4790e-02],\n",
       "            ...,\n",
       "            [ 3.0061e-02,  2.9232e-02,  1.7955e-02,  ...,  1.9926e-02,\n",
       "             -6.4093e-03,  4.8137e-04],\n",
       "            [-3.1581e-02,  2.8960e-02, -5.8950e-02,  ...,  1.0790e-02,\n",
       "             -2.5524e-02, -1.7989e-02],\n",
       "            [-2.3787e-02, -1.2481e-02, -2.5906e-02,  ..., -1.7342e-02,\n",
       "             -1.3771e-03,  9.1353e-03]],\n",
       "  \n",
       "           [[-4.7614e-02, -5.9426e-02, -1.7973e-02,  ..., -1.0044e-02,\n",
       "             -6.1482e-02, -1.3852e-02],\n",
       "            [ 2.2665e-02, -3.3158e-02, -5.6603e-02,  ..., -1.1468e-02,\n",
       "             -8.9077e-03, -1.8658e-02],\n",
       "            [ 6.5179e-03,  3.3781e-02,  4.5105e-03,  ..., -2.2883e-03,\n",
       "             -1.9343e-02, -3.8763e-02],\n",
       "            ...,\n",
       "            [-1.5078e-02, -3.7582e-02, -1.0057e-02,  ..., -3.8257e-02,\n",
       "             -3.5451e-03,  9.1104e-03],\n",
       "            [ 6.1160e-03, -7.4892e-02, -4.9466e-02,  ...,  1.8307e-02,\n",
       "             -5.2983e-02, -4.7563e-02],\n",
       "            [ 5.7222e-02, -3.2142e-02, -7.6937e-03,  ..., -1.4261e-02,\n",
       "              2.7398e-02, -4.9297e-02]],\n",
       "  \n",
       "           [[ 2.5642e-02,  5.5078e-02,  6.6073e-02,  ...,  1.6633e-02,\n",
       "              5.7838e-02,  4.6631e-02],\n",
       "            [-5.4120e-03,  5.2391e-02,  1.8592e-02,  ...,  1.5935e-02,\n",
       "              3.1131e-02,  1.8034e-02],\n",
       "            [ 1.2094e-02,  4.8924e-02,  9.0381e-03,  ...,  2.7872e-02,\n",
       "              2.6798e-02,  3.2639e-03],\n",
       "            ...,\n",
       "            [-1.7959e-02,  5.5278e-02,  1.2325e-02,  ...,  1.4923e-02,\n",
       "              2.8832e-02,  4.7457e-02],\n",
       "            [-3.1672e-03,  5.8619e-02,  1.6280e-02,  ...,  4.1753e-02,\n",
       "              2.6452e-02, -3.1174e-03],\n",
       "            [-2.0666e-03,  3.9031e-02,  4.5087e-02,  ...,  3.1531e-02,\n",
       "              9.2000e-02, -2.3299e-02]]],\n",
       "  \n",
       "  \n",
       "          [[[ 2.3682e-02, -7.5082e-03,  3.2822e-02,  ...,  2.5165e-02,\n",
       "             -3.5298e-02, -4.2588e-02],\n",
       "            [-5.0578e-03,  2.3974e-03,  1.2959e-02,  ..., -1.6798e-02,\n",
       "             -2.0852e-02, -1.0041e-03],\n",
       "            [-1.5638e-02, -2.3077e-02, -3.0625e-02,  ...,  6.0610e-05,\n",
       "             -3.0003e-02, -3.3413e-02],\n",
       "            ...,\n",
       "            [-2.0874e-02, -4.0964e-03, -5.8471e-02,  ...,  3.7887e-02,\n",
       "             -3.8653e-02,  1.3412e-03],\n",
       "            [ 9.6262e-03,  3.9283e-02, -1.5246e-02,  ..., -1.5086e-03,\n",
       "             -1.6486e-02, -3.3201e-02],\n",
       "            [ 5.4292e-02, -3.9762e-03, -1.6175e-02,  ..., -3.3780e-02,\n",
       "              3.0545e-02, -8.4583e-03]],\n",
       "  \n",
       "           [[-6.4457e-03, -3.2442e-02,  1.9325e-02,  ...,  5.9076e-02,\n",
       "              2.3625e-02, -5.0596e-02],\n",
       "            [-4.2720e-02,  8.5530e-02,  3.0292e-02,  ..., -8.0887e-03,\n",
       "             -1.9042e-02, -1.1960e-02],\n",
       "            [-4.5399e-02,  6.2935e-02,  3.3595e-02,  ...,  2.9131e-02,\n",
       "             -4.5090e-02,  1.4203e-02],\n",
       "            ...,\n",
       "            [-5.2651e-02,  7.2981e-03,  2.3949e-02,  ..., -3.5235e-02,\n",
       "             -6.6654e-02,  2.5983e-02],\n",
       "            [-1.2789e-02,  3.9495e-02, -1.1403e-02,  ..., -3.1130e-02,\n",
       "             -4.9856e-02,  2.7010e-02],\n",
       "            [-4.6129e-02,  1.3124e-02, -2.7741e-03,  ...,  5.1800e-02,\n",
       "              1.6035e-03, -1.6638e-02]],\n",
       "  \n",
       "           [[ 1.8271e-02, -1.7900e-02, -2.7581e-02,  ...,  1.1294e-02,\n",
       "             -9.3091e-04,  1.2160e-02],\n",
       "            [-1.7713e-02,  1.3491e-02,  4.1616e-02,  ...,  4.9212e-02,\n",
       "              1.4481e-02, -2.3401e-02],\n",
       "            [ 3.6532e-02,  1.4079e-02, -2.0141e-02,  ...,  6.2597e-02,\n",
       "              2.7861e-02, -2.9856e-02],\n",
       "            ...,\n",
       "            [-2.0326e-03, -5.6187e-03, -2.7985e-03,  ...,  2.6125e-02,\n",
       "             -1.6524e-02,  3.2421e-02],\n",
       "            [-2.0409e-02,  4.3325e-02,  3.8844e-02,  ...,  2.8640e-02,\n",
       "              4.8692e-02, -1.6875e-02],\n",
       "            [ 3.0134e-02, -2.4792e-02,  3.0533e-02,  ..., -2.1058e-02,\n",
       "             -2.1561e-02, -4.4592e-03]],\n",
       "  \n",
       "           ...,\n",
       "  \n",
       "           [[ 2.1960e-02, -3.7376e-03,  1.4773e-02,  ..., -1.3144e-02,\n",
       "             -4.1692e-02,  1.6891e-02],\n",
       "            [-2.5890e-02, -1.8153e-03,  3.4135e-02,  ..., -5.9534e-02,\n",
       "             -3.8401e-02, -2.2044e-02],\n",
       "            [ 6.1270e-03,  5.0968e-02,  6.5758e-02,  ..., -5.7578e-02,\n",
       "             -2.4901e-02,  2.0818e-02],\n",
       "            ...,\n",
       "            [-1.3547e-02, -8.1501e-03,  4.1151e-02,  ..., -7.1710e-04,\n",
       "             -9.3201e-03, -5.9838e-02],\n",
       "            [-1.4630e-02,  1.0340e-02,  2.3947e-02,  ...,  2.3685e-02,\n",
       "             -2.1327e-02, -1.0933e-02],\n",
       "            [-8.1119e-02, -1.7882e-02, -3.1149e-02,  ..., -5.7922e-03,\n",
       "             -1.8276e-03, -4.7638e-04]],\n",
       "  \n",
       "           [[-7.0230e-04, -3.9983e-02, -2.4499e-02,  ..., -4.5217e-03,\n",
       "              1.0974e-02,  1.6102e-02],\n",
       "            [-2.9737e-02,  1.4174e-02,  3.4154e-03,  ...,  1.2855e-02,\n",
       "              1.6840e-02,  2.8502e-02],\n",
       "            [-1.3844e-02,  3.5630e-03,  2.9440e-02,  ..., -1.3791e-02,\n",
       "             -1.7239e-02, -2.7930e-02],\n",
       "            ...,\n",
       "            [-9.3992e-03, -3.1337e-02, -2.5269e-02,  ..., -5.9415e-02,\n",
       "              2.3315e-02,  2.5646e-02],\n",
       "            [-4.6889e-02, -2.3379e-02,  1.6758e-02,  ...,  6.2834e-05,\n",
       "             -2.9430e-02, -4.8289e-02],\n",
       "            [ 8.5471e-03, -6.2688e-03, -1.3613e-02,  ..., -3.9815e-03,\n",
       "             -2.2039e-02,  3.2781e-03]],\n",
       "  \n",
       "           [[ 7.6080e-02,  4.2836e-02,  2.6169e-02,  ...,  7.0162e-02,\n",
       "              6.9228e-02,  4.5707e-02],\n",
       "            [-1.5623e-02,  3.6119e-02,  1.3584e-02,  ...,  2.4415e-02,\n",
       "              5.0472e-02,  4.9612e-02],\n",
       "            [-2.3967e-02,  4.0959e-02, -1.1299e-02,  ...,  1.2407e-02,\n",
       "              8.6862e-03,  1.3408e-02],\n",
       "            ...,\n",
       "            [-5.6008e-03,  8.8152e-03,  2.9714e-02,  ...,  2.6374e-02,\n",
       "              4.3024e-02,  6.0802e-02],\n",
       "            [-3.2194e-02,  4.5988e-02,  3.5526e-02,  ...,  4.2395e-02,\n",
       "             -9.2552e-03,  1.8854e-02],\n",
       "            [ 5.3110e-02,  1.6823e-02,  5.8298e-02,  ...,  2.8382e-03,\n",
       "              2.5717e-02,  3.4425e-02]]],\n",
       "  \n",
       "  \n",
       "          [[[-1.3494e-03, -9.0576e-03,  5.3381e-02,  ...,  4.5738e-03,\n",
       "             -3.6738e-02, -2.2168e-03],\n",
       "            [ 2.5136e-03,  1.0665e-02, -2.1251e-02,  ..., -3.1125e-02,\n",
       "             -5.5938e-03, -1.2525e-02],\n",
       "            [-7.7698e-03,  4.9904e-02, -2.7894e-02,  ..., -1.9247e-03,\n",
       "             -2.9268e-02, -3.7000e-02],\n",
       "            ...,\n",
       "            [-1.4699e-02,  3.9466e-02, -1.9680e-02,  ...,  4.6497e-02,\n",
       "             -2.8778e-04, -5.4556e-03],\n",
       "            [ 3.2950e-02,  2.9501e-02, -2.3127e-04,  ..., -8.4454e-03,\n",
       "             -3.7106e-02, -3.6217e-03],\n",
       "            [-4.3875e-02, -1.2721e-02, -4.2723e-02,  ..., -5.4891e-02,\n",
       "             -3.5604e-02,  5.7010e-03]],\n",
       "  \n",
       "           [[-6.2457e-03, -4.5318e-04,  5.6731e-03,  ...,  4.0874e-02,\n",
       "             -1.5455e-02, -1.8824e-02],\n",
       "            [-6.1923e-02,  3.9984e-02, -3.4121e-02,  ..., -3.1762e-02,\n",
       "             -5.1735e-04, -1.6613e-02],\n",
       "            [-7.9455e-02,  7.3559e-02,  2.2987e-02,  ...,  1.0609e-02,\n",
       "              4.2436e-03,  1.6480e-02],\n",
       "            ...,\n",
       "            [-1.8852e-02,  4.9438e-03, -1.6144e-02,  ..., -3.8452e-02,\n",
       "             -4.1391e-02, -2.9074e-02],\n",
       "            [-5.2768e-02,  1.2584e-02,  4.2675e-02,  ...,  2.1827e-02,\n",
       "              8.3850e-03, -9.6324e-03],\n",
       "            [-2.4650e-02, -2.0951e-02, -3.8162e-03,  ..., -6.9213e-02,\n",
       "             -7.0277e-02,  1.4721e-02]],\n",
       "  \n",
       "           [[-3.0011e-02, -1.4516e-02,  3.3982e-04,  ..., -8.2967e-03,\n",
       "              4.6341e-03, -3.3899e-03],\n",
       "            [-6.8433e-03,  3.0889e-02, -3.6850e-02,  ...,  3.7565e-02,\n",
       "              1.4506e-02,  6.5157e-04],\n",
       "            [ 8.3235e-03,  3.8104e-02, -2.2849e-02,  ...,  2.9314e-02,\n",
       "              7.3023e-02, -8.7273e-03],\n",
       "            ...,\n",
       "            [ 8.2133e-03,  1.4467e-02, -1.1721e-02,  ..., -6.8571e-03,\n",
       "              2.2346e-02,  2.2924e-02],\n",
       "            [-8.9843e-03,  2.2666e-02,  2.2870e-02,  ..., -1.4077e-02,\n",
       "             -3.0137e-04, -3.9932e-03],\n",
       "            [-1.5628e-03, -4.2014e-04, -1.5627e-02,  ...,  8.4387e-03,\n",
       "              2.0573e-02, -4.0217e-02]],\n",
       "  \n",
       "           ...,\n",
       "  \n",
       "           [[ 3.9046e-02,  2.7681e-02,  3.7312e-02,  ...,  3.2417e-02,\n",
       "             -1.0410e-02,  2.1291e-02],\n",
       "            [ 2.6081e-02, -1.8310e-03,  3.9885e-04,  ...,  8.5236e-03,\n",
       "             -2.6560e-02,  3.5015e-02],\n",
       "            [ 2.5546e-02, -2.3405e-02,  2.7494e-02,  ..., -3.5422e-02,\n",
       "             -1.2775e-02,  3.7719e-02],\n",
       "            ...,\n",
       "            [-1.5171e-02,  5.8673e-03, -1.1488e-02,  ...,  1.8182e-02,\n",
       "             -6.9329e-02, -4.6512e-02],\n",
       "            [ 1.4607e-02,  1.4945e-02, -9.4496e-03,  ...,  3.4071e-02,\n",
       "             -9.0716e-02,  3.5578e-02],\n",
       "            [-6.5059e-03,  2.5464e-02, -3.6318e-02,  ..., -3.2522e-02,\n",
       "             -1.6682e-02,  6.1893e-03]],\n",
       "  \n",
       "           [[-5.9515e-03, -1.2210e-02, -4.5428e-02,  ..., -1.5319e-02,\n",
       "             -1.7944e-02,  5.7430e-03],\n",
       "            [-5.1946e-02, -1.1850e-02, -1.2927e-02,  ...,  4.0002e-03,\n",
       "             -3.9205e-02, -4.4088e-02],\n",
       "            [-1.0462e-02,  1.2984e-03, -1.1931e-03,  ..., -2.4589e-02,\n",
       "              1.0595e-02, -4.8695e-02],\n",
       "            ...,\n",
       "            [ 3.8568e-02, -8.8432e-02, -1.8457e-02,  ..., -6.0625e-02,\n",
       "             -3.8421e-02,  2.7015e-03],\n",
       "            [-3.0047e-02, -2.4231e-02,  2.1620e-02,  ...,  3.2030e-02,\n",
       "             -3.4275e-02, -3.5824e-02],\n",
       "            [ 6.2139e-03, -1.7026e-02, -6.8783e-03,  ...,  4.1418e-03,\n",
       "             -1.1808e-02,  8.9067e-03]],\n",
       "  \n",
       "           [[ 5.5183e-02,  1.9057e-02,  7.3815e-02,  ...,  5.2418e-03,\n",
       "              5.4642e-02,  4.0484e-02],\n",
       "            [ 3.2595e-02,  4.1789e-02,  3.8504e-02,  ...,  2.9165e-02,\n",
       "             -8.5049e-03, -7.5300e-03],\n",
       "            [-6.7266e-04,  1.8558e-02,  4.3957e-02,  ...,  3.9465e-02,\n",
       "              1.9921e-02, -1.5769e-04],\n",
       "            ...,\n",
       "            [-2.3806e-02,  2.7591e-02,  4.0246e-02,  ..., -1.5325e-02,\n",
       "              3.3736e-02,  1.9781e-02],\n",
       "            [-3.3645e-02, -1.1380e-03,  8.6517e-03,  ..., -2.0225e-02,\n",
       "              3.6131e-02, -1.1022e-02],\n",
       "            [ 7.1106e-03, -1.4333e-02,  4.4540e-02,  ..., -5.6874e-03,\n",
       "              2.0245e-02, -6.3670e-03]]]], device='cuda:0', requires_grad=True)),\n",
       " ('network.8.bias',\n",
       "  Parameter containing:\n",
       "  tensor([ 0.0722,  0.0353, -0.0064,  0.0384, -0.0034,  0.0310,  0.0269,  0.0526,\n",
       "           0.0168,  0.0584, -0.0163, -0.0427, -0.0341,  0.0458, -0.0464, -0.0467,\n",
       "           0.0126,  0.0699, -0.0457,  0.0688, -0.0129, -0.0398,  0.0139,  0.0222,\n",
       "          -0.0674,  0.0400,  0.0404, -0.0023,  0.0759,  0.0184,  0.0028,  0.0104],\n",
       "         device='cuda:0', requires_grad=True)),\n",
       " ('network.10.weight',\n",
       "  Parameter containing:\n",
       "  tensor([[-0.0834, -0.0682,  0.2408, -0.1925, -0.0980, -0.1762,  0.1151,  0.1726,\n",
       "           -0.1001,  0.0810, -0.2674, -0.0397, -0.2565, -0.2305, -0.1203,  0.1779,\n",
       "            0.1517,  0.1654, -0.2719, -0.0928,  0.2039, -0.0775,  0.2530, -0.1741,\n",
       "            0.0880,  0.1794, -0.1583, -0.0476,  0.1250,  0.0756, -0.0941,  0.0212],\n",
       "          [ 0.0717,  0.1737,  0.1270,  0.2544,  0.0738,  0.1654,  0.1850,  0.1694,\n",
       "           -0.0774,  0.0219,  0.2529, -0.1810,  0.0108,  0.0455, -0.0223,  0.0175,\n",
       "            0.1071,  0.1997, -0.2355, -0.0110, -0.1071,  0.1110,  0.1052,  0.0478,\n",
       "           -0.2127,  0.2070, -0.0210,  0.1940,  0.2289, -0.1398, -0.1720, -0.0420],\n",
       "          [ 0.1814,  0.0870, -0.0391, -0.1599, -0.0186,  0.0403, -0.1451,  0.0821,\n",
       "            0.0053,  0.1067, -0.1493, -0.0529, -0.0240,  0.0755, -0.0491, -0.2238,\n",
       "            0.1670,  0.1168, -0.0308,  0.1786, -0.0493, -0.1981,  0.0787, -0.0177,\n",
       "           -0.0684, -0.0123,  0.2112, -0.2137,  0.1350,  0.1042,  0.1426,  0.1480],\n",
       "          [ 0.0181, -0.2804,  0.0037,  0.0948,  0.1590, -0.1950, -0.3036, -0.1116,\n",
       "           -0.1462, -0.3374, -0.1317, -0.1366,  0.0991,  0.1137, -0.3169, -0.1329,\n",
       "           -0.2680,  0.0408,  0.3897, -0.3260,  0.2877,  0.1758, -0.0477,  0.1389,\n",
       "            0.2034, -0.3647, -0.1571,  0.0796, -0.1406, -0.0163, -0.1856, -0.1914],\n",
       "          [-0.0048, -0.1381, -0.0558, -0.1347, -0.1139,  0.0261, -0.0942, -0.1148,\n",
       "            0.0659, -0.0696, -0.0938, -0.0314,  0.1168,  0.1536,  0.2067,  0.0909,\n",
       "            0.0669, -0.1479, -0.1184, -0.0038,  0.0509, -0.0949, -0.1346, -0.1936,\n",
       "           -0.0360,  0.2202, -0.0460, -0.1613,  0.0438, -0.1868,  0.0322,  0.0073],\n",
       "          [-0.0282,  0.1045, -0.1224, -0.1240, -0.1267, -0.0397,  0.0679, -0.1312,\n",
       "            0.1312,  0.1435,  0.0031, -0.0012,  0.0624,  0.1517, -0.0900,  0.1687,\n",
       "           -0.1799, -0.0337, -0.0835, -0.0760, -0.0278, -0.1963, -0.2115,  0.1163,\n",
       "           -0.1002,  0.1392,  0.0869, -0.1080,  0.0877,  0.1097,  0.0938,  0.1990],\n",
       "          [-0.3477,  0.2621, -0.0412,  0.0322, -0.2087,  0.2444,  0.0725, -0.1123,\n",
       "            0.0573, -0.1010,  0.2057,  0.3119,  0.2781, -0.2867,  0.1918,  0.0134,\n",
       "            0.1390,  0.0852,  0.2223, -0.0398, -0.3011,  0.2486, -0.0910,  0.1000,\n",
       "            0.1722,  0.0798, -0.2137,  0.0399, -0.2467,  0.2110, -0.1134,  0.2185]],\n",
       "         device='cuda:0', requires_grad=True)),\n",
       " ('network.10.bias',\n",
       "  Parameter containing:\n",
       "  tensor([ 0.0003,  0.0366,  0.0367, -0.1204, -0.1008,  0.0864,  0.0248],\n",
       "         device='cuda:0', requires_grad=True))]"
      ]
     },
     "execution_count": 29,
     "metadata": {},
     "output_type": "execute_result"
    }
   ],
   "source": [
    "list(my_model.named_parameters())"
   ]
  },
  {
   "cell_type": "code",
   "execution_count": 30,
   "metadata": {
    "pycharm": {
     "name": "#%%\n"
    }
   },
   "outputs": [
    {
     "data": {
      "text/plain": [
       "[('weight',\n",
       "  Parameter containing:\n",
       "  tensor([[[[-1.6450e-01,  7.1729e-02,  3.8232e-02],\n",
       "            [-8.1310e-02,  7.0938e-02,  1.3076e-01],\n",
       "            [ 1.3661e-01, -1.3643e-02,  1.3898e-01]],\n",
       "  \n",
       "           [[-1.1527e-01, -9.0168e-02,  1.4220e-01],\n",
       "            [-8.1381e-02, -1.0638e-01,  2.7900e-02],\n",
       "            [-1.7061e-01, -1.5271e-01, -2.0872e-01]],\n",
       "  \n",
       "           [[ 7.7182e-02,  1.6336e-01, -5.3359e-02],\n",
       "            [-5.8709e-02,  5.5510e-02, -1.7101e-02],\n",
       "            [ 1.6496e-01,  8.4235e-02,  1.6009e-01]]],\n",
       "  \n",
       "  \n",
       "          [[[ 3.1319e-02, -1.5807e-01,  1.4576e-02],\n",
       "            [-7.8010e-03,  9.6179e-02,  1.4549e-01],\n",
       "            [ 1.2192e-01, -1.8322e-01,  1.0095e-01]],\n",
       "  \n",
       "           [[ 1.4442e-01, -1.2513e-01,  1.6564e-01],\n",
       "            [-9.0358e-02, -1.2560e-01,  1.1008e-01],\n",
       "            [-4.2875e-02, -3.2928e-05, -7.4134e-02]],\n",
       "  \n",
       "           [[-5.3963e-02,  1.3545e-02, -2.0425e-02],\n",
       "            [ 6.7547e-02, -1.2748e-01, -1.4219e-01],\n",
       "            [ 2.0199e-01, -1.0996e-01,  1.5671e-01]]],\n",
       "  \n",
       "  \n",
       "          [[[-7.5652e-02, -5.2596e-02,  1.0049e-01],\n",
       "            [ 1.5742e-01,  2.0371e-01,  1.9959e-01],\n",
       "            [ 1.9453e-01, -2.2427e-01,  1.9052e-01]],\n",
       "  \n",
       "           [[ 6.5482e-02, -6.2443e-02, -1.6572e-01],\n",
       "            [ 1.6112e-01,  1.6165e-01,  1.6025e-01],\n",
       "            [-7.8909e-02,  6.9429e-02,  9.7437e-02]],\n",
       "  \n",
       "           [[-9.9945e-02, -2.1963e-02,  5.8668e-02],\n",
       "            [-1.0487e-01,  2.4247e-02,  2.3201e-03],\n",
       "            [ 1.0734e-01,  2.1726e-03,  1.0431e-01]]],\n",
       "  \n",
       "  \n",
       "          [[[-2.1082e-02, -1.5941e-01,  1.2015e-01],\n",
       "            [-9.2034e-02, -1.2686e-01,  5.4896e-02],\n",
       "            [-1.1880e-01,  2.7602e-02, -1.6762e-01]],\n",
       "  \n",
       "           [[ 6.1496e-02,  6.1364e-02,  1.6190e-01],\n",
       "            [ 3.0965e-02, -3.4488e-02,  2.0559e-01],\n",
       "            [-1.2060e-01, -7.5133e-02, -2.7371e-02]],\n",
       "  \n",
       "           [[-1.1532e-01,  1.3672e-01,  1.5972e-01],\n",
       "            [-1.6347e-01, -1.6876e-01,  1.2815e-01],\n",
       "            [-4.7714e-02,  1.1686e-01,  5.0048e-02]]],\n",
       "  \n",
       "  \n",
       "          [[[ 1.1084e-01,  1.9422e-01, -4.7393e-02],\n",
       "            [-8.8142e-02, -1.6340e-02,  1.3050e-01],\n",
       "            [-7.5574e-02,  1.5420e-02, -8.8612e-02]],\n",
       "  \n",
       "           [[-1.4114e-01, -1.8463e-01,  3.6911e-02],\n",
       "            [-1.3479e-01, -9.7916e-02, -8.0170e-02],\n",
       "            [-8.5697e-02, -6.0063e-02,  1.6368e-01]],\n",
       "  \n",
       "           [[-1.8569e-01, -1.8774e-01,  1.0512e-01],\n",
       "            [-1.8515e-01, -2.9493e-02,  1.8687e-02],\n",
       "            [ 1.4316e-01, -7.3404e-02, -5.0304e-02]]],\n",
       "  \n",
       "  \n",
       "          [[[ 8.7481e-03,  6.6078e-02,  4.1279e-02],\n",
       "            [-5.3893e-02,  6.6285e-03, -5.9191e-02],\n",
       "            [-1.9599e-02,  1.3120e-01,  7.7988e-02]],\n",
       "  \n",
       "           [[ 1.3812e-01,  1.0767e-01, -9.3906e-02],\n",
       "            [-1.4500e-01,  5.4685e-03,  3.3502e-02],\n",
       "            [-8.6064e-02,  7.0255e-02, -5.8143e-02]],\n",
       "  \n",
       "           [[ 1.1648e-01, -3.6458e-02,  1.2932e-01],\n",
       "            [ 1.5273e-01,  1.5428e-01, -1.2735e-01],\n",
       "            [-1.2615e-01,  8.1897e-02, -2.0967e-01]]],\n",
       "  \n",
       "  \n",
       "          [[[-1.2954e-01, -5.1593e-02,  9.3552e-02],\n",
       "            [-9.2534e-05, -1.5627e-01, -1.0769e-01],\n",
       "            [-6.8046e-02, -1.7598e-01,  6.3110e-02]],\n",
       "  \n",
       "           [[-1.2277e-01, -2.1685e-01, -5.6540e-02],\n",
       "            [ 3.2082e-02, -6.2077e-02,  1.3954e-01],\n",
       "            [-1.0942e-02,  5.2210e-02,  5.5870e-02]],\n",
       "  \n",
       "           [[-6.0243e-02,  1.4699e-01, -1.3006e-01],\n",
       "            [ 1.1457e-01,  7.2163e-02,  1.9467e-01],\n",
       "            [ 1.3556e-04,  3.8140e-02, -5.8765e-02]]],\n",
       "  \n",
       "  \n",
       "          [[[ 7.8231e-02, -5.2384e-02, -1.1796e-01],\n",
       "            [-1.8787e-01, -1.2941e-01,  1.9455e-01],\n",
       "            [ 7.9154e-02, -2.8448e-02, -3.9811e-02]],\n",
       "  \n",
       "           [[ 8.1678e-02, -6.1855e-02,  1.3151e-01],\n",
       "            [ 1.8058e-01,  1.0802e-01,  1.7937e-01],\n",
       "            [-1.1509e-03,  5.1318e-02, -7.4538e-02]],\n",
       "  \n",
       "           [[ 5.1834e-02,  4.6626e-02,  1.3375e-01],\n",
       "            [ 8.3714e-02, -1.7317e-01, -1.3955e-01],\n",
       "            [-9.0498e-02,  1.2100e-01, -1.2036e-01]]]], device='cuda:0',\n",
       "         requires_grad=True)),\n",
       " ('bias',\n",
       "  Parameter containing:\n",
       "  tensor([-0.0959, -0.0240,  0.0940,  0.1523,  0.0888, -0.1228,  0.1682,  0.1842],\n",
       "         device='cuda:0', requires_grad=True))]"
      ]
     },
     "execution_count": 30,
     "metadata": {},
     "output_type": "execute_result"
    }
   ],
   "source": [
    "list(my_model.network[0].named_parameters())"
   ]
  },
  {
   "cell_type": "code",
   "execution_count": 31,
   "metadata": {
    "pycharm": {
     "name": "#%%\n"
    }
   },
   "outputs": [
    {
     "data": {
      "text/plain": [
       "Conv2d(3, 8, kernel_size=(3, 3), stride=(1, 1), padding=(1, 1))"
      ]
     },
     "execution_count": 31,
     "metadata": {},
     "output_type": "execute_result"
    }
   ],
   "source": [
    "prune.random_unstructured(my_model.network[0], name=\"weight\", amount=0.3)"
   ]
  },
  {
   "cell_type": "code",
   "execution_count": 32,
   "metadata": {
    "pycharm": {
     "name": "#%%\n"
    }
   },
   "outputs": [
    {
     "data": {
      "text/plain": [
       "[('bias',\n",
       "  Parameter containing:\n",
       "  tensor([-0.0959, -0.0240,  0.0940,  0.1523,  0.0888, -0.1228,  0.1682,  0.1842],\n",
       "         device='cuda:0', requires_grad=True)),\n",
       " ('weight_orig',\n",
       "  Parameter containing:\n",
       "  tensor([[[[-1.6450e-01,  7.1729e-02,  3.8232e-02],\n",
       "            [-8.1310e-02,  7.0938e-02,  1.3076e-01],\n",
       "            [ 1.3661e-01, -1.3643e-02,  1.3898e-01]],\n",
       "  \n",
       "           [[-1.1527e-01, -9.0168e-02,  1.4220e-01],\n",
       "            [-8.1381e-02, -1.0638e-01,  2.7900e-02],\n",
       "            [-1.7061e-01, -1.5271e-01, -2.0872e-01]],\n",
       "  \n",
       "           [[ 7.7182e-02,  1.6336e-01, -5.3359e-02],\n",
       "            [-5.8709e-02,  5.5510e-02, -1.7101e-02],\n",
       "            [ 1.6496e-01,  8.4235e-02,  1.6009e-01]]],\n",
       "  \n",
       "  \n",
       "          [[[ 3.1319e-02, -1.5807e-01,  1.4576e-02],\n",
       "            [-7.8010e-03,  9.6179e-02,  1.4549e-01],\n",
       "            [ 1.2192e-01, -1.8322e-01,  1.0095e-01]],\n",
       "  \n",
       "           [[ 1.4442e-01, -1.2513e-01,  1.6564e-01],\n",
       "            [-9.0358e-02, -1.2560e-01,  1.1008e-01],\n",
       "            [-4.2875e-02, -3.2928e-05, -7.4134e-02]],\n",
       "  \n",
       "           [[-5.3963e-02,  1.3545e-02, -2.0425e-02],\n",
       "            [ 6.7547e-02, -1.2748e-01, -1.4219e-01],\n",
       "            [ 2.0199e-01, -1.0996e-01,  1.5671e-01]]],\n",
       "  \n",
       "  \n",
       "          [[[-7.5652e-02, -5.2596e-02,  1.0049e-01],\n",
       "            [ 1.5742e-01,  2.0371e-01,  1.9959e-01],\n",
       "            [ 1.9453e-01, -2.2427e-01,  1.9052e-01]],\n",
       "  \n",
       "           [[ 6.5482e-02, -6.2443e-02, -1.6572e-01],\n",
       "            [ 1.6112e-01,  1.6165e-01,  1.6025e-01],\n",
       "            [-7.8909e-02,  6.9429e-02,  9.7437e-02]],\n",
       "  \n",
       "           [[-9.9945e-02, -2.1963e-02,  5.8668e-02],\n",
       "            [-1.0487e-01,  2.4247e-02,  2.3201e-03],\n",
       "            [ 1.0734e-01,  2.1726e-03,  1.0431e-01]]],\n",
       "  \n",
       "  \n",
       "          [[[-2.1082e-02, -1.5941e-01,  1.2015e-01],\n",
       "            [-9.2034e-02, -1.2686e-01,  5.4896e-02],\n",
       "            [-1.1880e-01,  2.7602e-02, -1.6762e-01]],\n",
       "  \n",
       "           [[ 6.1496e-02,  6.1364e-02,  1.6190e-01],\n",
       "            [ 3.0965e-02, -3.4488e-02,  2.0559e-01],\n",
       "            [-1.2060e-01, -7.5133e-02, -2.7371e-02]],\n",
       "  \n",
       "           [[-1.1532e-01,  1.3672e-01,  1.5972e-01],\n",
       "            [-1.6347e-01, -1.6876e-01,  1.2815e-01],\n",
       "            [-4.7714e-02,  1.1686e-01,  5.0048e-02]]],\n",
       "  \n",
       "  \n",
       "          [[[ 1.1084e-01,  1.9422e-01, -4.7393e-02],\n",
       "            [-8.8142e-02, -1.6340e-02,  1.3050e-01],\n",
       "            [-7.5574e-02,  1.5420e-02, -8.8612e-02]],\n",
       "  \n",
       "           [[-1.4114e-01, -1.8463e-01,  3.6911e-02],\n",
       "            [-1.3479e-01, -9.7916e-02, -8.0170e-02],\n",
       "            [-8.5697e-02, -6.0063e-02,  1.6368e-01]],\n",
       "  \n",
       "           [[-1.8569e-01, -1.8774e-01,  1.0512e-01],\n",
       "            [-1.8515e-01, -2.9493e-02,  1.8687e-02],\n",
       "            [ 1.4316e-01, -7.3404e-02, -5.0304e-02]]],\n",
       "  \n",
       "  \n",
       "          [[[ 8.7481e-03,  6.6078e-02,  4.1279e-02],\n",
       "            [-5.3893e-02,  6.6285e-03, -5.9191e-02],\n",
       "            [-1.9599e-02,  1.3120e-01,  7.7988e-02]],\n",
       "  \n",
       "           [[ 1.3812e-01,  1.0767e-01, -9.3906e-02],\n",
       "            [-1.4500e-01,  5.4685e-03,  3.3502e-02],\n",
       "            [-8.6064e-02,  7.0255e-02, -5.8143e-02]],\n",
       "  \n",
       "           [[ 1.1648e-01, -3.6458e-02,  1.2932e-01],\n",
       "            [ 1.5273e-01,  1.5428e-01, -1.2735e-01],\n",
       "            [-1.2615e-01,  8.1897e-02, -2.0967e-01]]],\n",
       "  \n",
       "  \n",
       "          [[[-1.2954e-01, -5.1593e-02,  9.3552e-02],\n",
       "            [-9.2534e-05, -1.5627e-01, -1.0769e-01],\n",
       "            [-6.8046e-02, -1.7598e-01,  6.3110e-02]],\n",
       "  \n",
       "           [[-1.2277e-01, -2.1685e-01, -5.6540e-02],\n",
       "            [ 3.2082e-02, -6.2077e-02,  1.3954e-01],\n",
       "            [-1.0942e-02,  5.2210e-02,  5.5870e-02]],\n",
       "  \n",
       "           [[-6.0243e-02,  1.4699e-01, -1.3006e-01],\n",
       "            [ 1.1457e-01,  7.2163e-02,  1.9467e-01],\n",
       "            [ 1.3556e-04,  3.8140e-02, -5.8765e-02]]],\n",
       "  \n",
       "  \n",
       "          [[[ 7.8231e-02, -5.2384e-02, -1.1796e-01],\n",
       "            [-1.8787e-01, -1.2941e-01,  1.9455e-01],\n",
       "            [ 7.9154e-02, -2.8448e-02, -3.9811e-02]],\n",
       "  \n",
       "           [[ 8.1678e-02, -6.1855e-02,  1.3151e-01],\n",
       "            [ 1.8058e-01,  1.0802e-01,  1.7937e-01],\n",
       "            [-1.1509e-03,  5.1318e-02, -7.4538e-02]],\n",
       "  \n",
       "           [[ 5.1834e-02,  4.6626e-02,  1.3375e-01],\n",
       "            [ 8.3714e-02, -1.7317e-01, -1.3955e-01],\n",
       "            [-9.0498e-02,  1.2100e-01, -1.2036e-01]]]], device='cuda:0',\n",
       "         requires_grad=True))]"
      ]
     },
     "execution_count": 32,
     "metadata": {},
     "output_type": "execute_result"
    }
   ],
   "source": [
    "list(my_model.network[0].named_parameters())"
   ]
  },
  {
   "cell_type": "code",
   "execution_count": 33,
   "metadata": {
    "pycharm": {
     "name": "#%%\n"
    }
   },
   "outputs": [
    {
     "name": "stdout",
     "output_type": "stream",
     "text": [
      "[('weight_mask', tensor([[[[0., 1., 0.],\n",
      "          [1., 1., 1.],\n",
      "          [1., 1., 0.]],\n",
      "\n",
      "         [[1., 1., 1.],\n",
      "          [0., 1., 1.],\n",
      "          [1., 1., 1.]],\n",
      "\n",
      "         [[1., 0., 1.],\n",
      "          [1., 1., 1.],\n",
      "          [1., 1., 1.]]],\n",
      "\n",
      "\n",
      "        [[[1., 1., 0.],\n",
      "          [1., 0., 1.],\n",
      "          [1., 1., 0.]],\n",
      "\n",
      "         [[1., 1., 0.],\n",
      "          [1., 1., 1.],\n",
      "          [1., 1., 0.]],\n",
      "\n",
      "         [[0., 0., 0.],\n",
      "          [1., 1., 1.],\n",
      "          [0., 1., 0.]]],\n",
      "\n",
      "\n",
      "        [[[1., 1., 0.],\n",
      "          [0., 0., 0.],\n",
      "          [1., 1., 1.]],\n",
      "\n",
      "         [[1., 1., 0.],\n",
      "          [1., 1., 1.],\n",
      "          [1., 1., 1.]],\n",
      "\n",
      "         [[1., 1., 1.],\n",
      "          [1., 0., 1.],\n",
      "          [1., 0., 1.]]],\n",
      "\n",
      "\n",
      "        [[[1., 1., 1.],\n",
      "          [0., 1., 1.],\n",
      "          [1., 1., 1.]],\n",
      "\n",
      "         [[1., 0., 0.],\n",
      "          [1., 0., 0.],\n",
      "          [1., 1., 1.]],\n",
      "\n",
      "         [[0., 0., 1.],\n",
      "          [0., 1., 1.],\n",
      "          [1., 0., 1.]]],\n",
      "\n",
      "\n",
      "        [[[0., 1., 1.],\n",
      "          [1., 1., 1.],\n",
      "          [1., 1., 1.]],\n",
      "\n",
      "         [[1., 0., 1.],\n",
      "          [1., 0., 0.],\n",
      "          [1., 1., 1.]],\n",
      "\n",
      "         [[0., 1., 0.],\n",
      "          [1., 1., 0.],\n",
      "          [1., 1., 1.]]],\n",
      "\n",
      "\n",
      "        [[[1., 0., 1.],\n",
      "          [1., 0., 0.],\n",
      "          [1., 1., 1.]],\n",
      "\n",
      "         [[1., 1., 0.],\n",
      "          [0., 0., 0.],\n",
      "          [1., 0., 0.]],\n",
      "\n",
      "         [[0., 1., 0.],\n",
      "          [1., 1., 1.],\n",
      "          [1., 1., 1.]]],\n",
      "\n",
      "\n",
      "        [[[1., 1., 1.],\n",
      "          [1., 0., 0.],\n",
      "          [1., 1., 1.]],\n",
      "\n",
      "         [[0., 1., 1.],\n",
      "          [0., 0., 0.],\n",
      "          [0., 1., 1.]],\n",
      "\n",
      "         [[0., 1., 1.],\n",
      "          [1., 0., 0.],\n",
      "          [1., 0., 1.]]],\n",
      "\n",
      "\n",
      "        [[[1., 0., 1.],\n",
      "          [0., 1., 0.],\n",
      "          [1., 1., 1.]],\n",
      "\n",
      "         [[1., 1., 1.],\n",
      "          [1., 1., 1.],\n",
      "          [0., 1., 1.]],\n",
      "\n",
      "         [[1., 1., 1.],\n",
      "          [1., 1., 0.],\n",
      "          [1., 1., 1.]]]], device='cuda:0'))]\n"
     ]
    }
   ],
   "source": [
    "print(list(my_model.network[0].named_buffers()))"
   ]
  },
  {
   "cell_type": "markdown",
   "metadata": {
    "pycharm": {
     "name": "#%% md\n"
    }
   },
   "source": [
    "Первый сверточный слой модуля network запрунен. Выше видно маску весов"
   ]
  },
  {
   "cell_type": "code",
   "execution_count": null,
   "metadata": {
    "pycharm": {
     "name": "#%%\n"
    }
   },
   "outputs": [],
   "source": []
  }
 ],
 "metadata": {
  "kernelspec": {
   "display_name": "Python 3 (ipykernel)",
   "language": "python",
   "name": "python3"
  },
  "language_info": {
   "codemirror_mode": {
    "name": "ipython",
    "version": 3
   },
   "file_extension": ".py",
   "mimetype": "text/x-python",
   "name": "python",
   "nbconvert_exporter": "python",
   "pygments_lexer": "ipython3",
   "version": "3.9.7"
  }
 },
 "nbformat": 4,
 "nbformat_minor": 1
}