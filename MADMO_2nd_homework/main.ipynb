{
 "cells": [
  {
   "cell_type": "markdown",
   "metadata": {
    "collapsed": true,
    "pycharm": {
     "name": "#%% md\n"
    }
   },
   "source": [
    "### Якубов В.Ю. ДЗ_2 МАДМО\n",
    " - реализовать и отладить файнтюнинг крупной модели\n",
    " - Реализовать собственную модель\n",
    " - Реализовать дистилляцию из крупной модели в небольшую предобученную\n",
    " - Использовать Прунинг"
   ]
  },
  {
   "cell_type": "code",
   "execution_count": 102,
   "outputs": [],
   "source": [
    "import os\n",
    "import shutil\n",
    "from tqdm import tqdm\n",
    "import pandas as pd\n",
    "from torch.optim.lr_scheduler import ReduceLROnPlateau\n",
    "from torch.optim import Adam\n",
    "from IPython.display import clear_output\n",
    "from sklearn.metrics import classification_report"
   ],
   "metadata": {
    "collapsed": false,
    "pycharm": {
     "name": "#%%\n"
    }
   }
  },
  {
   "cell_type": "code",
   "execution_count": 103,
   "outputs": [],
   "source": [
    "import matplotlib.pyplot as plt"
   ],
   "metadata": {
    "collapsed": false,
    "pycharm": {
     "name": "#%%\n"
    }
   }
  },
  {
   "cell_type": "code",
   "execution_count": 104,
   "outputs": [],
   "source": [
    "import numpy as np"
   ],
   "metadata": {
    "collapsed": false,
    "pycharm": {
     "name": "#%%\n"
    }
   }
  },
  {
   "cell_type": "code",
   "execution_count": 105,
   "outputs": [],
   "source": [
    "from sklearn.preprocessing import LabelEncoder"
   ],
   "metadata": {
    "collapsed": false,
    "pycharm": {
     "name": "#%%\n"
    }
   }
  },
  {
   "cell_type": "code",
   "execution_count": 106,
   "outputs": [],
   "source": [
    "from sklearn.model_selection import train_test_split\n",
    "import torchvision.models as models"
   ],
   "metadata": {
    "collapsed": false,
    "pycharm": {
     "name": "#%%\n"
    }
   }
  },
  {
   "cell_type": "code",
   "execution_count": 107,
   "outputs": [],
   "source": [
    "import torch\n",
    "from torch import nn\n",
    "from torch.utils.data import Dataset, DataLoader\n",
    "from torchvision import transforms"
   ],
   "metadata": {
    "collapsed": false,
    "pycharm": {
     "name": "#%%\n"
    }
   }
  },
  {
   "cell_type": "code",
   "execution_count": 108,
   "outputs": [],
   "source": [
    "from PIL import Image"
   ],
   "metadata": {
    "collapsed": false,
    "pycharm": {
     "name": "#%%\n"
    }
   }
  },
  {
   "cell_type": "code",
   "execution_count": 109,
   "outputs": [],
   "source": [
    "from sklearn.utils import resample"
   ],
   "metadata": {
    "collapsed": false,
    "pycharm": {
     "name": "#%%\n"
    }
   }
  },
  {
   "cell_type": "code",
   "execution_count": 110,
   "outputs": [
    {
     "name": "stderr",
     "output_type": "stream",
     "text": [
      "100%|██████████| 5000/5000 [00:02<00:00, 1680.36it/s]\n",
      "100%|██████████| 5015/5015 [00:03<00:00, 1468.46it/s]\n"
     ]
    }
   ],
   "source": [
    "if 'merged_data' not in os.listdir():\n",
    "    os.makedirs('merged_data')\n",
    "for i in tqdm(os.listdir('cancer_dataset/HAM10000_images_part_1')):\n",
    "    shutil.copyfile(f'cancer_dataset/HAM10000_images_part_1/{i}', f'merged_data/{i}')\n",
    "for i in tqdm(os.listdir('cancer_dataset/HAM10000_images_part_2')):\n",
    "    shutil.copyfile(f'cancer_dataset/HAM10000_images_part_2/{i}', f'merged_data/{i}')"
   ],
   "metadata": {
    "collapsed": false,
    "pycharm": {
     "name": "#%%\n"
    }
   }
  },
  {
   "cell_type": "code",
   "execution_count": 111,
   "outputs": [],
   "source": [
    "dataframe = pd.read_csv('cancer_dataset/HAM10000_metadata.csv')"
   ],
   "metadata": {
    "collapsed": false,
    "pycharm": {
     "name": "#%%\n"
    }
   }
  },
  {
   "cell_type": "code",
   "execution_count": 112,
   "outputs": [
    {
     "data": {
      "text/plain": "     lesion_id      image_id   dx dx_type   age   sex localization\n0  HAM_0000118  ISIC_0027419  bkl   histo  80.0  male        scalp\n1  HAM_0000118  ISIC_0025030  bkl   histo  80.0  male        scalp\n2  HAM_0002730  ISIC_0026769  bkl   histo  80.0  male        scalp\n3  HAM_0002730  ISIC_0025661  bkl   histo  80.0  male        scalp\n4  HAM_0001466  ISIC_0031633  bkl   histo  75.0  male          ear",
      "text/html": "<div>\n<style scoped>\n    .dataframe tbody tr th:only-of-type {\n        vertical-align: middle;\n    }\n\n    .dataframe tbody tr th {\n        vertical-align: top;\n    }\n\n    .dataframe thead th {\n        text-align: right;\n    }\n</style>\n<table border=\"1\" class=\"dataframe\">\n  <thead>\n    <tr style=\"text-align: right;\">\n      <th></th>\n      <th>lesion_id</th>\n      <th>image_id</th>\n      <th>dx</th>\n      <th>dx_type</th>\n      <th>age</th>\n      <th>sex</th>\n      <th>localization</th>\n    </tr>\n  </thead>\n  <tbody>\n    <tr>\n      <th>0</th>\n      <td>HAM_0000118</td>\n      <td>ISIC_0027419</td>\n      <td>bkl</td>\n      <td>histo</td>\n      <td>80.0</td>\n      <td>male</td>\n      <td>scalp</td>\n    </tr>\n    <tr>\n      <th>1</th>\n      <td>HAM_0000118</td>\n      <td>ISIC_0025030</td>\n      <td>bkl</td>\n      <td>histo</td>\n      <td>80.0</td>\n      <td>male</td>\n      <td>scalp</td>\n    </tr>\n    <tr>\n      <th>2</th>\n      <td>HAM_0002730</td>\n      <td>ISIC_0026769</td>\n      <td>bkl</td>\n      <td>histo</td>\n      <td>80.0</td>\n      <td>male</td>\n      <td>scalp</td>\n    </tr>\n    <tr>\n      <th>3</th>\n      <td>HAM_0002730</td>\n      <td>ISIC_0025661</td>\n      <td>bkl</td>\n      <td>histo</td>\n      <td>80.0</td>\n      <td>male</td>\n      <td>scalp</td>\n    </tr>\n    <tr>\n      <th>4</th>\n      <td>HAM_0001466</td>\n      <td>ISIC_0031633</td>\n      <td>bkl</td>\n      <td>histo</td>\n      <td>75.0</td>\n      <td>male</td>\n      <td>ear</td>\n    </tr>\n  </tbody>\n</table>\n</div>"
     },
     "execution_count": 112,
     "metadata": {},
     "output_type": "execute_result"
    }
   ],
   "source": [
    "dataframe.head()"
   ],
   "metadata": {
    "collapsed": false,
    "pycharm": {
     "name": "#%%\n"
    }
   }
  },
  {
   "cell_type": "code",
   "execution_count": 113,
   "outputs": [],
   "source": [
    "le = LabelEncoder()\n",
    "dataframe.dx = le.fit_transform(dataframe.dx)"
   ],
   "metadata": {
    "collapsed": false,
    "pycharm": {
     "name": "#%%\n"
    }
   }
  },
  {
   "cell_type": "code",
   "execution_count": 114,
   "outputs": [],
   "source": [
    "data_train, data_test = train_test_split(dataframe, test_size=0.2)"
   ],
   "metadata": {
    "collapsed": false,
    "pycharm": {
     "name": "#%%\n"
    }
   }
  },
  {
   "cell_type": "code",
   "execution_count": 115,
   "outputs": [],
   "source": [
    "maximum = data_train.groupby('dx').image_id.count().max()"
   ],
   "metadata": {
    "collapsed": false,
    "pycharm": {
     "name": "#%%\n"
    }
   }
  },
  {
   "cell_type": "code",
   "execution_count": 116,
   "outputs": [
    {
     "data": {
      "text/plain": "5356"
     },
     "execution_count": 116,
     "metadata": {},
     "output_type": "execute_result"
    }
   ],
   "source": [
    "maximum"
   ],
   "metadata": {
    "collapsed": false,
    "pycharm": {
     "name": "#%%\n"
    }
   }
  },
  {
   "cell_type": "code",
   "execution_count": 117,
   "outputs": [
    {
     "name": "stderr",
     "output_type": "stream",
     "text": [
      "C:\\Users\\Admin\\AppData\\Local\\Temp\\ipykernel_3408\\2850963880.py:3: FutureWarning: The frame.append method is deprecated and will be removed from pandas in a future version. Use pandas.concat instead.\n",
      "  res = res.append(resample(data_train[data_train.dx==i], n_samples=maximum))\n",
      "C:\\Users\\Admin\\AppData\\Local\\Temp\\ipykernel_3408\\2850963880.py:3: FutureWarning: The frame.append method is deprecated and will be removed from pandas in a future version. Use pandas.concat instead.\n",
      "  res = res.append(resample(data_train[data_train.dx==i], n_samples=maximum))\n",
      "C:\\Users\\Admin\\AppData\\Local\\Temp\\ipykernel_3408\\2850963880.py:3: FutureWarning: The frame.append method is deprecated and will be removed from pandas in a future version. Use pandas.concat instead.\n",
      "  res = res.append(resample(data_train[data_train.dx==i], n_samples=maximum))\n",
      "C:\\Users\\Admin\\AppData\\Local\\Temp\\ipykernel_3408\\2850963880.py:3: FutureWarning: The frame.append method is deprecated and will be removed from pandas in a future version. Use pandas.concat instead.\n",
      "  res = res.append(resample(data_train[data_train.dx==i], n_samples=maximum))\n",
      "C:\\Users\\Admin\\AppData\\Local\\Temp\\ipykernel_3408\\2850963880.py:3: FutureWarning: The frame.append method is deprecated and will be removed from pandas in a future version. Use pandas.concat instead.\n",
      "  res = res.append(resample(data_train[data_train.dx==i], n_samples=maximum))\n",
      "C:\\Users\\Admin\\AppData\\Local\\Temp\\ipykernel_3408\\2850963880.py:3: FutureWarning: The frame.append method is deprecated and will be removed from pandas in a future version. Use pandas.concat instead.\n",
      "  res = res.append(resample(data_train[data_train.dx==i], n_samples=maximum))\n",
      "C:\\Users\\Admin\\AppData\\Local\\Temp\\ipykernel_3408\\2850963880.py:3: FutureWarning: The frame.append method is deprecated and will be removed from pandas in a future version. Use pandas.concat instead.\n",
      "  res = res.append(resample(data_train[data_train.dx==i], n_samples=maximum))\n"
     ]
    }
   ],
   "source": [
    "res = pd.DataFrame()\n",
    "for i in data_train.dx.unique():\n",
    "    res = res.append(resample(data_train[data_train.dx==i], n_samples=maximum))"
   ],
   "metadata": {
    "collapsed": false,
    "pycharm": {
     "name": "#%%\n"
    }
   }
  },
  {
   "cell_type": "code",
   "execution_count": 118,
   "outputs": [
    {
     "data": {
      "text/plain": "         lesion_id      image_id  dx    dx_type   age     sex     localization\n9863   HAM_0003633  ISIC_0030280   0      histo  70.0    male  upper extremity\n9889   HAM_0005231  ISIC_0029043   0      histo  70.0    male  lower extremity\n9776   HAM_0005389  ISIC_0024372   0      histo  70.0    male  lower extremity\n10012  HAM_0002867  ISIC_0033536   0      histo  40.0    male          abdomen\n9907   HAM_0005020  ISIC_0026626   0      histo  65.0  female             face\n...            ...           ...  ..        ...   ...     ...              ...\n2461   HAM_0005560  ISIC_0027269   6  consensus  60.0  female            trunk\n2421   HAM_0002788  ISIC_0027563   6  consensus  70.0    male  lower extremity\n2418   HAM_0007150  ISIC_0028680   6  consensus  45.0  female            trunk\n2408   HAM_0006406  ISIC_0026336   6  consensus  50.0    male            trunk\n2356   HAM_0005878  ISIC_0033254   6      histo  15.0    male            chest\n\n[37492 rows x 7 columns]",
      "text/html": "<div>\n<style scoped>\n    .dataframe tbody tr th:only-of-type {\n        vertical-align: middle;\n    }\n\n    .dataframe tbody tr th {\n        vertical-align: top;\n    }\n\n    .dataframe thead th {\n        text-align: right;\n    }\n</style>\n<table border=\"1\" class=\"dataframe\">\n  <thead>\n    <tr style=\"text-align: right;\">\n      <th></th>\n      <th>lesion_id</th>\n      <th>image_id</th>\n      <th>dx</th>\n      <th>dx_type</th>\n      <th>age</th>\n      <th>sex</th>\n      <th>localization</th>\n    </tr>\n  </thead>\n  <tbody>\n    <tr>\n      <th>9863</th>\n      <td>HAM_0003633</td>\n      <td>ISIC_0030280</td>\n      <td>0</td>\n      <td>histo</td>\n      <td>70.0</td>\n      <td>male</td>\n      <td>upper extremity</td>\n    </tr>\n    <tr>\n      <th>9889</th>\n      <td>HAM_0005231</td>\n      <td>ISIC_0029043</td>\n      <td>0</td>\n      <td>histo</td>\n      <td>70.0</td>\n      <td>male</td>\n      <td>lower extremity</td>\n    </tr>\n    <tr>\n      <th>9776</th>\n      <td>HAM_0005389</td>\n      <td>ISIC_0024372</td>\n      <td>0</td>\n      <td>histo</td>\n      <td>70.0</td>\n      <td>male</td>\n      <td>lower extremity</td>\n    </tr>\n    <tr>\n      <th>10012</th>\n      <td>HAM_0002867</td>\n      <td>ISIC_0033536</td>\n      <td>0</td>\n      <td>histo</td>\n      <td>40.0</td>\n      <td>male</td>\n      <td>abdomen</td>\n    </tr>\n    <tr>\n      <th>9907</th>\n      <td>HAM_0005020</td>\n      <td>ISIC_0026626</td>\n      <td>0</td>\n      <td>histo</td>\n      <td>65.0</td>\n      <td>female</td>\n      <td>face</td>\n    </tr>\n    <tr>\n      <th>...</th>\n      <td>...</td>\n      <td>...</td>\n      <td>...</td>\n      <td>...</td>\n      <td>...</td>\n      <td>...</td>\n      <td>...</td>\n    </tr>\n    <tr>\n      <th>2461</th>\n      <td>HAM_0005560</td>\n      <td>ISIC_0027269</td>\n      <td>6</td>\n      <td>consensus</td>\n      <td>60.0</td>\n      <td>female</td>\n      <td>trunk</td>\n    </tr>\n    <tr>\n      <th>2421</th>\n      <td>HAM_0002788</td>\n      <td>ISIC_0027563</td>\n      <td>6</td>\n      <td>consensus</td>\n      <td>70.0</td>\n      <td>male</td>\n      <td>lower extremity</td>\n    </tr>\n    <tr>\n      <th>2418</th>\n      <td>HAM_0007150</td>\n      <td>ISIC_0028680</td>\n      <td>6</td>\n      <td>consensus</td>\n      <td>45.0</td>\n      <td>female</td>\n      <td>trunk</td>\n    </tr>\n    <tr>\n      <th>2408</th>\n      <td>HAM_0006406</td>\n      <td>ISIC_0026336</td>\n      <td>6</td>\n      <td>consensus</td>\n      <td>50.0</td>\n      <td>male</td>\n      <td>trunk</td>\n    </tr>\n    <tr>\n      <th>2356</th>\n      <td>HAM_0005878</td>\n      <td>ISIC_0033254</td>\n      <td>6</td>\n      <td>histo</td>\n      <td>15.0</td>\n      <td>male</td>\n      <td>chest</td>\n    </tr>\n  </tbody>\n</table>\n<p>37492 rows × 7 columns</p>\n</div>"
     },
     "execution_count": 118,
     "metadata": {},
     "output_type": "execute_result"
    }
   ],
   "source": [
    "res"
   ],
   "metadata": {
    "collapsed": false,
    "pycharm": {
     "name": "#%%\n"
    }
   }
  },
  {
   "cell_type": "code",
   "execution_count": 119,
   "outputs": [
    {
     "data": {
      "text/plain": "{0: 0.4285714285714286,\n 2: 0.4285714285714286,\n 4: 0.4285714285714286,\n 5: 0.4285714285714286,\n 1: 0.4285714285714286,\n 3: 0.4285714285714286,\n 6: 0.4285714285714286}"
     },
     "execution_count": 119,
     "metadata": {},
     "output_type": "execute_result"
    }
   ],
   "source": [
    "### Было бы полезно в случае, если\n",
    "transform_probability = (1 - res.dx.value_counts()/len(res)) * 0.5\n",
    "transform_probability_dict = transform_probability.to_dict()\n",
    "transform_probability_dict"
   ],
   "metadata": {
    "collapsed": false,
    "pycharm": {
     "name": "#%%\n"
    }
   }
  },
  {
   "cell_type": "code",
   "execution_count": 120,
   "outputs": [],
   "source": [
    "pos_weight = torch.tensor(((len(res)-res.dx.value_counts())/res.dx.value_counts()).reset_index().sort_values('index').dx)"
   ],
   "metadata": {
    "collapsed": false,
    "pycharm": {
     "name": "#%%\n"
    }
   }
  },
  {
   "cell_type": "code",
   "execution_count": 121,
   "outputs": [],
   "source": [
    "X_train, X_test, y_train, y_test = list(res.image_id), list(data_test.image_id), list(res.dx), list(data_test.dx)"
   ],
   "metadata": {
    "collapsed": false,
    "pycharm": {
     "name": "#%%\n"
    }
   }
  },
  {
   "cell_type": "code",
   "execution_count": 122,
   "outputs": [],
   "source": [
    "class CustomDataset(Dataset):\n",
    "    def __init__(self, images_paths, image_labels, transform_probs, train=True):\n",
    "        self.paths = images_paths\n",
    "        self.labels = image_labels\n",
    "        self.transform_probs = transform_probs\n",
    "        self.train = train\n",
    "    def __len__(self):\n",
    "        return len(self.paths)\n",
    "    def __getitem__(self, item):\n",
    "        image_name = self.paths[item]\n",
    "        image_label = self.labels[item]\n",
    "        image = Image.open(f'D:\\mlp\\MachineLearning\\MADMO_2nd_homework\\merged_data\\{image_name}.jpg')\n",
    "        transform_probability = self.transform_probs[image_label] if self.train else 0\n",
    "        transformation = transforms.Compose(\n",
    "            [\n",
    "                transforms.ToTensor(),\n",
    "                transforms.Resize((32, 32)),\n",
    "                transforms.Normalize(mean=(0.485, 0.456, 0.406),\n",
    "                                     std=(0.229, 0.224, 0.225)),\n",
    "                transforms.RandomHorizontalFlip(p=transform_probability),\n",
    "                transforms.RandomVerticalFlip(p=transform_probability)\n",
    "            ]\n",
    "        )\n",
    "        image = transformation(image)\n",
    "        return image, image_label\n"
   ],
   "metadata": {
    "collapsed": false,
    "pycharm": {
     "name": "#%%\n"
    }
   }
  },
  {
   "cell_type": "code",
   "execution_count": 123,
   "outputs": [],
   "source": [
    "batch_size = 1024\n",
    "train_dataset = CustomDataset(X_train, y_train, transform_probability_dict, train=True)\n",
    "train_dataloader = DataLoader(train_dataset, batch_size=batch_size, shuffle=True, drop_last=True)\n",
    "\n",
    "test_dataset = CustomDataset(X_test, y_test, transform_probability_dict, train=False)\n",
    "test_dataloader = DataLoader(test_dataset, batch_size=batch_size, shuffle=False, drop_last=False)"
   ],
   "metadata": {
    "collapsed": false,
    "pycharm": {
     "name": "#%%\n"
    }
   }
  },
  {
   "cell_type": "code",
   "execution_count": 124,
   "outputs": [],
   "source": [
    "vgg16 = models.vgg16(pretrained=True)"
   ],
   "metadata": {
    "collapsed": false,
    "pycharm": {
     "name": "#%%\n"
    }
   }
  },
  {
   "cell_type": "code",
   "execution_count": 125,
   "outputs": [],
   "source": [
    "device = 'cuda' if torch.cuda.is_available() else 'cpu'\n",
    "for param in vgg16.parameters():\n",
    "    param.requires_grad = False\n",
    "\n",
    "vgg16.classifier[6] = torch.nn.Linear(4096, 7)\n",
    "model = vgg16.to(device)"
   ],
   "metadata": {
    "collapsed": false,
    "pycharm": {
     "name": "#%%\n"
    }
   }
  },
  {
   "cell_type": "code",
   "execution_count": 126,
   "outputs": [],
   "source": [
    "num_epochs = 5\n",
    "lr = 1e-5\n",
    "optimizer = Adam(vgg16.parameters(), lr=lr)\n",
    "scheduler = ReduceLROnPlateau(optimizer=optimizer, factor=0.5, patience=2, threshold=1e-3)"
   ],
   "metadata": {
    "collapsed": false,
    "pycharm": {
     "name": "#%%\n"
    }
   }
  },
  {
   "cell_type": "code",
   "execution_count": 127,
   "outputs": [],
   "source": [
    "def loss_function(preds, true):\n",
    "    loss = nn.CrossEntropyLoss()\n",
    "    return loss(preds, true)"
   ],
   "metadata": {
    "collapsed": false,
    "pycharm": {
     "name": "#%%\n"
    }
   }
  },
  {
   "cell_type": "code",
   "execution_count": 128,
   "outputs": [],
   "source": [
    "all_train_losses = []\n",
    "all_test_losses = []"
   ],
   "metadata": {
    "collapsed": false,
    "pycharm": {
     "name": "#%%\n"
    }
   }
  },
  {
   "cell_type": "code",
   "execution_count": 136,
   "outputs": [],
   "source": [
    "def train_model(model,\n",
    "                num_epochs,\n",
    "                loss_function,\n",
    "                optimizer,\n",
    "                scheduler,\n",
    "                train_dataloader,\n",
    "                test_dataloader):\n",
    "    for epoch in range(num_epochs):\n",
    "        train_loss = 0\n",
    "        test_loss = 0\n",
    "        model.train(True)\n",
    "        print(f'epoch_number is {epoch}. Train')\n",
    "        for (X, y) in tqdm(train_dataloader):\n",
    "            model.zero_grad()\n",
    "            X = X.to(device)\n",
    "            y = y.to(device)\n",
    "            preds = model.forward(X)\n",
    "            loss = loss_function(preds, y)\n",
    "            loss.backward()\n",
    "            optimizer.step()\n",
    "            train_loss += loss.detach().item() / (len(train_dataloader))\n",
    "        model.train(False)\n",
    "        model.eval()\n",
    "        print(f'epoch_number is {epoch}. Test')\n",
    "        for (X, y) in tqdm(test_dataloader):\n",
    "            X = X.to(device)\n",
    "            y = y.to(device)\n",
    "            preds = model.forward(X)\n",
    "            loss = loss_function(preds, y)\n",
    "            test_loss += loss.detach().item() / (len(test_dataloader))\n",
    "        scheduler.step(test_loss)\n",
    "        clear_output()\n",
    "        all_train_losses.append(train_loss)\n",
    "        all_test_losses.append(test_loss)\n",
    "        print('loss train', train_loss)\n",
    "        print('loss test', test_loss)\n",
    "        plt.figure(figsize = (10, 6))\n",
    "        plt.plot(all_train_losses, label = 'Train loss', color = 'blue')\n",
    "        plt.plot(all_test_losses, label = 'Val loss', color = 'orange')\n",
    "        plt.legend()\n",
    "        plt.ylabel('Loss')\n",
    "        plt.grid()\n",
    "        plt.show()"
   ],
   "metadata": {
    "collapsed": false,
    "pycharm": {
     "name": "#%%\n"
    }
   }
  },
  {
   "cell_type": "code",
   "execution_count": null,
   "outputs": [
    {
     "name": "stdout",
     "output_type": "stream",
     "text": [
      "loss train 1.9837759468290546\n",
      "loss test 1.681295394897461\n"
     ]
    },
    {
     "data": {
      "text/plain": "<Figure size 720x432 with 1 Axes>",
      "image/png": "[encoded data removed]"
     },
     "metadata": {
      "needs_background": "light"
     },
     "output_type": "display_data"
    },
    {
     "name": "stdout",
     "output_type": "stream",
     "text": [
      "epoch_number is 1. Train\n"
     ]
    },
    {
     "name": "stderr",
     "output_type": "stream",
     "text": [
      "100%|██████████| 36/36 [03:46<00:00,  6.29s/it]\n"
     ]
    },
    {
     "name": "stdout",
     "output_type": "stream",
     "text": [
      "epoch_number is 1. Test\n"
     ]
    },
    {
     "name": "stderr",
     "output_type": "stream",
     "text": [
      "  0%|          | 0/2 [00:00<?, ?it/s]"
     ]
    }
   ],
   "source": [
    "train_model(vgg16, num_epochs, loss_function, optimizer, scheduler, train_dataloader, test_dataloader)"
   ],
   "metadata": {
    "collapsed": false,
    "pycharm": {
     "name": "#%%\n",
     "is_executing": true
    }
   }
  },
  {
   "cell_type": "code",
   "execution_count": null,
   "outputs": [],
   "source": [
    "vgg16.train(False)\n",
    "torch.save(vgg16.state_dict(), 'vgg16.pth')"
   ],
   "metadata": {
    "collapsed": false,
    "pycharm": {
     "name": "#%%\n",
     "is_executing": true
    }
   }
  },
  {
   "cell_type": "code",
   "execution_count": null,
   "outputs": [],
   "source": [
    "preds = []\n",
    "real = []\n",
    "for x, y in tqdm(test_dataloader):\n",
    "    with torch.no_grad():\n",
    "        preds.append(vgg16.forward(x.to(device)).detach().cpu().numpy())\n",
    "        real.append(y.numpy())"
   ],
   "metadata": {
    "collapsed": false,
    "pycharm": {
     "name": "#%%\n",
     "is_executing": true
    }
   }
  },
  {
   "cell_type": "code",
   "execution_count": null,
   "outputs": [],
   "source": [
    "final_preds = np.concatenate(preds).argmax(axis=1)\n",
    "real = np.concatenate(real)"
   ],
   "metadata": {
    "collapsed": false,
    "pycharm": {
     "name": "#%%\n",
     "is_executing": true
    }
   }
  },
  {
   "cell_type": "code",
   "execution_count": null,
   "outputs": [],
   "source": [
    "final_preds.min()"
   ],
   "metadata": {
    "collapsed": false,
    "pycharm": {
     "name": "#%%\n",
     "is_executing": true
    }
   }
  },
  {
   "cell_type": "code",
   "execution_count": null,
   "outputs": [],
   "source": [
    "print(classification_report(real, final_preds))"
   ],
   "metadata": {
    "collapsed": false,
    "pycharm": {
     "name": "#%%\n",
     "is_executing": true
    }
   }
  },
  {
   "cell_type": "code",
   "execution_count": null,
   "outputs": [],
   "source": [],
   "metadata": {
    "collapsed": false,
    "pycharm": {
     "name": "#%%\n"
    }
   }
  }
 ],
 "metadata": {
  "kernelspec": {
   "display_name": "Python 3",
   "language": "python",
   "name": "python3"
  },
  "language_info": {
   "codemirror_mode": {
    "name": "ipython",
    "version": 2
   },
   "file_extension": ".py",
   "mimetype": "text/x-python",
   "name": "python",
   "nbconvert_exporter": "python",
   "pygments_lexer": "ipython2",
   "version": "2.7.6"
  }
 },
 "nbformat": 4,
 "nbformat_minor": 0
}