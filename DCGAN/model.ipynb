{
 "cells": [
  {
   "cell_type": "code",
   "execution_count": 3,
   "metadata": {
    "collapsed": true
   },
   "outputs": [],
   "source": [
    "import torch\n",
    "import torch.nn as nn"
   ]
  },
  {
   "cell_type": "markdown",
   "source": [
    "#### Генератор и дискриминатор будем делать исходя из статьи\n",
    "<br>\n",
    "\n",
    "![Схема генератора из статьи](./images/generator_scheme.png)"
   ],
   "metadata": {
    "collapsed": false
   }
  },
  {
   "cell_type": "code",
   "execution_count": 4,
   "outputs": [],
   "source": [
    "class Discriminator(nn.Module):\n",
    "    def __init__(self, channels):\n",
    "        super(Discriminator, self).__init__()\n",
    "        self.discriminator = nn.Sequential(\n",
    "            nn.Conv2d(\n",
    "                in_channels=channels,\n",
    "                out_channels=128,\n",
    "                kernel_size=(4, 4),\n",
    "                stride=(2,2),\n",
    "                padding=1\n",
    "            ),\n",
    "            nn.LeakyReLU(0.2),\n",
    "            self._conv_block(128, 256, 4, 2, 1),\n",
    "            self._conv_block(256, 512, 4, 2, 1),\n",
    "            self._conv_block(512, 1024, 4, 2, 1),\n",
    "            nn.Conv2d(in_channels=1024, out_channels=1, kernel_size=(4,4), stride=(1,1), padding=0),\n",
    "            nn.Sigmoid()\n",
    "        )\n",
    "    def _conv_block(self, in_channels, out_channels, kernel, stride, padding):\n",
    "        return nn.Sequential(\n",
    "            nn.Conv2d(\n",
    "                in_channels = in_channels,\n",
    "                out_channels=out_channels,\n",
    "                kernel_size=kernel,\n",
    "                stride=stride,\n",
    "                padding=padding\n",
    "            ),\n",
    "            nn.BatchNorm2d(out_channels),\n",
    "            nn.LeakyReLU(0.2)\n",
    "        )\n",
    "\n",
    "    def forward(self, x):\n",
    "        return self.discriminator(x)"
   ],
   "metadata": {
    "collapsed": false,
    "pycharm": {
     "name": "#%%\n"
    }
   }
  },
  {
   "cell_type": "code",
   "execution_count": null,
   "outputs": [],
   "source": [],
   "metadata": {
    "collapsed": false,
    "pycharm": {
     "name": "#%%\n"
    }
   }
  }
 ],
 "metadata": {
  "kernelspec": {
   "display_name": "Python 3",
   "language": "python",
   "name": "python3"
  },
  "language_info": {
   "codemirror_mode": {
    "name": "ipython",
    "version": 2
   },
   "file_extension": ".py",
   "mimetype": "text/x-python",
   "name": "python",
   "nbconvert_exporter": "python",
   "pygments_lexer": "ipython2",
   "version": "2.7.6"
  }
 },
 "nbformat": 4,
 "nbformat_minor": 0
}