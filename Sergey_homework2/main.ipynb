{
 "cells": [
  {
   "cell_type": "markdown",
   "source": [
    "### Импорт необходимых библиотек"
   ],
   "metadata": {
    "collapsed": false,
    "pycharm": {
     "name": "#%% md\n"
    }
   }
  },
  {
   "cell_type": "code",
   "execution_count": 1,
   "outputs": [],
   "source": [
    "ыimport pandas as pd # Для чтения датафрейма\n",
    "from sklearn.preprocessing import LabelEncoder # для кодирования переменных\n",
    "from sklearn.model_selection import train_test_split # для разделения на трейн и тест\n",
    "from sklearn.utils import resample # Для апсемплинга\n",
    "from sklearn.ensemble import AdaBoostClassifier # по заданию\n",
    "from sklearn.ensemble import GradientBoostingClassifier  # по заданию\n",
    "from sklearn.metrics import classification_report # для вывода результата работы модели\n",
    "import numpy as np\n",
    "from sklearn.model_selection import GridSearchCV"
   ],
   "metadata": {
    "collapsed": false,
    "pycharm": {
     "name": "#%%\n"
    }
   }
  },
  {
   "cell_type": "markdown",
   "source": [
    "### Чтение данных"
   ],
   "metadata": {
    "collapsed": false,
    "pycharm": {
     "name": "#%% md\n"
    }
   }
  },
  {
   "cell_type": "code",
   "execution_count": 2,
   "outputs": [],
   "source": [
    "data = pd.read_csv('BankChurners.csv')"
   ],
   "metadata": {
    "collapsed": false,
    "pycharm": {
     "name": "#%%\n"
    }
   }
  },
  {
   "cell_type": "code",
   "execution_count": 3,
   "outputs": [],
   "source": [
    "### Удалим признаки, которые были отмечены создателем датасета на каггле\n",
    "data = data.drop(columns=data.columns[-2:])"
   ],
   "metadata": {
    "collapsed": false,
    "pycharm": {
     "name": "#%%\n"
    }
   }
  },
  {
   "cell_type": "code",
   "execution_count": 4,
   "outputs": [],
   "source": [
    "### также для моделирования не нужен номер клиента\n",
    "data = data.drop(columns='CLIENTNUM')"
   ],
   "metadata": {
    "collapsed": false,
    "pycharm": {
     "name": "#%%\n"
    }
   }
  },
  {
   "cell_type": "markdown",
   "source": [
    "### Кодирование переменных\n",
    "Не имеет смысла еще как-то предобрабатывать данные для модели бустинга, так как в данных нет пропусков, а все численные значения обработают деревья в алгоритмах бустинга"
   ],
   "metadata": {
    "collapsed": false,
    "pycharm": {
     "name": "#%% md\n"
    }
   }
  },
  {
   "cell_type": "code",
   "execution_count": 5,
   "outputs": [
    {
     "data": {
      "text/plain": "Attrition_Flag              False\nCustomer_Age                False\nGender                      False\nDependent_count             False\nEducation_Level             False\nMarital_Status              False\nIncome_Category             False\nCard_Category               False\nMonths_on_book              False\nTotal_Relationship_Count    False\nMonths_Inactive_12_mon      False\nContacts_Count_12_mon       False\nCredit_Limit                False\nTotal_Revolving_Bal         False\nAvg_Open_To_Buy             False\nTotal_Amt_Chng_Q4_Q1        False\nTotal_Trans_Amt             False\nTotal_Trans_Ct              False\nTotal_Ct_Chng_Q4_Q1         False\nAvg_Utilization_Ratio       False\ndtype: bool"
     },
     "execution_count": 5,
     "metadata": {},
     "output_type": "execute_result"
    }
   ],
   "source": [
    "data.isna().any()"
   ],
   "metadata": {
    "collapsed": false,
    "pycharm": {
     "name": "#%%\n"
    }
   }
  },
  {
   "cell_type": "code",
   "execution_count": 6,
   "outputs": [],
   "source": [
    "le = LabelEncoder()"
   ],
   "metadata": {
    "collapsed": false,
    "pycharm": {
     "name": "#%%\n"
    }
   }
  },
  {
   "cell_type": "code",
   "execution_count": 7,
   "outputs": [],
   "source": [
    "columns_to_transform = data.columns[data.dtypes=='object'].tolist()"
   ],
   "metadata": {
    "collapsed": false,
    "pycharm": {
     "name": "#%%\n"
    }
   }
  },
  {
   "cell_type": "code",
   "execution_count": 8,
   "outputs": [],
   "source": [
    "for i in columns_to_transform:\n",
    "    data[i] = le.fit_transform(data[i])"
   ],
   "metadata": {
    "collapsed": false,
    "pycharm": {
     "name": "#%%\n"
    }
   }
  },
  {
   "cell_type": "markdown",
   "source": [
    "### Деление на трейн и тест"
   ],
   "metadata": {
    "collapsed": false,
    "pycharm": {
     "name": "#%% md\n"
    }
   }
  },
  {
   "cell_type": "code",
   "execution_count": 9,
   "outputs": [],
   "source": [
    "data_train, data_test = train_test_split(data, test_size=0.25)"
   ],
   "metadata": {
    "collapsed": false,
    "pycharm": {
     "name": "#%%\n"
    }
   }
  },
  {
   "cell_type": "markdown",
   "source": [
    "### Апсемплинг"
   ],
   "metadata": {
    "collapsed": false,
    "pycharm": {
     "name": "#%% md\n"
    }
   }
  },
  {
   "cell_type": "code",
   "execution_count": 10,
   "outputs": [],
   "source": [
    "positive_samples = data_train[data_train.Attrition_Flag==1]\n",
    "negative_samples = data_train[data_train.Attrition_Flag==0]"
   ],
   "metadata": {
    "collapsed": false,
    "pycharm": {
     "name": "#%%\n"
    }
   }
  },
  {
   "cell_type": "code",
   "execution_count": 11,
   "outputs": [
    {
     "data": {
      "text/plain": "((6373, 20), (1222, 20))"
     },
     "execution_count": 11,
     "metadata": {},
     "output_type": "execute_result"
    }
   ],
   "source": [
    "positive_samples.shape, negative_samples.shape"
   ],
   "metadata": {
    "collapsed": false,
    "pycharm": {
     "name": "#%%\n"
    }
   }
  },
  {
   "cell_type": "code",
   "execution_count": 12,
   "outputs": [],
   "source": [
    "negative_samples = resample(negative_samples, n_samples=len(positive_samples))"
   ],
   "metadata": {
    "collapsed": false,
    "pycharm": {
     "name": "#%%\n"
    }
   }
  },
  {
   "cell_type": "code",
   "execution_count": 13,
   "outputs": [],
   "source": [
    "data_train = pd.concat((positive_samples, negative_samples)).sample(frac=1)"
   ],
   "metadata": {
    "collapsed": false,
    "pycharm": {
     "name": "#%%\n"
    }
   }
  },
  {
   "cell_type": "markdown",
   "source": [
    "### Финальная обработка выборок"
   ],
   "metadata": {
    "collapsed": false,
    "pycharm": {
     "name": "#%% md\n"
    }
   }
  },
  {
   "cell_type": "code",
   "execution_count": 14,
   "outputs": [],
   "source": [
    "X_train = data_train.drop(columns='Attrition_Flag')\n",
    "y_train = data_train.Attrition_Flag\n",
    "\n",
    "X_test = data_test.drop(columns='Attrition_Flag')\n",
    "y_test = data_test.Attrition_Flag"
   ],
   "metadata": {
    "collapsed": false,
    "pycharm": {
     "name": "#%%\n"
    }
   }
  },
  {
   "cell_type": "code",
   "execution_count": 28,
   "outputs": [],
   "source": [
    "adaboost_parametrs = {\n",
    "    'n_estimators': (50, 100, 150),\n",
    "    'learning_rate': np.linspace(0.01, 0.5, 10)\n",
    "}\n",
    "grad_params = {\n",
    "    'learning_rate': np.linspace(0.01, 0.5, 10),\n",
    "    'n_estimators': (50, 100, 150),\n",
    "    'max_depth': (2, 4, 6, 8)\n",
    "}"
   ],
   "metadata": {
    "collapsed": false,
    "pycharm": {
     "name": "#%%\n"
    }
   }
  },
  {
   "cell_type": "code",
   "execution_count": 23,
   "outputs": [],
   "source": [
    "adaboost = AdaBoostClassifier()\n",
    "gradient = GradientBoostingClassifier()"
   ],
   "metadata": {
    "collapsed": false,
    "pycharm": {
     "name": "#%%\n"
    }
   }
  },
  {
   "cell_type": "markdown",
   "source": [
    "### Построение предсказаний\n",
    "Используется перебор гиперпараметров моделей из задания"
   ],
   "metadata": {
    "collapsed": false,
    "pycharm": {
     "name": "#%% md\n"
    }
   }
  },
  {
   "cell_type": "code",
   "execution_count": 26,
   "outputs": [
    {
     "name": "stdout",
     "output_type": "stream",
     "text": [
      "Fitting 3 folds for each of 30 candidates, totalling 90 fits\n"
     ]
    },
    {
     "data": {
      "text/plain": "GridSearchCV(cv=3, estimator=AdaBoostClassifier(), n_jobs=2,\n             param_grid={'learning_rate': array([0.01      , 0.06444444, 0.11888889, 0.17333333, 0.22777778,\n       0.28222222, 0.33666667, 0.39111111, 0.44555556, 0.5       ]),\n                         'n_estimators': (50, 100, 150)},\n             verbose=100)"
     },
     "execution_count": 26,
     "metadata": {},
     "output_type": "execute_result"
    }
   ],
   "source": [
    "grid_ada = GridSearchCV(adaboost, adaboost_parametrs, verbose=100, n_jobs=2, cv=3)\n",
    "grid_ada.fit(X_train, y_train)"
   ],
   "metadata": {
    "collapsed": false,
    "pycharm": {
     "name": "#%%\n"
    }
   }
  },
  {
   "cell_type": "code",
   "execution_count": 30,
   "outputs": [
    {
     "name": "stdout",
     "output_type": "stream",
     "text": [
      "Fitting 3 folds for each of 120 candidates, totalling 360 fits\n",
      "[CV 2/3; 1/30] START learning_rate=0.01, n_estimators=50........................\n",
      "[CV 2/3; 1/30] END learning_rate=0.01, n_estimators=50;, score=0.769 total time=   0.7s\n",
      "[CV 3/3; 1/30] START learning_rate=0.01, n_estimators=50........................\n",
      "[CV 3/3; 1/30] END learning_rate=0.01, n_estimators=50;, score=0.784 total time=   0.5s\n",
      "[CV 2/3; 2/30] START learning_rate=0.01, n_estimators=100.......................\n",
      "[CV 2/3; 2/30] END learning_rate=0.01, n_estimators=100;, score=0.779 total time=   1.1s\n",
      "[CV 1/3; 3/30] START learning_rate=0.01, n_estimators=150.......................\n",
      "[CV 1/3; 3/30] END learning_rate=0.01, n_estimators=150;, score=0.785 total time=   1.4s\n",
      "[CV 3/3; 3/30] START learning_rate=0.01, n_estimators=150.......................\n",
      "[CV 3/3; 3/30] END learning_rate=0.01, n_estimators=150;, score=0.797 total time=   1.6s\n",
      "[CV 3/3; 4/30] START learning_rate=0.06444444444444444, n_estimators=50.........\n",
      "[CV 3/3; 4/30] END learning_rate=0.06444444444444444, n_estimators=50;, score=0.849 total time=   0.5s\n",
      "[CV 2/3; 5/30] START learning_rate=0.06444444444444444, n_estimators=100........\n",
      "[CV 2/3; 5/30] END learning_rate=0.06444444444444444, n_estimators=100;, score=0.884 total time=   0.9s\n",
      "[CV 1/3; 6/30] START learning_rate=0.06444444444444444, n_estimators=150........\n",
      "[CV 1/3; 6/30] END learning_rate=0.06444444444444444, n_estimators=150;, score=0.896 total time=   1.4s\n",
      "[CV 3/3; 6/30] START learning_rate=0.06444444444444444, n_estimators=150........\n",
      "[CV 3/3; 6/30] END learning_rate=0.06444444444444444, n_estimators=150;, score=0.903 total time=   1.7s\n",
      "[CV 3/3; 7/30] START learning_rate=0.11888888888888888, n_estimators=50.........\n",
      "[CV 3/3; 7/30] END learning_rate=0.11888888888888888, n_estimators=50;, score=0.871 total time=   0.5s\n",
      "[CV 2/3; 8/30] START learning_rate=0.11888888888888888, n_estimators=100........\n",
      "[CV 2/3; 8/30] END learning_rate=0.11888888888888888, n_estimators=100;, score=0.914 total time=   1.1s\n",
      "[CV 1/3; 9/30] START learning_rate=0.11888888888888888, n_estimators=150........\n",
      "[CV 1/3; 9/30] END learning_rate=0.11888888888888888, n_estimators=150;, score=0.922 total time=   2.1s\n",
      "[CV 3/3; 9/30] START learning_rate=0.11888888888888888, n_estimators=150........\n",
      "[CV 3/3; 9/30] END learning_rate=0.11888888888888888, n_estimators=150;, score=0.931 total time=   1.5s\n",
      "[CV 3/3; 10/30] START learning_rate=0.17333333333333334, n_estimators=50........\n",
      "[CV 3/3; 10/30] END learning_rate=0.17333333333333334, n_estimators=50;, score=0.899 total time=   0.5s\n",
      "[CV 2/3; 11/30] START learning_rate=0.17333333333333334, n_estimators=100.......\n",
      "[CV 2/3; 11/30] END learning_rate=0.17333333333333334, n_estimators=100;, score=0.928 total time=   0.9s\n",
      "[CV 1/3; 12/30] START learning_rate=0.17333333333333334, n_estimators=150.......\n",
      "[CV 1/3; 12/30] END learning_rate=0.17333333333333334, n_estimators=150;, score=0.932 total time=   1.4s\n",
      "[CV 3/3; 12/30] START learning_rate=0.17333333333333334, n_estimators=150.......\n",
      "[CV 3/3; 12/30] END learning_rate=0.17333333333333334, n_estimators=150;, score=0.936 total time=   1.4s\n",
      "[CV 3/3; 13/30] START learning_rate=0.22777777777777777, n_estimators=50........\n",
      "[CV 3/3; 13/30] END learning_rate=0.22777777777777777, n_estimators=50;, score=0.911 total time=   0.5s\n",
      "[CV 2/3; 14/30] START learning_rate=0.22777777777777777, n_estimators=100.......\n",
      "[CV 2/3; 14/30] END learning_rate=0.22777777777777777, n_estimators=100;, score=0.933 total time=   0.9s\n",
      "[CV 1/3; 15/30] START learning_rate=0.22777777777777777, n_estimators=150.......\n",
      "[CV 1/3; 15/30] END learning_rate=0.22777777777777777, n_estimators=150;, score=0.939 total time=   1.5s\n",
      "[CV 3/3; 15/30] START learning_rate=0.22777777777777777, n_estimators=150.......\n",
      "[CV 3/3; 15/30] END learning_rate=0.22777777777777777, n_estimators=150;, score=0.947 total time=   1.7s\n",
      "[CV 3/3; 16/30] START learning_rate=0.2822222222222222, n_estimators=50.........\n",
      "[CV 3/3; 16/30] END learning_rate=0.2822222222222222, n_estimators=50;, score=0.917 total time=   0.5s\n",
      "[CV 2/3; 17/30] START learning_rate=0.2822222222222222, n_estimators=100........\n",
      "[CV 2/3; 17/30] END learning_rate=0.2822222222222222, n_estimators=100;, score=0.940 total time=   1.1s\n",
      "[CV 1/3; 18/30] START learning_rate=0.2822222222222222, n_estimators=150........\n",
      "[CV 1/3; 18/30] END learning_rate=0.2822222222222222, n_estimators=150;, score=0.943 total time=   1.5s\n",
      "[CV 3/3; 18/30] START learning_rate=0.2822222222222222, n_estimators=150........\n",
      "[CV 3/3; 18/30] END learning_rate=0.2822222222222222, n_estimators=150;, score=0.950 total time=   1.6s\n",
      "[CV 3/3; 19/30] START learning_rate=0.33666666666666667, n_estimators=50........\n",
      "[CV 3/3; 19/30] END learning_rate=0.33666666666666667, n_estimators=50;, score=0.928 total time=   0.5s\n",
      "[CV 2/3; 20/30] START learning_rate=0.33666666666666667, n_estimators=100.......\n",
      "[CV 2/3; 20/30] END learning_rate=0.33666666666666667, n_estimators=100;, score=0.945 total time=   1.0s\n",
      "[CV 1/3; 21/30] START learning_rate=0.33666666666666667, n_estimators=150.......\n",
      "[CV 1/3; 21/30] END learning_rate=0.33666666666666667, n_estimators=150;, score=0.944 total time=   1.4s\n",
      "[CV 3/3; 21/30] START learning_rate=0.33666666666666667, n_estimators=150.......\n",
      "[CV 3/3; 21/30] END learning_rate=0.33666666666666667, n_estimators=150;, score=0.949 total time=   1.4s\n",
      "[CV 3/3; 22/30] START learning_rate=0.3911111111111111, n_estimators=50.........\n",
      "[CV 3/3; 22/30] END learning_rate=0.3911111111111111, n_estimators=50;, score=0.936 total time=   0.5s\n",
      "[CV 2/3; 23/30] START learning_rate=0.3911111111111111, n_estimators=100........\n",
      "[CV 2/3; 23/30] END learning_rate=0.3911111111111111, n_estimators=100;, score=0.944 total time=   0.9s\n",
      "[CV 1/3; 24/30] START learning_rate=0.3911111111111111, n_estimators=150........\n",
      "[CV 1/3; 24/30] END learning_rate=0.3911111111111111, n_estimators=150;, score=0.947 total time=   1.4s\n",
      "[CV 3/3; 24/30] START learning_rate=0.3911111111111111, n_estimators=150........\n",
      "[CV 3/3; 24/30] END learning_rate=0.3911111111111111, n_estimators=150;, score=0.951 total time=   1.4s\n",
      "[CV 1/3; 26/30] START learning_rate=0.44555555555555554, n_estimators=100.......\n",
      "[CV 1/3; 26/30] END learning_rate=0.44555555555555554, n_estimators=100;, score=0.944 total time=   0.9s\n",
      "[CV 3/3; 26/30] START learning_rate=0.44555555555555554, n_estimators=100.......\n",
      "[CV 3/3; 26/30] END learning_rate=0.44555555555555554, n_estimators=100;, score=0.949 total time=   0.9s\n",
      "[CV 2/3; 27/30] START learning_rate=0.44555555555555554, n_estimators=150.......\n",
      "[CV 2/3; 27/30] END learning_rate=0.44555555555555554, n_estimators=150;, score=0.949 total time=   1.4s\n",
      "[CV 1/3; 28/30] START learning_rate=0.5, n_estimators=50........................\n",
      "[CV 1/3; 28/30] END learning_rate=0.5, n_estimators=50;, score=0.933 total time=   0.5s\n",
      "[CV 2/3; 28/30] START learning_rate=0.5, n_estimators=50........................\n",
      "[CV 2/3; 28/30] END learning_rate=0.5, n_estimators=50;, score=0.937 total time=   0.5s\n",
      "[CV 3/3; 28/30] START learning_rate=0.5, n_estimators=50........................\n",
      "[CV 3/3; 28/30] END learning_rate=0.5, n_estimators=50;, score=0.942 total time=   0.5s\n",
      "[CV 2/3; 29/30] START learning_rate=0.5, n_estimators=100.......................\n",
      "[CV 2/3; 29/30] END learning_rate=0.5, n_estimators=100;, score=0.945 total time=   0.9s\n",
      "[CV 1/3; 30/30] START learning_rate=0.5, n_estimators=150.......................\n",
      "[CV 1/3; 30/30] END learning_rate=0.5, n_estimators=150;, score=0.948 total time=   1.5s\n",
      "[CV 3/3; 30/30] START learning_rate=0.5, n_estimators=150.......................\n",
      "[CV 3/3; 30/30] END learning_rate=0.5, n_estimators=150;, score=0.953 total time=   1.4s\n",
      "[CV 2/3; 1/120] START learning_rate=0.01, max_depth=2, n_estimators=50..........\n",
      "[CV 2/3; 1/120] END learning_rate=0.01, max_depth=2, n_estimators=50;, score=0.817 total time=   1.0s\n",
      "[CV 1/3; 2/120] START learning_rate=0.01, max_depth=2, n_estimators=100.........\n",
      "[CV 1/3; 2/120] END learning_rate=0.01, max_depth=2, n_estimators=100;, score=0.844 total time=   1.3s\n",
      "[CV 3/3; 2/120] START learning_rate=0.01, max_depth=2, n_estimators=100.........\n",
      "[CV 3/3; 2/120] END learning_rate=0.01, max_depth=2, n_estimators=100;, score=0.874 total time=   1.2s\n",
      "[CV 2/3; 3/120] START learning_rate=0.01, max_depth=2, n_estimators=150.........\n",
      "[CV 2/3; 3/120] END learning_rate=0.01, max_depth=2, n_estimators=150;, score=0.871 total time=   2.6s\n",
      "[CV 1/3; 4/120] START learning_rate=0.01, max_depth=4, n_estimators=50..........\n",
      "[CV 1/3; 4/120] END learning_rate=0.01, max_depth=4, n_estimators=50;, score=0.920 total time=   1.7s\n",
      "[CV 2/3; 4/120] START learning_rate=0.01, max_depth=4, n_estimators=50..........\n",
      "[CV 2/3; 4/120] END learning_rate=0.01, max_depth=4, n_estimators=50;, score=0.920 total time=   1.3s\n",
      "[CV 1/3; 5/120] START learning_rate=0.01, max_depth=4, n_estimators=100.........\n",
      "[CV 1/3; 5/120] END learning_rate=0.01, max_depth=4, n_estimators=100;, score=0.923 total time=   2.3s\n",
      "[CV 3/3; 5/120] START learning_rate=0.01, max_depth=4, n_estimators=100.........\n",
      "[CV 3/3; 5/120] END learning_rate=0.01, max_depth=4, n_estimators=100;, score=0.929 total time=   2.2s\n",
      "[CV 2/3; 6/120] START learning_rate=0.01, max_depth=4, n_estimators=150.........\n",
      "[CV 2/3; 6/120] END learning_rate=0.01, max_depth=4, n_estimators=150;, score=0.935 total time=   3.3s\n",
      "[CV 1/3; 7/120] START learning_rate=0.01, max_depth=6, n_estimators=50..........\n",
      "[CV 1/3; 7/120] END learning_rate=0.01, max_depth=6, n_estimators=50;, score=0.941 total time=   1.8s\n",
      "[CV 3/3; 7/120] START learning_rate=0.01, max_depth=6, n_estimators=50..........\n",
      "[CV 3/3; 7/120] END learning_rate=0.01, max_depth=6, n_estimators=50;, score=0.949 total time=   1.7s\n",
      "[CV 2/3; 8/120] START learning_rate=0.01, max_depth=6, n_estimators=100.........\n",
      "[CV 2/3; 8/120] END learning_rate=0.01, max_depth=6, n_estimators=100;, score=0.951 total time=   3.5s\n",
      "[CV 1/3; 9/120] START learning_rate=0.01, max_depth=6, n_estimators=150.........\n",
      "[CV 1/3; 9/120] END learning_rate=0.01, max_depth=6, n_estimators=150;, score=0.956 total time=   6.1s\n",
      "[CV 3/3; 9/120] START learning_rate=0.01, max_depth=6, n_estimators=150.........\n",
      "[CV 3/3; 9/120] END learning_rate=0.01, max_depth=6, n_estimators=150;, score=0.962 total time=   5.0s\n",
      "[CV 3/3; 10/120] START learning_rate=0.01, max_depth=8, n_estimators=50.........\n",
      "[CV 3/3; 10/120] END learning_rate=0.01, max_depth=8, n_estimators=50;, score=0.963 total time=   2.4s\n",
      "[CV 2/3; 11/120] START learning_rate=0.01, max_depth=8, n_estimators=100........\n",
      "[CV 2/3; 11/120] END learning_rate=0.01, max_depth=8, n_estimators=100;, score=0.965 total time=   4.4s\n",
      "[CV 1/3; 12/120] START learning_rate=0.01, max_depth=8, n_estimators=150........\n",
      "[CV 1/3; 12/120] END learning_rate=0.01, max_depth=8, n_estimators=150;, score=0.970 total time=   6.8s\n",
      "[CV 3/3; 12/120] START learning_rate=0.01, max_depth=8, n_estimators=150........\n",
      "[CV 3/3; 12/120] END learning_rate=0.01, max_depth=8, n_estimators=150;, score=0.973 total time=   6.8s\n",
      "[CV 2/3; 14/120] START learning_rate=0.06444444444444444, max_depth=2, n_estimators=100\n",
      "[CV 2/3; 14/120] END learning_rate=0.06444444444444444, max_depth=2, n_estimators=100;, score=0.936 total time=   1.1s\n",
      "[CV 1/3; 15/120] START learning_rate=0.06444444444444444, max_depth=2, n_estimators=150\n",
      "[CV 1/3; 15/120] END learning_rate=0.06444444444444444, max_depth=2, n_estimators=150;, score=0.946 total time=   1.7s\n",
      "[CV 3/3; 15/120] START learning_rate=0.06444444444444444, max_depth=2, n_estimators=150\n",
      "[CV 3/3; 15/120] END learning_rate=0.06444444444444444, max_depth=2, n_estimators=150;, score=0.948 total time=   1.7s\n",
      "[CV 2/3; 16/120] START learning_rate=0.06444444444444444, max_depth=4, n_estimators=50\n",
      "[CV 2/3; 16/120] END learning_rate=0.06444444444444444, max_depth=4, n_estimators=50;, score=0.954 total time=   1.1s\n",
      "[CV 1/3; 17/120] START learning_rate=0.06444444444444444, max_depth=4, n_estimators=100\n",
      "[CV 1/3; 17/120] END learning_rate=0.06444444444444444, max_depth=4, n_estimators=100;, score=0.966 total time=   2.2s\n",
      "[CV 3/3; 17/120] START learning_rate=0.06444444444444444, max_depth=4, n_estimators=100\n",
      "[CV 3/3; 17/120] END learning_rate=0.06444444444444444, max_depth=4, n_estimators=100;, score=0.974 total time=   2.2s\n",
      "[CV 2/3; 18/120] START learning_rate=0.06444444444444444, max_depth=4, n_estimators=150\n",
      "[CV 2/3; 18/120] END learning_rate=0.06444444444444444, max_depth=4, n_estimators=150;, score=0.975 total time=   3.3s\n",
      "[CV 1/3; 19/120] START learning_rate=0.06444444444444444, max_depth=6, n_estimators=50\n",
      "[CV 1/3; 19/120] END learning_rate=0.06444444444444444, max_depth=6, n_estimators=50;, score=0.971 total time=   1.7s\n",
      "[CV 3/3; 19/120] START learning_rate=0.06444444444444444, max_depth=6, n_estimators=50\n",
      "[CV 3/3; 19/120] END learning_rate=0.06444444444444444, max_depth=6, n_estimators=50;, score=0.976 total time=   1.7s\n",
      "[CV 2/3; 20/120] START learning_rate=0.06444444444444444, max_depth=6, n_estimators=100\n",
      "[CV 2/3; 20/120] END learning_rate=0.06444444444444444, max_depth=6, n_estimators=100;, score=0.981 total time=   3.4s\n",
      "[CV 1/3; 21/120] START learning_rate=0.06444444444444444, max_depth=6, n_estimators=150\n",
      "[CV 1/3; 21/120] END learning_rate=0.06444444444444444, max_depth=6, n_estimators=150;, score=0.983 total time=   4.9s\n",
      "[CV 3/3; 21/120] START learning_rate=0.06444444444444444, max_depth=6, n_estimators=150\n",
      "[CV 3/3; 21/120] END learning_rate=0.06444444444444444, max_depth=6, n_estimators=150;, score=0.989 total time=   5.0s\n",
      "[CV 2/3; 22/120] START learning_rate=0.06444444444444444, max_depth=8, n_estimators=50\n",
      "[CV 2/3; 22/120] END learning_rate=0.06444444444444444, max_depth=8, n_estimators=50;, score=0.978 total time=   2.3s\n",
      "[CV 1/3; 23/120] START learning_rate=0.06444444444444444, max_depth=8, n_estimators=100\n",
      "[CV 1/3; 23/120] END learning_rate=0.06444444444444444, max_depth=8, n_estimators=100;, score=0.981 total time=   4.6s\n",
      "[CV 3/3; 23/120] START learning_rate=0.06444444444444444, max_depth=8, n_estimators=100\n",
      "[CV 3/3; 23/120] END learning_rate=0.06444444444444444, max_depth=8, n_estimators=100;, score=0.986 total time=   4.6s\n",
      "[CV 2/3; 24/120] START learning_rate=0.06444444444444444, max_depth=8, n_estimators=150\n",
      "[CV 2/3; 24/120] END learning_rate=0.06444444444444444, max_depth=8, n_estimators=150;, score=0.986 total time=   6.9s\n",
      "[CV 1/3; 25/120] START learning_rate=0.11888888888888888, max_depth=2, n_estimators=50\n",
      "[CV 1/3; 25/120] END learning_rate=0.11888888888888888, max_depth=2, n_estimators=50;, score=0.928 total time=   0.6s\n",
      "[CV 2/3; 25/120] START learning_rate=0.11888888888888888, max_depth=2, n_estimators=50\n",
      "[CV 2/3; 25/120] END learning_rate=0.11888888888888888, max_depth=2, n_estimators=50;, score=0.934 total time=   0.6s\n",
      "[CV 3/3; 25/120] START learning_rate=0.11888888888888888, max_depth=2, n_estimators=50\n",
      "[CV 3/3; 25/120] END learning_rate=0.11888888888888888, max_depth=2, n_estimators=50;, score=0.928 total time=   0.6s\n",
      "[CV 1/3; 26/120] START learning_rate=0.11888888888888888, max_depth=2, n_estimators=100\n",
      "[CV 1/3; 26/120] END learning_rate=0.11888888888888888, max_depth=2, n_estimators=100;, score=0.954 total time=   1.2s\n",
      "[CV 3/3; 26/120] START learning_rate=0.11888888888888888, max_depth=2, n_estimators=100\n",
      "[CV 3/3; 26/120] END learning_rate=0.11888888888888888, max_depth=2, n_estimators=100;, score=0.957 total time=   1.1s\n",
      "[CV 2/3; 27/120] START learning_rate=0.11888888888888888, max_depth=2, n_estimators=150\n",
      "[CV 2/3; 27/120] END learning_rate=0.11888888888888888, max_depth=2, n_estimators=150;, score=0.963 total time=   1.7s\n",
      "[CV 1/3; 28/120] START learning_rate=0.11888888888888888, max_depth=4, n_estimators=50\n",
      "[CV 1/3; 28/120] END learning_rate=0.11888888888888888, max_depth=4, n_estimators=50;, score=0.964 total time=   1.1s\n",
      "[CV 2/3; 28/120] START learning_rate=0.11888888888888888, max_depth=4, n_estimators=50\n",
      "[CV 2/3; 28/120] END learning_rate=0.11888888888888888, max_depth=4, n_estimators=50;, score=0.968 total time=   1.1s\n",
      "[CV 1/3; 29/120] START learning_rate=0.11888888888888888, max_depth=4, n_estimators=100\n",
      "[CV 1/3; 29/120] END learning_rate=0.11888888888888888, max_depth=4, n_estimators=100;, score=0.973 total time=   2.2s\n",
      "[CV 3/3; 29/120] START learning_rate=0.11888888888888888, max_depth=4, n_estimators=100\n",
      "[CV 3/3; 29/120] END learning_rate=0.11888888888888888, max_depth=4, n_estimators=100;, score=0.982 total time=   2.2s\n",
      "[CV 1/3; 1/30] START learning_rate=0.01, n_estimators=50........................\n",
      "[CV 1/3; 1/30] END learning_rate=0.01, n_estimators=50;, score=0.769 total time=   0.7s\n",
      "[CV 1/3; 2/30] START learning_rate=0.01, n_estimators=100.......................\n",
      "[CV 1/3; 2/30] END learning_rate=0.01, n_estimators=100;, score=0.779 total time=   1.1s\n",
      "[CV 3/3; 2/30] START learning_rate=0.01, n_estimators=100.......................\n",
      "[CV 3/3; 2/30] END learning_rate=0.01, n_estimators=100;, score=0.797 total time=   1.0s\n",
      "[CV 2/3; 3/30] START learning_rate=0.01, n_estimators=150.......................\n",
      "[CV 2/3; 3/30] END learning_rate=0.01, n_estimators=150;, score=0.783 total time=   1.5s\n",
      "[CV 1/3; 4/30] START learning_rate=0.06444444444444444, n_estimators=50.........\n",
      "[CV 1/3; 4/30] END learning_rate=0.06444444444444444, n_estimators=50;, score=0.841 total time=   0.5s\n",
      "[CV 2/3; 4/30] START learning_rate=0.06444444444444444, n_estimators=50.........\n",
      "[CV 2/3; 4/30] END learning_rate=0.06444444444444444, n_estimators=50;, score=0.844 total time=   0.6s\n",
      "[CV 1/3; 5/30] START learning_rate=0.06444444444444444, n_estimators=100........\n",
      "[CV 1/3; 5/30] END learning_rate=0.06444444444444444, n_estimators=100;, score=0.877 total time=   1.0s\n",
      "[CV 3/3; 5/30] START learning_rate=0.06444444444444444, n_estimators=100........\n",
      "[CV 3/3; 5/30] END learning_rate=0.06444444444444444, n_estimators=100;, score=0.884 total time=   0.9s\n",
      "[CV 2/3; 6/30] START learning_rate=0.06444444444444444, n_estimators=150........\n",
      "[CV 2/3; 6/30] END learning_rate=0.06444444444444444, n_estimators=150;, score=0.904 total time=   1.4s\n",
      "[CV 1/3; 7/30] START learning_rate=0.11888888888888888, n_estimators=50.........\n",
      "[CV 1/3; 7/30] END learning_rate=0.11888888888888888, n_estimators=50;, score=0.876 total time=   0.6s\n",
      "[CV 2/3; 7/30] START learning_rate=0.11888888888888888, n_estimators=50.........\n",
      "[CV 2/3; 7/30] END learning_rate=0.11888888888888888, n_estimators=50;, score=0.883 total time=   0.6s\n",
      "[CV 1/3; 8/30] START learning_rate=0.11888888888888888, n_estimators=100........\n",
      "[CV 1/3; 8/30] END learning_rate=0.11888888888888888, n_estimators=100;, score=0.909 total time=   1.0s\n",
      "[CV 3/3; 8/30] START learning_rate=0.11888888888888888, n_estimators=100........\n",
      "[CV 3/3; 8/30] END learning_rate=0.11888888888888888, n_estimators=100;, score=0.911 total time=   1.3s\n",
      "[CV 2/3; 9/30] START learning_rate=0.11888888888888888, n_estimators=150........\n",
      "[CV 2/3; 9/30] END learning_rate=0.11888888888888888, n_estimators=150;, score=0.926 total time=   1.8s\n",
      "[CV 1/3; 10/30] START learning_rate=0.17333333333333334, n_estimators=50........\n",
      "[CV 1/3; 10/30] END learning_rate=0.17333333333333334, n_estimators=50;, score=0.895 total time=   0.5s\n",
      "[CV 2/3; 10/30] START learning_rate=0.17333333333333334, n_estimators=50........\n",
      "[CV 2/3; 10/30] END learning_rate=0.17333333333333334, n_estimators=50;, score=0.900 total time=   0.5s\n",
      "[CV 1/3; 11/30] START learning_rate=0.17333333333333334, n_estimators=100.......\n",
      "[CV 1/3; 11/30] END learning_rate=0.17333333333333334, n_estimators=100;, score=0.920 total time=   0.9s\n",
      "[CV 3/3; 11/30] START learning_rate=0.17333333333333334, n_estimators=100.......\n",
      "[CV 3/3; 11/30] END learning_rate=0.17333333333333334, n_estimators=100;, score=0.930 total time=   0.9s\n",
      "[CV 2/3; 12/30] START learning_rate=0.17333333333333334, n_estimators=150.......\n",
      "[CV 2/3; 12/30] END learning_rate=0.17333333333333334, n_estimators=150;, score=0.939 total time=   1.4s\n",
      "[CV 1/3; 13/30] START learning_rate=0.22777777777777777, n_estimators=50........\n",
      "[CV 1/3; 13/30] END learning_rate=0.22777777777777777, n_estimators=50;, score=0.910 total time=   0.5s\n",
      "[CV 2/3; 13/30] START learning_rate=0.22777777777777777, n_estimators=50........\n",
      "[CV 2/3; 13/30] END learning_rate=0.22777777777777777, n_estimators=50;, score=0.917 total time=   0.5s\n",
      "[CV 1/3; 14/30] START learning_rate=0.22777777777777777, n_estimators=100.......\n",
      "[CV 1/3; 14/30] END learning_rate=0.22777777777777777, n_estimators=100;, score=0.928 total time=   0.9s\n",
      "[CV 3/3; 14/30] START learning_rate=0.22777777777777777, n_estimators=100.......\n",
      "[CV 3/3; 14/30] END learning_rate=0.22777777777777777, n_estimators=100;, score=0.935 total time=   1.0s\n",
      "[CV 2/3; 15/30] START learning_rate=0.22777777777777777, n_estimators=150.......\n",
      "[CV 2/3; 15/30] END learning_rate=0.22777777777777777, n_estimators=150;, score=0.943 total time=   1.6s\n",
      "[CV 1/3; 16/30] START learning_rate=0.2822222222222222, n_estimators=50.........\n",
      "[CV 1/3; 16/30] END learning_rate=0.2822222222222222, n_estimators=50;, score=0.912 total time=   0.5s\n",
      "[CV 2/3; 16/30] START learning_rate=0.2822222222222222, n_estimators=50.........\n",
      "[CV 2/3; 16/30] END learning_rate=0.2822222222222222, n_estimators=50;, score=0.926 total time=   0.6s\n",
      "[CV 1/3; 17/30] START learning_rate=0.2822222222222222, n_estimators=100........\n",
      "[CV 1/3; 17/30] END learning_rate=0.2822222222222222, n_estimators=100;, score=0.934 total time=   1.0s\n",
      "[CV 3/3; 17/30] START learning_rate=0.2822222222222222, n_estimators=100........\n",
      "[CV 3/3; 17/30] END learning_rate=0.2822222222222222, n_estimators=100;, score=0.943 total time=   1.1s\n",
      "[CV 2/3; 18/30] START learning_rate=0.2822222222222222, n_estimators=150........\n",
      "[CV 2/3; 18/30] END learning_rate=0.2822222222222222, n_estimators=150;, score=0.945 total time=   1.5s\n",
      "[CV 1/3; 19/30] START learning_rate=0.33666666666666667, n_estimators=50........\n",
      "[CV 1/3; 19/30] END learning_rate=0.33666666666666667, n_estimators=50;, score=0.924 total time=   0.6s\n",
      "[CV 2/3; 19/30] START learning_rate=0.33666666666666667, n_estimators=50........\n",
      "[CV 2/3; 19/30] END learning_rate=0.33666666666666667, n_estimators=50;, score=0.924 total time=   0.5s\n",
      "[CV 1/3; 20/30] START learning_rate=0.33666666666666667, n_estimators=100.......\n",
      "[CV 1/3; 20/30] END learning_rate=0.33666666666666667, n_estimators=100;, score=0.936 total time=   1.0s\n",
      "[CV 3/3; 20/30] START learning_rate=0.33666666666666667, n_estimators=100.......\n",
      "[CV 3/3; 20/30] END learning_rate=0.33666666666666667, n_estimators=100;, score=0.946 total time=   0.9s\n",
      "[CV 2/3; 21/30] START learning_rate=0.33666666666666667, n_estimators=150.......\n",
      "[CV 2/3; 21/30] END learning_rate=0.33666666666666667, n_estimators=150;, score=0.946 total time=   1.4s\n",
      "[CV 1/3; 22/30] START learning_rate=0.3911111111111111, n_estimators=50.........\n",
      "[CV 1/3; 22/30] END learning_rate=0.3911111111111111, n_estimators=50;, score=0.928 total time=   0.5s\n",
      "[CV 2/3; 22/30] START learning_rate=0.3911111111111111, n_estimators=50.........\n",
      "[CV 2/3; 22/30] END learning_rate=0.3911111111111111, n_estimators=50;, score=0.928 total time=   0.5s\n",
      "[CV 1/3; 23/30] START learning_rate=0.3911111111111111, n_estimators=100........\n",
      "[CV 1/3; 23/30] END learning_rate=0.3911111111111111, n_estimators=100;, score=0.941 total time=   0.9s\n",
      "[CV 3/3; 23/30] START learning_rate=0.3911111111111111, n_estimators=100........\n",
      "[CV 3/3; 23/30] END learning_rate=0.3911111111111111, n_estimators=100;, score=0.947 total time=   0.9s\n",
      "[CV 2/3; 24/30] START learning_rate=0.3911111111111111, n_estimators=150........\n",
      "[CV 2/3; 24/30] END learning_rate=0.3911111111111111, n_estimators=150;, score=0.947 total time=   1.4s\n",
      "[CV 1/3; 25/30] START learning_rate=0.44555555555555554, n_estimators=50........\n",
      "[CV 1/3; 25/30] END learning_rate=0.44555555555555554, n_estimators=50;, score=0.931 total time=   0.5s\n",
      "[CV 2/3; 25/30] START learning_rate=0.44555555555555554, n_estimators=50........\n",
      "[CV 2/3; 25/30] END learning_rate=0.44555555555555554, n_estimators=50;, score=0.931 total time=   0.5s\n",
      "[CV 3/3; 25/30] START learning_rate=0.44555555555555554, n_estimators=50........\n",
      "[CV 3/3; 25/30] END learning_rate=0.44555555555555554, n_estimators=50;, score=0.941 total time=   0.5s\n",
      "[CV 2/3; 26/30] START learning_rate=0.44555555555555554, n_estimators=100.......\n",
      "[CV 2/3; 26/30] END learning_rate=0.44555555555555554, n_estimators=100;, score=0.944 total time=   0.9s\n",
      "[CV 1/3; 27/30] START learning_rate=0.44555555555555554, n_estimators=150.......\n",
      "[CV 1/3; 27/30] END learning_rate=0.44555555555555554, n_estimators=150;, score=0.948 total time=   1.4s\n",
      "[CV 3/3; 27/30] START learning_rate=0.44555555555555554, n_estimators=150.......\n",
      "[CV 3/3; 27/30] END learning_rate=0.44555555555555554, n_estimators=150;, score=0.953 total time=   1.4s\n",
      "[CV 1/3; 29/30] START learning_rate=0.5, n_estimators=100.......................\n",
      "[CV 1/3; 29/30] END learning_rate=0.5, n_estimators=100;, score=0.943 total time=   0.9s\n",
      "[CV 3/3; 29/30] START learning_rate=0.5, n_estimators=100.......................\n",
      "[CV 3/3; 29/30] END learning_rate=0.5, n_estimators=100;, score=0.950 total time=   0.9s\n",
      "[CV 2/3; 30/30] START learning_rate=0.5, n_estimators=150.......................\n",
      "[CV 2/3; 30/30] END learning_rate=0.5, n_estimators=150;, score=0.950 total time=   1.5s\n",
      "[CV 1/3; 1/120] START learning_rate=0.01, max_depth=2, n_estimators=50..........\n",
      "[CV 1/3; 1/120] END learning_rate=0.01, max_depth=2, n_estimators=50;, score=0.789 total time=   1.0s\n",
      "[CV 3/3; 1/120] START learning_rate=0.01, max_depth=2, n_estimators=50..........\n",
      "[CV 3/3; 1/120] END learning_rate=0.01, max_depth=2, n_estimators=50;, score=0.805 total time=   0.7s\n",
      "[CV 2/3; 2/120] START learning_rate=0.01, max_depth=2, n_estimators=100.........\n",
      "[CV 2/3; 2/120] END learning_rate=0.01, max_depth=2, n_estimators=100;, score=0.840 total time=   1.3s\n",
      "[CV 1/3; 3/120] START learning_rate=0.01, max_depth=2, n_estimators=150.........\n",
      "[CV 1/3; 3/120] END learning_rate=0.01, max_depth=2, n_estimators=150;, score=0.859 total time=   2.2s\n",
      "[CV 3/3; 3/120] START learning_rate=0.01, max_depth=2, n_estimators=150.........\n",
      "[CV 3/3; 3/120] END learning_rate=0.01, max_depth=2, n_estimators=150;, score=0.878 total time=   2.6s\n",
      "[CV 3/3; 4/120] START learning_rate=0.01, max_depth=4, n_estimators=50..........\n",
      "[CV 3/3; 4/120] END learning_rate=0.01, max_depth=4, n_estimators=50;, score=0.918 total time=   1.3s\n",
      "[CV 2/3; 5/120] START learning_rate=0.01, max_depth=4, n_estimators=100.........\n",
      "[CV 2/3; 5/120] END learning_rate=0.01, max_depth=4, n_estimators=100;, score=0.928 total time=   2.3s\n",
      "[CV 1/3; 6/120] START learning_rate=0.01, max_depth=4, n_estimators=150.........\n",
      "[CV 1/3; 6/120] END learning_rate=0.01, max_depth=4, n_estimators=150;, score=0.931 total time=   3.3s\n",
      "[CV 3/3; 6/120] START learning_rate=0.01, max_depth=4, n_estimators=150.........\n",
      "[CV 3/3; 6/120] END learning_rate=0.01, max_depth=4, n_estimators=150;, score=0.941 total time=   3.3s\n",
      "[CV 2/3; 7/120] START learning_rate=0.01, max_depth=6, n_estimators=50..........\n",
      "[CV 2/3; 7/120] END learning_rate=0.01, max_depth=6, n_estimators=50;, score=0.942 total time=   1.9s\n",
      "[CV 1/3; 8/120] START learning_rate=0.01, max_depth=6, n_estimators=100.........\n",
      "[CV 1/3; 8/120] END learning_rate=0.01, max_depth=6, n_estimators=100;, score=0.948 total time=   3.4s\n",
      "[CV 3/3; 8/120] START learning_rate=0.01, max_depth=6, n_estimators=100.........\n",
      "[CV 3/3; 8/120] END learning_rate=0.01, max_depth=6, n_estimators=100;, score=0.955 total time=   4.1s\n",
      "[CV 2/3; 9/120] START learning_rate=0.01, max_depth=6, n_estimators=150.........\n",
      "[CV 2/3; 9/120] END learning_rate=0.01, max_depth=6, n_estimators=150;, score=0.958 total time=   5.3s\n",
      "[CV 1/3; 10/120] START learning_rate=0.01, max_depth=8, n_estimators=50.........\n",
      "[CV 1/3; 10/120] END learning_rate=0.01, max_depth=8, n_estimators=50;, score=0.958 total time=   2.3s\n",
      "[CV 2/3; 10/120] START learning_rate=0.01, max_depth=8, n_estimators=50.........\n",
      "[CV 2/3; 10/120] END learning_rate=0.01, max_depth=8, n_estimators=50;, score=0.957 total time=   2.4s\n",
      "[CV 1/3; 11/120] START learning_rate=0.01, max_depth=8, n_estimators=100........\n",
      "[CV 1/3; 11/120] END learning_rate=0.01, max_depth=8, n_estimators=100;, score=0.964 total time=   4.5s\n",
      "[CV 3/3; 11/120] START learning_rate=0.01, max_depth=8, n_estimators=100........\n",
      "[CV 3/3; 11/120] END learning_rate=0.01, max_depth=8, n_estimators=100;, score=0.967 total time=   4.6s\n",
      "[CV 2/3; 12/120] START learning_rate=0.01, max_depth=8, n_estimators=150........\n",
      "[CV 2/3; 12/120] END learning_rate=0.01, max_depth=8, n_estimators=150;, score=0.971 total time=   6.7s\n",
      "[CV 1/3; 13/120] START learning_rate=0.06444444444444444, max_depth=2, n_estimators=50\n",
      "[CV 1/3; 13/120] END learning_rate=0.06444444444444444, max_depth=2, n_estimators=50;, score=0.901 total time=   0.6s\n",
      "[CV 2/3; 13/120] START learning_rate=0.06444444444444444, max_depth=2, n_estimators=50\n",
      "[CV 2/3; 13/120] END learning_rate=0.06444444444444444, max_depth=2, n_estimators=50;, score=0.899 total time=   0.6s\n",
      "[CV 3/3; 13/120] START learning_rate=0.06444444444444444, max_depth=2, n_estimators=50\n",
      "[CV 3/3; 13/120] END learning_rate=0.06444444444444444, max_depth=2, n_estimators=50;, score=0.902 total time=   0.6s\n",
      "[CV 1/3; 14/120] START learning_rate=0.06444444444444444, max_depth=2, n_estimators=100\n",
      "[CV 1/3; 14/120] END learning_rate=0.06444444444444444, max_depth=2, n_estimators=100;, score=0.928 total time=   1.2s\n",
      "[CV 3/3; 14/120] START learning_rate=0.06444444444444444, max_depth=2, n_estimators=100\n",
      "[CV 3/3; 14/120] END learning_rate=0.06444444444444444, max_depth=2, n_estimators=100;, score=0.939 total time=   1.2s\n",
      "[CV 2/3; 15/120] START learning_rate=0.06444444444444444, max_depth=2, n_estimators=150\n",
      "[CV 2/3; 15/120] END learning_rate=0.06444444444444444, max_depth=2, n_estimators=150;, score=0.949 total time=   1.7s\n",
      "[CV 1/3; 16/120] START learning_rate=0.06444444444444444, max_depth=4, n_estimators=50\n",
      "[CV 1/3; 16/120] END learning_rate=0.06444444444444444, max_depth=4, n_estimators=50;, score=0.947 total time=   1.1s\n",
      "[CV 3/3; 16/120] START learning_rate=0.06444444444444444, max_depth=4, n_estimators=50\n",
      "[CV 3/3; 16/120] END learning_rate=0.06444444444444444, max_depth=4, n_estimators=50;, score=0.954 total time=   1.1s\n",
      "[CV 2/3; 17/120] START learning_rate=0.06444444444444444, max_depth=4, n_estimators=100\n",
      "[CV 2/3; 17/120] END learning_rate=0.06444444444444444, max_depth=4, n_estimators=100;, score=0.971 total time=   2.2s\n",
      "[CV 1/3; 18/120] START learning_rate=0.06444444444444444, max_depth=4, n_estimators=150\n",
      "[CV 1/3; 18/120] END learning_rate=0.06444444444444444, max_depth=4, n_estimators=150;, score=0.971 total time=   3.3s\n",
      "[CV 3/3; 18/120] START learning_rate=0.06444444444444444, max_depth=4, n_estimators=150\n",
      "[CV 3/3; 18/120] END learning_rate=0.06444444444444444, max_depth=4, n_estimators=150;, score=0.979 total time=   3.3s\n",
      "[CV 2/3; 19/120] START learning_rate=0.06444444444444444, max_depth=6, n_estimators=50\n",
      "[CV 2/3; 19/120] END learning_rate=0.06444444444444444, max_depth=6, n_estimators=50;, score=0.973 total time=   1.7s\n",
      "[CV 1/3; 20/120] START learning_rate=0.06444444444444444, max_depth=6, n_estimators=100\n",
      "[CV 1/3; 20/120] END learning_rate=0.06444444444444444, max_depth=6, n_estimators=100;, score=0.981 total time=   3.3s\n",
      "[CV 3/3; 20/120] START learning_rate=0.06444444444444444, max_depth=6, n_estimators=100\n",
      "[CV 3/3; 20/120] END learning_rate=0.06444444444444444, max_depth=6, n_estimators=100;, score=0.984 total time=   3.3s\n",
      "[CV 2/3; 21/120] START learning_rate=0.06444444444444444, max_depth=6, n_estimators=150\n",
      "[CV 2/3; 21/120] END learning_rate=0.06444444444444444, max_depth=6, n_estimators=150;, score=0.985 total time=   5.0s\n",
      "[CV 1/3; 22/120] START learning_rate=0.06444444444444444, max_depth=8, n_estimators=50\n",
      "[CV 1/3; 22/120] END learning_rate=0.06444444444444444, max_depth=8, n_estimators=50;, score=0.979 total time=   2.3s\n",
      "[CV 3/3; 22/120] START learning_rate=0.06444444444444444, max_depth=8, n_estimators=50\n",
      "[CV 3/3; 22/120] END learning_rate=0.06444444444444444, max_depth=8, n_estimators=50;, score=0.981 total time=   2.3s\n",
      "[CV 2/3; 23/120] START learning_rate=0.06444444444444444, max_depth=8, n_estimators=100\n",
      "[CV 2/3; 23/120] END learning_rate=0.06444444444444444, max_depth=8, n_estimators=100;, score=0.985 total time=   4.6s\n",
      "[CV 1/3; 24/120] START learning_rate=0.06444444444444444, max_depth=8, n_estimators=150\n",
      "[CV 1/3; 24/120] END learning_rate=0.06444444444444444, max_depth=8, n_estimators=150;, score=0.984 total time=   6.9s\n",
      "[CV 3/3; 24/120] START learning_rate=0.06444444444444444, max_depth=8, n_estimators=150\n",
      "[CV 3/3; 24/120] END learning_rate=0.06444444444444444, max_depth=8, n_estimators=150;, score=0.988 total time=   6.9s\n",
      "[CV 2/3; 26/120] START learning_rate=0.11888888888888888, max_depth=2, n_estimators=100\n",
      "[CV 2/3; 26/120] END learning_rate=0.11888888888888888, max_depth=2, n_estimators=100;, score=0.953 total time=   1.1s\n",
      "[CV 1/3; 27/120] START learning_rate=0.11888888888888888, max_depth=2, n_estimators=150\n",
      "[CV 1/3; 27/120] END learning_rate=0.11888888888888888, max_depth=2, n_estimators=150;, score=0.960 total time=   1.7s\n",
      "[CV 3/3; 27/120] START learning_rate=0.11888888888888888, max_depth=2, n_estimators=150\n",
      "[CV 3/3; 27/120] END learning_rate=0.11888888888888888, max_depth=2, n_estimators=150;, score=0.965 total time=   1.7s\n",
      "[CV 3/3; 28/120] START learning_rate=0.11888888888888888, max_depth=4, n_estimators=50\n",
      "[CV 3/3; 28/120] END learning_rate=0.11888888888888888, max_depth=4, n_estimators=50;, score=0.972 total time=   1.1s\n",
      "[CV 2/3; 29/120] START learning_rate=0.11888888888888888, max_depth=4, n_estimators=100\n",
      "[CV 2/3; 29/120] END learning_rate=0.11888888888888888, max_depth=4, n_estimators=100;, score=0.978 total time=   2.2s\n",
      "[CV 1/3; 30/120] START learning_rate=0.11888888888888888, max_depth=4, n_estimators=150\n",
      "[CV 1/3; 30/120] END learning_rate=0.11888888888888888, max_depth=4, n_estimators=150;, score=0.980 total time=   3.3s\n",
      "[CV 3/3; 30/120] START learning_rate=0.11888888888888888, max_depth=4, n_estimators=150\n",
      "[CV 3/3; 30/120] END learning_rate=0.11888888888888888, max_depth=4, n_estimators=150;, score=0.985 total time=   3.3s\n",
      "[CV 2/3; 31/120] START learning_rate=0.11888888888888888, max_depth=6, n_estimators=50\n",
      "[CV 2/3; 31/120] END learning_rate=0.11888888888888888, max_depth=6, n_estimators=50;, score=0.980 total time=   1.6s\n",
      "[CV 1/3; 32/120] START learning_rate=0.11888888888888888, max_depth=6, n_estimators=100\n",
      "[CV 1/3; 32/120] END learning_rate=0.11888888888888888, max_depth=6, n_estimators=100;, score=0.984 total time=   3.2s\n",
      "[CV 3/3; 32/120] START learning_rate=0.11888888888888888, max_depth=6, n_estimators=100\n",
      "[CV 3/3; 32/120] END learning_rate=0.11888888888888888, max_depth=6, n_estimators=100;, score=0.988 total time=   3.3s\n",
      "[CV 2/3; 33/120] START learning_rate=0.11888888888888888, max_depth=6, n_estimators=150\n",
      "[CV 2/3; 33/120] END learning_rate=0.11888888888888888, max_depth=6, n_estimators=150;, score=0.988 total time=   4.9s\n",
      "[CV 1/3; 34/120] START learning_rate=0.11888888888888888, max_depth=8, n_estimators=50\n",
      "[CV 1/3; 34/120] END learning_rate=0.11888888888888888, max_depth=8, n_estimators=50;, score=0.981 total time=   2.2s\n",
      "[CV 3/3; 34/120] START learning_rate=0.11888888888888888, max_depth=8, n_estimators=50\n",
      "[CV 3/3; 34/120] END learning_rate=0.11888888888888888, max_depth=8, n_estimators=50;, score=0.985 total time=   2.3s\n",
      "[CV 2/3; 35/120] START learning_rate=0.11888888888888888, max_depth=8, n_estimators=100\n",
      "[CV 2/3; 35/120] END learning_rate=0.11888888888888888, max_depth=8, n_estimators=100;, score=0.988 total time=   4.5s\n",
      "[CV 1/3; 36/120] START learning_rate=0.11888888888888888, max_depth=8, n_estimators=150\n",
      "[CV 1/3; 36/120] END learning_rate=0.11888888888888888, max_depth=8, n_estimators=150;, score=0.985 total time=   6.8s\n",
      "[CV 3/3; 36/120] START learning_rate=0.11888888888888888, max_depth=8, n_estimators=150\n",
      "[CV 3/3; 36/120] END learning_rate=0.11888888888888888, max_depth=8, n_estimators=150;, score=0.989 total time=   6.9s\n",
      "[CV 2/3; 38/120] START learning_rate=0.17333333333333334, max_depth=2, n_estimators=100\n",
      "[CV 2/3; 38/120] END learning_rate=0.17333333333333334, max_depth=2, n_estimators=100;, score=0.963 total time=   1.1s\n",
      "[CV 1/3; 39/120] START learning_rate=0.17333333333333334, max_depth=2, n_estimators=150\n",
      "[CV 1/3; 39/120] END learning_rate=0.17333333333333334, max_depth=2, n_estimators=150;, score=0.964 total time=   1.7s\n",
      "[CV 3/3; 39/120] START learning_rate=0.17333333333333334, max_depth=2, n_estimators=150\n",
      "[CV 3/3; 39/120] END learning_rate=0.17333333333333334, max_depth=2, n_estimators=150;, score=0.971 total time=   1.7s\n",
      "[CV 3/3; 40/120] START learning_rate=0.17333333333333334, max_depth=4, n_estimators=50\n",
      "[CV 3/3; 40/120] END learning_rate=0.17333333333333334, max_depth=4, n_estimators=50;, score=0.979 total time=   1.1s\n",
      "[CV 2/3; 41/120] START learning_rate=0.17333333333333334, max_depth=4, n_estimators=100\n",
      "[CV 2/3; 41/120] END learning_rate=0.17333333333333334, max_depth=4, n_estimators=100;, score=0.979 total time=   2.1s\n",
      "[CV 1/3; 42/120] START learning_rate=0.17333333333333334, max_depth=4, n_estimators=150\n",
      "[CV 1/3; 42/120] END learning_rate=0.17333333333333334, max_depth=4, n_estimators=150;, score=0.983 total time=   3.2s\n",
      "[CV 3/3; 42/120] START learning_rate=0.17333333333333334, max_depth=4, n_estimators=150\n",
      "[CV 3/3; 42/120] END learning_rate=0.17333333333333334, max_depth=4, n_estimators=150;, score=0.986 total time=   3.3s\n",
      "[CV 2/3; 43/120] START learning_rate=0.17333333333333334, max_depth=6, n_estimators=50\n",
      "[CV 2/3; 43/120] END learning_rate=0.17333333333333334, max_depth=6, n_estimators=50;, score=0.983 total time=   1.6s\n",
      "[CV 1/3; 44/120] START learning_rate=0.17333333333333334, max_depth=6, n_estimators=100\n",
      "[CV 1/3; 44/120] END learning_rate=0.17333333333333334, max_depth=6, n_estimators=100;, score=0.985 total time=   3.2s\n",
      "[CV 3/3; 44/120] START learning_rate=0.17333333333333334, max_depth=6, n_estimators=100\n",
      "[CV 3/3; 44/120] END learning_rate=0.17333333333333334, max_depth=6, n_estimators=100;, score=0.989 total time=   3.4s\n",
      "[CV 2/3; 45/120] START learning_rate=0.17333333333333334, max_depth=6, n_estimators=150\n",
      "[CV 2/3; 45/120] END learning_rate=0.17333333333333334, max_depth=6, n_estimators=150;, score=0.988 total time=   4.9s\n",
      "[CV 1/3; 46/120] START learning_rate=0.17333333333333334, max_depth=8, n_estimators=50\n",
      "[CV 1/3; 46/120] END learning_rate=0.17333333333333334, max_depth=8, n_estimators=50;, score=0.983 total time=   2.3s\n",
      "[CV 3/3; 46/120] START learning_rate=0.17333333333333334, max_depth=8, n_estimators=50\n",
      "[CV 3/3; 46/120] END learning_rate=0.17333333333333334, max_depth=8, n_estimators=50;, score=0.986 total time=   2.3s\n",
      "[CV 2/3; 47/120] START learning_rate=0.17333333333333334, max_depth=8, n_estimators=100\n",
      "[CV 2/3; 47/120] END learning_rate=0.17333333333333334, max_depth=8, n_estimators=100;, score=0.988 total time=   4.6s\n",
      "[CV 1/3; 48/120] START learning_rate=0.17333333333333334, max_depth=8, n_estimators=150\n",
      "[CV 1/3; 48/120] END learning_rate=0.17333333333333334, max_depth=8, n_estimators=150;, score=0.986 total time=   6.7s\n",
      "[CV 3/3; 48/120] START learning_rate=0.17333333333333334, max_depth=8, n_estimators=150\n",
      "[CV 3/3; 48/120] END learning_rate=0.17333333333333334, max_depth=8, n_estimators=150;, score=0.990 total time=   6.8s\n",
      "[CV 2/3; 50/120] START learning_rate=0.22777777777777777, max_depth=2, n_estimators=100\n",
      "[CV 2/3; 50/120] END learning_rate=0.22777777777777777, max_depth=2, n_estimators=100;, score=0.965 total time=   1.1s\n",
      "[CV 1/3; 51/120] START learning_rate=0.22777777777777777, max_depth=2, n_estimators=150\n",
      "[CV 1/3; 51/120] END learning_rate=0.22777777777777777, max_depth=2, n_estimators=150;, score=0.968 total time=   1.7s\n",
      "[CV 3/3; 51/120] START learning_rate=0.22777777777777777, max_depth=2, n_estimators=150\n",
      "[CV 3/3; 51/120] END learning_rate=0.22777777777777777, max_depth=2, n_estimators=150;, score=0.974 total time=   1.7s\n",
      "[CV 3/3; 52/120] START learning_rate=0.22777777777777777, max_depth=4, n_estimators=50\n",
      "[CV 3/3; 52/120] END learning_rate=0.22777777777777777, max_depth=4, n_estimators=50;, score=0.984 total time=   1.1s\n",
      "[CV 2/3; 53/120] START learning_rate=0.22777777777777777, max_depth=4, n_estimators=100\n",
      "[CV 2/3; 53/120] END learning_rate=0.22777777777777777, max_depth=4, n_estimators=100;, score=0.983 total time=   2.2s\n",
      "[CV 1/3; 54/120] START learning_rate=0.22777777777777777, max_depth=4, n_estimators=150\n",
      "[CV 1/3; 54/120] END learning_rate=0.22777777777777777, max_depth=4, n_estimators=150;, score=0.983 total time=   3.4s\n",
      "[CV 3/3; 54/120] START learning_rate=0.22777777777777777, max_depth=4, n_estimators=150\n",
      "[CV 3/3; 54/120] END learning_rate=0.22777777777777777, max_depth=4, n_estimators=150;, score=0.990 total time=   3.3s\n",
      "[CV 2/3; 55/120] START learning_rate=0.22777777777777777, max_depth=6, n_estimators=50\n",
      "[CV 2/3; 55/120] END learning_rate=0.22777777777777777, max_depth=6, n_estimators=50;, score=0.986 total time=   1.7s\n",
      "[CV 1/3; 56/120] START learning_rate=0.22777777777777777, max_depth=6, n_estimators=100\n",
      "[CV 1/3; 56/120] END learning_rate=0.22777777777777777, max_depth=6, n_estimators=100;, score=0.986 total time=   3.4s\n",
      "[CV 3/3; 56/120] START learning_rate=0.22777777777777777, max_depth=6, n_estimators=100\n",
      "[CV 3/3; 56/120] END learning_rate=0.22777777777777777, max_depth=6, n_estimators=100;, score=0.990 total time=   3.2s\n",
      "[CV 2/3; 57/120] START learning_rate=0.22777777777777777, max_depth=6, n_estimators=150\n",
      "[CV 2/3; 57/120] END learning_rate=0.22777777777777777, max_depth=6, n_estimators=150;, score=0.988 total time=   4.9s\n",
      "[CV 1/3; 58/120] START learning_rate=0.22777777777777777, max_depth=8, n_estimators=50\n",
      "[CV 1/3; 58/120] END learning_rate=0.22777777777777777, max_depth=8, n_estimators=50;, score=0.982 total time=   2.3s\n",
      "[CV 3/3; 58/120] START learning_rate=0.22777777777777777, max_depth=8, n_estimators=50\n",
      "[CV 3/3; 58/120] END learning_rate=0.22777777777777777, max_depth=8, n_estimators=50;, score=0.988 total time=   2.3s\n",
      "[CV 2/3; 59/120] START learning_rate=0.22777777777777777, max_depth=8, n_estimators=100\n",
      "[CV 2/3; 59/120] END learning_rate=0.22777777777777777, max_depth=8, n_estimators=100;, score=0.988 total time=   4.5s\n",
      "[CV 1/3; 60/120] START learning_rate=0.22777777777777777, max_depth=8, n_estimators=150\n",
      "[CV 1/3; 60/120] END learning_rate=0.22777777777777777, max_depth=8, n_estimators=150;, score=0.986 total time=   6.8s\n",
      "[CV 3/3; 60/120] START learning_rate=0.22777777777777777, max_depth=8, n_estimators=150\n",
      "[CV 3/3; 60/120] END learning_rate=0.22777777777777777, max_depth=8, n_estimators=150;, score=0.990 total time=   6.8s\n",
      "[CV 3/3; 62/120] START learning_rate=0.2822222222222222, max_depth=2, n_estimators=100\n",
      "[CV 3/3; 62/120] END learning_rate=0.2822222222222222, max_depth=2, n_estimators=100;, score=0.972 total time=   1.1s\n",
      "[CV 2/3; 63/120] START learning_rate=0.2822222222222222, max_depth=2, n_estimators=150\n",
      "[CV 2/3; 63/120] END learning_rate=0.2822222222222222, max_depth=2, n_estimators=150;, score=0.976 total time=   1.7s\n",
      "[CV 1/3; 64/120] START learning_rate=0.2822222222222222, max_depth=4, n_estimators=50\n",
      "[CV 1/3; 64/120] END learning_rate=0.2822222222222222, max_depth=4, n_estimators=50;, score=0.976 total time=   1.2s\n",
      "[CV 2/3; 64/120] START learning_rate=0.2822222222222222, max_depth=4, n_estimators=50\n",
      "[CV 2/3; 64/120] END learning_rate=0.2822222222222222, max_depth=4, n_estimators=50;, score=0.978 total time=   1.2s\n",
      "[CV 1/3; 65/120] START learning_rate=0.2822222222222222, max_depth=4, n_estimators=100\n",
      "[CV 1/3; 65/120] END learning_rate=0.2822222222222222, max_depth=4, n_estimators=100;, score=0.984 total time=   2.5s\n",
      "[CV 3/3; 65/120] START learning_rate=0.2822222222222222, max_depth=4, n_estimators=100\n",
      "[CV 3/3; 65/120] END learning_rate=0.2822222222222222, max_depth=4, n_estimators=100;, score=0.988 total time=   2.6s\n",
      "[CV 2/3; 66/120] START learning_rate=0.2822222222222222, max_depth=4, n_estimators=150\n",
      "[CV 2/3; 66/120] END learning_rate=0.2822222222222222, max_depth=4, n_estimators=150;, score=0.986 total time=   4.2s\n",
      "[CV 1/3; 67/120] START learning_rate=0.2822222222222222, max_depth=6, n_estimators=50\n",
      "[CV 1/3; 67/120] END learning_rate=0.2822222222222222, max_depth=6, n_estimators=50;, score=0.983 total time=   2.2s\n",
      "[CV 3/3; 67/120] START learning_rate=0.2822222222222222, max_depth=6, n_estimators=50\n",
      "[CV 3/3; 67/120] END learning_rate=0.2822222222222222, max_depth=6, n_estimators=50;, score=0.989 total time=   2.2s\n",
      "[CV 2/3; 68/120] START learning_rate=0.2822222222222222, max_depth=6, n_estimators=100\n",
      "[CV 2/3; 68/120] END learning_rate=0.2822222222222222, max_depth=6, n_estimators=100;, score=0.987 total time=   3.8s\n",
      "[CV 1/3; 69/120] START learning_rate=0.2822222222222222, max_depth=6, n_estimators=150\n",
      "[CV 1/3; 69/120] END learning_rate=0.2822222222222222, max_depth=6, n_estimators=150;, score=0.985 total time=   5.0s\n",
      "[CV 3/3; 69/120] START learning_rate=0.2822222222222222, max_depth=6, n_estimators=150\n",
      "[CV 3/3; 69/120] END learning_rate=0.2822222222222222, max_depth=6, n_estimators=150;, score=0.991 total time=   4.8s\n",
      "[CV 2/3; 70/120] START learning_rate=0.2822222222222222, max_depth=8, n_estimators=50\n",
      "[CV 2/3; 70/120] END learning_rate=0.2822222222222222, max_depth=8, n_estimators=50;, score=0.986 total time=   2.3s\n",
      "[CV 1/3; 71/120] START learning_rate=0.2822222222222222, max_depth=8, n_estimators=100\n",
      "[CV 1/3; 71/120] END learning_rate=0.2822222222222222, max_depth=8, n_estimators=100;, score=0.987 total time=   4.5s\n",
      "[CV 3/3; 71/120] START learning_rate=0.2822222222222222, max_depth=8, n_estimators=100\n",
      "[CV 3/3; 71/120] END learning_rate=0.2822222222222222, max_depth=8, n_estimators=100;, score=0.989 total time=   4.5s\n",
      "[CV 2/3; 72/120] START learning_rate=0.2822222222222222, max_depth=8, n_estimators=150\n",
      "[CV 2/3; 72/120] END learning_rate=0.2822222222222222, max_depth=8, n_estimators=150;, score=0.989 total time=   7.3s\n",
      "[CV 1/3; 73/120] START learning_rate=0.33666666666666667, max_depth=2, n_estimators=50\n",
      "[CV 1/3; 73/120] END learning_rate=0.33666666666666667, max_depth=2, n_estimators=50;, score=0.958 total time=   0.6s\n",
      "[CV 2/3; 73/120] START learning_rate=0.33666666666666667, max_depth=2, n_estimators=50\n",
      "[CV 2/3; 73/120] END learning_rate=0.33666666666666667, max_depth=2, n_estimators=50;, score=0.964 total time=   0.6s\n",
      "[CV 3/3; 73/120] START learning_rate=0.33666666666666667, max_depth=2, n_estimators=50\n",
      "[CV 3/3; 73/120] END learning_rate=0.33666666666666667, max_depth=2, n_estimators=50;, score=0.961 total time=   0.6s\n",
      "[CV 1/3; 74/120] START learning_rate=0.33666666666666667, max_depth=2, n_estimators=100\n",
      "[CV 1/3; 74/120] END learning_rate=0.33666666666666667, max_depth=2, n_estimators=100;, score=0.964 total time=   1.1s\n",
      "[CV 3/3; 74/120] START learning_rate=0.33666666666666667, max_depth=2, n_estimators=100\n",
      "[CV 3/3; 74/120] END learning_rate=0.33666666666666667, max_depth=2, n_estimators=100;, score=0.974 total time=   1.1s\n",
      "[CV 2/3; 75/120] START learning_rate=0.33666666666666667, max_depth=2, n_estimators=150\n",
      "[CV 2/3; 75/120] END learning_rate=0.33666666666666667, max_depth=2, n_estimators=150;, score=0.976 total time=   1.8s\n",
      "[CV 1/3; 76/120] START learning_rate=0.33666666666666667, max_depth=4, n_estimators=50\n",
      "[CV 1/3; 76/120] END learning_rate=0.33666666666666667, max_depth=4, n_estimators=50;, score=0.980 total time=   1.1s\n",
      "[CV 2/3; 76/120] START learning_rate=0.33666666666666667, max_depth=4, n_estimators=50\n",
      "[CV 2/3; 76/120] END learning_rate=0.33666666666666667, max_depth=4, n_estimators=50;, score=0.980 total time=   1.1s\n",
      "[CV 1/3; 77/120] START learning_rate=0.33666666666666667, max_depth=4, n_estimators=100\n",
      "[CV 1/3; 77/120] END learning_rate=0.33666666666666667, max_depth=4, n_estimators=100;, score=0.984 total time=   2.2s\n",
      "[CV 3/3; 77/120] START learning_rate=0.33666666666666667, max_depth=4, n_estimators=100\n",
      "[CV 3/3; 77/120] END learning_rate=0.33666666666666667, max_depth=4, n_estimators=100;, score=0.986 total time=   2.2s\n",
      "[CV 2/3; 78/120] START learning_rate=0.33666666666666667, max_depth=4, n_estimators=150\n",
      "[CV 2/3; 78/120] END learning_rate=0.33666666666666667, max_depth=4, n_estimators=150;, score=0.986 total time=   3.2s\n",
      "[CV 1/3; 79/120] START learning_rate=0.33666666666666667, max_depth=6, n_estimators=50\n",
      "[CV 1/3; 79/120] END learning_rate=0.33666666666666667, max_depth=6, n_estimators=50;, score=0.984 total time=   1.6s\n",
      "[CV 3/3; 79/120] START learning_rate=0.33666666666666667, max_depth=6, n_estimators=50\n",
      "[CV 3/3; 79/120] END learning_rate=0.33666666666666667, max_depth=6, n_estimators=50;, score=0.987 total time=   1.7s\n",
      "[CV 2/3; 80/120] START learning_rate=0.33666666666666667, max_depth=6, n_estimators=100\n",
      "[CV 2/3; 80/120] END learning_rate=0.33666666666666667, max_depth=6, n_estimators=100;, score=0.988 total time=   3.7s\n",
      "[CV 1/3; 81/120] START learning_rate=0.33666666666666667, max_depth=6, n_estimators=150\n",
      "[CV 1/3; 81/120] END learning_rate=0.33666666666666667, max_depth=6, n_estimators=150;, score=0.987 total time=   6.8s\n",
      "[CV 3/3; 81/120] START learning_rate=0.33666666666666667, max_depth=6, n_estimators=150\n",
      "[CV 2/3; 30/120] START learning_rate=0.11888888888888888, max_depth=4, n_estimators=150\n",
      "[CV 2/3; 30/120] END learning_rate=0.11888888888888888, max_depth=4, n_estimators=150;, score=0.980 total time=   3.2s\n",
      "[CV 1/3; 31/120] START learning_rate=0.11888888888888888, max_depth=6, n_estimators=50\n",
      "[CV 1/3; 31/120] END learning_rate=0.11888888888888888, max_depth=6, n_estimators=50;, score=0.979 total time=   1.7s\n",
      "[CV 3/3; 31/120] START learning_rate=0.11888888888888888, max_depth=6, n_estimators=50\n",
      "[CV 3/3; 31/120] END learning_rate=0.11888888888888888, max_depth=6, n_estimators=50;, score=0.983 total time=   1.6s\n",
      "[CV 2/3; 32/120] START learning_rate=0.11888888888888888, max_depth=6, n_estimators=100\n",
      "[CV 2/3; 32/120] END learning_rate=0.11888888888888888, max_depth=6, n_estimators=100;, score=0.987 total time=   3.2s\n",
      "[CV 1/3; 33/120] START learning_rate=0.11888888888888888, max_depth=6, n_estimators=150\n",
      "[CV 1/3; 33/120] END learning_rate=0.11888888888888888, max_depth=6, n_estimators=150;, score=0.984 total time=   4.9s\n",
      "[CV 3/3; 33/120] START learning_rate=0.11888888888888888, max_depth=6, n_estimators=150\n",
      "[CV 3/3; 33/120] END learning_rate=0.11888888888888888, max_depth=6, n_estimators=150;, score=0.989 total time=   4.9s\n",
      "[CV 2/3; 34/120] START learning_rate=0.11888888888888888, max_depth=8, n_estimators=50\n",
      "[CV 2/3; 34/120] END learning_rate=0.11888888888888888, max_depth=8, n_estimators=50;, score=0.985 total time=   2.3s\n",
      "[CV 1/3; 35/120] START learning_rate=0.11888888888888888, max_depth=8, n_estimators=100\n",
      "[CV 1/3; 35/120] END learning_rate=0.11888888888888888, max_depth=8, n_estimators=100;, score=0.983 total time=   4.5s\n",
      "[CV 3/3; 35/120] START learning_rate=0.11888888888888888, max_depth=8, n_estimators=100\n",
      "[CV 3/3; 35/120] END learning_rate=0.11888888888888888, max_depth=8, n_estimators=100;, score=0.989 total time=   4.5s\n",
      "[CV 2/3; 36/120] START learning_rate=0.11888888888888888, max_depth=8, n_estimators=150\n",
      "[CV 2/3; 36/120] END learning_rate=0.11888888888888888, max_depth=8, n_estimators=150;, score=0.988 total time=   6.8s\n",
      "[CV 1/3; 37/120] START learning_rate=0.17333333333333334, max_depth=2, n_estimators=50\n",
      "[CV 1/3; 37/120] END learning_rate=0.17333333333333334, max_depth=2, n_estimators=50;, score=0.943 total time=   0.6s\n",
      "[CV 2/3; 37/120] START learning_rate=0.17333333333333334, max_depth=2, n_estimators=50\n",
      "[CV 2/3; 37/120] END learning_rate=0.17333333333333334, max_depth=2, n_estimators=50;, score=0.944 total time=   0.6s\n",
      "[CV 3/3; 37/120] START learning_rate=0.17333333333333334, max_depth=2, n_estimators=50\n",
      "[CV 3/3; 37/120] END learning_rate=0.17333333333333334, max_depth=2, n_estimators=50;, score=0.955 total time=   0.6s\n",
      "[CV 1/3; 38/120] START learning_rate=0.17333333333333334, max_depth=2, n_estimators=100\n",
      "[CV 1/3; 38/120] END learning_rate=0.17333333333333334, max_depth=2, n_estimators=100;, score=0.958 total time=   1.2s\n",
      "[CV 3/3; 38/120] START learning_rate=0.17333333333333334, max_depth=2, n_estimators=100\n",
      "[CV 3/3; 38/120] END learning_rate=0.17333333333333334, max_depth=2, n_estimators=100;, score=0.965 total time=   1.1s\n",
      "[CV 2/3; 39/120] START learning_rate=0.17333333333333334, max_depth=2, n_estimators=150\n",
      "[CV 2/3; 39/120] END learning_rate=0.17333333333333334, max_depth=2, n_estimators=150;, score=0.966 total time=   1.7s\n",
      "[CV 1/3; 40/120] START learning_rate=0.17333333333333334, max_depth=4, n_estimators=50\n",
      "[CV 1/3; 40/120] END learning_rate=0.17333333333333334, max_depth=4, n_estimators=50;, score=0.970 total time=   1.1s\n",
      "[CV 2/3; 40/120] START learning_rate=0.17333333333333334, max_depth=4, n_estimators=50\n",
      "[CV 2/3; 40/120] END learning_rate=0.17333333333333334, max_depth=4, n_estimators=50;, score=0.973 total time=   1.1s\n",
      "[CV 1/3; 41/120] START learning_rate=0.17333333333333334, max_depth=4, n_estimators=100\n",
      "[CV 1/3; 41/120] END learning_rate=0.17333333333333334, max_depth=4, n_estimators=100;, score=0.980 total time=   2.1s\n",
      "[CV 3/3; 41/120] START learning_rate=0.17333333333333334, max_depth=4, n_estimators=100\n",
      "[CV 3/3; 41/120] END learning_rate=0.17333333333333334, max_depth=4, n_estimators=100;, score=0.984 total time=   2.2s\n",
      "[CV 2/3; 42/120] START learning_rate=0.17333333333333334, max_depth=4, n_estimators=150\n",
      "[CV 2/3; 42/120] END learning_rate=0.17333333333333334, max_depth=4, n_estimators=150;, score=0.984 total time=   3.2s\n",
      "[CV 1/3; 43/120] START learning_rate=0.17333333333333334, max_depth=6, n_estimators=50\n",
      "[CV 1/3; 43/120] END learning_rate=0.17333333333333334, max_depth=6, n_estimators=50;, score=0.983 total time=   1.7s\n",
      "[CV 3/3; 43/120] START learning_rate=0.17333333333333334, max_depth=6, n_estimators=50\n",
      "[CV 3/3; 43/120] END learning_rate=0.17333333333333334, max_depth=6, n_estimators=50;, score=0.985 total time=   1.6s\n",
      "[CV 2/3; 44/120] START learning_rate=0.17333333333333334, max_depth=6, n_estimators=100\n",
      "[CV 2/3; 44/120] END learning_rate=0.17333333333333334, max_depth=6, n_estimators=100;, score=0.986 total time=   3.2s\n",
      "[CV 1/3; 45/120] START learning_rate=0.17333333333333334, max_depth=6, n_estimators=150\n",
      "[CV 1/3; 45/120] END learning_rate=0.17333333333333334, max_depth=6, n_estimators=150;, score=0.985 total time=   4.9s\n",
      "[CV 3/3; 45/120] START learning_rate=0.17333333333333334, max_depth=6, n_estimators=150\n",
      "[CV 3/3; 45/120] END learning_rate=0.17333333333333334, max_depth=6, n_estimators=150;, score=0.989 total time=   4.9s\n",
      "[CV 2/3; 46/120] START learning_rate=0.17333333333333334, max_depth=8, n_estimators=50\n",
      "[CV 2/3; 46/120] END learning_rate=0.17333333333333334, max_depth=8, n_estimators=50;, score=0.986 total time=   2.3s\n",
      "[CV 1/3; 47/120] START learning_rate=0.17333333333333334, max_depth=8, n_estimators=100\n",
      "[CV 1/3; 47/120] END learning_rate=0.17333333333333334, max_depth=8, n_estimators=100;, score=0.983 total time=   4.6s\n",
      "[CV 3/3; 47/120] START learning_rate=0.17333333333333334, max_depth=8, n_estimators=100\n",
      "[CV 3/3; 47/120] END learning_rate=0.17333333333333334, max_depth=8, n_estimators=100;, score=0.991 total time=   4.4s\n",
      "[CV 2/3; 48/120] START learning_rate=0.17333333333333334, max_depth=8, n_estimators=150\n",
      "[CV 2/3; 48/120] END learning_rate=0.17333333333333334, max_depth=8, n_estimators=150;, score=0.988 total time=   6.8s\n",
      "[CV 1/3; 49/120] START learning_rate=0.22777777777777777, max_depth=2, n_estimators=50\n",
      "[CV 1/3; 49/120] END learning_rate=0.22777777777777777, max_depth=2, n_estimators=50;, score=0.950 total time=   0.6s\n",
      "[CV 2/3; 49/120] START learning_rate=0.22777777777777777, max_depth=2, n_estimators=50\n",
      "[CV 2/3; 49/120] END learning_rate=0.22777777777777777, max_depth=2, n_estimators=50;, score=0.956 total time=   0.6s\n",
      "[CV 3/3; 49/120] START learning_rate=0.22777777777777777, max_depth=2, n_estimators=50\n",
      "[CV 3/3; 49/120] END learning_rate=0.22777777777777777, max_depth=2, n_estimators=50;, score=0.955 total time=   0.6s\n",
      "[CV 1/3; 50/120] START learning_rate=0.22777777777777777, max_depth=2, n_estimators=100\n",
      "[CV 1/3; 50/120] END learning_rate=0.22777777777777777, max_depth=2, n_estimators=100;, score=0.961 total time=   1.1s\n",
      "[CV 3/3; 50/120] START learning_rate=0.22777777777777777, max_depth=2, n_estimators=100\n",
      "[CV 3/3; 50/120] END learning_rate=0.22777777777777777, max_depth=2, n_estimators=100;, score=0.966 total time=   1.1s\n",
      "[CV 2/3; 51/120] START learning_rate=0.22777777777777777, max_depth=2, n_estimators=150\n",
      "[CV 2/3; 51/120] END learning_rate=0.22777777777777777, max_depth=2, n_estimators=150;, score=0.972 total time=   1.7s\n",
      "[CV 1/3; 52/120] START learning_rate=0.22777777777777777, max_depth=4, n_estimators=50\n",
      "[CV 1/3; 52/120] END learning_rate=0.22777777777777777, max_depth=4, n_estimators=50;, score=0.973 total time=   1.1s\n",
      "[CV 2/3; 52/120] START learning_rate=0.22777777777777777, max_depth=4, n_estimators=50\n",
      "[CV 2/3; 52/120] END learning_rate=0.22777777777777777, max_depth=4, n_estimators=50;, score=0.977 total time=   1.1s\n",
      "[CV 1/3; 53/120] START learning_rate=0.22777777777777777, max_depth=4, n_estimators=100\n",
      "[CV 1/3; 53/120] END learning_rate=0.22777777777777777, max_depth=4, n_estimators=100;, score=0.978 total time=   2.2s\n",
      "[CV 3/3; 53/120] START learning_rate=0.22777777777777777, max_depth=4, n_estimators=100\n",
      "[CV 3/3; 53/120] END learning_rate=0.22777777777777777, max_depth=4, n_estimators=100;, score=0.986 total time=   2.1s\n",
      "[CV 2/3; 54/120] START learning_rate=0.22777777777777777, max_depth=4, n_estimators=150\n",
      "[CV 2/3; 54/120] END learning_rate=0.22777777777777777, max_depth=4, n_estimators=150;, score=0.985 total time=   3.5s\n",
      "[CV 1/3; 55/120] START learning_rate=0.22777777777777777, max_depth=6, n_estimators=50\n",
      "[CV 1/3; 55/120] END learning_rate=0.22777777777777777, max_depth=6, n_estimators=50;, score=0.983 total time=   1.7s\n",
      "[CV 3/3; 55/120] START learning_rate=0.22777777777777777, max_depth=6, n_estimators=50\n",
      "[CV 3/3; 55/120] END learning_rate=0.22777777777777777, max_depth=6, n_estimators=50;, score=0.988 total time=   1.6s\n",
      "[CV 2/3; 56/120] START learning_rate=0.22777777777777777, max_depth=6, n_estimators=100\n",
      "[CV 2/3; 56/120] END learning_rate=0.22777777777777777, max_depth=6, n_estimators=100;, score=0.988 total time=   3.4s\n",
      "[CV 1/3; 57/120] START learning_rate=0.22777777777777777, max_depth=6, n_estimators=150\n",
      "[CV 1/3; 57/120] END learning_rate=0.22777777777777777, max_depth=6, n_estimators=150;, score=0.986 total time=   4.9s\n",
      "[CV 3/3; 57/120] START learning_rate=0.22777777777777777, max_depth=6, n_estimators=150\n",
      "[CV 3/3; 57/120] END learning_rate=0.22777777777777777, max_depth=6, n_estimators=150;, score=0.988 total time=   4.8s\n",
      "[CV 2/3; 58/120] START learning_rate=0.22777777777777777, max_depth=8, n_estimators=50\n",
      "[CV 2/3; 58/120] END learning_rate=0.22777777777777777, max_depth=8, n_estimators=50;, score=0.987 total time=   2.3s\n",
      "[CV 1/3; 59/120] START learning_rate=0.22777777777777777, max_depth=8, n_estimators=100\n",
      "[CV 1/3; 59/120] END learning_rate=0.22777777777777777, max_depth=8, n_estimators=100;, score=0.987 total time=   4.5s\n",
      "[CV 3/3; 59/120] START learning_rate=0.22777777777777777, max_depth=8, n_estimators=100\n",
      "[CV 3/3; 59/120] END learning_rate=0.22777777777777777, max_depth=8, n_estimators=100;, score=0.990 total time=   4.5s\n",
      "[CV 2/3; 60/120] START learning_rate=0.22777777777777777, max_depth=8, n_estimators=150\n",
      "[CV 2/3; 60/120] END learning_rate=0.22777777777777777, max_depth=8, n_estimators=150;, score=0.988 total time=   6.8s\n",
      "[CV 1/3; 61/120] START learning_rate=0.2822222222222222, max_depth=2, n_estimators=50\n",
      "[CV 1/3; 61/120] END learning_rate=0.2822222222222222, max_depth=2, n_estimators=50;, score=0.955 total time=   0.6s\n",
      "[CV 2/3; 61/120] START learning_rate=0.2822222222222222, max_depth=2, n_estimators=50\n",
      "[CV 2/3; 61/120] END learning_rate=0.2822222222222222, max_depth=2, n_estimators=50;, score=0.959 total time=   0.6s\n",
      "[CV 3/3; 61/120] START learning_rate=0.2822222222222222, max_depth=2, n_estimators=50\n",
      "[CV 3/3; 61/120] END learning_rate=0.2822222222222222, max_depth=2, n_estimators=50;, score=0.957 total time=   0.6s\n",
      "[CV 1/3; 62/120] START learning_rate=0.2822222222222222, max_depth=2, n_estimators=100\n",
      "[CV 1/3; 62/120] END learning_rate=0.2822222222222222, max_depth=2, n_estimators=100;, score=0.965 total time=   1.1s\n",
      "[CV 2/3; 62/120] START learning_rate=0.2822222222222222, max_depth=2, n_estimators=100\n",
      "[CV 2/3; 62/120] END learning_rate=0.2822222222222222, max_depth=2, n_estimators=100;, score=0.968 total time=   1.1s\n",
      "[CV 1/3; 63/120] START learning_rate=0.2822222222222222, max_depth=2, n_estimators=150\n",
      "[CV 1/3; 63/120] END learning_rate=0.2822222222222222, max_depth=2, n_estimators=150;, score=0.969 total time=   1.7s\n",
      "[CV 3/3; 63/120] START learning_rate=0.2822222222222222, max_depth=2, n_estimators=150\n",
      "[CV 3/3; 63/120] END learning_rate=0.2822222222222222, max_depth=2, n_estimators=150;, score=0.977 total time=   1.9s\n",
      "[CV 3/3; 64/120] START learning_rate=0.2822222222222222, max_depth=4, n_estimators=50\n",
      "[CV 3/3; 64/120] END learning_rate=0.2822222222222222, max_depth=4, n_estimators=50;, score=0.981 total time=   1.2s\n",
      "[CV 2/3; 65/120] START learning_rate=0.2822222222222222, max_depth=4, n_estimators=100\n",
      "[CV 2/3; 65/120] END learning_rate=0.2822222222222222, max_depth=4, n_estimators=100;, score=0.986 total time=   2.5s\n",
      "[CV 1/3; 66/120] START learning_rate=0.2822222222222222, max_depth=4, n_estimators=150\n",
      "[CV 1/3; 66/120] END learning_rate=0.2822222222222222, max_depth=4, n_estimators=150;, score=0.985 total time=   4.0s\n",
      "[CV 3/3; 66/120] START learning_rate=0.2822222222222222, max_depth=4, n_estimators=150\n",
      "[CV 3/3; 66/120] END learning_rate=0.2822222222222222, max_depth=4, n_estimators=150;, score=0.989 total time=   4.2s\n",
      "[CV 2/3; 67/120] START learning_rate=0.2822222222222222, max_depth=6, n_estimators=50\n",
      "[CV 2/3; 67/120] END learning_rate=0.2822222222222222, max_depth=6, n_estimators=50;, score=0.984 total time=   2.2s\n",
      "[CV 1/3; 68/120] START learning_rate=0.2822222222222222, max_depth=6, n_estimators=100\n",
      "[CV 1/3; 68/120] END learning_rate=0.2822222222222222, max_depth=6, n_estimators=100;, score=0.984 total time=   3.8s\n",
      "[CV 3/3; 68/120] START learning_rate=0.2822222222222222, max_depth=6, n_estimators=100\n",
      "[CV 3/3; 68/120] END learning_rate=0.2822222222222222, max_depth=6, n_estimators=100;, score=0.991 total time=   3.4s\n",
      "[CV 2/3; 69/120] START learning_rate=0.2822222222222222, max_depth=6, n_estimators=150\n",
      "[CV 2/3; 69/120] END learning_rate=0.2822222222222222, max_depth=6, n_estimators=150;, score=0.988 total time=   4.8s\n",
      "[CV 1/3; 70/120] START learning_rate=0.2822222222222222, max_depth=8, n_estimators=50\n",
      "[CV 1/3; 70/120] END learning_rate=0.2822222222222222, max_depth=8, n_estimators=50;, score=0.984 total time=   2.2s\n",
      "[CV 3/3; 70/120] START learning_rate=0.2822222222222222, max_depth=8, n_estimators=50\n",
      "[CV 3/3; 70/120] END learning_rate=0.2822222222222222, max_depth=8, n_estimators=50;, score=0.988 total time=   2.3s\n",
      "[CV 2/3; 71/120] START learning_rate=0.2822222222222222, max_depth=8, n_estimators=100\n",
      "[CV 2/3; 71/120] END learning_rate=0.2822222222222222, max_depth=8, n_estimators=100;, score=0.988 total time=   4.5s\n",
      "[CV 1/3; 72/120] START learning_rate=0.2822222222222222, max_depth=8, n_estimators=150\n",
      "[CV 1/3; 72/120] END learning_rate=0.2822222222222222, max_depth=8, n_estimators=150;, score=0.986 total time=   6.9s\n",
      "[CV 3/3; 72/120] START learning_rate=0.2822222222222222, max_depth=8, n_estimators=150\n",
      "[CV 3/3; 72/120] END learning_rate=0.2822222222222222, max_depth=8, n_estimators=150;, score=0.991 total time=   7.0s\n",
      "[CV 2/3; 74/120] START learning_rate=0.33666666666666667, max_depth=2, n_estimators=100\n",
      "[CV 2/3; 74/120] END learning_rate=0.33666666666666667, max_depth=2, n_estimators=100;, score=0.974 total time=   1.1s\n",
      "[CV 1/3; 75/120] START learning_rate=0.33666666666666667, max_depth=2, n_estimators=150\n",
      "[CV 1/3; 75/120] END learning_rate=0.33666666666666667, max_depth=2, n_estimators=150;, score=0.969 total time=   1.7s\n",
      "[CV 3/3; 75/120] START learning_rate=0.33666666666666667, max_depth=2, n_estimators=150\n",
      "[CV 3/3; 75/120] END learning_rate=0.33666666666666667, max_depth=2, n_estimators=150;, score=0.980 total time=   1.7s\n",
      "[CV 3/3; 76/120] START learning_rate=0.33666666666666667, max_depth=4, n_estimators=50\n",
      "[CV 3/3; 76/120] END learning_rate=0.33666666666666667, max_depth=4, n_estimators=50;, score=0.984 total time=   1.1s\n",
      "[CV 2/3; 77/120] START learning_rate=0.33666666666666667, max_depth=4, n_estimators=100\n",
      "[CV 2/3; 77/120] END learning_rate=0.33666666666666667, max_depth=4, n_estimators=100;, score=0.984 total time=   2.2s\n",
      "[CV 1/3; 78/120] START learning_rate=0.33666666666666667, max_depth=4, n_estimators=150\n",
      "[CV 1/3; 78/120] END learning_rate=0.33666666666666667, max_depth=4, n_estimators=150;, score=0.985 total time=   3.3s\n",
      "[CV 3/3; 78/120] START learning_rate=0.33666666666666667, max_depth=4, n_estimators=150\n",
      "[CV 3/3; 78/120] END learning_rate=0.33666666666666667, max_depth=4, n_estimators=150;, score=0.988 total time=   3.2s\n",
      "[CV 2/3; 79/120] START learning_rate=0.33666666666666667, max_depth=6, n_estimators=50\n",
      "[CV 2/3; 79/120] END learning_rate=0.33666666666666667, max_depth=6, n_estimators=50;, score=0.986 total time=   1.7s\n",
      "[CV 1/3; 80/120] START learning_rate=0.33666666666666667, max_depth=6, n_estimators=100\n",
      "[CV 1/3; 80/120] END learning_rate=0.33666666666666667, max_depth=6, n_estimators=100;, score=0.986 total time=   3.7s\n"
     ]
    },
    {
     "data": {
      "text/plain": "GridSearchCV(cv=3, estimator=GradientBoostingClassifier(), n_jobs=2,\n             param_grid={'learning_rate': array([0.01      , 0.06444444, 0.11888889, 0.17333333, 0.22777778,\n       0.28222222, 0.33666667, 0.39111111, 0.44555556, 0.5       ]),\n                         'max_depth': (2, 4, 6, 8),\n                         'n_estimators': (50, 100, 150)},\n             verbose=100)"
     },
     "execution_count": 30,
     "metadata": {},
     "output_type": "execute_result"
    }
   ],
   "source": [
    "grid_grad = GridSearchCV(gradient, grad_params, verbose=100, n_jobs=2, cv=3)\n",
    "grid_grad.fit(X_train, y_train)"
   ],
   "metadata": {
    "collapsed": false,
    "pycharm": {
     "name": "#%%\n"
    }
   }
  },
  {
   "cell_type": "code",
   "execution_count": 19,
   "outputs": [
    {
     "data": {
      "text/plain": "GradientBoostingClassifier()"
     },
     "execution_count": 19,
     "metadata": {},
     "output_type": "execute_result"
    }
   ],
   "source": [
    "adaboost.fit(X_train, y_train)\n",
    "gradient.fit(X_train, y_train)"
   ],
   "metadata": {
    "collapsed": false,
    "pycharm": {
     "name": "#%%\n"
    }
   }
  },
  {
   "cell_type": "code",
   "execution_count": 27,
   "outputs": [
    {
     "name": "stdout",
     "output_type": "stream",
     "text": [
      "              precision    recall  f1-score   support\n",
      "\n",
      "           0       0.77      0.95      0.85       405\n",
      "           1       0.99      0.95      0.97      2127\n",
      "\n",
      "    accuracy                           0.95      2532\n",
      "   macro avg       0.88      0.95      0.91      2532\n",
      "weighted avg       0.95      0.95      0.95      2532\n",
      "\n"
     ]
    }
   ],
   "source": [
    "print(classification_report(y_test, grid_ada.predict(X_test)))"
   ],
   "metadata": {
    "collapsed": false,
    "pycharm": {
     "name": "#%%\n"
    }
   }
  },
  {
   "cell_type": "code",
   "execution_count": 31,
   "outputs": [
    {
     "name": "stdout",
     "output_type": "stream",
     "text": [
      "              precision    recall  f1-score   support\n",
      "\n",
      "           0       0.92      0.89      0.90       405\n",
      "           1       0.98      0.99      0.98      2127\n",
      "\n",
      "    accuracy                           0.97      2532\n",
      "   macro avg       0.95      0.94      0.94      2532\n",
      "weighted avg       0.97      0.97      0.97      2532\n",
      "\n"
     ]
    }
   ],
   "source": [
    "print(classification_report(y_test, grid_grad.predict(X_test)))"
   ],
   "metadata": {
    "collapsed": false,
    "pycharm": {
     "name": "#%%\n"
    }
   }
  },
  {
   "cell_type": "markdown",
   "source": [
    "### Градиентный бустинг показал себя лучше"
   ],
   "metadata": {
    "collapsed": false,
    "pycharm": {
     "name": "#%% md\n"
    }
   }
  },
  {
   "cell_type": "code",
   "execution_count": null,
   "outputs": [],
   "source": [],
   "metadata": {
    "collapsed": false,
    "pycharm": {
     "name": "#%%\n"
    }
   }
  }
 ],
 "metadata": {
  "kernelspec": {
   "display_name": "Python 3",
   "language": "python",
   "name": "python3"
  },
  "language_info": {
   "codemirror_mode": {
    "name": "ipython",
    "version": 2
   },
   "file_extension": ".py",
   "mimetype": "text/x-python",
   "name": "python",
   "nbconvert_exporter": "python",
   "pygments_lexer": "ipython2",
   "version": "2.7.6"
  }
 },
 "nbformat": 4,
 "nbformat_minor": 0
}