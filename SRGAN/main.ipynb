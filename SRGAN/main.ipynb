{
 "cells": [
  {
   "cell_type": "code",
   "execution_count": 20,
   "outputs": [],
   "source": [
    "import torch\n",
    "from torch import nn\n",
    "from  torch.utils.data import Dataset, DataLoader\n",
    "import os\n",
    "import albumentations as A\n",
    "from albumentations.pytorch import ToTensorV2\n",
    "import cv2\n",
    "from torchvision.models import vgg19"
   ],
   "metadata": {
    "collapsed": false,
    "pycharm": {
     "name": "#%%\n"
    }
   }
  },
  {
   "cell_type": "code",
   "execution_count": 2,
   "outputs": [],
   "source": [
    "class ResidualBlock(nn.Module):\n",
    "    def __init__(\n",
    "            self,\n",
    "            in_channels = 64,\n",
    "            out_channels = 64,\n",
    "            stride = 1,\n",
    "            kernel_size = 3,\n",
    "            padding = 1\n",
    "    ):\n",
    "        super().__init__()\n",
    "        self.conv1 = nn.Conv2d(in_channels = in_channels,\n",
    "                               out_channels = out_channels,\n",
    "                               kernel_size = kernel_size,\n",
    "                               stride = stride,\n",
    "                               padding= padding,\n",
    "                               bias=False)\n",
    "\n",
    "        self.bn1 = nn.BatchNorm2d(out_channels)\n",
    "        self.activation = nn.PReLU(num_parameters=out_channels)\n",
    "\n",
    "        self.conv2 = nn.Conv2d(in_channels = in_channels,\n",
    "                               out_channels = out_channels,\n",
    "                               kernel_size = kernel_size,\n",
    "                               stride = stride,\n",
    "                               padding= padding,\n",
    "                               bias=False)\n",
    "\n",
    "        self.bn2 = nn.BatchNorm2d(out_channels)\n",
    "\n",
    "    def forward(self, x):\n",
    "        out = self.conv1(x)\n",
    "        out = self.bn1(out)\n",
    "        out = self.activation(out)\n",
    "        out = self.conv2(out)\n",
    "        out = self.bn2(out)\n",
    "        out = out + x\n",
    "        return out\n"
   ],
   "metadata": {
    "collapsed": false,
    "pycharm": {
     "name": "#%%\n"
    }
   }
  },
  {
   "cell_type": "code",
   "execution_count": 10,
   "outputs": [],
   "source": [
    "class GeneratorUpsample(nn.Module):\n",
    "    def __init__(\n",
    "            self,\n",
    "            in_channels = 64,\n",
    "            upsample_value = 2,\n",
    "            stride = 1,\n",
    "            kernel_size = 3,\n",
    "            padding = 1\n",
    "    ):\n",
    "        super().__init__()\n",
    "        self.upsample_value = upsample_value\n",
    "        self.in_channels = in_channels\n",
    "        self.stride = stride\n",
    "        self.kernel_size = kernel_size\n",
    "        self.padding = padding\n",
    "\n",
    "        self.conv = nn.Conv2d(in_channels=self.in_channels,\n",
    "                              out_channels=self.in_channels*upsample_value*upsample_value,\n",
    "                              kernel_size=self.kernel_size,\n",
    "                              padding=self.padding,\n",
    "                              stride = self.stride)\n",
    "        self.pixel_shuffle = nn.PixelShuffle(upscale_factor=upsample_value)\n",
    "        self.activation = nn.PReLU(in_channels)\n",
    "\n",
    "    def forward(self, x):\n",
    "        x = self.conv(x)\n",
    "        x = self.pixel_shuffle(x)\n",
    "        x = self.activation(x)\n",
    "        return x"
   ],
   "metadata": {
    "collapsed": false,
    "pycharm": {
     "name": "#%%\n"
    }
   }
  },
  {
   "cell_type": "code",
   "execution_count": 35,
   "outputs": [],
   "source": [
    "class Generator(nn.Module):\n",
    "    def __init__(\n",
    "            self,\n",
    "            in_channels = 3,\n",
    "            out_channels = 3,\n",
    "            hidden_channels = 64,\n",
    "            num_res_blocks = 16\n",
    "    ):\n",
    "        super().__init__()\n",
    "\n",
    "        self.in_channels = in_channels\n",
    "        self.num_res_blocks = num_res_blocks\n",
    "        self.hidden_channels = hidden_channels\n",
    "        self.out_channels = out_channels\n",
    "\n",
    "        self.initial_conv = nn.Conv2d(\n",
    "            in_channels = self.in_channels,\n",
    "            out_channels = self.hidden_channels,\n",
    "            stride = 1,\n",
    "            kernel_size = 9,\n",
    "            padding = 4\n",
    "        )\n",
    "        self.activation = nn.PReLU(self.hidden_channels)\n",
    "        self.residual_blocks = nn.Sequential(*[ResidualBlock() for _ in range(num_res_blocks)])\n",
    "        self.middle_conv = nn.Conv2d(\n",
    "            in_channels = self.hidden_channels,\n",
    "            out_channels = self.hidden_channels,\n",
    "            stride = 1,\n",
    "            kernel_size = 3,\n",
    "            padding = 1\n",
    "        )\n",
    "        self.bn = nn.BatchNorm2d(self.hidden_channels)\n",
    "        self.final_conv = nn.Conv2d(\n",
    "            in_channels = self.hidden_channels,\n",
    "            out_channels = self.out_channels,\n",
    "            stride = 1,\n",
    "            kernel_size = 9,\n",
    "            padding = 4\n",
    "        )\n",
    "        self.up1 = GeneratorUpsample()\n",
    "        self.up2 = GeneratorUpsample()\n",
    "\n",
    "\n",
    "    def forward(self, x):\n",
    "        x = self.initial_conv(x)\n",
    "        x = self.activation(x)\n",
    "        out = self.residual_blocks(x)\n",
    "        out = self.middle_conv(out)\n",
    "        out = self.bn(out)\n",
    "        out = out + x\n",
    "        out = self.up1(out)\n",
    "        out = self.up2(out)\n",
    "        out = self.final_conv(out)\n",
    "        return out"
   ],
   "metadata": {
    "collapsed": false,
    "pycharm": {
     "name": "#%%\n"
    }
   }
  },
  {
   "cell_type": "code",
   "execution_count": 38,
   "outputs": [],
   "source": [
    "class ConvBlock(nn.Module):\n",
    "    def __init__(\n",
    "            self,\n",
    "            in_channels,\n",
    "            out_channels,\n",
    "            stride,\n",
    "            kernel_size=3,\n",
    "            padding=1\n",
    "    ):\n",
    "        super().__init__()\n",
    "        self.net = nn.Sequential(\n",
    "            nn.Conv2d(\n",
    "                in_channels = in_channels,\n",
    "                out_channels = out_channels,\n",
    "                stride = stride,\n",
    "                kernel_size = kernel_size,\n",
    "                padding = padding\n",
    "            ),\n",
    "            nn.BatchNorm2d(out_channels),\n",
    "            nn.LeakyReLU(0.2)\n",
    "        )\n",
    "    def forward(self, x):\n",
    "        return self.net(x)"
   ],
   "metadata": {
    "collapsed": false,
    "pycharm": {
     "name": "#%%\n"
    }
   }
  },
  {
   "cell_type": "code",
   "execution_count": 48,
   "outputs": [],
   "source": [
    "class Discriminator(nn.Module):\n",
    "    def __init__(\n",
    "            self,\n",
    "            in_channels = 3\n",
    "    ):\n",
    "        super().__init__()\n",
    "        self.in_channels = in_channels\n",
    "        self.net = nn.Sequential(\n",
    "            nn.Conv2d(in_channels=self.in_channels, out_channels=64, kernel_size=3, stride=1, padding=1),\n",
    "            nn.LeakyReLU(0.2),\n",
    "            ConvBlock(in_channels=64, out_channels=64, stride=2),\n",
    "            ConvBlock(in_channels=64, out_channels=128, stride=1),\n",
    "            ConvBlock(in_channels=128, out_channels=128, stride=2),\n",
    "            ConvBlock(in_channels=128, out_channels=256, stride=1),\n",
    "            ConvBlock(in_channels=256, out_channels=256, stride=2),\n",
    "            ConvBlock(in_channels=256, out_channels=512, stride=1),\n",
    "            ConvBlock(in_channels=512, out_channels=512, stride=2),\n",
    "            nn.Flatten(),\n",
    "            nn.Linear(in_features=18432, out_features=1024),\n",
    "            nn.LeakyReLU(0.2),\n",
    "            nn.Linear(1024, 1),\n",
    "            nn.Sigmoid()\n",
    "        )\n",
    "    def forward(self, x):\n",
    "        return self.net(x)"
   ],
   "metadata": {
    "collapsed": false,
    "pycharm": {
     "name": "#%%\n"
    }
   }
  },
  {
   "cell_type": "code",
   "execution_count": 14,
   "outputs": [],
   "source": [
    "class MyDataset(Dataset):\n",
    "    def __init__(\n",
    "            self,\n",
    "            folder_path,\n",
    "            train = True,\n",
    "            hr_res = 96\n",
    "    ):\n",
    "        super().__init__()\n",
    "        image_names = os.listdir(path=folder_path)\n",
    "        self.image_paths = [os.path.join(folder_path, x) for x in image_names]\n",
    "        self.hr_res = hr_res\n",
    "        self.lr_res = hr_res//4\n",
    "        self.initial_transform = A.Compose(\n",
    "            [\n",
    "                A.RandomCrop(self.hr_res, self.hr_res),\n",
    "                A.HorizontalFlip(p=0.5) if train else None,\n",
    "                A.RandomRotate90(p=0.5) if train else None\n",
    "            ]\n",
    "        )\n",
    "        self.hr_transform = A.Compose(\n",
    "            [\n",
    "                A.Normalize(mean=(0, 0, 0), std=(1, 1, 1)),\n",
    "                ToTensorV2()\n",
    "            ]\n",
    "        )\n",
    "        self.lr_transform = A.Compose(\n",
    "            [\n",
    "                A.Resize(self.lr_res, self.lr_res),\n",
    "                A.Normalize(mean=(0.5, 0.5, 0.5), std=(0.5, 0.5, 0.5)),\n",
    "                ToTensorV2()\n",
    "            ]\n",
    "        )\n",
    "\n",
    "    def __len__(self):\n",
    "        return len(self.image_paths)\n",
    "\n",
    "    def __getitem__(self, item):\n",
    "        image = cv2.imread(self.image_paths[item])\n",
    "        image = cv2.cvtColor(image, cv2.COLOR_BGR2RGB)\n",
    "        image = self.initial_transform(image=image)['image']\n",
    "        hr_image = self.hr_transform(image=image)['image']\n",
    "        lr_image = self.lr_transform(image=image)['image']\n",
    "        return hr_image, lr_image"
   ],
   "metadata": {
    "collapsed": false,
    "pycharm": {
     "name": "#%%\n"
    }
   }
  },
  {
   "cell_type": "code",
   "execution_count": 15,
   "outputs": [],
   "source": [
    "dataset = MyDataset('finished/train/dataraw/hires')"
   ],
   "metadata": {
    "collapsed": false,
    "pycharm": {
     "name": "#%%\n"
    }
   }
  },
  {
   "cell_type": "code",
   "execution_count": 19,
   "outputs": [
    {
     "data": {
      "text/plain": "torch.Size([3, 24, 24])"
     },
     "execution_count": 19,
     "metadata": {},
     "output_type": "execute_result"
    }
   ],
   "source": [
    "next(iter(dataset))[1].shape"
   ],
   "metadata": {
    "collapsed": false,
    "pycharm": {
     "name": "#%%\n"
    }
   }
  },
  {
   "cell_type": "code",
   "execution_count": 22,
   "outputs": [],
   "source": [
    "check = vgg19()"
   ],
   "metadata": {
    "collapsed": false,
    "pycharm": {
     "name": "#%%\n"
    }
   }
  },
  {
   "cell_type": "code",
   "execution_count": 23,
   "outputs": [
    {
     "data": {
      "text/plain": "VGG(\n  (features): Sequential(\n    (0): Conv2d(3, 64, kernel_size=(3, 3), stride=(1, 1), padding=(1, 1))\n    (1): ReLU(inplace=True)\n    (2): Conv2d(64, 64, kernel_size=(3, 3), stride=(1, 1), padding=(1, 1))\n    (3): ReLU(inplace=True)\n    (4): MaxPool2d(kernel_size=2, stride=2, padding=0, dilation=1, ceil_mode=False)\n    (5): Conv2d(64, 128, kernel_size=(3, 3), stride=(1, 1), padding=(1, 1))\n    (6): ReLU(inplace=True)\n    (7): Conv2d(128, 128, kernel_size=(3, 3), stride=(1, 1), padding=(1, 1))\n    (8): ReLU(inplace=True)\n    (9): MaxPool2d(kernel_size=2, stride=2, padding=0, dilation=1, ceil_mode=False)\n    (10): Conv2d(128, 256, kernel_size=(3, 3), stride=(1, 1), padding=(1, 1))\n    (11): ReLU(inplace=True)\n    (12): Conv2d(256, 256, kernel_size=(3, 3), stride=(1, 1), padding=(1, 1))\n    (13): ReLU(inplace=True)\n    (14): Conv2d(256, 256, kernel_size=(3, 3), stride=(1, 1), padding=(1, 1))\n    (15): ReLU(inplace=True)\n    (16): Conv2d(256, 256, kernel_size=(3, 3), stride=(1, 1), padding=(1, 1))\n    (17): ReLU(inplace=True)\n    (18): MaxPool2d(kernel_size=2, stride=2, padding=0, dilation=1, ceil_mode=False)\n    (19): Conv2d(256, 512, kernel_size=(3, 3), stride=(1, 1), padding=(1, 1))\n    (20): ReLU(inplace=True)\n    (21): Conv2d(512, 512, kernel_size=(3, 3), stride=(1, 1), padding=(1, 1))\n    (22): ReLU(inplace=True)\n    (23): Conv2d(512, 512, kernel_size=(3, 3), stride=(1, 1), padding=(1, 1))\n    (24): ReLU(inplace=True)\n    (25): Conv2d(512, 512, kernel_size=(3, 3), stride=(1, 1), padding=(1, 1))\n    (26): ReLU(inplace=True)\n    (27): MaxPool2d(kernel_size=2, stride=2, padding=0, dilation=1, ceil_mode=False)\n    (28): Conv2d(512, 512, kernel_size=(3, 3), stride=(1, 1), padding=(1, 1))\n    (29): ReLU(inplace=True)\n    (30): Conv2d(512, 512, kernel_size=(3, 3), stride=(1, 1), padding=(1, 1))\n    (31): ReLU(inplace=True)\n    (32): Conv2d(512, 512, kernel_size=(3, 3), stride=(1, 1), padding=(1, 1))\n    (33): ReLU(inplace=True)\n    (34): Conv2d(512, 512, kernel_size=(3, 3), stride=(1, 1), padding=(1, 1))\n    (35): ReLU(inplace=True)\n    (36): MaxPool2d(kernel_size=2, stride=2, padding=0, dilation=1, ceil_mode=False)\n  )\n  (avgpool): AdaptiveAvgPool2d(output_size=(7, 7))\n  (classifier): Sequential(\n    (0): Linear(in_features=25088, out_features=4096, bias=True)\n    (1): ReLU(inplace=True)\n    (2): Dropout(p=0.5, inplace=False)\n    (3): Linear(in_features=4096, out_features=4096, bias=True)\n    (4): ReLU(inplace=True)\n    (5): Dropout(p=0.5, inplace=False)\n    (6): Linear(in_features=4096, out_features=1000, bias=True)\n  )\n)"
     },
     "execution_count": 23,
     "metadata": {},
     "output_type": "execute_result"
    }
   ],
   "source": [
    "check"
   ],
   "metadata": {
    "collapsed": false,
    "pycharm": {
     "name": "#%%\n"
    }
   }
  },
  {
   "cell_type": "code",
   "execution_count": null,
   "outputs": [],
   "source": [],
   "metadata": {
    "collapsed": false,
    "pycharm": {
     "name": "#%%\n"
    }
   }
  },
  {
   "cell_type": "code",
   "execution_count": 6,
   "outputs": [
    {
     "data": {
      "text/plain": "'finished/train/dataraw/hires\\\\dt_train_1.jpg'"
     },
     "execution_count": 6,
     "metadata": {},
     "output_type": "execute_result"
    }
   ],
   "source": [
    "os.path.join('finished/train/dataraw/hires', os.listdir('finished/train/dataraw/hires')[0])"
   ],
   "metadata": {
    "collapsed": false,
    "pycharm": {
     "name": "#%%\n"
    }
   }
  },
  {
   "cell_type": "code",
   "execution_count": 4,
   "outputs": [
    {
     "data": {
      "text/plain": "['dt_train_1.jpg',\n 'dt_train_10.jpg',\n 'dt_train_100.jpg',\n 'dt_train_1000.jpg',\n 'dt_train_1001.jpg',\n 'dt_train_1002.jpg',\n 'dt_train_1003.jpg',\n 'dt_train_1004.jpg',\n 'dt_train_1005.jpg',\n 'dt_train_1006.jpg',\n 'dt_train_1007.jpg',\n 'dt_train_1008.jpg',\n 'dt_train_1009.jpg',\n 'dt_train_101.jpg',\n 'dt_train_1010.jpg',\n 'dt_train_1011.jpg',\n 'dt_train_1012.jpg',\n 'dt_train_1013.jpg',\n 'dt_train_1014.jpg',\n 'dt_train_1015.jpg',\n 'dt_train_1016.jpg',\n 'dt_train_1017.jpg',\n 'dt_train_1018.jpg',\n 'dt_train_1019.jpg',\n 'dt_train_102.jpg',\n 'dt_train_1020.jpg',\n 'dt_train_1021.jpg',\n 'dt_train_1022.jpg',\n 'dt_train_1023.jpg',\n 'dt_train_1024.jpg',\n 'dt_train_1025.jpg',\n 'dt_train_1026.jpg',\n 'dt_train_1027.jpg',\n 'dt_train_1028.jpg',\n 'dt_train_1029.jpg',\n 'dt_train_103.jpg',\n 'dt_train_1030.jpg',\n 'dt_train_1031.jpg',\n 'dt_train_1032.jpg',\n 'dt_train_1033.jpg',\n 'dt_train_1034.jpg',\n 'dt_train_1035.jpg',\n 'dt_train_1036.jpg',\n 'dt_train_1037.jpg',\n 'dt_train_1038.jpg',\n 'dt_train_1039.jpg',\n 'dt_train_104.jpg',\n 'dt_train_1040.jpg',\n 'dt_train_1041.jpg',\n 'dt_train_1042.jpg',\n 'dt_train_1043.jpg',\n 'dt_train_1044.jpg',\n 'dt_train_1045.jpg',\n 'dt_train_1046.jpg',\n 'dt_train_1047.jpg',\n 'dt_train_1048.jpg',\n 'dt_train_1049.jpg',\n 'dt_train_105.jpg',\n 'dt_train_1050.jpg',\n 'dt_train_1051.jpg',\n 'dt_train_1052.jpg',\n 'dt_train_1053.jpg',\n 'dt_train_1054.jpg',\n 'dt_train_1055.jpg',\n 'dt_train_1056.jpg',\n 'dt_train_1057.jpg',\n 'dt_train_1058.jpg',\n 'dt_train_1059.jpg',\n 'dt_train_106.jpg',\n 'dt_train_1060.jpg',\n 'dt_train_1061.jpg',\n 'dt_train_1062.jpg',\n 'dt_train_1063.jpg',\n 'dt_train_1064.jpg',\n 'dt_train_1065.jpg',\n 'dt_train_1066.jpg',\n 'dt_train_1067.jpg',\n 'dt_train_1068.jpg',\n 'dt_train_1069.jpg',\n 'dt_train_107.jpg',\n 'dt_train_1070.jpg',\n 'dt_train_1071.jpg',\n 'dt_train_1072.jpg',\n 'dt_train_1073.jpg',\n 'dt_train_1074.jpg',\n 'dt_train_1075.jpg',\n 'dt_train_1076.jpg',\n 'dt_train_1077.jpg',\n 'dt_train_1078.jpg',\n 'dt_train_1079.jpg',\n 'dt_train_108.jpg',\n 'dt_train_1080.jpg',\n 'dt_train_1081.jpg',\n 'dt_train_1082.jpg',\n 'dt_train_1083.jpg',\n 'dt_train_1084.jpg',\n 'dt_train_1085.jpg',\n 'dt_train_1086.jpg',\n 'dt_train_1087.jpg',\n 'dt_train_1088.jpg',\n 'dt_train_1089.jpg',\n 'dt_train_109.jpg',\n 'dt_train_1090.jpg',\n 'dt_train_1091.jpg',\n 'dt_train_1092.jpg',\n 'dt_train_1093.jpg',\n 'dt_train_1094.jpg',\n 'dt_train_1095.jpg',\n 'dt_train_1096.jpg',\n 'dt_train_1097.jpg',\n 'dt_train_1098.jpg',\n 'dt_train_1099.jpg',\n 'dt_train_11.jpg',\n 'dt_train_110.jpg',\n 'dt_train_1100.jpg',\n 'dt_train_1101.jpg',\n 'dt_train_1102.jpg',\n 'dt_train_1103.jpg',\n 'dt_train_1104.jpg',\n 'dt_train_1105.jpg',\n 'dt_train_1106.jpg',\n 'dt_train_1107.jpg',\n 'dt_train_1108.jpg',\n 'dt_train_1109.jpg',\n 'dt_train_111.jpg',\n 'dt_train_1110.jpg',\n 'dt_train_1111.jpg',\n 'dt_train_1112.jpg',\n 'dt_train_1113.jpg',\n 'dt_train_1114.jpg',\n 'dt_train_1115.jpg',\n 'dt_train_1116.jpg',\n 'dt_train_1117.jpg',\n 'dt_train_1118.jpg',\n 'dt_train_1119.jpg',\n 'dt_train_112.jpg',\n 'dt_train_1120.jpg',\n 'dt_train_1121.jpg',\n 'dt_train_1122.jpg',\n 'dt_train_1123.jpg',\n 'dt_train_1124.jpg',\n 'dt_train_1125.jpg',\n 'dt_train_1126.jpg',\n 'dt_train_1127.jpg',\n 'dt_train_1128.jpg',\n 'dt_train_1129.jpg',\n 'dt_train_113.jpg',\n 'dt_train_1130.jpg',\n 'dt_train_1131.jpg',\n 'dt_train_1132.jpg',\n 'dt_train_1133.jpg',\n 'dt_train_1134.jpg',\n 'dt_train_1135.jpg',\n 'dt_train_1136.jpg',\n 'dt_train_1137.jpg',\n 'dt_train_1138.jpg',\n 'dt_train_1139.jpg',\n 'dt_train_114.jpg',\n 'dt_train_1140.jpg',\n 'dt_train_1141.jpg',\n 'dt_train_1142.jpg',\n 'dt_train_1143.jpg',\n 'dt_train_1144.jpg',\n 'dt_train_1145.jpg',\n 'dt_train_1146.jpg',\n 'dt_train_1147.jpg',\n 'dt_train_1148.jpg',\n 'dt_train_1149.jpg',\n 'dt_train_115.jpg',\n 'dt_train_1150.jpg',\n 'dt_train_1151.jpg',\n 'dt_train_1152.jpg',\n 'dt_train_1153.jpg',\n 'dt_train_1154.jpg',\n 'dt_train_1155.jpg',\n 'dt_train_1156.jpg',\n 'dt_train_1157.jpg',\n 'dt_train_1158.jpg',\n 'dt_train_1159.jpg',\n 'dt_train_116.jpg',\n 'dt_train_1160.jpg',\n 'dt_train_1161.jpg',\n 'dt_train_1162.jpg',\n 'dt_train_1163.jpg',\n 'dt_train_1164.jpg',\n 'dt_train_1165.jpg',\n 'dt_train_1166.jpg',\n 'dt_train_1167.jpg',\n 'dt_train_1168.jpg',\n 'dt_train_1169.jpg',\n 'dt_train_117.jpg',\n 'dt_train_1170.jpg',\n 'dt_train_1171.jpg',\n 'dt_train_1172.jpg',\n 'dt_train_1173.jpg',\n 'dt_train_1174.jpg',\n 'dt_train_1175.jpg',\n 'dt_train_1176.jpg',\n 'dt_train_1177.jpg',\n 'dt_train_1178.jpg',\n 'dt_train_1179.jpg',\n 'dt_train_118.jpg',\n 'dt_train_1180.jpg',\n 'dt_train_1181.jpg',\n 'dt_train_1182.jpg',\n 'dt_train_1183.jpg',\n 'dt_train_1184.jpg',\n 'dt_train_1185.jpg',\n 'dt_train_1186.jpg',\n 'dt_train_1187.jpg',\n 'dt_train_1188.jpg',\n 'dt_train_1189.jpg',\n 'dt_train_119.jpg',\n 'dt_train_1190.jpg',\n 'dt_train_1191.jpg',\n 'dt_train_1192.jpg',\n 'dt_train_1193.jpg',\n 'dt_train_1194.jpg',\n 'dt_train_1195.jpg',\n 'dt_train_1196.jpg',\n 'dt_train_1197.jpg',\n 'dt_train_1198.jpg',\n 'dt_train_1199.jpg',\n 'dt_train_12.jpg',\n 'dt_train_120.jpg',\n 'dt_train_1200.jpg',\n 'dt_train_1201.jpg',\n 'dt_train_1202.jpg',\n 'dt_train_1203.jpg',\n 'dt_train_1204.jpg',\n 'dt_train_1205.jpg',\n 'dt_train_1206.jpg',\n 'dt_train_1207.jpg',\n 'dt_train_1208.jpg',\n 'dt_train_1209.jpg',\n 'dt_train_121.jpg',\n 'dt_train_1210.jpg',\n 'dt_train_1211.jpg',\n 'dt_train_1212.jpg',\n 'dt_train_1213.jpg',\n 'dt_train_1214.jpg',\n 'dt_train_1215.jpg',\n 'dt_train_1216.jpg',\n 'dt_train_1217.jpg',\n 'dt_train_1218.jpg',\n 'dt_train_1219.jpg',\n 'dt_train_122.jpg',\n 'dt_train_1220.jpg',\n 'dt_train_1221.jpg',\n 'dt_train_1222.jpg',\n 'dt_train_1223.jpg',\n 'dt_train_1224.jpg',\n 'dt_train_1225.jpg',\n 'dt_train_1226.jpg',\n 'dt_train_1227.jpg',\n 'dt_train_1228.jpg',\n 'dt_train_1229.jpg',\n 'dt_train_123.jpg',\n 'dt_train_1230.jpg',\n 'dt_train_1231.jpg',\n 'dt_train_1232.jpg',\n 'dt_train_1233.jpg',\n 'dt_train_1234.jpg',\n 'dt_train_1235.jpg',\n 'dt_train_1236.jpg',\n 'dt_train_1237.jpg',\n 'dt_train_1238.jpg',\n 'dt_train_1239.jpg',\n 'dt_train_124.jpg',\n 'dt_train_1240.jpg',\n 'dt_train_1241.jpg',\n 'dt_train_1242.jpg',\n 'dt_train_1243.jpg',\n 'dt_train_1244.jpg',\n 'dt_train_1245.jpg',\n 'dt_train_1246.jpg',\n 'dt_train_1247.jpg',\n 'dt_train_1248.jpg',\n 'dt_train_1249.jpg',\n 'dt_train_125.jpg',\n 'dt_train_1250.jpg',\n 'dt_train_1251.jpg',\n 'dt_train_1252.jpg',\n 'dt_train_1253.jpg',\n 'dt_train_1254.jpg',\n 'dt_train_1255.jpg',\n 'dt_train_1256.jpg',\n 'dt_train_1257.jpg',\n 'dt_train_1258.jpg',\n 'dt_train_1259.jpg',\n 'dt_train_126.jpg',\n 'dt_train_1260.jpg',\n 'dt_train_1261.jpg',\n 'dt_train_1262.jpg',\n 'dt_train_1263.jpg',\n 'dt_train_1264.jpg',\n 'dt_train_1265.jpg',\n 'dt_train_1266.jpg',\n 'dt_train_1267.jpg',\n 'dt_train_1268.jpg',\n 'dt_train_1269.jpg',\n 'dt_train_127.jpg',\n 'dt_train_1270.jpg',\n 'dt_train_1271.jpg',\n 'dt_train_1272.jpg',\n 'dt_train_1273.jpg',\n 'dt_train_1274.jpg',\n 'dt_train_1275.jpg',\n 'dt_train_1276.jpg',\n 'dt_train_1277.jpg',\n 'dt_train_1278.jpg',\n 'dt_train_1279.jpg',\n 'dt_train_128.jpg',\n 'dt_train_1280.jpg',\n 'dt_train_1281.jpg',\n 'dt_train_1282.jpg',\n 'dt_train_1283.jpg',\n 'dt_train_1284.jpg',\n 'dt_train_1285.jpg',\n 'dt_train_1286.jpg',\n 'dt_train_1287.jpg',\n 'dt_train_1288.jpg',\n 'dt_train_1289.jpg',\n 'dt_train_129.jpg',\n 'dt_train_1290.jpg',\n 'dt_train_1291.jpg',\n 'dt_train_1292.jpg',\n 'dt_train_1293.jpg',\n 'dt_train_1294.jpg',\n 'dt_train_1295.jpg',\n 'dt_train_1296.jpg',\n 'dt_train_1297.jpg',\n 'dt_train_1298.jpg',\n 'dt_train_1299.jpg',\n 'dt_train_13.jpg',\n 'dt_train_130.jpg',\n 'dt_train_1300.jpg',\n 'dt_train_1301.jpg',\n 'dt_train_1302.jpg',\n 'dt_train_1303.jpg',\n 'dt_train_1304.jpg',\n 'dt_train_1305.jpg',\n 'dt_train_1306.jpg',\n 'dt_train_1307.jpg',\n 'dt_train_1308.jpg',\n 'dt_train_1309.jpg',\n 'dt_train_131.jpg',\n 'dt_train_1310.jpg',\n 'dt_train_1311.jpg',\n 'dt_train_1312.jpg',\n 'dt_train_1313.jpg',\n 'dt_train_1314.jpg',\n 'dt_train_1315.jpg',\n 'dt_train_1316.jpg',\n 'dt_train_1317.jpg',\n 'dt_train_1318.jpg',\n 'dt_train_1319.jpg',\n 'dt_train_132.jpg',\n 'dt_train_1320.jpg',\n 'dt_train_1321.jpg',\n 'dt_train_1322.jpg',\n 'dt_train_1323.jpg',\n 'dt_train_1324.jpg',\n 'dt_train_1325.jpg',\n 'dt_train_1326.jpg',\n 'dt_train_1327.jpg',\n 'dt_train_1328.jpg',\n 'dt_train_1329.jpg',\n 'dt_train_133.jpg',\n 'dt_train_1330.jpg',\n 'dt_train_1331.jpg',\n 'dt_train_1332.jpg',\n 'dt_train_1333.jpg',\n 'dt_train_1334.jpg',\n 'dt_train_1335.jpg',\n 'dt_train_1336.jpg',\n 'dt_train_1337.jpg',\n 'dt_train_1338.jpg',\n 'dt_train_1339.jpg',\n 'dt_train_134.jpg',\n 'dt_train_1340.jpg',\n 'dt_train_1341.jpg',\n 'dt_train_1342.jpg',\n 'dt_train_1343.jpg',\n 'dt_train_1344.jpg',\n 'dt_train_1345.jpg',\n 'dt_train_1346.jpg',\n 'dt_train_1347.jpg',\n 'dt_train_1348.jpg',\n 'dt_train_1349.jpg',\n 'dt_train_135.jpg',\n 'dt_train_1350.jpg',\n 'dt_train_1351.jpg',\n 'dt_train_1352.jpg',\n 'dt_train_1353.jpg',\n 'dt_train_1354.jpg',\n 'dt_train_1355.jpg',\n 'dt_train_1356.jpg',\n 'dt_train_1357.jpg',\n 'dt_train_1358.jpg',\n 'dt_train_1359.jpg',\n 'dt_train_136.jpg',\n 'dt_train_1360.jpg',\n 'dt_train_1361.jpg',\n 'dt_train_1362.jpg',\n 'dt_train_1363.jpg',\n 'dt_train_1364.jpg',\n 'dt_train_1365.jpg',\n 'dt_train_1366.jpg',\n 'dt_train_1367.jpg',\n 'dt_train_1368.jpg',\n 'dt_train_1369.jpg',\n 'dt_train_137.jpg',\n 'dt_train_1370.jpg',\n 'dt_train_1371.jpg',\n 'dt_train_1372.jpg',\n 'dt_train_1373.jpg',\n 'dt_train_1374.jpg',\n 'dt_train_1375.jpg',\n 'dt_train_1376.jpg',\n 'dt_train_1377.jpg',\n 'dt_train_1378.jpg',\n 'dt_train_1379.jpg',\n 'dt_train_138.jpg',\n 'dt_train_1380.jpg',\n 'dt_train_1381.jpg',\n 'dt_train_1382.jpg',\n 'dt_train_1383.jpg',\n 'dt_train_1384.jpg',\n 'dt_train_1385.jpg',\n 'dt_train_1386.jpg',\n 'dt_train_1387.jpg',\n 'dt_train_1388.jpg',\n 'dt_train_1389.jpg',\n 'dt_train_139.jpg',\n 'dt_train_1390.jpg',\n 'dt_train_1391.jpg',\n 'dt_train_1392.jpg',\n 'dt_train_1393.jpg',\n 'dt_train_1394.jpg',\n 'dt_train_1395.jpg',\n 'dt_train_1396.jpg',\n 'dt_train_1397.jpg',\n 'dt_train_1398.jpg',\n 'dt_train_1399.jpg',\n 'dt_train_14.jpg',\n 'dt_train_140.jpg',\n 'dt_train_1400.jpg',\n 'dt_train_1401.jpg',\n 'dt_train_1402.jpg',\n 'dt_train_1403.jpg',\n 'dt_train_1404.jpg',\n 'dt_train_1405.jpg',\n 'dt_train_1406.jpg',\n 'dt_train_1407.jpg',\n 'dt_train_1408.jpg',\n 'dt_train_1409.jpg',\n 'dt_train_141.jpg',\n 'dt_train_1410.jpg',\n 'dt_train_1411.jpg',\n 'dt_train_1412.jpg',\n 'dt_train_1413.jpg',\n 'dt_train_1414.jpg',\n 'dt_train_1415.jpg',\n 'dt_train_1416.jpg',\n 'dt_train_1417.jpg',\n 'dt_train_1418.jpg',\n 'dt_train_1419.jpg',\n 'dt_train_142.jpg',\n 'dt_train_1420.jpg',\n 'dt_train_1421.jpg',\n 'dt_train_1422.jpg',\n 'dt_train_1423.jpg',\n 'dt_train_1424.jpg',\n 'dt_train_1425.jpg',\n 'dt_train_1426.jpg',\n 'dt_train_1427.jpg',\n 'dt_train_1428.jpg',\n 'dt_train_1429.jpg',\n 'dt_train_143.jpg',\n 'dt_train_1430.jpg',\n 'dt_train_1431.jpg',\n 'dt_train_1432.jpg',\n 'dt_train_1433.jpg',\n 'dt_train_1434.jpg',\n 'dt_train_1435.jpg',\n 'dt_train_1436.jpg',\n 'dt_train_1437.jpg',\n 'dt_train_1438.jpg',\n 'dt_train_1439.jpg',\n 'dt_train_144.jpg',\n 'dt_train_1440.jpg',\n 'dt_train_1441.jpg',\n 'dt_train_1442.jpg',\n 'dt_train_1443.jpg',\n 'dt_train_1444.jpg',\n 'dt_train_1445.jpg',\n 'dt_train_1446.jpg',\n 'dt_train_1447.jpg',\n 'dt_train_1448.jpg',\n 'dt_train_1449.jpg',\n 'dt_train_145.jpg',\n 'dt_train_1450.jpg',\n 'dt_train_1451.jpg',\n 'dt_train_1452.jpg',\n 'dt_train_1453.jpg',\n 'dt_train_1454.jpg',\n 'dt_train_1455.jpg',\n 'dt_train_1456.jpg',\n 'dt_train_1457.jpg',\n 'dt_train_1458.jpg',\n 'dt_train_1459.jpg',\n 'dt_train_146.jpg',\n 'dt_train_1460.jpg',\n 'dt_train_1461.jpg',\n 'dt_train_1462.jpg',\n 'dt_train_1463.jpg',\n 'dt_train_1464.jpg',\n 'dt_train_1465.jpg',\n 'dt_train_1466.jpg',\n 'dt_train_1467.jpg',\n 'dt_train_1468.jpg',\n 'dt_train_1469.jpg',\n 'dt_train_147.jpg',\n 'dt_train_1470.jpg',\n 'dt_train_1471.jpg',\n 'dt_train_1472.jpg',\n 'dt_train_1473.jpg',\n 'dt_train_1474.jpg',\n 'dt_train_1475.jpg',\n 'dt_train_1476.jpg',\n 'dt_train_1477.jpg',\n 'dt_train_1478.jpg',\n 'dt_train_1479.jpg',\n 'dt_train_148.jpg',\n 'dt_train_1480.jpg',\n 'dt_train_1481.jpg',\n 'dt_train_1482.jpg',\n 'dt_train_1483.jpg',\n 'dt_train_1484.jpg',\n 'dt_train_1485.jpg',\n 'dt_train_1486.jpg',\n 'dt_train_1487.jpg',\n 'dt_train_1488.jpg',\n 'dt_train_1489.jpg',\n 'dt_train_149.jpg',\n 'dt_train_1490.jpg',\n 'dt_train_1491.jpg',\n 'dt_train_1492.jpg',\n 'dt_train_1493.jpg',\n 'dt_train_1494.jpg',\n 'dt_train_1495.jpg',\n 'dt_train_1496.jpg',\n 'dt_train_1497.jpg',\n 'dt_train_1498.jpg',\n 'dt_train_1499.jpg',\n 'dt_train_15.jpg',\n 'dt_train_150.jpg',\n 'dt_train_1500.jpg',\n 'dt_train_1501.jpg',\n 'dt_train_1502.jpg',\n 'dt_train_1503.jpg',\n 'dt_train_1504.jpg',\n 'dt_train_1505.jpg',\n 'dt_train_1506.jpg',\n 'dt_train_1507.jpg',\n 'dt_train_1508.jpg',\n 'dt_train_1509.jpg',\n 'dt_train_151.jpg',\n 'dt_train_1510.jpg',\n 'dt_train_1511.jpg',\n 'dt_train_1512.jpg',\n 'dt_train_1513.jpg',\n 'dt_train_1514.jpg',\n 'dt_train_1515.jpg',\n 'dt_train_1516.jpg',\n 'dt_train_1517.jpg',\n 'dt_train_1518.jpg',\n 'dt_train_1519.jpg',\n 'dt_train_152.jpg',\n 'dt_train_1520.jpg',\n 'dt_train_1521.jpg',\n 'dt_train_1522.jpg',\n 'dt_train_1523.jpg',\n 'dt_train_1524.jpg',\n 'dt_train_1525.jpg',\n 'dt_train_1526.jpg',\n 'dt_train_1527.jpg',\n 'dt_train_1528.jpg',\n 'dt_train_1529.jpg',\n 'dt_train_153.jpg',\n 'dt_train_1530.jpg',\n 'dt_train_1531.jpg',\n 'dt_train_1532.jpg',\n 'dt_train_1533.jpg',\n 'dt_train_1534.jpg',\n 'dt_train_1535.jpg',\n 'dt_train_1536.jpg',\n 'dt_train_1537.jpg',\n 'dt_train_1538.jpg',\n 'dt_train_1539.jpg',\n 'dt_train_154.jpg',\n 'dt_train_1540.jpg',\n 'dt_train_1541.jpg',\n 'dt_train_1542.jpg',\n 'dt_train_1543.jpg',\n 'dt_train_1544.jpg',\n 'dt_train_1545.jpg',\n 'dt_train_1546.jpg',\n 'dt_train_1547.jpg',\n 'dt_train_1548.jpg',\n 'dt_train_1549.jpg',\n 'dt_train_155.jpg',\n 'dt_train_1550.jpg',\n 'dt_train_1551.jpg',\n 'dt_train_1552.jpg',\n 'dt_train_1553.jpg',\n 'dt_train_1554.jpg',\n 'dt_train_1555.jpg',\n 'dt_train_1556.jpg',\n 'dt_train_1557.jpg',\n 'dt_train_1558.jpg',\n 'dt_train_1559.jpg',\n 'dt_train_156.jpg',\n 'dt_train_1560.jpg',\n 'dt_train_1561.jpg',\n 'dt_train_1562.jpg',\n 'dt_train_1563.jpg',\n 'dt_train_1564.jpg',\n 'dt_train_1565.jpg',\n 'dt_train_1566.jpg',\n 'dt_train_1567.jpg',\n 'dt_train_1568.jpg',\n 'dt_train_1569.jpg',\n 'dt_train_157.jpg',\n 'dt_train_1570.jpg',\n 'dt_train_1571.jpg',\n 'dt_train_1572.jpg',\n 'dt_train_1573.jpg',\n 'dt_train_1574.jpg',\n 'dt_train_1575.jpg',\n 'dt_train_1576.jpg',\n 'dt_train_1577.jpg',\n 'dt_train_1578.jpg',\n 'dt_train_1579.jpg',\n 'dt_train_158.jpg',\n 'dt_train_1580.jpg',\n 'dt_train_1581.jpg',\n 'dt_train_1582.jpg',\n 'dt_train_1583.jpg',\n 'dt_train_1584.jpg',\n 'dt_train_1585.jpg',\n 'dt_train_1586.jpg',\n 'dt_train_1587.jpg',\n 'dt_train_1588.jpg',\n 'dt_train_1589.jpg',\n 'dt_train_159.jpg',\n 'dt_train_1590.jpg',\n 'dt_train_1591.jpg',\n 'dt_train_1592.jpg',\n 'dt_train_1593.jpg',\n 'dt_train_1594.jpg',\n 'dt_train_1595.jpg',\n 'dt_train_1596.jpg',\n 'dt_train_1597.jpg',\n 'dt_train_1598.jpg',\n 'dt_train_1599.jpg',\n 'dt_train_16.jpg',\n 'dt_train_160.jpg',\n 'dt_train_1600.jpg',\n 'dt_train_1601.jpg',\n 'dt_train_1602.jpg',\n 'dt_train_1603.jpg',\n 'dt_train_1604.jpg',\n 'dt_train_1605.jpg',\n 'dt_train_1606.jpg',\n 'dt_train_1607.jpg',\n 'dt_train_1608.jpg',\n 'dt_train_1609.jpg',\n 'dt_train_161.jpg',\n 'dt_train_1610.jpg',\n 'dt_train_1611.jpg',\n 'dt_train_1612.jpg',\n 'dt_train_1613.jpg',\n 'dt_train_1614.jpg',\n 'dt_train_1615.jpg',\n 'dt_train_1616.jpg',\n 'dt_train_1617.jpg',\n 'dt_train_1618.jpg',\n 'dt_train_1619.jpg',\n 'dt_train_162.jpg',\n 'dt_train_1620.jpg',\n 'dt_train_1621.jpg',\n 'dt_train_1622.jpg',\n 'dt_train_1623.jpg',\n 'dt_train_1624.jpg',\n 'dt_train_1625.jpg',\n 'dt_train_1626.jpg',\n 'dt_train_1627.jpg',\n 'dt_train_1628.jpg',\n 'dt_train_1629.jpg',\n 'dt_train_163.jpg',\n 'dt_train_1630.jpg',\n 'dt_train_1631.jpg',\n 'dt_train_1632.jpg',\n 'dt_train_1633.jpg',\n 'dt_train_1634.jpg',\n 'dt_train_1635.jpg',\n 'dt_train_1636.jpg',\n 'dt_train_1637.jpg',\n 'dt_train_1638.jpg',\n 'dt_train_1639.jpg',\n 'dt_train_164.jpg',\n 'dt_train_1640.jpg',\n 'dt_train_1641.jpg',\n 'dt_train_1642.jpg',\n 'dt_train_1643.jpg',\n 'dt_train_1644.jpg',\n 'dt_train_1645.jpg',\n 'dt_train_1646.jpg',\n 'dt_train_1647.jpg',\n 'dt_train_1648.jpg',\n 'dt_train_1649.jpg',\n 'dt_train_165.jpg',\n 'dt_train_1650.jpg',\n 'dt_train_1651.jpg',\n 'dt_train_1652.jpg',\n 'dt_train_1653.jpg',\n 'dt_train_1654.jpg',\n 'dt_train_1655.jpg',\n 'dt_train_1656.jpg',\n 'dt_train_1657.jpg',\n 'dt_train_1658.jpg',\n 'dt_train_1659.jpg',\n 'dt_train_166.jpg',\n 'dt_train_1660.jpg',\n 'dt_train_1661.jpg',\n 'dt_train_1662.jpg',\n 'dt_train_1663.jpg',\n 'dt_train_1664.jpg',\n 'dt_train_1665.jpg',\n 'dt_train_1666.jpg',\n 'dt_train_1667.jpg',\n 'dt_train_1668.jpg',\n 'dt_train_1669.jpg',\n 'dt_train_167.jpg',\n 'dt_train_1670.jpg',\n 'dt_train_1671.jpg',\n 'dt_train_1672.jpg',\n 'dt_train_1673.jpg',\n 'dt_train_1674.jpg',\n 'dt_train_1675.jpg',\n 'dt_train_1676.jpg',\n 'dt_train_1677.jpg',\n 'dt_train_1678.jpg',\n 'dt_train_1679.jpg',\n 'dt_train_168.jpg',\n 'dt_train_1680.jpg',\n 'dt_train_1681.jpg',\n 'dt_train_1682.jpg',\n 'dt_train_1683.jpg',\n 'dt_train_1684.jpg',\n 'dt_train_1685.jpg',\n 'dt_train_1686.jpg',\n 'dt_train_1687.jpg',\n 'dt_train_1688.jpg',\n 'dt_train_1689.jpg',\n 'dt_train_169.jpg',\n 'dt_train_1690.jpg',\n 'dt_train_1691.jpg',\n 'dt_train_1692.jpg',\n 'dt_train_1693.jpg',\n 'dt_train_1694.jpg',\n 'dt_train_1695.jpg',\n 'dt_train_1696.jpg',\n 'dt_train_1697.jpg',\n 'dt_train_1698.jpg',\n 'dt_train_1699.jpg',\n 'dt_train_17.jpg',\n 'dt_train_170.jpg',\n 'dt_train_1700.jpg',\n 'dt_train_1701.jpg',\n 'dt_train_1702.jpg',\n 'dt_train_1703.jpg',\n 'dt_train_1704.jpg',\n 'dt_train_1705.jpg',\n 'dt_train_1706.jpg',\n 'dt_train_1707.jpg',\n 'dt_train_1708.jpg',\n 'dt_train_1709.jpg',\n 'dt_train_171.jpg',\n 'dt_train_1710.jpg',\n 'dt_train_1711.jpg',\n 'dt_train_1712.jpg',\n 'dt_train_1713.jpg',\n 'dt_train_1714.jpg',\n 'dt_train_1715.jpg',\n 'dt_train_1716.jpg',\n 'dt_train_1717.jpg',\n 'dt_train_1718.jpg',\n 'dt_train_1719.jpg',\n 'dt_train_172.jpg',\n 'dt_train_1720.jpg',\n 'dt_train_1721.jpg',\n 'dt_train_1722.jpg',\n 'dt_train_1723.jpg',\n 'dt_train_1724.jpg',\n 'dt_train_1725.jpg',\n 'dt_train_1726.jpg',\n 'dt_train_1727.jpg',\n 'dt_train_1728.jpg',\n 'dt_train_1729.jpg',\n 'dt_train_173.jpg',\n 'dt_train_1730.jpg',\n 'dt_train_1731.jpg',\n 'dt_train_1732.jpg',\n 'dt_train_1733.jpg',\n 'dt_train_1734.jpg',\n 'dt_train_1735.jpg',\n 'dt_train_1736.jpg',\n 'dt_train_1737.jpg',\n 'dt_train_1738.jpg',\n 'dt_train_1739.jpg',\n 'dt_train_174.jpg',\n 'dt_train_1740.jpg',\n 'dt_train_1741.jpg',\n 'dt_train_1742.jpg',\n 'dt_train_1743.jpg',\n 'dt_train_1744.jpg',\n 'dt_train_1745.jpg',\n 'dt_train_1746.jpg',\n 'dt_train_1747.jpg',\n 'dt_train_1748.jpg',\n 'dt_train_1749.jpg',\n 'dt_train_175.jpg',\n 'dt_train_1750.jpg',\n 'dt_train_1751.jpg',\n 'dt_train_1752.jpg',\n 'dt_train_1753.jpg',\n 'dt_train_1754.jpg',\n 'dt_train_1755.jpg',\n 'dt_train_1756.jpg',\n 'dt_train_1757.jpg',\n 'dt_train_1758.jpg',\n 'dt_train_1759.jpg',\n 'dt_train_176.jpg',\n 'dt_train_1760.jpg',\n 'dt_train_1761.jpg',\n 'dt_train_1762.jpg',\n 'dt_train_1763.jpg',\n 'dt_train_1764.jpg',\n 'dt_train_1765.jpg',\n 'dt_train_1766.jpg',\n 'dt_train_1767.jpg',\n 'dt_train_1768.jpg',\n 'dt_train_1769.jpg',\n 'dt_train_177.jpg',\n 'dt_train_1770.jpg',\n 'dt_train_1771.jpg',\n 'dt_train_1772.jpg',\n 'dt_train_1773.jpg',\n 'dt_train_1774.jpg',\n 'dt_train_1775.jpg',\n 'dt_train_1776.jpg',\n 'dt_train_1777.jpg',\n 'dt_train_1778.jpg',\n 'dt_train_1779.jpg',\n 'dt_train_178.jpg',\n 'dt_train_1780.jpg',\n 'dt_train_1781.jpg',\n 'dt_train_1782.jpg',\n 'dt_train_1783.jpg',\n 'dt_train_1784.jpg',\n 'dt_train_1785.jpg',\n 'dt_train_1786.jpg',\n 'dt_train_1787.jpg',\n 'dt_train_1788.jpg',\n 'dt_train_1789.jpg',\n 'dt_train_179.jpg',\n 'dt_train_1790.jpg',\n 'dt_train_1791.jpg',\n 'dt_train_1792.jpg',\n 'dt_train_1793.jpg',\n 'dt_train_1794.jpg',\n 'dt_train_1795.jpg',\n 'dt_train_1796.jpg',\n 'dt_train_1797.jpg',\n 'dt_train_1798.jpg',\n 'dt_train_1799.jpg',\n 'dt_train_18.jpg',\n 'dt_train_180.jpg',\n 'dt_train_1800.jpg',\n 'dt_train_1801.jpg',\n 'dt_train_1802.jpg',\n 'dt_train_1803.jpg',\n 'dt_train_1804.jpg',\n 'dt_train_1805.jpg',\n 'dt_train_1806.jpg',\n 'dt_train_1807.jpg',\n 'dt_train_1808.jpg',\n 'dt_train_1809.jpg',\n 'dt_train_181.jpg',\n 'dt_train_1810.jpg',\n 'dt_train_1811.jpg',\n 'dt_train_1812.jpg',\n 'dt_train_1813.jpg',\n 'dt_train_1814.jpg',\n 'dt_train_1815.jpg',\n 'dt_train_1816.jpg',\n 'dt_train_1817.jpg',\n 'dt_train_1818.jpg',\n 'dt_train_1819.jpg',\n 'dt_train_182.jpg',\n 'dt_train_1820.jpg',\n 'dt_train_1821.jpg',\n 'dt_train_1822.jpg',\n 'dt_train_1823.jpg',\n 'dt_train_1824.jpg',\n 'dt_train_1825.jpg',\n 'dt_train_1826.jpg',\n 'dt_train_1827.jpg',\n 'dt_train_1828.jpg',\n 'dt_train_1829.jpg',\n 'dt_train_183.jpg',\n 'dt_train_1830.jpg',\n 'dt_train_1831.jpg',\n 'dt_train_1832.jpg',\n 'dt_train_1833.jpg',\n 'dt_train_1834.jpg',\n 'dt_train_1835.jpg',\n 'dt_train_1836.jpg',\n 'dt_train_1837.jpg',\n 'dt_train_1838.jpg',\n 'dt_train_1839.jpg',\n 'dt_train_184.jpg',\n 'dt_train_1840.jpg',\n 'dt_train_1841.jpg',\n 'dt_train_1842.jpg',\n 'dt_train_1843.jpg',\n 'dt_train_1844.jpg',\n 'dt_train_1845.jpg',\n 'dt_train_1846.jpg',\n 'dt_train_1847.jpg',\n 'dt_train_1848.jpg',\n 'dt_train_1849.jpg',\n 'dt_train_185.jpg',\n 'dt_train_1850.jpg',\n 'dt_train_1851.jpg',\n 'dt_train_1852.jpg',\n 'dt_train_1853.jpg',\n 'dt_train_1854.jpg',\n 'dt_train_1855.jpg',\n 'dt_train_1856.jpg',\n 'dt_train_1857.jpg',\n 'dt_train_1858.jpg',\n 'dt_train_1859.jpg',\n 'dt_train_186.jpg',\n 'dt_train_1860.jpg',\n 'dt_train_1861.jpg',\n 'dt_train_1862.jpg',\n 'dt_train_1863.jpg',\n 'dt_train_1864.jpg',\n 'dt_train_1865.jpg',\n 'dt_train_1866.jpg',\n 'dt_train_1867.jpg',\n 'dt_train_1868.jpg',\n 'dt_train_1869.jpg',\n 'dt_train_187.jpg',\n 'dt_train_1870.jpg',\n 'dt_train_1871.jpg',\n 'dt_train_1872.jpg',\n 'dt_train_1873.jpg',\n 'dt_train_1874.jpg',\n 'dt_train_1875.jpg',\n 'dt_train_1876.jpg',\n 'dt_train_1877.jpg',\n 'dt_train_1878.jpg',\n 'dt_train_1879.jpg',\n 'dt_train_188.jpg',\n 'dt_train_1880.jpg',\n 'dt_train_1881.jpg',\n 'dt_train_1882.jpg',\n 'dt_train_1883.jpg',\n 'dt_train_1884.jpg',\n 'dt_train_1885.jpg',\n 'dt_train_1886.jpg',\n 'dt_train_1887.jpg',\n 'dt_train_1888.jpg',\n 'dt_train_1889.jpg',\n 'dt_train_189.jpg',\n 'dt_train_1890.jpg',\n 'dt_train_1891.jpg',\n 'dt_train_1892.jpg',\n 'dt_train_1893.jpg',\n 'dt_train_1894.jpg',\n 'dt_train_1895.jpg',\n 'dt_train_1896.jpg',\n 'dt_train_1897.jpg',\n 'dt_train_1898.jpg',\n 'dt_train_1899.jpg',\n ...]"
     },
     "execution_count": 4,
     "metadata": {},
     "output_type": "execute_result"
    }
   ],
   "source": [
    "os.listdir('finished/train/dataraw/hires')"
   ],
   "metadata": {
    "collapsed": false,
    "pycharm": {
     "name": "#%%\n"
    }
   }
  },
  {
   "cell_type": "code",
   "execution_count": null,
   "outputs": [],
   "source": [],
   "metadata": {
    "collapsed": false,
    "pycharm": {
     "name": "#%%\n"
    }
   }
  },
  {
   "cell_type": "code",
   "execution_count": null,
   "outputs": [],
   "source": [],
   "metadata": {
    "collapsed": false,
    "pycharm": {
     "name": "#%%\n"
    }
   }
  },
  {
   "cell_type": "code",
   "execution_count": 48,
   "outputs": [],
   "source": [],
   "metadata": {
    "collapsed": false,
    "pycharm": {
     "name": "#%%\n"
    }
   }
  },
  {
   "cell_type": "code",
   "execution_count": 49,
   "outputs": [
    {
     "data": {
      "text/plain": "torch.Size([10, 1])"
     },
     "execution_count": 49,
     "metadata": {},
     "output_type": "execute_result"
    }
   ],
   "source": [
    "Discriminator()(torch.ones(10, 3, 96, 96).float()).shape"
   ],
   "metadata": {
    "collapsed": false,
    "pycharm": {
     "name": "#%%\n"
    }
   }
  },
  {
   "cell_type": "code",
   "execution_count": null,
   "outputs": [],
   "source": [],
   "metadata": {
    "collapsed": false,
    "pycharm": {
     "name": "#%%\n"
    }
   }
  },
  {
   "cell_type": "code",
   "execution_count": 36,
   "outputs": [],
   "source": [
    "gen = Generator()"
   ],
   "metadata": {
    "collapsed": false,
    "pycharm": {
     "name": "#%%\n"
    }
   }
  },
  {
   "cell_type": "code",
   "execution_count": 37,
   "outputs": [
    {
     "name": "stdout",
     "output_type": "stream",
     "text": [
      "torch.Size([10, 64, 128, 128])\n",
      "torch.Size([10, 64, 512, 512])\n"
     ]
    },
    {
     "data": {
      "text/plain": "torch.Size([10, 3, 512, 512])"
     },
     "execution_count": 37,
     "metadata": {},
     "output_type": "execute_result"
    }
   ],
   "source": [
    "gen(torch.ones(10, 3, 128, 128)).shape"
   ],
   "metadata": {
    "collapsed": false,
    "pycharm": {
     "name": "#%%\n"
    }
   }
  },
  {
   "cell_type": "code",
   "execution_count": null,
   "outputs": [],
   "source": [],
   "metadata": {
    "collapsed": false,
    "pycharm": {
     "name": "#%%\n"
    }
   }
  },
  {
   "cell_type": "code",
   "execution_count": 18,
   "outputs": [
    {
     "data": {
      "text/plain": "4"
     },
     "execution_count": 18,
     "metadata": {},
     "output_type": "execute_result"
    }
   ],
   "source": [
    "foo = lambda x, y: x*y\n",
    "foo(*[2,2])"
   ],
   "metadata": {
    "collapsed": false,
    "pycharm": {
     "name": "#%%\n"
    }
   }
  },
  {
   "cell_type": "code",
   "execution_count": 15,
   "outputs": [
    {
     "ename": "SyntaxError",
     "evalue": "can't use starred expression here (3322405202.py, line 1)",
     "output_type": "error",
     "traceback": [
      "\u001B[1;36m  Input \u001B[1;32mIn [15]\u001B[1;36m\u001B[0m\n\u001B[1;33m    *[ResidualBlock() for x in range(16)]\u001B[0m\n\u001B[1;37m    ^\u001B[0m\n\u001B[1;31mSyntaxError\u001B[0m\u001B[1;31m:\u001B[0m can't use starred expression here\n"
     ]
    }
   ],
   "source": [
    "*[ResidualBlock() for x in range(16)]"
   ],
   "metadata": {
    "collapsed": false,
    "pycharm": {
     "name": "#%%\n"
    }
   }
  },
  {
   "cell_type": "code",
   "execution_count": null,
   "outputs": [],
   "source": [],
   "metadata": {
    "collapsed": false,
    "pycharm": {
     "name": "#%%\n"
    }
   }
  },
  {
   "cell_type": "code",
   "execution_count": null,
   "outputs": [],
   "source": [],
   "metadata": {
    "collapsed": false,
    "pycharm": {
     "name": "#%%\n"
    }
   }
  },
  {
   "cell_type": "code",
   "execution_count": null,
   "outputs": [],
   "source": [],
   "metadata": {
    "collapsed": false,
    "pycharm": {
     "name": "#%%\n"
    }
   }
  },
  {
   "cell_type": "code",
   "execution_count": 11,
   "outputs": [],
   "source": [
    "up = GeneratorUpsample()"
   ],
   "metadata": {
    "collapsed": false,
    "pycharm": {
     "name": "#%%\n"
    }
   }
  },
  {
   "cell_type": "code",
   "execution_count": 12,
   "outputs": [
    {
     "data": {
      "text/plain": "torch.Size([10, 64, 256, 256])"
     },
     "execution_count": 12,
     "metadata": {},
     "output_type": "execute_result"
    }
   ],
   "source": [
    "up(torch.ones(10, 64, 128, 128)).shape"
   ],
   "metadata": {
    "collapsed": false,
    "pycharm": {
     "name": "#%%\n"
    }
   }
  },
  {
   "cell_type": "code",
   "execution_count": null,
   "outputs": [],
   "source": [],
   "metadata": {
    "collapsed": false,
    "pycharm": {
     "name": "#%%\n"
    }
   }
  },
  {
   "cell_type": "code",
   "execution_count": null,
   "outputs": [],
   "source": [],
   "metadata": {
    "collapsed": false,
    "pycharm": {
     "name": "#%%\n"
    }
   }
  },
  {
   "cell_type": "code",
   "execution_count": null,
   "outputs": [],
   "source": [],
   "metadata": {
    "collapsed": false,
    "pycharm": {
     "name": "#%%\n"
    }
   }
  },
  {
   "cell_type": "code",
   "execution_count": 8,
   "outputs": [],
   "source": [
    "ttt = ResidualBlock()"
   ],
   "metadata": {
    "collapsed": false,
    "pycharm": {
     "name": "#%%\n"
    }
   }
  },
  {
   "cell_type": "code",
   "execution_count": 4,
   "outputs": [
    {
     "data": {
      "text/plain": "torch.Size([10, 64, 128, 128])"
     },
     "execution_count": 4,
     "metadata": {},
     "output_type": "execute_result"
    }
   ],
   "source": [
    "ttt(torch.ones(10, 64, 128, 128)).shape"
   ],
   "metadata": {
    "collapsed": false,
    "pycharm": {
     "name": "#%%\n"
    }
   }
  },
  {
   "cell_type": "code",
   "execution_count": null,
   "outputs": [],
   "source": [],
   "metadata": {
    "collapsed": false,
    "pycharm": {
     "name": "#%%\n"
    }
   }
  },
  {
   "cell_type": "code",
   "execution_count": 4,
   "outputs": [
    {
     "ename": "NameError",
     "evalue": "name 'self' is not defined",
     "output_type": "error",
     "traceback": [
      "\u001B[1;31m---------------------------------------------------------------------------\u001B[0m",
      "\u001B[1;31mNameError\u001B[0m                                 Traceback (most recent call last)",
      "Input \u001B[1;32mIn [4]\u001B[0m, in \u001B[0;36m<cell line: 1>\u001B[1;34m()\u001B[0m\n\u001B[1;32m----> 1\u001B[0m \u001B[38;5;28;01mclass\u001B[39;00m \u001B[38;5;21;01mConvBlock\u001B[39;00m(nn\u001B[38;5;241m.\u001B[39mModule):\n\u001B[0;32m      2\u001B[0m     \u001B[38;5;28mself\u001B[39m\u001B[38;5;241m.\u001B[39m\u001B[38;5;21m__init__\u001B[39m()\n",
      "Input \u001B[1;32mIn [4]\u001B[0m, in \u001B[0;36mConvBlock\u001B[1;34m()\u001B[0m\n\u001B[0;32m      1\u001B[0m \u001B[38;5;28;01mclass\u001B[39;00m \u001B[38;5;21;01mConvBlock\u001B[39;00m(nn\u001B[38;5;241m.\u001B[39mModule):\n\u001B[1;32m----> 2\u001B[0m     \u001B[38;5;28;43mself\u001B[39;49m\u001B[38;5;241m.\u001B[39m\u001B[38;5;21m__init__\u001B[39m()\n",
      "\u001B[1;31mNameError\u001B[0m: name 'self' is not defined"
     ]
    }
   ],
   "source": [
    "class ConvBlock(nn.Module):\n",
    "    def __init__(\n",
    "            self,\n",
    "            in_channels,\n",
    "            out_channels,\n",
    "\n",
    "    ):\n"
   ],
   "metadata": {
    "collapsed": false,
    "pycharm": {
     "name": "#%%\n"
    }
   }
  },
  {
   "cell_type": "code",
   "execution_count": null,
   "outputs": [],
   "source": [],
   "metadata": {
    "collapsed": false,
    "pycharm": {
     "name": "#%%\n"
    }
   }
  },
  {
   "cell_type": "code",
   "execution_count": null,
   "outputs": [],
   "source": [],
   "metadata": {
    "collapsed": false,
    "pycharm": {
     "name": "#%%\n"
    }
   }
  },
  {
   "cell_type": "code",
   "execution_count": null,
   "outputs": [],
   "source": [],
   "metadata": {
    "collapsed": false,
    "pycharm": {
     "name": "#%%\n"
    }
   }
  },
  {
   "cell_type": "code",
   "execution_count": null,
   "outputs": [],
   "source": [],
   "metadata": {
    "collapsed": false,
    "pycharm": {
     "name": "#%%\n"
    }
   }
  },
  {
   "cell_type": "code",
   "execution_count": null,
   "outputs": [],
   "source": [],
   "metadata": {
    "collapsed": false,
    "pycharm": {
     "name": "#%%\n"
    }
   }
  },
  {
   "cell_type": "code",
   "execution_count": null,
   "outputs": [],
   "source": [],
   "metadata": {
    "collapsed": false,
    "pycharm": {
     "name": "#%%\n"
    }
   }
  },
  {
   "cell_type": "code",
   "execution_count": null,
   "outputs": [],
   "source": [],
   "metadata": {
    "collapsed": false,
    "pycharm": {
     "name": "#%%\n"
    }
   }
  },
  {
   "cell_type": "code",
   "execution_count": 2,
   "outputs": [
    {
     "data": {
      "text/plain": "True"
     },
     "execution_count": 2,
     "metadata": {},
     "output_type": "execute_result"
    }
   ],
   "source": [
    "torch.cuda.is_available()"
   ],
   "metadata": {
    "collapsed": false,
    "pycharm": {
     "name": "#%%\n"
    }
   }
  },
  {
   "cell_type": "code",
   "execution_count": null,
   "outputs": [],
   "source": [],
   "metadata": {
    "collapsed": false,
    "pycharm": {
     "name": "#%%\n"
    }
   }
  }
 ],
 "metadata": {
  "kernelspec": {
   "display_name": "Python 3",
   "language": "python",
   "name": "python3"
  },
  "language_info": {
   "codemirror_mode": {
    "name": "ipython",
    "version": 2
   },
   "file_extension": ".py",
   "mimetype": "text/x-python",
   "name": "python",
   "nbconvert_exporter": "python",
   "pygments_lexer": "ipython2",
   "version": "2.7.6"
  }
 },
 "nbformat": 4,
 "nbformat_minor": 0
}