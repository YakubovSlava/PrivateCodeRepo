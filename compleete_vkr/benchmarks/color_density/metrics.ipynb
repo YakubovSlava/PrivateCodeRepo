{
 "cells": [
  {
   "cell_type": "code",
   "execution_count": 5,
   "outputs": [],
   "source": [
    "import torch\n",
    "from piq import psnr, multi_scale_ssim, ssim\n",
    "import os\n",
    "from torchvision.io import read_image\n",
    "import numpy as np\n",
    "from tqdm import tqdm"
   ],
   "metadata": {
    "collapsed": false,
    "pycharm": {
     "name": "#%%\n"
    }
   }
  },
  {
   "cell_type": "code",
   "execution_count": 6,
   "outputs": [],
   "source": [
    "cats_orig_path = 'cats_orig/'\n",
    "dogs_orig_path = 'dogs_orig/'\n",
    "all_pathes_orig = [os.path.join(cats_orig_path, x) for x in os.listdir(cats_orig_path)] + [os.path.join(dogs_orig_path, x) for x in os.listdir(dogs_orig_path)]"
   ],
   "metadata": {
    "collapsed": false,
    "pycharm": {
     "name": "#%%\n"
    }
   }
  },
  {
   "cell_type": "code",
   "execution_count": 7,
   "outputs": [],
   "source": [
    "cats_bad_path = 'cats_bad/'\n",
    "dogs_bad_path = 'dogs_bad/'\n",
    "all_pathes_bad = [os.path.join(cats_bad_path, x) for x in os.listdir(cats_bad_path)] + [os.path.join(dogs_bad_path, x) for x in os.listdir(dogs_bad_path)]\n",
    "\n",
    "cats_refactored_path = 'cats_refactored/'\n",
    "dogs_refactored_path = 'dogs_refactored/'\n",
    "all_pathes_refactored = [os.path.join(cats_refactored_path, x) for x in os.listdir(cats_refactored_path)] + [os.path.join(dogs_refactored_path, x) for x in os.listdir(dogs_refactored_path)]"
   ],
   "metadata": {
    "collapsed": false,
    "pycharm": {
     "name": "#%%\n"
    }
   }
  },
  {
   "cell_type": "code",
   "execution_count": 9,
   "outputs": [
    {
     "name": "stderr",
     "output_type": "stream",
     "text": [
      "100%|██████████| 2023/2023 [00:27<00:00, 74.18it/s]\n"
     ]
    }
   ],
   "source": [
    "psnrs = []\n",
    "ssims = []\n",
    "for i in tqdm(range(len(all_pathes_refactored))):\n",
    "    image_orig = read_image(all_pathes_orig[i])\n",
    "    image_metric = read_image(all_pathes_refactored[i])\n",
    "    psnrs.append(psnr(image_metric.unsqueeze(0)/255, image_orig.unsqueeze(0)/255).item())\n",
    "    ssims.append(ssim(image_metric.unsqueeze(0)/255, image_orig.unsqueeze(0)/255).item())"
   ],
   "metadata": {
    "collapsed": false,
    "pycharm": {
     "name": "#%%\n"
    }
   }
  },
  {
   "cell_type": "code",
   "execution_count": 10,
   "outputs": [
    {
     "data": {
      "text/plain": "26.54792528487171"
     },
     "execution_count": 10,
     "metadata": {},
     "output_type": "execute_result"
    }
   ],
   "source": [
    "np.mean(psnrs)"
   ],
   "metadata": {
    "collapsed": false,
    "pycharm": {
     "name": "#%%\n"
    }
   }
  },
  {
   "cell_type": "code",
   "execution_count": 11,
   "outputs": [
    {
     "data": {
      "text/plain": "0.8190817906310873"
     },
     "execution_count": 11,
     "metadata": {},
     "output_type": "execute_result"
    }
   ],
   "source": [
    "np.mean(ssims)"
   ],
   "metadata": {
    "collapsed": false,
    "pycharm": {
     "name": "#%%\n"
    }
   }
  },
  {
   "cell_type": "code",
   "execution_count": 11,
   "outputs": [],
   "source": [],
   "metadata": {
    "collapsed": false,
    "pycharm": {
     "name": "#%%\n"
    }
   }
  },
  {
   "cell_type": "code",
   "execution_count": 12,
   "outputs": [
    {
     "name": "stderr",
     "output_type": "stream",
     "text": [
      "100%|██████████| 2023/2023 [00:27<00:00, 72.31it/s]\n"
     ]
    }
   ],
   "source": [
    "psnrs = []\n",
    "ssims = []\n",
    "for i in tqdm(range(len(all_pathes_bad))):\n",
    "    image_orig = read_image(all_pathes_orig[i])\n",
    "    image_metric = read_image(all_pathes_bad[i])\n",
    "    psnrs.append(psnr(image_metric.unsqueeze(0)/255, image_orig.unsqueeze(0)/255).item())\n",
    "    ssims.append(ssim(image_metric.unsqueeze(0)/255, image_orig.unsqueeze(0)/255).item())"
   ],
   "metadata": {
    "collapsed": false,
    "pycharm": {
     "name": "#%%\n"
    }
   }
  },
  {
   "cell_type": "code",
   "execution_count": 13,
   "outputs": [
    {
     "data": {
      "text/plain": "26.046364286896974"
     },
     "execution_count": 13,
     "metadata": {},
     "output_type": "execute_result"
    }
   ],
   "source": [
    "np.mean(psnrs)"
   ],
   "metadata": {
    "collapsed": false,
    "pycharm": {
     "name": "#%%\n"
    }
   }
  },
  {
   "cell_type": "code",
   "execution_count": 14,
   "outputs": [
    {
     "data": {
      "text/plain": "0.8059410682952587"
     },
     "execution_count": 14,
     "metadata": {},
     "output_type": "execute_result"
    }
   ],
   "source": [
    "np.mean(ssims)"
   ],
   "metadata": {
    "collapsed": false,
    "pycharm": {
     "name": "#%%\n"
    }
   }
  },
  {
   "cell_type": "code",
   "execution_count": null,
   "outputs": [],
   "source": [],
   "metadata": {
    "collapsed": false,
    "pycharm": {
     "name": "#%%\n"
    }
   }
  }
 ],
 "metadata": {
  "kernelspec": {
   "display_name": "Python 3",
   "language": "python",
   "name": "python3"
  },
  "language_info": {
   "codemirror_mode": {
    "name": "ipython",
    "version": 2
   },
   "file_extension": ".py",
   "mimetype": "text/x-python",
   "name": "python",
   "nbconvert_exporter": "python",
   "pygments_lexer": "ipython2",
   "version": "2.7.6"
  }
 },
 "nbformat": 4,
 "nbformat_minor": 0
}