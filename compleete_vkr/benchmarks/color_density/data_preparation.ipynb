{
 "cells": [
  {
   "cell_type": "code",
   "execution_count": 3,
   "outputs": [],
   "source": [
    "import os\n",
    "import cv2\n",
    "from PIL import Image\n",
    "import albumentations as A\n",
    "import torch\n",
    "from torch import nn\n",
    "from albumentations.pytorch import ToTensorV2\n",
    "import numpy as np\n",
    "from torchvision.utils import save_image\n",
    "from tqdm import tqdm"
   ],
   "metadata": {
    "collapsed": false,
    "pycharm": {
     "name": "#%%\n"
    }
   }
  },
  {
   "cell_type": "code",
   "execution_count": 4,
   "outputs": [],
   "source": [
    "class GeneratorBlockDown(nn.Module):\n",
    "    def __init__(\n",
    "            self,\n",
    "            in_channels: int,\n",
    "            out_channels: int\n",
    "    ):\n",
    "        super().__init__()\n",
    "\n",
    "        self.block = nn.Sequential(\n",
    "            nn.Conv2d(\n",
    "                in_channels=in_channels,\n",
    "                out_channels=out_channels,\n",
    "                kernel_size=4,\n",
    "                stride=2,\n",
    "                padding=1,\n",
    "                padding_mode='reflect',\n",
    "                bias=False\n",
    "            ),\n",
    "            nn.BatchNorm2d(out_channels),\n",
    "            nn.LeakyReLU(0.2)\n",
    "        )\n",
    "    def forward(self, x):\n",
    "        return self.block(x)\n",
    "\n",
    "class GeneratorBlockUp(nn.Module):\n",
    "    def __init__(\n",
    "            self,\n",
    "            in_channels: int,\n",
    "            out_channels: int,\n",
    "            dropout: bool\n",
    "    ):\n",
    "        super().__init__()\n",
    "        self.block = nn.Sequential(\n",
    "            nn.ConvTranspose2d(\n",
    "                in_channels=in_channels,\n",
    "                out_channels=out_channels,\n",
    "                kernel_size=4,\n",
    "                stride=2,\n",
    "                padding=1,\n",
    "                bias=False\n",
    "            ),\n",
    "            nn.BatchNorm2d(out_channels),\n",
    "            nn.ReLU(),\n",
    "            nn.Dropout(0.5) if dropout else nn.Identity()\n",
    "        )\n",
    "    def forward(self, x):\n",
    "        return self.block(x)\n",
    "\n",
    "class Generator(nn.Module):\n",
    "    def __init__(self, in_channels: int=3, features: int=64):\n",
    "        super().__init__()\n",
    "        self.initial_down = nn.Sequential(\n",
    "            nn.Conv2d(\n",
    "                in_channels=in_channels,\n",
    "                out_channels=features,\n",
    "                kernel_size=4,\n",
    "                stride=2,\n",
    "                padding=1,\n",
    "                padding_mode='reflect'\n",
    "            ),\n",
    "            nn.LeakyReLU(0.2)\n",
    "        )\n",
    "        self.down1 = GeneratorBlockDown(in_channels=features, out_channels=features*2)\n",
    "        self.down2 = GeneratorBlockDown(in_channels=features*2, out_channels=features*4)\n",
    "        self.down3 = GeneratorBlockDown(in_channels=features*4, out_channels=features*8)\n",
    "        self.down4 = GeneratorBlockDown(in_channels=features*8, out_channels=features*8)\n",
    "        self.down5 = GeneratorBlockDown(in_channels=features*8, out_channels=features*8)\n",
    "        self.down6 = GeneratorBlockDown(in_channels=features*8, out_channels=features*8)\n",
    "\n",
    "        self.bottleneck = nn.Sequential(\n",
    "            nn.Conv2d(in_channels=features*8,\n",
    "                      out_channels=features*8,\n",
    "                      kernel_size=(4,4),\n",
    "                      stride=(2,2),\n",
    "                      padding=(1,1),\n",
    "                      padding_mode=\"reflect\"),\n",
    "            nn.ReLU()\n",
    "        )\n",
    "\n",
    "        self.up1 = GeneratorBlockUp(in_channels=features*8, out_channels=features*8, dropout=True)\n",
    "        self.up2 = GeneratorBlockUp(in_channels=features*8*2, out_channels=features*8, dropout=True)\n",
    "        self.up3 = GeneratorBlockUp(in_channels=features*8*2, out_channels=features*8, dropout=True)\n",
    "        self.up4 = GeneratorBlockUp(in_channels=features*8*2, out_channels=features*8, dropout=False)\n",
    "        self.up5 = GeneratorBlockUp(in_channels=features*8*2, out_channels=features*4, dropout=False)\n",
    "        self.up6 = GeneratorBlockUp(in_channels=features*4*2, out_channels=features*2, dropout=False)\n",
    "        self.up7 = GeneratorBlockUp(in_channels=features*4, out_channels=features, dropout=False)\n",
    "\n",
    "        self.final_up = nn.Sequential(\n",
    "            nn.ConvTranspose2d(\n",
    "                in_channels=features*2,\n",
    "                out_channels=in_channels,\n",
    "                kernel_size=(4,4),\n",
    "                stride=(2,2),\n",
    "                padding=(1,1)\n",
    "            ),\n",
    "            nn.Tanh()\n",
    "        )\n",
    "    def forward(self, x):\n",
    "        d1 = self.initial_down(x)\n",
    "        d2 = self.down1(d1)\n",
    "        d3 = self.down2(d2)\n",
    "        d4 = self.down3(d3)\n",
    "        d5 = self.down4(d4)\n",
    "        d6 = self.down5(d5)\n",
    "        d7 = self.down6(d6)\n",
    "        bottleneck = self.bottleneck(d7)\n",
    "        up1 = self.up1(bottleneck)\n",
    "        # print(d7.shape, up1.shape)\n",
    "        up2 = self.up2(torch.cat([d7, up1], dim=1))\n",
    "        up3 = self.up3(torch.cat([d6, up2], dim=1))\n",
    "        up4 = self.up4(torch.cat([d5, up3], dim=1))\n",
    "        up5 = self.up5(torch.cat([d4, up4], dim=1))\n",
    "        up6 = self.up6(torch.cat([d3, up5], dim=1))\n",
    "        up7 = self.up7(torch.cat([d2, up6], dim=1))\n",
    "        return self.final_up(torch.cat([d1, up7], dim=1))"
   ],
   "metadata": {
    "collapsed": false,
    "pycharm": {
     "name": "#%%\n"
    }
   }
  },
  {
   "cell_type": "code",
   "execution_count": 5,
   "outputs": [
    {
     "name": "stdout",
     "output_type": "stream",
     "text": [
      "model loaded\n"
     ]
    }
   ],
   "source": [
    "device = 'cuda' if torch.cuda.is_available() else 'cpu'\n",
    "state = torch.load('pix2pix_gen_vgg_15.pth', map_location=device)['state_dict']\n",
    "model = Generator().to(device)\n",
    "model.load_state_dict(state)\n",
    "model.eval()\n",
    "print('model loaded')"
   ],
   "metadata": {
    "collapsed": false,
    "pycharm": {
     "name": "#%%\n"
    }
   }
  },
  {
   "cell_type": "code",
   "execution_count": 6,
   "outputs": [],
   "source": [
    "path_dogs = '../../dataset/test_set/test_set/dogs'\n",
    "path_cats = '../../dataset/test_set/test_set/cats'"
   ],
   "metadata": {
    "collapsed": false,
    "pycharm": {
     "name": "#%%\n"
    }
   }
  },
  {
   "cell_type": "code",
   "execution_count": 7,
   "outputs": [],
   "source": [
    "img_path = os.path.join(path_dogs, os.listdir(path_dogs)[0])"
   ],
   "metadata": {
    "collapsed": false,
    "pycharm": {
     "name": "#%%\n"
    }
   }
  },
  {
   "cell_type": "code",
   "execution_count": 8,
   "outputs": [],
   "source": [
    "formatting = A.Sequential([\n",
    "    A.Normalize((0.5, 0.5, 0.5), (0.5, 0.5, 0.5)),\n",
    "    ToTensorV2()\n",
    "])"
   ],
   "metadata": {
    "collapsed": false,
    "pycharm": {
     "name": "#%%\n"
    }
   }
  },
  {
   "cell_type": "code",
   "execution_count": 9,
   "outputs": [
    {
     "name": "stderr",
     "output_type": "stream",
     "text": [
      "100%|██████████| 1012/1012 [01:23<00:00, 12.07it/s]\n",
      "100%|██████████| 1011/1011 [01:11<00:00, 14.09it/s]\n"
     ]
    }
   ],
   "source": [
    "for i in tqdm(os.listdir(path_dogs)):\n",
    "    if i != '_DS_Store':\n",
    "        img_path = os.path.join(path_dogs, i)\n",
    "        image = Image.open(img_path)\n",
    "        orig = image.resize((256, 256))\n",
    "        bad_image = orig.quantize(8).convert('RGB')\n",
    "        format_image = formatting(image=np.asarray(bad_image))['image'].to(device)\n",
    "        with torch.no_grad():\n",
    "            res_image = model(format_image.unsqueeze(0)).detach().cpu()\n",
    "        save_image((res_image*0.5+0.5).abs(), os.path.join('dogs_refactored/', i))\n",
    "        orig.save(os.path.join('dogs_orig/', i))\n",
    "        bad_image.save(os.path.join('dogs_bad/', i))\n",
    "\n",
    "for i in tqdm(os.listdir(path_cats)):\n",
    "    if i != '_DS_Store':\n",
    "        img_path = os.path.join(path_cats, i)\n",
    "        image = Image.open(img_path)\n",
    "        orig = image.resize((256, 256))\n",
    "        bad_image = orig.quantize(8).convert('RGB')\n",
    "        format_image = formatting(image=np.asarray(bad_image))['image'].to(device)\n",
    "        with torch.no_grad():\n",
    "            res_image = model(format_image.unsqueeze(0)).detach().cpu()\n",
    "        save_image((res_image*0.5+0.5).abs(), os.path.join('cats_refactored/', i))\n",
    "        orig.save(os.path.join('cats_orig/', i))\n",
    "        bad_image.save(os.path.join('cats_bad/', i))"
   ],
   "metadata": {
    "collapsed": false,
    "pycharm": {
     "name": "#%%\n"
    }
   }
  },
  {
   "cell_type": "code",
   "execution_count": null,
   "outputs": [],
   "source": [],
   "metadata": {
    "collapsed": false,
    "pycharm": {
     "name": "#%%\n"
    }
   }
  },
  {
   "cell_type": "code",
   "execution_count": null,
   "outputs": [],
   "source": [],
   "metadata": {
    "collapsed": false,
    "pycharm": {
     "name": "#%%\n"
    }
   }
  }
 ],
 "metadata": {
  "kernelspec": {
   "display_name": "Python 3",
   "language": "python",
   "name": "python3"
  },
  "language_info": {
   "codemirror_mode": {
    "name": "ipython",
    "version": 2
   },
   "file_extension": ".py",
   "mimetype": "text/x-python",
   "name": "python",
   "nbconvert_exporter": "python",
   "pygments_lexer": "ipython2",
   "version": "2.7.6"
  }
 },
 "nbformat": 4,
 "nbformat_minor": 0
}