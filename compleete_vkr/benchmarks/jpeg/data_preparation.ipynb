{
 "cells": [
  {
   "cell_type": "code",
   "execution_count": 1,
   "outputs": [],
   "source": [
    "import os\n",
    "import cv2\n",
    "from PIL import Image\n",
    "import albumentations as A\n",
    "import torch\n",
    "from torch import nn\n",
    "from albumentations.pytorch import ToTensorV2\n",
    "import numpy as np\n",
    "from torchvision.utils import save_image\n",
    "from tqdm import tqdm"
   ],
   "metadata": {
    "collapsed": false,
    "pycharm": {
     "name": "#%%\n"
    }
   }
  },
  {
   "cell_type": "code",
   "execution_count": 2,
   "outputs": [],
   "source": [
    "class GeneratorBlockDown(nn.Module):\n",
    "    def __init__(\n",
    "            self,\n",
    "            in_channels: int,\n",
    "            out_channels: int\n",
    "    ):\n",
    "        super().__init__()\n",
    "\n",
    "        self.block = nn.Sequential(\n",
    "            nn.Conv2d(\n",
    "                in_channels=in_channels,\n",
    "                out_channels=out_channels,\n",
    "                kernel_size=4,\n",
    "                stride=2,\n",
    "                padding=1,\n",
    "                padding_mode='reflect',\n",
    "                bias=False\n",
    "            ),\n",
    "            nn.BatchNorm2d(out_channels),\n",
    "            nn.LeakyReLU(0.2)\n",
    "        )\n",
    "    def forward(self, x):\n",
    "        return self.block(x)\n",
    "\n",
    "class GeneratorBlockUp(nn.Module):\n",
    "    def __init__(\n",
    "            self,\n",
    "            in_channels: int,\n",
    "            out_channels: int,\n",
    "            dropout: bool\n",
    "    ):\n",
    "        super().__init__()\n",
    "        self.block = nn.Sequential(\n",
    "            nn.ConvTranspose2d(\n",
    "                in_channels=in_channels,\n",
    "                out_channels=out_channels,\n",
    "                kernel_size=4,\n",
    "                stride=2,\n",
    "                padding=1,\n",
    "                bias=False\n",
    "            ),\n",
    "            nn.BatchNorm2d(out_channels),\n",
    "            nn.ReLU(),\n",
    "            nn.Dropout(0.5) if dropout else nn.Identity()\n",
    "        )\n",
    "    def forward(self, x):\n",
    "        return self.block(x)\n",
    "\n",
    "class Generator(nn.Module):\n",
    "    def __init__(self, in_channels: int=3, features: int=64):\n",
    "        super().__init__()\n",
    "        self.initial_down = nn.Sequential(\n",
    "            nn.Conv2d(\n",
    "                in_channels=in_channels,\n",
    "                out_channels=features,\n",
    "                kernel_size=4,\n",
    "                stride=2,\n",
    "                padding=1,\n",
    "                padding_mode='reflect'\n",
    "            ),\n",
    "            nn.LeakyReLU(0.2)\n",
    "        )\n",
    "        self.down1 = GeneratorBlockDown(in_channels=features, out_channels=features*2)\n",
    "        self.down2 = GeneratorBlockDown(in_channels=features*2, out_channels=features*4)\n",
    "        self.down3 = GeneratorBlockDown(in_channels=features*4, out_channels=features*8)\n",
    "        self.down4 = GeneratorBlockDown(in_channels=features*8, out_channels=features*8)\n",
    "        self.down5 = GeneratorBlockDown(in_channels=features*8, out_channels=features*8)\n",
    "        self.down6 = GeneratorBlockDown(in_channels=features*8, out_channels=features*8)\n",
    "\n",
    "        self.bottleneck = nn.Sequential(\n",
    "            nn.Conv2d(in_channels=features*8,\n",
    "                      out_channels=features*8,\n",
    "                      kernel_size=(4,4),\n",
    "                      stride=(2,2),\n",
    "                      padding=(1,1),\n",
    "                      padding_mode=\"reflect\"),\n",
    "            nn.ReLU()\n",
    "        )\n",
    "\n",
    "        self.up1 = GeneratorBlockUp(in_channels=features*8, out_channels=features*8, dropout=True)\n",
    "        self.up2 = GeneratorBlockUp(in_channels=features*8*2, out_channels=features*8, dropout=True)\n",
    "        self.up3 = GeneratorBlockUp(in_channels=features*8*2, out_channels=features*8, dropout=True)\n",
    "        self.up4 = GeneratorBlockUp(in_channels=features*8*2, out_channels=features*8, dropout=False)\n",
    "        self.up5 = GeneratorBlockUp(in_channels=features*8*2, out_channels=features*4, dropout=False)\n",
    "        self.up6 = GeneratorBlockUp(in_channels=features*4*2, out_channels=features*2, dropout=False)\n",
    "        self.up7 = GeneratorBlockUp(in_channels=features*4, out_channels=features, dropout=False)\n",
    "\n",
    "        self.final_up = nn.Sequential(\n",
    "            nn.ConvTranspose2d(\n",
    "                in_channels=features*2,\n",
    "                out_channels=in_channels,\n",
    "                kernel_size=(4,4),\n",
    "                stride=(2,2),\n",
    "                padding=(1,1)\n",
    "            ),\n",
    "            nn.Tanh()\n",
    "        )\n",
    "    def forward(self, x):\n",
    "        d1 = self.initial_down(x)\n",
    "        d2 = self.down1(d1)\n",
    "        d3 = self.down2(d2)\n",
    "        d4 = self.down3(d3)\n",
    "        d5 = self.down4(d4)\n",
    "        d6 = self.down5(d5)\n",
    "        d7 = self.down6(d6)\n",
    "        bottleneck = self.bottleneck(d7)\n",
    "        up1 = self.up1(bottleneck)\n",
    "        # print(d7.shape, up1.shape)\n",
    "        up2 = self.up2(torch.cat([d7, up1], dim=1))\n",
    "        up3 = self.up3(torch.cat([d6, up2], dim=1))\n",
    "        up4 = self.up4(torch.cat([d5, up3], dim=1))\n",
    "        up5 = self.up5(torch.cat([d4, up4], dim=1))\n",
    "        up6 = self.up6(torch.cat([d3, up5], dim=1))\n",
    "        up7 = self.up7(torch.cat([d2, up6], dim=1))\n",
    "        return self.final_up(torch.cat([d1, up7], dim=1))"
   ],
   "metadata": {
    "collapsed": false,
    "pycharm": {
     "name": "#%%\n"
    }
   }
  },
  {
   "cell_type": "code",
   "execution_count": 4,
   "outputs": [
    {
     "name": "stdout",
     "output_type": "stream",
     "text": [
      "model loaded\n"
     ]
    }
   ],
   "source": [
    "device = 'cuda' if torch.cuda.is_available() else 'cpu'\n",
    "state = torch.load('pix2pix_gen_90.pth', map_location=device)['state_dict']\n",
    "model = Generator().to(device)\n",
    "model.load_state_dict(state)\n",
    "model.eval()\n",
    "print('model loaded')"
   ],
   "metadata": {
    "collapsed": false,
    "pycharm": {
     "name": "#%%\n"
    }
   }
  },
  {
   "cell_type": "code",
   "execution_count": 6,
   "outputs": [],
   "source": [
    "import torchinfo"
   ],
   "metadata": {
    "collapsed": false,
    "pycharm": {
     "name": "#%%\n"
    }
   }
  },
  {
   "cell_type": "code",
   "execution_count": 7,
   "outputs": [
    {
     "data": {
      "text/plain": "==========================================================================================\nLayer (type:depth-idx)                   Output Shape              Param #\n==========================================================================================\nGenerator                                --                        --\n├─Sequential: 1-1                        [8, 64, 128, 128]         --\n│    └─Conv2d: 2-1                       [8, 64, 128, 128]         3,136\n│    └─LeakyReLU: 2-2                    [8, 64, 128, 128]         --\n├─GeneratorBlockDown: 1-2                [8, 128, 64, 64]          --\n│    └─Sequential: 2-3                   [8, 128, 64, 64]          --\n│    │    └─Conv2d: 3-1                  [8, 128, 64, 64]          131,072\n│    │    └─BatchNorm2d: 3-2             [8, 128, 64, 64]          256\n│    │    └─LeakyReLU: 3-3               [8, 128, 64, 64]          --\n├─GeneratorBlockDown: 1-3                [8, 256, 32, 32]          --\n│    └─Sequential: 2-4                   [8, 256, 32, 32]          --\n│    │    └─Conv2d: 3-4                  [8, 256, 32, 32]          524,288\n│    │    └─BatchNorm2d: 3-5             [8, 256, 32, 32]          512\n│    │    └─LeakyReLU: 3-6               [8, 256, 32, 32]          --\n├─GeneratorBlockDown: 1-4                [8, 512, 16, 16]          --\n│    └─Sequential: 2-5                   [8, 512, 16, 16]          --\n│    │    └─Conv2d: 3-7                  [8, 512, 16, 16]          2,097,152\n│    │    └─BatchNorm2d: 3-8             [8, 512, 16, 16]          1,024\n│    │    └─LeakyReLU: 3-9               [8, 512, 16, 16]          --\n├─GeneratorBlockDown: 1-5                [8, 512, 8, 8]            --\n│    └─Sequential: 2-6                   [8, 512, 8, 8]            --\n│    │    └─Conv2d: 3-10                 [8, 512, 8, 8]            4,194,304\n│    │    └─BatchNorm2d: 3-11            [8, 512, 8, 8]            1,024\n│    │    └─LeakyReLU: 3-12              [8, 512, 8, 8]            --\n├─GeneratorBlockDown: 1-6                [8, 512, 4, 4]            --\n│    └─Sequential: 2-7                   [8, 512, 4, 4]            --\n│    │    └─Conv2d: 3-13                 [8, 512, 4, 4]            4,194,304\n│    │    └─BatchNorm2d: 3-14            [8, 512, 4, 4]            1,024\n│    │    └─LeakyReLU: 3-15              [8, 512, 4, 4]            --\n├─GeneratorBlockDown: 1-7                [8, 512, 2, 2]            --\n│    └─Sequential: 2-8                   [8, 512, 2, 2]            --\n│    │    └─Conv2d: 3-16                 [8, 512, 2, 2]            4,194,304\n│    │    └─BatchNorm2d: 3-17            [8, 512, 2, 2]            1,024\n│    │    └─LeakyReLU: 3-18              [8, 512, 2, 2]            --\n├─Sequential: 1-8                        [8, 512, 1, 1]            --\n│    └─Conv2d: 2-9                       [8, 512, 1, 1]            4,194,816\n│    └─ReLU: 2-10                        [8, 512, 1, 1]            --\n├─GeneratorBlockUp: 1-9                  [8, 512, 2, 2]            --\n│    └─Sequential: 2-11                  [8, 512, 2, 2]            --\n│    │    └─ConvTranspose2d: 3-19        [8, 512, 2, 2]            4,194,304\n│    │    └─BatchNorm2d: 3-20            [8, 512, 2, 2]            1,024\n│    │    └─ReLU: 3-21                   [8, 512, 2, 2]            --\n│    │    └─Dropout: 3-22                [8, 512, 2, 2]            --\n├─GeneratorBlockUp: 1-10                 [8, 512, 4, 4]            --\n│    └─Sequential: 2-12                  [8, 512, 4, 4]            --\n│    │    └─ConvTranspose2d: 3-23        [8, 512, 4, 4]            8,388,608\n│    │    └─BatchNorm2d: 3-24            [8, 512, 4, 4]            1,024\n│    │    └─ReLU: 3-25                   [8, 512, 4, 4]            --\n│    │    └─Dropout: 3-26                [8, 512, 4, 4]            --\n├─GeneratorBlockUp: 1-11                 [8, 512, 8, 8]            --\n│    └─Sequential: 2-13                  [8, 512, 8, 8]            --\n│    │    └─ConvTranspose2d: 3-27        [8, 512, 8, 8]            8,388,608\n│    │    └─BatchNorm2d: 3-28            [8, 512, 8, 8]            1,024\n│    │    └─ReLU: 3-29                   [8, 512, 8, 8]            --\n│    │    └─Dropout: 3-30                [8, 512, 8, 8]            --\n├─GeneratorBlockUp: 1-12                 [8, 512, 16, 16]          --\n│    └─Sequential: 2-14                  [8, 512, 16, 16]          --\n│    │    └─ConvTranspose2d: 3-31        [8, 512, 16, 16]          8,388,608\n│    │    └─BatchNorm2d: 3-32            [8, 512, 16, 16]          1,024\n│    │    └─ReLU: 3-33                   [8, 512, 16, 16]          --\n│    │    └─Identity: 3-34               [8, 512, 16, 16]          --\n├─GeneratorBlockUp: 1-13                 [8, 256, 32, 32]          --\n│    └─Sequential: 2-15                  [8, 256, 32, 32]          --\n│    │    └─ConvTranspose2d: 3-35        [8, 256, 32, 32]          4,194,304\n│    │    └─BatchNorm2d: 3-36            [8, 256, 32, 32]          512\n│    │    └─ReLU: 3-37                   [8, 256, 32, 32]          --\n│    │    └─Identity: 3-38               [8, 256, 32, 32]          --\n├─GeneratorBlockUp: 1-14                 [8, 128, 64, 64]          --\n│    └─Sequential: 2-16                  [8, 128, 64, 64]          --\n│    │    └─ConvTranspose2d: 3-39        [8, 128, 64, 64]          1,048,576\n│    │    └─BatchNorm2d: 3-40            [8, 128, 64, 64]          256\n│    │    └─ReLU: 3-41                   [8, 128, 64, 64]          --\n│    │    └─Identity: 3-42               [8, 128, 64, 64]          --\n├─GeneratorBlockUp: 1-15                 [8, 64, 128, 128]         --\n│    └─Sequential: 2-17                  [8, 64, 128, 128]         --\n│    │    └─ConvTranspose2d: 3-43        [8, 64, 128, 128]         262,144\n│    │    └─BatchNorm2d: 3-44            [8, 64, 128, 128]         128\n│    │    └─ReLU: 3-45                   [8, 64, 128, 128]         --\n│    │    └─Identity: 3-46               [8, 64, 128, 128]         --\n├─Sequential: 1-16                       [8, 3, 256, 256]          --\n│    └─ConvTranspose2d: 2-18             [8, 3, 256, 256]          6,147\n│    └─Tanh: 2-19                        [8, 3, 256, 256]          --\n==========================================================================================\nTotal params: 54,414,531\nTrainable params: 54,414,531\nNon-trainable params: 0\nTotal mult-adds (G): 145.13\n==========================================================================================\nInput size (MB): 6.29\nForward/backward pass size (MB): 459.83\nParams size (MB): 217.66\nEstimated Total Size (MB): 683.78\n=========================================================================================="
     },
     "execution_count": 7,
     "metadata": {},
     "output_type": "execute_result"
    }
   ],
   "source": [
    "import torchinfo\n",
    "torchinfo.summary(model, input_size=(8, 3, 256, 256))"
   ],
   "metadata": {
    "collapsed": false,
    "pycharm": {
     "name": "#%%\n"
    }
   }
  },
  {
   "cell_type": "code",
   "execution_count": null,
   "outputs": [],
   "source": [
    "path_dogs = '../../dataset/test_set/test_set/dogs'\n",
    "path_cats = '../../dataset/test_set/test_set/cats'"
   ],
   "metadata": {
    "collapsed": false,
    "pycharm": {
     "name": "#%%\n"
    }
   }
  },
  {
   "cell_type": "code",
   "execution_count": null,
   "outputs": [],
   "source": [
    "img_path = os.path.join(path_dogs, os.listdir(path_dogs)[0])"
   ],
   "metadata": {
    "collapsed": false,
    "pycharm": {
     "name": "#%%\n"
    }
   }
  },
  {
   "cell_type": "code",
   "execution_count": null,
   "outputs": [],
   "source": [
    "formatting = A.Sequential([\n",
    "    A.Normalize((0.5, 0.5, 0.5), (0.5, 0.5, 0.5)),\n",
    "    ToTensorV2()\n",
    "])"
   ],
   "metadata": {
    "collapsed": false,
    "pycharm": {
     "name": "#%%\n"
    }
   }
  },
  {
   "cell_type": "code",
   "execution_count": null,
   "outputs": [],
   "source": [
    "for i in tqdm(os.listdir(path_dogs)):\n",
    "    if i != '_DS_Store':\n",
    "        img_path = os.path.join(path_dogs, i)\n",
    "        image = Image.open(img_path)\n",
    "        orig = image.resize((256, 256))\n",
    "        orig.save('temp.jpeg', 'JPEG', quality=5)\n",
    "        bad_image = Image.open('temp.jpeg')\n",
    "        format_image = formatting(image=np.asarray(bad_image))['image'].to(device)\n",
    "        with torch.no_grad():\n",
    "            res_image = model(format_image.unsqueeze(0)).detach().cpu()\n",
    "        save_image((res_image*0.5+0.5).abs(), os.path.join('dogs_refactored/', i))\n",
    "        orig.save(os.path.join('dogs_orig/', i))\n",
    "        bad_image.save(os.path.join('dogs_bad/', i))\n",
    "\n",
    "for i in tqdm(os.listdir(path_cats)):\n",
    "    if i != '_DS_Store':\n",
    "        img_path = os.path.join(path_cats, i)\n",
    "        image = Image.open(img_path)\n",
    "        orig = image.resize((256, 256))\n",
    "        orig.save('temp.jpeg', 'JPEG', quality=5)\n",
    "        bad_image = Image.open('temp.jpeg')\n",
    "        format_image = formatting(image=np.asarray(bad_image))['image'].to(device)\n",
    "        with torch.no_grad():\n",
    "            res_image = model(format_image.unsqueeze(0)).detach().cpu()\n",
    "        save_image((res_image*0.5+0.5).abs(), os.path.join('cats_refactored/', i))\n",
    "        orig.save(os.path.join('cats_orig/', i))\n",
    "        bad_image.save(os.path.join('cats_bad/', i))"
   ],
   "metadata": {
    "collapsed": false,
    "pycharm": {
     "name": "#%%\n"
    }
   }
  },
  {
   "cell_type": "code",
   "execution_count": null,
   "outputs": [],
   "source": [],
   "metadata": {
    "collapsed": false,
    "pycharm": {
     "name": "#%%\n"
    }
   }
  },
  {
   "cell_type": "code",
   "execution_count": null,
   "outputs": [],
   "source": [],
   "metadata": {
    "collapsed": false,
    "pycharm": {
     "name": "#%%\n"
    }
   }
  }
 ],
 "metadata": {
  "kernelspec": {
   "display_name": "Python 3",
   "language": "python",
   "name": "python3"
  },
  "language_info": {
   "codemirror_mode": {
    "name": "ipython",
    "version": 2
   },
   "file_extension": ".py",
   "mimetype": "text/x-python",
   "name": "python",
   "nbconvert_exporter": "python",
   "pygments_lexer": "ipython2",
   "version": "2.7.6"
  }
 },
 "nbformat": 4,
 "nbformat_minor": 0
}