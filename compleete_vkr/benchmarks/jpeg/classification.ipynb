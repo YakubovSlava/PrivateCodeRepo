{
 "cells": [
  {
   "cell_type": "code",
   "execution_count": 1,
   "outputs": [],
   "source": [
    "import torch\n",
    "from torchvision.models import vgg19\n",
    "from torch.utils.data import Dataset, DataLoader\n",
    "import os\n",
    "import pandas as pd\n",
    "from torch import nn\n",
    "from PIL import Image\n",
    "import numpy as np\n",
    "import albumentations as A\n",
    "from albumentations.pytorch import ToTensorV2\n",
    "from tqdm import tqdm"
   ],
   "metadata": {
    "collapsed": false,
    "pycharm": {
     "name": "#%%\n"
    }
   }
  },
  {
   "cell_type": "code",
   "execution_count": 2,
   "outputs": [],
   "source": [
    "model = vgg19(pretrained=True)\n",
    "model.classifier[6] = nn.Linear(4096, 1)"
   ],
   "metadata": {
    "collapsed": false,
    "pycharm": {
     "name": "#%%\n"
    }
   }
  },
  {
   "cell_type": "code",
   "execution_count": 2,
   "outputs": [],
   "source": [],
   "metadata": {
    "collapsed": false,
    "pycharm": {
     "name": "#%%\n"
    }
   }
  },
  {
   "cell_type": "code",
   "execution_count": 3,
   "outputs": [],
   "source": [
    "compleete_dataset = pd.DataFrame()"
   ],
   "metadata": {
    "collapsed": false,
    "pycharm": {
     "name": "#%%\n"
    }
   }
  },
  {
   "cell_type": "code",
   "execution_count": 4,
   "outputs": [],
   "source": [
    "cats = [os.path.join('../../dataset/training_set/training_set/cats', x) for x in os.listdir('../../dataset/training_set/training_set/cats')]\n",
    "dogs = [os.path.join('../../dataset/training_set/training_set/dogs', x) for x in os.listdir('../../dataset/training_set/training_set/dogs')]"
   ],
   "metadata": {
    "collapsed": false,
    "pycharm": {
     "name": "#%%\n"
    }
   }
  },
  {
   "cell_type": "code",
   "execution_count": 4,
   "outputs": [],
   "source": [],
   "metadata": {
    "collapsed": false,
    "pycharm": {
     "name": "#%%\n"
    }
   }
  },
  {
   "cell_type": "code",
   "execution_count": 5,
   "outputs": [
    {
     "name": "stderr",
     "output_type": "stream",
     "text": [
      "C:\\Users\\yakub\\AppData\\Local\\Temp\\ipykernel_1308\\2438378232.py:7: FutureWarning: The frame.append method is deprecated and will be removed from pandas in a future version. Use pandas.concat instead.\n",
      "  result_dataset = dogs_frame.append(cats_frame).reset_index(drop=True)\n"
     ]
    }
   ],
   "source": [
    "dogs_frame = pd.DataFrame(dogs, columns=['path'])\n",
    "dogs_frame['label'] = 1\n",
    "\n",
    "cats_frame = pd.DataFrame(cats, columns=['path'])\n",
    "cats_frame['label'] = 0\n",
    "\n",
    "result_dataset = dogs_frame.append(cats_frame).reset_index(drop=True)"
   ],
   "metadata": {
    "collapsed": false,
    "pycharm": {
     "name": "#%%\n"
    }
   }
  },
  {
   "cell_type": "code",
   "execution_count": 6,
   "outputs": [],
   "source": [
    "train_sample = result_dataset.sample(int(0.75*len(result_dataset)))\n",
    "test_sample = result_dataset.drop(train_sample.index).reset_index(drop=True)\n",
    "train_sample = train_sample.reset_index(drop=True)"
   ],
   "metadata": {
    "collapsed": false,
    "pycharm": {
     "name": "#%%\n"
    }
   }
  },
  {
   "cell_type": "code",
   "execution_count": 7,
   "outputs": [],
   "source": [
    "test_imgs = test_sample.path.apply(lambda x: x.split('/')[1])"
   ],
   "metadata": {
    "collapsed": false,
    "pycharm": {
     "name": "#%%\n"
    }
   }
  },
  {
   "cell_type": "code",
   "execution_count": 7,
   "outputs": [],
   "source": [],
   "metadata": {
    "collapsed": false,
    "pycharm": {
     "name": "#%%\n"
    }
   }
  },
  {
   "cell_type": "code",
   "execution_count": 9,
   "outputs": [],
   "source": [
    "class MyDataset(Dataset):\n",
    "    def __init__(self, dataset, train=True):\n",
    "        self.dataset = dataset\n",
    "        self.train = train\n",
    "    def __len__(self):\n",
    "        return(len(self.dataset))\n",
    "\n",
    "    def __getitem__(self, item):\n",
    "        sample = self.dataset.iloc[item]\n",
    "        img_label = sample.label\n",
    "        img_path = sample.path\n",
    "\n",
    "        img = np.asarray(Image.open(img_path))\n",
    "\n",
    "        augumentations = A.Sequential(\n",
    "            [\n",
    "                A.Resize(128, 128),\n",
    "                A.HorizontalFlip(p=0.5) if self.train else A.HorizontalFlip(p=0),\n",
    "                A.ColorJitter(p=0.3) if self.train else A.ColorJitter(p=0),\n",
    "                A.Normalize(),\n",
    "                ToTensorV2()\n",
    "            ]\n",
    "        )\n",
    "\n",
    "        img = augumentations(image=img)['image']\n",
    "        return img, img_label"
   ],
   "metadata": {
    "collapsed": false,
    "pycharm": {
     "name": "#%%\n"
    }
   }
  },
  {
   "cell_type": "code",
   "execution_count": 10,
   "outputs": [],
   "source": [
    "loss_function = nn.BCEWithLogitsLoss()"
   ],
   "metadata": {
    "collapsed": false,
    "pycharm": {
     "name": "#%%\n"
    }
   }
  },
  {
   "cell_type": "code",
   "execution_count": 11,
   "outputs": [],
   "source": [
    "train_dataset = MyDataset(train_sample, train=True)\n",
    "test_datset = MyDataset(test_sample, train=False)\n",
    "\n",
    "train_dataloader = DataLoader(train_dataset, batch_size=16, shuffle=True, drop_last=True)\n",
    "test_dataloader = DataLoader(test_datset, batch_size=16, shuffle=True, drop_last=False)"
   ],
   "metadata": {
    "collapsed": false,
    "pycharm": {
     "name": "#%%\n"
    }
   }
  },
  {
   "cell_type": "code",
   "execution_count": 12,
   "outputs": [],
   "source": [
    "device = 'cuda' if torch.cuda.is_available() else 'cpu'\n",
    "model = vgg19(pretrained=True)\n",
    "model.classifier[6] = nn.Linear(4096, 1)\n",
    "model = model.to(device)\n",
    "num_epochs = 2\n",
    "\n",
    "optimizer = torch.optim.Adam(model.parameters(), lr = 1e-5)\n"
   ],
   "metadata": {
    "collapsed": false,
    "pycharm": {
     "name": "#%%\n"
    }
   }
  },
  {
   "cell_type": "code",
   "execution_count": 13,
   "outputs": [
    {
     "name": "stdout",
     "output_type": "stream",
     "text": [
      "epoch  0\n"
     ]
    },
    {
     "name": "stderr",
     "output_type": "stream",
     "text": [
      "100%|██████████| 375/375 [01:49<00:00,  3.41it/s]\n",
      "100%|██████████| 126/126 [00:27<00:00,  4.64it/s]\n"
     ]
    },
    {
     "name": "stdout",
     "output_type": "stream",
     "text": [
      "train loss:  0.10944142518968632\n",
      "test loss:  0.06700779886402113\n",
      "epoch  1\n"
     ]
    },
    {
     "name": "stderr",
     "output_type": "stream",
     "text": [
      "  6%|▋         | 24/375 [00:04<01:03,  5.56it/s]\n"
     ]
    },
    {
     "ename": "KeyboardInterrupt",
     "evalue": "",
     "output_type": "error",
     "traceback": [
      "\u001B[1;31m---------------------------------------------------------------------------\u001B[0m",
      "\u001B[1;31mKeyboardInterrupt\u001B[0m                         Traceback (most recent call last)",
      "Input \u001B[1;32mIn [13]\u001B[0m, in \u001B[0;36m<cell line: 3>\u001B[1;34m()\u001B[0m\n\u001B[0;32m     18\u001B[0m     loss\u001B[38;5;241m.\u001B[39mbackward()\n\u001B[0;32m     19\u001B[0m     optimizer\u001B[38;5;241m.\u001B[39mstep()\n\u001B[1;32m---> 21\u001B[0m     train_loss \u001B[38;5;241m+\u001B[39m\u001B[38;5;241m=\u001B[39m \u001B[43mloss\u001B[49m\u001B[38;5;241;43m.\u001B[39;49m\u001B[43mitem\u001B[49m\u001B[43m(\u001B[49m\u001B[43m)\u001B[49m\n\u001B[0;32m     23\u001B[0m train_loss\u001B[38;5;241m/\u001B[39m\u001B[38;5;241m=\u001B[39m\u001B[38;5;28mlen\u001B[39m(train_dataloader)\n\u001B[0;32m     24\u001B[0m train_losses\u001B[38;5;241m.\u001B[39mappend(train_loss)\n",
      "\u001B[1;31mKeyboardInterrupt\u001B[0m: "
     ]
    }
   ],
   "source": [
    "train_losses = []\n",
    "test_losses = []\n",
    "for epoch in range(num_epochs):\n",
    "    print('epoch ', epoch)\n",
    "    model.train()\n",
    "\n",
    "    train_loss = 0\n",
    "    test_loss = 0\n",
    "\n",
    "    for img, label in tqdm(train_dataloader):\n",
    "        img = img.to(device)\n",
    "        label = label.to(device).float()\n",
    "\n",
    "        predictions = model(img).squeeze()\n",
    "        loss = loss_function(predictions, label)\n",
    "\n",
    "        model.zero_grad()\n",
    "        loss.backward()\n",
    "        optimizer.step()\n",
    "\n",
    "        train_loss += loss.item()\n",
    "\n",
    "    train_loss/=len(train_dataloader)\n",
    "    train_losses.append(train_loss)\n",
    "\n",
    "    model.eval()\n",
    "    for img, label in tqdm(test_dataloader):\n",
    "        with torch.no_grad():\n",
    "            img = img.to(device)\n",
    "            label = label.to(device).float()\n",
    "            predictions = model(img).squeeze()\n",
    "            loss = loss_function(predictions, label)\n",
    "            test_loss += loss.item()\n",
    "\n",
    "    test_loss /= len(test_dataloader)\n",
    "    test_losses.append(test_loss)\n",
    "\n",
    "    torch.cuda.empty_cache()\n",
    "\n",
    "    print('train loss: ', train_loss)\n",
    "    print('test loss: ', test_loss)\n"
   ],
   "metadata": {
    "collapsed": false,
    "pycharm": {
     "name": "#%%\n"
    }
   }
  },
  {
   "cell_type": "code",
   "execution_count": 14,
   "outputs": [],
   "source": [
    "torch.save(model.state_dict(), 'classificator.pth')"
   ],
   "metadata": {
    "collapsed": false,
    "pycharm": {
     "name": "#%%\n"
    }
   }
  },
  {
   "cell_type": "code",
   "execution_count": 14,
   "outputs": [],
   "source": [],
   "metadata": {
    "collapsed": false,
    "pycharm": {
     "name": "#%%\n"
    }
   }
  },
  {
   "cell_type": "code",
   "execution_count": 15,
   "outputs": [
    {
     "name": "stderr",
     "output_type": "stream",
     "text": [
      "100%|██████████| 126/126 [00:07<00:00, 16.68it/s]\n"
     ]
    }
   ],
   "source": [
    "all_predictions = []\n",
    "all_reals = []\n",
    "model.eval()\n",
    "for img, label in tqdm(test_dataloader):\n",
    "    with torch.no_grad():\n",
    "        img = img.to(device)\n",
    "        label = list(label.numpy())\n",
    "        predictions = list(nn.Sigmoid()(model(img)).squeeze().cpu().detach().numpy())\n",
    "        all_predictions += predictions\n",
    "        all_reals += label\n"
   ],
   "metadata": {
    "collapsed": false,
    "pycharm": {
     "name": "#%%\n"
    }
   }
  },
  {
   "cell_type": "code",
   "execution_count": 16,
   "outputs": [],
   "source": [
    "preds = (np.array(all_predictions)>0.5).astype(int)"
   ],
   "metadata": {
    "collapsed": false,
    "pycharm": {
     "name": "#%%\n"
    }
   }
  },
  {
   "cell_type": "code",
   "execution_count": 17,
   "outputs": [],
   "source": [
    "from sklearn.metrics import classification_report"
   ],
   "metadata": {
    "collapsed": false,
    "pycharm": {
     "name": "#%%\n"
    }
   }
  },
  {
   "cell_type": "code",
   "execution_count": 18,
   "outputs": [
    {
     "name": "stdout",
     "output_type": "stream",
     "text": [
      "              precision    recall  f1-score   support\n",
      "\n",
      "           0       0.98      0.97      0.98      1018\n",
      "           1       0.97      0.98      0.98       984\n",
      "\n",
      "    accuracy                           0.98      2002\n",
      "   macro avg       0.98      0.98      0.98      2002\n",
      "weighted avg       0.98      0.98      0.98      2002\n",
      "\n"
     ]
    }
   ],
   "source": [
    "print(classification_report(all_reals, preds))"
   ],
   "metadata": {
    "collapsed": false,
    "pycharm": {
     "name": "#%%\n"
    }
   }
  },
  {
   "cell_type": "code",
   "execution_count": 19,
   "outputs": [],
   "source": [
    "### Посмотрим на результат классификации на плохом качестве"
   ],
   "metadata": {
    "collapsed": false,
    "pycharm": {
     "name": "#%%\n"
    }
   }
  },
  {
   "cell_type": "code",
   "execution_count": 23,
   "outputs": [
    {
     "name": "stderr",
     "output_type": "stream",
     "text": [
      "C:\\Users\\yakub\\AppData\\Local\\Temp\\ipykernel_1308\\2775868923.py:9: FutureWarning: The frame.append method is deprecated and will be removed from pandas in a future version. Use pandas.concat instead.\n",
      "  result_dataset = dogs_frame.append(cats_frame).reset_index(drop=True)\n"
     ]
    }
   ],
   "source": [
    "cats = [os.path.join('cats_bad/', x) for x in os.listdir('cats_orig/')]\n",
    "dogs = [os.path.join('dogs_bad/', x) for x in os.listdir('dogs_orig/')]\n",
    "dogs_frame = pd.DataFrame(dogs, columns=['path'])\n",
    "dogs_frame['label'] = 1\n",
    "\n",
    "cats_frame = pd.DataFrame(cats, columns=['path'])\n",
    "cats_frame['label'] = 0\n",
    "\n",
    "result_dataset = dogs_frame.append(cats_frame).reset_index(drop=True)\n",
    "\n",
    "val_dataset = MyDataset(result_dataset, train=False)\n",
    "val_dataloader = DataLoader(val_dataset, batch_size=32, shuffle=True, drop_last=False)"
   ],
   "metadata": {
    "collapsed": false,
    "pycharm": {
     "name": "#%%\n"
    }
   }
  },
  {
   "cell_type": "code",
   "execution_count": 23,
   "outputs": [],
   "source": [],
   "metadata": {
    "collapsed": false,
    "pycharm": {
     "name": "#%%\n"
    }
   }
  },
  {
   "cell_type": "code",
   "execution_count": 23,
   "outputs": [],
   "source": [],
   "metadata": {
    "collapsed": false,
    "pycharm": {
     "name": "#%%\n"
    }
   }
  },
  {
   "cell_type": "code",
   "execution_count": 24,
   "outputs": [
    {
     "name": "stderr",
     "output_type": "stream",
     "text": [
      "100%|██████████| 64/64 [00:06<00:00, 10.27it/s]"
     ]
    },
    {
     "name": "stdout",
     "output_type": "stream",
     "text": [
      "              precision    recall  f1-score   support\n",
      "\n",
      "           0       0.95      0.67      0.78      1011\n",
      "           1       0.74      0.96      0.84      1012\n",
      "\n",
      "    accuracy                           0.82      2023\n",
      "   macro avg       0.85      0.82      0.81      2023\n",
      "weighted avg       0.85      0.82      0.81      2023\n",
      "\n"
     ]
    },
    {
     "name": "stderr",
     "output_type": "stream",
     "text": [
      "\n"
     ]
    }
   ],
   "source": [
    "all_predictions = []\n",
    "all_reals = []\n",
    "model.eval()\n",
    "for img, label in tqdm(val_dataloader):\n",
    "    with torch.no_grad():\n",
    "        img = img.to(device)\n",
    "        label = list(label.numpy())\n",
    "        predictions = list(nn.Sigmoid()(model(img)).squeeze().cpu().detach().numpy())\n",
    "        all_predictions += predictions\n",
    "        all_reals += label\n",
    "\n",
    "preds = (np.array(all_predictions)>0.5).astype(int)\n",
    "print(classification_report(all_reals, preds))"
   ],
   "metadata": {
    "collapsed": false,
    "pycharm": {
     "name": "#%%\n"
    }
   }
  },
  {
   "cell_type": "code",
   "execution_count": 25,
   "outputs": [],
   "source": [
    "### Посмотрим на результат классификации на восстановленном качестве"
   ],
   "metadata": {
    "collapsed": false,
    "pycharm": {
     "name": "#%%\n"
    }
   }
  },
  {
   "cell_type": "code",
   "execution_count": 26,
   "outputs": [
    {
     "name": "stderr",
     "output_type": "stream",
     "text": [
      "C:\\Users\\yakub\\AppData\\Local\\Temp\\ipykernel_1308\\876080052.py:9: FutureWarning: The frame.append method is deprecated and will be removed from pandas in a future version. Use pandas.concat instead.\n",
      "  result_dataset = dogs_frame.append(cats_frame).reset_index(drop=True)\n"
     ]
    }
   ],
   "source": [
    "cats = [os.path.join('cats_refactored/', x) for x in os.listdir('cats_orig/')]\n",
    "dogs = [os.path.join('dogs_refactored/', x) for x in os.listdir('dogs_orig/')]\n",
    "dogs_frame = pd.DataFrame(dogs, columns=['path'])\n",
    "dogs_frame['label'] = 1\n",
    "\n",
    "cats_frame = pd.DataFrame(cats, columns=['path'])\n",
    "cats_frame['label'] = 0\n",
    "\n",
    "result_dataset = dogs_frame.append(cats_frame).reset_index(drop=True)\n",
    "\n",
    "val_dataset = MyDataset(result_dataset, train=False)\n",
    "val_dataloader = DataLoader(val_dataset, batch_size=32, shuffle=True, drop_last=False)"
   ],
   "metadata": {
    "collapsed": false,
    "pycharm": {
     "name": "#%%\n"
    }
   }
  },
  {
   "cell_type": "code",
   "execution_count": 27,
   "outputs": [
    {
     "name": "stderr",
     "output_type": "stream",
     "text": [
      "100%|██████████| 64/64 [00:06<00:00,  9.96it/s]"
     ]
    },
    {
     "name": "stdout",
     "output_type": "stream",
     "text": [
      "              precision    recall  f1-score   support\n",
      "\n",
      "           0       0.91      0.94      0.92      1011\n",
      "           1       0.94      0.90      0.92      1012\n",
      "\n",
      "    accuracy                           0.92      2023\n",
      "   macro avg       0.92      0.92      0.92      2023\n",
      "weighted avg       0.92      0.92      0.92      2023\n",
      "\n"
     ]
    },
    {
     "name": "stderr",
     "output_type": "stream",
     "text": [
      "\n"
     ]
    }
   ],
   "source": [
    "all_predictions = []\n",
    "all_reals = []\n",
    "model.eval()\n",
    "for img, label in tqdm(val_dataloader):\n",
    "    with torch.no_grad():\n",
    "        img = img.to(device)\n",
    "        label = list(label.numpy())\n",
    "        predictions = list(nn.Sigmoid()(model(img)).squeeze().cpu().detach().numpy())\n",
    "        all_predictions += predictions\n",
    "        all_reals += label\n",
    "\n",
    "preds = (np.array(all_predictions)>0.5).astype(int)\n",
    "print(classification_report(all_reals, preds))"
   ],
   "metadata": {
    "collapsed": false,
    "pycharm": {
     "name": "#%%\n"
    }
   }
  },
  {
   "cell_type": "code",
   "execution_count": null,
   "outputs": [],
   "source": [],
   "metadata": {
    "collapsed": false,
    "pycharm": {
     "name": "#%%\n"
    }
   }
  }
 ],
 "metadata": {
  "kernelspec": {
   "display_name": "Python 3",
   "language": "python",
   "name": "python3"
  },
  "language_info": {
   "codemirror_mode": {
    "name": "ipython",
    "version": 2
   },
   "file_extension": ".py",
   "mimetype": "text/x-python",
   "name": "python",
   "nbconvert_exporter": "python",
   "pygments_lexer": "ipython2",
   "version": "2.7.6"
  }
 },
 "nbformat": 4,
 "nbformat_minor": 0
}