{
 "cells": [
  {
   "cell_type": "code",
   "execution_count": 1,
   "outputs": [],
   "source": [
    "import torch\n",
    "from piq import psnr, multi_scale_ssim, ssim\n",
    "import os\n",
    "from torchvision.io import read_image\n",
    "import numpy as np\n",
    "from tqdm import tqdm"
   ],
   "metadata": {
    "collapsed": false,
    "pycharm": {
     "name": "#%%\n"
    }
   }
  },
  {
   "cell_type": "code",
   "execution_count": 2,
   "outputs": [],
   "source": [
    "cats_orig_path = 'cats_orig/'\n",
    "dogs_orig_path = 'dogs_orig/'\n",
    "all_pathes_orig = [os.path.join(cats_orig_path, x) for x in os.listdir(cats_orig_path)] + [os.path.join(dogs_orig_path, x) for x in os.listdir(dogs_orig_path)]"
   ],
   "metadata": {
    "collapsed": false,
    "pycharm": {
     "name": "#%%\n"
    }
   }
  },
  {
   "cell_type": "code",
   "execution_count": 3,
   "outputs": [],
   "source": [
    "cats_bad_path = 'cats_bicubic/'\n",
    "dogs_bad_path = 'dogs_bicubic/'\n",
    "all_pathes_bad = [os.path.join(cats_bad_path, x) for x in os.listdir(cats_bad_path)] + [os.path.join(dogs_bad_path, x) for x in os.listdir(dogs_bad_path)]\n",
    "\n",
    "cats_refactored_path = 'cats_refactored/'\n",
    "dogs_refactored_path = 'dogs_refactored/'\n",
    "all_pathes_refactored = [os.path.join(cats_refactored_path, x) for x in os.listdir(cats_refactored_path)] + [os.path.join(dogs_refactored_path, x) for x in os.listdir(dogs_refactored_path)]"
   ],
   "metadata": {
    "collapsed": false,
    "pycharm": {
     "name": "#%%\n"
    }
   }
  },
  {
   "cell_type": "code",
   "execution_count": 4,
   "outputs": [
    {
     "name": "stderr",
     "output_type": "stream",
     "text": [
      "100%|██████████| 2023/2023 [01:20<00:00, 25.06it/s]\n"
     ]
    }
   ],
   "source": [
    "psnrs = []\n",
    "ssims = []\n",
    "for i in tqdm(range(len(all_pathes_refactored))):\n",
    "    image_orig = read_image(all_pathes_orig[i])\n",
    "    image_metric = read_image(all_pathes_refactored[i])\n",
    "    psnrs.append(psnr(image_metric.unsqueeze(0)/255, image_orig.unsqueeze(0)/255).item())\n",
    "    ssims.append(ssim(image_metric.unsqueeze(0)/255, image_orig.unsqueeze(0)/255).item())"
   ],
   "metadata": {
    "collapsed": false,
    "pycharm": {
     "name": "#%%\n"
    }
   }
  },
  {
   "cell_type": "code",
   "execution_count": 5,
   "outputs": [
    {
     "data": {
      "text/plain": "27.2649436018223"
     },
     "execution_count": 5,
     "metadata": {},
     "output_type": "execute_result"
    }
   ],
   "source": [
    "np.mean(psnrs)"
   ],
   "metadata": {
    "collapsed": false,
    "pycharm": {
     "name": "#%%\n"
    }
   }
  },
  {
   "cell_type": "code",
   "execution_count": 6,
   "outputs": [
    {
     "data": {
      "text/plain": "0.8150807068569497"
     },
     "execution_count": 6,
     "metadata": {},
     "output_type": "execute_result"
    }
   ],
   "source": [
    "np.mean(ssims)"
   ],
   "metadata": {
    "collapsed": false,
    "pycharm": {
     "name": "#%%\n"
    }
   }
  },
  {
   "cell_type": "code",
   "execution_count": 6,
   "outputs": [],
   "source": [],
   "metadata": {
    "collapsed": false,
    "pycharm": {
     "name": "#%%\n"
    }
   }
  },
  {
   "cell_type": "code",
   "execution_count": 7,
   "outputs": [
    {
     "name": "stderr",
     "output_type": "stream",
     "text": [
      "100%|██████████| 2023/2023 [01:19<00:00, 25.29it/s]\n"
     ]
    }
   ],
   "source": [
    "psnrs = []\n",
    "ssims = []\n",
    "for i in tqdm(range(len(all_pathes_bad))):\n",
    "    image_orig = read_image(all_pathes_orig[i])\n",
    "    image_metric = read_image(all_pathes_bad[i])\n",
    "    psnrs.append(psnr(image_metric.unsqueeze(0)/255, image_orig.unsqueeze(0)/255).item())\n",
    "    ssims.append(ssim(image_metric.unsqueeze(0)/255, image_orig.unsqueeze(0)/255).item())"
   ],
   "metadata": {
    "collapsed": false,
    "pycharm": {
     "name": "#%%\n"
    }
   }
  },
  {
   "cell_type": "code",
   "execution_count": 8,
   "outputs": [
    {
     "data": {
      "text/plain": "27.313499916913894"
     },
     "execution_count": 8,
     "metadata": {},
     "output_type": "execute_result"
    }
   ],
   "source": [
    "np.mean(psnrs)"
   ],
   "metadata": {
    "collapsed": false,
    "pycharm": {
     "name": "#%%\n"
    }
   }
  },
  {
   "cell_type": "code",
   "execution_count": 9,
   "outputs": [
    {
     "data": {
      "text/plain": "0.7638028757264576"
     },
     "execution_count": 9,
     "metadata": {},
     "output_type": "execute_result"
    }
   ],
   "source": [
    "np.mean(ssims)"
   ],
   "metadata": {
    "collapsed": false,
    "pycharm": {
     "name": "#%%\n"
    }
   }
  },
  {
   "cell_type": "code",
   "execution_count": 10,
   "outputs": [
    {
     "name": "stderr",
     "output_type": "stream",
     "text": [
      "100%|██████████| 2023/2023 [01:15<00:00, 26.92it/s]"
     ]
    },
    {
     "name": "stdout",
     "output_type": "stream",
     "text": [
      "28.755184050073026 0.7957514431060568\n"
     ]
    },
    {
     "name": "stderr",
     "output_type": "stream",
     "text": [
      "\n"
     ]
    }
   ],
   "source": [
    "cats_bad_path = 'cats_bilinear/'\n",
    "dogs_bad_path = 'dogs_bilinear/'\n",
    "all_pathes_bad = [os.path.join(cats_bad_path, x) for x in os.listdir(cats_bad_path)] + [os.path.join(dogs_bad_path, x) for x in os.listdir(dogs_bad_path)]\n",
    "psnrs = []\n",
    "ssims = []\n",
    "for i in tqdm(range(len(all_pathes_bad))):\n",
    "    image_orig = read_image(all_pathes_orig[i])\n",
    "    image_metric = read_image(all_pathes_bad[i])\n",
    "    psnrs.append(psnr(image_metric.unsqueeze(0)/255, image_orig.unsqueeze(0)/255).item())\n",
    "    ssims.append(ssim(image_metric.unsqueeze(0)/255, image_orig.unsqueeze(0)/255).item())\n",
    "\n",
    "print(np.mean(psnrs), np.mean(ssims))"
   ],
   "metadata": {
    "collapsed": false,
    "pycharm": {
     "name": "#%%\n"
    }
   }
  },
  {
   "cell_type": "code",
   "execution_count": null,
   "outputs": [],
   "source": [],
   "metadata": {
    "collapsed": false,
    "pycharm": {
     "name": "#%%\n"
    }
   }
  }
 ],
 "metadata": {
  "kernelspec": {
   "display_name": "Python 3",
   "language": "python",
   "name": "python3"
  },
  "language_info": {
   "codemirror_mode": {
    "name": "ipython",
    "version": 2
   },
   "file_extension": ".py",
   "mimetype": "text/x-python",
   "name": "python",
   "nbconvert_exporter": "python",
   "pygments_lexer": "ipython2",
   "version": "2.7.6"
  }
 },
 "nbformat": 4,
 "nbformat_minor": 0
}