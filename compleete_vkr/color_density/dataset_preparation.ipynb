{
 "cells": [
  {
   "cell_type": "code",
   "execution_count": 1,
   "outputs": [],
   "source": [
    "from PIL import Image\n",
    "import os\n",
    "from tqdm import tqdm"
   ],
   "metadata": {
    "collapsed": false,
    "pycharm": {
     "name": "#%%\n"
    }
   }
  },
  {
   "cell_type": "code",
   "execution_count": 7,
   "outputs": [
    {
     "name": "stderr",
     "output_type": "stream",
     "text": [
      "100%|██████████| 4000/4000 [00:14<00:00, 269.98it/s]\n",
      "100%|██████████| 4005/4005 [00:14<00:00, 267.20it/s]\n",
      "100%|██████████| 1011/1011 [00:03<00:00, 255.97it/s]\n",
      "100%|██████████| 1012/1012 [00:03<00:00, 254.84it/s]\n"
     ]
    }
   ],
   "source": [
    "for path in ['training_set/training_set/', 'test_set/test_set/']:\n",
    "    for group in ['cats', 'dogs']:\n",
    "        compleete_path = os.path.join(path, group)\n",
    "        for i in tqdm(os.listdir(compleete_path)):\n",
    "            im = Image.open(os.path.join(compleete_path, i))\n",
    "            if path == 'training_set/training_set/':\n",
    "                im.save(os.path.join('pr_dataset/train', i))\n",
    "            else:\n",
    "                im.save(os.path.join('pr_dataset/val', i))"
   ],
   "metadata": {
    "collapsed": false,
    "pycharm": {
     "name": "#%%\n"
    }
   }
  },
  {
   "cell_type": "code",
   "execution_count": 5,
   "outputs": [
    {
     "data": {
      "text/plain": "'training_set/training_set/cats'"
     },
     "execution_count": 5,
     "metadata": {},
     "output_type": "execute_result"
    }
   ],
   "source": [
    "compleete_path"
   ],
   "metadata": {
    "collapsed": false,
    "pycharm": {
     "name": "#%%\n"
    }
   }
  },
  {
   "cell_type": "code",
   "execution_count": null,
   "outputs": [],
   "source": [],
   "metadata": {
    "collapsed": false,
    "pycharm": {
     "name": "#%%\n"
    }
   }
  },
  {
   "cell_type": "code",
   "execution_count": null,
   "outputs": [],
   "source": [],
   "metadata": {
    "collapsed": false,
    "pycharm": {
     "name": "#%%\n"
    }
   }
  },
  {
   "cell_type": "code",
   "execution_count": null,
   "outputs": [],
   "source": [],
   "metadata": {
    "collapsed": false,
    "pycharm": {
     "name": "#%%\n"
    }
   }
  },
  {
   "cell_type": "code",
   "execution_count": null,
   "outputs": [],
   "source": [],
   "metadata": {
    "collapsed": false,
    "pycharm": {
     "name": "#%%\n"
    }
   }
  },
  {
   "cell_type": "code",
   "execution_count": null,
   "outputs": [],
   "source": [],
   "metadata": {
    "collapsed": false,
    "pycharm": {
     "name": "#%%\n"
    }
   }
  },
  {
   "cell_type": "code",
   "execution_count": 11,
   "outputs": [],
   "source": [
    "train_path = '../finished_dataset/train/dataraw/hires'\n",
    "test_path = '../finished_dataset/valid/dataraw/hires'\n",
    "train = os.listdir('../finished_dataset/train/dataraw/hires')\n",
    "test = os.listdir('../finished_dataset/valid/dataraw/hires')"
   ],
   "metadata": {
    "collapsed": false,
    "pycharm": {
     "name": "#%%\n"
    }
   }
  },
  {
   "cell_type": "code",
   "execution_count": 47,
   "outputs": [],
   "source": [
    "image = Image.open(os.path.join(train_path, train[1]))"
   ],
   "metadata": {
    "collapsed": false,
    "pycharm": {
     "name": "#%%\n"
    }
   }
  },
  {
   "cell_type": "code",
   "execution_count": 52,
   "outputs": [],
   "source": [
    "if not os.path.isdir('dataset_train'):\n",
    "    os.makedirs('dataset_train')\n",
    "\n",
    "if not os.path.isdir('dataset_test'):\n",
    "    os.makedirs('dataset_test')"
   ],
   "metadata": {
    "collapsed": false,
    "pycharm": {
     "name": "#%%\n"
    }
   }
  },
  {
   "cell_type": "code",
   "execution_count": null,
   "outputs": [
    {
     "name": "stderr",
     "output_type": "stream",
     "text": [
      " 36%|███▌      | 1476/4128 [08:29<15:39,  2.82it/s]  "
     ]
    }
   ],
   "source": [
    "for im in tqdm(train):\n",
    "    try:\n",
    "        image = Image.open(os.path.join(train_path, im))\n",
    "        image.save(os.path.join('dataset_train', im.split('.')[0]+'_good.png'))\n",
    "        image.quantize(colors=128).save(os.path.join('dataset_train', im.split('.')[0]+'_bad.png'))\n",
    "    except:\n",
    "        continue\n",
    "\n",
    "\n",
    "for im in tqdm(test):\n",
    "    try:\n",
    "        image = Image.open(os.path.join(test_path, im))\n",
    "        image.save(os.path.join('dataset_test', im.split('.')[0]+'_good.png'))\n",
    "        image.quantize(colors=128).save(os.path.join('dataset_test', im.split('.')[0]+'_bad.png'))\n",
    "    except:\n",
    "        continue"
   ],
   "metadata": {
    "collapsed": false,
    "pycharm": {
     "name": "#%%\n",
     "is_executing": true
    }
   }
  },
  {
   "cell_type": "code",
   "execution_count": null,
   "outputs": [],
   "source": [],
   "metadata": {
    "collapsed": false,
    "pycharm": {
     "name": "#%%\n"
    }
   }
  }
 ],
 "metadata": {
  "kernelspec": {
   "display_name": "Python 3",
   "language": "python",
   "name": "python3"
  },
  "language_info": {
   "codemirror_mode": {
    "name": "ipython",
    "version": 2
   },
   "file_extension": ".py",
   "mimetype": "text/x-python",
   "name": "python",
   "nbconvert_exporter": "python",
   "pygments_lexer": "ipython2",
   "version": "2.7.6"
  }
 },
 "nbformat": 4,
 "nbformat_minor": 0
}