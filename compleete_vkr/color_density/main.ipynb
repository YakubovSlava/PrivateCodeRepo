{
 "cells": [
  {
   "cell_type": "code",
   "execution_count": 1,
   "outputs": [],
   "source": [
    "import matplotlib.pyplot as plt\n",
    "import torch\n",
    "from torch import nn\n",
    "import os\n",
    "from PIL import Image\n",
    "from torch.utils.data import DataLoader, Dataset\n",
    "import albumentations as A\n",
    "from albumentations.pytorch import ToTensorV2\n",
    "import cv2\n",
    "import numpy as np\n",
    "from torchvision.utils import save_image\n",
    "from tqdm import tqdm\n",
    "from torchvision.models import vgg19"
   ],
   "metadata": {
    "collapsed": false,
    "pycharm": {
     "name": "#%%\n"
    }
   }
  },
  {
   "cell_type": "code",
   "execution_count": 2,
   "outputs": [],
   "source": [
    "class DiscriminatorBlock(nn.Module):\n",
    "    def __init__(\n",
    "            self,\n",
    "            in_channels: int,\n",
    "            out_channels: int,\n",
    "            kernel_size: int=4,\n",
    "            stride: int= 2\n",
    "    ):\n",
    "        super().__init__()\n",
    "        self.block = nn.Sequential(\n",
    "            nn.Conv2d(\n",
    "                in_channels=in_channels,\n",
    "                out_channels=out_channels,\n",
    "                kernel_size=kernel_size,\n",
    "                stride=stride,\n",
    "                bias=False,\n",
    "                padding_mode='reflect'\n",
    "            ),\n",
    "            nn.BatchNorm2d(num_features=out_channels),\n",
    "            nn.LeakyReLU(0.2)\n",
    "        )\n",
    "\n",
    "    def forward(self, x):\n",
    "        return self.block(x)"
   ],
   "metadata": {
    "collapsed": false,
    "pycharm": {
     "name": "#%%\n"
    }
   }
  },
  {
   "cell_type": "code",
   "execution_count": 3,
   "outputs": [],
   "source": [
    "class Discriminator(nn.Module):\n",
    "    def __init__(\n",
    "            self,\n",
    "            in_channels: int=3,\n",
    "            kernel_size: int=4,\n",
    "            stride: int=2,\n",
    "            padding: int=1\n",
    "    ):\n",
    "        super().__init__()\n",
    "        self.initial = nn.Sequential(\n",
    "            nn.Conv2d(\n",
    "                in_channels = in_channels*2,\n",
    "                out_channels = 64,\n",
    "                kernel_size = kernel_size,\n",
    "                stride = stride,\n",
    "                padding = padding,\n",
    "                padding_mode = 'reflect'\n",
    "            )\n",
    "        )\n",
    "        self.conv1 = DiscriminatorBlock(64, 128, kernel_size, 2)\n",
    "        self.conv2 = DiscriminatorBlock(128, 256, kernel_size, 2)\n",
    "        self.conv3 = DiscriminatorBlock(256, 512, kernel_size, 1)\n",
    "        self.final = nn.Conv2d(in_channels=512, out_channels=1, kernel_size=kernel_size, stride=1,\n",
    "                               padding=1, padding_mode='reflect')\n",
    "\n",
    "        self.model = nn.Sequential(\n",
    "            self.initial, self.conv1, self.conv2, self.conv3, self.final\n",
    "        )\n",
    "\n",
    "    def forward(self, x, y):\n",
    "        x = torch.cat((x, y), dim=1)\n",
    "        return self.model(x)"
   ],
   "metadata": {
    "collapsed": false,
    "pycharm": {
     "name": "#%%\n"
    }
   }
  },
  {
   "cell_type": "code",
   "execution_count": 4,
   "outputs": [],
   "source": [
    "def test_discriminator():\n",
    "    a = Discriminator()\n",
    "    img = torch.ones(10, 3, 256, 256)\n",
    "    with torch.no_grad():\n",
    "        print(a.forward(img, img).shape)"
   ],
   "metadata": {
    "collapsed": false,
    "pycharm": {
     "name": "#%%\n"
    }
   }
  },
  {
   "cell_type": "code",
   "execution_count": 5,
   "outputs": [
    {
     "name": "stdout",
     "output_type": "stream",
     "text": [
      "torch.Size([10, 1, 26, 26])\n"
     ]
    }
   ],
   "source": [
    "test_discriminator()"
   ],
   "metadata": {
    "collapsed": false,
    "pycharm": {
     "name": "#%%\n"
    }
   }
  },
  {
   "cell_type": "code",
   "execution_count": 6,
   "outputs": [],
   "source": [
    "class GeneratorBlockDown(nn.Module):\n",
    "    def __init__(\n",
    "            self,\n",
    "            in_channels: int,\n",
    "            out_channels: int\n",
    "    ):\n",
    "        super().__init__()\n",
    "\n",
    "        self.block = nn.Sequential(\n",
    "            nn.Conv2d(\n",
    "                in_channels=in_channels,\n",
    "                out_channels=out_channels,\n",
    "                kernel_size=4,\n",
    "                stride=2,\n",
    "                padding=1,\n",
    "                padding_mode='reflect',\n",
    "                bias=False\n",
    "            ),\n",
    "            nn.BatchNorm2d(out_channels),\n",
    "            nn.LeakyReLU(0.2)\n",
    "        )\n",
    "    def forward(self, x):\n",
    "        return self.block(x)"
   ],
   "metadata": {
    "collapsed": false,
    "pycharm": {
     "name": "#%%\n"
    }
   }
  },
  {
   "cell_type": "code",
   "execution_count": 7,
   "outputs": [],
   "source": [
    "class GeneratorBlockUp(nn.Module):\n",
    "    def __init__(\n",
    "            self,\n",
    "            in_channels: int,\n",
    "            out_channels: int,\n",
    "            dropout: bool\n",
    "    ):\n",
    "        super().__init__()\n",
    "        self.block = nn.Sequential(\n",
    "            nn.ConvTranspose2d(\n",
    "                in_channels=in_channels,\n",
    "                out_channels=out_channels,\n",
    "                kernel_size=4,\n",
    "                stride=2,\n",
    "                padding=1,\n",
    "                bias=False\n",
    "            ),\n",
    "            nn.BatchNorm2d(out_channels),\n",
    "            nn.ReLU(),\n",
    "            nn.Dropout(0.5) if dropout else nn.Identity()\n",
    "        )\n",
    "    def forward(self, x):\n",
    "        return self.block(x)"
   ],
   "metadata": {
    "collapsed": false,
    "pycharm": {
     "name": "#%%\n"
    }
   }
  },
  {
   "cell_type": "code",
   "execution_count": 8,
   "outputs": [],
   "source": [
    "class Generator(nn.Module):\n",
    "    def __init__(self, in_channels: int=3, features: int=64):\n",
    "        super().__init__()\n",
    "        self.initial_down = nn.Sequential(\n",
    "            nn.Conv2d(\n",
    "                in_channels=in_channels,\n",
    "                out_channels=features,\n",
    "                kernel_size=4,\n",
    "                stride=2,\n",
    "                padding=1,\n",
    "                padding_mode='reflect'\n",
    "            ),\n",
    "            nn.LeakyReLU(0.2)\n",
    "        )\n",
    "        self.down1 = GeneratorBlockDown(in_channels=features, out_channels=features*2)\n",
    "        self.down2 = GeneratorBlockDown(in_channels=features*2, out_channels=features*4)\n",
    "        self.down3 = GeneratorBlockDown(in_channels=features*4, out_channels=features*8)\n",
    "        self.down4 = GeneratorBlockDown(in_channels=features*8, out_channels=features*8)\n",
    "        self.down5 = GeneratorBlockDown(in_channels=features*8, out_channels=features*8)\n",
    "        self.down6 = GeneratorBlockDown(in_channels=features*8, out_channels=features*8)\n",
    "\n",
    "        self.bottleneck = nn.Sequential(\n",
    "            nn.Conv2d(in_channels=features*8,\n",
    "                      out_channels=features*8,\n",
    "                      kernel_size=(4,4),\n",
    "                      stride=(2,2),\n",
    "                      padding=(1,1),\n",
    "                      padding_mode=\"reflect\"),\n",
    "            nn.ReLU()\n",
    "        )\n",
    "\n",
    "        self.up1 = GeneratorBlockUp(in_channels=features*8, out_channels=features*8, dropout=True)\n",
    "        self.up2 = GeneratorBlockUp(in_channels=features*8*2, out_channels=features*8, dropout=True)\n",
    "        self.up3 = GeneratorBlockUp(in_channels=features*8*2, out_channels=features*8, dropout=True)\n",
    "        self.up4 = GeneratorBlockUp(in_channels=features*8*2, out_channels=features*8, dropout=False)\n",
    "        self.up5 = GeneratorBlockUp(in_channels=features*8*2, out_channels=features*4, dropout=False)\n",
    "        self.up6 = GeneratorBlockUp(in_channels=features*4*2, out_channels=features*2, dropout=False)\n",
    "        self.up7 = GeneratorBlockUp(in_channels=features*4, out_channels=features, dropout=False)\n",
    "\n",
    "        self.final_up = nn.Sequential(\n",
    "            nn.ConvTranspose2d(\n",
    "                in_channels=features*2,\n",
    "                out_channels=in_channels,\n",
    "                kernel_size=(4,4),\n",
    "                stride=(2,2),\n",
    "                padding=(1,1)\n",
    "            ),\n",
    "            nn.Tanh()\n",
    "        )\n",
    "    def forward(self, x):\n",
    "        d1 = self.initial_down(x)\n",
    "        d2 = self.down1(d1)\n",
    "        d3 = self.down2(d2)\n",
    "        d4 = self.down3(d3)\n",
    "        d5 = self.down4(d4)\n",
    "        d6 = self.down5(d5)\n",
    "        d7 = self.down6(d6)\n",
    "        bottleneck = self.bottleneck(d7)\n",
    "        up1 = self.up1(bottleneck)\n",
    "        # print(d7.shape, up1.shape)\n",
    "        up2 = self.up2(torch.cat([d7, up1], dim=1))\n",
    "        up3 = self.up3(torch.cat([d6, up2], dim=1))\n",
    "        up4 = self.up4(torch.cat([d5, up3], dim=1))\n",
    "        up5 = self.up5(torch.cat([d4, up4], dim=1))\n",
    "        up6 = self.up6(torch.cat([d3, up5], dim=1))\n",
    "        up7 = self.up7(torch.cat([d2, up6], dim=1))\n",
    "        return self.final_up(torch.cat([d1, up7], dim=1))"
   ],
   "metadata": {
    "collapsed": false,
    "pycharm": {
     "name": "#%%\n"
    }
   }
  },
  {
   "cell_type": "code",
   "execution_count": 9,
   "outputs": [],
   "source": [
    "def test_generator():\n",
    "    test_imgs = torch.ones(10, 3, 256, 256)\n",
    "    gen = Generator(3, 64)\n",
    "    print(gen(test_imgs).shape)"
   ],
   "metadata": {
    "collapsed": false,
    "pycharm": {
     "name": "#%%\n"
    }
   }
  },
  {
   "cell_type": "code",
   "execution_count": 10,
   "outputs": [
    {
     "name": "stdout",
     "output_type": "stream",
     "text": [
      "torch.Size([10, 3, 256, 256])\n"
     ]
    }
   ],
   "source": [
    "test_generator()"
   ],
   "metadata": {
    "collapsed": false,
    "pycharm": {
     "name": "#%%\n"
    }
   }
  },
  {
   "cell_type": "code",
   "execution_count": 11,
   "outputs": [],
   "source": [
    "class MyDataset(Dataset):\n",
    "    def __init__(\n",
    "            self,\n",
    "            folder_path,\n",
    "            size : int= 256,\n",
    "            train : bool = True\n",
    "    ):\n",
    "        super().__init__()\n",
    "        image_names = os.listdir(path=folder_path)\n",
    "        self.image_paths = [os.path.join(folder_path, x) for x in image_names]\n",
    "        self.size = size\n",
    "\n",
    "        self.initial_transform = A.Compose(\n",
    "            [\n",
    "                A.Resize(self.size, self.size),\n",
    "                A.HorizontalFlip(p=0.5) if train else None\n",
    "            ]\n",
    "        )\n",
    "\n",
    "        self.final_transform = A.Compose(\n",
    "            [\n",
    "                A.Normalize(mean=[0.5, 0.5, 0.5], std=[0.5, 0.5, 0.5]),\n",
    "                ToTensorV2()\n",
    "            ]\n",
    "        )\n",
    "\n",
    "\n",
    "\n",
    "    def __len__(self):\n",
    "        return len(self.image_paths)\n",
    "\n",
    "    def __getitem__(self, item):\n",
    "        image = cv2.imread(self.image_paths[item])\n",
    "        image = cv2.cvtColor(image, cv2.COLOR_BGR2RGB)\n",
    "        image = self.initial_transform(image=image)['image']\n",
    "\n",
    "        bad_image = np.array(Image.fromarray(image).quantize(8).convert(\"RGB\"))\n",
    "\n",
    "        image = self.final_transform(image=image)['image']\n",
    "        bad_image = self.final_transform(image=bad_image)['image']\n",
    "\n",
    "        return image, bad_image"
   ],
   "metadata": {
    "collapsed": false,
    "pycharm": {
     "name": "#%%\n"
    }
   }
  },
  {
   "cell_type": "code",
   "execution_count": 12,
   "outputs": [],
   "source": [
    "td = MyDataset('pr_dataset/train')"
   ],
   "metadata": {
    "collapsed": false,
    "pycharm": {
     "name": "#%%\n"
    }
   }
  },
  {
   "cell_type": "code",
   "execution_count": 13,
   "outputs": [],
   "source": [
    "class VGGLoss:\n",
    "    def __init__(self):\n",
    "        self.vgg = vgg19(pretrained=True).features[:35].eval().to(device)\n",
    "        for param in self.vgg.parameters():\n",
    "            param.requires_grad = False\n",
    "        self.mse = nn.MSELoss()\n",
    "\n",
    "    def forward(self, x, y):\n",
    "        real_f = self.vgg(x)\n",
    "        gen_f = self.vgg(y)\n",
    "        return self.mse(real_f, gen_f)"
   ],
   "metadata": {
    "collapsed": false,
    "pycharm": {
     "name": "#%%\n"
    }
   }
  },
  {
   "cell_type": "code",
   "execution_count": 14,
   "outputs": [],
   "source": [
    "device = 'cuda' if torch.cuda.is_available() else 'cpu'"
   ],
   "metadata": {
    "collapsed": false,
    "pycharm": {
     "name": "#%%\n"
    }
   }
  },
  {
   "cell_type": "code",
   "execution_count": 15,
   "outputs": [],
   "source": [
    "def save_example(generator, img_path='pr_dataset/val/cat.4003.jpg', res_name=''):\n",
    "\n",
    "\n",
    "    image = cv2.imread(img_path)\n",
    "    image = cv2.cvtColor(image, cv2.COLOR_BGR2RGB)\n",
    "\n",
    "    Image.fromarray(image).resize((256, 256)).quantize(8).convert(\"RGB\").save(f'examples_bad/{res_name+\"_\"}bad.jpg')\n",
    "    Image.fromarray(image).resize((256, 256)).convert(\"RGB\").save(f'examples_orig/{res_name+\"_\"}orig.jpg')\n",
    "    bad_image = np.array(Image.fromarray(image).resize((256, 256)).quantize(8).convert(\"RGB\"))\n",
    "\n",
    "    # return bad_image\n",
    "\n",
    "    final_transform = A.Compose(\n",
    "            [\n",
    "\n",
    "                A.Normalize(mean=[0.5, 0.5, 0.5], std=[0.5, 0.5, 0.5]),\n",
    "                ToTensorV2()\n",
    "            ]\n",
    "        )\n",
    "\n",
    "    q = 1\n",
    "    while 2**q<max(image.shape[:2]):\n",
    "        q+=1\n",
    "\n",
    "    shabl = np.ones((int(2**q), int(2**q), 3))\n",
    "    shabl[:bad_image.shape[0], :bad_image.shape[1], :] = bad_image\n",
    "\n",
    "\n",
    "    with torch.no_grad():\n",
    "        in_img = final_transform(image=shabl)['image'].unsqueeze(0)\n",
    "        image_nn = generator(in_img.to(device)).detach().cpu()[:, :, :bad_image.shape[0], :bad_image.shape[1]]\n",
    "\n",
    "    # print(ttt.shape)\n",
    "    save_image(((image_nn*0.5)+0.5).abs(), f'examples_nn/{res_name+\"_\"}nn.jpg')"
   ],
   "metadata": {
    "collapsed": false,
    "pycharm": {
     "name": "#%%\n"
    }
   }
  },
  {
   "cell_type": "code",
   "execution_count": 16,
   "outputs": [],
   "source": [
    "generator = Generator().to(device)"
   ],
   "metadata": {
    "collapsed": false,
    "pycharm": {
     "name": "#%%\n"
    }
   }
  },
  {
   "cell_type": "code",
   "execution_count": 17,
   "outputs": [],
   "source": [
    "save_example(generator)"
   ],
   "metadata": {
    "collapsed": false,
    "pycharm": {
     "name": "#%%\n"
    }
   }
  },
  {
   "cell_type": "code",
   "execution_count": 18,
   "outputs": [],
   "source": [
    "def save_model_checkpoint(model, optimizer, epoch, filename):\n",
    "    print('saving checkpoint')\n",
    "\n",
    "    checkpoint = {\n",
    "        'state_dict': model.state_dict(),\n",
    "        'optimizer': optimizer.state_dict(),\n",
    "        'epoch': epoch\n",
    "    }\n",
    "    torch.save(checkpoint, filename+f'_{epoch}.pth')"
   ],
   "metadata": {
    "collapsed": false,
    "pycharm": {
     "name": "#%%\n"
    }
   }
  },
  {
   "cell_type": "code",
   "execution_count": 19,
   "outputs": [],
   "source": [
    "def load_checkpoint(model, optimizer, lr, file):\n",
    "\n",
    "    global curr_epoch\n",
    "    print('load checkpoint')\n",
    "    checkpoint = torch.load(file, map_location=device)\n",
    "    model.load_state_dict(checkpoint['state_dict'])\n",
    "    optimizer.load_state_dict(checkpoint['optimizer'])\n",
    "    curr_epoch = checkpoint['epoch']\n",
    "    for param_group in optimizer.param_groups:\n",
    "        param_group['lr'] = lr"
   ],
   "metadata": {
    "collapsed": false,
    "pycharm": {
     "name": "#%%\n"
    }
   }
  },
  {
   "cell_type": "code",
   "execution_count": 19,
   "outputs": [],
   "source": [],
   "metadata": {
    "collapsed": false,
    "pycharm": {
     "name": "#%%\n"
    }
   }
  },
  {
   "cell_type": "code",
   "execution_count": 20,
   "outputs": [],
   "source": [
    "batch_size = 8"
   ],
   "metadata": {
    "collapsed": false,
    "pycharm": {
     "name": "#%%\n"
    }
   }
  },
  {
   "cell_type": "code",
   "execution_count": 21,
   "outputs": [],
   "source": [
    "train_dataset = MyDataset(folder_path='pr_dataset/train', train=True)\n",
    "test_dataset = MyDataset(folder_path='pr_dataset/val', train=False)\n",
    "\n",
    "train_dataloader = DataLoader(train_dataset, batch_size=batch_size, shuffle=True, drop_last=True)\n",
    "test_dataloader = DataLoader(test_dataset, batch_size=batch_size, shuffle=False, drop_last=True)"
   ],
   "metadata": {
    "collapsed": false,
    "pycharm": {
     "name": "#%%\n"
    }
   }
  },
  {
   "cell_type": "markdown",
   "source": [
    "Обучим ган без vgg19"
   ],
   "metadata": {
    "collapsed": false,
    "pycharm": {
     "name": "#%% md\n"
    }
   }
  },
  {
   "cell_type": "code",
   "execution_count": 22,
   "outputs": [],
   "source": [
    "generator = Generator().to(device)\n",
    "discriminator = Discriminator().to(device)"
   ],
   "metadata": {
    "collapsed": false,
    "pycharm": {
     "name": "#%%\n"
    }
   }
  },
  {
   "cell_type": "code",
   "execution_count": 23,
   "outputs": [],
   "source": [
    "gen_optimizer = torch.optim.Adam(generator.parameters(), lr=2e-4, betas=(0.5, 0.999))\n",
    "disc_optimizer = torch.optim.Adam(discriminator.parameters(), lr=2e-4, betas=(0.5, 0.999))"
   ],
   "metadata": {
    "collapsed": false,
    "pycharm": {
     "name": "#%%\n"
    }
   }
  },
  {
   "cell_type": "code",
   "execution_count": 23,
   "outputs": [],
   "source": [],
   "metadata": {
    "collapsed": false,
    "pycharm": {
     "name": "#%%\n"
    }
   }
  },
  {
   "cell_type": "code",
   "execution_count": 24,
   "outputs": [],
   "source": [
    "preload = False\n",
    "curr_epoch = 0\n",
    "if preload:\n",
    "        load_checkpoint(generator, gen_optimizer, 2e-4, 'save_models/pix2pix_gen_10.pth')\n",
    "        load_checkpoint(discriminator, disc_optimizer, 2e-4, 'save_models/pix2pix_disc_10.pth')\n",
    "curr_epoch=0"
   ],
   "metadata": {
    "collapsed": false,
    "pycharm": {
     "name": "#%%\n"
    }
   }
  },
  {
   "cell_type": "code",
   "execution_count": 25,
   "outputs": [],
   "source": [
    "generator.eval()\n",
    "discriminator.eval()\n",
    "save_example(generator)"
   ],
   "metadata": {
    "collapsed": false,
    "pycharm": {
     "name": "#%%\n"
    }
   }
  },
  {
   "cell_type": "code",
   "execution_count": 27,
   "outputs": [],
   "source": [
    "num_epochs=200\n",
    "bce = nn.BCEWithLogitsLoss()\n",
    "mse = nn.MSELoss()\n",
    "vgg_loss = VGGLoss()\n",
    "l1_loss = nn.L1Loss()"
   ],
   "metadata": {
    "collapsed": false,
    "pycharm": {
     "name": "#%%\n"
    }
   }
  },
  {
   "cell_type": "code",
   "execution_count": 26,
   "outputs": [],
   "source": [],
   "metadata": {
    "collapsed": false,
    "pycharm": {
     "name": "#%%\n"
    }
   }
  },
  {
   "cell_type": "code",
   "execution_count": 46,
   "outputs": [
    {
     "name": "stdout",
     "output_type": "stream",
     "text": [
      "epoch_1\n"
     ]
    },
    {
     "name": "stderr",
     "output_type": "stream",
     "text": [
      "  1%|▏         | 13/1000 [00:07<10:03,  1.64it/s]\n"
     ]
    },
    {
     "ename": "KeyboardInterrupt",
     "evalue": "",
     "output_type": "error",
     "traceback": [
      "\u001B[1;31m---------------------------------------------------------------------------\u001B[0m",
      "\u001B[1;31mKeyboardInterrupt\u001B[0m                         Traceback (most recent call last)",
      "Input \u001B[1;32mIn [46]\u001B[0m, in \u001B[0;36m<cell line: 1>\u001B[1;34m()\u001B[0m\n\u001B[0;32m      5\u001B[0m train_loss \u001B[38;5;241m=\u001B[39m \u001B[38;5;241m0\u001B[39m\n\u001B[0;32m      6\u001B[0m test_loss \u001B[38;5;241m=\u001B[39m \u001B[38;5;241m0\u001B[39m\n\u001B[1;32m----> 8\u001B[0m \u001B[38;5;28;01mfor\u001B[39;00m image, bad_image \u001B[38;5;129;01min\u001B[39;00m tqdm(train_dataloader, leave\u001B[38;5;241m=\u001B[39m\u001B[38;5;28;01mTrue\u001B[39;00m):\n\u001B[0;32m      9\u001B[0m     \u001B[38;5;66;03m### Train discriminator\u001B[39;00m\n\u001B[0;32m     10\u001B[0m     image_fake \u001B[38;5;241m=\u001B[39m generator(bad_image\u001B[38;5;241m.\u001B[39mto(device))\n\u001B[0;32m     11\u001B[0m     disc_fake \u001B[38;5;241m=\u001B[39m discriminator(image_fake\u001B[38;5;241m.\u001B[39mdetach(), bad_image\u001B[38;5;241m.\u001B[39mto(device))\n",
      "File \u001B[1;32mD:\\mlp\\MachineLearning\\venv\\lib\\site-packages\\tqdm\\std.py:1195\u001B[0m, in \u001B[0;36mtqdm.__iter__\u001B[1;34m(self)\u001B[0m\n\u001B[0;32m   1192\u001B[0m time \u001B[38;5;241m=\u001B[39m \u001B[38;5;28mself\u001B[39m\u001B[38;5;241m.\u001B[39m_time\n\u001B[0;32m   1194\u001B[0m \u001B[38;5;28;01mtry\u001B[39;00m:\n\u001B[1;32m-> 1195\u001B[0m     \u001B[38;5;28;01mfor\u001B[39;00m obj \u001B[38;5;129;01min\u001B[39;00m iterable:\n\u001B[0;32m   1196\u001B[0m         \u001B[38;5;28;01myield\u001B[39;00m obj\n\u001B[0;32m   1197\u001B[0m         \u001B[38;5;66;03m# Update and possibly print the progressbar.\u001B[39;00m\n\u001B[0;32m   1198\u001B[0m         \u001B[38;5;66;03m# Note: does not call self.update(1) for speed optimisation.\u001B[39;00m\n",
      "File \u001B[1;32mD:\\mlp\\MachineLearning\\venv\\lib\\site-packages\\torch\\utils\\data\\dataloader.py:530\u001B[0m, in \u001B[0;36m_BaseDataLoaderIter.__next__\u001B[1;34m(self)\u001B[0m\n\u001B[0;32m    528\u001B[0m \u001B[38;5;28;01mif\u001B[39;00m \u001B[38;5;28mself\u001B[39m\u001B[38;5;241m.\u001B[39m_sampler_iter \u001B[38;5;129;01mis\u001B[39;00m \u001B[38;5;28;01mNone\u001B[39;00m:\n\u001B[0;32m    529\u001B[0m     \u001B[38;5;28mself\u001B[39m\u001B[38;5;241m.\u001B[39m_reset()\n\u001B[1;32m--> 530\u001B[0m data \u001B[38;5;241m=\u001B[39m \u001B[38;5;28;43mself\u001B[39;49m\u001B[38;5;241;43m.\u001B[39;49m\u001B[43m_next_data\u001B[49m\u001B[43m(\u001B[49m\u001B[43m)\u001B[49m\n\u001B[0;32m    531\u001B[0m \u001B[38;5;28mself\u001B[39m\u001B[38;5;241m.\u001B[39m_num_yielded \u001B[38;5;241m+\u001B[39m\u001B[38;5;241m=\u001B[39m \u001B[38;5;241m1\u001B[39m\n\u001B[0;32m    532\u001B[0m \u001B[38;5;28;01mif\u001B[39;00m \u001B[38;5;28mself\u001B[39m\u001B[38;5;241m.\u001B[39m_dataset_kind \u001B[38;5;241m==\u001B[39m _DatasetKind\u001B[38;5;241m.\u001B[39mIterable \u001B[38;5;129;01mand\u001B[39;00m \\\n\u001B[0;32m    533\u001B[0m         \u001B[38;5;28mself\u001B[39m\u001B[38;5;241m.\u001B[39m_IterableDataset_len_called \u001B[38;5;129;01mis\u001B[39;00m \u001B[38;5;129;01mnot\u001B[39;00m \u001B[38;5;28;01mNone\u001B[39;00m \u001B[38;5;129;01mand\u001B[39;00m \\\n\u001B[0;32m    534\u001B[0m         \u001B[38;5;28mself\u001B[39m\u001B[38;5;241m.\u001B[39m_num_yielded \u001B[38;5;241m>\u001B[39m \u001B[38;5;28mself\u001B[39m\u001B[38;5;241m.\u001B[39m_IterableDataset_len_called:\n",
      "File \u001B[1;32mD:\\mlp\\MachineLearning\\venv\\lib\\site-packages\\torch\\utils\\data\\dataloader.py:570\u001B[0m, in \u001B[0;36m_SingleProcessDataLoaderIter._next_data\u001B[1;34m(self)\u001B[0m\n\u001B[0;32m    568\u001B[0m \u001B[38;5;28;01mdef\u001B[39;00m \u001B[38;5;21m_next_data\u001B[39m(\u001B[38;5;28mself\u001B[39m):\n\u001B[0;32m    569\u001B[0m     index \u001B[38;5;241m=\u001B[39m \u001B[38;5;28mself\u001B[39m\u001B[38;5;241m.\u001B[39m_next_index()  \u001B[38;5;66;03m# may raise StopIteration\u001B[39;00m\n\u001B[1;32m--> 570\u001B[0m     data \u001B[38;5;241m=\u001B[39m \u001B[38;5;28;43mself\u001B[39;49m\u001B[38;5;241;43m.\u001B[39;49m\u001B[43m_dataset_fetcher\u001B[49m\u001B[38;5;241;43m.\u001B[39;49m\u001B[43mfetch\u001B[49m\u001B[43m(\u001B[49m\u001B[43mindex\u001B[49m\u001B[43m)\u001B[49m  \u001B[38;5;66;03m# may raise StopIteration\u001B[39;00m\n\u001B[0;32m    571\u001B[0m     \u001B[38;5;28;01mif\u001B[39;00m \u001B[38;5;28mself\u001B[39m\u001B[38;5;241m.\u001B[39m_pin_memory:\n\u001B[0;32m    572\u001B[0m         data \u001B[38;5;241m=\u001B[39m _utils\u001B[38;5;241m.\u001B[39mpin_memory\u001B[38;5;241m.\u001B[39mpin_memory(data)\n",
      "File \u001B[1;32mD:\\mlp\\MachineLearning\\venv\\lib\\site-packages\\torch\\utils\\data\\_utils\\fetch.py:49\u001B[0m, in \u001B[0;36m_MapDatasetFetcher.fetch\u001B[1;34m(self, possibly_batched_index)\u001B[0m\n\u001B[0;32m     47\u001B[0m \u001B[38;5;28;01mdef\u001B[39;00m \u001B[38;5;21mfetch\u001B[39m(\u001B[38;5;28mself\u001B[39m, possibly_batched_index):\n\u001B[0;32m     48\u001B[0m     \u001B[38;5;28;01mif\u001B[39;00m \u001B[38;5;28mself\u001B[39m\u001B[38;5;241m.\u001B[39mauto_collation:\n\u001B[1;32m---> 49\u001B[0m         data \u001B[38;5;241m=\u001B[39m [\u001B[38;5;28mself\u001B[39m\u001B[38;5;241m.\u001B[39mdataset[idx] \u001B[38;5;28;01mfor\u001B[39;00m idx \u001B[38;5;129;01min\u001B[39;00m possibly_batched_index]\n\u001B[0;32m     50\u001B[0m     \u001B[38;5;28;01melse\u001B[39;00m:\n\u001B[0;32m     51\u001B[0m         data \u001B[38;5;241m=\u001B[39m \u001B[38;5;28mself\u001B[39m\u001B[38;5;241m.\u001B[39mdataset[possibly_batched_index]\n",
      "File \u001B[1;32mD:\\mlp\\MachineLearning\\venv\\lib\\site-packages\\torch\\utils\\data\\_utils\\fetch.py:49\u001B[0m, in \u001B[0;36m<listcomp>\u001B[1;34m(.0)\u001B[0m\n\u001B[0;32m     47\u001B[0m \u001B[38;5;28;01mdef\u001B[39;00m \u001B[38;5;21mfetch\u001B[39m(\u001B[38;5;28mself\u001B[39m, possibly_batched_index):\n\u001B[0;32m     48\u001B[0m     \u001B[38;5;28;01mif\u001B[39;00m \u001B[38;5;28mself\u001B[39m\u001B[38;5;241m.\u001B[39mauto_collation:\n\u001B[1;32m---> 49\u001B[0m         data \u001B[38;5;241m=\u001B[39m [\u001B[38;5;28;43mself\u001B[39;49m\u001B[38;5;241;43m.\u001B[39;49m\u001B[43mdataset\u001B[49m\u001B[43m[\u001B[49m\u001B[43midx\u001B[49m\u001B[43m]\u001B[49m \u001B[38;5;28;01mfor\u001B[39;00m idx \u001B[38;5;129;01min\u001B[39;00m possibly_batched_index]\n\u001B[0;32m     50\u001B[0m     \u001B[38;5;28;01melse\u001B[39;00m:\n\u001B[0;32m     51\u001B[0m         data \u001B[38;5;241m=\u001B[39m \u001B[38;5;28mself\u001B[39m\u001B[38;5;241m.\u001B[39mdataset[possibly_batched_index]\n",
      "Input \u001B[1;32mIn [11]\u001B[0m, in \u001B[0;36mMyDataset.__getitem__\u001B[1;34m(self, item)\u001B[0m\n\u001B[0;32m     34\u001B[0m image \u001B[38;5;241m=\u001B[39m cv2\u001B[38;5;241m.\u001B[39mcvtColor(image, cv2\u001B[38;5;241m.\u001B[39mCOLOR_BGR2RGB)\n\u001B[0;32m     35\u001B[0m image \u001B[38;5;241m=\u001B[39m \u001B[38;5;28mself\u001B[39m\u001B[38;5;241m.\u001B[39minitial_transform(image\u001B[38;5;241m=\u001B[39mimage)[\u001B[38;5;124m'\u001B[39m\u001B[38;5;124mimage\u001B[39m\u001B[38;5;124m'\u001B[39m]\n\u001B[1;32m---> 37\u001B[0m bad_image \u001B[38;5;241m=\u001B[39m np\u001B[38;5;241m.\u001B[39marray(\u001B[43mImage\u001B[49m\u001B[38;5;241;43m.\u001B[39;49m\u001B[43mfromarray\u001B[49m\u001B[43m(\u001B[49m\u001B[43mimage\u001B[49m\u001B[43m)\u001B[49m\u001B[38;5;241;43m.\u001B[39;49m\u001B[43mquantize\u001B[49m\u001B[43m(\u001B[49m\u001B[38;5;241;43m8\u001B[39;49m\u001B[43m)\u001B[49m\u001B[38;5;241m.\u001B[39mconvert(\u001B[38;5;124m\"\u001B[39m\u001B[38;5;124mRGB\u001B[39m\u001B[38;5;124m\"\u001B[39m))\n\u001B[0;32m     39\u001B[0m image \u001B[38;5;241m=\u001B[39m \u001B[38;5;28mself\u001B[39m\u001B[38;5;241m.\u001B[39mfinal_transform(image\u001B[38;5;241m=\u001B[39mimage)[\u001B[38;5;124m'\u001B[39m\u001B[38;5;124mimage\u001B[39m\u001B[38;5;124m'\u001B[39m]\n\u001B[0;32m     40\u001B[0m bad_image \u001B[38;5;241m=\u001B[39m \u001B[38;5;28mself\u001B[39m\u001B[38;5;241m.\u001B[39mfinal_transform(image\u001B[38;5;241m=\u001B[39mbad_image)[\u001B[38;5;124m'\u001B[39m\u001B[38;5;124mimage\u001B[39m\u001B[38;5;124m'\u001B[39m]\n",
      "File \u001B[1;32mD:\\mlp\\MachineLearning\\venv\\lib\\site-packages\\PIL\\Image.py:1164\u001B[0m, in \u001B[0;36mImage.quantize\u001B[1;34m(self, colors, method, kmeans, palette, dither)\u001B[0m\n\u001B[0;32m   1161\u001B[0m     new_im\u001B[38;5;241m.\u001B[39mpalette \u001B[38;5;241m=\u001B[39m palette\u001B[38;5;241m.\u001B[39mpalette\u001B[38;5;241m.\u001B[39mcopy()\n\u001B[0;32m   1162\u001B[0m     \u001B[38;5;28;01mreturn\u001B[39;00m new_im\n\u001B[1;32m-> 1164\u001B[0m im \u001B[38;5;241m=\u001B[39m \u001B[38;5;28mself\u001B[39m\u001B[38;5;241m.\u001B[39m_new(\u001B[38;5;28;43mself\u001B[39;49m\u001B[38;5;241;43m.\u001B[39;49m\u001B[43mim\u001B[49m\u001B[38;5;241;43m.\u001B[39;49m\u001B[43mquantize\u001B[49m\u001B[43m(\u001B[49m\u001B[43mcolors\u001B[49m\u001B[43m,\u001B[49m\u001B[43m \u001B[49m\u001B[43mmethod\u001B[49m\u001B[43m,\u001B[49m\u001B[43m \u001B[49m\u001B[43mkmeans\u001B[49m\u001B[43m)\u001B[49m)\n\u001B[0;32m   1166\u001B[0m \u001B[38;5;28;01mfrom\u001B[39;00m \u001B[38;5;21;01m.\u001B[39;00m \u001B[38;5;28;01mimport\u001B[39;00m ImagePalette\n\u001B[0;32m   1168\u001B[0m mode \u001B[38;5;241m=\u001B[39m im\u001B[38;5;241m.\u001B[39mim\u001B[38;5;241m.\u001B[39mgetpalettemode()\n",
      "\u001B[1;31mKeyboardInterrupt\u001B[0m: "
     ]
    }
   ],
   "source": [
    "for epoch in range(curr_epoch+1, num_epochs):\n",
    "    print(f'epoch_{epoch}')\n",
    "    discriminator.train(True)\n",
    "    generator.train(True)\n",
    "    train_loss = 0\n",
    "    test_loss = 0\n",
    "\n",
    "    for image, bad_image in tqdm(train_dataloader, leave=True):\n",
    "        ### Train discriminator\n",
    "        image_fake = generator(bad_image.to(device))\n",
    "        disc_fake = discriminator(image_fake.detach(), bad_image.to(device))\n",
    "        disc_real = discriminator(image.to(device), bad_image.to(device))\n",
    "\n",
    "        discriminator_loss = 0.5 * (bce(disc_real, torch.ones_like(disc_real)).to(device) +\\\n",
    "                             bce(disc_fake, torch.zeros_like(disc_fake).to(device)))\n",
    "        discriminator.zero_grad()\n",
    "        discriminator_loss.backward()\n",
    "        disc_optimizer.step()\n",
    "\n",
    "\n",
    "        ### Train Generator\n",
    "        disc_fake = discriminator(image_fake, bad_image.to(device))\n",
    "        mse_loss = mse(image_fake, image.to(device))\n",
    "        adversarial_loss = bce(disc_fake, torch.ones_like(disc_fake).to(device))\n",
    "        content_loss = l1_loss(image_fake.to(device), image.to(device))\n",
    "        generator_loss = 100 * content_loss + adversarial_loss\n",
    "\n",
    "        generator.zero_grad()\n",
    "        generator_loss.backward()\n",
    "        gen_optimizer.step()\n",
    "\n",
    "    if epoch % 1 == 0:\n",
    "        with torch.no_grad():\n",
    "            generator.eval()\n",
    "            save_example(generator, res_name=f'butterfly_gan{epoch}')\n",
    "\n",
    "    if epoch % 5 == 0:\n",
    "        save_model_checkpoint(generator, gen_optimizer, epoch, 'save_models/pix2pix_gen')\n",
    "        save_model_checkpoint(discriminator, disc_optimizer, epoch, 'save_models/pix2pix_disc')\n",
    "\n",
    "\n"
   ],
   "metadata": {
    "collapsed": false,
    "pycharm": {
     "name": "#%%\n"
    }
   }
  },
  {
   "cell_type": "code",
   "execution_count": 36,
   "outputs": [],
   "source": [
    "generator2 = Generator().to(device)"
   ],
   "metadata": {
    "collapsed": false,
    "pycharm": {
     "name": "#%%\n"
    }
   }
  },
  {
   "cell_type": "code",
   "execution_count": 37,
   "outputs": [
    {
     "name": "stdout",
     "output_type": "stream",
     "text": [
      "load checkpoint\n"
     ]
    }
   ],
   "source": [
    "load_checkpoint(generator2, gen_optimizer, 2e-4, 'save_models/pix2pix_gen_15.pth')"
   ],
   "metadata": {
    "collapsed": false,
    "pycharm": {
     "name": "#%%\n"
    }
   }
  },
  {
   "cell_type": "code",
   "execution_count": 38,
   "outputs": [],
   "source": [
    "# generator.train()\n",
    "generator2.eval()\n",
    "for i in os.listdir('pr_dataset/val')[:10]:\n",
    "    save_example(generator2, img_path=f'pr_dataset/val/{i}', res_name=f'{i.split(\".\")[0]+i.split(\".\")[1]}')"
   ],
   "metadata": {
    "collapsed": false,
    "pycharm": {
     "name": "#%%\n"
    }
   }
  },
  {
   "cell_type": "code",
   "execution_count": 34,
   "outputs": [
    {
     "data": {
      "text/plain": "['cat.4001.jpg',\n 'cat.4002.jpg',\n 'cat.4003.jpg',\n 'cat.4004.jpg',\n 'cat.4005.jpg',\n 'cat.4006.jpg',\n 'cat.4007.jpg',\n 'cat.4008.jpg',\n 'cat.4009.jpg',\n 'cat.4010.jpg',\n 'cat.4011.jpg',\n 'cat.4012.jpg',\n 'cat.4013.jpg',\n 'cat.4014.jpg',\n 'cat.4015.jpg',\n 'cat.4016.jpg',\n 'cat.4017.jpg',\n 'cat.4018.jpg',\n 'cat.4019.jpg',\n 'cat.4020.jpg',\n 'cat.4021.jpg',\n 'cat.4022.jpg',\n 'cat.4023.jpg',\n 'cat.4024.jpg',\n 'cat.4025.jpg',\n 'cat.4026.jpg',\n 'cat.4027.jpg',\n 'cat.4028.jpg',\n 'cat.4029.jpg',\n 'cat.4030.jpg',\n 'cat.4031.jpg',\n 'cat.4032.jpg',\n 'cat.4033.jpg',\n 'cat.4034.jpg',\n 'cat.4035.jpg',\n 'cat.4036.jpg',\n 'cat.4037.jpg',\n 'cat.4038.jpg',\n 'cat.4039.jpg',\n 'cat.4040.jpg',\n 'cat.4041.jpg',\n 'cat.4042.jpg',\n 'cat.4043.jpg',\n 'cat.4044.jpg',\n 'cat.4045.jpg',\n 'cat.4046.jpg',\n 'cat.4047.jpg',\n 'cat.4048.jpg',\n 'cat.4049.jpg',\n 'cat.4050.jpg',\n 'cat.4051.jpg',\n 'cat.4052.jpg',\n 'cat.4053.jpg',\n 'cat.4054.jpg',\n 'cat.4055.jpg',\n 'cat.4056.jpg',\n 'cat.4057.jpg',\n 'cat.4058.jpg',\n 'cat.4059.jpg',\n 'cat.4060.jpg',\n 'cat.4061.jpg',\n 'cat.4062.jpg',\n 'cat.4063.jpg',\n 'cat.4064.jpg',\n 'cat.4065.jpg',\n 'cat.4066.jpg',\n 'cat.4067.jpg',\n 'cat.4068.jpg',\n 'cat.4069.jpg',\n 'cat.4070.jpg',\n 'cat.4071.jpg',\n 'cat.4072.jpg',\n 'cat.4073.jpg',\n 'cat.4074.jpg',\n 'cat.4075.jpg',\n 'cat.4076.jpg',\n 'cat.4077.jpg',\n 'cat.4078.jpg',\n 'cat.4079.jpg',\n 'cat.4080.jpg',\n 'cat.4081.jpg',\n 'cat.4082.jpg',\n 'cat.4083.jpg',\n 'cat.4084.jpg',\n 'cat.4085.jpg',\n 'cat.4086.jpg',\n 'cat.4087.jpg',\n 'cat.4088.jpg',\n 'cat.4089.jpg',\n 'cat.4090.jpg',\n 'cat.4091.jpg',\n 'cat.4092.jpg',\n 'cat.4093.jpg',\n 'cat.4094.jpg',\n 'cat.4095.jpg',\n 'cat.4096.jpg',\n 'cat.4097.jpg',\n 'cat.4098.jpg',\n 'cat.4099.jpg',\n 'cat.4100.jpg',\n 'cat.4101.jpg',\n 'cat.4102.jpg',\n 'cat.4103.jpg',\n 'cat.4104.jpg',\n 'cat.4105.jpg',\n 'cat.4106.jpg',\n 'cat.4107.jpg',\n 'cat.4108.jpg',\n 'cat.4109.jpg',\n 'cat.4110.jpg',\n 'cat.4111.jpg',\n 'cat.4112.jpg',\n 'cat.4113.jpg',\n 'cat.4114.jpg',\n 'cat.4115.jpg',\n 'cat.4116.jpg',\n 'cat.4117.jpg',\n 'cat.4118.jpg',\n 'cat.4119.jpg',\n 'cat.4120.jpg',\n 'cat.4121.jpg',\n 'cat.4122.jpg',\n 'cat.4123.jpg',\n 'cat.4124.jpg',\n 'cat.4125.jpg',\n 'cat.4126.jpg',\n 'cat.4127.jpg',\n 'cat.4128.jpg',\n 'cat.4129.jpg',\n 'cat.4130.jpg',\n 'cat.4131.jpg',\n 'cat.4132.jpg',\n 'cat.4133.jpg',\n 'cat.4134.jpg',\n 'cat.4135.jpg',\n 'cat.4136.jpg',\n 'cat.4137.jpg',\n 'cat.4138.jpg',\n 'cat.4139.jpg',\n 'cat.4140.jpg',\n 'cat.4141.jpg',\n 'cat.4142(1).jpg',\n 'cat.4142.jpg',\n 'cat.4143.jpg',\n 'cat.4144.jpg',\n 'cat.4145.jpg',\n 'cat.4146.jpg',\n 'cat.4147.jpg',\n 'cat.4148.jpg',\n 'cat.4149.jpg',\n 'cat.4150.jpg',\n 'cat.4151.jpg',\n 'cat.4152.jpg',\n 'cat.4153.jpg',\n 'cat.4154.jpg',\n 'cat.4155.jpg',\n 'cat.4156(1).jpg',\n 'cat.4156.jpg',\n 'cat.4157.jpg',\n 'cat.4158.jpg',\n 'cat.4159.jpg',\n 'cat.4160.jpg',\n 'cat.4161.jpg',\n 'cat.4162.jpg',\n 'cat.4163.jpg',\n 'cat.4164.jpg',\n 'cat.4165.jpg',\n 'cat.4166.jpg',\n 'cat.4167.jpg',\n 'cat.4168.jpg',\n 'cat.4169.jpg',\n 'cat.4170.jpg',\n 'cat.4171.jpg',\n 'cat.4172.jpg',\n 'cat.4173.jpg',\n 'cat.4174.jpg',\n 'cat.4175.jpg',\n 'cat.4176.jpg',\n 'cat.4177.jpg',\n 'cat.4178.jpg',\n 'cat.4179.jpg',\n 'cat.4180.jpg',\n 'cat.4181(1).jpg',\n 'cat.4181.jpg',\n 'cat.4182.jpg',\n 'cat.4183.jpg',\n 'cat.4184.jpg',\n 'cat.4185.jpg',\n 'cat.4186.jpg',\n 'cat.4187.jpg',\n 'cat.4188.jpg',\n 'cat.4189.jpg',\n 'cat.4190.jpg',\n 'cat.4191.jpg',\n 'cat.4192.jpg',\n 'cat.4193.jpg',\n 'cat.4194.jpg',\n 'cat.4195(1).jpg',\n 'cat.4195.jpg',\n 'cat.4196.jpg',\n 'cat.4197.jpg',\n 'cat.4198.jpg',\n 'cat.4199.jpg',\n 'cat.4200.jpg',\n 'cat.4201.jpg',\n 'cat.4202.jpg',\n 'cat.4203.jpg',\n 'cat.4204.jpg',\n 'cat.4205.jpg',\n 'cat.4206.jpg',\n 'cat.4207.jpg',\n 'cat.4208.jpg',\n 'cat.4209.jpg',\n 'cat.4210.jpg',\n 'cat.4211.jpg',\n 'cat.4212.jpg',\n 'cat.4213.jpg',\n 'cat.4214.jpg',\n 'cat.4215.jpg',\n 'cat.4216.jpg',\n 'cat.4217.jpg',\n 'cat.4218.jpg',\n 'cat.4219.jpg',\n 'cat.4220(1).jpg',\n 'cat.4220.jpg',\n 'cat.4221.jpg',\n 'cat.4222.jpg',\n 'cat.4223.jpg',\n 'cat.4224.jpg',\n 'cat.4225.jpg',\n 'cat.4226.jpg',\n 'cat.4227.jpg',\n 'cat.4228.jpg',\n 'cat.4229.jpg',\n 'cat.4230.jpg',\n 'cat.4231.jpg',\n 'cat.4232.jpg',\n 'cat.4233.jpg',\n 'cat.4234.jpg',\n 'cat.4235.jpg',\n 'cat.4236.jpg',\n 'cat.4237.jpg',\n 'cat.4238.jpg',\n 'cat.4239.jpg',\n 'cat.4240.jpg',\n 'cat.4241.jpg',\n 'cat.4242.jpg',\n 'cat.4243.jpg',\n 'cat.4244.jpg',\n 'cat.4245.jpg',\n 'cat.4246.jpg',\n 'cat.4247.jpg',\n 'cat.4248.jpg',\n 'cat.4249.jpg',\n 'cat.4250.jpg',\n 'cat.4251.jpg',\n 'cat.4252.jpg',\n 'cat.4253.jpg',\n 'cat.4254.jpg',\n 'cat.4255.jpg',\n 'cat.4256.jpg',\n 'cat.4257.jpg',\n 'cat.4258.jpg',\n 'cat.4259.jpg',\n 'cat.4260.jpg',\n 'cat.4261.jpg',\n 'cat.4262.jpg',\n 'cat.4263.jpg',\n 'cat.4264.jpg',\n 'cat.4265.jpg',\n 'cat.4266.jpg',\n 'cat.4267.jpg',\n 'cat.4268.jpg',\n 'cat.4269.jpg',\n 'cat.4270.jpg',\n 'cat.4271.jpg',\n 'cat.4272.jpg',\n 'cat.4273.jpg',\n 'cat.4274.jpg',\n 'cat.4275.jpg',\n 'cat.4276.jpg',\n 'cat.4277.jpg',\n 'cat.4278.jpg',\n 'cat.4279.jpg',\n 'cat.4280.jpg',\n 'cat.4281.jpg',\n 'cat.4282.jpg',\n 'cat.4283.jpg',\n 'cat.4284.jpg',\n 'cat.4285.jpg',\n 'cat.4286.jpg',\n 'cat.4287.jpg',\n 'cat.4288.jpg',\n 'cat.4289.jpg',\n 'cat.4290.jpg',\n 'cat.4291.jpg',\n 'cat.4292.jpg',\n 'cat.4293.jpg',\n 'cat.4294.jpg',\n 'cat.4295.jpg',\n 'cat.4296.jpg',\n 'cat.4297.jpg',\n 'cat.4298.jpg',\n 'cat.4299.jpg',\n 'cat.4300.jpg',\n 'cat.4301.jpg',\n 'cat.4302.jpg',\n 'cat.4303.jpg',\n 'cat.4304.jpg',\n 'cat.4305.jpg',\n 'cat.4306.jpg',\n 'cat.4307.jpg',\n 'cat.4308.jpg',\n 'cat.4309.jpg',\n 'cat.4310.jpg',\n 'cat.4311.jpg',\n 'cat.4312.jpg',\n 'cat.4313.jpg',\n 'cat.4314.jpg',\n 'cat.4315.jpg',\n 'cat.4316.jpg',\n 'cat.4317.jpg',\n 'cat.4318.jpg',\n 'cat.4319.jpg',\n 'cat.4320.jpg',\n 'cat.4321.jpg',\n 'cat.4322.jpg',\n 'cat.4323.jpg',\n 'cat.4324.jpg',\n 'cat.4325.jpg',\n 'cat.4326.jpg',\n 'cat.4327.jpg',\n 'cat.4328.jpg',\n 'cat.4329.jpg',\n 'cat.4330.jpg',\n 'cat.4331.jpg',\n 'cat.4332.jpg',\n 'cat.4333.jpg',\n 'cat.4334.jpg',\n 'cat.4335.jpg',\n 'cat.4336.jpg',\n 'cat.4337.jpg',\n 'cat.4338.jpg',\n 'cat.4339.jpg',\n 'cat.4340.jpg',\n 'cat.4341.jpg',\n 'cat.4342.jpg',\n 'cat.4343.jpg',\n 'cat.4344.jpg',\n 'cat.4345.jpg',\n 'cat.4346.jpg',\n 'cat.4347.jpg',\n 'cat.4348.jpg',\n 'cat.4349.jpg',\n 'cat.4350.jpg',\n 'cat.4351.jpg',\n 'cat.4352.jpg',\n 'cat.4353.jpg',\n 'cat.4354.jpg',\n 'cat.4355.jpg',\n 'cat.4356.jpg',\n 'cat.4357.jpg',\n 'cat.4358.jpg',\n 'cat.4359.jpg',\n 'cat.4360.jpg',\n 'cat.4361.jpg',\n 'cat.4362.jpg',\n 'cat.4363.jpg',\n 'cat.4364.jpg',\n 'cat.4365.jpg',\n 'cat.4366.jpg',\n 'cat.4367.jpg',\n 'cat.4368.jpg',\n 'cat.4369.jpg',\n 'cat.4370.jpg',\n 'cat.4371.jpg',\n 'cat.4372.jpg',\n 'cat.4373.jpg',\n 'cat.4374.jpg',\n 'cat.4375.jpg',\n 'cat.4376.jpg',\n 'cat.4377.jpg',\n 'cat.4378.jpg',\n 'cat.4379.jpg',\n 'cat.4380.jpg',\n 'cat.4381.jpg',\n 'cat.4382.jpg',\n 'cat.4383.jpg',\n 'cat.4384.jpg',\n 'cat.4385.jpg',\n 'cat.4386.jpg',\n 'cat.4387.jpg',\n 'cat.4388.jpg',\n 'cat.4389.jpg',\n 'cat.4390.jpg',\n 'cat.4391.jpg',\n 'cat.4392.jpg',\n 'cat.4393.jpg',\n 'cat.4394.jpg',\n 'cat.4395.jpg',\n 'cat.4396.jpg',\n 'cat.4397(1).jpg',\n 'cat.4397.jpg',\n 'cat.4398.jpg',\n 'cat.4399.jpg',\n 'cat.4400.jpg',\n 'cat.4401.jpg',\n 'cat.4402.jpg',\n 'cat.4403.jpg',\n 'cat.4404.jpg',\n 'cat.4405.jpg',\n 'cat.4406.jpg',\n 'cat.4407.jpg',\n 'cat.4408.jpg',\n 'cat.4409.jpg',\n 'cat.4410.jpg',\n 'cat.4411.jpg',\n 'cat.4412.jpg',\n 'cat.4413.jpg',\n 'cat.4414.jpg',\n 'cat.4415.jpg',\n 'cat.4416.jpg',\n 'cat.4417.jpg',\n 'cat.4418.jpg',\n 'cat.4419.jpg',\n 'cat.4420.jpg',\n 'cat.4421.jpg',\n 'cat.4422.jpg',\n 'cat.4423.jpg',\n 'cat.4424.jpg',\n 'cat.4425.jpg',\n 'cat.4426.jpg',\n 'cat.4427.jpg',\n 'cat.4428.jpg',\n 'cat.4429.jpg',\n 'cat.4430.jpg',\n 'cat.4431.jpg',\n 'cat.4432.jpg',\n 'cat.4433.jpg',\n 'cat.4434.jpg',\n 'cat.4435.jpg',\n 'cat.4436.jpg',\n 'cat.4437.jpg',\n 'cat.4438.jpg',\n 'cat.4439.jpg',\n 'cat.4440.jpg',\n 'cat.4441.jpg',\n 'cat.4442.jpg',\n 'cat.4443.jpg',\n 'cat.4444.jpg',\n 'cat.4445.jpg',\n 'cat.4446.jpg',\n 'cat.4447.jpg',\n 'cat.4448.jpg',\n 'cat.4449.jpg',\n 'cat.4450.jpg',\n 'cat.4451.jpg',\n 'cat.4452.jpg',\n 'cat.4453.jpg',\n 'cat.4454.jpg',\n 'cat.4455.jpg',\n 'cat.4456.jpg',\n 'cat.4457.jpg',\n 'cat.4458.jpg',\n 'cat.4459.jpg',\n 'cat.4460.jpg',\n 'cat.4461.jpg',\n 'cat.4462.jpg',\n 'cat.4463.jpg',\n 'cat.4464.jpg',\n 'cat.4465.jpg',\n 'cat.4466.jpg',\n 'cat.4467.jpg',\n 'cat.4468.jpg',\n 'cat.4469.jpg',\n 'cat.4470.jpg',\n 'cat.4471.jpg',\n 'cat.4472.jpg',\n 'cat.4473.jpg',\n 'cat.4474.jpg',\n 'cat.4475.jpg',\n 'cat.4476.jpg',\n 'cat.4477.jpg',\n 'cat.4478.jpg',\n 'cat.4479.jpg',\n 'cat.4480.jpg',\n 'cat.4481.jpg',\n 'cat.4482.jpg',\n 'cat.4483.jpg',\n 'cat.4484.jpg',\n 'cat.4485.jpg',\n 'cat.4486.jpg',\n 'cat.4487.jpg',\n 'cat.4488.jpg',\n 'cat.4489.jpg',\n 'cat.4490.jpg',\n 'cat.4491.jpg',\n 'cat.4492.jpg',\n 'cat.4493.jpg',\n 'cat.4494.jpg',\n 'cat.4495.jpg',\n 'cat.4496.jpg',\n 'cat.4497.jpg',\n 'cat.4498.jpg',\n 'cat.4499.jpg',\n 'cat.4500.jpg',\n 'cat.4501.jpg',\n 'cat.4502.jpg',\n 'cat.4503.jpg',\n 'cat.4504.jpg',\n 'cat.4505.jpg',\n 'cat.4506.jpg',\n 'cat.4507.jpg',\n 'cat.4508.jpg',\n 'cat.4509.jpg',\n 'cat.4510.jpg',\n 'cat.4511.jpg',\n 'cat.4512.jpg',\n 'cat.4513.jpg',\n 'cat.4514.jpg',\n 'cat.4515.jpg',\n 'cat.4516.jpg',\n 'cat.4517.jpg',\n 'cat.4518.jpg',\n 'cat.4519.jpg',\n 'cat.4520.jpg',\n 'cat.4521.jpg',\n 'cat.4522.jpg',\n 'cat.4523.jpg',\n 'cat.4524.jpg',\n 'cat.4525.jpg',\n 'cat.4526.jpg',\n 'cat.4527.jpg',\n 'cat.4528.jpg',\n 'cat.4529.jpg',\n 'cat.4530.jpg',\n 'cat.4531.jpg',\n 'cat.4532.jpg',\n 'cat.4533.jpg',\n 'cat.4534.jpg',\n 'cat.4535.jpg',\n 'cat.4536.jpg',\n 'cat.4537.jpg',\n 'cat.4538.jpg',\n 'cat.4539.jpg',\n 'cat.4540.jpg',\n 'cat.4541.jpg',\n 'cat.4542.jpg',\n 'cat.4543.jpg',\n 'cat.4544.jpg',\n 'cat.4545.jpg',\n 'cat.4546.jpg',\n 'cat.4547.jpg',\n 'cat.4548.jpg',\n 'cat.4549.jpg',\n 'cat.4550.jpg',\n 'cat.4551.jpg',\n 'cat.4552.jpg',\n 'cat.4553.jpg',\n 'cat.4554.jpg',\n 'cat.4555.jpg',\n 'cat.4556.jpg',\n 'cat.4557.jpg',\n 'cat.4558.jpg',\n 'cat.4559.jpg',\n 'cat.4560.jpg',\n 'cat.4561.jpg',\n 'cat.4562.jpg',\n 'cat.4563.jpg',\n 'cat.4564.jpg',\n 'cat.4565.jpg',\n 'cat.4566.jpg',\n 'cat.4567.jpg',\n 'cat.4568.jpg',\n 'cat.4569.jpg',\n 'cat.4570.jpg',\n 'cat.4571.jpg',\n 'cat.4572.jpg',\n 'cat.4573.jpg',\n 'cat.4574.jpg',\n 'cat.4575.jpg',\n 'cat.4576.jpg',\n 'cat.4577.jpg',\n 'cat.4578.jpg',\n 'cat.4579.jpg',\n 'cat.4580.jpg',\n 'cat.4581.jpg',\n 'cat.4582.jpg',\n 'cat.4583.jpg',\n 'cat.4584.jpg',\n 'cat.4585.jpg',\n 'cat.4586.jpg',\n 'cat.4587.jpg',\n 'cat.4588.jpg',\n 'cat.4589.jpg',\n 'cat.4590.jpg',\n 'cat.4591.jpg',\n 'cat.4592.jpg',\n 'cat.4593.jpg',\n 'cat.4594.jpg',\n 'cat.4595.jpg',\n 'cat.4596.jpg',\n 'cat.4597.jpg',\n 'cat.4598.jpg',\n 'cat.4599.jpg',\n 'cat.4600.jpg',\n 'cat.4601.jpg',\n 'cat.4602.jpg',\n 'cat.4603.jpg',\n 'cat.4604.jpg',\n 'cat.4605.jpg',\n 'cat.4606.jpg',\n 'cat.4607.jpg',\n 'cat.4608.jpg',\n 'cat.4609.jpg',\n 'cat.4610.jpg',\n 'cat.4611.jpg',\n 'cat.4612.jpg',\n 'cat.4613.jpg',\n 'cat.4614.jpg',\n 'cat.4615.jpg',\n 'cat.4616.jpg',\n 'cat.4617.jpg',\n 'cat.4618(1).jpg',\n 'cat.4618.jpg',\n 'cat.4619.jpg',\n 'cat.4620.jpg',\n 'cat.4621.jpg',\n 'cat.4622.jpg',\n 'cat.4623.jpg',\n 'cat.4624(1).jpg',\n 'cat.4624.jpg',\n 'cat.4625.jpg',\n 'cat.4626.jpg',\n 'cat.4627.jpg',\n 'cat.4628.jpg',\n 'cat.4629.jpg',\n 'cat.4630(1).jpg',\n 'cat.4630.jpg',\n 'cat.4631.jpg',\n 'cat.4632.jpg',\n 'cat.4633.jpg',\n 'cat.4634.jpg',\n 'cat.4635.jpg',\n 'cat.4636.jpg',\n 'cat.4637.jpg',\n 'cat.4638.jpg',\n 'cat.4639.jpg',\n 'cat.4640.jpg',\n 'cat.4641.jpg',\n 'cat.4642.jpg',\n 'cat.4643.jpg',\n 'cat.4644.jpg',\n 'cat.4645.jpg',\n 'cat.4646.jpg',\n 'cat.4647.jpg',\n 'cat.4648.jpg',\n 'cat.4649.jpg',\n 'cat.4650.jpg',\n 'cat.4651.jpg',\n 'cat.4652.jpg',\n 'cat.4653.jpg',\n 'cat.4654.jpg',\n 'cat.4655.jpg',\n 'cat.4656.jpg',\n 'cat.4657.jpg',\n 'cat.4658.jpg',\n 'cat.4659.jpg',\n 'cat.4660.jpg',\n 'cat.4661.jpg',\n 'cat.4662.jpg',\n 'cat.4663.jpg',\n 'cat.4664.jpg',\n 'cat.4665.jpg',\n 'cat.4666.jpg',\n 'cat.4667.jpg',\n 'cat.4668.jpg',\n 'cat.4669.jpg',\n 'cat.4670.jpg',\n 'cat.4671.jpg',\n 'cat.4672.jpg',\n 'cat.4673.jpg',\n 'cat.4674.jpg',\n 'cat.4675.jpg',\n 'cat.4676.jpg',\n 'cat.4677.jpg',\n 'cat.4678.jpg',\n 'cat.4679.jpg',\n 'cat.4680.jpg',\n 'cat.4681.jpg',\n 'cat.4682.jpg',\n 'cat.4683.jpg',\n 'cat.4684.jpg',\n 'cat.4685.jpg',\n 'cat.4686.jpg',\n 'cat.4687.jpg',\n 'cat.4688.jpg',\n 'cat.4689.jpg',\n 'cat.4690.jpg',\n 'cat.4691.jpg',\n 'cat.4692.jpg',\n 'cat.4693.jpg',\n 'cat.4694.jpg',\n 'cat.4695.jpg',\n 'cat.4696.jpg',\n 'cat.4697.jpg',\n 'cat.4698.jpg',\n 'cat.4699.jpg',\n 'cat.4700.jpg',\n 'cat.4701.jpg',\n 'cat.4702.jpg',\n 'cat.4703.jpg',\n 'cat.4704.jpg',\n 'cat.4705.jpg',\n 'cat.4706.jpg',\n 'cat.4707.jpg',\n 'cat.4708.jpg',\n 'cat.4709.jpg',\n 'cat.4710.jpg',\n 'cat.4711.jpg',\n 'cat.4712.jpg',\n 'cat.4713.jpg',\n 'cat.4714.jpg',\n 'cat.4715.jpg',\n 'cat.4716.jpg',\n 'cat.4717.jpg',\n 'cat.4718.jpg',\n 'cat.4719.jpg',\n 'cat.4720.jpg',\n 'cat.4721.jpg',\n 'cat.4722.jpg',\n 'cat.4723.jpg',\n 'cat.4724.jpg',\n 'cat.4725.jpg',\n 'cat.4726.jpg',\n 'cat.4727.jpg',\n 'cat.4728.jpg',\n 'cat.4729.jpg',\n 'cat.4730.jpg',\n 'cat.4731.jpg',\n 'cat.4732.jpg',\n 'cat.4733.jpg',\n 'cat.4734.jpg',\n 'cat.4735.jpg',\n 'cat.4736.jpg',\n 'cat.4737.jpg',\n 'cat.4738.jpg',\n 'cat.4739.jpg',\n 'cat.4740.jpg',\n 'cat.4741.jpg',\n 'cat.4742.jpg',\n 'cat.4743.jpg',\n 'cat.4744.jpg',\n 'cat.4745.jpg',\n 'cat.4746.jpg',\n 'cat.4747.jpg',\n 'cat.4748.jpg',\n 'cat.4749.jpg',\n 'cat.4750.jpg',\n 'cat.4751.jpg',\n 'cat.4752.jpg',\n 'cat.4753.jpg',\n 'cat.4754.jpg',\n 'cat.4755.jpg',\n 'cat.4756.jpg',\n 'cat.4757.jpg',\n 'cat.4758.jpg',\n 'cat.4759.jpg',\n 'cat.4760.jpg',\n 'cat.4761.jpg',\n 'cat.4762.jpg',\n 'cat.4763.jpg',\n 'cat.4764.jpg',\n 'cat.4765.jpg',\n 'cat.4766.jpg',\n 'cat.4767.jpg',\n 'cat.4768.jpg',\n 'cat.4769.jpg',\n 'cat.4770.jpg',\n 'cat.4771.jpg',\n 'cat.4772.jpg',\n 'cat.4773.jpg',\n 'cat.4774.jpg',\n 'cat.4775.jpg',\n 'cat.4776.jpg',\n 'cat.4777.jpg',\n 'cat.4778.jpg',\n 'cat.4779.jpg',\n 'cat.4780.jpg',\n 'cat.4781.jpg',\n 'cat.4782.jpg',\n 'cat.4783.jpg',\n 'cat.4784.jpg',\n 'cat.4785.jpg',\n 'cat.4786.jpg',\n 'cat.4787.jpg',\n 'cat.4788.jpg',\n 'cat.4789.jpg',\n 'cat.4790.jpg',\n 'cat.4791.jpg',\n 'cat.4792.jpg',\n 'cat.4793.jpg',\n 'cat.4794.jpg',\n 'cat.4795.jpg',\n 'cat.4796.jpg',\n 'cat.4797.jpg',\n 'cat.4798.jpg',\n 'cat.4799.jpg',\n 'cat.4800.jpg',\n 'cat.4801.jpg',\n 'cat.4802.jpg',\n 'cat.4803(1).jpg',\n 'cat.4803.jpg',\n 'cat.4804.jpg',\n 'cat.4805.jpg',\n 'cat.4806.jpg',\n 'cat.4807.jpg',\n 'cat.4808.jpg',\n 'cat.4809.jpg',\n 'cat.4810.jpg',\n 'cat.4811.jpg',\n 'cat.4812.jpg',\n 'cat.4813.jpg',\n 'cat.4814.jpg',\n 'cat.4815.jpg',\n 'cat.4816.jpg',\n 'cat.4817(1).jpg',\n 'cat.4817.jpg',\n 'cat.4818.jpg',\n 'cat.4819.jpg',\n 'cat.4820.jpg',\n 'cat.4821.jpg',\n 'cat.4822.jpg',\n 'cat.4823.jpg',\n 'cat.4824.jpg',\n 'cat.4825.jpg',\n 'cat.4826.jpg',\n 'cat.4827.jpg',\n 'cat.4828.jpg',\n 'cat.4829.jpg',\n 'cat.4830.jpg',\n 'cat.4831.jpg',\n 'cat.4832.jpg',\n 'cat.4833.jpg',\n 'cat.4834.jpg',\n 'cat.4835.jpg',\n 'cat.4836.jpg',\n 'cat.4837.jpg',\n 'cat.4838.jpg',\n 'cat.4839.jpg',\n 'cat.4840.jpg',\n 'cat.4841.jpg',\n 'cat.4842.jpg',\n 'cat.4843.jpg',\n 'cat.4844.jpg',\n 'cat.4845.jpg',\n 'cat.4846.jpg',\n 'cat.4847.jpg',\n 'cat.4848.jpg',\n 'cat.4849.jpg',\n 'cat.4850.jpg',\n 'cat.4851.jpg',\n 'cat.4852.jpg',\n 'cat.4853.jpg',\n 'cat.4854.jpg',\n 'cat.4855.jpg',\n 'cat.4856.jpg',\n 'cat.4857.jpg',\n 'cat.4858.jpg',\n 'cat.4859.jpg',\n 'cat.4860.jpg',\n 'cat.4861.jpg',\n 'cat.4862.jpg',\n 'cat.4863.jpg',\n 'cat.4864.jpg',\n 'cat.4865.jpg',\n 'cat.4866.jpg',\n 'cat.4867.jpg',\n 'cat.4868.jpg',\n 'cat.4869.jpg',\n 'cat.4870.jpg',\n 'cat.4871.jpg',\n 'cat.4872.jpg',\n 'cat.4873.jpg',\n 'cat.4874.jpg',\n 'cat.4875.jpg',\n 'cat.4876.jpg',\n 'cat.4877.jpg',\n 'cat.4878.jpg',\n 'cat.4879.jpg',\n 'cat.4880.jpg',\n 'cat.4881.jpg',\n 'cat.4882.jpg',\n 'cat.4883.jpg',\n 'cat.4884.jpg',\n 'cat.4885.jpg',\n 'cat.4886.jpg',\n 'cat.4887.jpg',\n 'cat.4888.jpg',\n 'cat.4889.jpg',\n 'cat.4890.jpg',\n 'cat.4891.jpg',\n 'cat.4892.jpg',\n 'cat.4893.jpg',\n 'cat.4894.jpg',\n 'cat.4895.jpg',\n 'cat.4896.jpg',\n 'cat.4897.jpg',\n 'cat.4898.jpg',\n 'cat.4899.jpg',\n 'cat.4900.jpg',\n 'cat.4901.jpg',\n 'cat.4902.jpg',\n 'cat.4903.jpg',\n 'cat.4904.jpg',\n 'cat.4905.jpg',\n 'cat.4906.jpg',\n 'cat.4907.jpg',\n 'cat.4908.jpg',\n 'cat.4909.jpg',\n 'cat.4910.jpg',\n 'cat.4911.jpg',\n 'cat.4912.jpg',\n 'cat.4913.jpg',\n 'cat.4914.jpg',\n 'cat.4915.jpg',\n 'cat.4916.jpg',\n 'cat.4917.jpg',\n 'cat.4918.jpg',\n 'cat.4919.jpg',\n 'cat.4920.jpg',\n 'cat.4921.jpg',\n 'cat.4922.jpg',\n 'cat.4923.jpg',\n 'cat.4924.jpg',\n 'cat.4925.jpg',\n 'cat.4926.jpg',\n 'cat.4927.jpg',\n 'cat.4928.jpg',\n 'cat.4929.jpg',\n 'cat.4930.jpg',\n 'cat.4931.jpg',\n 'cat.4932.jpg',\n 'cat.4933.jpg',\n 'cat.4934.jpg',\n 'cat.4935.jpg',\n 'cat.4936.jpg',\n 'cat.4937.jpg',\n 'cat.4938.jpg',\n 'cat.4939.jpg',\n 'cat.4940.jpg',\n 'cat.4941.jpg',\n 'cat.4942.jpg',\n 'cat.4943.jpg',\n 'cat.4944.jpg',\n 'cat.4945.jpg',\n 'cat.4946.jpg',\n 'cat.4947.jpg',\n 'cat.4948.jpg',\n 'cat.4949.jpg',\n 'cat.4950.jpg',\n 'cat.4951.jpg',\n 'cat.4952.jpg',\n 'cat.4953.jpg',\n 'cat.4954.jpg',\n 'cat.4955.jpg',\n 'cat.4956.jpg',\n 'cat.4957.jpg',\n 'cat.4958.jpg',\n 'cat.4959.jpg',\n 'cat.4960.jpg',\n 'cat.4961.jpg',\n 'cat.4962.jpg',\n 'cat.4963.jpg',\n 'cat.4964.jpg',\n 'cat.4965.jpg',\n 'cat.4966.jpg',\n 'cat.4967.jpg',\n 'cat.4968.jpg',\n 'cat.4969.jpg',\n 'cat.4970.jpg',\n 'cat.4971.jpg',\n 'cat.4972.jpg',\n 'cat.4973.jpg',\n 'cat.4974.jpg',\n 'cat.4975.jpg',\n 'cat.4976.jpg',\n 'cat.4977.jpg',\n 'cat.4978.jpg',\n 'cat.4979.jpg',\n 'cat.4980.jpg',\n 'cat.4981.jpg',\n 'cat.4982.jpg',\n 'cat.4983.jpg',\n 'cat.4984.jpg',\n 'cat.4985.jpg',\n 'cat.4986.jpg',\n 'cat.4987.jpg',\n 'cat.4988.jpg',\n 'cat.4989.jpg',\n ...]"
     },
     "execution_count": 34,
     "metadata": {},
     "output_type": "execute_result"
    }
   ],
   "source": [
    "os.listdir('pr_dataset/val')"
   ],
   "metadata": {
    "collapsed": false,
    "pycharm": {
     "name": "#%%\n"
    }
   }
  },
  {
   "cell_type": "markdown",
   "source": [
    "Обучим с gg19"
   ],
   "metadata": {
    "collapsed": false,
    "pycharm": {
     "name": "#%% md\n"
    }
   }
  },
  {
   "cell_type": "code",
   "execution_count": null,
   "outputs": [],
   "source": [],
   "metadata": {
    "collapsed": false,
    "pycharm": {
     "name": "#%%\n"
    }
   }
  },
  {
   "cell_type": "code",
   "execution_count": 24,
   "outputs": [
    {
     "name": "stdout",
     "output_type": "stream",
     "text": [
      "load checkpoint\n",
      "load checkpoint\n"
     ]
    }
   ],
   "source": [
    "preload = True\n",
    "curr_epoch = 0\n",
    "if preload:\n",
    "        load_checkpoint(generator, gen_optimizer, 2e-4, 'save_models/pix2pix_gen_15.pth')\n",
    "        load_checkpoint(discriminator, disc_optimizer, 2e-4, 'save_models/pix2pix_disc_15.pth')\n",
    "curr_epoch=0"
   ],
   "metadata": {
    "collapsed": false,
    "pycharm": {
     "name": "#%%\n"
    }
   }
  },
  {
   "cell_type": "code",
   "execution_count": 25,
   "outputs": [],
   "source": [
    "generator.eval()\n",
    "for i in os.listdir('pr_dataset/val')[:10]:\n",
    "    save_example(generator, img_path=f'pr_dataset/val/{i}', res_name=f'{i.split(\".\")[0]+i.split(\".\")[1]}')"
   ],
   "metadata": {
    "collapsed": false,
    "pycharm": {
     "name": "#%%\n"
    }
   }
  },
  {
   "cell_type": "code",
   "execution_count": 28,
   "outputs": [
    {
     "name": "stdout",
     "output_type": "stream",
     "text": [
      "epoch_1\n"
     ]
    },
    {
     "name": "stderr",
     "output_type": "stream",
     "text": [
      "100%|██████████| 1000/1000 [12:53<00:00,  1.29it/s]\n"
     ]
    },
    {
     "name": "stdout",
     "output_type": "stream",
     "text": [
      "epoch_2\n"
     ]
    },
    {
     "name": "stderr",
     "output_type": "stream",
     "text": [
      "100%|██████████| 1000/1000 [13:15<00:00,  1.26it/s]\n"
     ]
    },
    {
     "name": "stdout",
     "output_type": "stream",
     "text": [
      "epoch_3\n"
     ]
    },
    {
     "name": "stderr",
     "output_type": "stream",
     "text": [
      "100%|██████████| 1000/1000 [12:32<00:00,  1.33it/s]\n"
     ]
    },
    {
     "name": "stdout",
     "output_type": "stream",
     "text": [
      "epoch_4\n"
     ]
    },
    {
     "name": "stderr",
     "output_type": "stream",
     "text": [
      "100%|██████████| 1000/1000 [12:26<00:00,  1.34it/s]\n"
     ]
    },
    {
     "name": "stdout",
     "output_type": "stream",
     "text": [
      "epoch_5\n"
     ]
    },
    {
     "name": "stderr",
     "output_type": "stream",
     "text": [
      "100%|██████████| 1000/1000 [12:26<00:00,  1.34it/s]\n"
     ]
    },
    {
     "name": "stdout",
     "output_type": "stream",
     "text": [
      "saving checkpoint\n",
      "saving checkpoint\n",
      "epoch_6\n"
     ]
    },
    {
     "name": "stderr",
     "output_type": "stream",
     "text": [
      "100%|██████████| 1000/1000 [12:25<00:00,  1.34it/s]\n"
     ]
    },
    {
     "name": "stdout",
     "output_type": "stream",
     "text": [
      "epoch_7\n"
     ]
    },
    {
     "name": "stderr",
     "output_type": "stream",
     "text": [
      "100%|██████████| 1000/1000 [12:25<00:00,  1.34it/s]\n"
     ]
    },
    {
     "name": "stdout",
     "output_type": "stream",
     "text": [
      "epoch_8\n"
     ]
    },
    {
     "name": "stderr",
     "output_type": "stream",
     "text": [
      "100%|██████████| 1000/1000 [12:24<00:00,  1.34it/s]\n"
     ]
    },
    {
     "name": "stdout",
     "output_type": "stream",
     "text": [
      "epoch_9\n"
     ]
    },
    {
     "name": "stderr",
     "output_type": "stream",
     "text": [
      "100%|██████████| 1000/1000 [12:24<00:00,  1.34it/s]\n"
     ]
    },
    {
     "name": "stdout",
     "output_type": "stream",
     "text": [
      "epoch_10\n"
     ]
    },
    {
     "name": "stderr",
     "output_type": "stream",
     "text": [
      "100%|██████████| 1000/1000 [12:24<00:00,  1.34it/s]\n"
     ]
    },
    {
     "name": "stdout",
     "output_type": "stream",
     "text": [
      "saving checkpoint\n",
      "saving checkpoint\n",
      "epoch_11\n"
     ]
    },
    {
     "name": "stderr",
     "output_type": "stream",
     "text": [
      "100%|██████████| 1000/1000 [12:24<00:00,  1.34it/s]\n"
     ]
    },
    {
     "name": "stdout",
     "output_type": "stream",
     "text": [
      "epoch_12\n"
     ]
    },
    {
     "name": "stderr",
     "output_type": "stream",
     "text": [
      "100%|██████████| 1000/1000 [12:24<00:00,  1.34it/s]\n"
     ]
    },
    {
     "name": "stdout",
     "output_type": "stream",
     "text": [
      "epoch_13\n"
     ]
    },
    {
     "name": "stderr",
     "output_type": "stream",
     "text": [
      "100%|██████████| 1000/1000 [12:25<00:00,  1.34it/s]\n"
     ]
    },
    {
     "name": "stdout",
     "output_type": "stream",
     "text": [
      "epoch_14\n"
     ]
    },
    {
     "name": "stderr",
     "output_type": "stream",
     "text": [
      "100%|██████████| 1000/1000 [12:30<00:00,  1.33it/s]\n"
     ]
    },
    {
     "name": "stdout",
     "output_type": "stream",
     "text": [
      "epoch_15\n"
     ]
    },
    {
     "name": "stderr",
     "output_type": "stream",
     "text": [
      "100%|██████████| 1000/1000 [13:00<00:00,  1.28it/s]\n"
     ]
    },
    {
     "name": "stdout",
     "output_type": "stream",
     "text": [
      "saving checkpoint\n",
      "saving checkpoint\n",
      "epoch_16\n"
     ]
    },
    {
     "name": "stderr",
     "output_type": "stream",
     "text": [
      "  8%|▊         | 75/1000 [01:00<12:23,  1.24it/s]\n"
     ]
    },
    {
     "ename": "KeyboardInterrupt",
     "evalue": "",
     "output_type": "error",
     "traceback": [
      "\u001B[1;31m---------------------------------------------------------------------------\u001B[0m",
      "\u001B[1;31mKeyboardInterrupt\u001B[0m                         Traceback (most recent call last)",
      "Input \u001B[1;32mIn [28]\u001B[0m, in \u001B[0;36m<cell line: 1>\u001B[1;34m()\u001B[0m\n\u001B[0;32m     18\u001B[0m disc_optimizer\u001B[38;5;241m.\u001B[39mstep()\n\u001B[0;32m     21\u001B[0m \u001B[38;5;66;03m### Train Generator\u001B[39;00m\n\u001B[1;32m---> 22\u001B[0m disc_fake \u001B[38;5;241m=\u001B[39m discriminator(image_fake, \u001B[43mbad_image\u001B[49m\u001B[38;5;241;43m.\u001B[39;49m\u001B[43mto\u001B[49m\u001B[43m(\u001B[49m\u001B[43mdevice\u001B[49m\u001B[43m)\u001B[49m)\n\u001B[0;32m     23\u001B[0m mse_loss \u001B[38;5;241m=\u001B[39m mse(image_fake, image\u001B[38;5;241m.\u001B[39mto(device))\n\u001B[0;32m     24\u001B[0m adversarial_loss \u001B[38;5;241m=\u001B[39m bce(disc_fake, torch\u001B[38;5;241m.\u001B[39mones_like(disc_fake)\u001B[38;5;241m.\u001B[39mto(device))\n",
      "\u001B[1;31mKeyboardInterrupt\u001B[0m: "
     ]
    }
   ],
   "source": [
    "for epoch in range(curr_epoch+1, num_epochs):\n",
    "    print(f'epoch_{epoch}')\n",
    "    discriminator.train(True)\n",
    "    generator.train(True)\n",
    "    train_loss = 0\n",
    "    test_loss = 0\n",
    "\n",
    "    for image, bad_image in tqdm(train_dataloader, leave=True):\n",
    "        ### Train discriminator\n",
    "        image_fake = generator(bad_image.to(device))\n",
    "        disc_fake = discriminator(image_fake.detach(), bad_image.to(device))\n",
    "        disc_real = discriminator(image.to(device), bad_image.to(device))\n",
    "\n",
    "        discriminator_loss = 0.5 * (bce(disc_real, torch.ones_like(disc_real)).to(device) +\\\n",
    "                             bce(disc_fake, torch.zeros_like(disc_fake).to(device)))\n",
    "        discriminator.zero_grad()\n",
    "        discriminator_loss.backward()\n",
    "        disc_optimizer.step()\n",
    "\n",
    "\n",
    "        ### Train Generator\n",
    "        disc_fake = discriminator(image_fake, bad_image.to(device))\n",
    "        mse_loss = mse(image_fake, image.to(device))\n",
    "        adversarial_loss = bce(disc_fake, torch.ones_like(disc_fake).to(device))\n",
    "        content_loss = vgg_loss.forward(image_fake.to(device), image.to(device))\n",
    "        generator_loss = 0.006 * content_loss + 1e-3 * adversarial_loss +  mse_loss\n",
    "\n",
    "        generator.zero_grad()\n",
    "        generator_loss.backward()\n",
    "        gen_optimizer.step()\n",
    "\n",
    "    if epoch % 1 == 0:\n",
    "        with torch.no_grad():\n",
    "            generator.eval()\n",
    "            save_example(generator, res_name=f'butterfly_gan_vgg{epoch}')\n",
    "\n",
    "    if epoch % 5 == 0:\n",
    "        save_model_checkpoint(generator, gen_optimizer, epoch, 'save_models/pix2pix_gen_vgg')\n",
    "        save_model_checkpoint(discriminator, disc_optimizer, epoch, 'save_models/pix2pix_disc_vgg')\n",
    "\n"
   ],
   "metadata": {
    "collapsed": false,
    "pycharm": {
     "name": "#%%\n"
    }
   }
  },
  {
   "cell_type": "code",
   "execution_count": 29,
   "outputs": [
    {
     "name": "stdout",
     "output_type": "stream",
     "text": [
      "load checkpoint\n"
     ]
    }
   ],
   "source": [
    "generator2 = Generator().to(device)\n",
    "generator2.eval()\n",
    "load_checkpoint(generator2, gen_optimizer, 2e-4, 'save_models/pix2pix_gen_vgg_15.pth')\n",
    "for i in os.listdir('pr_dataset/val')[:10]:\n",
    "    save_example(generator2, img_path=f'pr_dataset/val/{i}', res_name=f'{i.split(\".\")[0]+i.split(\".\")[1]}')"
   ],
   "metadata": {
    "collapsed": false,
    "pycharm": {
     "name": "#%%\n"
    }
   }
  },
  {
   "cell_type": "code",
   "execution_count": null,
   "outputs": [],
   "source": [],
   "metadata": {
    "collapsed": false,
    "pycharm": {
     "name": "#%%\n"
    }
   }
  },
  {
   "cell_type": "code",
   "execution_count": 76,
   "outputs": [],
   "source": [
    "initial_transform = A.Compose(\n",
    "            [\n",
    "                A.RandomCrop(256, 256)\n",
    "            ]\n",
    "        )\n",
    "\n",
    "transform_bad =  A.Compose(\n",
    "            [\n",
    "                ToTensorV2()\n",
    "            ]\n",
    "        )"
   ],
   "metadata": {
    "collapsed": false,
    "pycharm": {
     "name": "#%%\n"
    }
   }
  },
  {
   "cell_type": "code",
   "execution_count": 77,
   "outputs": [],
   "source": [
    "image = cv2.imread('../finished_dataset/train/dataraw/hires/dt_train_1.jpg')\n",
    "image = cv2.cvtColor(image, cv2.COLOR_BGR2RGB)\n",
    "image = initial_transform(image=image)['image']"
   ],
   "metadata": {
    "collapsed": false,
    "pycharm": {
     "name": "#%%\n"
    }
   }
  },
  {
   "cell_type": "code",
   "execution_count": 81,
   "outputs": [
    {
     "data": {
      "text/plain": "<PIL.Image.Image image mode=P size=256x256>",
      "image/png": "[encoded data removed]"
     },
     "execution_count": 81,
     "metadata": {},
     "output_type": "execute_result"
    }
   ],
   "source": [
    "ttt = Image.fromarray(image).quantize(64)\n",
    "ttt"
   ],
   "metadata": {
    "collapsed": false,
    "pycharm": {
     "name": "#%%\n"
    }
   }
  },
  {
   "cell_type": "code",
   "execution_count": 82,
   "outputs": [
    {
     "data": {
      "text/plain": "<PIL.Image.Image image mode=RGB size=256x256>",
      "image/png": "[encoded data removed]"
     },
     "execution_count": 82,
     "metadata": {},
     "output_type": "execute_result"
    }
   ],
   "source": [
    "Image.fromarray(image)"
   ],
   "metadata": {
    "collapsed": false,
    "pycharm": {
     "name": "#%%\n"
    }
   }
  },
  {
   "cell_type": "code",
   "execution_count": null,
   "outputs": [],
   "source": [],
   "metadata": {
    "collapsed": false,
    "pycharm": {
     "name": "#%%\n"
    }
   }
  }
 ],
 "metadata": {
  "kernelspec": {
   "display_name": "Python 3",
   "language": "python",
   "name": "python3"
  },
  "language_info": {
   "codemirror_mode": {
    "name": "ipython",
    "version": 2
   },
   "file_extension": ".py",
   "mimetype": "text/x-python",
   "name": "python",
   "nbconvert_exporter": "python",
   "pygments_lexer": "ipython2",
   "version": "2.7.6"
  }
 },
 "nbformat": 4,
 "nbformat_minor": 0
}